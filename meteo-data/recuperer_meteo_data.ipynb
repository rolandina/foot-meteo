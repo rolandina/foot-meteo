{
 "cells": [
  {
   "cell_type": "code",
   "execution_count": 1,
   "metadata": {
    "id": "HveVIxOLBl_Z"
   },
   "outputs": [],
   "source": [
    "import glob\n",
    "import numpy as np \n",
    "import pandas as pd \n",
    "from bs4 import BeautifulSoup\n",
    "import requests\n",
    "import matplotlib.pyplot as plt \n",
    "import seaborn as sns "
   ]
  },
  {
   "cell_type": "code",
   "execution_count": 2,
   "metadata": {
    "colab": {
     "base_uri": "https://localhost:8080/"
    },
    "id": "5EEvge5TcYfV",
    "outputId": "69653744-8c0e-46f7-c83e-0e47f314a787"
   },
   "outputs": [
    {
     "name": "stdout",
     "output_type": "stream",
     "text": [
      "<class 'pandas.core.frame.DataFrame'>\n",
      "Int64Index: 16635 entries, 0 to 27\n",
      "Data columns (total 5 columns):\n",
      " #   Column                          Non-Null Count  Dtype  \n",
      "---  ------                          --------------  -----  \n",
      " 0   Jour                            16635 non-null  object \n",
      " 1   Unnamed: 1                      0 non-null      float64\n",
      " 2   Températures et précipitations  16635 non-null  object \n",
      " 3   Avis sur la météo               16635 non-null  object \n",
      " 4   Détails                         16635 non-null  object \n",
      "dtypes: float64(1), object(4)\n",
      "memory usage: 779.8+ KB\n"
     ]
    }
   ],
   "source": [
    "meteo_data = []\n",
    "for infile in glob.glob(\"/content/sample_data/meteo/*.html\"):\n",
    "    data = pd.read_html(infile)[1]\n",
    "    # store DataFrame in list\n",
    "    meteo_data.append(data)\n",
    "# see pd.concat documentation for more info\n",
    "meteo_data = pd.concat(meteo_data)\n",
    "meteo_data.info()"
   ]
  },
  {
   "cell_type": "code",
   "execution_count": 3,
   "metadata": {
    "id": "vLfoSH_2fV9c"
   },
   "outputs": [],
   "source": [
    "df1 = meteo_data[\"Températures et précipitations\"].str.split(expand=True,)"
   ]
  },
  {
   "cell_type": "code",
   "execution_count": 4,
   "metadata": {
    "colab": {
     "base_uri": "https://localhost:8080/",
     "height": 419
    },
    "id": "y7a4jCxhfaWD",
    "outputId": "89664e52-3381-417e-cb8a-f2f5c1d59505"
   },
   "outputs": [
    {
     "data": {
      "text/html": [
       "<div>\n",
       "<style scoped>\n",
       "    .dataframe tbody tr th:only-of-type {\n",
       "        vertical-align: middle;\n",
       "    }\n",
       "\n",
       "    .dataframe tbody tr th {\n",
       "        vertical-align: top;\n",
       "    }\n",
       "\n",
       "    .dataframe thead th {\n",
       "        text-align: right;\n",
       "    }\n",
       "</style>\n",
       "<table border=\"1\" class=\"dataframe\">\n",
       "  <thead>\n",
       "    <tr style=\"text-align: right;\">\n",
       "      <th></th>\n",
       "      <th>0</th>\n",
       "      <th>1</th>\n",
       "      <th>2</th>\n",
       "      <th>3</th>\n",
       "      <th>4</th>\n",
       "    </tr>\n",
       "  </thead>\n",
       "  <tbody>\n",
       "    <tr>\n",
       "      <th>0</th>\n",
       "      <td>Températures</td>\n",
       "      <td>:</td>\n",
       "      <td>15°C/21°CPrécipitations</td>\n",
       "      <td>:</td>\n",
       "      <td>0mm</td>\n",
       "    </tr>\n",
       "    <tr>\n",
       "      <th>1</th>\n",
       "      <td>Températures</td>\n",
       "      <td>:</td>\n",
       "      <td>18°C/20°CPrécipitations</td>\n",
       "      <td>:</td>\n",
       "      <td>0mm</td>\n",
       "    </tr>\n",
       "    <tr>\n",
       "      <th>2</th>\n",
       "      <td>Températures</td>\n",
       "      <td>:</td>\n",
       "      <td>17°C/19°CPrécipitations</td>\n",
       "      <td>:</td>\n",
       "      <td>0mm</td>\n",
       "    </tr>\n",
       "    <tr>\n",
       "      <th>3</th>\n",
       "      <td>Températures</td>\n",
       "      <td>:</td>\n",
       "      <td>12°C/18°CPrécipitations</td>\n",
       "      <td>:</td>\n",
       "      <td>0mm</td>\n",
       "    </tr>\n",
       "    <tr>\n",
       "      <th>4</th>\n",
       "      <td>Températures</td>\n",
       "      <td>:</td>\n",
       "      <td>17°C/18°CPrécipitations</td>\n",
       "      <td>:</td>\n",
       "      <td>0mm</td>\n",
       "    </tr>\n",
       "    <tr>\n",
       "      <th>...</th>\n",
       "      <td>...</td>\n",
       "      <td>...</td>\n",
       "      <td>...</td>\n",
       "      <td>...</td>\n",
       "      <td>...</td>\n",
       "    </tr>\n",
       "    <tr>\n",
       "      <th>23</th>\n",
       "      <td>Températures</td>\n",
       "      <td>:</td>\n",
       "      <td>11°C/15°CPrécipitations</td>\n",
       "      <td>:</td>\n",
       "      <td>0mm</td>\n",
       "    </tr>\n",
       "    <tr>\n",
       "      <th>24</th>\n",
       "      <td>Températures</td>\n",
       "      <td>:</td>\n",
       "      <td>11°C/17°CPrécipitations</td>\n",
       "      <td>:</td>\n",
       "      <td>0mm</td>\n",
       "    </tr>\n",
       "    <tr>\n",
       "      <th>25</th>\n",
       "      <td>Températures</td>\n",
       "      <td>:</td>\n",
       "      <td>12°C/21°CPrécipitations</td>\n",
       "      <td>:</td>\n",
       "      <td>0mm</td>\n",
       "    </tr>\n",
       "    <tr>\n",
       "      <th>26</th>\n",
       "      <td>Températures</td>\n",
       "      <td>:</td>\n",
       "      <td>12°C/21°CPrécipitations</td>\n",
       "      <td>:</td>\n",
       "      <td>0mm</td>\n",
       "    </tr>\n",
       "    <tr>\n",
       "      <th>27</th>\n",
       "      <td>Températures</td>\n",
       "      <td>:</td>\n",
       "      <td>13°C/22°CPrécipitations</td>\n",
       "      <td>:</td>\n",
       "      <td>0mm</td>\n",
       "    </tr>\n",
       "  </tbody>\n",
       "</table>\n",
       "<p>16635 rows × 5 columns</p>\n",
       "</div>"
      ],
      "text/plain": [
       "               0  1                        2  3    4\n",
       "0   Températures  :  15°C/21°CPrécipitations  :  0mm\n",
       "1   Températures  :  18°C/20°CPrécipitations  :  0mm\n",
       "2   Températures  :  17°C/19°CPrécipitations  :  0mm\n",
       "3   Températures  :  12°C/18°CPrécipitations  :  0mm\n",
       "4   Températures  :  17°C/18°CPrécipitations  :  0mm\n",
       "..           ... ..                      ... ..  ...\n",
       "23  Températures  :  11°C/15°CPrécipitations  :  0mm\n",
       "24  Températures  :  11°C/17°CPrécipitations  :  0mm\n",
       "25  Températures  :  12°C/21°CPrécipitations  :  0mm\n",
       "26  Températures  :  12°C/21°CPrécipitations  :  0mm\n",
       "27  Températures  :  13°C/22°CPrécipitations  :  0mm\n",
       "\n",
       "[16635 rows x 5 columns]"
      ]
     },
     "execution_count": 4,
     "metadata": {
      "tags": []
     },
     "output_type": "execute_result"
    }
   ],
   "source": [
    "df1"
   ]
  },
  {
   "cell_type": "code",
   "execution_count": 5,
   "metadata": {
    "colab": {
     "base_uri": "https://localhost:8080/"
    },
    "id": "SG-XWgnifcEG",
    "outputId": "05b24a75-64be-4722-a6f2-04f293d823bb"
   },
   "outputs": [
    {
     "data": {
      "text/plain": [
       "0     0\n",
       "1     0\n",
       "2     0\n",
       "3     0\n",
       "4     0\n",
       "     ..\n",
       "23    0\n",
       "24    0\n",
       "25    0\n",
       "26    0\n",
       "27    0\n",
       "Name: 0, Length: 16635, dtype: object"
      ]
     },
     "execution_count": 5,
     "metadata": {
      "tags": []
     },
     "output_type": "execute_result"
    }
   ],
   "source": [
    "df_precipitations = df1[4].str.split('mm', expand=True,)\n",
    "P = df_precipitations[0]\n",
    "P"
   ]
  },
  {
   "cell_type": "code",
   "execution_count": 6,
   "metadata": {
    "colab": {
     "base_uri": "https://localhost:8080/"
    },
    "id": "FRkqLFa9fqIz",
    "outputId": "55967910-412c-4a29-c45f-a221d06f3414"
   },
   "outputs": [
    {
     "data": {
      "text/plain": [
       "0     15°C/21°CPrécipitations\n",
       "1     18°C/20°CPrécipitations\n",
       "2     17°C/19°CPrécipitations\n",
       "3     12°C/18°CPrécipitations\n",
       "4     17°C/18°CPrécipitations\n",
       "               ...           \n",
       "23    11°C/15°CPrécipitations\n",
       "24    11°C/17°CPrécipitations\n",
       "25    12°C/21°CPrécipitations\n",
       "26    12°C/21°CPrécipitations\n",
       "27    13°C/22°CPrécipitations\n",
       "Name: 2, Length: 16635, dtype: object"
      ]
     },
     "execution_count": 6,
     "metadata": {
      "tags": []
     },
     "output_type": "execute_result"
    }
   ],
   "source": [
    "df1[2]"
   ]
  },
  {
   "cell_type": "code",
   "execution_count": 7,
   "metadata": {
    "id": "iC5PlQ4ns7vH"
   },
   "outputs": [],
   "source": [
    "df_temperatures = df1[2].str.split('Précipitations', expand=True,)"
   ]
  },
  {
   "cell_type": "code",
   "execution_count": 8,
   "metadata": {
    "colab": {
     "base_uri": "https://localhost:8080/",
     "height": 419
    },
    "id": "QlAo5Xd6s7pU",
    "outputId": "8f8ad164-f7fa-4364-abfb-6f0fa6111cfb"
   },
   "outputs": [
    {
     "data": {
      "text/html": [
       "<div>\n",
       "<style scoped>\n",
       "    .dataframe tbody tr th:only-of-type {\n",
       "        vertical-align: middle;\n",
       "    }\n",
       "\n",
       "    .dataframe tbody tr th {\n",
       "        vertical-align: top;\n",
       "    }\n",
       "\n",
       "    .dataframe thead th {\n",
       "        text-align: right;\n",
       "    }\n",
       "</style>\n",
       "<table border=\"1\" class=\"dataframe\">\n",
       "  <thead>\n",
       "    <tr style=\"text-align: right;\">\n",
       "      <th></th>\n",
       "      <th>0</th>\n",
       "      <th>1</th>\n",
       "    </tr>\n",
       "  </thead>\n",
       "  <tbody>\n",
       "    <tr>\n",
       "      <th>0</th>\n",
       "      <td>15°C</td>\n",
       "      <td>21°C</td>\n",
       "    </tr>\n",
       "    <tr>\n",
       "      <th>1</th>\n",
       "      <td>18°C</td>\n",
       "      <td>20°C</td>\n",
       "    </tr>\n",
       "    <tr>\n",
       "      <th>2</th>\n",
       "      <td>17°C</td>\n",
       "      <td>19°C</td>\n",
       "    </tr>\n",
       "    <tr>\n",
       "      <th>3</th>\n",
       "      <td>12°C</td>\n",
       "      <td>18°C</td>\n",
       "    </tr>\n",
       "    <tr>\n",
       "      <th>4</th>\n",
       "      <td>17°C</td>\n",
       "      <td>18°C</td>\n",
       "    </tr>\n",
       "    <tr>\n",
       "      <th>...</th>\n",
       "      <td>...</td>\n",
       "      <td>...</td>\n",
       "    </tr>\n",
       "    <tr>\n",
       "      <th>23</th>\n",
       "      <td>11°C</td>\n",
       "      <td>15°C</td>\n",
       "    </tr>\n",
       "    <tr>\n",
       "      <th>24</th>\n",
       "      <td>11°C</td>\n",
       "      <td>17°C</td>\n",
       "    </tr>\n",
       "    <tr>\n",
       "      <th>25</th>\n",
       "      <td>12°C</td>\n",
       "      <td>21°C</td>\n",
       "    </tr>\n",
       "    <tr>\n",
       "      <th>26</th>\n",
       "      <td>12°C</td>\n",
       "      <td>21°C</td>\n",
       "    </tr>\n",
       "    <tr>\n",
       "      <th>27</th>\n",
       "      <td>13°C</td>\n",
       "      <td>22°C</td>\n",
       "    </tr>\n",
       "  </tbody>\n",
       "</table>\n",
       "<p>16635 rows × 2 columns</p>\n",
       "</div>"
      ],
      "text/plain": [
       "       0     1\n",
       "0   15°C  21°C\n",
       "1   18°C  20°C\n",
       "2   17°C  19°C\n",
       "3   12°C  18°C\n",
       "4   17°C  18°C\n",
       "..   ...   ...\n",
       "23  11°C  15°C\n",
       "24  11°C  17°C\n",
       "25  12°C  21°C\n",
       "26  12°C  21°C\n",
       "27  13°C  22°C\n",
       "\n",
       "[16635 rows x 2 columns]"
      ]
     },
     "execution_count": 8,
     "metadata": {
      "tags": []
     },
     "output_type": "execute_result"
    }
   ],
   "source": [
    "temperatures = df_temperatures[0].str.split('/', expand=True,)\n",
    "temperatures"
   ]
  },
  {
   "cell_type": "code",
   "execution_count": 9,
   "metadata": {
    "colab": {
     "base_uri": "https://localhost:8080/",
     "height": 419
    },
    "id": "GKRWqC5Os7nJ",
    "outputId": "57cefe62-cc79-4175-e413-614eecbab8eb"
   },
   "outputs": [
    {
     "data": {
      "text/html": [
       "<div>\n",
       "<style scoped>\n",
       "    .dataframe tbody tr th:only-of-type {\n",
       "        vertical-align: middle;\n",
       "    }\n",
       "\n",
       "    .dataframe tbody tr th {\n",
       "        vertical-align: top;\n",
       "    }\n",
       "\n",
       "    .dataframe thead th {\n",
       "        text-align: right;\n",
       "    }\n",
       "</style>\n",
       "<table border=\"1\" class=\"dataframe\">\n",
       "  <thead>\n",
       "    <tr style=\"text-align: right;\">\n",
       "      <th></th>\n",
       "      <th>0</th>\n",
       "      <th>1</th>\n",
       "    </tr>\n",
       "  </thead>\n",
       "  <tbody>\n",
       "    <tr>\n",
       "      <th>0</th>\n",
       "      <td>15</td>\n",
       "      <td>C</td>\n",
       "    </tr>\n",
       "    <tr>\n",
       "      <th>1</th>\n",
       "      <td>18</td>\n",
       "      <td>C</td>\n",
       "    </tr>\n",
       "    <tr>\n",
       "      <th>2</th>\n",
       "      <td>17</td>\n",
       "      <td>C</td>\n",
       "    </tr>\n",
       "    <tr>\n",
       "      <th>3</th>\n",
       "      <td>12</td>\n",
       "      <td>C</td>\n",
       "    </tr>\n",
       "    <tr>\n",
       "      <th>4</th>\n",
       "      <td>17</td>\n",
       "      <td>C</td>\n",
       "    </tr>\n",
       "    <tr>\n",
       "      <th>...</th>\n",
       "      <td>...</td>\n",
       "      <td>...</td>\n",
       "    </tr>\n",
       "    <tr>\n",
       "      <th>23</th>\n",
       "      <td>11</td>\n",
       "      <td>C</td>\n",
       "    </tr>\n",
       "    <tr>\n",
       "      <th>24</th>\n",
       "      <td>11</td>\n",
       "      <td>C</td>\n",
       "    </tr>\n",
       "    <tr>\n",
       "      <th>25</th>\n",
       "      <td>12</td>\n",
       "      <td>C</td>\n",
       "    </tr>\n",
       "    <tr>\n",
       "      <th>26</th>\n",
       "      <td>12</td>\n",
       "      <td>C</td>\n",
       "    </tr>\n",
       "    <tr>\n",
       "      <th>27</th>\n",
       "      <td>13</td>\n",
       "      <td>C</td>\n",
       "    </tr>\n",
       "  </tbody>\n",
       "</table>\n",
       "<p>16635 rows × 2 columns</p>\n",
       "</div>"
      ],
      "text/plain": [
       "     0  1\n",
       "0   15  C\n",
       "1   18  C\n",
       "2   17  C\n",
       "3   12  C\n",
       "4   17  C\n",
       "..  .. ..\n",
       "23  11  C\n",
       "24  11  C\n",
       "25  12  C\n",
       "26  12  C\n",
       "27  13  C\n",
       "\n",
       "[16635 rows x 2 columns]"
      ]
     },
     "execution_count": 9,
     "metadata": {
      "tags": []
     },
     "output_type": "execute_result"
    }
   ],
   "source": [
    "T_1 = temperatures[0].str.split('°', expand=True,)\n",
    "T_1"
   ]
  },
  {
   "cell_type": "code",
   "execution_count": 10,
   "metadata": {
    "colab": {
     "base_uri": "https://localhost:8080/"
    },
    "id": "6Of7tyX-s7je",
    "outputId": "2ff89303-d812-4786-b711-33a547a93b17"
   },
   "outputs": [
    {
     "data": {
      "text/plain": [
       "0     15\n",
       "1     18\n",
       "2     17\n",
       "3     12\n",
       "4     17\n",
       "      ..\n",
       "23    11\n",
       "24    11\n",
       "25    12\n",
       "26    12\n",
       "27    13\n",
       "Name: 0, Length: 16635, dtype: object"
      ]
     },
     "execution_count": 10,
     "metadata": {
      "tags": []
     },
     "output_type": "execute_result"
    }
   ],
   "source": [
    "T1 = T_1[0]\n",
    "T1"
   ]
  },
  {
   "cell_type": "code",
   "execution_count": 11,
   "metadata": {
    "colab": {
     "base_uri": "https://localhost:8080/",
     "height": 419
    },
    "id": "xP9CCwNTs7hN",
    "outputId": "24e98a81-fc35-45f5-99ac-02e0a9c1f486"
   },
   "outputs": [
    {
     "data": {
      "text/html": [
       "<div>\n",
       "<style scoped>\n",
       "    .dataframe tbody tr th:only-of-type {\n",
       "        vertical-align: middle;\n",
       "    }\n",
       "\n",
       "    .dataframe tbody tr th {\n",
       "        vertical-align: top;\n",
       "    }\n",
       "\n",
       "    .dataframe thead th {\n",
       "        text-align: right;\n",
       "    }\n",
       "</style>\n",
       "<table border=\"1\" class=\"dataframe\">\n",
       "  <thead>\n",
       "    <tr style=\"text-align: right;\">\n",
       "      <th></th>\n",
       "      <th>0</th>\n",
       "      <th>1</th>\n",
       "    </tr>\n",
       "  </thead>\n",
       "  <tbody>\n",
       "    <tr>\n",
       "      <th>0</th>\n",
       "      <td>21</td>\n",
       "      <td>C</td>\n",
       "    </tr>\n",
       "    <tr>\n",
       "      <th>1</th>\n",
       "      <td>20</td>\n",
       "      <td>C</td>\n",
       "    </tr>\n",
       "    <tr>\n",
       "      <th>2</th>\n",
       "      <td>19</td>\n",
       "      <td>C</td>\n",
       "    </tr>\n",
       "    <tr>\n",
       "      <th>3</th>\n",
       "      <td>18</td>\n",
       "      <td>C</td>\n",
       "    </tr>\n",
       "    <tr>\n",
       "      <th>4</th>\n",
       "      <td>18</td>\n",
       "      <td>C</td>\n",
       "    </tr>\n",
       "    <tr>\n",
       "      <th>...</th>\n",
       "      <td>...</td>\n",
       "      <td>...</td>\n",
       "    </tr>\n",
       "    <tr>\n",
       "      <th>23</th>\n",
       "      <td>15</td>\n",
       "      <td>C</td>\n",
       "    </tr>\n",
       "    <tr>\n",
       "      <th>24</th>\n",
       "      <td>17</td>\n",
       "      <td>C</td>\n",
       "    </tr>\n",
       "    <tr>\n",
       "      <th>25</th>\n",
       "      <td>21</td>\n",
       "      <td>C</td>\n",
       "    </tr>\n",
       "    <tr>\n",
       "      <th>26</th>\n",
       "      <td>21</td>\n",
       "      <td>C</td>\n",
       "    </tr>\n",
       "    <tr>\n",
       "      <th>27</th>\n",
       "      <td>22</td>\n",
       "      <td>C</td>\n",
       "    </tr>\n",
       "  </tbody>\n",
       "</table>\n",
       "<p>16635 rows × 2 columns</p>\n",
       "</div>"
      ],
      "text/plain": [
       "     0  1\n",
       "0   21  C\n",
       "1   20  C\n",
       "2   19  C\n",
       "3   18  C\n",
       "4   18  C\n",
       "..  .. ..\n",
       "23  15  C\n",
       "24  17  C\n",
       "25  21  C\n",
       "26  21  C\n",
       "27  22  C\n",
       "\n",
       "[16635 rows x 2 columns]"
      ]
     },
     "execution_count": 11,
     "metadata": {
      "tags": []
     },
     "output_type": "execute_result"
    }
   ],
   "source": [
    "T_2 = temperatures[1].str.split('°', expand=True,)\n",
    "T_2"
   ]
  },
  {
   "cell_type": "code",
   "execution_count": 12,
   "metadata": {
    "colab": {
     "base_uri": "https://localhost:8080/"
    },
    "id": "k4zL_njcs7fO",
    "outputId": "cf7c7d89-17e4-437f-a7c9-53fc88624955"
   },
   "outputs": [
    {
     "data": {
      "text/plain": [
       "0     21\n",
       "1     20\n",
       "2     19\n",
       "3     18\n",
       "4     18\n",
       "      ..\n",
       "23    15\n",
       "24    17\n",
       "25    21\n",
       "26    21\n",
       "27    22\n",
       "Name: 0, Length: 16635, dtype: object"
      ]
     },
     "execution_count": 12,
     "metadata": {
      "tags": []
     },
     "output_type": "execute_result"
    }
   ],
   "source": [
    "T2 = T_2[0]\n",
    "T2"
   ]
  },
  {
   "cell_type": "code",
   "execution_count": 13,
   "metadata": {
    "id": "BdCWwXYFBzEE"
   },
   "outputs": [],
   "source": [
    "meteo_data[\"temperatures1\"]=T1\n",
    "meteo_data[\"temperatures2\"]=T2"
   ]
  },
  {
   "cell_type": "code",
   "execution_count": 14,
   "metadata": {
    "id": "0JKVTCAqBaz9"
   },
   "outputs": [],
   "source": [
    "meteo_data[\"precipitations\"]=P"
   ]
  },
  {
   "cell_type": "code",
   "execution_count": 15,
   "metadata": {
    "colab": {
     "base_uri": "https://localhost:8080/"
    },
    "id": "dXpzU312BlbJ",
    "outputId": "4b42a62e-a3eb-463d-8783-ace7050c5a4f"
   },
   "outputs": [
    {
     "data": {
      "text/plain": [
       "0    0\n",
       "1    0\n",
       "2    0\n",
       "3    0\n",
       "4    0\n",
       "Name: precipitations, dtype: object"
      ]
     },
     "execution_count": 15,
     "metadata": {
      "tags": []
     },
     "output_type": "execute_result"
    }
   ],
   "source": [
    "meteo_data[\"precipitations\"].head()"
   ]
  },
  {
   "cell_type": "code",
   "execution_count": 16,
   "metadata": {
    "id": "BccApgszDExR"
   },
   "outputs": [],
   "source": [
    "meteo_data[\"date\"] = meteo_data[\"Jour\"]\n",
    "meteo_data[\"Avis\"] = meteo_data[\"Avis sur la météo\"]"
   ]
  },
  {
   "cell_type": "code",
   "execution_count": 17,
   "metadata": {
    "id": "g11qSlqvB95Q"
   },
   "outputs": [],
   "source": [
    "meteo_data = meteo_data.drop(columns=[\"Jour\", \"Avis sur la météo\", \"Unnamed: 1\",\"Températures et précipitations\",\"Détails\"])"
   ]
  },
  {
   "cell_type": "code",
   "execution_count": 18,
   "metadata": {
    "colab": {
     "base_uri": "https://localhost:8080/",
     "height": 419
    },
    "id": "Bqmps02TC8om",
    "outputId": "93314548-4005-4948-b2d4-5c9f4092247e"
   },
   "outputs": [
    {
     "data": {
      "text/html": [
       "<div>\n",
       "<style scoped>\n",
       "    .dataframe tbody tr th:only-of-type {\n",
       "        vertical-align: middle;\n",
       "    }\n",
       "\n",
       "    .dataframe tbody tr th {\n",
       "        vertical-align: top;\n",
       "    }\n",
       "\n",
       "    .dataframe thead th {\n",
       "        text-align: right;\n",
       "    }\n",
       "</style>\n",
       "<table border=\"1\" class=\"dataframe\">\n",
       "  <thead>\n",
       "    <tr style=\"text-align: right;\">\n",
       "      <th></th>\n",
       "      <th>date</th>\n",
       "      <th>temperatures1</th>\n",
       "      <th>temperatures2</th>\n",
       "      <th>precipitations</th>\n",
       "      <th>Avis</th>\n",
       "    </tr>\n",
       "  </thead>\n",
       "  <tbody>\n",
       "    <tr>\n",
       "      <th>0</th>\n",
       "      <td>01/05/2020</td>\n",
       "      <td>15</td>\n",
       "      <td>21</td>\n",
       "      <td>0</td>\n",
       "      <td>favorable</td>\n",
       "    </tr>\n",
       "    <tr>\n",
       "      <th>1</th>\n",
       "      <td>02/05/2020</td>\n",
       "      <td>18</td>\n",
       "      <td>20</td>\n",
       "      <td>0</td>\n",
       "      <td>favorable</td>\n",
       "    </tr>\n",
       "    <tr>\n",
       "      <th>2</th>\n",
       "      <td>03/05/2020</td>\n",
       "      <td>17</td>\n",
       "      <td>19</td>\n",
       "      <td>0</td>\n",
       "      <td>favorable</td>\n",
       "    </tr>\n",
       "    <tr>\n",
       "      <th>3</th>\n",
       "      <td>04/05/2020</td>\n",
       "      <td>12</td>\n",
       "      <td>18</td>\n",
       "      <td>0</td>\n",
       "      <td>favorable</td>\n",
       "    </tr>\n",
       "    <tr>\n",
       "      <th>4</th>\n",
       "      <td>05/05/2020</td>\n",
       "      <td>17</td>\n",
       "      <td>18</td>\n",
       "      <td>0</td>\n",
       "      <td>favorable</td>\n",
       "    </tr>\n",
       "    <tr>\n",
       "      <th>...</th>\n",
       "      <td>...</td>\n",
       "      <td>...</td>\n",
       "      <td>...</td>\n",
       "      <td>...</td>\n",
       "      <td>...</td>\n",
       "    </tr>\n",
       "    <tr>\n",
       "      <th>23</th>\n",
       "      <td>24/02/2019</td>\n",
       "      <td>11</td>\n",
       "      <td>15</td>\n",
       "      <td>0</td>\n",
       "      <td>correct</td>\n",
       "    </tr>\n",
       "    <tr>\n",
       "      <th>24</th>\n",
       "      <td>25/02/2019</td>\n",
       "      <td>11</td>\n",
       "      <td>17</td>\n",
       "      <td>0</td>\n",
       "      <td>correct</td>\n",
       "    </tr>\n",
       "    <tr>\n",
       "      <th>25</th>\n",
       "      <td>26/02/2019</td>\n",
       "      <td>12</td>\n",
       "      <td>21</td>\n",
       "      <td>0</td>\n",
       "      <td>favorable</td>\n",
       "    </tr>\n",
       "    <tr>\n",
       "      <th>26</th>\n",
       "      <td>27/02/2019</td>\n",
       "      <td>12</td>\n",
       "      <td>21</td>\n",
       "      <td>0</td>\n",
       "      <td>favorable</td>\n",
       "    </tr>\n",
       "    <tr>\n",
       "      <th>27</th>\n",
       "      <td>28/02/2019</td>\n",
       "      <td>13</td>\n",
       "      <td>22</td>\n",
       "      <td>0</td>\n",
       "      <td>favorable</td>\n",
       "    </tr>\n",
       "  </tbody>\n",
       "</table>\n",
       "<p>16635 rows × 5 columns</p>\n",
       "</div>"
      ],
      "text/plain": [
       "          date temperatures1 temperatures2 precipitations       Avis\n",
       "0   01/05/2020            15            21              0  favorable\n",
       "1   02/05/2020            18            20              0  favorable\n",
       "2   03/05/2020            17            19              0  favorable\n",
       "3   04/05/2020            12            18              0  favorable\n",
       "4   05/05/2020            17            18              0  favorable\n",
       "..         ...           ...           ...            ...        ...\n",
       "23  24/02/2019            11            15              0    correct\n",
       "24  25/02/2019            11            17              0    correct\n",
       "25  26/02/2019            12            21              0  favorable\n",
       "26  27/02/2019            12            21              0  favorable\n",
       "27  28/02/2019            13            22              0  favorable\n",
       "\n",
       "[16635 rows x 5 columns]"
      ]
     },
     "execution_count": 18,
     "metadata": {
      "tags": []
     },
     "output_type": "execute_result"
    }
   ],
   "source": [
    "meteo_data = meteo_data[[\"date\", \"temperatures1\", \"temperatures2\", \"precipitations\", \"Avis\"]]\n",
    "meteo_data"
   ]
  },
  {
   "cell_type": "code",
   "execution_count": 19,
   "metadata": {
    "id": "03VUm_Opi0S1"
   },
   "outputs": [],
   "source": [
    "meteo_data.to_csv(\"/content/sample_data/meteo/meteo_data.csv\")"
   ]
  }
 ],
 "metadata": {
  "colab": {
   "name": "recuperer-meteo-data.ipynb",
   "provenance": []
  },
  "kernelspec": {
   "display_name": "Python 3",
   "language": "python",
   "name": "python3"
  },
  "language_info": {
   "codemirror_mode": {
    "name": "ipython",
    "version": 3
   },
   "file_extension": ".py",
   "mimetype": "text/x-python",
   "name": "python",
   "nbconvert_exporter": "python",
   "pygments_lexer": "ipython3",
   "version": "3.8.5"
  },
  "toc": {
   "base_numbering": 1,
   "nav_menu": {},
   "number_sections": true,
   "sideBar": true,
   "skip_h1_title": false,
   "title_cell": "Table of Contents",
   "title_sidebar": "Contents",
   "toc_cell": false,
   "toc_position": {},
   "toc_section_display": true,
   "toc_window_display": false
  }
 },
 "nbformat": 4,
 "nbformat_minor": 1
}
