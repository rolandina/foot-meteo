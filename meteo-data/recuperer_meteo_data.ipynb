{
  "nbformat": 4,
  "nbformat_minor": 0,
  "metadata": {
    "colab": {
      "name": "recuperer-meteo-data.ipynb",
      "provenance": []
    },
    "kernelspec": {
      "name": "python3",
      "display_name": "Python 3"
    },
    "language_info": {
      "name": "python"
    }
  },
  "cells": [
    {
      "cell_type": "code",
      "metadata": {
        "id": "HveVIxOLBl_Z"
      },
      "source": [
        "import glob\n",
        "import numpy as np \n",
        "import pandas as pd \n",
        "from bs4 import BeautifulSoup\n",
        "import requests\n",
        "import matplotlib.pyplot as plt \n",
        "import seaborn as sns "
      ],
      "execution_count": 1,
      "outputs": []
    },
    {
      "cell_type": "code",
      "metadata": {
        "colab": {
          "base_uri": "https://localhost:8080/"
        },
        "id": "5EEvge5TcYfV",
        "outputId": "0f908b0f-c6c8-4f26-921b-a33f54aed18b"
      },
      "source": [
        "meteo_data = []\n",
        "for infile in glob.glob(\"/content/sample_data/meteo/*.html\"):\n",
        "    data = pd.read_html(infile)[1]\n",
        "    # store DataFrame in list\n",
        "    meteo_data.append(data)\n",
        "# see pd.concat documentation for more info\n",
        "meteo_data = pd.concat(meteo_data)\n",
        "meteo_data.info()"
      ],
      "execution_count": 2,
      "outputs": [
        {
          "output_type": "stream",
          "text": [
            "<class 'pandas.core.frame.DataFrame'>\n",
            "Int64Index: 16635 entries, 0 to 30\n",
            "Data columns (total 5 columns):\n",
            " #   Column                          Non-Null Count  Dtype  \n",
            "---  ------                          --------------  -----  \n",
            " 0   Jour                            16635 non-null  object \n",
            " 1   Unnamed: 1                      0 non-null      float64\n",
            " 2   Températures et précipitations  16635 non-null  object \n",
            " 3   Avis sur la météo               16635 non-null  object \n",
            " 4   Détails                         16635 non-null  object \n",
            "dtypes: float64(1), object(4)\n",
            "memory usage: 779.8+ KB\n"
          ],
          "name": "stdout"
        }
      ]
    },
    {
      "cell_type": "code",
      "metadata": {
        "colab": {
          "base_uri": "https://localhost:8080/"
        },
        "id": "3QGbB9evYLtb",
        "outputId": "fd73d391-3cc6-4dfd-e8e9-b4ac53a64ed1"
      },
      "source": [
        "meteo_data.keys()"
      ],
      "execution_count": 3,
      "outputs": [
        {
          "output_type": "execute_result",
          "data": {
            "text/plain": [
              "Index(['Jour', 'Unnamed: 1', 'Températures et précipitations',\n",
              "       'Avis sur la météo', 'Détails'],\n",
              "      dtype='object')"
            ]
          },
          "metadata": {
            "tags": []
          },
          "execution_count": 3
        }
      ]
    },
    {
      "cell_type": "code",
      "metadata": {
        "colab": {
          "base_uri": "https://localhost:8080/"
        },
        "id": "7fqi1C9mYzGn",
        "outputId": "cfcc086f-06bb-4add-b425-a61567a0dddb"
      },
      "source": [
        "meteo_data[\"Détails\"]"
      ],
      "execution_count": 4,
      "outputs": [
        {
          "output_type": "execute_result",
          "data": {
            "text/plain": [
              "0     Météo à Brest (Finistère) le 01/02/2021\n",
              "1     Météo à Brest (Finistère) le 02/02/2021\n",
              "2     Météo à Brest (Finistère) le 03/02/2021\n",
              "3     Météo à Brest (Finistère) le 04/02/2021\n",
              "4     Météo à Brest (Finistère) le 05/02/2021\n",
              "                       ...                   \n",
              "26                Météo à Paris le 27/12/2020\n",
              "27                Météo à Paris le 28/12/2020\n",
              "28                Météo à Paris le 29/12/2020\n",
              "29                Météo à Paris le 30/12/2020\n",
              "30                Météo à Paris le 31/12/2020\n",
              "Name: Détails, Length: 16635, dtype: object"
            ]
          },
          "metadata": {
            "tags": []
          },
          "execution_count": 4
        }
      ]
    },
    {
      "cell_type": "code",
      "metadata": {
        "colab": {
          "base_uri": "https://localhost:8080/"
        },
        "id": "-pV8ym89Y7f_",
        "outputId": "b886091d-cbd2-4f9f-8cb0-9342c6b9f3f4"
      },
      "source": [
        "detail = meteo_data[\"Détails\"].str.split(expand=True,)\n",
        "detail[2]"
      ],
      "execution_count": 5,
      "outputs": [
        {
          "output_type": "execute_result",
          "data": {
            "text/plain": [
              "0     Brest\n",
              "1     Brest\n",
              "2     Brest\n",
              "3     Brest\n",
              "4     Brest\n",
              "      ...  \n",
              "26    Paris\n",
              "27    Paris\n",
              "28    Paris\n",
              "29    Paris\n",
              "30    Paris\n",
              "Name: 2, Length: 16635, dtype: object"
            ]
          },
          "metadata": {
            "tags": []
          },
          "execution_count": 5
        }
      ]
    },
    {
      "cell_type": "code",
      "metadata": {
        "id": "vLfoSH_2fV9c"
      },
      "source": [
        "df1 = meteo_data[\"Températures et précipitations\"].str.split(expand=True,)"
      ],
      "execution_count": 6,
      "outputs": []
    },
    {
      "cell_type": "code",
      "metadata": {
        "colab": {
          "base_uri": "https://localhost:8080/",
          "height": 419
        },
        "id": "y7a4jCxhfaWD",
        "outputId": "fa9dbcf5-dbdc-445f-a34d-984316982ad4"
      },
      "source": [
        "df1"
      ],
      "execution_count": 7,
      "outputs": [
        {
          "output_type": "execute_result",
          "data": {
            "text/html": [
              "<div>\n",
              "<style scoped>\n",
              "    .dataframe tbody tr th:only-of-type {\n",
              "        vertical-align: middle;\n",
              "    }\n",
              "\n",
              "    .dataframe tbody tr th {\n",
              "        vertical-align: top;\n",
              "    }\n",
              "\n",
              "    .dataframe thead th {\n",
              "        text-align: right;\n",
              "    }\n",
              "</style>\n",
              "<table border=\"1\" class=\"dataframe\">\n",
              "  <thead>\n",
              "    <tr style=\"text-align: right;\">\n",
              "      <th></th>\n",
              "      <th>0</th>\n",
              "      <th>1</th>\n",
              "      <th>2</th>\n",
              "      <th>3</th>\n",
              "      <th>4</th>\n",
              "    </tr>\n",
              "  </thead>\n",
              "  <tbody>\n",
              "    <tr>\n",
              "      <th>0</th>\n",
              "      <td>Températures</td>\n",
              "      <td>:</td>\n",
              "      <td>7°C/11°CPrécipitations</td>\n",
              "      <td>:</td>\n",
              "      <td>4.9mm</td>\n",
              "    </tr>\n",
              "    <tr>\n",
              "      <th>1</th>\n",
              "      <td>Températures</td>\n",
              "      <td>:</td>\n",
              "      <td>9°C/12°CPrécipitations</td>\n",
              "      <td>:</td>\n",
              "      <td>3.3mm</td>\n",
              "    </tr>\n",
              "    <tr>\n",
              "      <th>2</th>\n",
              "      <td>Températures</td>\n",
              "      <td>:</td>\n",
              "      <td>8°C/10°CPrécipitations</td>\n",
              "      <td>:</td>\n",
              "      <td>29mm</td>\n",
              "    </tr>\n",
              "    <tr>\n",
              "      <th>3</th>\n",
              "      <td>Températures</td>\n",
              "      <td>:</td>\n",
              "      <td>9°C/11°CPrécipitations</td>\n",
              "      <td>:</td>\n",
              "      <td>4.8mm</td>\n",
              "    </tr>\n",
              "    <tr>\n",
              "      <th>4</th>\n",
              "      <td>Températures</td>\n",
              "      <td>:</td>\n",
              "      <td>7°C/10°CPrécipitations</td>\n",
              "      <td>:</td>\n",
              "      <td>0.4mm</td>\n",
              "    </tr>\n",
              "    <tr>\n",
              "      <th>...</th>\n",
              "      <td>...</td>\n",
              "      <td>...</td>\n",
              "      <td>...</td>\n",
              "      <td>...</td>\n",
              "      <td>...</td>\n",
              "    </tr>\n",
              "    <tr>\n",
              "      <th>26</th>\n",
              "      <td>Températures</td>\n",
              "      <td>:</td>\n",
              "      <td>7°C/8°CPrécipitations</td>\n",
              "      <td>:</td>\n",
              "      <td>27.6mm</td>\n",
              "    </tr>\n",
              "    <tr>\n",
              "      <th>27</th>\n",
              "      <td>Températures</td>\n",
              "      <td>:</td>\n",
              "      <td>4°C/5°CPrécipitations</td>\n",
              "      <td>:</td>\n",
              "      <td>6.4mm</td>\n",
              "    </tr>\n",
              "    <tr>\n",
              "      <th>28</th>\n",
              "      <td>Températures</td>\n",
              "      <td>:</td>\n",
              "      <td>3°C/5°CPrécipitations</td>\n",
              "      <td>:</td>\n",
              "      <td>10.4mm</td>\n",
              "    </tr>\n",
              "    <tr>\n",
              "      <th>29</th>\n",
              "      <td>Températures</td>\n",
              "      <td>:</td>\n",
              "      <td>2°C/6°CPrécipitations</td>\n",
              "      <td>:</td>\n",
              "      <td>1.4mm</td>\n",
              "    </tr>\n",
              "    <tr>\n",
              "      <th>30</th>\n",
              "      <td>Températures</td>\n",
              "      <td>:</td>\n",
              "      <td>5°C/6°CPrécipitations</td>\n",
              "      <td>:</td>\n",
              "      <td>5.8mm</td>\n",
              "    </tr>\n",
              "  </tbody>\n",
              "</table>\n",
              "<p>16635 rows × 5 columns</p>\n",
              "</div>"
            ],
            "text/plain": [
              "               0  1                       2  3       4\n",
              "0   Températures  :  7°C/11°CPrécipitations  :   4.9mm\n",
              "1   Températures  :  9°C/12°CPrécipitations  :   3.3mm\n",
              "2   Températures  :  8°C/10°CPrécipitations  :    29mm\n",
              "3   Températures  :  9°C/11°CPrécipitations  :   4.8mm\n",
              "4   Températures  :  7°C/10°CPrécipitations  :   0.4mm\n",
              "..           ... ..                     ... ..     ...\n",
              "26  Températures  :   7°C/8°CPrécipitations  :  27.6mm\n",
              "27  Températures  :   4°C/5°CPrécipitations  :   6.4mm\n",
              "28  Températures  :   3°C/5°CPrécipitations  :  10.4mm\n",
              "29  Températures  :   2°C/6°CPrécipitations  :   1.4mm\n",
              "30  Températures  :   5°C/6°CPrécipitations  :   5.8mm\n",
              "\n",
              "[16635 rows x 5 columns]"
            ]
          },
          "metadata": {
            "tags": []
          },
          "execution_count": 7
        }
      ]
    },
    {
      "cell_type": "code",
      "metadata": {
        "colab": {
          "base_uri": "https://localhost:8080/"
        },
        "id": "SG-XWgnifcEG",
        "outputId": "e7983203-3cbc-44eb-9368-5f06e0978e14"
      },
      "source": [
        "df_precipitations = df1[4].str.split('mm', expand=True,)\n",
        "P = df_precipitations[0]\n",
        "P"
      ],
      "execution_count": 8,
      "outputs": [
        {
          "output_type": "execute_result",
          "data": {
            "text/plain": [
              "0      4.9\n",
              "1      3.3\n",
              "2       29\n",
              "3      4.8\n",
              "4      0.4\n",
              "      ... \n",
              "26    27.6\n",
              "27     6.4\n",
              "28    10.4\n",
              "29     1.4\n",
              "30     5.8\n",
              "Name: 0, Length: 16635, dtype: object"
            ]
          },
          "metadata": {
            "tags": []
          },
          "execution_count": 8
        }
      ]
    },
    {
      "cell_type": "code",
      "metadata": {
        "colab": {
          "base_uri": "https://localhost:8080/"
        },
        "id": "FRkqLFa9fqIz",
        "outputId": "1d81a880-3321-4e86-b80a-e35dc45747a9"
      },
      "source": [
        "df1[2]"
      ],
      "execution_count": 9,
      "outputs": [
        {
          "output_type": "execute_result",
          "data": {
            "text/plain": [
              "0     7°C/11°CPrécipitations\n",
              "1     9°C/12°CPrécipitations\n",
              "2     8°C/10°CPrécipitations\n",
              "3     9°C/11°CPrécipitations\n",
              "4     7°C/10°CPrécipitations\n",
              "               ...          \n",
              "26     7°C/8°CPrécipitations\n",
              "27     4°C/5°CPrécipitations\n",
              "28     3°C/5°CPrécipitations\n",
              "29     2°C/6°CPrécipitations\n",
              "30     5°C/6°CPrécipitations\n",
              "Name: 2, Length: 16635, dtype: object"
            ]
          },
          "metadata": {
            "tags": []
          },
          "execution_count": 9
        }
      ]
    },
    {
      "cell_type": "code",
      "metadata": {
        "id": "iC5PlQ4ns7vH"
      },
      "source": [
        "df_temperatures = df1[2].str.split('Précipitations', expand=True,)"
      ],
      "execution_count": 10,
      "outputs": []
    },
    {
      "cell_type": "code",
      "metadata": {
        "colab": {
          "base_uri": "https://localhost:8080/",
          "height": 419
        },
        "id": "QlAo5Xd6s7pU",
        "outputId": "fe1d0245-9967-48e0-a2c5-cabd3c7e0062"
      },
      "source": [
        "temperatures = df_temperatures[0].str.split('/', expand=True,)\n",
        "temperatures"
      ],
      "execution_count": 11,
      "outputs": [
        {
          "output_type": "execute_result",
          "data": {
            "text/html": [
              "<div>\n",
              "<style scoped>\n",
              "    .dataframe tbody tr th:only-of-type {\n",
              "        vertical-align: middle;\n",
              "    }\n",
              "\n",
              "    .dataframe tbody tr th {\n",
              "        vertical-align: top;\n",
              "    }\n",
              "\n",
              "    .dataframe thead th {\n",
              "        text-align: right;\n",
              "    }\n",
              "</style>\n",
              "<table border=\"1\" class=\"dataframe\">\n",
              "  <thead>\n",
              "    <tr style=\"text-align: right;\">\n",
              "      <th></th>\n",
              "      <th>0</th>\n",
              "      <th>1</th>\n",
              "    </tr>\n",
              "  </thead>\n",
              "  <tbody>\n",
              "    <tr>\n",
              "      <th>0</th>\n",
              "      <td>7°C</td>\n",
              "      <td>11°C</td>\n",
              "    </tr>\n",
              "    <tr>\n",
              "      <th>1</th>\n",
              "      <td>9°C</td>\n",
              "      <td>12°C</td>\n",
              "    </tr>\n",
              "    <tr>\n",
              "      <th>2</th>\n",
              "      <td>8°C</td>\n",
              "      <td>10°C</td>\n",
              "    </tr>\n",
              "    <tr>\n",
              "      <th>3</th>\n",
              "      <td>9°C</td>\n",
              "      <td>11°C</td>\n",
              "    </tr>\n",
              "    <tr>\n",
              "      <th>4</th>\n",
              "      <td>7°C</td>\n",
              "      <td>10°C</td>\n",
              "    </tr>\n",
              "    <tr>\n",
              "      <th>...</th>\n",
              "      <td>...</td>\n",
              "      <td>...</td>\n",
              "    </tr>\n",
              "    <tr>\n",
              "      <th>26</th>\n",
              "      <td>7°C</td>\n",
              "      <td>8°C</td>\n",
              "    </tr>\n",
              "    <tr>\n",
              "      <th>27</th>\n",
              "      <td>4°C</td>\n",
              "      <td>5°C</td>\n",
              "    </tr>\n",
              "    <tr>\n",
              "      <th>28</th>\n",
              "      <td>3°C</td>\n",
              "      <td>5°C</td>\n",
              "    </tr>\n",
              "    <tr>\n",
              "      <th>29</th>\n",
              "      <td>2°C</td>\n",
              "      <td>6°C</td>\n",
              "    </tr>\n",
              "    <tr>\n",
              "      <th>30</th>\n",
              "      <td>5°C</td>\n",
              "      <td>6°C</td>\n",
              "    </tr>\n",
              "  </tbody>\n",
              "</table>\n",
              "<p>16635 rows × 2 columns</p>\n",
              "</div>"
            ],
            "text/plain": [
              "      0     1\n",
              "0   7°C  11°C\n",
              "1   9°C  12°C\n",
              "2   8°C  10°C\n",
              "3   9°C  11°C\n",
              "4   7°C  10°C\n",
              "..  ...   ...\n",
              "26  7°C   8°C\n",
              "27  4°C   5°C\n",
              "28  3°C   5°C\n",
              "29  2°C   6°C\n",
              "30  5°C   6°C\n",
              "\n",
              "[16635 rows x 2 columns]"
            ]
          },
          "metadata": {
            "tags": []
          },
          "execution_count": 11
        }
      ]
    },
    {
      "cell_type": "code",
      "metadata": {
        "colab": {
          "base_uri": "https://localhost:8080/",
          "height": 419
        },
        "id": "GKRWqC5Os7nJ",
        "outputId": "21edb892-d84c-439e-c9d3-8bb137bc9446"
      },
      "source": [
        "T_1 = temperatures[0].str.split('°', expand=True,)\n",
        "T_1"
      ],
      "execution_count": 12,
      "outputs": [
        {
          "output_type": "execute_result",
          "data": {
            "text/html": [
              "<div>\n",
              "<style scoped>\n",
              "    .dataframe tbody tr th:only-of-type {\n",
              "        vertical-align: middle;\n",
              "    }\n",
              "\n",
              "    .dataframe tbody tr th {\n",
              "        vertical-align: top;\n",
              "    }\n",
              "\n",
              "    .dataframe thead th {\n",
              "        text-align: right;\n",
              "    }\n",
              "</style>\n",
              "<table border=\"1\" class=\"dataframe\">\n",
              "  <thead>\n",
              "    <tr style=\"text-align: right;\">\n",
              "      <th></th>\n",
              "      <th>0</th>\n",
              "      <th>1</th>\n",
              "    </tr>\n",
              "  </thead>\n",
              "  <tbody>\n",
              "    <tr>\n",
              "      <th>0</th>\n",
              "      <td>7</td>\n",
              "      <td>C</td>\n",
              "    </tr>\n",
              "    <tr>\n",
              "      <th>1</th>\n",
              "      <td>9</td>\n",
              "      <td>C</td>\n",
              "    </tr>\n",
              "    <tr>\n",
              "      <th>2</th>\n",
              "      <td>8</td>\n",
              "      <td>C</td>\n",
              "    </tr>\n",
              "    <tr>\n",
              "      <th>3</th>\n",
              "      <td>9</td>\n",
              "      <td>C</td>\n",
              "    </tr>\n",
              "    <tr>\n",
              "      <th>4</th>\n",
              "      <td>7</td>\n",
              "      <td>C</td>\n",
              "    </tr>\n",
              "    <tr>\n",
              "      <th>...</th>\n",
              "      <td>...</td>\n",
              "      <td>...</td>\n",
              "    </tr>\n",
              "    <tr>\n",
              "      <th>26</th>\n",
              "      <td>7</td>\n",
              "      <td>C</td>\n",
              "    </tr>\n",
              "    <tr>\n",
              "      <th>27</th>\n",
              "      <td>4</td>\n",
              "      <td>C</td>\n",
              "    </tr>\n",
              "    <tr>\n",
              "      <th>28</th>\n",
              "      <td>3</td>\n",
              "      <td>C</td>\n",
              "    </tr>\n",
              "    <tr>\n",
              "      <th>29</th>\n",
              "      <td>2</td>\n",
              "      <td>C</td>\n",
              "    </tr>\n",
              "    <tr>\n",
              "      <th>30</th>\n",
              "      <td>5</td>\n",
              "      <td>C</td>\n",
              "    </tr>\n",
              "  </tbody>\n",
              "</table>\n",
              "<p>16635 rows × 2 columns</p>\n",
              "</div>"
            ],
            "text/plain": [
              "    0  1\n",
              "0   7  C\n",
              "1   9  C\n",
              "2   8  C\n",
              "3   9  C\n",
              "4   7  C\n",
              ".. .. ..\n",
              "26  7  C\n",
              "27  4  C\n",
              "28  3  C\n",
              "29  2  C\n",
              "30  5  C\n",
              "\n",
              "[16635 rows x 2 columns]"
            ]
          },
          "metadata": {
            "tags": []
          },
          "execution_count": 12
        }
      ]
    },
    {
      "cell_type": "code",
      "metadata": {
        "colab": {
          "base_uri": "https://localhost:8080/"
        },
        "id": "6Of7tyX-s7je",
        "outputId": "bb6de0bd-06d1-41ca-8417-4552e1912002"
      },
      "source": [
        "T1 = T_1[0]\n",
        "T1"
      ],
      "execution_count": 13,
      "outputs": [
        {
          "output_type": "execute_result",
          "data": {
            "text/plain": [
              "0     7\n",
              "1     9\n",
              "2     8\n",
              "3     9\n",
              "4     7\n",
              "     ..\n",
              "26    7\n",
              "27    4\n",
              "28    3\n",
              "29    2\n",
              "30    5\n",
              "Name: 0, Length: 16635, dtype: object"
            ]
          },
          "metadata": {
            "tags": []
          },
          "execution_count": 13
        }
      ]
    },
    {
      "cell_type": "code",
      "metadata": {
        "colab": {
          "base_uri": "https://localhost:8080/",
          "height": 419
        },
        "id": "xP9CCwNTs7hN",
        "outputId": "04260ccf-fa43-4594-d000-ce3b8e56f598"
      },
      "source": [
        "T_2 = temperatures[1].str.split('°', expand=True,)\n",
        "T_2"
      ],
      "execution_count": 14,
      "outputs": [
        {
          "output_type": "execute_result",
          "data": {
            "text/html": [
              "<div>\n",
              "<style scoped>\n",
              "    .dataframe tbody tr th:only-of-type {\n",
              "        vertical-align: middle;\n",
              "    }\n",
              "\n",
              "    .dataframe tbody tr th {\n",
              "        vertical-align: top;\n",
              "    }\n",
              "\n",
              "    .dataframe thead th {\n",
              "        text-align: right;\n",
              "    }\n",
              "</style>\n",
              "<table border=\"1\" class=\"dataframe\">\n",
              "  <thead>\n",
              "    <tr style=\"text-align: right;\">\n",
              "      <th></th>\n",
              "      <th>0</th>\n",
              "      <th>1</th>\n",
              "    </tr>\n",
              "  </thead>\n",
              "  <tbody>\n",
              "    <tr>\n",
              "      <th>0</th>\n",
              "      <td>11</td>\n",
              "      <td>C</td>\n",
              "    </tr>\n",
              "    <tr>\n",
              "      <th>1</th>\n",
              "      <td>12</td>\n",
              "      <td>C</td>\n",
              "    </tr>\n",
              "    <tr>\n",
              "      <th>2</th>\n",
              "      <td>10</td>\n",
              "      <td>C</td>\n",
              "    </tr>\n",
              "    <tr>\n",
              "      <th>3</th>\n",
              "      <td>11</td>\n",
              "      <td>C</td>\n",
              "    </tr>\n",
              "    <tr>\n",
              "      <th>4</th>\n",
              "      <td>10</td>\n",
              "      <td>C</td>\n",
              "    </tr>\n",
              "    <tr>\n",
              "      <th>...</th>\n",
              "      <td>...</td>\n",
              "      <td>...</td>\n",
              "    </tr>\n",
              "    <tr>\n",
              "      <th>26</th>\n",
              "      <td>8</td>\n",
              "      <td>C</td>\n",
              "    </tr>\n",
              "    <tr>\n",
              "      <th>27</th>\n",
              "      <td>5</td>\n",
              "      <td>C</td>\n",
              "    </tr>\n",
              "    <tr>\n",
              "      <th>28</th>\n",
              "      <td>5</td>\n",
              "      <td>C</td>\n",
              "    </tr>\n",
              "    <tr>\n",
              "      <th>29</th>\n",
              "      <td>6</td>\n",
              "      <td>C</td>\n",
              "    </tr>\n",
              "    <tr>\n",
              "      <th>30</th>\n",
              "      <td>6</td>\n",
              "      <td>C</td>\n",
              "    </tr>\n",
              "  </tbody>\n",
              "</table>\n",
              "<p>16635 rows × 2 columns</p>\n",
              "</div>"
            ],
            "text/plain": [
              "     0  1\n",
              "0   11  C\n",
              "1   12  C\n",
              "2   10  C\n",
              "3   11  C\n",
              "4   10  C\n",
              "..  .. ..\n",
              "26   8  C\n",
              "27   5  C\n",
              "28   5  C\n",
              "29   6  C\n",
              "30   6  C\n",
              "\n",
              "[16635 rows x 2 columns]"
            ]
          },
          "metadata": {
            "tags": []
          },
          "execution_count": 14
        }
      ]
    },
    {
      "cell_type": "code",
      "metadata": {
        "colab": {
          "base_uri": "https://localhost:8080/"
        },
        "id": "k4zL_njcs7fO",
        "outputId": "0bc9c2d9-661e-4b70-f644-9bbfc3bb8f1c"
      },
      "source": [
        "T2 = T_2[0]\n",
        "T2"
      ],
      "execution_count": 15,
      "outputs": [
        {
          "output_type": "execute_result",
          "data": {
            "text/plain": [
              "0     11\n",
              "1     12\n",
              "2     10\n",
              "3     11\n",
              "4     10\n",
              "      ..\n",
              "26     8\n",
              "27     5\n",
              "28     5\n",
              "29     6\n",
              "30     6\n",
              "Name: 0, Length: 16635, dtype: object"
            ]
          },
          "metadata": {
            "tags": []
          },
          "execution_count": 15
        }
      ]
    },
    {
      "cell_type": "code",
      "metadata": {
        "id": "BdCWwXYFBzEE"
      },
      "source": [
        "meteo_data[\"temperatures_min\"]=T1\n",
        "meteo_data[\"temperatures_max\"]=T2"
      ],
      "execution_count": 16,
      "outputs": []
    },
    {
      "cell_type": "code",
      "metadata": {
        "id": "0JKVTCAqBaz9"
      },
      "source": [
        "meteo_data[\"precipitations\"]=P"
      ],
      "execution_count": 17,
      "outputs": []
    },
    {
      "cell_type": "code",
      "metadata": {
        "colab": {
          "base_uri": "https://localhost:8080/"
        },
        "id": "dXpzU312BlbJ",
        "outputId": "77d3f4cf-2cc8-466c-bdff-6b7ec882c515"
      },
      "source": [
        "meteo_data[\"precipitations\"].head()"
      ],
      "execution_count": 18,
      "outputs": [
        {
          "output_type": "execute_result",
          "data": {
            "text/plain": [
              "0    4.9\n",
              "1    3.3\n",
              "2     29\n",
              "3    4.8\n",
              "4    0.4\n",
              "Name: precipitations, dtype: object"
            ]
          },
          "metadata": {
            "tags": []
          },
          "execution_count": 18
        }
      ]
    },
    {
      "cell_type": "code",
      "metadata": {
        "id": "BccApgszDExR"
      },
      "source": [
        "meteo_data[\"date\"] = meteo_data[\"Jour\"]\n",
        "meteo_data[\"opinion\"] = meteo_data[\"Avis sur la météo\"]\n",
        "meteo_data[\"city\"] = detail[2]"
      ],
      "execution_count": 19,
      "outputs": []
    },
    {
      "cell_type": "code",
      "metadata": {
        "id": "g11qSlqvB95Q"
      },
      "source": [
        "meteo_data = meteo_data.drop(columns=[\"Jour\", \"Avis sur la météo\", \"Unnamed: 1\",\"Températures et précipitations\",\"Détails\"])"
      ],
      "execution_count": 20,
      "outputs": []
    },
    {
      "cell_type": "code",
      "metadata": {
        "colab": {
          "base_uri": "https://localhost:8080/",
          "height": 419
        },
        "id": "Bqmps02TC8om",
        "outputId": "17e90f3a-107c-4276-c5b5-d1fcb4bafc53"
      },
      "source": [
        "meteo_data = meteo_data[[\"date\", \"city\", \"temperatures_min\", \"temperatures_max\", \"precipitations\", \"opinion\"]]\n",
        "meteo_data"
      ],
      "execution_count": 21,
      "outputs": [
        {
          "output_type": "execute_result",
          "data": {
            "text/html": [
              "<div>\n",
              "<style scoped>\n",
              "    .dataframe tbody tr th:only-of-type {\n",
              "        vertical-align: middle;\n",
              "    }\n",
              "\n",
              "    .dataframe tbody tr th {\n",
              "        vertical-align: top;\n",
              "    }\n",
              "\n",
              "    .dataframe thead th {\n",
              "        text-align: right;\n",
              "    }\n",
              "</style>\n",
              "<table border=\"1\" class=\"dataframe\">\n",
              "  <thead>\n",
              "    <tr style=\"text-align: right;\">\n",
              "      <th></th>\n",
              "      <th>date</th>\n",
              "      <th>city</th>\n",
              "      <th>temperatures_min</th>\n",
              "      <th>temperatures_max</th>\n",
              "      <th>precipitations</th>\n",
              "      <th>opinion</th>\n",
              "    </tr>\n",
              "  </thead>\n",
              "  <tbody>\n",
              "    <tr>\n",
              "      <th>0</th>\n",
              "      <td>01/02/2021</td>\n",
              "      <td>Brest</td>\n",
              "      <td>7</td>\n",
              "      <td>11</td>\n",
              "      <td>4.9</td>\n",
              "      <td>défavorable</td>\n",
              "    </tr>\n",
              "    <tr>\n",
              "      <th>1</th>\n",
              "      <td>02/02/2021</td>\n",
              "      <td>Brest</td>\n",
              "      <td>9</td>\n",
              "      <td>12</td>\n",
              "      <td>3.3</td>\n",
              "      <td>défavorable</td>\n",
              "    </tr>\n",
              "    <tr>\n",
              "      <th>2</th>\n",
              "      <td>03/02/2021</td>\n",
              "      <td>Brest</td>\n",
              "      <td>8</td>\n",
              "      <td>10</td>\n",
              "      <td>29</td>\n",
              "      <td>très défavorable</td>\n",
              "    </tr>\n",
              "    <tr>\n",
              "      <th>3</th>\n",
              "      <td>04/02/2021</td>\n",
              "      <td>Brest</td>\n",
              "      <td>9</td>\n",
              "      <td>11</td>\n",
              "      <td>4.8</td>\n",
              "      <td>défavorable</td>\n",
              "    </tr>\n",
              "    <tr>\n",
              "      <th>4</th>\n",
              "      <td>05/02/2021</td>\n",
              "      <td>Brest</td>\n",
              "      <td>7</td>\n",
              "      <td>10</td>\n",
              "      <td>0.4</td>\n",
              "      <td>défavorable</td>\n",
              "    </tr>\n",
              "    <tr>\n",
              "      <th>...</th>\n",
              "      <td>...</td>\n",
              "      <td>...</td>\n",
              "      <td>...</td>\n",
              "      <td>...</td>\n",
              "      <td>...</td>\n",
              "      <td>...</td>\n",
              "    </tr>\n",
              "    <tr>\n",
              "      <th>26</th>\n",
              "      <td>27/12/2020</td>\n",
              "      <td>Paris</td>\n",
              "      <td>7</td>\n",
              "      <td>8</td>\n",
              "      <td>27.6</td>\n",
              "      <td>très défavorable</td>\n",
              "    </tr>\n",
              "    <tr>\n",
              "      <th>27</th>\n",
              "      <td>28/12/2020</td>\n",
              "      <td>Paris</td>\n",
              "      <td>4</td>\n",
              "      <td>5</td>\n",
              "      <td>6.4</td>\n",
              "      <td>très défavorable</td>\n",
              "    </tr>\n",
              "    <tr>\n",
              "      <th>28</th>\n",
              "      <td>29/12/2020</td>\n",
              "      <td>Paris</td>\n",
              "      <td>3</td>\n",
              "      <td>5</td>\n",
              "      <td>10.4</td>\n",
              "      <td>très défavorable</td>\n",
              "    </tr>\n",
              "    <tr>\n",
              "      <th>29</th>\n",
              "      <td>30/12/2020</td>\n",
              "      <td>Paris</td>\n",
              "      <td>2</td>\n",
              "      <td>6</td>\n",
              "      <td>1.4</td>\n",
              "      <td>très défavorable</td>\n",
              "    </tr>\n",
              "    <tr>\n",
              "      <th>30</th>\n",
              "      <td>31/12/2020</td>\n",
              "      <td>Paris</td>\n",
              "      <td>5</td>\n",
              "      <td>6</td>\n",
              "      <td>5.8</td>\n",
              "      <td>très défavorable</td>\n",
              "    </tr>\n",
              "  </tbody>\n",
              "</table>\n",
              "<p>16635 rows × 6 columns</p>\n",
              "</div>"
            ],
            "text/plain": [
              "          date   city  ... precipitations           opinion\n",
              "0   01/02/2021  Brest  ...            4.9       défavorable\n",
              "1   02/02/2021  Brest  ...            3.3       défavorable\n",
              "2   03/02/2021  Brest  ...             29  très défavorable\n",
              "3   04/02/2021  Brest  ...            4.8       défavorable\n",
              "4   05/02/2021  Brest  ...            0.4       défavorable\n",
              "..         ...    ...  ...            ...               ...\n",
              "26  27/12/2020  Paris  ...           27.6  très défavorable\n",
              "27  28/12/2020  Paris  ...            6.4  très défavorable\n",
              "28  29/12/2020  Paris  ...           10.4  très défavorable\n",
              "29  30/12/2020  Paris  ...            1.4  très défavorable\n",
              "30  31/12/2020  Paris  ...            5.8  très défavorable\n",
              "\n",
              "[16635 rows x 6 columns]"
            ]
          },
          "metadata": {
            "tags": []
          },
          "execution_count": 21
        }
      ]
    },
    {
      "cell_type": "code",
      "metadata": {
        "id": "03VUm_Opi0S1"
      },
      "source": [
        "meteo_data.to_csv(\"/content/sample_data/meteo/meteo_data.csv\")"
      ],
      "execution_count": 22,
      "outputs": []
    }
  ]
}