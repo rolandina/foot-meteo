{
 "cells": [
  {
   "cell_type": "markdown",
   "metadata": {
    "toc": true
   },
   "source": [
    "<h1>Table of Contents<span class=\"tocSkip\"></span></h1>\n",
    "<div class=\"toc\"><ul class=\"toc-item\"><li><span><a href=\"#scrap-championships\" data-toc-modified-id=\"scrap-championships-1\"><span class=\"toc-item-num\">1&nbsp;&nbsp;</span>scrap championships</a></span></li><li><span><a href=\"#scrap-teams-and-players\" data-toc-modified-id=\"scrap-teams-and-players-2\"><span class=\"toc-item-num\">2&nbsp;&nbsp;</span>scrap teams and players</a></span></li><li><span><a href=\"#scrap-matches\" data-toc-modified-id=\"scrap-matches-3\"><span class=\"toc-item-num\">3&nbsp;&nbsp;</span>scrap matches</a></span></li><li><span><a href=\"#add-meteo-to-the-df_matches\" data-toc-modified-id=\"add-meteo-to-the-df_matches-4\"><span class=\"toc-item-num\">4&nbsp;&nbsp;</span>add meteo to the df_matches</a></span></li><li><span><a href=\"#scrap-goals-par-player/match\" data-toc-modified-id=\"scrap-goals-par-player/match-5\"><span class=\"toc-item-num\">5&nbsp;&nbsp;</span>scrap goals par player/match</a></span></li><li><span><a href=\"#add-df-to-sql-database\" data-toc-modified-id=\"add-df-to-sql-database-6\"><span class=\"toc-item-num\">6&nbsp;&nbsp;</span>add df to sql database</a></span><ul class=\"toc-item\"><li><span><a href=\"#create-championship-table-sql\" data-toc-modified-id=\"create-championship-table-sql-6.1\"><span class=\"toc-item-num\">6.1&nbsp;&nbsp;</span>create championship table sql</a></span></li><li><span><a href=\"#create-teams-table-in-sql\" data-toc-modified-id=\"create-teams-table-in-sql-6.2\"><span class=\"toc-item-num\">6.2&nbsp;&nbsp;</span>create teams table in sql</a></span></li><li><span><a href=\"#create-participation-table\" data-toc-modified-id=\"create-participation-table-6.3\"><span class=\"toc-item-num\">6.3&nbsp;&nbsp;</span>create participation table</a></span></li><li><span><a href=\"#create-players-table\" data-toc-modified-id=\"create-players-table-6.4\"><span class=\"toc-item-num\">6.4&nbsp;&nbsp;</span>create players table</a></span></li><li><span><a href=\"#create-matches-table\" data-toc-modified-id=\"create-matches-table-6.5\"><span class=\"toc-item-num\">6.5&nbsp;&nbsp;</span>create matches table</a></span></li><li><span><a href=\"#create-matches_teams-table\" data-toc-modified-id=\"create-matches_teams-table-6.6\"><span class=\"toc-item-num\">6.6&nbsp;&nbsp;</span>create matches_teams table</a></span></li><li><span><a href=\"#create-goals-table\" data-toc-modified-id=\"create-goals-table-6.7\"><span class=\"toc-item-num\">6.7&nbsp;&nbsp;</span>create goals table</a></span></li></ul></li></ul></div>"
   ]
  },
  {
   "cell_type": "code",
   "execution_count": 8,
   "metadata": {},
   "outputs": [],
   "source": [
    "import pandas as pd\n",
    "import matplotlib.pyplot  as plt\n",
    "import seaborn as sns"
   ]
  },
  {
   "cell_type": "code",
   "execution_count": 9,
   "metadata": {},
   "outputs": [],
   "source": [
    "url = \"https://www.lequipe.fr/Football/\"\n",
    "main_url = 'https://www.lequipe.fr'"
   ]
  },
  {
   "cell_type": "code",
   "execution_count": 10,
   "metadata": {},
   "outputs": [],
   "source": [
    "# function to get page soup from html page\n",
    "import requests\n",
    "from bs4 import BeautifulSoup as soup\n",
    "from urllib.request import urlopen as uReq\n",
    "\n",
    "def get_page_soup(url, time = 15):\n",
    "    \"\"\"get_page_soup(url) takes url of the web page and return it html soup.\n",
    "    Parameters:\n",
    "    url: <str> web page address\n",
    "    time: <int> maximum time in seconds to read page\n",
    "    Output:\n",
    "    BeautifulSoup()\"\"\"\n",
    "    # opening connection\n",
    "    uClient = uReq(url, timeout=time)\n",
    "    page_html = uClient.read()\n",
    "    uClient.close()\n",
    "    #html parser\n",
    "    return soup(page_html, \"html.parser\")"
   ]
  },
  {
   "cell_type": "markdown",
   "metadata": {},
   "source": [
    "### scrap championships"
   ]
  },
  {
   "cell_type": "code",
   "execution_count": 13,
   "metadata": {},
   "outputs": [
    {
     "ename": "URLError",
     "evalue": "<urlopen error [Errno -3] Temporary failure in name resolution>",
     "output_type": "error",
     "traceback": [
      "\u001b[0;31m---------------------------------------------------------------------------\u001b[0m",
      "\u001b[0;31mgaierror\u001b[0m                                  Traceback (most recent call last)",
      "\u001b[0;32m~/apps/anaconda3/lib/python3.8/urllib/request.py\u001b[0m in \u001b[0;36mdo_open\u001b[0;34m(self, http_class, req, **http_conn_args)\u001b[0m\n\u001b[1;32m   1349\u001b[0m             \u001b[0;32mtry\u001b[0m\u001b[0;34m:\u001b[0m\u001b[0;34m\u001b[0m\u001b[0;34m\u001b[0m\u001b[0m\n\u001b[0;32m-> 1350\u001b[0;31m                 h.request(req.get_method(), req.selector, req.data, headers,\n\u001b[0m\u001b[1;32m   1351\u001b[0m                           encode_chunked=req.has_header('Transfer-encoding'))\n",
      "\u001b[0;32m~/apps/anaconda3/lib/python3.8/http/client.py\u001b[0m in \u001b[0;36mrequest\u001b[0;34m(self, method, url, body, headers, encode_chunked)\u001b[0m\n\u001b[1;32m   1254\u001b[0m         \u001b[0;34m\"\"\"Send a complete request to the server.\"\"\"\u001b[0m\u001b[0;34m\u001b[0m\u001b[0;34m\u001b[0m\u001b[0m\n\u001b[0;32m-> 1255\u001b[0;31m         \u001b[0mself\u001b[0m\u001b[0;34m.\u001b[0m\u001b[0m_send_request\u001b[0m\u001b[0;34m(\u001b[0m\u001b[0mmethod\u001b[0m\u001b[0;34m,\u001b[0m \u001b[0murl\u001b[0m\u001b[0;34m,\u001b[0m \u001b[0mbody\u001b[0m\u001b[0;34m,\u001b[0m \u001b[0mheaders\u001b[0m\u001b[0;34m,\u001b[0m \u001b[0mencode_chunked\u001b[0m\u001b[0;34m)\u001b[0m\u001b[0;34m\u001b[0m\u001b[0;34m\u001b[0m\u001b[0m\n\u001b[0m\u001b[1;32m   1256\u001b[0m \u001b[0;34m\u001b[0m\u001b[0m\n",
      "\u001b[0;32m~/apps/anaconda3/lib/python3.8/http/client.py\u001b[0m in \u001b[0;36m_send_request\u001b[0;34m(self, method, url, body, headers, encode_chunked)\u001b[0m\n\u001b[1;32m   1300\u001b[0m             \u001b[0mbody\u001b[0m \u001b[0;34m=\u001b[0m \u001b[0m_encode\u001b[0m\u001b[0;34m(\u001b[0m\u001b[0mbody\u001b[0m\u001b[0;34m,\u001b[0m \u001b[0;34m'body'\u001b[0m\u001b[0;34m)\u001b[0m\u001b[0;34m\u001b[0m\u001b[0;34m\u001b[0m\u001b[0m\n\u001b[0;32m-> 1301\u001b[0;31m         \u001b[0mself\u001b[0m\u001b[0;34m.\u001b[0m\u001b[0mendheaders\u001b[0m\u001b[0;34m(\u001b[0m\u001b[0mbody\u001b[0m\u001b[0;34m,\u001b[0m \u001b[0mencode_chunked\u001b[0m\u001b[0;34m=\u001b[0m\u001b[0mencode_chunked\u001b[0m\u001b[0;34m)\u001b[0m\u001b[0;34m\u001b[0m\u001b[0;34m\u001b[0m\u001b[0m\n\u001b[0m\u001b[1;32m   1302\u001b[0m \u001b[0;34m\u001b[0m\u001b[0m\n",
      "\u001b[0;32m~/apps/anaconda3/lib/python3.8/http/client.py\u001b[0m in \u001b[0;36mendheaders\u001b[0;34m(self, message_body, encode_chunked)\u001b[0m\n\u001b[1;32m   1249\u001b[0m             \u001b[0;32mraise\u001b[0m \u001b[0mCannotSendHeader\u001b[0m\u001b[0;34m(\u001b[0m\u001b[0;34m)\u001b[0m\u001b[0;34m\u001b[0m\u001b[0;34m\u001b[0m\u001b[0m\n\u001b[0;32m-> 1250\u001b[0;31m         \u001b[0mself\u001b[0m\u001b[0;34m.\u001b[0m\u001b[0m_send_output\u001b[0m\u001b[0;34m(\u001b[0m\u001b[0mmessage_body\u001b[0m\u001b[0;34m,\u001b[0m \u001b[0mencode_chunked\u001b[0m\u001b[0;34m=\u001b[0m\u001b[0mencode_chunked\u001b[0m\u001b[0;34m)\u001b[0m\u001b[0;34m\u001b[0m\u001b[0;34m\u001b[0m\u001b[0m\n\u001b[0m\u001b[1;32m   1251\u001b[0m \u001b[0;34m\u001b[0m\u001b[0m\n",
      "\u001b[0;32m~/apps/anaconda3/lib/python3.8/http/client.py\u001b[0m in \u001b[0;36m_send_output\u001b[0;34m(self, message_body, encode_chunked)\u001b[0m\n\u001b[1;32m   1009\u001b[0m         \u001b[0;32mdel\u001b[0m \u001b[0mself\u001b[0m\u001b[0;34m.\u001b[0m\u001b[0m_buffer\u001b[0m\u001b[0;34m[\u001b[0m\u001b[0;34m:\u001b[0m\u001b[0;34m]\u001b[0m\u001b[0;34m\u001b[0m\u001b[0;34m\u001b[0m\u001b[0m\n\u001b[0;32m-> 1010\u001b[0;31m         \u001b[0mself\u001b[0m\u001b[0;34m.\u001b[0m\u001b[0msend\u001b[0m\u001b[0;34m(\u001b[0m\u001b[0mmsg\u001b[0m\u001b[0;34m)\u001b[0m\u001b[0;34m\u001b[0m\u001b[0;34m\u001b[0m\u001b[0m\n\u001b[0m\u001b[1;32m   1011\u001b[0m \u001b[0;34m\u001b[0m\u001b[0m\n",
      "\u001b[0;32m~/apps/anaconda3/lib/python3.8/http/client.py\u001b[0m in \u001b[0;36msend\u001b[0;34m(self, data)\u001b[0m\n\u001b[1;32m    949\u001b[0m             \u001b[0;32mif\u001b[0m \u001b[0mself\u001b[0m\u001b[0;34m.\u001b[0m\u001b[0mauto_open\u001b[0m\u001b[0;34m:\u001b[0m\u001b[0;34m\u001b[0m\u001b[0;34m\u001b[0m\u001b[0m\n\u001b[0;32m--> 950\u001b[0;31m                 \u001b[0mself\u001b[0m\u001b[0;34m.\u001b[0m\u001b[0mconnect\u001b[0m\u001b[0;34m(\u001b[0m\u001b[0;34m)\u001b[0m\u001b[0;34m\u001b[0m\u001b[0;34m\u001b[0m\u001b[0m\n\u001b[0m\u001b[1;32m    951\u001b[0m             \u001b[0;32melse\u001b[0m\u001b[0;34m:\u001b[0m\u001b[0;34m\u001b[0m\u001b[0;34m\u001b[0m\u001b[0m\n",
      "\u001b[0;32m~/apps/anaconda3/lib/python3.8/http/client.py\u001b[0m in \u001b[0;36mconnect\u001b[0;34m(self)\u001b[0m\n\u001b[1;32m   1416\u001b[0m \u001b[0;34m\u001b[0m\u001b[0m\n\u001b[0;32m-> 1417\u001b[0;31m             \u001b[0msuper\u001b[0m\u001b[0;34m(\u001b[0m\u001b[0;34m)\u001b[0m\u001b[0;34m.\u001b[0m\u001b[0mconnect\u001b[0m\u001b[0;34m(\u001b[0m\u001b[0;34m)\u001b[0m\u001b[0;34m\u001b[0m\u001b[0;34m\u001b[0m\u001b[0m\n\u001b[0m\u001b[1;32m   1418\u001b[0m \u001b[0;34m\u001b[0m\u001b[0m\n",
      "\u001b[0;32m~/apps/anaconda3/lib/python3.8/http/client.py\u001b[0m in \u001b[0;36mconnect\u001b[0;34m(self)\u001b[0m\n\u001b[1;32m    920\u001b[0m         \u001b[0;34m\"\"\"Connect to the host and port specified in __init__.\"\"\"\u001b[0m\u001b[0;34m\u001b[0m\u001b[0;34m\u001b[0m\u001b[0m\n\u001b[0;32m--> 921\u001b[0;31m         self.sock = self._create_connection(\n\u001b[0m\u001b[1;32m    922\u001b[0m             (self.host,self.port), self.timeout, self.source_address)\n",
      "\u001b[0;32m~/apps/anaconda3/lib/python3.8/socket.py\u001b[0m in \u001b[0;36mcreate_connection\u001b[0;34m(address, timeout, source_address)\u001b[0m\n\u001b[1;32m    786\u001b[0m     \u001b[0merr\u001b[0m \u001b[0;34m=\u001b[0m \u001b[0;32mNone\u001b[0m\u001b[0;34m\u001b[0m\u001b[0;34m\u001b[0m\u001b[0m\n\u001b[0;32m--> 787\u001b[0;31m     \u001b[0;32mfor\u001b[0m \u001b[0mres\u001b[0m \u001b[0;32min\u001b[0m \u001b[0mgetaddrinfo\u001b[0m\u001b[0;34m(\u001b[0m\u001b[0mhost\u001b[0m\u001b[0;34m,\u001b[0m \u001b[0mport\u001b[0m\u001b[0;34m,\u001b[0m \u001b[0;36m0\u001b[0m\u001b[0;34m,\u001b[0m \u001b[0mSOCK_STREAM\u001b[0m\u001b[0;34m)\u001b[0m\u001b[0;34m:\u001b[0m\u001b[0;34m\u001b[0m\u001b[0;34m\u001b[0m\u001b[0m\n\u001b[0m\u001b[1;32m    788\u001b[0m         \u001b[0maf\u001b[0m\u001b[0;34m,\u001b[0m \u001b[0msocktype\u001b[0m\u001b[0;34m,\u001b[0m \u001b[0mproto\u001b[0m\u001b[0;34m,\u001b[0m \u001b[0mcanonname\u001b[0m\u001b[0;34m,\u001b[0m \u001b[0msa\u001b[0m \u001b[0;34m=\u001b[0m \u001b[0mres\u001b[0m\u001b[0;34m\u001b[0m\u001b[0;34m\u001b[0m\u001b[0m\n",
      "\u001b[0;32m~/apps/anaconda3/lib/python3.8/socket.py\u001b[0m in \u001b[0;36mgetaddrinfo\u001b[0;34m(host, port, family, type, proto, flags)\u001b[0m\n\u001b[1;32m    917\u001b[0m     \u001b[0maddrlist\u001b[0m \u001b[0;34m=\u001b[0m \u001b[0;34m[\u001b[0m\u001b[0;34m]\u001b[0m\u001b[0;34m\u001b[0m\u001b[0;34m\u001b[0m\u001b[0m\n\u001b[0;32m--> 918\u001b[0;31m     \u001b[0;32mfor\u001b[0m \u001b[0mres\u001b[0m \u001b[0;32min\u001b[0m \u001b[0m_socket\u001b[0m\u001b[0;34m.\u001b[0m\u001b[0mgetaddrinfo\u001b[0m\u001b[0;34m(\u001b[0m\u001b[0mhost\u001b[0m\u001b[0;34m,\u001b[0m \u001b[0mport\u001b[0m\u001b[0;34m,\u001b[0m \u001b[0mfamily\u001b[0m\u001b[0;34m,\u001b[0m \u001b[0mtype\u001b[0m\u001b[0;34m,\u001b[0m \u001b[0mproto\u001b[0m\u001b[0;34m,\u001b[0m \u001b[0mflags\u001b[0m\u001b[0;34m)\u001b[0m\u001b[0;34m:\u001b[0m\u001b[0;34m\u001b[0m\u001b[0;34m\u001b[0m\u001b[0m\n\u001b[0m\u001b[1;32m    919\u001b[0m         \u001b[0maf\u001b[0m\u001b[0;34m,\u001b[0m \u001b[0msocktype\u001b[0m\u001b[0;34m,\u001b[0m \u001b[0mproto\u001b[0m\u001b[0;34m,\u001b[0m \u001b[0mcanonname\u001b[0m\u001b[0;34m,\u001b[0m \u001b[0msa\u001b[0m \u001b[0;34m=\u001b[0m \u001b[0mres\u001b[0m\u001b[0;34m\u001b[0m\u001b[0;34m\u001b[0m\u001b[0m\n",
      "\u001b[0;31mgaierror\u001b[0m: [Errno -3] Temporary failure in name resolution",
      "\nDuring handling of the above exception, another exception occurred:\n",
      "\u001b[0;31mURLError\u001b[0m                                  Traceback (most recent call last)",
      "\u001b[0;32m<ipython-input-13-2472545dd053>\u001b[0m in \u001b[0;36m<module>\u001b[0;34m\u001b[0m\n\u001b[1;32m      1\u001b[0m \u001b[0;31m#get championships links\u001b[0m\u001b[0;34m\u001b[0m\u001b[0;34m\u001b[0m\u001b[0;34m\u001b[0m\u001b[0m\n\u001b[0;32m----> 2\u001b[0;31m \u001b[0mmain_soup\u001b[0m \u001b[0;34m=\u001b[0m \u001b[0mget_page_soup\u001b[0m\u001b[0;34m(\u001b[0m\u001b[0murl\u001b[0m\u001b[0;34m)\u001b[0m\u001b[0;34m\u001b[0m\u001b[0;34m\u001b[0m\u001b[0m\n\u001b[0m\u001b[1;32m      3\u001b[0m \u001b[0;31m#equipe_soup\u001b[0m\u001b[0;34m\u001b[0m\u001b[0;34m\u001b[0m\u001b[0;34m\u001b[0m\u001b[0m\n\u001b[1;32m      4\u001b[0m \u001b[0;31m#a aria-label = '/Football/' class = 'Link Menu__accordionTitle'\u001b[0m\u001b[0;34m\u001b[0m\u001b[0;34m\u001b[0m\u001b[0;34m\u001b[0m\u001b[0m\n\u001b[1;32m      5\u001b[0m \u001b[0mchampionships\u001b[0m \u001b[0;34m=\u001b[0m \u001b[0mmain_soup\u001b[0m\u001b[0;34m.\u001b[0m\u001b[0mfind\u001b[0m\u001b[0;34m(\u001b[0m\u001b[0;34m\"div\"\u001b[0m\u001b[0;34m,\u001b[0m \u001b[0;34m{\u001b[0m\u001b[0;34m\"class\"\u001b[0m\u001b[0;34m:\u001b[0m \u001b[0;34m'Menu__accordion js-menu-accordion is-active'\u001b[0m\u001b[0;34m}\u001b[0m\u001b[0;34m)\u001b[0m\u001b[0;34m.\u001b[0m\u001b[0mfindAll\u001b[0m\u001b[0;34m(\u001b[0m\u001b[0;34m\"li\"\u001b[0m\u001b[0;34m,\u001b[0m \u001b[0;34m{\u001b[0m\u001b[0;34m\"class\"\u001b[0m\u001b[0;34m:\u001b[0m\u001b[0;34m\"Menu__item\"\u001b[0m \u001b[0;34m}\u001b[0m\u001b[0;34m)\u001b[0m\u001b[0;34m\u001b[0m\u001b[0;34m\u001b[0m\u001b[0m\n",
      "\u001b[0;32m<ipython-input-10-11467e73d991>\u001b[0m in \u001b[0;36mget_page_soup\u001b[0;34m(url, time)\u001b[0m\n\u001b[1;32m     12\u001b[0m     BeautifulSoup()\"\"\"\n\u001b[1;32m     13\u001b[0m     \u001b[0;31m# opening connection\u001b[0m\u001b[0;34m\u001b[0m\u001b[0;34m\u001b[0m\u001b[0;34m\u001b[0m\u001b[0m\n\u001b[0;32m---> 14\u001b[0;31m     \u001b[0muClient\u001b[0m \u001b[0;34m=\u001b[0m \u001b[0muReq\u001b[0m\u001b[0;34m(\u001b[0m\u001b[0murl\u001b[0m\u001b[0;34m,\u001b[0m \u001b[0mtimeout\u001b[0m\u001b[0;34m=\u001b[0m\u001b[0mtime\u001b[0m\u001b[0;34m)\u001b[0m\u001b[0;34m\u001b[0m\u001b[0;34m\u001b[0m\u001b[0m\n\u001b[0m\u001b[1;32m     15\u001b[0m     \u001b[0mpage_html\u001b[0m \u001b[0;34m=\u001b[0m \u001b[0muClient\u001b[0m\u001b[0;34m.\u001b[0m\u001b[0mread\u001b[0m\u001b[0;34m(\u001b[0m\u001b[0;34m)\u001b[0m\u001b[0;34m\u001b[0m\u001b[0;34m\u001b[0m\u001b[0m\n\u001b[1;32m     16\u001b[0m     \u001b[0muClient\u001b[0m\u001b[0;34m.\u001b[0m\u001b[0mclose\u001b[0m\u001b[0;34m(\u001b[0m\u001b[0;34m)\u001b[0m\u001b[0;34m\u001b[0m\u001b[0;34m\u001b[0m\u001b[0m\n",
      "\u001b[0;32m~/apps/anaconda3/lib/python3.8/urllib/request.py\u001b[0m in \u001b[0;36murlopen\u001b[0;34m(url, data, timeout, cafile, capath, cadefault, context)\u001b[0m\n\u001b[1;32m    220\u001b[0m     \u001b[0;32melse\u001b[0m\u001b[0;34m:\u001b[0m\u001b[0;34m\u001b[0m\u001b[0;34m\u001b[0m\u001b[0m\n\u001b[1;32m    221\u001b[0m         \u001b[0mopener\u001b[0m \u001b[0;34m=\u001b[0m \u001b[0m_opener\u001b[0m\u001b[0;34m\u001b[0m\u001b[0;34m\u001b[0m\u001b[0m\n\u001b[0;32m--> 222\u001b[0;31m     \u001b[0;32mreturn\u001b[0m \u001b[0mopener\u001b[0m\u001b[0;34m.\u001b[0m\u001b[0mopen\u001b[0m\u001b[0;34m(\u001b[0m\u001b[0murl\u001b[0m\u001b[0;34m,\u001b[0m \u001b[0mdata\u001b[0m\u001b[0;34m,\u001b[0m \u001b[0mtimeout\u001b[0m\u001b[0;34m)\u001b[0m\u001b[0;34m\u001b[0m\u001b[0;34m\u001b[0m\u001b[0m\n\u001b[0m\u001b[1;32m    223\u001b[0m \u001b[0;34m\u001b[0m\u001b[0m\n\u001b[1;32m    224\u001b[0m \u001b[0;32mdef\u001b[0m \u001b[0minstall_opener\u001b[0m\u001b[0;34m(\u001b[0m\u001b[0mopener\u001b[0m\u001b[0;34m)\u001b[0m\u001b[0;34m:\u001b[0m\u001b[0;34m\u001b[0m\u001b[0;34m\u001b[0m\u001b[0m\n",
      "\u001b[0;32m~/apps/anaconda3/lib/python3.8/urllib/request.py\u001b[0m in \u001b[0;36mopen\u001b[0;34m(self, fullurl, data, timeout)\u001b[0m\n\u001b[1;32m    523\u001b[0m \u001b[0;34m\u001b[0m\u001b[0m\n\u001b[1;32m    524\u001b[0m         \u001b[0msys\u001b[0m\u001b[0;34m.\u001b[0m\u001b[0maudit\u001b[0m\u001b[0;34m(\u001b[0m\u001b[0;34m'urllib.Request'\u001b[0m\u001b[0;34m,\u001b[0m \u001b[0mreq\u001b[0m\u001b[0;34m.\u001b[0m\u001b[0mfull_url\u001b[0m\u001b[0;34m,\u001b[0m \u001b[0mreq\u001b[0m\u001b[0;34m.\u001b[0m\u001b[0mdata\u001b[0m\u001b[0;34m,\u001b[0m \u001b[0mreq\u001b[0m\u001b[0;34m.\u001b[0m\u001b[0mheaders\u001b[0m\u001b[0;34m,\u001b[0m \u001b[0mreq\u001b[0m\u001b[0;34m.\u001b[0m\u001b[0mget_method\u001b[0m\u001b[0;34m(\u001b[0m\u001b[0;34m)\u001b[0m\u001b[0;34m)\u001b[0m\u001b[0;34m\u001b[0m\u001b[0;34m\u001b[0m\u001b[0m\n\u001b[0;32m--> 525\u001b[0;31m         \u001b[0mresponse\u001b[0m \u001b[0;34m=\u001b[0m \u001b[0mself\u001b[0m\u001b[0;34m.\u001b[0m\u001b[0m_open\u001b[0m\u001b[0;34m(\u001b[0m\u001b[0mreq\u001b[0m\u001b[0;34m,\u001b[0m \u001b[0mdata\u001b[0m\u001b[0;34m)\u001b[0m\u001b[0;34m\u001b[0m\u001b[0;34m\u001b[0m\u001b[0m\n\u001b[0m\u001b[1;32m    526\u001b[0m \u001b[0;34m\u001b[0m\u001b[0m\n\u001b[1;32m    527\u001b[0m         \u001b[0;31m# post-process response\u001b[0m\u001b[0;34m\u001b[0m\u001b[0;34m\u001b[0m\u001b[0;34m\u001b[0m\u001b[0m\n",
      "\u001b[0;32m~/apps/anaconda3/lib/python3.8/urllib/request.py\u001b[0m in \u001b[0;36m_open\u001b[0;34m(self, req, data)\u001b[0m\n\u001b[1;32m    540\u001b[0m \u001b[0;34m\u001b[0m\u001b[0m\n\u001b[1;32m    541\u001b[0m         \u001b[0mprotocol\u001b[0m \u001b[0;34m=\u001b[0m \u001b[0mreq\u001b[0m\u001b[0;34m.\u001b[0m\u001b[0mtype\u001b[0m\u001b[0;34m\u001b[0m\u001b[0;34m\u001b[0m\u001b[0m\n\u001b[0;32m--> 542\u001b[0;31m         result = self._call_chain(self.handle_open, protocol, protocol +\n\u001b[0m\u001b[1;32m    543\u001b[0m                                   '_open', req)\n\u001b[1;32m    544\u001b[0m         \u001b[0;32mif\u001b[0m \u001b[0mresult\u001b[0m\u001b[0;34m:\u001b[0m\u001b[0;34m\u001b[0m\u001b[0;34m\u001b[0m\u001b[0m\n",
      "\u001b[0;32m~/apps/anaconda3/lib/python3.8/urllib/request.py\u001b[0m in \u001b[0;36m_call_chain\u001b[0;34m(self, chain, kind, meth_name, *args)\u001b[0m\n\u001b[1;32m    500\u001b[0m         \u001b[0;32mfor\u001b[0m \u001b[0mhandler\u001b[0m \u001b[0;32min\u001b[0m \u001b[0mhandlers\u001b[0m\u001b[0;34m:\u001b[0m\u001b[0;34m\u001b[0m\u001b[0;34m\u001b[0m\u001b[0m\n\u001b[1;32m    501\u001b[0m             \u001b[0mfunc\u001b[0m \u001b[0;34m=\u001b[0m \u001b[0mgetattr\u001b[0m\u001b[0;34m(\u001b[0m\u001b[0mhandler\u001b[0m\u001b[0;34m,\u001b[0m \u001b[0mmeth_name\u001b[0m\u001b[0;34m)\u001b[0m\u001b[0;34m\u001b[0m\u001b[0;34m\u001b[0m\u001b[0m\n\u001b[0;32m--> 502\u001b[0;31m             \u001b[0mresult\u001b[0m \u001b[0;34m=\u001b[0m \u001b[0mfunc\u001b[0m\u001b[0;34m(\u001b[0m\u001b[0;34m*\u001b[0m\u001b[0margs\u001b[0m\u001b[0;34m)\u001b[0m\u001b[0;34m\u001b[0m\u001b[0;34m\u001b[0m\u001b[0m\n\u001b[0m\u001b[1;32m    503\u001b[0m             \u001b[0;32mif\u001b[0m \u001b[0mresult\u001b[0m \u001b[0;32mis\u001b[0m \u001b[0;32mnot\u001b[0m \u001b[0;32mNone\u001b[0m\u001b[0;34m:\u001b[0m\u001b[0;34m\u001b[0m\u001b[0;34m\u001b[0m\u001b[0m\n\u001b[1;32m    504\u001b[0m                 \u001b[0;32mreturn\u001b[0m \u001b[0mresult\u001b[0m\u001b[0;34m\u001b[0m\u001b[0;34m\u001b[0m\u001b[0m\n",
      "\u001b[0;32m~/apps/anaconda3/lib/python3.8/urllib/request.py\u001b[0m in \u001b[0;36mhttps_open\u001b[0;34m(self, req)\u001b[0m\n\u001b[1;32m   1391\u001b[0m \u001b[0;34m\u001b[0m\u001b[0m\n\u001b[1;32m   1392\u001b[0m         \u001b[0;32mdef\u001b[0m \u001b[0mhttps_open\u001b[0m\u001b[0;34m(\u001b[0m\u001b[0mself\u001b[0m\u001b[0;34m,\u001b[0m \u001b[0mreq\u001b[0m\u001b[0;34m)\u001b[0m\u001b[0;34m:\u001b[0m\u001b[0;34m\u001b[0m\u001b[0;34m\u001b[0m\u001b[0m\n\u001b[0;32m-> 1393\u001b[0;31m             return self.do_open(http.client.HTTPSConnection, req,\n\u001b[0m\u001b[1;32m   1394\u001b[0m                 context=self._context, check_hostname=self._check_hostname)\n\u001b[1;32m   1395\u001b[0m \u001b[0;34m\u001b[0m\u001b[0m\n",
      "\u001b[0;32m~/apps/anaconda3/lib/python3.8/urllib/request.py\u001b[0m in \u001b[0;36mdo_open\u001b[0;34m(self, http_class, req, **http_conn_args)\u001b[0m\n\u001b[1;32m   1351\u001b[0m                           encode_chunked=req.has_header('Transfer-encoding'))\n\u001b[1;32m   1352\u001b[0m             \u001b[0;32mexcept\u001b[0m \u001b[0mOSError\u001b[0m \u001b[0;32mas\u001b[0m \u001b[0merr\u001b[0m\u001b[0;34m:\u001b[0m \u001b[0;31m# timeout error\u001b[0m\u001b[0;34m\u001b[0m\u001b[0;34m\u001b[0m\u001b[0m\n\u001b[0;32m-> 1353\u001b[0;31m                 \u001b[0;32mraise\u001b[0m \u001b[0mURLError\u001b[0m\u001b[0;34m(\u001b[0m\u001b[0merr\u001b[0m\u001b[0;34m)\u001b[0m\u001b[0;34m\u001b[0m\u001b[0;34m\u001b[0m\u001b[0m\n\u001b[0m\u001b[1;32m   1354\u001b[0m             \u001b[0mr\u001b[0m \u001b[0;34m=\u001b[0m \u001b[0mh\u001b[0m\u001b[0;34m.\u001b[0m\u001b[0mgetresponse\u001b[0m\u001b[0;34m(\u001b[0m\u001b[0;34m)\u001b[0m\u001b[0;34m\u001b[0m\u001b[0;34m\u001b[0m\u001b[0m\n\u001b[1;32m   1355\u001b[0m         \u001b[0;32mexcept\u001b[0m\u001b[0;34m:\u001b[0m\u001b[0;34m\u001b[0m\u001b[0;34m\u001b[0m\u001b[0m\n",
      "\u001b[0;31mURLError\u001b[0m: <urlopen error [Errno -3] Temporary failure in name resolution>"
     ]
    }
   ],
   "source": [
    "#get championships links\n",
    "main_soup = get_page_soup(url)\n",
    "#equipe_soup\n",
    "#a aria-label = '/Football/' class = 'Link Menu__accordionTitle'\n",
    "championships = main_soup.find(\"div\", {\"class\": 'Menu__accordion js-menu-accordion is-active'}).findAll(\"li\", {\"class\":\"Menu__item\" })\n",
    "print(championships[0].a['href'])\n",
    "championships_dict = {'name':[], 'link':[]}\n",
    "for champ in championships:\n",
    "    championships_dict['name'].append(champ.a.text.split('\\n')[1].strip())\n",
    "    championships_dict['link'].append(champ.a['href'])\n",
    "\n",
    "df_championships = pd.DataFrame(championships_dict)\n",
    "df_championships.head()"
   ]
  },
  {
   "cell_type": "code",
   "execution_count": 12,
   "metadata": {},
   "outputs": [
    {
     "ename": "NameError",
     "evalue": "name 'df_championships' is not defined",
     "output_type": "error",
     "traceback": [
      "\u001b[0;31m---------------------------------------------------------------------------\u001b[0m",
      "\u001b[0;31mNameError\u001b[0m                                 Traceback (most recent call last)",
      "\u001b[0;32m<ipython-input-12-417198ffd988>\u001b[0m in \u001b[0;36m<module>\u001b[0;34m\u001b[0m\n\u001b[1;32m      1\u001b[0m \u001b[0mresults_link_list\u001b[0m \u001b[0;34m=\u001b[0m \u001b[0;34m[\u001b[0m\u001b[0;34m]\u001b[0m\u001b[0;34m;\u001b[0m \u001b[0mteams_link_list\u001b[0m \u001b[0;34m=\u001b[0m \u001b[0;34m[\u001b[0m\u001b[0;34m]\u001b[0m\u001b[0;34m;\u001b[0m \u001b[0mmatches_link_list\u001b[0m \u001b[0;34m=\u001b[0m \u001b[0;34m[\u001b[0m\u001b[0;34m]\u001b[0m\u001b[0;34m;\u001b[0m \u001b[0marchives_link_list\u001b[0m \u001b[0;34m=\u001b[0m \u001b[0;34m[\u001b[0m\u001b[0;34m]\u001b[0m\u001b[0;34m\u001b[0m\u001b[0;34m\u001b[0m\u001b[0m\n\u001b[1;32m      2\u001b[0m \u001b[0;34m\u001b[0m\u001b[0m\n\u001b[0;32m----> 3\u001b[0;31m \u001b[0;32mfor\u001b[0m \u001b[0mi\u001b[0m \u001b[0;32min\u001b[0m \u001b[0mrange\u001b[0m\u001b[0;34m(\u001b[0m\u001b[0mlen\u001b[0m\u001b[0;34m(\u001b[0m\u001b[0mdf_championships\u001b[0m\u001b[0;34m)\u001b[0m\u001b[0;34m)\u001b[0m\u001b[0;34m:\u001b[0m\u001b[0;34m\u001b[0m\u001b[0;34m\u001b[0m\u001b[0m\n\u001b[0m\u001b[1;32m      4\u001b[0m     \u001b[0murl_champ\u001b[0m \u001b[0;34m=\u001b[0m \u001b[0mdf_championships\u001b[0m\u001b[0;34m.\u001b[0m\u001b[0mloc\u001b[0m\u001b[0;34m[\u001b[0m\u001b[0mi\u001b[0m\u001b[0;34m,\u001b[0m\u001b[0;34m'link'\u001b[0m\u001b[0;34m]\u001b[0m\u001b[0;34m\u001b[0m\u001b[0;34m\u001b[0m\u001b[0m\n\u001b[1;32m      5\u001b[0m     \u001b[0;31m# insert code below here after\u001b[0m\u001b[0;34m\u001b[0m\u001b[0;34m\u001b[0m\u001b[0;34m\u001b[0m\u001b[0m\n",
      "\u001b[0;31mNameError\u001b[0m: name 'df_championships' is not defined"
     ]
    }
   ],
   "source": [
    "results_link_list = []; teams_link_list = []; matches_link_list = []; archives_link_list = []\n",
    "\n",
    "for i in range(len(df_championships)):\n",
    "    url_champ = df_championships.loc[i,'link']\n",
    "    # insert code below here after\n",
    "    \n",
    "    # for single championship\n",
    "    #url_champ = df_championships.loc[2,'link']\n",
    "    page_championship = get_page_soup(url_champ)\n",
    "    navigator_items = page_championship.find(\"div\", {\"class\": \"MainNav__items js-mainNavItems\"}).findAll(\"a\", {\"class\": \"Link MainNav__item\"})\n",
    "\n",
    "    results_link = None; teams_link = None; matches_link = None; archives_link = None\n",
    "\n",
    "    for item in navigator_items:\n",
    "\n",
    "        if \"résultats\" in item.text.strip().split():\n",
    "            #print(\"res\")\n",
    "            results_link = item[\"href\"]\n",
    "        if \"sélections\" in item.text.strip().split() or \"clubs\" in item.text.strip().split():\n",
    "            #print('TEAMS link: {}'.format(item[\"href\"]))   \n",
    "            teams_link = item[\"href\"]\n",
    "        if \"matches\" in item.text.strip().split() or \"matchs\" in item.text.strip().split():\n",
    "            #print('MATCHES link: {}'.format(item[\"href\"]))\n",
    "            matches_link = item['href']\n",
    "        if \"archives\" in item.text.strip().split():\n",
    "            #print(\"res\")\n",
    "            archives_link = item[\"href\"]\n",
    "\n",
    "    #results_link_list.append(results_link)\n",
    "    teams_link_list.append(teams_link)\n",
    "    #matches_link_list.append(matches_link)\n",
    "    archives_link_list.append(archives_link)\n",
    "\n",
    "#df_championships['result_link'] = results_link_list\n",
    "df_championships['teams_link'] = teams_link_list\n",
    "#df_championships['matches_link'] = matches_link_list\n",
    "df_championships['archives_link'] = archives_link_list"
   ]
  },
  {
   "cell_type": "code",
   "execution_count": 6,
   "metadata": {},
   "outputs": [
    {
     "data": {
      "text/plain": [
       "name              0\n",
       "link              0\n",
       "teams_link       14\n",
       "archives_link    15\n",
       "dtype: int64"
      ]
     },
     "execution_count": 6,
     "metadata": {},
     "output_type": "execute_result"
    }
   ],
   "source": [
    "df_championships.isnull().sum()"
   ]
  },
  {
   "cell_type": "markdown",
   "metadata": {},
   "source": [
    "### scrap teams and players\n",
    "\n"
   ]
  },
  {
   "cell_type": "code",
   "execution_count": 7,
   "metadata": {},
   "outputs": [],
   "source": [
    "## create database teams"
   ]
  },
  {
   "cell_type": "code",
   "execution_count": 8,
   "metadata": {},
   "outputs": [],
   "source": [
    "# for i in range(len(df_championships)):\n",
    "#     url_teams = df_championships.loc[i,'teams_link']\n",
    "#     if url_teams is not None:\n",
    "#         try:\n",
    "            \n",
    "#         except:\n",
    "#             pass\n",
    "\n",
    "url_teams = df_championships.loc[2,'teams_link']\n",
    "champ_name = df_championships.loc[2, 'name']\n",
    "## champ_year_start = df_championships.loc[2, 'year_start']\n",
    "\n",
    "teams_page = get_page_soup(url_teams)\n",
    "\n",
    "teams = teams_page.find(\"ul\", {\"class\": \"clubs\"}).findAll(\"li\")\n",
    "team_links = [team.h2.a['href'] for team in teams if team.h2 is not None]\n",
    "team_links = [main_url + link for link in team_links if 'https://' not in link ]\n",
    "team_names = [team.h2.a.text.strip() for team in teams if team.h2 is not None]\n"
   ]
  },
  {
   "cell_type": "code",
   "execution_count": 9,
   "metadata": {},
   "outputs": [],
   "source": [
    "# get info for each team\n",
    "\n",
    "dict_teams = {\n",
    "    'city': [],\n",
    "    'name': [],\n",
    "    'coach_name': [],\n",
    "    'president': [],\n",
    "    'year_founded': [],\n",
    "    'championship': []\n",
    "}\n",
    "dict_players = {\n",
    "    'number': [],\n",
    "    'name': [],\n",
    "    'country': [],\n",
    "    'birthday': [],\n",
    "    'position': [],\n",
    "    'club': []\n",
    "}\n",
    "df_players = pd.DataFrame(dict_players)\n",
    "#print(df_players.head())\n",
    "for i, (link, name) in enumerate(zip(team_links, team_names)):\n",
    "\n",
    "#     link = df_teams_links.loc[i, 'links']\n",
    "#     name = df_teams_links.loc[i, 'team_short_names']\n",
    "    #print(name)\n",
    "    # team info and player info dirty tables\n",
    "    team_info = pd.read_html(link)[0]\n",
    "\n",
    "    dict_teams['city'].append(name)\n",
    "    dict_teams['name'].append(team_info.loc[0, 0].split(':')[1].strip())\n",
    "    dict_teams['year_founded'].append(team_info.loc[1, 0].split(':')[1].strip())\n",
    "    dict_teams['president'].append(team_info.loc[2, 0].split(':')[1].strip())\n",
    "    dict_teams['coach_name'].append(team_info.loc[3, 0].split(':')[1].strip())\n",
    "    dict_teams['championship'].append(champ_name)\n",
    "\n",
    "    # players info\n",
    "    if len(pd.read_html(link)[2]) > 5:\n",
    "        team_players = pd.read_html(link)[2]\n",
    "    else:\n",
    "        team_players = pd.read_html(link)[1]\n",
    "\n",
    "    old_column_names = team_players.columns\n",
    "    team_players = team_players.rename(\n",
    "        columns={\n",
    "            'Unnamed: 0': 'number',\n",
    "            'Nom': 'name',\n",
    "            'Pays': 'country',\n",
    "            old_column_names[3]: 'birthday',\n",
    "            'Pos.': 'position'\n",
    "        })\n",
    "    team_players['club'] = name\n",
    "\n",
    "    df_players = pd.concat([df_players, team_players], ignore_index=True)\n",
    "    #print(df_players.tail(2))\n",
    "\n",
    "df_teams = pd.DataFrame(dict_teams)"
   ]
  },
  {
   "cell_type": "code",
   "execution_count": 10,
   "metadata": {},
   "outputs": [
    {
     "data": {
      "text/plain": [
       "number      106\n",
       "name          0\n",
       "country       0\n",
       "birthday      5\n",
       "position      0\n",
       "club          0\n",
       "dtype: int64"
      ]
     },
     "execution_count": 10,
     "metadata": {},
     "output_type": "execute_result"
    }
   ],
   "source": [
    "df_players.isnull().sum()"
   ]
  },
  {
   "cell_type": "code",
   "execution_count": 11,
   "metadata": {},
   "outputs": [
    {
     "data": {
      "application/javascript": [
       "\n",
       "        if (window._pyforest_update_imports_cell) { window._pyforest_update_imports_cell('import numpy as np'); }\n",
       "    "
      ],
      "text/plain": [
       "<IPython.core.display.Javascript object>"
      ]
     },
     "metadata": {},
     "output_type": "display_data"
    },
    {
     "data": {
      "application/javascript": [
       "\n",
       "        if (window._pyforest_update_imports_cell) { window._pyforest_update_imports_cell('import numpy as np'); }\n",
       "    "
      ],
      "text/plain": [
       "<IPython.core.display.Javascript object>"
      ]
     },
     "metadata": {},
     "output_type": "display_data"
    },
    {
     "data": {
      "application/javascript": [
       "\n",
       "        if (window._pyforest_update_imports_cell) { window._pyforest_update_imports_cell('import numpy as np'); }\n",
       "    "
      ],
      "text/plain": [
       "<IPython.core.display.Javascript object>"
      ]
     },
     "metadata": {},
     "output_type": "display_data"
    },
    {
     "data": {
      "application/javascript": [
       "\n",
       "        if (window._pyforest_update_imports_cell) { window._pyforest_update_imports_cell('import numpy as np'); }\n",
       "    "
      ],
      "text/plain": [
       "<IPython.core.display.Javascript object>"
      ]
     },
     "metadata": {},
     "output_type": "display_data"
    },
    {
     "data": {
      "application/javascript": [
       "\n",
       "        if (window._pyforest_update_imports_cell) { window._pyforest_update_imports_cell('import numpy as np'); }\n",
       "    "
      ],
      "text/plain": [
       "<IPython.core.display.Javascript object>"
      ]
     },
     "metadata": {},
     "output_type": "display_data"
    },
    {
     "data": {
      "application/javascript": [
       "\n",
       "        if (window._pyforest_update_imports_cell) { window._pyforest_update_imports_cell('import numpy as np'); }\n",
       "    "
      ],
      "text/plain": [
       "<IPython.core.display.Javascript object>"
      ]
     },
     "metadata": {},
     "output_type": "display_data"
    },
    {
     "data": {
      "application/javascript": [
       "\n",
       "        if (window._pyforest_update_imports_cell) { window._pyforest_update_imports_cell('import numpy as np'); }\n",
       "    "
      ],
      "text/plain": [
       "<IPython.core.display.Javascript object>"
      ]
     },
     "metadata": {},
     "output_type": "display_data"
    },
    {
     "data": {
      "application/javascript": [
       "\n",
       "        if (window._pyforest_update_imports_cell) { window._pyforest_update_imports_cell('import numpy as np'); }\n",
       "    "
      ],
      "text/plain": [
       "<IPython.core.display.Javascript object>"
      ]
     },
     "metadata": {},
     "output_type": "display_data"
    },
    {
     "data": {
      "application/javascript": [
       "\n",
       "        if (window._pyforest_update_imports_cell) { window._pyforest_update_imports_cell('import numpy as np'); }\n",
       "    "
      ],
      "text/plain": [
       "<IPython.core.display.Javascript object>"
      ]
     },
     "metadata": {},
     "output_type": "display_data"
    },
    {
     "data": {
      "application/javascript": [
       "\n",
       "        if (window._pyforest_update_imports_cell) { window._pyforest_update_imports_cell('import numpy as np'); }\n",
       "    "
      ],
      "text/plain": [
       "<IPython.core.display.Javascript object>"
      ]
     },
     "metadata": {},
     "output_type": "display_data"
    },
    {
     "data": {
      "application/javascript": [
       "\n",
       "        if (window._pyforest_update_imports_cell) { window._pyforest_update_imports_cell('import numpy as np'); }\n",
       "    "
      ],
      "text/plain": [
       "<IPython.core.display.Javascript object>"
      ]
     },
     "metadata": {},
     "output_type": "display_data"
    },
    {
     "data": {
      "application/javascript": [
       "\n",
       "        if (window._pyforest_update_imports_cell) { window._pyforest_update_imports_cell('import numpy as np'); }\n",
       "    "
      ],
      "text/plain": [
       "<IPython.core.display.Javascript object>"
      ]
     },
     "metadata": {},
     "output_type": "display_data"
    },
    {
     "data": {
      "application/javascript": [
       "\n",
       "        if (window._pyforest_update_imports_cell) { window._pyforest_update_imports_cell('import numpy as np'); }\n",
       "    "
      ],
      "text/plain": [
       "<IPython.core.display.Javascript object>"
      ]
     },
     "metadata": {},
     "output_type": "display_data"
    },
    {
     "data": {
      "application/javascript": [
       "\n",
       "        if (window._pyforest_update_imports_cell) { window._pyforest_update_imports_cell('import numpy as np'); }\n",
       "    "
      ],
      "text/plain": [
       "<IPython.core.display.Javascript object>"
      ]
     },
     "metadata": {},
     "output_type": "display_data"
    },
    {
     "data": {
      "application/javascript": [
       "\n",
       "        if (window._pyforest_update_imports_cell) { window._pyforest_update_imports_cell('import numpy as np'); }\n",
       "    "
      ],
      "text/plain": [
       "<IPython.core.display.Javascript object>"
      ]
     },
     "metadata": {},
     "output_type": "display_data"
    },
    {
     "data": {
      "application/javascript": [
       "\n",
       "        if (window._pyforest_update_imports_cell) { window._pyforest_update_imports_cell('import numpy as np'); }\n",
       "    "
      ],
      "text/plain": [
       "<IPython.core.display.Javascript object>"
      ]
     },
     "metadata": {},
     "output_type": "display_data"
    },
    {
     "data": {
      "application/javascript": [
       "\n",
       "        if (window._pyforest_update_imports_cell) { window._pyforest_update_imports_cell('import numpy as np'); }\n",
       "    "
      ],
      "text/plain": [
       "<IPython.core.display.Javascript object>"
      ]
     },
     "metadata": {},
     "output_type": "display_data"
    },
    {
     "data": {
      "application/javascript": [
       "\n",
       "        if (window._pyforest_update_imports_cell) { window._pyforest_update_imports_cell('import numpy as np'); }\n",
       "    "
      ],
      "text/plain": [
       "<IPython.core.display.Javascript object>"
      ]
     },
     "metadata": {},
     "output_type": "display_data"
    },
    {
     "data": {
      "application/javascript": [
       "\n",
       "        if (window._pyforest_update_imports_cell) { window._pyforest_update_imports_cell('import numpy as np'); }\n",
       "    "
      ],
      "text/plain": [
       "<IPython.core.display.Javascript object>"
      ]
     },
     "metadata": {},
     "output_type": "display_data"
    },
    {
     "data": {
      "application/javascript": [
       "\n",
       "        if (window._pyforest_update_imports_cell) { window._pyforest_update_imports_cell('import numpy as np'); }\n",
       "    "
      ],
      "text/plain": [
       "<IPython.core.display.Javascript object>"
      ]
     },
     "metadata": {},
     "output_type": "display_data"
    },
    {
     "data": {
      "application/javascript": [
       "\n",
       "        if (window._pyforest_update_imports_cell) { window._pyforest_update_imports_cell('import numpy as np'); }\n",
       "    "
      ],
      "text/plain": [
       "<IPython.core.display.Javascript object>"
      ]
     },
     "metadata": {},
     "output_type": "display_data"
    },
    {
     "data": {
      "application/javascript": [
       "\n",
       "        if (window._pyforest_update_imports_cell) { window._pyforest_update_imports_cell('import numpy as np'); }\n",
       "    "
      ],
      "text/plain": [
       "<IPython.core.display.Javascript object>"
      ]
     },
     "metadata": {},
     "output_type": "display_data"
    },
    {
     "data": {
      "application/javascript": [
       "\n",
       "        if (window._pyforest_update_imports_cell) { window._pyforest_update_imports_cell('import numpy as np'); }\n",
       "    "
      ],
      "text/plain": [
       "<IPython.core.display.Javascript object>"
      ]
     },
     "metadata": {},
     "output_type": "display_data"
    },
    {
     "data": {
      "application/javascript": [
       "\n",
       "        if (window._pyforest_update_imports_cell) { window._pyforest_update_imports_cell('import numpy as np'); }\n",
       "    "
      ],
      "text/plain": [
       "<IPython.core.display.Javascript object>"
      ]
     },
     "metadata": {},
     "output_type": "display_data"
    },
    {
     "data": {
      "application/javascript": [
       "\n",
       "        if (window._pyforest_update_imports_cell) { window._pyforest_update_imports_cell('import numpy as np'); }\n",
       "    "
      ],
      "text/plain": [
       "<IPython.core.display.Javascript object>"
      ]
     },
     "metadata": {},
     "output_type": "display_data"
    },
    {
     "data": {
      "application/javascript": [
       "\n",
       "        if (window._pyforest_update_imports_cell) { window._pyforest_update_imports_cell('import numpy as np'); }\n",
       "    "
      ],
      "text/plain": [
       "<IPython.core.display.Javascript object>"
      ]
     },
     "metadata": {},
     "output_type": "display_data"
    },
    {
     "data": {
      "application/javascript": [
       "\n",
       "        if (window._pyforest_update_imports_cell) { window._pyforest_update_imports_cell('import numpy as np'); }\n",
       "    "
      ],
      "text/plain": [
       "<IPython.core.display.Javascript object>"
      ]
     },
     "metadata": {},
     "output_type": "display_data"
    },
    {
     "data": {
      "application/javascript": [
       "\n",
       "        if (window._pyforest_update_imports_cell) { window._pyforest_update_imports_cell('import numpy as np'); }\n",
       "    "
      ],
      "text/plain": [
       "<IPython.core.display.Javascript object>"
      ]
     },
     "metadata": {},
     "output_type": "display_data"
    },
    {
     "data": {
      "application/javascript": [
       "\n",
       "        if (window._pyforest_update_imports_cell) { window._pyforest_update_imports_cell('import numpy as np'); }\n",
       "    "
      ],
      "text/plain": [
       "<IPython.core.display.Javascript object>"
      ]
     },
     "metadata": {},
     "output_type": "display_data"
    },
    {
     "data": {
      "application/javascript": [
       "\n",
       "        if (window._pyforest_update_imports_cell) { window._pyforest_update_imports_cell('import numpy as np'); }\n",
       "    "
      ],
      "text/plain": [
       "<IPython.core.display.Javascript object>"
      ]
     },
     "metadata": {},
     "output_type": "display_data"
    },
    {
     "data": {
      "application/javascript": [
       "\n",
       "        if (window._pyforest_update_imports_cell) { window._pyforest_update_imports_cell('import numpy as np'); }\n",
       "    "
      ],
      "text/plain": [
       "<IPython.core.display.Javascript object>"
      ]
     },
     "metadata": {},
     "output_type": "display_data"
    },
    {
     "data": {
      "application/javascript": [
       "\n",
       "        if (window._pyforest_update_imports_cell) { window._pyforest_update_imports_cell('import numpy as np'); }\n",
       "    "
      ],
      "text/plain": [
       "<IPython.core.display.Javascript object>"
      ]
     },
     "metadata": {},
     "output_type": "display_data"
    },
    {
     "data": {
      "application/javascript": [
       "\n",
       "        if (window._pyforest_update_imports_cell) { window._pyforest_update_imports_cell('import numpy as np'); }\n",
       "    "
      ],
      "text/plain": [
       "<IPython.core.display.Javascript object>"
      ]
     },
     "metadata": {},
     "output_type": "display_data"
    },
    {
     "data": {
      "application/javascript": [
       "\n",
       "        if (window._pyforest_update_imports_cell) { window._pyforest_update_imports_cell('import numpy as np'); }\n",
       "    "
      ],
      "text/plain": [
       "<IPython.core.display.Javascript object>"
      ]
     },
     "metadata": {},
     "output_type": "display_data"
    },
    {
     "data": {
      "application/javascript": [
       "\n",
       "        if (window._pyforest_update_imports_cell) { window._pyforest_update_imports_cell('import numpy as np'); }\n",
       "    "
      ],
      "text/plain": [
       "<IPython.core.display.Javascript object>"
      ]
     },
     "metadata": {},
     "output_type": "display_data"
    },
    {
     "data": {
      "application/javascript": [
       "\n",
       "        if (window._pyforest_update_imports_cell) { window._pyforest_update_imports_cell('import numpy as np'); }\n",
       "    "
      ],
      "text/plain": [
       "<IPython.core.display.Javascript object>"
      ]
     },
     "metadata": {},
     "output_type": "display_data"
    },
    {
     "data": {
      "application/javascript": [
       "\n",
       "        if (window._pyforest_update_imports_cell) { window._pyforest_update_imports_cell('import numpy as np'); }\n",
       "    "
      ],
      "text/plain": [
       "<IPython.core.display.Javascript object>"
      ]
     },
     "metadata": {},
     "output_type": "display_data"
    },
    {
     "data": {
      "application/javascript": [
       "\n",
       "        if (window._pyforest_update_imports_cell) { window._pyforest_update_imports_cell('import numpy as np'); }\n",
       "    "
      ],
      "text/plain": [
       "<IPython.core.display.Javascript object>"
      ]
     },
     "metadata": {},
     "output_type": "display_data"
    },
    {
     "data": {
      "application/javascript": [
       "\n",
       "        if (window._pyforest_update_imports_cell) { window._pyforest_update_imports_cell('import numpy as np'); }\n",
       "    "
      ],
      "text/plain": [
       "<IPython.core.display.Javascript object>"
      ]
     },
     "metadata": {},
     "output_type": "display_data"
    },
    {
     "data": {
      "application/javascript": [
       "\n",
       "        if (window._pyforest_update_imports_cell) { window._pyforest_update_imports_cell('import numpy as np'); }\n",
       "    "
      ],
      "text/plain": [
       "<IPython.core.display.Javascript object>"
      ]
     },
     "metadata": {},
     "output_type": "display_data"
    },
    {
     "data": {
      "application/javascript": [
       "\n",
       "        if (window._pyforest_update_imports_cell) { window._pyforest_update_imports_cell('import numpy as np'); }\n",
       "    "
      ],
      "text/plain": [
       "<IPython.core.display.Javascript object>"
      ]
     },
     "metadata": {},
     "output_type": "display_data"
    },
    {
     "data": {
      "application/javascript": [
       "\n",
       "        if (window._pyforest_update_imports_cell) { window._pyforest_update_imports_cell('import numpy as np'); }\n",
       "    "
      ],
      "text/plain": [
       "<IPython.core.display.Javascript object>"
      ]
     },
     "metadata": {},
     "output_type": "display_data"
    },
    {
     "data": {
      "application/javascript": [
       "\n",
       "        if (window._pyforest_update_imports_cell) { window._pyforest_update_imports_cell('import numpy as np'); }\n",
       "    "
      ],
      "text/plain": [
       "<IPython.core.display.Javascript object>"
      ]
     },
     "metadata": {},
     "output_type": "display_data"
    },
    {
     "data": {
      "application/javascript": [
       "\n",
       "        if (window._pyforest_update_imports_cell) { window._pyforest_update_imports_cell('import numpy as np'); }\n",
       "    "
      ],
      "text/plain": [
       "<IPython.core.display.Javascript object>"
      ]
     },
     "metadata": {},
     "output_type": "display_data"
    },
    {
     "data": {
      "application/javascript": [
       "\n",
       "        if (window._pyforest_update_imports_cell) { window._pyforest_update_imports_cell('import numpy as np'); }\n",
       "    "
      ],
      "text/plain": [
       "<IPython.core.display.Javascript object>"
      ]
     },
     "metadata": {},
     "output_type": "display_data"
    },
    {
     "data": {
      "application/javascript": [
       "\n",
       "        if (window._pyforest_update_imports_cell) { window._pyforest_update_imports_cell('import numpy as np'); }\n",
       "    "
      ],
      "text/plain": [
       "<IPython.core.display.Javascript object>"
      ]
     },
     "metadata": {},
     "output_type": "display_data"
    },
    {
     "data": {
      "application/javascript": [
       "\n",
       "        if (window._pyforest_update_imports_cell) { window._pyforest_update_imports_cell('import numpy as np'); }\n",
       "    "
      ],
      "text/plain": [
       "<IPython.core.display.Javascript object>"
      ]
     },
     "metadata": {},
     "output_type": "display_data"
    },
    {
     "data": {
      "application/javascript": [
       "\n",
       "        if (window._pyforest_update_imports_cell) { window._pyforest_update_imports_cell('import numpy as np'); }\n",
       "    "
      ],
      "text/plain": [
       "<IPython.core.display.Javascript object>"
      ]
     },
     "metadata": {},
     "output_type": "display_data"
    },
    {
     "data": {
      "application/javascript": [
       "\n",
       "        if (window._pyforest_update_imports_cell) { window._pyforest_update_imports_cell('import numpy as np'); }\n",
       "    "
      ],
      "text/plain": [
       "<IPython.core.display.Javascript object>"
      ]
     },
     "metadata": {},
     "output_type": "display_data"
    },
    {
     "data": {
      "application/javascript": [
       "\n",
       "        if (window._pyforest_update_imports_cell) { window._pyforest_update_imports_cell('import numpy as np'); }\n",
       "    "
      ],
      "text/plain": [
       "<IPython.core.display.Javascript object>"
      ]
     },
     "metadata": {},
     "output_type": "display_data"
    },
    {
     "data": {
      "application/javascript": [
       "\n",
       "        if (window._pyforest_update_imports_cell) { window._pyforest_update_imports_cell('import numpy as np'); }\n",
       "    "
      ],
      "text/plain": [
       "<IPython.core.display.Javascript object>"
      ]
     },
     "metadata": {},
     "output_type": "display_data"
    },
    {
     "data": {
      "application/javascript": [
       "\n",
       "        if (window._pyforest_update_imports_cell) { window._pyforest_update_imports_cell('import numpy as np'); }\n",
       "    "
      ],
      "text/plain": [
       "<IPython.core.display.Javascript object>"
      ]
     },
     "metadata": {},
     "output_type": "display_data"
    },
    {
     "data": {
      "application/javascript": [
       "\n",
       "        if (window._pyforest_update_imports_cell) { window._pyforest_update_imports_cell('import numpy as np'); }\n",
       "    "
      ],
      "text/plain": [
       "<IPython.core.display.Javascript object>"
      ]
     },
     "metadata": {},
     "output_type": "display_data"
    },
    {
     "data": {
      "application/javascript": [
       "\n",
       "        if (window._pyforest_update_imports_cell) { window._pyforest_update_imports_cell('import numpy as np'); }\n",
       "    "
      ],
      "text/plain": [
       "<IPython.core.display.Javascript object>"
      ]
     },
     "metadata": {},
     "output_type": "display_data"
    },
    {
     "data": {
      "application/javascript": [
       "\n",
       "        if (window._pyforest_update_imports_cell) { window._pyforest_update_imports_cell('import numpy as np'); }\n",
       "    "
      ],
      "text/plain": [
       "<IPython.core.display.Javascript object>"
      ]
     },
     "metadata": {},
     "output_type": "display_data"
    },
    {
     "data": {
      "application/javascript": [
       "\n",
       "        if (window._pyforest_update_imports_cell) { window._pyforest_update_imports_cell('import numpy as np'); }\n",
       "    "
      ],
      "text/plain": [
       "<IPython.core.display.Javascript object>"
      ]
     },
     "metadata": {},
     "output_type": "display_data"
    },
    {
     "data": {
      "application/javascript": [
       "\n",
       "        if (window._pyforest_update_imports_cell) { window._pyforest_update_imports_cell('import numpy as np'); }\n",
       "    "
      ],
      "text/plain": [
       "<IPython.core.display.Javascript object>"
      ]
     },
     "metadata": {},
     "output_type": "display_data"
    },
    {
     "data": {
      "application/javascript": [
       "\n",
       "        if (window._pyforest_update_imports_cell) { window._pyforest_update_imports_cell('import numpy as np'); }\n",
       "    "
      ],
      "text/plain": [
       "<IPython.core.display.Javascript object>"
      ]
     },
     "metadata": {},
     "output_type": "display_data"
    },
    {
     "data": {
      "application/javascript": [
       "\n",
       "        if (window._pyforest_update_imports_cell) { window._pyforest_update_imports_cell('import numpy as np'); }\n",
       "    "
      ],
      "text/plain": [
       "<IPython.core.display.Javascript object>"
      ]
     },
     "metadata": {},
     "output_type": "display_data"
    },
    {
     "data": {
      "application/javascript": [
       "\n",
       "        if (window._pyforest_update_imports_cell) { window._pyforest_update_imports_cell('import numpy as np'); }\n",
       "    "
      ],
      "text/plain": [
       "<IPython.core.display.Javascript object>"
      ]
     },
     "metadata": {},
     "output_type": "display_data"
    },
    {
     "data": {
      "application/javascript": [
       "\n",
       "        if (window._pyforest_update_imports_cell) { window._pyforest_update_imports_cell('import numpy as np'); }\n",
       "    "
      ],
      "text/plain": [
       "<IPython.core.display.Javascript object>"
      ]
     },
     "metadata": {},
     "output_type": "display_data"
    },
    {
     "data": {
      "application/javascript": [
       "\n",
       "        if (window._pyforest_update_imports_cell) { window._pyforest_update_imports_cell('import numpy as np'); }\n",
       "    "
      ],
      "text/plain": [
       "<IPython.core.display.Javascript object>"
      ]
     },
     "metadata": {},
     "output_type": "display_data"
    },
    {
     "data": {
      "application/javascript": [
       "\n",
       "        if (window._pyforest_update_imports_cell) { window._pyforest_update_imports_cell('import numpy as np'); }\n",
       "    "
      ],
      "text/plain": [
       "<IPython.core.display.Javascript object>"
      ]
     },
     "metadata": {},
     "output_type": "display_data"
    },
    {
     "data": {
      "application/javascript": [
       "\n",
       "        if (window._pyforest_update_imports_cell) { window._pyforest_update_imports_cell('import numpy as np'); }\n",
       "    "
      ],
      "text/plain": [
       "<IPython.core.display.Javascript object>"
      ]
     },
     "metadata": {},
     "output_type": "display_data"
    },
    {
     "data": {
      "application/javascript": [
       "\n",
       "        if (window._pyforest_update_imports_cell) { window._pyforest_update_imports_cell('import numpy as np'); }\n",
       "    "
      ],
      "text/plain": [
       "<IPython.core.display.Javascript object>"
      ]
     },
     "metadata": {},
     "output_type": "display_data"
    },
    {
     "data": {
      "application/javascript": [
       "\n",
       "        if (window._pyforest_update_imports_cell) { window._pyforest_update_imports_cell('import numpy as np'); }\n",
       "    "
      ],
      "text/plain": [
       "<IPython.core.display.Javascript object>"
      ]
     },
     "metadata": {},
     "output_type": "display_data"
    },
    {
     "data": {
      "application/javascript": [
       "\n",
       "        if (window._pyforest_update_imports_cell) { window._pyforest_update_imports_cell('import numpy as np'); }\n",
       "    "
      ],
      "text/plain": [
       "<IPython.core.display.Javascript object>"
      ]
     },
     "metadata": {},
     "output_type": "display_data"
    },
    {
     "data": {
      "application/javascript": [
       "\n",
       "        if (window._pyforest_update_imports_cell) { window._pyforest_update_imports_cell('import numpy as np'); }\n",
       "    "
      ],
      "text/plain": [
       "<IPython.core.display.Javascript object>"
      ]
     },
     "metadata": {},
     "output_type": "display_data"
    },
    {
     "data": {
      "application/javascript": [
       "\n",
       "        if (window._pyforest_update_imports_cell) { window._pyforest_update_imports_cell('import numpy as np'); }\n",
       "    "
      ],
      "text/plain": [
       "<IPython.core.display.Javascript object>"
      ]
     },
     "metadata": {},
     "output_type": "display_data"
    },
    {
     "data": {
      "application/javascript": [
       "\n",
       "        if (window._pyforest_update_imports_cell) { window._pyforest_update_imports_cell('import numpy as np'); }\n",
       "    "
      ],
      "text/plain": [
       "<IPython.core.display.Javascript object>"
      ]
     },
     "metadata": {},
     "output_type": "display_data"
    },
    {
     "data": {
      "application/javascript": [
       "\n",
       "        if (window._pyforest_update_imports_cell) { window._pyforest_update_imports_cell('import numpy as np'); }\n",
       "    "
      ],
      "text/plain": [
       "<IPython.core.display.Javascript object>"
      ]
     },
     "metadata": {},
     "output_type": "display_data"
    },
    {
     "data": {
      "application/javascript": [
       "\n",
       "        if (window._pyforest_update_imports_cell) { window._pyforest_update_imports_cell('import numpy as np'); }\n",
       "    "
      ],
      "text/plain": [
       "<IPython.core.display.Javascript object>"
      ]
     },
     "metadata": {},
     "output_type": "display_data"
    },
    {
     "data": {
      "application/javascript": [
       "\n",
       "        if (window._pyforest_update_imports_cell) { window._pyforest_update_imports_cell('import numpy as np'); }\n",
       "    "
      ],
      "text/plain": [
       "<IPython.core.display.Javascript object>"
      ]
     },
     "metadata": {},
     "output_type": "display_data"
    },
    {
     "data": {
      "application/javascript": [
       "\n",
       "        if (window._pyforest_update_imports_cell) { window._pyforest_update_imports_cell('import numpy as np'); }\n",
       "    "
      ],
      "text/plain": [
       "<IPython.core.display.Javascript object>"
      ]
     },
     "metadata": {},
     "output_type": "display_data"
    },
    {
     "data": {
      "application/javascript": [
       "\n",
       "        if (window._pyforest_update_imports_cell) { window._pyforest_update_imports_cell('import numpy as np'); }\n",
       "    "
      ],
      "text/plain": [
       "<IPython.core.display.Javascript object>"
      ]
     },
     "metadata": {},
     "output_type": "display_data"
    },
    {
     "data": {
      "application/javascript": [
       "\n",
       "        if (window._pyforest_update_imports_cell) { window._pyforest_update_imports_cell('import numpy as np'); }\n",
       "    "
      ],
      "text/plain": [
       "<IPython.core.display.Javascript object>"
      ]
     },
     "metadata": {},
     "output_type": "display_data"
    },
    {
     "data": {
      "application/javascript": [
       "\n",
       "        if (window._pyforest_update_imports_cell) { window._pyforest_update_imports_cell('import numpy as np'); }\n",
       "    "
      ],
      "text/plain": [
       "<IPython.core.display.Javascript object>"
      ]
     },
     "metadata": {},
     "output_type": "display_data"
    },
    {
     "data": {
      "application/javascript": [
       "\n",
       "        if (window._pyforest_update_imports_cell) { window._pyforest_update_imports_cell('import numpy as np'); }\n",
       "    "
      ],
      "text/plain": [
       "<IPython.core.display.Javascript object>"
      ]
     },
     "metadata": {},
     "output_type": "display_data"
    },
    {
     "data": {
      "application/javascript": [
       "\n",
       "        if (window._pyforest_update_imports_cell) { window._pyforest_update_imports_cell('import numpy as np'); }\n",
       "    "
      ],
      "text/plain": [
       "<IPython.core.display.Javascript object>"
      ]
     },
     "metadata": {},
     "output_type": "display_data"
    },
    {
     "data": {
      "application/javascript": [
       "\n",
       "        if (window._pyforest_update_imports_cell) { window._pyforest_update_imports_cell('import numpy as np'); }\n",
       "    "
      ],
      "text/plain": [
       "<IPython.core.display.Javascript object>"
      ]
     },
     "metadata": {},
     "output_type": "display_data"
    },
    {
     "data": {
      "application/javascript": [
       "\n",
       "        if (window._pyforest_update_imports_cell) { window._pyforest_update_imports_cell('import numpy as np'); }\n",
       "    "
      ],
      "text/plain": [
       "<IPython.core.display.Javascript object>"
      ]
     },
     "metadata": {},
     "output_type": "display_data"
    },
    {
     "data": {
      "application/javascript": [
       "\n",
       "        if (window._pyforest_update_imports_cell) { window._pyforest_update_imports_cell('import numpy as np'); }\n",
       "    "
      ],
      "text/plain": [
       "<IPython.core.display.Javascript object>"
      ]
     },
     "metadata": {},
     "output_type": "display_data"
    },
    {
     "data": {
      "application/javascript": [
       "\n",
       "        if (window._pyforest_update_imports_cell) { window._pyforest_update_imports_cell('import numpy as np'); }\n",
       "    "
      ],
      "text/plain": [
       "<IPython.core.display.Javascript object>"
      ]
     },
     "metadata": {},
     "output_type": "display_data"
    },
    {
     "data": {
      "application/javascript": [
       "\n",
       "        if (window._pyforest_update_imports_cell) { window._pyforest_update_imports_cell('import numpy as np'); }\n",
       "    "
      ],
      "text/plain": [
       "<IPython.core.display.Javascript object>"
      ]
     },
     "metadata": {},
     "output_type": "display_data"
    },
    {
     "data": {
      "application/javascript": [
       "\n",
       "        if (window._pyforest_update_imports_cell) { window._pyforest_update_imports_cell('import numpy as np'); }\n",
       "    "
      ],
      "text/plain": [
       "<IPython.core.display.Javascript object>"
      ]
     },
     "metadata": {},
     "output_type": "display_data"
    },
    {
     "data": {
      "application/javascript": [
       "\n",
       "        if (window._pyforest_update_imports_cell) { window._pyforest_update_imports_cell('import numpy as np'); }\n",
       "    "
      ],
      "text/plain": [
       "<IPython.core.display.Javascript object>"
      ]
     },
     "metadata": {},
     "output_type": "display_data"
    },
    {
     "data": {
      "application/javascript": [
       "\n",
       "        if (window._pyforest_update_imports_cell) { window._pyforest_update_imports_cell('import numpy as np'); }\n",
       "    "
      ],
      "text/plain": [
       "<IPython.core.display.Javascript object>"
      ]
     },
     "metadata": {},
     "output_type": "display_data"
    },
    {
     "data": {
      "application/javascript": [
       "\n",
       "        if (window._pyforest_update_imports_cell) { window._pyforest_update_imports_cell('import numpy as np'); }\n",
       "    "
      ],
      "text/plain": [
       "<IPython.core.display.Javascript object>"
      ]
     },
     "metadata": {},
     "output_type": "display_data"
    },
    {
     "data": {
      "application/javascript": [
       "\n",
       "        if (window._pyforest_update_imports_cell) { window._pyforest_update_imports_cell('import numpy as np'); }\n",
       "    "
      ],
      "text/plain": [
       "<IPython.core.display.Javascript object>"
      ]
     },
     "metadata": {},
     "output_type": "display_data"
    },
    {
     "data": {
      "application/javascript": [
       "\n",
       "        if (window._pyforest_update_imports_cell) { window._pyforest_update_imports_cell('import numpy as np'); }\n",
       "    "
      ],
      "text/plain": [
       "<IPython.core.display.Javascript object>"
      ]
     },
     "metadata": {},
     "output_type": "display_data"
    },
    {
     "data": {
      "application/javascript": [
       "\n",
       "        if (window._pyforest_update_imports_cell) { window._pyforest_update_imports_cell('import numpy as np'); }\n",
       "    "
      ],
      "text/plain": [
       "<IPython.core.display.Javascript object>"
      ]
     },
     "metadata": {},
     "output_type": "display_data"
    },
    {
     "data": {
      "application/javascript": [
       "\n",
       "        if (window._pyforest_update_imports_cell) { window._pyforest_update_imports_cell('import numpy as np'); }\n",
       "    "
      ],
      "text/plain": [
       "<IPython.core.display.Javascript object>"
      ]
     },
     "metadata": {},
     "output_type": "display_data"
    },
    {
     "data": {
      "application/javascript": [
       "\n",
       "        if (window._pyforest_update_imports_cell) { window._pyforest_update_imports_cell('import numpy as np'); }\n",
       "    "
      ],
      "text/plain": [
       "<IPython.core.display.Javascript object>"
      ]
     },
     "metadata": {},
     "output_type": "display_data"
    },
    {
     "data": {
      "application/javascript": [
       "\n",
       "        if (window._pyforest_update_imports_cell) { window._pyforest_update_imports_cell('import numpy as np'); }\n",
       "    "
      ],
      "text/plain": [
       "<IPython.core.display.Javascript object>"
      ]
     },
     "metadata": {},
     "output_type": "display_data"
    },
    {
     "data": {
      "application/javascript": [
       "\n",
       "        if (window._pyforest_update_imports_cell) { window._pyforest_update_imports_cell('import numpy as np'); }\n",
       "    "
      ],
      "text/plain": [
       "<IPython.core.display.Javascript object>"
      ]
     },
     "metadata": {},
     "output_type": "display_data"
    },
    {
     "data": {
      "application/javascript": [
       "\n",
       "        if (window._pyforest_update_imports_cell) { window._pyforest_update_imports_cell('import numpy as np'); }\n",
       "    "
      ],
      "text/plain": [
       "<IPython.core.display.Javascript object>"
      ]
     },
     "metadata": {},
     "output_type": "display_data"
    },
    {
     "data": {
      "application/javascript": [
       "\n",
       "        if (window._pyforest_update_imports_cell) { window._pyforest_update_imports_cell('import numpy as np'); }\n",
       "    "
      ],
      "text/plain": [
       "<IPython.core.display.Javascript object>"
      ]
     },
     "metadata": {},
     "output_type": "display_data"
    },
    {
     "data": {
      "application/javascript": [
       "\n",
       "        if (window._pyforest_update_imports_cell) { window._pyforest_update_imports_cell('import numpy as np'); }\n",
       "    "
      ],
      "text/plain": [
       "<IPython.core.display.Javascript object>"
      ]
     },
     "metadata": {},
     "output_type": "display_data"
    },
    {
     "data": {
      "application/javascript": [
       "\n",
       "        if (window._pyforest_update_imports_cell) { window._pyforest_update_imports_cell('import numpy as np'); }\n",
       "    "
      ],
      "text/plain": [
       "<IPython.core.display.Javascript object>"
      ]
     },
     "metadata": {},
     "output_type": "display_data"
    },
    {
     "data": {
      "application/javascript": [
       "\n",
       "        if (window._pyforest_update_imports_cell) { window._pyforest_update_imports_cell('import numpy as np'); }\n",
       "    "
      ],
      "text/plain": [
       "<IPython.core.display.Javascript object>"
      ]
     },
     "metadata": {},
     "output_type": "display_data"
    },
    {
     "data": {
      "application/javascript": [
       "\n",
       "        if (window._pyforest_update_imports_cell) { window._pyforest_update_imports_cell('import numpy as np'); }\n",
       "    "
      ],
      "text/plain": [
       "<IPython.core.display.Javascript object>"
      ]
     },
     "metadata": {},
     "output_type": "display_data"
    },
    {
     "data": {
      "application/javascript": [
       "\n",
       "        if (window._pyforest_update_imports_cell) { window._pyforest_update_imports_cell('import numpy as np'); }\n",
       "    "
      ],
      "text/plain": [
       "<IPython.core.display.Javascript object>"
      ]
     },
     "metadata": {},
     "output_type": "display_data"
    },
    {
     "data": {
      "application/javascript": [
       "\n",
       "        if (window._pyforest_update_imports_cell) { window._pyforest_update_imports_cell('import numpy as np'); }\n",
       "    "
      ],
      "text/plain": [
       "<IPython.core.display.Javascript object>"
      ]
     },
     "metadata": {},
     "output_type": "display_data"
    },
    {
     "data": {
      "application/javascript": [
       "\n",
       "        if (window._pyforest_update_imports_cell) { window._pyforest_update_imports_cell('import numpy as np'); }\n",
       "    "
      ],
      "text/plain": [
       "<IPython.core.display.Javascript object>"
      ]
     },
     "metadata": {},
     "output_type": "display_data"
    },
    {
     "data": {
      "application/javascript": [
       "\n",
       "        if (window._pyforest_update_imports_cell) { window._pyforest_update_imports_cell('import numpy as np'); }\n",
       "    "
      ],
      "text/plain": [
       "<IPython.core.display.Javascript object>"
      ]
     },
     "metadata": {},
     "output_type": "display_data"
    },
    {
     "data": {
      "application/javascript": [
       "\n",
       "        if (window._pyforest_update_imports_cell) { window._pyforest_update_imports_cell('import numpy as np'); }\n",
       "    "
      ],
      "text/plain": [
       "<IPython.core.display.Javascript object>"
      ]
     },
     "metadata": {},
     "output_type": "display_data"
    },
    {
     "data": {
      "application/javascript": [
       "\n",
       "        if (window._pyforest_update_imports_cell) { window._pyforest_update_imports_cell('import numpy as np'); }\n",
       "    "
      ],
      "text/plain": [
       "<IPython.core.display.Javascript object>"
      ]
     },
     "metadata": {},
     "output_type": "display_data"
    },
    {
     "data": {
      "application/javascript": [
       "\n",
       "        if (window._pyforest_update_imports_cell) { window._pyforest_update_imports_cell('import numpy as np'); }\n",
       "    "
      ],
      "text/plain": [
       "<IPython.core.display.Javascript object>"
      ]
     },
     "metadata": {},
     "output_type": "display_data"
    },
    {
     "data": {
      "application/javascript": [
       "\n",
       "        if (window._pyforest_update_imports_cell) { window._pyforest_update_imports_cell('import numpy as np'); }\n",
       "    "
      ],
      "text/plain": [
       "<IPython.core.display.Javascript object>"
      ]
     },
     "metadata": {},
     "output_type": "display_data"
    },
    {
     "data": {
      "application/javascript": [
       "\n",
       "        if (window._pyforest_update_imports_cell) { window._pyforest_update_imports_cell('import numpy as np'); }\n",
       "    "
      ],
      "text/plain": [
       "<IPython.core.display.Javascript object>"
      ]
     },
     "metadata": {},
     "output_type": "display_data"
    },
    {
     "data": {
      "application/javascript": [
       "\n",
       "        if (window._pyforest_update_imports_cell) { window._pyforest_update_imports_cell('import numpy as np'); }\n",
       "    "
      ],
      "text/plain": [
       "<IPython.core.display.Javascript object>"
      ]
     },
     "metadata": {},
     "output_type": "display_data"
    },
    {
     "data": {
      "application/javascript": [
       "\n",
       "        if (window._pyforest_update_imports_cell) { window._pyforest_update_imports_cell('import numpy as np'); }\n",
       "    "
      ],
      "text/plain": [
       "<IPython.core.display.Javascript object>"
      ]
     },
     "metadata": {},
     "output_type": "display_data"
    },
    {
     "data": {
      "application/javascript": [
       "\n",
       "        if (window._pyforest_update_imports_cell) { window._pyforest_update_imports_cell('import numpy as np'); }\n",
       "    "
      ],
      "text/plain": [
       "<IPython.core.display.Javascript object>"
      ]
     },
     "metadata": {},
     "output_type": "display_data"
    },
    {
     "data": {
      "application/javascript": [
       "\n",
       "        if (window._pyforest_update_imports_cell) { window._pyforest_update_imports_cell('import numpy as np'); }\n",
       "    "
      ],
      "text/plain": [
       "<IPython.core.display.Javascript object>"
      ]
     },
     "metadata": {},
     "output_type": "display_data"
    },
    {
     "data": {
      "application/javascript": [
       "\n",
       "        if (window._pyforest_update_imports_cell) { window._pyforest_update_imports_cell('import numpy as np'); }\n",
       "    "
      ],
      "text/plain": [
       "<IPython.core.display.Javascript object>"
      ]
     },
     "metadata": {},
     "output_type": "display_data"
    },
    {
     "data": {
      "application/javascript": [
       "\n",
       "        if (window._pyforest_update_imports_cell) { window._pyforest_update_imports_cell('import numpy as np'); }\n",
       "    "
      ],
      "text/plain": [
       "<IPython.core.display.Javascript object>"
      ]
     },
     "metadata": {},
     "output_type": "display_data"
    },
    {
     "data": {
      "application/javascript": [
       "\n",
       "        if (window._pyforest_update_imports_cell) { window._pyforest_update_imports_cell('import numpy as np'); }\n",
       "    "
      ],
      "text/plain": [
       "<IPython.core.display.Javascript object>"
      ]
     },
     "metadata": {},
     "output_type": "display_data"
    },
    {
     "data": {
      "application/javascript": [
       "\n",
       "        if (window._pyforest_update_imports_cell) { window._pyforest_update_imports_cell('import numpy as np'); }\n",
       "    "
      ],
      "text/plain": [
       "<IPython.core.display.Javascript object>"
      ]
     },
     "metadata": {},
     "output_type": "display_data"
    },
    {
     "data": {
      "application/javascript": [
       "\n",
       "        if (window._pyforest_update_imports_cell) { window._pyforest_update_imports_cell('import numpy as np'); }\n",
       "    "
      ],
      "text/plain": [
       "<IPython.core.display.Javascript object>"
      ]
     },
     "metadata": {},
     "output_type": "display_data"
    },
    {
     "data": {
      "application/javascript": [
       "\n",
       "        if (window._pyforest_update_imports_cell) { window._pyforest_update_imports_cell('import numpy as np'); }\n",
       "    "
      ],
      "text/plain": [
       "<IPython.core.display.Javascript object>"
      ]
     },
     "metadata": {},
     "output_type": "display_data"
    },
    {
     "data": {
      "application/javascript": [
       "\n",
       "        if (window._pyforest_update_imports_cell) { window._pyforest_update_imports_cell('import numpy as np'); }\n",
       "    "
      ],
      "text/plain": [
       "<IPython.core.display.Javascript object>"
      ]
     },
     "metadata": {},
     "output_type": "display_data"
    },
    {
     "data": {
      "application/javascript": [
       "\n",
       "        if (window._pyforest_update_imports_cell) { window._pyforest_update_imports_cell('import numpy as np'); }\n",
       "    "
      ],
      "text/plain": [
       "<IPython.core.display.Javascript object>"
      ]
     },
     "metadata": {},
     "output_type": "display_data"
    },
    {
     "data": {
      "application/javascript": [
       "\n",
       "        if (window._pyforest_update_imports_cell) { window._pyforest_update_imports_cell('import numpy as np'); }\n",
       "    "
      ],
      "text/plain": [
       "<IPython.core.display.Javascript object>"
      ]
     },
     "metadata": {},
     "output_type": "display_data"
    },
    {
     "data": {
      "application/javascript": [
       "\n",
       "        if (window._pyforest_update_imports_cell) { window._pyforest_update_imports_cell('import numpy as np'); }\n",
       "    "
      ],
      "text/plain": [
       "<IPython.core.display.Javascript object>"
      ]
     },
     "metadata": {},
     "output_type": "display_data"
    },
    {
     "data": {
      "application/javascript": [
       "\n",
       "        if (window._pyforest_update_imports_cell) { window._pyforest_update_imports_cell('import numpy as np'); }\n",
       "    "
      ],
      "text/plain": [
       "<IPython.core.display.Javascript object>"
      ]
     },
     "metadata": {},
     "output_type": "display_data"
    },
    {
     "data": {
      "application/javascript": [
       "\n",
       "        if (window._pyforest_update_imports_cell) { window._pyforest_update_imports_cell('import numpy as np'); }\n",
       "    "
      ],
      "text/plain": [
       "<IPython.core.display.Javascript object>"
      ]
     },
     "metadata": {},
     "output_type": "display_data"
    },
    {
     "data": {
      "application/javascript": [
       "\n",
       "        if (window._pyforest_update_imports_cell) { window._pyforest_update_imports_cell('import numpy as np'); }\n",
       "    "
      ],
      "text/plain": [
       "<IPython.core.display.Javascript object>"
      ]
     },
     "metadata": {},
     "output_type": "display_data"
    },
    {
     "data": {
      "application/javascript": [
       "\n",
       "        if (window._pyforest_update_imports_cell) { window._pyforest_update_imports_cell('import numpy as np'); }\n",
       "    "
      ],
      "text/plain": [
       "<IPython.core.display.Javascript object>"
      ]
     },
     "metadata": {},
     "output_type": "display_data"
    },
    {
     "data": {
      "application/javascript": [
       "\n",
       "        if (window._pyforest_update_imports_cell) { window._pyforest_update_imports_cell('import numpy as np'); }\n",
       "    "
      ],
      "text/plain": [
       "<IPython.core.display.Javascript object>"
      ]
     },
     "metadata": {},
     "output_type": "display_data"
    },
    {
     "data": {
      "application/javascript": [
       "\n",
       "        if (window._pyforest_update_imports_cell) { window._pyforest_update_imports_cell('import numpy as np'); }\n",
       "    "
      ],
      "text/plain": [
       "<IPython.core.display.Javascript object>"
      ]
     },
     "metadata": {},
     "output_type": "display_data"
    },
    {
     "data": {
      "application/javascript": [
       "\n",
       "        if (window._pyforest_update_imports_cell) { window._pyforest_update_imports_cell('import numpy as np'); }\n",
       "    "
      ],
      "text/plain": [
       "<IPython.core.display.Javascript object>"
      ]
     },
     "metadata": {},
     "output_type": "display_data"
    },
    {
     "data": {
      "application/javascript": [
       "\n",
       "        if (window._pyforest_update_imports_cell) { window._pyforest_update_imports_cell('import numpy as np'); }\n",
       "    "
      ],
      "text/plain": [
       "<IPython.core.display.Javascript object>"
      ]
     },
     "metadata": {},
     "output_type": "display_data"
    },
    {
     "data": {
      "application/javascript": [
       "\n",
       "        if (window._pyforest_update_imports_cell) { window._pyforest_update_imports_cell('import numpy as np'); }\n",
       "    "
      ],
      "text/plain": [
       "<IPython.core.display.Javascript object>"
      ]
     },
     "metadata": {},
     "output_type": "display_data"
    },
    {
     "data": {
      "application/javascript": [
       "\n",
       "        if (window._pyforest_update_imports_cell) { window._pyforest_update_imports_cell('import numpy as np'); }\n",
       "    "
      ],
      "text/plain": [
       "<IPython.core.display.Javascript object>"
      ]
     },
     "metadata": {},
     "output_type": "display_data"
    },
    {
     "data": {
      "application/javascript": [
       "\n",
       "        if (window._pyforest_update_imports_cell) { window._pyforest_update_imports_cell('import numpy as np'); }\n",
       "    "
      ],
      "text/plain": [
       "<IPython.core.display.Javascript object>"
      ]
     },
     "metadata": {},
     "output_type": "display_data"
    },
    {
     "data": {
      "application/javascript": [
       "\n",
       "        if (window._pyforest_update_imports_cell) { window._pyforest_update_imports_cell('import numpy as np'); }\n",
       "    "
      ],
      "text/plain": [
       "<IPython.core.display.Javascript object>"
      ]
     },
     "metadata": {},
     "output_type": "display_data"
    },
    {
     "data": {
      "application/javascript": [
       "\n",
       "        if (window._pyforest_update_imports_cell) { window._pyforest_update_imports_cell('import numpy as np'); }\n",
       "    "
      ],
      "text/plain": [
       "<IPython.core.display.Javascript object>"
      ]
     },
     "metadata": {},
     "output_type": "display_data"
    },
    {
     "data": {
      "application/javascript": [
       "\n",
       "        if (window._pyforest_update_imports_cell) { window._pyforest_update_imports_cell('import numpy as np'); }\n",
       "    "
      ],
      "text/plain": [
       "<IPython.core.display.Javascript object>"
      ]
     },
     "metadata": {},
     "output_type": "display_data"
    },
    {
     "data": {
      "application/javascript": [
       "\n",
       "        if (window._pyforest_update_imports_cell) { window._pyforest_update_imports_cell('import numpy as np'); }\n",
       "    "
      ],
      "text/plain": [
       "<IPython.core.display.Javascript object>"
      ]
     },
     "metadata": {},
     "output_type": "display_data"
    },
    {
     "data": {
      "application/javascript": [
       "\n",
       "        if (window._pyforest_update_imports_cell) { window._pyforest_update_imports_cell('import numpy as np'); }\n",
       "    "
      ],
      "text/plain": [
       "<IPython.core.display.Javascript object>"
      ]
     },
     "metadata": {},
     "output_type": "display_data"
    },
    {
     "data": {
      "application/javascript": [
       "\n",
       "        if (window._pyforest_update_imports_cell) { window._pyforest_update_imports_cell('import numpy as np'); }\n",
       "    "
      ],
      "text/plain": [
       "<IPython.core.display.Javascript object>"
      ]
     },
     "metadata": {},
     "output_type": "display_data"
    },
    {
     "data": {
      "application/javascript": [
       "\n",
       "        if (window._pyforest_update_imports_cell) { window._pyforest_update_imports_cell('import numpy as np'); }\n",
       "    "
      ],
      "text/plain": [
       "<IPython.core.display.Javascript object>"
      ]
     },
     "metadata": {},
     "output_type": "display_data"
    },
    {
     "data": {
      "application/javascript": [
       "\n",
       "        if (window._pyforest_update_imports_cell) { window._pyforest_update_imports_cell('import numpy as np'); }\n",
       "    "
      ],
      "text/plain": [
       "<IPython.core.display.Javascript object>"
      ]
     },
     "metadata": {},
     "output_type": "display_data"
    },
    {
     "data": {
      "application/javascript": [
       "\n",
       "        if (window._pyforest_update_imports_cell) { window._pyforest_update_imports_cell('import numpy as np'); }\n",
       "    "
      ],
      "text/plain": [
       "<IPython.core.display.Javascript object>"
      ]
     },
     "metadata": {},
     "output_type": "display_data"
    },
    {
     "data": {
      "application/javascript": [
       "\n",
       "        if (window._pyforest_update_imports_cell) { window._pyforest_update_imports_cell('import numpy as np'); }\n",
       "    "
      ],
      "text/plain": [
       "<IPython.core.display.Javascript object>"
      ]
     },
     "metadata": {},
     "output_type": "display_data"
    },
    {
     "data": {
      "application/javascript": [
       "\n",
       "        if (window._pyforest_update_imports_cell) { window._pyforest_update_imports_cell('import numpy as np'); }\n",
       "    "
      ],
      "text/plain": [
       "<IPython.core.display.Javascript object>"
      ]
     },
     "metadata": {},
     "output_type": "display_data"
    },
    {
     "data": {
      "application/javascript": [
       "\n",
       "        if (window._pyforest_update_imports_cell) { window._pyforest_update_imports_cell('import numpy as np'); }\n",
       "    "
      ],
      "text/plain": [
       "<IPython.core.display.Javascript object>"
      ]
     },
     "metadata": {},
     "output_type": "display_data"
    },
    {
     "data": {
      "application/javascript": [
       "\n",
       "        if (window._pyforest_update_imports_cell) { window._pyforest_update_imports_cell('import numpy as np'); }\n",
       "    "
      ],
      "text/plain": [
       "<IPython.core.display.Javascript object>"
      ]
     },
     "metadata": {},
     "output_type": "display_data"
    },
    {
     "data": {
      "application/javascript": [
       "\n",
       "        if (window._pyforest_update_imports_cell) { window._pyforest_update_imports_cell('import numpy as np'); }\n",
       "    "
      ],
      "text/plain": [
       "<IPython.core.display.Javascript object>"
      ]
     },
     "metadata": {},
     "output_type": "display_data"
    },
    {
     "data": {
      "application/javascript": [
       "\n",
       "        if (window._pyforest_update_imports_cell) { window._pyforest_update_imports_cell('import numpy as np'); }\n",
       "    "
      ],
      "text/plain": [
       "<IPython.core.display.Javascript object>"
      ]
     },
     "metadata": {},
     "output_type": "display_data"
    },
    {
     "data": {
      "application/javascript": [
       "\n",
       "        if (window._pyforest_update_imports_cell) { window._pyforest_update_imports_cell('import numpy as np'); }\n",
       "    "
      ],
      "text/plain": [
       "<IPython.core.display.Javascript object>"
      ]
     },
     "metadata": {},
     "output_type": "display_data"
    },
    {
     "data": {
      "application/javascript": [
       "\n",
       "        if (window._pyforest_update_imports_cell) { window._pyforest_update_imports_cell('import numpy as np'); }\n",
       "    "
      ],
      "text/plain": [
       "<IPython.core.display.Javascript object>"
      ]
     },
     "metadata": {},
     "output_type": "display_data"
    },
    {
     "data": {
      "application/javascript": [
       "\n",
       "        if (window._pyforest_update_imports_cell) { window._pyforest_update_imports_cell('import numpy as np'); }\n",
       "    "
      ],
      "text/plain": [
       "<IPython.core.display.Javascript object>"
      ]
     },
     "metadata": {},
     "output_type": "display_data"
    },
    {
     "data": {
      "application/javascript": [
       "\n",
       "        if (window._pyforest_update_imports_cell) { window._pyforest_update_imports_cell('import numpy as np'); }\n",
       "    "
      ],
      "text/plain": [
       "<IPython.core.display.Javascript object>"
      ]
     },
     "metadata": {},
     "output_type": "display_data"
    },
    {
     "data": {
      "application/javascript": [
       "\n",
       "        if (window._pyforest_update_imports_cell) { window._pyforest_update_imports_cell('import numpy as np'); }\n",
       "    "
      ],
      "text/plain": [
       "<IPython.core.display.Javascript object>"
      ]
     },
     "metadata": {},
     "output_type": "display_data"
    },
    {
     "data": {
      "application/javascript": [
       "\n",
       "        if (window._pyforest_update_imports_cell) { window._pyforest_update_imports_cell('import numpy as np'); }\n",
       "    "
      ],
      "text/plain": [
       "<IPython.core.display.Javascript object>"
      ]
     },
     "metadata": {},
     "output_type": "display_data"
    },
    {
     "data": {
      "application/javascript": [
       "\n",
       "        if (window._pyforest_update_imports_cell) { window._pyforest_update_imports_cell('import numpy as np'); }\n",
       "    "
      ],
      "text/plain": [
       "<IPython.core.display.Javascript object>"
      ]
     },
     "metadata": {},
     "output_type": "display_data"
    },
    {
     "data": {
      "application/javascript": [
       "\n",
       "        if (window._pyforest_update_imports_cell) { window._pyforest_update_imports_cell('import numpy as np'); }\n",
       "    "
      ],
      "text/plain": [
       "<IPython.core.display.Javascript object>"
      ]
     },
     "metadata": {},
     "output_type": "display_data"
    },
    {
     "data": {
      "application/javascript": [
       "\n",
       "        if (window._pyforest_update_imports_cell) { window._pyforest_update_imports_cell('import numpy as np'); }\n",
       "    "
      ],
      "text/plain": [
       "<IPython.core.display.Javascript object>"
      ]
     },
     "metadata": {},
     "output_type": "display_data"
    },
    {
     "data": {
      "application/javascript": [
       "\n",
       "        if (window._pyforest_update_imports_cell) { window._pyforest_update_imports_cell('import numpy as np'); }\n",
       "    "
      ],
      "text/plain": [
       "<IPython.core.display.Javascript object>"
      ]
     },
     "metadata": {},
     "output_type": "display_data"
    },
    {
     "data": {
      "application/javascript": [
       "\n",
       "        if (window._pyforest_update_imports_cell) { window._pyforest_update_imports_cell('import numpy as np'); }\n",
       "    "
      ],
      "text/plain": [
       "<IPython.core.display.Javascript object>"
      ]
     },
     "metadata": {},
     "output_type": "display_data"
    },
    {
     "data": {
      "application/javascript": [
       "\n",
       "        if (window._pyforest_update_imports_cell) { window._pyforest_update_imports_cell('import numpy as np'); }\n",
       "    "
      ],
      "text/plain": [
       "<IPython.core.display.Javascript object>"
      ]
     },
     "metadata": {},
     "output_type": "display_data"
    },
    {
     "data": {
      "application/javascript": [
       "\n",
       "        if (window._pyforest_update_imports_cell) { window._pyforest_update_imports_cell('import numpy as np'); }\n",
       "    "
      ],
      "text/plain": [
       "<IPython.core.display.Javascript object>"
      ]
     },
     "metadata": {},
     "output_type": "display_data"
    },
    {
     "data": {
      "application/javascript": [
       "\n",
       "        if (window._pyforest_update_imports_cell) { window._pyforest_update_imports_cell('import numpy as np'); }\n",
       "    "
      ],
      "text/plain": [
       "<IPython.core.display.Javascript object>"
      ]
     },
     "metadata": {},
     "output_type": "display_data"
    },
    {
     "data": {
      "application/javascript": [
       "\n",
       "        if (window._pyforest_update_imports_cell) { window._pyforest_update_imports_cell('import numpy as np'); }\n",
       "    "
      ],
      "text/plain": [
       "<IPython.core.display.Javascript object>"
      ]
     },
     "metadata": {},
     "output_type": "display_data"
    },
    {
     "data": {
      "application/javascript": [
       "\n",
       "        if (window._pyforest_update_imports_cell) { window._pyforest_update_imports_cell('import numpy as np'); }\n",
       "    "
      ],
      "text/plain": [
       "<IPython.core.display.Javascript object>"
      ]
     },
     "metadata": {},
     "output_type": "display_data"
    },
    {
     "data": {
      "application/javascript": [
       "\n",
       "        if (window._pyforest_update_imports_cell) { window._pyforest_update_imports_cell('import numpy as np'); }\n",
       "    "
      ],
      "text/plain": [
       "<IPython.core.display.Javascript object>"
      ]
     },
     "metadata": {},
     "output_type": "display_data"
    },
    {
     "data": {
      "application/javascript": [
       "\n",
       "        if (window._pyforest_update_imports_cell) { window._pyforest_update_imports_cell('import numpy as np'); }\n",
       "    "
      ],
      "text/plain": [
       "<IPython.core.display.Javascript object>"
      ]
     },
     "metadata": {},
     "output_type": "display_data"
    },
    {
     "data": {
      "application/javascript": [
       "\n",
       "        if (window._pyforest_update_imports_cell) { window._pyforest_update_imports_cell('import numpy as np'); }\n",
       "    "
      ],
      "text/plain": [
       "<IPython.core.display.Javascript object>"
      ]
     },
     "metadata": {},
     "output_type": "display_data"
    },
    {
     "data": {
      "application/javascript": [
       "\n",
       "        if (window._pyforest_update_imports_cell) { window._pyforest_update_imports_cell('import numpy as np'); }\n",
       "    "
      ],
      "text/plain": [
       "<IPython.core.display.Javascript object>"
      ]
     },
     "metadata": {},
     "output_type": "display_data"
    },
    {
     "data": {
      "application/javascript": [
       "\n",
       "        if (window._pyforest_update_imports_cell) { window._pyforest_update_imports_cell('import numpy as np'); }\n",
       "    "
      ],
      "text/plain": [
       "<IPython.core.display.Javascript object>"
      ]
     },
     "metadata": {},
     "output_type": "display_data"
    },
    {
     "data": {
      "application/javascript": [
       "\n",
       "        if (window._pyforest_update_imports_cell) { window._pyforest_update_imports_cell('import numpy as np'); }\n",
       "    "
      ],
      "text/plain": [
       "<IPython.core.display.Javascript object>"
      ]
     },
     "metadata": {},
     "output_type": "display_data"
    },
    {
     "data": {
      "application/javascript": [
       "\n",
       "        if (window._pyforest_update_imports_cell) { window._pyforest_update_imports_cell('import numpy as np'); }\n",
       "    "
      ],
      "text/plain": [
       "<IPython.core.display.Javascript object>"
      ]
     },
     "metadata": {},
     "output_type": "display_data"
    },
    {
     "data": {
      "application/javascript": [
       "\n",
       "        if (window._pyforest_update_imports_cell) { window._pyforest_update_imports_cell('import numpy as np'); }\n",
       "    "
      ],
      "text/plain": [
       "<IPython.core.display.Javascript object>"
      ]
     },
     "metadata": {},
     "output_type": "display_data"
    },
    {
     "data": {
      "application/javascript": [
       "\n",
       "        if (window._pyforest_update_imports_cell) { window._pyforest_update_imports_cell('import numpy as np'); }\n",
       "    "
      ],
      "text/plain": [
       "<IPython.core.display.Javascript object>"
      ]
     },
     "metadata": {},
     "output_type": "display_data"
    },
    {
     "data": {
      "application/javascript": [
       "\n",
       "        if (window._pyforest_update_imports_cell) { window._pyforest_update_imports_cell('import numpy as np'); }\n",
       "    "
      ],
      "text/plain": [
       "<IPython.core.display.Javascript object>"
      ]
     },
     "metadata": {},
     "output_type": "display_data"
    },
    {
     "data": {
      "application/javascript": [
       "\n",
       "        if (window._pyforest_update_imports_cell) { window._pyforest_update_imports_cell('import numpy as np'); }\n",
       "    "
      ],
      "text/plain": [
       "<IPython.core.display.Javascript object>"
      ]
     },
     "metadata": {},
     "output_type": "display_data"
    },
    {
     "data": {
      "application/javascript": [
       "\n",
       "        if (window._pyforest_update_imports_cell) { window._pyforest_update_imports_cell('import numpy as np'); }\n",
       "    "
      ],
      "text/plain": [
       "<IPython.core.display.Javascript object>"
      ]
     },
     "metadata": {},
     "output_type": "display_data"
    },
    {
     "data": {
      "application/javascript": [
       "\n",
       "        if (window._pyforest_update_imports_cell) { window._pyforest_update_imports_cell('import numpy as np'); }\n",
       "    "
      ],
      "text/plain": [
       "<IPython.core.display.Javascript object>"
      ]
     },
     "metadata": {},
     "output_type": "display_data"
    },
    {
     "data": {
      "application/javascript": [
       "\n",
       "        if (window._pyforest_update_imports_cell) { window._pyforest_update_imports_cell('import numpy as np'); }\n",
       "    "
      ],
      "text/plain": [
       "<IPython.core.display.Javascript object>"
      ]
     },
     "metadata": {},
     "output_type": "display_data"
    },
    {
     "data": {
      "application/javascript": [
       "\n",
       "        if (window._pyforest_update_imports_cell) { window._pyforest_update_imports_cell('import numpy as np'); }\n",
       "    "
      ],
      "text/plain": [
       "<IPython.core.display.Javascript object>"
      ]
     },
     "metadata": {},
     "output_type": "display_data"
    },
    {
     "data": {
      "application/javascript": [
       "\n",
       "        if (window._pyforest_update_imports_cell) { window._pyforest_update_imports_cell('import numpy as np'); }\n",
       "    "
      ],
      "text/plain": [
       "<IPython.core.display.Javascript object>"
      ]
     },
     "metadata": {},
     "output_type": "display_data"
    },
    {
     "data": {
      "application/javascript": [
       "\n",
       "        if (window._pyforest_update_imports_cell) { window._pyforest_update_imports_cell('import numpy as np'); }\n",
       "    "
      ],
      "text/plain": [
       "<IPython.core.display.Javascript object>"
      ]
     },
     "metadata": {},
     "output_type": "display_data"
    },
    {
     "data": {
      "application/javascript": [
       "\n",
       "        if (window._pyforest_update_imports_cell) { window._pyforest_update_imports_cell('import numpy as np'); }\n",
       "    "
      ],
      "text/plain": [
       "<IPython.core.display.Javascript object>"
      ]
     },
     "metadata": {},
     "output_type": "display_data"
    },
    {
     "data": {
      "application/javascript": [
       "\n",
       "        if (window._pyforest_update_imports_cell) { window._pyforest_update_imports_cell('import numpy as np'); }\n",
       "    "
      ],
      "text/plain": [
       "<IPython.core.display.Javascript object>"
      ]
     },
     "metadata": {},
     "output_type": "display_data"
    },
    {
     "data": {
      "application/javascript": [
       "\n",
       "        if (window._pyforest_update_imports_cell) { window._pyforest_update_imports_cell('import numpy as np'); }\n",
       "    "
      ],
      "text/plain": [
       "<IPython.core.display.Javascript object>"
      ]
     },
     "metadata": {},
     "output_type": "display_data"
    },
    {
     "data": {
      "application/javascript": [
       "\n",
       "        if (window._pyforest_update_imports_cell) { window._pyforest_update_imports_cell('import numpy as np'); }\n",
       "    "
      ],
      "text/plain": [
       "<IPython.core.display.Javascript object>"
      ]
     },
     "metadata": {},
     "output_type": "display_data"
    },
    {
     "data": {
      "application/javascript": [
       "\n",
       "        if (window._pyforest_update_imports_cell) { window._pyforest_update_imports_cell('import numpy as np'); }\n",
       "    "
      ],
      "text/plain": [
       "<IPython.core.display.Javascript object>"
      ]
     },
     "metadata": {},
     "output_type": "display_data"
    },
    {
     "data": {
      "application/javascript": [
       "\n",
       "        if (window._pyforest_update_imports_cell) { window._pyforest_update_imports_cell('import numpy as np'); }\n",
       "    "
      ],
      "text/plain": [
       "<IPython.core.display.Javascript object>"
      ]
     },
     "metadata": {},
     "output_type": "display_data"
    },
    {
     "data": {
      "application/javascript": [
       "\n",
       "        if (window._pyforest_update_imports_cell) { window._pyforest_update_imports_cell('import numpy as np'); }\n",
       "    "
      ],
      "text/plain": [
       "<IPython.core.display.Javascript object>"
      ]
     },
     "metadata": {},
     "output_type": "display_data"
    },
    {
     "data": {
      "application/javascript": [
       "\n",
       "        if (window._pyforest_update_imports_cell) { window._pyforest_update_imports_cell('import numpy as np'); }\n",
       "    "
      ],
      "text/plain": [
       "<IPython.core.display.Javascript object>"
      ]
     },
     "metadata": {},
     "output_type": "display_data"
    },
    {
     "data": {
      "application/javascript": [
       "\n",
       "        if (window._pyforest_update_imports_cell) { window._pyforest_update_imports_cell('import numpy as np'); }\n",
       "    "
      ],
      "text/plain": [
       "<IPython.core.display.Javascript object>"
      ]
     },
     "metadata": {},
     "output_type": "display_data"
    },
    {
     "data": {
      "application/javascript": [
       "\n",
       "        if (window._pyforest_update_imports_cell) { window._pyforest_update_imports_cell('import numpy as np'); }\n",
       "    "
      ],
      "text/plain": [
       "<IPython.core.display.Javascript object>"
      ]
     },
     "metadata": {},
     "output_type": "display_data"
    },
    {
     "data": {
      "application/javascript": [
       "\n",
       "        if (window._pyforest_update_imports_cell) { window._pyforest_update_imports_cell('import numpy as np'); }\n",
       "    "
      ],
      "text/plain": [
       "<IPython.core.display.Javascript object>"
      ]
     },
     "metadata": {},
     "output_type": "display_data"
    },
    {
     "data": {
      "application/javascript": [
       "\n",
       "        if (window._pyforest_update_imports_cell) { window._pyforest_update_imports_cell('import numpy as np'); }\n",
       "    "
      ],
      "text/plain": [
       "<IPython.core.display.Javascript object>"
      ]
     },
     "metadata": {},
     "output_type": "display_data"
    },
    {
     "data": {
      "application/javascript": [
       "\n",
       "        if (window._pyforest_update_imports_cell) { window._pyforest_update_imports_cell('import numpy as np'); }\n",
       "    "
      ],
      "text/plain": [
       "<IPython.core.display.Javascript object>"
      ]
     },
     "metadata": {},
     "output_type": "display_data"
    },
    {
     "data": {
      "application/javascript": [
       "\n",
       "        if (window._pyforest_update_imports_cell) { window._pyforest_update_imports_cell('import numpy as np'); }\n",
       "    "
      ],
      "text/plain": [
       "<IPython.core.display.Javascript object>"
      ]
     },
     "metadata": {},
     "output_type": "display_data"
    },
    {
     "data": {
      "application/javascript": [
       "\n",
       "        if (window._pyforest_update_imports_cell) { window._pyforest_update_imports_cell('import numpy as np'); }\n",
       "    "
      ],
      "text/plain": [
       "<IPython.core.display.Javascript object>"
      ]
     },
     "metadata": {},
     "output_type": "display_data"
    },
    {
     "data": {
      "application/javascript": [
       "\n",
       "        if (window._pyforest_update_imports_cell) { window._pyforest_update_imports_cell('import numpy as np'); }\n",
       "    "
      ],
      "text/plain": [
       "<IPython.core.display.Javascript object>"
      ]
     },
     "metadata": {},
     "output_type": "display_data"
    },
    {
     "data": {
      "application/javascript": [
       "\n",
       "        if (window._pyforest_update_imports_cell) { window._pyforest_update_imports_cell('import numpy as np'); }\n",
       "    "
      ],
      "text/plain": [
       "<IPython.core.display.Javascript object>"
      ]
     },
     "metadata": {},
     "output_type": "display_data"
    },
    {
     "data": {
      "application/javascript": [
       "\n",
       "        if (window._pyforest_update_imports_cell) { window._pyforest_update_imports_cell('import numpy as np'); }\n",
       "    "
      ],
      "text/plain": [
       "<IPython.core.display.Javascript object>"
      ]
     },
     "metadata": {},
     "output_type": "display_data"
    },
    {
     "data": {
      "application/javascript": [
       "\n",
       "        if (window._pyforest_update_imports_cell) { window._pyforest_update_imports_cell('import numpy as np'); }\n",
       "    "
      ],
      "text/plain": [
       "<IPython.core.display.Javascript object>"
      ]
     },
     "metadata": {},
     "output_type": "display_data"
    },
    {
     "data": {
      "application/javascript": [
       "\n",
       "        if (window._pyforest_update_imports_cell) { window._pyforest_update_imports_cell('import numpy as np'); }\n",
       "    "
      ],
      "text/plain": [
       "<IPython.core.display.Javascript object>"
      ]
     },
     "metadata": {},
     "output_type": "display_data"
    },
    {
     "data": {
      "application/javascript": [
       "\n",
       "        if (window._pyforest_update_imports_cell) { window._pyforest_update_imports_cell('import numpy as np'); }\n",
       "    "
      ],
      "text/plain": [
       "<IPython.core.display.Javascript object>"
      ]
     },
     "metadata": {},
     "output_type": "display_data"
    },
    {
     "data": {
      "application/javascript": [
       "\n",
       "        if (window._pyforest_update_imports_cell) { window._pyforest_update_imports_cell('import numpy as np'); }\n",
       "    "
      ],
      "text/plain": [
       "<IPython.core.display.Javascript object>"
      ]
     },
     "metadata": {},
     "output_type": "display_data"
    },
    {
     "data": {
      "application/javascript": [
       "\n",
       "        if (window._pyforest_update_imports_cell) { window._pyforest_update_imports_cell('import numpy as np'); }\n",
       "    "
      ],
      "text/plain": [
       "<IPython.core.display.Javascript object>"
      ]
     },
     "metadata": {},
     "output_type": "display_data"
    },
    {
     "data": {
      "application/javascript": [
       "\n",
       "        if (window._pyforest_update_imports_cell) { window._pyforest_update_imports_cell('import numpy as np'); }\n",
       "    "
      ],
      "text/plain": [
       "<IPython.core.display.Javascript object>"
      ]
     },
     "metadata": {},
     "output_type": "display_data"
    },
    {
     "data": {
      "application/javascript": [
       "\n",
       "        if (window._pyforest_update_imports_cell) { window._pyforest_update_imports_cell('import numpy as np'); }\n",
       "    "
      ],
      "text/plain": [
       "<IPython.core.display.Javascript object>"
      ]
     },
     "metadata": {},
     "output_type": "display_data"
    },
    {
     "data": {
      "application/javascript": [
       "\n",
       "        if (window._pyforest_update_imports_cell) { window._pyforest_update_imports_cell('import numpy as np'); }\n",
       "    "
      ],
      "text/plain": [
       "<IPython.core.display.Javascript object>"
      ]
     },
     "metadata": {},
     "output_type": "display_data"
    },
    {
     "data": {
      "application/javascript": [
       "\n",
       "        if (window._pyforest_update_imports_cell) { window._pyforest_update_imports_cell('import numpy as np'); }\n",
       "    "
      ],
      "text/plain": [
       "<IPython.core.display.Javascript object>"
      ]
     },
     "metadata": {},
     "output_type": "display_data"
    },
    {
     "data": {
      "application/javascript": [
       "\n",
       "        if (window._pyforest_update_imports_cell) { window._pyforest_update_imports_cell('import numpy as np'); }\n",
       "    "
      ],
      "text/plain": [
       "<IPython.core.display.Javascript object>"
      ]
     },
     "metadata": {},
     "output_type": "display_data"
    },
    {
     "data": {
      "application/javascript": [
       "\n",
       "        if (window._pyforest_update_imports_cell) { window._pyforest_update_imports_cell('import numpy as np'); }\n",
       "    "
      ],
      "text/plain": [
       "<IPython.core.display.Javascript object>"
      ]
     },
     "metadata": {},
     "output_type": "display_data"
    },
    {
     "data": {
      "application/javascript": [
       "\n",
       "        if (window._pyforest_update_imports_cell) { window._pyforest_update_imports_cell('import numpy as np'); }\n",
       "    "
      ],
      "text/plain": [
       "<IPython.core.display.Javascript object>"
      ]
     },
     "metadata": {},
     "output_type": "display_data"
    },
    {
     "data": {
      "application/javascript": [
       "\n",
       "        if (window._pyforest_update_imports_cell) { window._pyforest_update_imports_cell('import numpy as np'); }\n",
       "    "
      ],
      "text/plain": [
       "<IPython.core.display.Javascript object>"
      ]
     },
     "metadata": {},
     "output_type": "display_data"
    },
    {
     "data": {
      "application/javascript": [
       "\n",
       "        if (window._pyforest_update_imports_cell) { window._pyforest_update_imports_cell('import numpy as np'); }\n",
       "    "
      ],
      "text/plain": [
       "<IPython.core.display.Javascript object>"
      ]
     },
     "metadata": {},
     "output_type": "display_data"
    },
    {
     "data": {
      "application/javascript": [
       "\n",
       "        if (window._pyforest_update_imports_cell) { window._pyforest_update_imports_cell('import numpy as np'); }\n",
       "    "
      ],
      "text/plain": [
       "<IPython.core.display.Javascript object>"
      ]
     },
     "metadata": {},
     "output_type": "display_data"
    },
    {
     "data": {
      "application/javascript": [
       "\n",
       "        if (window._pyforest_update_imports_cell) { window._pyforest_update_imports_cell('import numpy as np'); }\n",
       "    "
      ],
      "text/plain": [
       "<IPython.core.display.Javascript object>"
      ]
     },
     "metadata": {},
     "output_type": "display_data"
    },
    {
     "data": {
      "application/javascript": [
       "\n",
       "        if (window._pyforest_update_imports_cell) { window._pyforest_update_imports_cell('import numpy as np'); }\n",
       "    "
      ],
      "text/plain": [
       "<IPython.core.display.Javascript object>"
      ]
     },
     "metadata": {},
     "output_type": "display_data"
    },
    {
     "data": {
      "application/javascript": [
       "\n",
       "        if (window._pyforest_update_imports_cell) { window._pyforest_update_imports_cell('import numpy as np'); }\n",
       "    "
      ],
      "text/plain": [
       "<IPython.core.display.Javascript object>"
      ]
     },
     "metadata": {},
     "output_type": "display_data"
    },
    {
     "data": {
      "application/javascript": [
       "\n",
       "        if (window._pyforest_update_imports_cell) { window._pyforest_update_imports_cell('import numpy as np'); }\n",
       "    "
      ],
      "text/plain": [
       "<IPython.core.display.Javascript object>"
      ]
     },
     "metadata": {},
     "output_type": "display_data"
    },
    {
     "data": {
      "application/javascript": [
       "\n",
       "        if (window._pyforest_update_imports_cell) { window._pyforest_update_imports_cell('import numpy as np'); }\n",
       "    "
      ],
      "text/plain": [
       "<IPython.core.display.Javascript object>"
      ]
     },
     "metadata": {},
     "output_type": "display_data"
    },
    {
     "data": {
      "application/javascript": [
       "\n",
       "        if (window._pyforest_update_imports_cell) { window._pyforest_update_imports_cell('import numpy as np'); }\n",
       "    "
      ],
      "text/plain": [
       "<IPython.core.display.Javascript object>"
      ]
     },
     "metadata": {},
     "output_type": "display_data"
    },
    {
     "data": {
      "application/javascript": [
       "\n",
       "        if (window._pyforest_update_imports_cell) { window._pyforest_update_imports_cell('import numpy as np'); }\n",
       "    "
      ],
      "text/plain": [
       "<IPython.core.display.Javascript object>"
      ]
     },
     "metadata": {},
     "output_type": "display_data"
    },
    {
     "data": {
      "application/javascript": [
       "\n",
       "        if (window._pyforest_update_imports_cell) { window._pyforest_update_imports_cell('import numpy as np'); }\n",
       "    "
      ],
      "text/plain": [
       "<IPython.core.display.Javascript object>"
      ]
     },
     "metadata": {},
     "output_type": "display_data"
    },
    {
     "data": {
      "application/javascript": [
       "\n",
       "        if (window._pyforest_update_imports_cell) { window._pyforest_update_imports_cell('import numpy as np'); }\n",
       "    "
      ],
      "text/plain": [
       "<IPython.core.display.Javascript object>"
      ]
     },
     "metadata": {},
     "output_type": "display_data"
    },
    {
     "data": {
      "application/javascript": [
       "\n",
       "        if (window._pyforest_update_imports_cell) { window._pyforest_update_imports_cell('import numpy as np'); }\n",
       "    "
      ],
      "text/plain": [
       "<IPython.core.display.Javascript object>"
      ]
     },
     "metadata": {},
     "output_type": "display_data"
    },
    {
     "data": {
      "application/javascript": [
       "\n",
       "        if (window._pyforest_update_imports_cell) { window._pyforest_update_imports_cell('import numpy as np'); }\n",
       "    "
      ],
      "text/plain": [
       "<IPython.core.display.Javascript object>"
      ]
     },
     "metadata": {},
     "output_type": "display_data"
    },
    {
     "data": {
      "application/javascript": [
       "\n",
       "        if (window._pyforest_update_imports_cell) { window._pyforest_update_imports_cell('import numpy as np'); }\n",
       "    "
      ],
      "text/plain": [
       "<IPython.core.display.Javascript object>"
      ]
     },
     "metadata": {},
     "output_type": "display_data"
    },
    {
     "data": {
      "application/javascript": [
       "\n",
       "        if (window._pyforest_update_imports_cell) { window._pyforest_update_imports_cell('import numpy as np'); }\n",
       "    "
      ],
      "text/plain": [
       "<IPython.core.display.Javascript object>"
      ]
     },
     "metadata": {},
     "output_type": "display_data"
    },
    {
     "data": {
      "application/javascript": [
       "\n",
       "        if (window._pyforest_update_imports_cell) { window._pyforest_update_imports_cell('import numpy as np'); }\n",
       "    "
      ],
      "text/plain": [
       "<IPython.core.display.Javascript object>"
      ]
     },
     "metadata": {},
     "output_type": "display_data"
    },
    {
     "data": {
      "application/javascript": [
       "\n",
       "        if (window._pyforest_update_imports_cell) { window._pyforest_update_imports_cell('import numpy as np'); }\n",
       "    "
      ],
      "text/plain": [
       "<IPython.core.display.Javascript object>"
      ]
     },
     "metadata": {},
     "output_type": "display_data"
    },
    {
     "data": {
      "application/javascript": [
       "\n",
       "        if (window._pyforest_update_imports_cell) { window._pyforest_update_imports_cell('import numpy as np'); }\n",
       "    "
      ],
      "text/plain": [
       "<IPython.core.display.Javascript object>"
      ]
     },
     "metadata": {},
     "output_type": "display_data"
    },
    {
     "data": {
      "application/javascript": [
       "\n",
       "        if (window._pyforest_update_imports_cell) { window._pyforest_update_imports_cell('import numpy as np'); }\n",
       "    "
      ],
      "text/plain": [
       "<IPython.core.display.Javascript object>"
      ]
     },
     "metadata": {},
     "output_type": "display_data"
    },
    {
     "data": {
      "application/javascript": [
       "\n",
       "        if (window._pyforest_update_imports_cell) { window._pyforest_update_imports_cell('import numpy as np'); }\n",
       "    "
      ],
      "text/plain": [
       "<IPython.core.display.Javascript object>"
      ]
     },
     "metadata": {},
     "output_type": "display_data"
    },
    {
     "data": {
      "application/javascript": [
       "\n",
       "        if (window._pyforest_update_imports_cell) { window._pyforest_update_imports_cell('import numpy as np'); }\n",
       "    "
      ],
      "text/plain": [
       "<IPython.core.display.Javascript object>"
      ]
     },
     "metadata": {},
     "output_type": "display_data"
    },
    {
     "data": {
      "application/javascript": [
       "\n",
       "        if (window._pyforest_update_imports_cell) { window._pyforest_update_imports_cell('import numpy as np'); }\n",
       "    "
      ],
      "text/plain": [
       "<IPython.core.display.Javascript object>"
      ]
     },
     "metadata": {},
     "output_type": "display_data"
    },
    {
     "data": {
      "application/javascript": [
       "\n",
       "        if (window._pyforest_update_imports_cell) { window._pyforest_update_imports_cell('import numpy as np'); }\n",
       "    "
      ],
      "text/plain": [
       "<IPython.core.display.Javascript object>"
      ]
     },
     "metadata": {},
     "output_type": "display_data"
    },
    {
     "data": {
      "application/javascript": [
       "\n",
       "        if (window._pyforest_update_imports_cell) { window._pyforest_update_imports_cell('import numpy as np'); }\n",
       "    "
      ],
      "text/plain": [
       "<IPython.core.display.Javascript object>"
      ]
     },
     "metadata": {},
     "output_type": "display_data"
    },
    {
     "data": {
      "application/javascript": [
       "\n",
       "        if (window._pyforest_update_imports_cell) { window._pyforest_update_imports_cell('import numpy as np'); }\n",
       "    "
      ],
      "text/plain": [
       "<IPython.core.display.Javascript object>"
      ]
     },
     "metadata": {},
     "output_type": "display_data"
    },
    {
     "data": {
      "application/javascript": [
       "\n",
       "        if (window._pyforest_update_imports_cell) { window._pyforest_update_imports_cell('import numpy as np'); }\n",
       "    "
      ],
      "text/plain": [
       "<IPython.core.display.Javascript object>"
      ]
     },
     "metadata": {},
     "output_type": "display_data"
    },
    {
     "data": {
      "application/javascript": [
       "\n",
       "        if (window._pyforest_update_imports_cell) { window._pyforest_update_imports_cell('import numpy as np'); }\n",
       "    "
      ],
      "text/plain": [
       "<IPython.core.display.Javascript object>"
      ]
     },
     "metadata": {},
     "output_type": "display_data"
    },
    {
     "data": {
      "application/javascript": [
       "\n",
       "        if (window._pyforest_update_imports_cell) { window._pyforest_update_imports_cell('import numpy as np'); }\n",
       "    "
      ],
      "text/plain": [
       "<IPython.core.display.Javascript object>"
      ]
     },
     "metadata": {},
     "output_type": "display_data"
    },
    {
     "data": {
      "application/javascript": [
       "\n",
       "        if (window._pyforest_update_imports_cell) { window._pyforest_update_imports_cell('import numpy as np'); }\n",
       "    "
      ],
      "text/plain": [
       "<IPython.core.display.Javascript object>"
      ]
     },
     "metadata": {},
     "output_type": "display_data"
    },
    {
     "data": {
      "application/javascript": [
       "\n",
       "        if (window._pyforest_update_imports_cell) { window._pyforest_update_imports_cell('import numpy as np'); }\n",
       "    "
      ],
      "text/plain": [
       "<IPython.core.display.Javascript object>"
      ]
     },
     "metadata": {},
     "output_type": "display_data"
    },
    {
     "data": {
      "application/javascript": [
       "\n",
       "        if (window._pyforest_update_imports_cell) { window._pyforest_update_imports_cell('import numpy as np'); }\n",
       "    "
      ],
      "text/plain": [
       "<IPython.core.display.Javascript object>"
      ]
     },
     "metadata": {},
     "output_type": "display_data"
    },
    {
     "data": {
      "application/javascript": [
       "\n",
       "        if (window._pyforest_update_imports_cell) { window._pyforest_update_imports_cell('import numpy as np'); }\n",
       "    "
      ],
      "text/plain": [
       "<IPython.core.display.Javascript object>"
      ]
     },
     "metadata": {},
     "output_type": "display_data"
    },
    {
     "data": {
      "application/javascript": [
       "\n",
       "        if (window._pyforest_update_imports_cell) { window._pyforest_update_imports_cell('import numpy as np'); }\n",
       "    "
      ],
      "text/plain": [
       "<IPython.core.display.Javascript object>"
      ]
     },
     "metadata": {},
     "output_type": "display_data"
    },
    {
     "data": {
      "application/javascript": [
       "\n",
       "        if (window._pyforest_update_imports_cell) { window._pyforest_update_imports_cell('import numpy as np'); }\n",
       "    "
      ],
      "text/plain": [
       "<IPython.core.display.Javascript object>"
      ]
     },
     "metadata": {},
     "output_type": "display_data"
    },
    {
     "data": {
      "application/javascript": [
       "\n",
       "        if (window._pyforest_update_imports_cell) { window._pyforest_update_imports_cell('import numpy as np'); }\n",
       "    "
      ],
      "text/plain": [
       "<IPython.core.display.Javascript object>"
      ]
     },
     "metadata": {},
     "output_type": "display_data"
    },
    {
     "data": {
      "application/javascript": [
       "\n",
       "        if (window._pyforest_update_imports_cell) { window._pyforest_update_imports_cell('import numpy as np'); }\n",
       "    "
      ],
      "text/plain": [
       "<IPython.core.display.Javascript object>"
      ]
     },
     "metadata": {},
     "output_type": "display_data"
    },
    {
     "data": {
      "application/javascript": [
       "\n",
       "        if (window._pyforest_update_imports_cell) { window._pyforest_update_imports_cell('import numpy as np'); }\n",
       "    "
      ],
      "text/plain": [
       "<IPython.core.display.Javascript object>"
      ]
     },
     "metadata": {},
     "output_type": "display_data"
    },
    {
     "data": {
      "application/javascript": [
       "\n",
       "        if (window._pyforest_update_imports_cell) { window._pyforest_update_imports_cell('import numpy as np'); }\n",
       "    "
      ],
      "text/plain": [
       "<IPython.core.display.Javascript object>"
      ]
     },
     "metadata": {},
     "output_type": "display_data"
    },
    {
     "data": {
      "application/javascript": [
       "\n",
       "        if (window._pyforest_update_imports_cell) { window._pyforest_update_imports_cell('import numpy as np'); }\n",
       "    "
      ],
      "text/plain": [
       "<IPython.core.display.Javascript object>"
      ]
     },
     "metadata": {},
     "output_type": "display_data"
    },
    {
     "data": {
      "application/javascript": [
       "\n",
       "        if (window._pyforest_update_imports_cell) { window._pyforest_update_imports_cell('import numpy as np'); }\n",
       "    "
      ],
      "text/plain": [
       "<IPython.core.display.Javascript object>"
      ]
     },
     "metadata": {},
     "output_type": "display_data"
    },
    {
     "data": {
      "application/javascript": [
       "\n",
       "        if (window._pyforest_update_imports_cell) { window._pyforest_update_imports_cell('import numpy as np'); }\n",
       "    "
      ],
      "text/plain": [
       "<IPython.core.display.Javascript object>"
      ]
     },
     "metadata": {},
     "output_type": "display_data"
    },
    {
     "data": {
      "application/javascript": [
       "\n",
       "        if (window._pyforest_update_imports_cell) { window._pyforest_update_imports_cell('import numpy as np'); }\n",
       "    "
      ],
      "text/plain": [
       "<IPython.core.display.Javascript object>"
      ]
     },
     "metadata": {},
     "output_type": "display_data"
    },
    {
     "data": {
      "application/javascript": [
       "\n",
       "        if (window._pyforest_update_imports_cell) { window._pyforest_update_imports_cell('import numpy as np'); }\n",
       "    "
      ],
      "text/plain": [
       "<IPython.core.display.Javascript object>"
      ]
     },
     "metadata": {},
     "output_type": "display_data"
    },
    {
     "data": {
      "application/javascript": [
       "\n",
       "        if (window._pyforest_update_imports_cell) { window._pyforest_update_imports_cell('import numpy as np'); }\n",
       "    "
      ],
      "text/plain": [
       "<IPython.core.display.Javascript object>"
      ]
     },
     "metadata": {},
     "output_type": "display_data"
    },
    {
     "data": {
      "application/javascript": [
       "\n",
       "        if (window._pyforest_update_imports_cell) { window._pyforest_update_imports_cell('import numpy as np'); }\n",
       "    "
      ],
      "text/plain": [
       "<IPython.core.display.Javascript object>"
      ]
     },
     "metadata": {},
     "output_type": "display_data"
    },
    {
     "data": {
      "application/javascript": [
       "\n",
       "        if (window._pyforest_update_imports_cell) { window._pyforest_update_imports_cell('import numpy as np'); }\n",
       "    "
      ],
      "text/plain": [
       "<IPython.core.display.Javascript object>"
      ]
     },
     "metadata": {},
     "output_type": "display_data"
    },
    {
     "data": {
      "application/javascript": [
       "\n",
       "        if (window._pyforest_update_imports_cell) { window._pyforest_update_imports_cell('import numpy as np'); }\n",
       "    "
      ],
      "text/plain": [
       "<IPython.core.display.Javascript object>"
      ]
     },
     "metadata": {},
     "output_type": "display_data"
    },
    {
     "data": {
      "application/javascript": [
       "\n",
       "        if (window._pyforest_update_imports_cell) { window._pyforest_update_imports_cell('import numpy as np'); }\n",
       "    "
      ],
      "text/plain": [
       "<IPython.core.display.Javascript object>"
      ]
     },
     "metadata": {},
     "output_type": "display_data"
    },
    {
     "data": {
      "application/javascript": [
       "\n",
       "        if (window._pyforest_update_imports_cell) { window._pyforest_update_imports_cell('import numpy as np'); }\n",
       "    "
      ],
      "text/plain": [
       "<IPython.core.display.Javascript object>"
      ]
     },
     "metadata": {},
     "output_type": "display_data"
    },
    {
     "data": {
      "application/javascript": [
       "\n",
       "        if (window._pyforest_update_imports_cell) { window._pyforest_update_imports_cell('import numpy as np'); }\n",
       "    "
      ],
      "text/plain": [
       "<IPython.core.display.Javascript object>"
      ]
     },
     "metadata": {},
     "output_type": "display_data"
    },
    {
     "data": {
      "application/javascript": [
       "\n",
       "        if (window._pyforest_update_imports_cell) { window._pyforest_update_imports_cell('import numpy as np'); }\n",
       "    "
      ],
      "text/plain": [
       "<IPython.core.display.Javascript object>"
      ]
     },
     "metadata": {},
     "output_type": "display_data"
    },
    {
     "data": {
      "application/javascript": [
       "\n",
       "        if (window._pyforest_update_imports_cell) { window._pyforest_update_imports_cell('import numpy as np'); }\n",
       "    "
      ],
      "text/plain": [
       "<IPython.core.display.Javascript object>"
      ]
     },
     "metadata": {},
     "output_type": "display_data"
    },
    {
     "data": {
      "application/javascript": [
       "\n",
       "        if (window._pyforest_update_imports_cell) { window._pyforest_update_imports_cell('import numpy as np'); }\n",
       "    "
      ],
      "text/plain": [
       "<IPython.core.display.Javascript object>"
      ]
     },
     "metadata": {},
     "output_type": "display_data"
    },
    {
     "data": {
      "application/javascript": [
       "\n",
       "        if (window._pyforest_update_imports_cell) { window._pyforest_update_imports_cell('import numpy as np'); }\n",
       "    "
      ],
      "text/plain": [
       "<IPython.core.display.Javascript object>"
      ]
     },
     "metadata": {},
     "output_type": "display_data"
    },
    {
     "data": {
      "application/javascript": [
       "\n",
       "        if (window._pyforest_update_imports_cell) { window._pyforest_update_imports_cell('import numpy as np'); }\n",
       "    "
      ],
      "text/plain": [
       "<IPython.core.display.Javascript object>"
      ]
     },
     "metadata": {},
     "output_type": "display_data"
    },
    {
     "data": {
      "application/javascript": [
       "\n",
       "        if (window._pyforest_update_imports_cell) { window._pyforest_update_imports_cell('import numpy as np'); }\n",
       "    "
      ],
      "text/plain": [
       "<IPython.core.display.Javascript object>"
      ]
     },
     "metadata": {},
     "output_type": "display_data"
    },
    {
     "data": {
      "application/javascript": [
       "\n",
       "        if (window._pyforest_update_imports_cell) { window._pyforest_update_imports_cell('import numpy as np'); }\n",
       "    "
      ],
      "text/plain": [
       "<IPython.core.display.Javascript object>"
      ]
     },
     "metadata": {},
     "output_type": "display_data"
    },
    {
     "data": {
      "application/javascript": [
       "\n",
       "        if (window._pyforest_update_imports_cell) { window._pyforest_update_imports_cell('import numpy as np'); }\n",
       "    "
      ],
      "text/plain": [
       "<IPython.core.display.Javascript object>"
      ]
     },
     "metadata": {},
     "output_type": "display_data"
    },
    {
     "data": {
      "application/javascript": [
       "\n",
       "        if (window._pyforest_update_imports_cell) { window._pyforest_update_imports_cell('import numpy as np'); }\n",
       "    "
      ],
      "text/plain": [
       "<IPython.core.display.Javascript object>"
      ]
     },
     "metadata": {},
     "output_type": "display_data"
    },
    {
     "data": {
      "application/javascript": [
       "\n",
       "        if (window._pyforest_update_imports_cell) { window._pyforest_update_imports_cell('import numpy as np'); }\n",
       "    "
      ],
      "text/plain": [
       "<IPython.core.display.Javascript object>"
      ]
     },
     "metadata": {},
     "output_type": "display_data"
    },
    {
     "data": {
      "application/javascript": [
       "\n",
       "        if (window._pyforest_update_imports_cell) { window._pyforest_update_imports_cell('import numpy as np'); }\n",
       "    "
      ],
      "text/plain": [
       "<IPython.core.display.Javascript object>"
      ]
     },
     "metadata": {},
     "output_type": "display_data"
    },
    {
     "data": {
      "application/javascript": [
       "\n",
       "        if (window._pyforest_update_imports_cell) { window._pyforest_update_imports_cell('import numpy as np'); }\n",
       "    "
      ],
      "text/plain": [
       "<IPython.core.display.Javascript object>"
      ]
     },
     "metadata": {},
     "output_type": "display_data"
    },
    {
     "data": {
      "application/javascript": [
       "\n",
       "        if (window._pyforest_update_imports_cell) { window._pyforest_update_imports_cell('import numpy as np'); }\n",
       "    "
      ],
      "text/plain": [
       "<IPython.core.display.Javascript object>"
      ]
     },
     "metadata": {},
     "output_type": "display_data"
    },
    {
     "data": {
      "application/javascript": [
       "\n",
       "        if (window._pyforest_update_imports_cell) { window._pyforest_update_imports_cell('import numpy as np'); }\n",
       "    "
      ],
      "text/plain": [
       "<IPython.core.display.Javascript object>"
      ]
     },
     "metadata": {},
     "output_type": "display_data"
    },
    {
     "data": {
      "application/javascript": [
       "\n",
       "        if (window._pyforest_update_imports_cell) { window._pyforest_update_imports_cell('import numpy as np'); }\n",
       "    "
      ],
      "text/plain": [
       "<IPython.core.display.Javascript object>"
      ]
     },
     "metadata": {},
     "output_type": "display_data"
    },
    {
     "data": {
      "application/javascript": [
       "\n",
       "        if (window._pyforest_update_imports_cell) { window._pyforest_update_imports_cell('import numpy as np'); }\n",
       "    "
      ],
      "text/plain": [
       "<IPython.core.display.Javascript object>"
      ]
     },
     "metadata": {},
     "output_type": "display_data"
    },
    {
     "data": {
      "application/javascript": [
       "\n",
       "        if (window._pyforest_update_imports_cell) { window._pyforest_update_imports_cell('import numpy as np'); }\n",
       "    "
      ],
      "text/plain": [
       "<IPython.core.display.Javascript object>"
      ]
     },
     "metadata": {},
     "output_type": "display_data"
    },
    {
     "data": {
      "application/javascript": [
       "\n",
       "        if (window._pyforest_update_imports_cell) { window._pyforest_update_imports_cell('import numpy as np'); }\n",
       "    "
      ],
      "text/plain": [
       "<IPython.core.display.Javascript object>"
      ]
     },
     "metadata": {},
     "output_type": "display_data"
    },
    {
     "data": {
      "application/javascript": [
       "\n",
       "        if (window._pyforest_update_imports_cell) { window._pyforest_update_imports_cell('import numpy as np'); }\n",
       "    "
      ],
      "text/plain": [
       "<IPython.core.display.Javascript object>"
      ]
     },
     "metadata": {},
     "output_type": "display_data"
    },
    {
     "data": {
      "application/javascript": [
       "\n",
       "        if (window._pyforest_update_imports_cell) { window._pyforest_update_imports_cell('import numpy as np'); }\n",
       "    "
      ],
      "text/plain": [
       "<IPython.core.display.Javascript object>"
      ]
     },
     "metadata": {},
     "output_type": "display_data"
    },
    {
     "data": {
      "application/javascript": [
       "\n",
       "        if (window._pyforest_update_imports_cell) { window._pyforest_update_imports_cell('import numpy as np'); }\n",
       "    "
      ],
      "text/plain": [
       "<IPython.core.display.Javascript object>"
      ]
     },
     "metadata": {},
     "output_type": "display_data"
    },
    {
     "data": {
      "application/javascript": [
       "\n",
       "        if (window._pyforest_update_imports_cell) { window._pyforest_update_imports_cell('import numpy as np'); }\n",
       "    "
      ],
      "text/plain": [
       "<IPython.core.display.Javascript object>"
      ]
     },
     "metadata": {},
     "output_type": "display_data"
    },
    {
     "data": {
      "application/javascript": [
       "\n",
       "        if (window._pyforest_update_imports_cell) { window._pyforest_update_imports_cell('import numpy as np'); }\n",
       "    "
      ],
      "text/plain": [
       "<IPython.core.display.Javascript object>"
      ]
     },
     "metadata": {},
     "output_type": "display_data"
    },
    {
     "data": {
      "application/javascript": [
       "\n",
       "        if (window._pyforest_update_imports_cell) { window._pyforest_update_imports_cell('import numpy as np'); }\n",
       "    "
      ],
      "text/plain": [
       "<IPython.core.display.Javascript object>"
      ]
     },
     "metadata": {},
     "output_type": "display_data"
    },
    {
     "data": {
      "application/javascript": [
       "\n",
       "        if (window._pyforest_update_imports_cell) { window._pyforest_update_imports_cell('import numpy as np'); }\n",
       "    "
      ],
      "text/plain": [
       "<IPython.core.display.Javascript object>"
      ]
     },
     "metadata": {},
     "output_type": "display_data"
    },
    {
     "data": {
      "application/javascript": [
       "\n",
       "        if (window._pyforest_update_imports_cell) { window._pyforest_update_imports_cell('import numpy as np'); }\n",
       "    "
      ],
      "text/plain": [
       "<IPython.core.display.Javascript object>"
      ]
     },
     "metadata": {},
     "output_type": "display_data"
    },
    {
     "data": {
      "application/javascript": [
       "\n",
       "        if (window._pyforest_update_imports_cell) { window._pyforest_update_imports_cell('import numpy as np'); }\n",
       "    "
      ],
      "text/plain": [
       "<IPython.core.display.Javascript object>"
      ]
     },
     "metadata": {},
     "output_type": "display_data"
    },
    {
     "data": {
      "application/javascript": [
       "\n",
       "        if (window._pyforest_update_imports_cell) { window._pyforest_update_imports_cell('import numpy as np'); }\n",
       "    "
      ],
      "text/plain": [
       "<IPython.core.display.Javascript object>"
      ]
     },
     "metadata": {},
     "output_type": "display_data"
    },
    {
     "data": {
      "application/javascript": [
       "\n",
       "        if (window._pyforest_update_imports_cell) { window._pyforest_update_imports_cell('import numpy as np'); }\n",
       "    "
      ],
      "text/plain": [
       "<IPython.core.display.Javascript object>"
      ]
     },
     "metadata": {},
     "output_type": "display_data"
    },
    {
     "data": {
      "application/javascript": [
       "\n",
       "        if (window._pyforest_update_imports_cell) { window._pyforest_update_imports_cell('import numpy as np'); }\n",
       "    "
      ],
      "text/plain": [
       "<IPython.core.display.Javascript object>"
      ]
     },
     "metadata": {},
     "output_type": "display_data"
    },
    {
     "data": {
      "application/javascript": [
       "\n",
       "        if (window._pyforest_update_imports_cell) { window._pyforest_update_imports_cell('import numpy as np'); }\n",
       "    "
      ],
      "text/plain": [
       "<IPython.core.display.Javascript object>"
      ]
     },
     "metadata": {},
     "output_type": "display_data"
    },
    {
     "data": {
      "application/javascript": [
       "\n",
       "        if (window._pyforest_update_imports_cell) { window._pyforest_update_imports_cell('import numpy as np'); }\n",
       "    "
      ],
      "text/plain": [
       "<IPython.core.display.Javascript object>"
      ]
     },
     "metadata": {},
     "output_type": "display_data"
    },
    {
     "data": {
      "application/javascript": [
       "\n",
       "        if (window._pyforest_update_imports_cell) { window._pyforest_update_imports_cell('import numpy as np'); }\n",
       "    "
      ],
      "text/plain": [
       "<IPython.core.display.Javascript object>"
      ]
     },
     "metadata": {},
     "output_type": "display_data"
    },
    {
     "data": {
      "application/javascript": [
       "\n",
       "        if (window._pyforest_update_imports_cell) { window._pyforest_update_imports_cell('import numpy as np'); }\n",
       "    "
      ],
      "text/plain": [
       "<IPython.core.display.Javascript object>"
      ]
     },
     "metadata": {},
     "output_type": "display_data"
    },
    {
     "data": {
      "application/javascript": [
       "\n",
       "        if (window._pyforest_update_imports_cell) { window._pyforest_update_imports_cell('import numpy as np'); }\n",
       "    "
      ],
      "text/plain": [
       "<IPython.core.display.Javascript object>"
      ]
     },
     "metadata": {},
     "output_type": "display_data"
    },
    {
     "data": {
      "application/javascript": [
       "\n",
       "        if (window._pyforest_update_imports_cell) { window._pyforest_update_imports_cell('import numpy as np'); }\n",
       "    "
      ],
      "text/plain": [
       "<IPython.core.display.Javascript object>"
      ]
     },
     "metadata": {},
     "output_type": "display_data"
    },
    {
     "data": {
      "application/javascript": [
       "\n",
       "        if (window._pyforest_update_imports_cell) { window._pyforest_update_imports_cell('import numpy as np'); }\n",
       "    "
      ],
      "text/plain": [
       "<IPython.core.display.Javascript object>"
      ]
     },
     "metadata": {},
     "output_type": "display_data"
    },
    {
     "data": {
      "application/javascript": [
       "\n",
       "        if (window._pyforest_update_imports_cell) { window._pyforest_update_imports_cell('import numpy as np'); }\n",
       "    "
      ],
      "text/plain": [
       "<IPython.core.display.Javascript object>"
      ]
     },
     "metadata": {},
     "output_type": "display_data"
    },
    {
     "data": {
      "application/javascript": [
       "\n",
       "        if (window._pyforest_update_imports_cell) { window._pyforest_update_imports_cell('import numpy as np'); }\n",
       "    "
      ],
      "text/plain": [
       "<IPython.core.display.Javascript object>"
      ]
     },
     "metadata": {},
     "output_type": "display_data"
    },
    {
     "data": {
      "application/javascript": [
       "\n",
       "        if (window._pyforest_update_imports_cell) { window._pyforest_update_imports_cell('import numpy as np'); }\n",
       "    "
      ],
      "text/plain": [
       "<IPython.core.display.Javascript object>"
      ]
     },
     "metadata": {},
     "output_type": "display_data"
    },
    {
     "data": {
      "application/javascript": [
       "\n",
       "        if (window._pyforest_update_imports_cell) { window._pyforest_update_imports_cell('import numpy as np'); }\n",
       "    "
      ],
      "text/plain": [
       "<IPython.core.display.Javascript object>"
      ]
     },
     "metadata": {},
     "output_type": "display_data"
    },
    {
     "data": {
      "application/javascript": [
       "\n",
       "        if (window._pyforest_update_imports_cell) { window._pyforest_update_imports_cell('import numpy as np'); }\n",
       "    "
      ],
      "text/plain": [
       "<IPython.core.display.Javascript object>"
      ]
     },
     "metadata": {},
     "output_type": "display_data"
    },
    {
     "data": {
      "application/javascript": [
       "\n",
       "        if (window._pyforest_update_imports_cell) { window._pyforest_update_imports_cell('import numpy as np'); }\n",
       "    "
      ],
      "text/plain": [
       "<IPython.core.display.Javascript object>"
      ]
     },
     "metadata": {},
     "output_type": "display_data"
    },
    {
     "data": {
      "application/javascript": [
       "\n",
       "        if (window._pyforest_update_imports_cell) { window._pyforest_update_imports_cell('import numpy as np'); }\n",
       "    "
      ],
      "text/plain": [
       "<IPython.core.display.Javascript object>"
      ]
     },
     "metadata": {},
     "output_type": "display_data"
    },
    {
     "data": {
      "application/javascript": [
       "\n",
       "        if (window._pyforest_update_imports_cell) { window._pyforest_update_imports_cell('import numpy as np'); }\n",
       "    "
      ],
      "text/plain": [
       "<IPython.core.display.Javascript object>"
      ]
     },
     "metadata": {},
     "output_type": "display_data"
    },
    {
     "data": {
      "application/javascript": [
       "\n",
       "        if (window._pyforest_update_imports_cell) { window._pyforest_update_imports_cell('import numpy as np'); }\n",
       "    "
      ],
      "text/plain": [
       "<IPython.core.display.Javascript object>"
      ]
     },
     "metadata": {},
     "output_type": "display_data"
    },
    {
     "data": {
      "application/javascript": [
       "\n",
       "        if (window._pyforest_update_imports_cell) { window._pyforest_update_imports_cell('import numpy as np'); }\n",
       "    "
      ],
      "text/plain": [
       "<IPython.core.display.Javascript object>"
      ]
     },
     "metadata": {},
     "output_type": "display_data"
    },
    {
     "data": {
      "application/javascript": [
       "\n",
       "        if (window._pyforest_update_imports_cell) { window._pyforest_update_imports_cell('import numpy as np'); }\n",
       "    "
      ],
      "text/plain": [
       "<IPython.core.display.Javascript object>"
      ]
     },
     "metadata": {},
     "output_type": "display_data"
    },
    {
     "data": {
      "application/javascript": [
       "\n",
       "        if (window._pyforest_update_imports_cell) { window._pyforest_update_imports_cell('import numpy as np'); }\n",
       "    "
      ],
      "text/plain": [
       "<IPython.core.display.Javascript object>"
      ]
     },
     "metadata": {},
     "output_type": "display_data"
    },
    {
     "data": {
      "application/javascript": [
       "\n",
       "        if (window._pyforest_update_imports_cell) { window._pyforest_update_imports_cell('import numpy as np'); }\n",
       "    "
      ],
      "text/plain": [
       "<IPython.core.display.Javascript object>"
      ]
     },
     "metadata": {},
     "output_type": "display_data"
    },
    {
     "data": {
      "application/javascript": [
       "\n",
       "        if (window._pyforest_update_imports_cell) { window._pyforest_update_imports_cell('import numpy as np'); }\n",
       "    "
      ],
      "text/plain": [
       "<IPython.core.display.Javascript object>"
      ]
     },
     "metadata": {},
     "output_type": "display_data"
    },
    {
     "data": {
      "application/javascript": [
       "\n",
       "        if (window._pyforest_update_imports_cell) { window._pyforest_update_imports_cell('import numpy as np'); }\n",
       "    "
      ],
      "text/plain": [
       "<IPython.core.display.Javascript object>"
      ]
     },
     "metadata": {},
     "output_type": "display_data"
    },
    {
     "data": {
      "application/javascript": [
       "\n",
       "        if (window._pyforest_update_imports_cell) { window._pyforest_update_imports_cell('import numpy as np'); }\n",
       "    "
      ],
      "text/plain": [
       "<IPython.core.display.Javascript object>"
      ]
     },
     "metadata": {},
     "output_type": "display_data"
    },
    {
     "data": {
      "application/javascript": [
       "\n",
       "        if (window._pyforest_update_imports_cell) { window._pyforest_update_imports_cell('import numpy as np'); }\n",
       "    "
      ],
      "text/plain": [
       "<IPython.core.display.Javascript object>"
      ]
     },
     "metadata": {},
     "output_type": "display_data"
    },
    {
     "data": {
      "application/javascript": [
       "\n",
       "        if (window._pyforest_update_imports_cell) { window._pyforest_update_imports_cell('import numpy as np'); }\n",
       "    "
      ],
      "text/plain": [
       "<IPython.core.display.Javascript object>"
      ]
     },
     "metadata": {},
     "output_type": "display_data"
    },
    {
     "data": {
      "application/javascript": [
       "\n",
       "        if (window._pyforest_update_imports_cell) { window._pyforest_update_imports_cell('import numpy as np'); }\n",
       "    "
      ],
      "text/plain": [
       "<IPython.core.display.Javascript object>"
      ]
     },
     "metadata": {},
     "output_type": "display_data"
    },
    {
     "data": {
      "application/javascript": [
       "\n",
       "        if (window._pyforest_update_imports_cell) { window._pyforest_update_imports_cell('import numpy as np'); }\n",
       "    "
      ],
      "text/plain": [
       "<IPython.core.display.Javascript object>"
      ]
     },
     "metadata": {},
     "output_type": "display_data"
    },
    {
     "data": {
      "application/javascript": [
       "\n",
       "        if (window._pyforest_update_imports_cell) { window._pyforest_update_imports_cell('import numpy as np'); }\n",
       "    "
      ],
      "text/plain": [
       "<IPython.core.display.Javascript object>"
      ]
     },
     "metadata": {},
     "output_type": "display_data"
    },
    {
     "data": {
      "application/javascript": [
       "\n",
       "        if (window._pyforest_update_imports_cell) { window._pyforest_update_imports_cell('import numpy as np'); }\n",
       "    "
      ],
      "text/plain": [
       "<IPython.core.display.Javascript object>"
      ]
     },
     "metadata": {},
     "output_type": "display_data"
    },
    {
     "data": {
      "application/javascript": [
       "\n",
       "        if (window._pyforest_update_imports_cell) { window._pyforest_update_imports_cell('import numpy as np'); }\n",
       "    "
      ],
      "text/plain": [
       "<IPython.core.display.Javascript object>"
      ]
     },
     "metadata": {},
     "output_type": "display_data"
    },
    {
     "data": {
      "application/javascript": [
       "\n",
       "        if (window._pyforest_update_imports_cell) { window._pyforest_update_imports_cell('import numpy as np'); }\n",
       "    "
      ],
      "text/plain": [
       "<IPython.core.display.Javascript object>"
      ]
     },
     "metadata": {},
     "output_type": "display_data"
    },
    {
     "data": {
      "application/javascript": [
       "\n",
       "        if (window._pyforest_update_imports_cell) { window._pyforest_update_imports_cell('import numpy as np'); }\n",
       "    "
      ],
      "text/plain": [
       "<IPython.core.display.Javascript object>"
      ]
     },
     "metadata": {},
     "output_type": "display_data"
    },
    {
     "data": {
      "application/javascript": [
       "\n",
       "        if (window._pyforest_update_imports_cell) { window._pyforest_update_imports_cell('import numpy as np'); }\n",
       "    "
      ],
      "text/plain": [
       "<IPython.core.display.Javascript object>"
      ]
     },
     "metadata": {},
     "output_type": "display_data"
    },
    {
     "data": {
      "application/javascript": [
       "\n",
       "        if (window._pyforest_update_imports_cell) { window._pyforest_update_imports_cell('import numpy as np'); }\n",
       "    "
      ],
      "text/plain": [
       "<IPython.core.display.Javascript object>"
      ]
     },
     "metadata": {},
     "output_type": "display_data"
    },
    {
     "data": {
      "application/javascript": [
       "\n",
       "        if (window._pyforest_update_imports_cell) { window._pyforest_update_imports_cell('import numpy as np'); }\n",
       "    "
      ],
      "text/plain": [
       "<IPython.core.display.Javascript object>"
      ]
     },
     "metadata": {},
     "output_type": "display_data"
    },
    {
     "data": {
      "application/javascript": [
       "\n",
       "        if (window._pyforest_update_imports_cell) { window._pyforest_update_imports_cell('import numpy as np'); }\n",
       "    "
      ],
      "text/plain": [
       "<IPython.core.display.Javascript object>"
      ]
     },
     "metadata": {},
     "output_type": "display_data"
    },
    {
     "data": {
      "application/javascript": [
       "\n",
       "        if (window._pyforest_update_imports_cell) { window._pyforest_update_imports_cell('import numpy as np'); }\n",
       "    "
      ],
      "text/plain": [
       "<IPython.core.display.Javascript object>"
      ]
     },
     "metadata": {},
     "output_type": "display_data"
    },
    {
     "data": {
      "application/javascript": [
       "\n",
       "        if (window._pyforest_update_imports_cell) { window._pyforest_update_imports_cell('import numpy as np'); }\n",
       "    "
      ],
      "text/plain": [
       "<IPython.core.display.Javascript object>"
      ]
     },
     "metadata": {},
     "output_type": "display_data"
    },
    {
     "data": {
      "application/javascript": [
       "\n",
       "        if (window._pyforest_update_imports_cell) { window._pyforest_update_imports_cell('import numpy as np'); }\n",
       "    "
      ],
      "text/plain": [
       "<IPython.core.display.Javascript object>"
      ]
     },
     "metadata": {},
     "output_type": "display_data"
    },
    {
     "data": {
      "application/javascript": [
       "\n",
       "        if (window._pyforest_update_imports_cell) { window._pyforest_update_imports_cell('import numpy as np'); }\n",
       "    "
      ],
      "text/plain": [
       "<IPython.core.display.Javascript object>"
      ]
     },
     "metadata": {},
     "output_type": "display_data"
    },
    {
     "data": {
      "application/javascript": [
       "\n",
       "        if (window._pyforest_update_imports_cell) { window._pyforest_update_imports_cell('import numpy as np'); }\n",
       "    "
      ],
      "text/plain": [
       "<IPython.core.display.Javascript object>"
      ]
     },
     "metadata": {},
     "output_type": "display_data"
    },
    {
     "data": {
      "application/javascript": [
       "\n",
       "        if (window._pyforest_update_imports_cell) { window._pyforest_update_imports_cell('import numpy as np'); }\n",
       "    "
      ],
      "text/plain": [
       "<IPython.core.display.Javascript object>"
      ]
     },
     "metadata": {},
     "output_type": "display_data"
    },
    {
     "data": {
      "application/javascript": [
       "\n",
       "        if (window._pyforest_update_imports_cell) { window._pyforest_update_imports_cell('import numpy as np'); }\n",
       "    "
      ],
      "text/plain": [
       "<IPython.core.display.Javascript object>"
      ]
     },
     "metadata": {},
     "output_type": "display_data"
    },
    {
     "data": {
      "application/javascript": [
       "\n",
       "        if (window._pyforest_update_imports_cell) { window._pyforest_update_imports_cell('import numpy as np'); }\n",
       "    "
      ],
      "text/plain": [
       "<IPython.core.display.Javascript object>"
      ]
     },
     "metadata": {},
     "output_type": "display_data"
    },
    {
     "data": {
      "application/javascript": [
       "\n",
       "        if (window._pyforest_update_imports_cell) { window._pyforest_update_imports_cell('import numpy as np'); }\n",
       "    "
      ],
      "text/plain": [
       "<IPython.core.display.Javascript object>"
      ]
     },
     "metadata": {},
     "output_type": "display_data"
    },
    {
     "data": {
      "application/javascript": [
       "\n",
       "        if (window._pyforest_update_imports_cell) { window._pyforest_update_imports_cell('import numpy as np'); }\n",
       "    "
      ],
      "text/plain": [
       "<IPython.core.display.Javascript object>"
      ]
     },
     "metadata": {},
     "output_type": "display_data"
    },
    {
     "data": {
      "application/javascript": [
       "\n",
       "        if (window._pyforest_update_imports_cell) { window._pyforest_update_imports_cell('import numpy as np'); }\n",
       "    "
      ],
      "text/plain": [
       "<IPython.core.display.Javascript object>"
      ]
     },
     "metadata": {},
     "output_type": "display_data"
    },
    {
     "data": {
      "application/javascript": [
       "\n",
       "        if (window._pyforest_update_imports_cell) { window._pyforest_update_imports_cell('import numpy as np'); }\n",
       "    "
      ],
      "text/plain": [
       "<IPython.core.display.Javascript object>"
      ]
     },
     "metadata": {},
     "output_type": "display_data"
    },
    {
     "data": {
      "application/javascript": [
       "\n",
       "        if (window._pyforest_update_imports_cell) { window._pyforest_update_imports_cell('import numpy as np'); }\n",
       "    "
      ],
      "text/plain": [
       "<IPython.core.display.Javascript object>"
      ]
     },
     "metadata": {},
     "output_type": "display_data"
    },
    {
     "data": {
      "application/javascript": [
       "\n",
       "        if (window._pyforest_update_imports_cell) { window._pyforest_update_imports_cell('import numpy as np'); }\n",
       "    "
      ],
      "text/plain": [
       "<IPython.core.display.Javascript object>"
      ]
     },
     "metadata": {},
     "output_type": "display_data"
    },
    {
     "data": {
      "application/javascript": [
       "\n",
       "        if (window._pyforest_update_imports_cell) { window._pyforest_update_imports_cell('import numpy as np'); }\n",
       "    "
      ],
      "text/plain": [
       "<IPython.core.display.Javascript object>"
      ]
     },
     "metadata": {},
     "output_type": "display_data"
    },
    {
     "data": {
      "application/javascript": [
       "\n",
       "        if (window._pyforest_update_imports_cell) { window._pyforest_update_imports_cell('import numpy as np'); }\n",
       "    "
      ],
      "text/plain": [
       "<IPython.core.display.Javascript object>"
      ]
     },
     "metadata": {},
     "output_type": "display_data"
    },
    {
     "data": {
      "application/javascript": [
       "\n",
       "        if (window._pyforest_update_imports_cell) { window._pyforest_update_imports_cell('import numpy as np'); }\n",
       "    "
      ],
      "text/plain": [
       "<IPython.core.display.Javascript object>"
      ]
     },
     "metadata": {},
     "output_type": "display_data"
    },
    {
     "data": {
      "application/javascript": [
       "\n",
       "        if (window._pyforest_update_imports_cell) { window._pyforest_update_imports_cell('import numpy as np'); }\n",
       "    "
      ],
      "text/plain": [
       "<IPython.core.display.Javascript object>"
      ]
     },
     "metadata": {},
     "output_type": "display_data"
    },
    {
     "data": {
      "application/javascript": [
       "\n",
       "        if (window._pyforest_update_imports_cell) { window._pyforest_update_imports_cell('import numpy as np'); }\n",
       "    "
      ],
      "text/plain": [
       "<IPython.core.display.Javascript object>"
      ]
     },
     "metadata": {},
     "output_type": "display_data"
    },
    {
     "data": {
      "application/javascript": [
       "\n",
       "        if (window._pyforest_update_imports_cell) { window._pyforest_update_imports_cell('import numpy as np'); }\n",
       "    "
      ],
      "text/plain": [
       "<IPython.core.display.Javascript object>"
      ]
     },
     "metadata": {},
     "output_type": "display_data"
    },
    {
     "data": {
      "application/javascript": [
       "\n",
       "        if (window._pyforest_update_imports_cell) { window._pyforest_update_imports_cell('import numpy as np'); }\n",
       "    "
      ],
      "text/plain": [
       "<IPython.core.display.Javascript object>"
      ]
     },
     "metadata": {},
     "output_type": "display_data"
    },
    {
     "data": {
      "application/javascript": [
       "\n",
       "        if (window._pyforest_update_imports_cell) { window._pyforest_update_imports_cell('import numpy as np'); }\n",
       "    "
      ],
      "text/plain": [
       "<IPython.core.display.Javascript object>"
      ]
     },
     "metadata": {},
     "output_type": "display_data"
    },
    {
     "data": {
      "application/javascript": [
       "\n",
       "        if (window._pyforest_update_imports_cell) { window._pyforest_update_imports_cell('import numpy as np'); }\n",
       "    "
      ],
      "text/plain": [
       "<IPython.core.display.Javascript object>"
      ]
     },
     "metadata": {},
     "output_type": "display_data"
    },
    {
     "data": {
      "application/javascript": [
       "\n",
       "        if (window._pyforest_update_imports_cell) { window._pyforest_update_imports_cell('import numpy as np'); }\n",
       "    "
      ],
      "text/plain": [
       "<IPython.core.display.Javascript object>"
      ]
     },
     "metadata": {},
     "output_type": "display_data"
    },
    {
     "data": {
      "application/javascript": [
       "\n",
       "        if (window._pyforest_update_imports_cell) { window._pyforest_update_imports_cell('import numpy as np'); }\n",
       "    "
      ],
      "text/plain": [
       "<IPython.core.display.Javascript object>"
      ]
     },
     "metadata": {},
     "output_type": "display_data"
    },
    {
     "data": {
      "application/javascript": [
       "\n",
       "        if (window._pyforest_update_imports_cell) { window._pyforest_update_imports_cell('import numpy as np'); }\n",
       "    "
      ],
      "text/plain": [
       "<IPython.core.display.Javascript object>"
      ]
     },
     "metadata": {},
     "output_type": "display_data"
    },
    {
     "data": {
      "application/javascript": [
       "\n",
       "        if (window._pyforest_update_imports_cell) { window._pyforest_update_imports_cell('import numpy as np'); }\n",
       "    "
      ],
      "text/plain": [
       "<IPython.core.display.Javascript object>"
      ]
     },
     "metadata": {},
     "output_type": "display_data"
    },
    {
     "data": {
      "application/javascript": [
       "\n",
       "        if (window._pyforest_update_imports_cell) { window._pyforest_update_imports_cell('import numpy as np'); }\n",
       "    "
      ],
      "text/plain": [
       "<IPython.core.display.Javascript object>"
      ]
     },
     "metadata": {},
     "output_type": "display_data"
    },
    {
     "data": {
      "application/javascript": [
       "\n",
       "        if (window._pyforest_update_imports_cell) { window._pyforest_update_imports_cell('import numpy as np'); }\n",
       "    "
      ],
      "text/plain": [
       "<IPython.core.display.Javascript object>"
      ]
     },
     "metadata": {},
     "output_type": "display_data"
    },
    {
     "data": {
      "application/javascript": [
       "\n",
       "        if (window._pyforest_update_imports_cell) { window._pyforest_update_imports_cell('import numpy as np'); }\n",
       "    "
      ],
      "text/plain": [
       "<IPython.core.display.Javascript object>"
      ]
     },
     "metadata": {},
     "output_type": "display_data"
    },
    {
     "data": {
      "application/javascript": [
       "\n",
       "        if (window._pyforest_update_imports_cell) { window._pyforest_update_imports_cell('import numpy as np'); }\n",
       "    "
      ],
      "text/plain": [
       "<IPython.core.display.Javascript object>"
      ]
     },
     "metadata": {},
     "output_type": "display_data"
    },
    {
     "data": {
      "application/javascript": [
       "\n",
       "        if (window._pyforest_update_imports_cell) { window._pyforest_update_imports_cell('import numpy as np'); }\n",
       "    "
      ],
      "text/plain": [
       "<IPython.core.display.Javascript object>"
      ]
     },
     "metadata": {},
     "output_type": "display_data"
    },
    {
     "data": {
      "application/javascript": [
       "\n",
       "        if (window._pyforest_update_imports_cell) { window._pyforest_update_imports_cell('import numpy as np'); }\n",
       "    "
      ],
      "text/plain": [
       "<IPython.core.display.Javascript object>"
      ]
     },
     "metadata": {},
     "output_type": "display_data"
    },
    {
     "data": {
      "application/javascript": [
       "\n",
       "        if (window._pyforest_update_imports_cell) { window._pyforest_update_imports_cell('import numpy as np'); }\n",
       "    "
      ],
      "text/plain": [
       "<IPython.core.display.Javascript object>"
      ]
     },
     "metadata": {},
     "output_type": "display_data"
    },
    {
     "data": {
      "application/javascript": [
       "\n",
       "        if (window._pyforest_update_imports_cell) { window._pyforest_update_imports_cell('import numpy as np'); }\n",
       "    "
      ],
      "text/plain": [
       "<IPython.core.display.Javascript object>"
      ]
     },
     "metadata": {},
     "output_type": "display_data"
    },
    {
     "data": {
      "application/javascript": [
       "\n",
       "        if (window._pyforest_update_imports_cell) { window._pyforest_update_imports_cell('import numpy as np'); }\n",
       "    "
      ],
      "text/plain": [
       "<IPython.core.display.Javascript object>"
      ]
     },
     "metadata": {},
     "output_type": "display_data"
    },
    {
     "data": {
      "application/javascript": [
       "\n",
       "        if (window._pyforest_update_imports_cell) { window._pyforest_update_imports_cell('import numpy as np'); }\n",
       "    "
      ],
      "text/plain": [
       "<IPython.core.display.Javascript object>"
      ]
     },
     "metadata": {},
     "output_type": "display_data"
    },
    {
     "data": {
      "application/javascript": [
       "\n",
       "        if (window._pyforest_update_imports_cell) { window._pyforest_update_imports_cell('import numpy as np'); }\n",
       "    "
      ],
      "text/plain": [
       "<IPython.core.display.Javascript object>"
      ]
     },
     "metadata": {},
     "output_type": "display_data"
    },
    {
     "data": {
      "application/javascript": [
       "\n",
       "        if (window._pyforest_update_imports_cell) { window._pyforest_update_imports_cell('import numpy as np'); }\n",
       "    "
      ],
      "text/plain": [
       "<IPython.core.display.Javascript object>"
      ]
     },
     "metadata": {},
     "output_type": "display_data"
    },
    {
     "data": {
      "application/javascript": [
       "\n",
       "        if (window._pyforest_update_imports_cell) { window._pyforest_update_imports_cell('import numpy as np'); }\n",
       "    "
      ],
      "text/plain": [
       "<IPython.core.display.Javascript object>"
      ]
     },
     "metadata": {},
     "output_type": "display_data"
    },
    {
     "data": {
      "application/javascript": [
       "\n",
       "        if (window._pyforest_update_imports_cell) { window._pyforest_update_imports_cell('import numpy as np'); }\n",
       "    "
      ],
      "text/plain": [
       "<IPython.core.display.Javascript object>"
      ]
     },
     "metadata": {},
     "output_type": "display_data"
    },
    {
     "data": {
      "application/javascript": [
       "\n",
       "        if (window._pyforest_update_imports_cell) { window._pyforest_update_imports_cell('import numpy as np'); }\n",
       "    "
      ],
      "text/plain": [
       "<IPython.core.display.Javascript object>"
      ]
     },
     "metadata": {},
     "output_type": "display_data"
    },
    {
     "data": {
      "application/javascript": [
       "\n",
       "        if (window._pyforest_update_imports_cell) { window._pyforest_update_imports_cell('import numpy as np'); }\n",
       "    "
      ],
      "text/plain": [
       "<IPython.core.display.Javascript object>"
      ]
     },
     "metadata": {},
     "output_type": "display_data"
    },
    {
     "data": {
      "application/javascript": [
       "\n",
       "        if (window._pyforest_update_imports_cell) { window._pyforest_update_imports_cell('import numpy as np'); }\n",
       "    "
      ],
      "text/plain": [
       "<IPython.core.display.Javascript object>"
      ]
     },
     "metadata": {},
     "output_type": "display_data"
    },
    {
     "data": {
      "application/javascript": [
       "\n",
       "        if (window._pyforest_update_imports_cell) { window._pyforest_update_imports_cell('import numpy as np'); }\n",
       "    "
      ],
      "text/plain": [
       "<IPython.core.display.Javascript object>"
      ]
     },
     "metadata": {},
     "output_type": "display_data"
    },
    {
     "data": {
      "application/javascript": [
       "\n",
       "        if (window._pyforest_update_imports_cell) { window._pyforest_update_imports_cell('import numpy as np'); }\n",
       "    "
      ],
      "text/plain": [
       "<IPython.core.display.Javascript object>"
      ]
     },
     "metadata": {},
     "output_type": "display_data"
    },
    {
     "data": {
      "application/javascript": [
       "\n",
       "        if (window._pyforest_update_imports_cell) { window._pyforest_update_imports_cell('import numpy as np'); }\n",
       "    "
      ],
      "text/plain": [
       "<IPython.core.display.Javascript object>"
      ]
     },
     "metadata": {},
     "output_type": "display_data"
    },
    {
     "data": {
      "application/javascript": [
       "\n",
       "        if (window._pyforest_update_imports_cell) { window._pyforest_update_imports_cell('import numpy as np'); }\n",
       "    "
      ],
      "text/plain": [
       "<IPython.core.display.Javascript object>"
      ]
     },
     "metadata": {},
     "output_type": "display_data"
    },
    {
     "data": {
      "application/javascript": [
       "\n",
       "        if (window._pyforest_update_imports_cell) { window._pyforest_update_imports_cell('import numpy as np'); }\n",
       "    "
      ],
      "text/plain": [
       "<IPython.core.display.Javascript object>"
      ]
     },
     "metadata": {},
     "output_type": "display_data"
    },
    {
     "data": {
      "application/javascript": [
       "\n",
       "        if (window._pyforest_update_imports_cell) { window._pyforest_update_imports_cell('import numpy as np'); }\n",
       "    "
      ],
      "text/plain": [
       "<IPython.core.display.Javascript object>"
      ]
     },
     "metadata": {},
     "output_type": "display_data"
    },
    {
     "data": {
      "application/javascript": [
       "\n",
       "        if (window._pyforest_update_imports_cell) { window._pyforest_update_imports_cell('import numpy as np'); }\n",
       "    "
      ],
      "text/plain": [
       "<IPython.core.display.Javascript object>"
      ]
     },
     "metadata": {},
     "output_type": "display_data"
    },
    {
     "data": {
      "application/javascript": [
       "\n",
       "        if (window._pyforest_update_imports_cell) { window._pyforest_update_imports_cell('import numpy as np'); }\n",
       "    "
      ],
      "text/plain": [
       "<IPython.core.display.Javascript object>"
      ]
     },
     "metadata": {},
     "output_type": "display_data"
    },
    {
     "data": {
      "application/javascript": [
       "\n",
       "        if (window._pyforest_update_imports_cell) { window._pyforest_update_imports_cell('import numpy as np'); }\n",
       "    "
      ],
      "text/plain": [
       "<IPython.core.display.Javascript object>"
      ]
     },
     "metadata": {},
     "output_type": "display_data"
    },
    {
     "data": {
      "application/javascript": [
       "\n",
       "        if (window._pyforest_update_imports_cell) { window._pyforest_update_imports_cell('import numpy as np'); }\n",
       "    "
      ],
      "text/plain": [
       "<IPython.core.display.Javascript object>"
      ]
     },
     "metadata": {},
     "output_type": "display_data"
    },
    {
     "data": {
      "application/javascript": [
       "\n",
       "        if (window._pyforest_update_imports_cell) { window._pyforest_update_imports_cell('import numpy as np'); }\n",
       "    "
      ],
      "text/plain": [
       "<IPython.core.display.Javascript object>"
      ]
     },
     "metadata": {},
     "output_type": "display_data"
    },
    {
     "data": {
      "application/javascript": [
       "\n",
       "        if (window._pyforest_update_imports_cell) { window._pyforest_update_imports_cell('import numpy as np'); }\n",
       "    "
      ],
      "text/plain": [
       "<IPython.core.display.Javascript object>"
      ]
     },
     "metadata": {},
     "output_type": "display_data"
    },
    {
     "data": {
      "application/javascript": [
       "\n",
       "        if (window._pyforest_update_imports_cell) { window._pyforest_update_imports_cell('import numpy as np'); }\n",
       "    "
      ],
      "text/plain": [
       "<IPython.core.display.Javascript object>"
      ]
     },
     "metadata": {},
     "output_type": "display_data"
    },
    {
     "data": {
      "application/javascript": [
       "\n",
       "        if (window._pyforest_update_imports_cell) { window._pyforest_update_imports_cell('import numpy as np'); }\n",
       "    "
      ],
      "text/plain": [
       "<IPython.core.display.Javascript object>"
      ]
     },
     "metadata": {},
     "output_type": "display_data"
    },
    {
     "data": {
      "application/javascript": [
       "\n",
       "        if (window._pyforest_update_imports_cell) { window._pyforest_update_imports_cell('import numpy as np'); }\n",
       "    "
      ],
      "text/plain": [
       "<IPython.core.display.Javascript object>"
      ]
     },
     "metadata": {},
     "output_type": "display_data"
    },
    {
     "data": {
      "application/javascript": [
       "\n",
       "        if (window._pyforest_update_imports_cell) { window._pyforest_update_imports_cell('import numpy as np'); }\n",
       "    "
      ],
      "text/plain": [
       "<IPython.core.display.Javascript object>"
      ]
     },
     "metadata": {},
     "output_type": "display_data"
    },
    {
     "data": {
      "application/javascript": [
       "\n",
       "        if (window._pyforest_update_imports_cell) { window._pyforest_update_imports_cell('import numpy as np'); }\n",
       "    "
      ],
      "text/plain": [
       "<IPython.core.display.Javascript object>"
      ]
     },
     "metadata": {},
     "output_type": "display_data"
    },
    {
     "data": {
      "application/javascript": [
       "\n",
       "        if (window._pyforest_update_imports_cell) { window._pyforest_update_imports_cell('import numpy as np'); }\n",
       "    "
      ],
      "text/plain": [
       "<IPython.core.display.Javascript object>"
      ]
     },
     "metadata": {},
     "output_type": "display_data"
    },
    {
     "data": {
      "application/javascript": [
       "\n",
       "        if (window._pyforest_update_imports_cell) { window._pyforest_update_imports_cell('import numpy as np'); }\n",
       "    "
      ],
      "text/plain": [
       "<IPython.core.display.Javascript object>"
      ]
     },
     "metadata": {},
     "output_type": "display_data"
    },
    {
     "data": {
      "application/javascript": [
       "\n",
       "        if (window._pyforest_update_imports_cell) { window._pyforest_update_imports_cell('import numpy as np'); }\n",
       "    "
      ],
      "text/plain": [
       "<IPython.core.display.Javascript object>"
      ]
     },
     "metadata": {},
     "output_type": "display_data"
    },
    {
     "data": {
      "application/javascript": [
       "\n",
       "        if (window._pyforest_update_imports_cell) { window._pyforest_update_imports_cell('import numpy as np'); }\n",
       "    "
      ],
      "text/plain": [
       "<IPython.core.display.Javascript object>"
      ]
     },
     "metadata": {},
     "output_type": "display_data"
    },
    {
     "data": {
      "application/javascript": [
       "\n",
       "        if (window._pyforest_update_imports_cell) { window._pyforest_update_imports_cell('import numpy as np'); }\n",
       "    "
      ],
      "text/plain": [
       "<IPython.core.display.Javascript object>"
      ]
     },
     "metadata": {},
     "output_type": "display_data"
    },
    {
     "data": {
      "application/javascript": [
       "\n",
       "        if (window._pyforest_update_imports_cell) { window._pyforest_update_imports_cell('import numpy as np'); }\n",
       "    "
      ],
      "text/plain": [
       "<IPython.core.display.Javascript object>"
      ]
     },
     "metadata": {},
     "output_type": "display_data"
    },
    {
     "data": {
      "application/javascript": [
       "\n",
       "        if (window._pyforest_update_imports_cell) { window._pyforest_update_imports_cell('import numpy as np'); }\n",
       "    "
      ],
      "text/plain": [
       "<IPython.core.display.Javascript object>"
      ]
     },
     "metadata": {},
     "output_type": "display_data"
    },
    {
     "data": {
      "application/javascript": [
       "\n",
       "        if (window._pyforest_update_imports_cell) { window._pyforest_update_imports_cell('import numpy as np'); }\n",
       "    "
      ],
      "text/plain": [
       "<IPython.core.display.Javascript object>"
      ]
     },
     "metadata": {},
     "output_type": "display_data"
    },
    {
     "data": {
      "application/javascript": [
       "\n",
       "        if (window._pyforest_update_imports_cell) { window._pyforest_update_imports_cell('import numpy as np'); }\n",
       "    "
      ],
      "text/plain": [
       "<IPython.core.display.Javascript object>"
      ]
     },
     "metadata": {},
     "output_type": "display_data"
    },
    {
     "data": {
      "application/javascript": [
       "\n",
       "        if (window._pyforest_update_imports_cell) { window._pyforest_update_imports_cell('import numpy as np'); }\n",
       "    "
      ],
      "text/plain": [
       "<IPython.core.display.Javascript object>"
      ]
     },
     "metadata": {},
     "output_type": "display_data"
    },
    {
     "data": {
      "application/javascript": [
       "\n",
       "        if (window._pyforest_update_imports_cell) { window._pyforest_update_imports_cell('import numpy as np'); }\n",
       "    "
      ],
      "text/plain": [
       "<IPython.core.display.Javascript object>"
      ]
     },
     "metadata": {},
     "output_type": "display_data"
    },
    {
     "data": {
      "application/javascript": [
       "\n",
       "        if (window._pyforest_update_imports_cell) { window._pyforest_update_imports_cell('import numpy as np'); }\n",
       "    "
      ],
      "text/plain": [
       "<IPython.core.display.Javascript object>"
      ]
     },
     "metadata": {},
     "output_type": "display_data"
    },
    {
     "data": {
      "application/javascript": [
       "\n",
       "        if (window._pyforest_update_imports_cell) { window._pyforest_update_imports_cell('import numpy as np'); }\n",
       "    "
      ],
      "text/plain": [
       "<IPython.core.display.Javascript object>"
      ]
     },
     "metadata": {},
     "output_type": "display_data"
    },
    {
     "data": {
      "application/javascript": [
       "\n",
       "        if (window._pyforest_update_imports_cell) { window._pyforest_update_imports_cell('import numpy as np'); }\n",
       "    "
      ],
      "text/plain": [
       "<IPython.core.display.Javascript object>"
      ]
     },
     "metadata": {},
     "output_type": "display_data"
    },
    {
     "data": {
      "application/javascript": [
       "\n",
       "        if (window._pyforest_update_imports_cell) { window._pyforest_update_imports_cell('import numpy as np'); }\n",
       "    "
      ],
      "text/plain": [
       "<IPython.core.display.Javascript object>"
      ]
     },
     "metadata": {},
     "output_type": "display_data"
    },
    {
     "data": {
      "application/javascript": [
       "\n",
       "        if (window._pyforest_update_imports_cell) { window._pyforest_update_imports_cell('import numpy as np'); }\n",
       "    "
      ],
      "text/plain": [
       "<IPython.core.display.Javascript object>"
      ]
     },
     "metadata": {},
     "output_type": "display_data"
    },
    {
     "data": {
      "application/javascript": [
       "\n",
       "        if (window._pyforest_update_imports_cell) { window._pyforest_update_imports_cell('import numpy as np'); }\n",
       "    "
      ],
      "text/plain": [
       "<IPython.core.display.Javascript object>"
      ]
     },
     "metadata": {},
     "output_type": "display_data"
    },
    {
     "data": {
      "application/javascript": [
       "\n",
       "        if (window._pyforest_update_imports_cell) { window._pyforest_update_imports_cell('import numpy as np'); }\n",
       "    "
      ],
      "text/plain": [
       "<IPython.core.display.Javascript object>"
      ]
     },
     "metadata": {},
     "output_type": "display_data"
    },
    {
     "data": {
      "application/javascript": [
       "\n",
       "        if (window._pyforest_update_imports_cell) { window._pyforest_update_imports_cell('import numpy as np'); }\n",
       "    "
      ],
      "text/plain": [
       "<IPython.core.display.Javascript object>"
      ]
     },
     "metadata": {},
     "output_type": "display_data"
    },
    {
     "data": {
      "application/javascript": [
       "\n",
       "        if (window._pyforest_update_imports_cell) { window._pyforest_update_imports_cell('import numpy as np'); }\n",
       "    "
      ],
      "text/plain": [
       "<IPython.core.display.Javascript object>"
      ]
     },
     "metadata": {},
     "output_type": "display_data"
    },
    {
     "data": {
      "application/javascript": [
       "\n",
       "        if (window._pyforest_update_imports_cell) { window._pyforest_update_imports_cell('import numpy as np'); }\n",
       "    "
      ],
      "text/plain": [
       "<IPython.core.display.Javascript object>"
      ]
     },
     "metadata": {},
     "output_type": "display_data"
    },
    {
     "data": {
      "application/javascript": [
       "\n",
       "        if (window._pyforest_update_imports_cell) { window._pyforest_update_imports_cell('import numpy as np'); }\n",
       "    "
      ],
      "text/plain": [
       "<IPython.core.display.Javascript object>"
      ]
     },
     "metadata": {},
     "output_type": "display_data"
    },
    {
     "data": {
      "application/javascript": [
       "\n",
       "        if (window._pyforest_update_imports_cell) { window._pyforest_update_imports_cell('import numpy as np'); }\n",
       "    "
      ],
      "text/plain": [
       "<IPython.core.display.Javascript object>"
      ]
     },
     "metadata": {},
     "output_type": "display_data"
    },
    {
     "data": {
      "application/javascript": [
       "\n",
       "        if (window._pyforest_update_imports_cell) { window._pyforest_update_imports_cell('import numpy as np'); }\n",
       "    "
      ],
      "text/plain": [
       "<IPython.core.display.Javascript object>"
      ]
     },
     "metadata": {},
     "output_type": "display_data"
    },
    {
     "data": {
      "application/javascript": [
       "\n",
       "        if (window._pyforest_update_imports_cell) { window._pyforest_update_imports_cell('import numpy as np'); }\n",
       "    "
      ],
      "text/plain": [
       "<IPython.core.display.Javascript object>"
      ]
     },
     "metadata": {},
     "output_type": "display_data"
    },
    {
     "data": {
      "application/javascript": [
       "\n",
       "        if (window._pyforest_update_imports_cell) { window._pyforest_update_imports_cell('import numpy as np'); }\n",
       "    "
      ],
      "text/plain": [
       "<IPython.core.display.Javascript object>"
      ]
     },
     "metadata": {},
     "output_type": "display_data"
    },
    {
     "data": {
      "application/javascript": [
       "\n",
       "        if (window._pyforest_update_imports_cell) { window._pyforest_update_imports_cell('import numpy as np'); }\n",
       "    "
      ],
      "text/plain": [
       "<IPython.core.display.Javascript object>"
      ]
     },
     "metadata": {},
     "output_type": "display_data"
    },
    {
     "data": {
      "application/javascript": [
       "\n",
       "        if (window._pyforest_update_imports_cell) { window._pyforest_update_imports_cell('import numpy as np'); }\n",
       "    "
      ],
      "text/plain": [
       "<IPython.core.display.Javascript object>"
      ]
     },
     "metadata": {},
     "output_type": "display_data"
    },
    {
     "data": {
      "application/javascript": [
       "\n",
       "        if (window._pyforest_update_imports_cell) { window._pyforest_update_imports_cell('import numpy as np'); }\n",
       "    "
      ],
      "text/plain": [
       "<IPython.core.display.Javascript object>"
      ]
     },
     "metadata": {},
     "output_type": "display_data"
    },
    {
     "data": {
      "application/javascript": [
       "\n",
       "        if (window._pyforest_update_imports_cell) { window._pyforest_update_imports_cell('import numpy as np'); }\n",
       "    "
      ],
      "text/plain": [
       "<IPython.core.display.Javascript object>"
      ]
     },
     "metadata": {},
     "output_type": "display_data"
    },
    {
     "data": {
      "application/javascript": [
       "\n",
       "        if (window._pyforest_update_imports_cell) { window._pyforest_update_imports_cell('import numpy as np'); }\n",
       "    "
      ],
      "text/plain": [
       "<IPython.core.display.Javascript object>"
      ]
     },
     "metadata": {},
     "output_type": "display_data"
    },
    {
     "data": {
      "application/javascript": [
       "\n",
       "        if (window._pyforest_update_imports_cell) { window._pyforest_update_imports_cell('import numpy as np'); }\n",
       "    "
      ],
      "text/plain": [
       "<IPython.core.display.Javascript object>"
      ]
     },
     "metadata": {},
     "output_type": "display_data"
    },
    {
     "data": {
      "application/javascript": [
       "\n",
       "        if (window._pyforest_update_imports_cell) { window._pyforest_update_imports_cell('import numpy as np'); }\n",
       "    "
      ],
      "text/plain": [
       "<IPython.core.display.Javascript object>"
      ]
     },
     "metadata": {},
     "output_type": "display_data"
    },
    {
     "data": {
      "application/javascript": [
       "\n",
       "        if (window._pyforest_update_imports_cell) { window._pyforest_update_imports_cell('import numpy as np'); }\n",
       "    "
      ],
      "text/plain": [
       "<IPython.core.display.Javascript object>"
      ]
     },
     "metadata": {},
     "output_type": "display_data"
    },
    {
     "data": {
      "application/javascript": [
       "\n",
       "        if (window._pyforest_update_imports_cell) { window._pyforest_update_imports_cell('import numpy as np'); }\n",
       "    "
      ],
      "text/plain": [
       "<IPython.core.display.Javascript object>"
      ]
     },
     "metadata": {},
     "output_type": "display_data"
    },
    {
     "data": {
      "application/javascript": [
       "\n",
       "        if (window._pyforest_update_imports_cell) { window._pyforest_update_imports_cell('import numpy as np'); }\n",
       "    "
      ],
      "text/plain": [
       "<IPython.core.display.Javascript object>"
      ]
     },
     "metadata": {},
     "output_type": "display_data"
    },
    {
     "data": {
      "application/javascript": [
       "\n",
       "        if (window._pyforest_update_imports_cell) { window._pyforest_update_imports_cell('import numpy as np'); }\n",
       "    "
      ],
      "text/plain": [
       "<IPython.core.display.Javascript object>"
      ]
     },
     "metadata": {},
     "output_type": "display_data"
    },
    {
     "data": {
      "application/javascript": [
       "\n",
       "        if (window._pyforest_update_imports_cell) { window._pyforest_update_imports_cell('import numpy as np'); }\n",
       "    "
      ],
      "text/plain": [
       "<IPython.core.display.Javascript object>"
      ]
     },
     "metadata": {},
     "output_type": "display_data"
    },
    {
     "data": {
      "application/javascript": [
       "\n",
       "        if (window._pyforest_update_imports_cell) { window._pyforest_update_imports_cell('import numpy as np'); }\n",
       "    "
      ],
      "text/plain": [
       "<IPython.core.display.Javascript object>"
      ]
     },
     "metadata": {},
     "output_type": "display_data"
    },
    {
     "data": {
      "application/javascript": [
       "\n",
       "        if (window._pyforest_update_imports_cell) { window._pyforest_update_imports_cell('import numpy as np'); }\n",
       "    "
      ],
      "text/plain": [
       "<IPython.core.display.Javascript object>"
      ]
     },
     "metadata": {},
     "output_type": "display_data"
    },
    {
     "data": {
      "application/javascript": [
       "\n",
       "        if (window._pyforest_update_imports_cell) { window._pyforest_update_imports_cell('import numpy as np'); }\n",
       "    "
      ],
      "text/plain": [
       "<IPython.core.display.Javascript object>"
      ]
     },
     "metadata": {},
     "output_type": "display_data"
    },
    {
     "data": {
      "application/javascript": [
       "\n",
       "        if (window._pyforest_update_imports_cell) { window._pyforest_update_imports_cell('import numpy as np'); }\n",
       "    "
      ],
      "text/plain": [
       "<IPython.core.display.Javascript object>"
      ]
     },
     "metadata": {},
     "output_type": "display_data"
    },
    {
     "data": {
      "application/javascript": [
       "\n",
       "        if (window._pyforest_update_imports_cell) { window._pyforest_update_imports_cell('import numpy as np'); }\n",
       "    "
      ],
      "text/plain": [
       "<IPython.core.display.Javascript object>"
      ]
     },
     "metadata": {},
     "output_type": "display_data"
    },
    {
     "data": {
      "application/javascript": [
       "\n",
       "        if (window._pyforest_update_imports_cell) { window._pyforest_update_imports_cell('import numpy as np'); }\n",
       "    "
      ],
      "text/plain": [
       "<IPython.core.display.Javascript object>"
      ]
     },
     "metadata": {},
     "output_type": "display_data"
    },
    {
     "data": {
      "application/javascript": [
       "\n",
       "        if (window._pyforest_update_imports_cell) { window._pyforest_update_imports_cell('import numpy as np'); }\n",
       "    "
      ],
      "text/plain": [
       "<IPython.core.display.Javascript object>"
      ]
     },
     "metadata": {},
     "output_type": "display_data"
    },
    {
     "data": {
      "application/javascript": [
       "\n",
       "        if (window._pyforest_update_imports_cell) { window._pyforest_update_imports_cell('import numpy as np'); }\n",
       "    "
      ],
      "text/plain": [
       "<IPython.core.display.Javascript object>"
      ]
     },
     "metadata": {},
     "output_type": "display_data"
    },
    {
     "data": {
      "application/javascript": [
       "\n",
       "        if (window._pyforest_update_imports_cell) { window._pyforest_update_imports_cell('import numpy as np'); }\n",
       "    "
      ],
      "text/plain": [
       "<IPython.core.display.Javascript object>"
      ]
     },
     "metadata": {},
     "output_type": "display_data"
    },
    {
     "data": {
      "application/javascript": [
       "\n",
       "        if (window._pyforest_update_imports_cell) { window._pyforest_update_imports_cell('import numpy as np'); }\n",
       "    "
      ],
      "text/plain": [
       "<IPython.core.display.Javascript object>"
      ]
     },
     "metadata": {},
     "output_type": "display_data"
    },
    {
     "data": {
      "application/javascript": [
       "\n",
       "        if (window._pyforest_update_imports_cell) { window._pyforest_update_imports_cell('import numpy as np'); }\n",
       "    "
      ],
      "text/plain": [
       "<IPython.core.display.Javascript object>"
      ]
     },
     "metadata": {},
     "output_type": "display_data"
    },
    {
     "data": {
      "application/javascript": [
       "\n",
       "        if (window._pyforest_update_imports_cell) { window._pyforest_update_imports_cell('import numpy as np'); }\n",
       "    "
      ],
      "text/plain": [
       "<IPython.core.display.Javascript object>"
      ]
     },
     "metadata": {},
     "output_type": "display_data"
    },
    {
     "data": {
      "application/javascript": [
       "\n",
       "        if (window._pyforest_update_imports_cell) { window._pyforest_update_imports_cell('import numpy as np'); }\n",
       "    "
      ],
      "text/plain": [
       "<IPython.core.display.Javascript object>"
      ]
     },
     "metadata": {},
     "output_type": "display_data"
    },
    {
     "data": {
      "application/javascript": [
       "\n",
       "        if (window._pyforest_update_imports_cell) { window._pyforest_update_imports_cell('import numpy as np'); }\n",
       "    "
      ],
      "text/plain": [
       "<IPython.core.display.Javascript object>"
      ]
     },
     "metadata": {},
     "output_type": "display_data"
    },
    {
     "data": {
      "application/javascript": [
       "\n",
       "        if (window._pyforest_update_imports_cell) { window._pyforest_update_imports_cell('import numpy as np'); }\n",
       "    "
      ],
      "text/plain": [
       "<IPython.core.display.Javascript object>"
      ]
     },
     "metadata": {},
     "output_type": "display_data"
    },
    {
     "data": {
      "application/javascript": [
       "\n",
       "        if (window._pyforest_update_imports_cell) { window._pyforest_update_imports_cell('import numpy as np'); }\n",
       "    "
      ],
      "text/plain": [
       "<IPython.core.display.Javascript object>"
      ]
     },
     "metadata": {},
     "output_type": "display_data"
    },
    {
     "data": {
      "application/javascript": [
       "\n",
       "        if (window._pyforest_update_imports_cell) { window._pyforest_update_imports_cell('import numpy as np'); }\n",
       "    "
      ],
      "text/plain": [
       "<IPython.core.display.Javascript object>"
      ]
     },
     "metadata": {},
     "output_type": "display_data"
    },
    {
     "data": {
      "application/javascript": [
       "\n",
       "        if (window._pyforest_update_imports_cell) { window._pyforest_update_imports_cell('import numpy as np'); }\n",
       "    "
      ],
      "text/plain": [
       "<IPython.core.display.Javascript object>"
      ]
     },
     "metadata": {},
     "output_type": "display_data"
    },
    {
     "data": {
      "application/javascript": [
       "\n",
       "        if (window._pyforest_update_imports_cell) { window._pyforest_update_imports_cell('import numpy as np'); }\n",
       "    "
      ],
      "text/plain": [
       "<IPython.core.display.Javascript object>"
      ]
     },
     "metadata": {},
     "output_type": "display_data"
    },
    {
     "data": {
      "application/javascript": [
       "\n",
       "        if (window._pyforest_update_imports_cell) { window._pyforest_update_imports_cell('import numpy as np'); }\n",
       "    "
      ],
      "text/plain": [
       "<IPython.core.display.Javascript object>"
      ]
     },
     "metadata": {},
     "output_type": "display_data"
    },
    {
     "data": {
      "application/javascript": [
       "\n",
       "        if (window._pyforest_update_imports_cell) { window._pyforest_update_imports_cell('import numpy as np'); }\n",
       "    "
      ],
      "text/plain": [
       "<IPython.core.display.Javascript object>"
      ]
     },
     "metadata": {},
     "output_type": "display_data"
    },
    {
     "data": {
      "application/javascript": [
       "\n",
       "        if (window._pyforest_update_imports_cell) { window._pyforest_update_imports_cell('import numpy as np'); }\n",
       "    "
      ],
      "text/plain": [
       "<IPython.core.display.Javascript object>"
      ]
     },
     "metadata": {},
     "output_type": "display_data"
    },
    {
     "data": {
      "application/javascript": [
       "\n",
       "        if (window._pyforest_update_imports_cell) { window._pyforest_update_imports_cell('import numpy as np'); }\n",
       "    "
      ],
      "text/plain": [
       "<IPython.core.display.Javascript object>"
      ]
     },
     "metadata": {},
     "output_type": "display_data"
    },
    {
     "data": {
      "application/javascript": [
       "\n",
       "        if (window._pyforest_update_imports_cell) { window._pyforest_update_imports_cell('import numpy as np'); }\n",
       "    "
      ],
      "text/plain": [
       "<IPython.core.display.Javascript object>"
      ]
     },
     "metadata": {},
     "output_type": "display_data"
    },
    {
     "data": {
      "application/javascript": [
       "\n",
       "        if (window._pyforest_update_imports_cell) { window._pyforest_update_imports_cell('import numpy as np'); }\n",
       "    "
      ],
      "text/plain": [
       "<IPython.core.display.Javascript object>"
      ]
     },
     "metadata": {},
     "output_type": "display_data"
    },
    {
     "data": {
      "application/javascript": [
       "\n",
       "        if (window._pyforest_update_imports_cell) { window._pyforest_update_imports_cell('import numpy as np'); }\n",
       "    "
      ],
      "text/plain": [
       "<IPython.core.display.Javascript object>"
      ]
     },
     "metadata": {},
     "output_type": "display_data"
    },
    {
     "data": {
      "application/javascript": [
       "\n",
       "        if (window._pyforest_update_imports_cell) { window._pyforest_update_imports_cell('import numpy as np'); }\n",
       "    "
      ],
      "text/plain": [
       "<IPython.core.display.Javascript object>"
      ]
     },
     "metadata": {},
     "output_type": "display_data"
    },
    {
     "data": {
      "application/javascript": [
       "\n",
       "        if (window._pyforest_update_imports_cell) { window._pyforest_update_imports_cell('import numpy as np'); }\n",
       "    "
      ],
      "text/plain": [
       "<IPython.core.display.Javascript object>"
      ]
     },
     "metadata": {},
     "output_type": "display_data"
    },
    {
     "data": {
      "application/javascript": [
       "\n",
       "        if (window._pyforest_update_imports_cell) { window._pyforest_update_imports_cell('import numpy as np'); }\n",
       "    "
      ],
      "text/plain": [
       "<IPython.core.display.Javascript object>"
      ]
     },
     "metadata": {},
     "output_type": "display_data"
    },
    {
     "data": {
      "application/javascript": [
       "\n",
       "        if (window._pyforest_update_imports_cell) { window._pyforest_update_imports_cell('import numpy as np'); }\n",
       "    "
      ],
      "text/plain": [
       "<IPython.core.display.Javascript object>"
      ]
     },
     "metadata": {},
     "output_type": "display_data"
    },
    {
     "data": {
      "application/javascript": [
       "\n",
       "        if (window._pyforest_update_imports_cell) { window._pyforest_update_imports_cell('import numpy as np'); }\n",
       "    "
      ],
      "text/plain": [
       "<IPython.core.display.Javascript object>"
      ]
     },
     "metadata": {},
     "output_type": "display_data"
    },
    {
     "data": {
      "application/javascript": [
       "\n",
       "        if (window._pyforest_update_imports_cell) { window._pyforest_update_imports_cell('import numpy as np'); }\n",
       "    "
      ],
      "text/plain": [
       "<IPython.core.display.Javascript object>"
      ]
     },
     "metadata": {},
     "output_type": "display_data"
    },
    {
     "data": {
      "application/javascript": [
       "\n",
       "        if (window._pyforest_update_imports_cell) { window._pyforest_update_imports_cell('import numpy as np'); }\n",
       "    "
      ],
      "text/plain": [
       "<IPython.core.display.Javascript object>"
      ]
     },
     "metadata": {},
     "output_type": "display_data"
    },
    {
     "data": {
      "application/javascript": [
       "\n",
       "        if (window._pyforest_update_imports_cell) { window._pyforest_update_imports_cell('import numpy as np'); }\n",
       "    "
      ],
      "text/plain": [
       "<IPython.core.display.Javascript object>"
      ]
     },
     "metadata": {},
     "output_type": "display_data"
    },
    {
     "data": {
      "application/javascript": [
       "\n",
       "        if (window._pyforest_update_imports_cell) { window._pyforest_update_imports_cell('import numpy as np'); }\n",
       "    "
      ],
      "text/plain": [
       "<IPython.core.display.Javascript object>"
      ]
     },
     "metadata": {},
     "output_type": "display_data"
    },
    {
     "data": {
      "application/javascript": [
       "\n",
       "        if (window._pyforest_update_imports_cell) { window._pyforest_update_imports_cell('import numpy as np'); }\n",
       "    "
      ],
      "text/plain": [
       "<IPython.core.display.Javascript object>"
      ]
     },
     "metadata": {},
     "output_type": "display_data"
    },
    {
     "data": {
      "application/javascript": [
       "\n",
       "        if (window._pyforest_update_imports_cell) { window._pyforest_update_imports_cell('import numpy as np'); }\n",
       "    "
      ],
      "text/plain": [
       "<IPython.core.display.Javascript object>"
      ]
     },
     "metadata": {},
     "output_type": "display_data"
    },
    {
     "data": {
      "application/javascript": [
       "\n",
       "        if (window._pyforest_update_imports_cell) { window._pyforest_update_imports_cell('import numpy as np'); }\n",
       "    "
      ],
      "text/plain": [
       "<IPython.core.display.Javascript object>"
      ]
     },
     "metadata": {},
     "output_type": "display_data"
    },
    {
     "data": {
      "application/javascript": [
       "\n",
       "        if (window._pyforest_update_imports_cell) { window._pyforest_update_imports_cell('import numpy as np'); }\n",
       "    "
      ],
      "text/plain": [
       "<IPython.core.display.Javascript object>"
      ]
     },
     "metadata": {},
     "output_type": "display_data"
    },
    {
     "data": {
      "application/javascript": [
       "\n",
       "        if (window._pyforest_update_imports_cell) { window._pyforest_update_imports_cell('import numpy as np'); }\n",
       "    "
      ],
      "text/plain": [
       "<IPython.core.display.Javascript object>"
      ]
     },
     "metadata": {},
     "output_type": "display_data"
    },
    {
     "data": {
      "application/javascript": [
       "\n",
       "        if (window._pyforest_update_imports_cell) { window._pyforest_update_imports_cell('import numpy as np'); }\n",
       "    "
      ],
      "text/plain": [
       "<IPython.core.display.Javascript object>"
      ]
     },
     "metadata": {},
     "output_type": "display_data"
    },
    {
     "data": {
      "application/javascript": [
       "\n",
       "        if (window._pyforest_update_imports_cell) { window._pyforest_update_imports_cell('import numpy as np'); }\n",
       "    "
      ],
      "text/plain": [
       "<IPython.core.display.Javascript object>"
      ]
     },
     "metadata": {},
     "output_type": "display_data"
    },
    {
     "data": {
      "application/javascript": [
       "\n",
       "        if (window._pyforest_update_imports_cell) { window._pyforest_update_imports_cell('import numpy as np'); }\n",
       "    "
      ],
      "text/plain": [
       "<IPython.core.display.Javascript object>"
      ]
     },
     "metadata": {},
     "output_type": "display_data"
    },
    {
     "data": {
      "application/javascript": [
       "\n",
       "        if (window._pyforest_update_imports_cell) { window._pyforest_update_imports_cell('import numpy as np'); }\n",
       "    "
      ],
      "text/plain": [
       "<IPython.core.display.Javascript object>"
      ]
     },
     "metadata": {},
     "output_type": "display_data"
    },
    {
     "data": {
      "application/javascript": [
       "\n",
       "        if (window._pyforest_update_imports_cell) { window._pyforest_update_imports_cell('import numpy as np'); }\n",
       "    "
      ],
      "text/plain": [
       "<IPython.core.display.Javascript object>"
      ]
     },
     "metadata": {},
     "output_type": "display_data"
    },
    {
     "data": {
      "application/javascript": [
       "\n",
       "        if (window._pyforest_update_imports_cell) { window._pyforest_update_imports_cell('import numpy as np'); }\n",
       "    "
      ],
      "text/plain": [
       "<IPython.core.display.Javascript object>"
      ]
     },
     "metadata": {},
     "output_type": "display_data"
    },
    {
     "data": {
      "application/javascript": [
       "\n",
       "        if (window._pyforest_update_imports_cell) { window._pyforest_update_imports_cell('import numpy as np'); }\n",
       "    "
      ],
      "text/plain": [
       "<IPython.core.display.Javascript object>"
      ]
     },
     "metadata": {},
     "output_type": "display_data"
    },
    {
     "data": {
      "application/javascript": [
       "\n",
       "        if (window._pyforest_update_imports_cell) { window._pyforest_update_imports_cell('import numpy as np'); }\n",
       "    "
      ],
      "text/plain": [
       "<IPython.core.display.Javascript object>"
      ]
     },
     "metadata": {},
     "output_type": "display_data"
    },
    {
     "data": {
      "application/javascript": [
       "\n",
       "        if (window._pyforest_update_imports_cell) { window._pyforest_update_imports_cell('import numpy as np'); }\n",
       "    "
      ],
      "text/plain": [
       "<IPython.core.display.Javascript object>"
      ]
     },
     "metadata": {},
     "output_type": "display_data"
    },
    {
     "data": {
      "application/javascript": [
       "\n",
       "        if (window._pyforest_update_imports_cell) { window._pyforest_update_imports_cell('import numpy as np'); }\n",
       "    "
      ],
      "text/plain": [
       "<IPython.core.display.Javascript object>"
      ]
     },
     "metadata": {},
     "output_type": "display_data"
    },
    {
     "data": {
      "application/javascript": [
       "\n",
       "        if (window._pyforest_update_imports_cell) { window._pyforest_update_imports_cell('import numpy as np'); }\n",
       "    "
      ],
      "text/plain": [
       "<IPython.core.display.Javascript object>"
      ]
     },
     "metadata": {},
     "output_type": "display_data"
    },
    {
     "data": {
      "application/javascript": [
       "\n",
       "        if (window._pyforest_update_imports_cell) { window._pyforest_update_imports_cell('import numpy as np'); }\n",
       "    "
      ],
      "text/plain": [
       "<IPython.core.display.Javascript object>"
      ]
     },
     "metadata": {},
     "output_type": "display_data"
    },
    {
     "data": {
      "application/javascript": [
       "\n",
       "        if (window._pyforest_update_imports_cell) { window._pyforest_update_imports_cell('import numpy as np'); }\n",
       "    "
      ],
      "text/plain": [
       "<IPython.core.display.Javascript object>"
      ]
     },
     "metadata": {},
     "output_type": "display_data"
    },
    {
     "data": {
      "application/javascript": [
       "\n",
       "        if (window._pyforest_update_imports_cell) { window._pyforest_update_imports_cell('import numpy as np'); }\n",
       "    "
      ],
      "text/plain": [
       "<IPython.core.display.Javascript object>"
      ]
     },
     "metadata": {},
     "output_type": "display_data"
    },
    {
     "data": {
      "application/javascript": [
       "\n",
       "        if (window._pyforest_update_imports_cell) { window._pyforest_update_imports_cell('import numpy as np'); }\n",
       "    "
      ],
      "text/plain": [
       "<IPython.core.display.Javascript object>"
      ]
     },
     "metadata": {},
     "output_type": "display_data"
    },
    {
     "data": {
      "application/javascript": [
       "\n",
       "        if (window._pyforest_update_imports_cell) { window._pyforest_update_imports_cell('import numpy as np'); }\n",
       "    "
      ],
      "text/plain": [
       "<IPython.core.display.Javascript object>"
      ]
     },
     "metadata": {},
     "output_type": "display_data"
    },
    {
     "data": {
      "application/javascript": [
       "\n",
       "        if (window._pyforest_update_imports_cell) { window._pyforest_update_imports_cell('import numpy as np'); }\n",
       "    "
      ],
      "text/plain": [
       "<IPython.core.display.Javascript object>"
      ]
     },
     "metadata": {},
     "output_type": "display_data"
    },
    {
     "data": {
      "application/javascript": [
       "\n",
       "        if (window._pyforest_update_imports_cell) { window._pyforest_update_imports_cell('import numpy as np'); }\n",
       "    "
      ],
      "text/plain": [
       "<IPython.core.display.Javascript object>"
      ]
     },
     "metadata": {},
     "output_type": "display_data"
    },
    {
     "data": {
      "application/javascript": [
       "\n",
       "        if (window._pyforest_update_imports_cell) { window._pyforest_update_imports_cell('import numpy as np'); }\n",
       "    "
      ],
      "text/plain": [
       "<IPython.core.display.Javascript object>"
      ]
     },
     "metadata": {},
     "output_type": "display_data"
    },
    {
     "data": {
      "application/javascript": [
       "\n",
       "        if (window._pyforest_update_imports_cell) { window._pyforest_update_imports_cell('import numpy as np'); }\n",
       "    "
      ],
      "text/plain": [
       "<IPython.core.display.Javascript object>"
      ]
     },
     "metadata": {},
     "output_type": "display_data"
    },
    {
     "data": {
      "application/javascript": [
       "\n",
       "        if (window._pyforest_update_imports_cell) { window._pyforest_update_imports_cell('import numpy as np'); }\n",
       "    "
      ],
      "text/plain": [
       "<IPython.core.display.Javascript object>"
      ]
     },
     "metadata": {},
     "output_type": "display_data"
    },
    {
     "data": {
      "application/javascript": [
       "\n",
       "        if (window._pyforest_update_imports_cell) { window._pyforest_update_imports_cell('import numpy as np'); }\n",
       "    "
      ],
      "text/plain": [
       "<IPython.core.display.Javascript object>"
      ]
     },
     "metadata": {},
     "output_type": "display_data"
    },
    {
     "data": {
      "application/javascript": [
       "\n",
       "        if (window._pyforest_update_imports_cell) { window._pyforest_update_imports_cell('import numpy as np'); }\n",
       "    "
      ],
      "text/plain": [
       "<IPython.core.display.Javascript object>"
      ]
     },
     "metadata": {},
     "output_type": "display_data"
    },
    {
     "data": {
      "application/javascript": [
       "\n",
       "        if (window._pyforest_update_imports_cell) { window._pyforest_update_imports_cell('import numpy as np'); }\n",
       "    "
      ],
      "text/plain": [
       "<IPython.core.display.Javascript object>"
      ]
     },
     "metadata": {},
     "output_type": "display_data"
    },
    {
     "data": {
      "application/javascript": [
       "\n",
       "        if (window._pyforest_update_imports_cell) { window._pyforest_update_imports_cell('import numpy as np'); }\n",
       "    "
      ],
      "text/plain": [
       "<IPython.core.display.Javascript object>"
      ]
     },
     "metadata": {},
     "output_type": "display_data"
    },
    {
     "data": {
      "application/javascript": [
       "\n",
       "        if (window._pyforest_update_imports_cell) { window._pyforest_update_imports_cell('import numpy as np'); }\n",
       "    "
      ],
      "text/plain": [
       "<IPython.core.display.Javascript object>"
      ]
     },
     "metadata": {},
     "output_type": "display_data"
    },
    {
     "data": {
      "application/javascript": [
       "\n",
       "        if (window._pyforest_update_imports_cell) { window._pyforest_update_imports_cell('import numpy as np'); }\n",
       "    "
      ],
      "text/plain": [
       "<IPython.core.display.Javascript object>"
      ]
     },
     "metadata": {},
     "output_type": "display_data"
    },
    {
     "data": {
      "application/javascript": [
       "\n",
       "        if (window._pyforest_update_imports_cell) { window._pyforest_update_imports_cell('import numpy as np'); }\n",
       "    "
      ],
      "text/plain": [
       "<IPython.core.display.Javascript object>"
      ]
     },
     "metadata": {},
     "output_type": "display_data"
    },
    {
     "data": {
      "application/javascript": [
       "\n",
       "        if (window._pyforest_update_imports_cell) { window._pyforest_update_imports_cell('import numpy as np'); }\n",
       "    "
      ],
      "text/plain": [
       "<IPython.core.display.Javascript object>"
      ]
     },
     "metadata": {},
     "output_type": "display_data"
    },
    {
     "data": {
      "application/javascript": [
       "\n",
       "        if (window._pyforest_update_imports_cell) { window._pyforest_update_imports_cell('import numpy as np'); }\n",
       "    "
      ],
      "text/plain": [
       "<IPython.core.display.Javascript object>"
      ]
     },
     "metadata": {},
     "output_type": "display_data"
    },
    {
     "data": {
      "application/javascript": [
       "\n",
       "        if (window._pyforest_update_imports_cell) { window._pyforest_update_imports_cell('import numpy as np'); }\n",
       "    "
      ],
      "text/plain": [
       "<IPython.core.display.Javascript object>"
      ]
     },
     "metadata": {},
     "output_type": "display_data"
    },
    {
     "data": {
      "application/javascript": [
       "\n",
       "        if (window._pyforest_update_imports_cell) { window._pyforest_update_imports_cell('import numpy as np'); }\n",
       "    "
      ],
      "text/plain": [
       "<IPython.core.display.Javascript object>"
      ]
     },
     "metadata": {},
     "output_type": "display_data"
    },
    {
     "data": {
      "application/javascript": [
       "\n",
       "        if (window._pyforest_update_imports_cell) { window._pyforest_update_imports_cell('import numpy as np'); }\n",
       "    "
      ],
      "text/plain": [
       "<IPython.core.display.Javascript object>"
      ]
     },
     "metadata": {},
     "output_type": "display_data"
    },
    {
     "data": {
      "application/javascript": [
       "\n",
       "        if (window._pyforest_update_imports_cell) { window._pyforest_update_imports_cell('import numpy as np'); }\n",
       "    "
      ],
      "text/plain": [
       "<IPython.core.display.Javascript object>"
      ]
     },
     "metadata": {},
     "output_type": "display_data"
    },
    {
     "data": {
      "application/javascript": [
       "\n",
       "        if (window._pyforest_update_imports_cell) { window._pyforest_update_imports_cell('import numpy as np'); }\n",
       "    "
      ],
      "text/plain": [
       "<IPython.core.display.Javascript object>"
      ]
     },
     "metadata": {},
     "output_type": "display_data"
    },
    {
     "data": {
      "application/javascript": [
       "\n",
       "        if (window._pyforest_update_imports_cell) { window._pyforest_update_imports_cell('import numpy as np'); }\n",
       "    "
      ],
      "text/plain": [
       "<IPython.core.display.Javascript object>"
      ]
     },
     "metadata": {},
     "output_type": "display_data"
    },
    {
     "data": {
      "application/javascript": [
       "\n",
       "        if (window._pyforest_update_imports_cell) { window._pyforest_update_imports_cell('import numpy as np'); }\n",
       "    "
      ],
      "text/plain": [
       "<IPython.core.display.Javascript object>"
      ]
     },
     "metadata": {},
     "output_type": "display_data"
    },
    {
     "data": {
      "application/javascript": [
       "\n",
       "        if (window._pyforest_update_imports_cell) { window._pyforest_update_imports_cell('import numpy as np'); }\n",
       "    "
      ],
      "text/plain": [
       "<IPython.core.display.Javascript object>"
      ]
     },
     "metadata": {},
     "output_type": "display_data"
    },
    {
     "data": {
      "application/javascript": [
       "\n",
       "        if (window._pyforest_update_imports_cell) { window._pyforest_update_imports_cell('import numpy as np'); }\n",
       "    "
      ],
      "text/plain": [
       "<IPython.core.display.Javascript object>"
      ]
     },
     "metadata": {},
     "output_type": "display_data"
    },
    {
     "data": {
      "application/javascript": [
       "\n",
       "        if (window._pyforest_update_imports_cell) { window._pyforest_update_imports_cell('import numpy as np'); }\n",
       "    "
      ],
      "text/plain": [
       "<IPython.core.display.Javascript object>"
      ]
     },
     "metadata": {},
     "output_type": "display_data"
    },
    {
     "data": {
      "application/javascript": [
       "\n",
       "        if (window._pyforest_update_imports_cell) { window._pyforest_update_imports_cell('import numpy as np'); }\n",
       "    "
      ],
      "text/plain": [
       "<IPython.core.display.Javascript object>"
      ]
     },
     "metadata": {},
     "output_type": "display_data"
    },
    {
     "data": {
      "application/javascript": [
       "\n",
       "        if (window._pyforest_update_imports_cell) { window._pyforest_update_imports_cell('import numpy as np'); }\n",
       "    "
      ],
      "text/plain": [
       "<IPython.core.display.Javascript object>"
      ]
     },
     "metadata": {},
     "output_type": "display_data"
    },
    {
     "data": {
      "application/javascript": [
       "\n",
       "        if (window._pyforest_update_imports_cell) { window._pyforest_update_imports_cell('import numpy as np'); }\n",
       "    "
      ],
      "text/plain": [
       "<IPython.core.display.Javascript object>"
      ]
     },
     "metadata": {},
     "output_type": "display_data"
    },
    {
     "data": {
      "application/javascript": [
       "\n",
       "        if (window._pyforest_update_imports_cell) { window._pyforest_update_imports_cell('import numpy as np'); }\n",
       "    "
      ],
      "text/plain": [
       "<IPython.core.display.Javascript object>"
      ]
     },
     "metadata": {},
     "output_type": "display_data"
    },
    {
     "data": {
      "application/javascript": [
       "\n",
       "        if (window._pyforest_update_imports_cell) { window._pyforest_update_imports_cell('import numpy as np'); }\n",
       "    "
      ],
      "text/plain": [
       "<IPython.core.display.Javascript object>"
      ]
     },
     "metadata": {},
     "output_type": "display_data"
    },
    {
     "data": {
      "application/javascript": [
       "\n",
       "        if (window._pyforest_update_imports_cell) { window._pyforest_update_imports_cell('import numpy as np'); }\n",
       "    "
      ],
      "text/plain": [
       "<IPython.core.display.Javascript object>"
      ]
     },
     "metadata": {},
     "output_type": "display_data"
    },
    {
     "data": {
      "application/javascript": [
       "\n",
       "        if (window._pyforest_update_imports_cell) { window._pyforest_update_imports_cell('import numpy as np'); }\n",
       "    "
      ],
      "text/plain": [
       "<IPython.core.display.Javascript object>"
      ]
     },
     "metadata": {},
     "output_type": "display_data"
    },
    {
     "data": {
      "application/javascript": [
       "\n",
       "        if (window._pyforest_update_imports_cell) { window._pyforest_update_imports_cell('import numpy as np'); }\n",
       "    "
      ],
      "text/plain": [
       "<IPython.core.display.Javascript object>"
      ]
     },
     "metadata": {},
     "output_type": "display_data"
    },
    {
     "data": {
      "application/javascript": [
       "\n",
       "        if (window._pyforest_update_imports_cell) { window._pyforest_update_imports_cell('import numpy as np'); }\n",
       "    "
      ],
      "text/plain": [
       "<IPython.core.display.Javascript object>"
      ]
     },
     "metadata": {},
     "output_type": "display_data"
    },
    {
     "data": {
      "application/javascript": [
       "\n",
       "        if (window._pyforest_update_imports_cell) { window._pyforest_update_imports_cell('import numpy as np'); }\n",
       "    "
      ],
      "text/plain": [
       "<IPython.core.display.Javascript object>"
      ]
     },
     "metadata": {},
     "output_type": "display_data"
    },
    {
     "data": {
      "application/javascript": [
       "\n",
       "        if (window._pyforest_update_imports_cell) { window._pyforest_update_imports_cell('import numpy as np'); }\n",
       "    "
      ],
      "text/plain": [
       "<IPython.core.display.Javascript object>"
      ]
     },
     "metadata": {},
     "output_type": "display_data"
    },
    {
     "data": {
      "application/javascript": [
       "\n",
       "        if (window._pyforest_update_imports_cell) { window._pyforest_update_imports_cell('import numpy as np'); }\n",
       "    "
      ],
      "text/plain": [
       "<IPython.core.display.Javascript object>"
      ]
     },
     "metadata": {},
     "output_type": "display_data"
    },
    {
     "data": {
      "application/javascript": [
       "\n",
       "        if (window._pyforest_update_imports_cell) { window._pyforest_update_imports_cell('import numpy as np'); }\n",
       "    "
      ],
      "text/plain": [
       "<IPython.core.display.Javascript object>"
      ]
     },
     "metadata": {},
     "output_type": "display_data"
    },
    {
     "data": {
      "application/javascript": [
       "\n",
       "        if (window._pyforest_update_imports_cell) { window._pyforest_update_imports_cell('import numpy as np'); }\n",
       "    "
      ],
      "text/plain": [
       "<IPython.core.display.Javascript object>"
      ]
     },
     "metadata": {},
     "output_type": "display_data"
    },
    {
     "data": {
      "application/javascript": [
       "\n",
       "        if (window._pyforest_update_imports_cell) { window._pyforest_update_imports_cell('import numpy as np'); }\n",
       "    "
      ],
      "text/plain": [
       "<IPython.core.display.Javascript object>"
      ]
     },
     "metadata": {},
     "output_type": "display_data"
    },
    {
     "data": {
      "application/javascript": [
       "\n",
       "        if (window._pyforest_update_imports_cell) { window._pyforest_update_imports_cell('import numpy as np'); }\n",
       "    "
      ],
      "text/plain": [
       "<IPython.core.display.Javascript object>"
      ]
     },
     "metadata": {},
     "output_type": "display_data"
    },
    {
     "data": {
      "application/javascript": [
       "\n",
       "        if (window._pyforest_update_imports_cell) { window._pyforest_update_imports_cell('import numpy as np'); }\n",
       "    "
      ],
      "text/plain": [
       "<IPython.core.display.Javascript object>"
      ]
     },
     "metadata": {},
     "output_type": "display_data"
    },
    {
     "data": {
      "application/javascript": [
       "\n",
       "        if (window._pyforest_update_imports_cell) { window._pyforest_update_imports_cell('import numpy as np'); }\n",
       "    "
      ],
      "text/plain": [
       "<IPython.core.display.Javascript object>"
      ]
     },
     "metadata": {},
     "output_type": "display_data"
    },
    {
     "data": {
      "application/javascript": [
       "\n",
       "        if (window._pyforest_update_imports_cell) { window._pyforest_update_imports_cell('import numpy as np'); }\n",
       "    "
      ],
      "text/plain": [
       "<IPython.core.display.Javascript object>"
      ]
     },
     "metadata": {},
     "output_type": "display_data"
    },
    {
     "data": {
      "application/javascript": [
       "\n",
       "        if (window._pyforest_update_imports_cell) { window._pyforest_update_imports_cell('import numpy as np'); }\n",
       "    "
      ],
      "text/plain": [
       "<IPython.core.display.Javascript object>"
      ]
     },
     "metadata": {},
     "output_type": "display_data"
    },
    {
     "data": {
      "application/javascript": [
       "\n",
       "        if (window._pyforest_update_imports_cell) { window._pyforest_update_imports_cell('import numpy as np'); }\n",
       "    "
      ],
      "text/plain": [
       "<IPython.core.display.Javascript object>"
      ]
     },
     "metadata": {},
     "output_type": "display_data"
    },
    {
     "data": {
      "application/javascript": [
       "\n",
       "        if (window._pyforest_update_imports_cell) { window._pyforest_update_imports_cell('import numpy as np'); }\n",
       "    "
      ],
      "text/plain": [
       "<IPython.core.display.Javascript object>"
      ]
     },
     "metadata": {},
     "output_type": "display_data"
    },
    {
     "data": {
      "application/javascript": [
       "\n",
       "        if (window._pyforest_update_imports_cell) { window._pyforest_update_imports_cell('import numpy as np'); }\n",
       "    "
      ],
      "text/plain": [
       "<IPython.core.display.Javascript object>"
      ]
     },
     "metadata": {},
     "output_type": "display_data"
    },
    {
     "data": {
      "application/javascript": [
       "\n",
       "        if (window._pyforest_update_imports_cell) { window._pyforest_update_imports_cell('import numpy as np'); }\n",
       "    "
      ],
      "text/plain": [
       "<IPython.core.display.Javascript object>"
      ]
     },
     "metadata": {},
     "output_type": "display_data"
    },
    {
     "data": {
      "application/javascript": [
       "\n",
       "        if (window._pyforest_update_imports_cell) { window._pyforest_update_imports_cell('import numpy as np'); }\n",
       "    "
      ],
      "text/plain": [
       "<IPython.core.display.Javascript object>"
      ]
     },
     "metadata": {},
     "output_type": "display_data"
    },
    {
     "data": {
      "application/javascript": [
       "\n",
       "        if (window._pyforest_update_imports_cell) { window._pyforest_update_imports_cell('import numpy as np'); }\n",
       "    "
      ],
      "text/plain": [
       "<IPython.core.display.Javascript object>"
      ]
     },
     "metadata": {},
     "output_type": "display_data"
    },
    {
     "data": {
      "application/javascript": [
       "\n",
       "        if (window._pyforest_update_imports_cell) { window._pyforest_update_imports_cell('import numpy as np'); }\n",
       "    "
      ],
      "text/plain": [
       "<IPython.core.display.Javascript object>"
      ]
     },
     "metadata": {},
     "output_type": "display_data"
    },
    {
     "data": {
      "application/javascript": [
       "\n",
       "        if (window._pyforest_update_imports_cell) { window._pyforest_update_imports_cell('import numpy as np'); }\n",
       "    "
      ],
      "text/plain": [
       "<IPython.core.display.Javascript object>"
      ]
     },
     "metadata": {},
     "output_type": "display_data"
    },
    {
     "data": {
      "application/javascript": [
       "\n",
       "        if (window._pyforest_update_imports_cell) { window._pyforest_update_imports_cell('import numpy as np'); }\n",
       "    "
      ],
      "text/plain": [
       "<IPython.core.display.Javascript object>"
      ]
     },
     "metadata": {},
     "output_type": "display_data"
    },
    {
     "data": {
      "application/javascript": [
       "\n",
       "        if (window._pyforest_update_imports_cell) { window._pyforest_update_imports_cell('import numpy as np'); }\n",
       "    "
      ],
      "text/plain": [
       "<IPython.core.display.Javascript object>"
      ]
     },
     "metadata": {},
     "output_type": "display_data"
    },
    {
     "data": {
      "application/javascript": [
       "\n",
       "        if (window._pyforest_update_imports_cell) { window._pyforest_update_imports_cell('import numpy as np'); }\n",
       "    "
      ],
      "text/plain": [
       "<IPython.core.display.Javascript object>"
      ]
     },
     "metadata": {},
     "output_type": "display_data"
    },
    {
     "data": {
      "application/javascript": [
       "\n",
       "        if (window._pyforest_update_imports_cell) { window._pyforest_update_imports_cell('import numpy as np'); }\n",
       "    "
      ],
      "text/plain": [
       "<IPython.core.display.Javascript object>"
      ]
     },
     "metadata": {},
     "output_type": "display_data"
    },
    {
     "data": {
      "application/javascript": [
       "\n",
       "        if (window._pyforest_update_imports_cell) { window._pyforest_update_imports_cell('import numpy as np'); }\n",
       "    "
      ],
      "text/plain": [
       "<IPython.core.display.Javascript object>"
      ]
     },
     "metadata": {},
     "output_type": "display_data"
    },
    {
     "data": {
      "application/javascript": [
       "\n",
       "        if (window._pyforest_update_imports_cell) { window._pyforest_update_imports_cell('import numpy as np'); }\n",
       "    "
      ],
      "text/plain": [
       "<IPython.core.display.Javascript object>"
      ]
     },
     "metadata": {},
     "output_type": "display_data"
    },
    {
     "data": {
      "application/javascript": [
       "\n",
       "        if (window._pyforest_update_imports_cell) { window._pyforest_update_imports_cell('import numpy as np'); }\n",
       "    "
      ],
      "text/plain": [
       "<IPython.core.display.Javascript object>"
      ]
     },
     "metadata": {},
     "output_type": "display_data"
    },
    {
     "data": {
      "application/javascript": [
       "\n",
       "        if (window._pyforest_update_imports_cell) { window._pyforest_update_imports_cell('import numpy as np'); }\n",
       "    "
      ],
      "text/plain": [
       "<IPython.core.display.Javascript object>"
      ]
     },
     "metadata": {},
     "output_type": "display_data"
    },
    {
     "data": {
      "application/javascript": [
       "\n",
       "        if (window._pyforest_update_imports_cell) { window._pyforest_update_imports_cell('import numpy as np'); }\n",
       "    "
      ],
      "text/plain": [
       "<IPython.core.display.Javascript object>"
      ]
     },
     "metadata": {},
     "output_type": "display_data"
    },
    {
     "data": {
      "application/javascript": [
       "\n",
       "        if (window._pyforest_update_imports_cell) { window._pyforest_update_imports_cell('import numpy as np'); }\n",
       "    "
      ],
      "text/plain": [
       "<IPython.core.display.Javascript object>"
      ]
     },
     "metadata": {},
     "output_type": "display_data"
    },
    {
     "data": {
      "application/javascript": [
       "\n",
       "        if (window._pyforest_update_imports_cell) { window._pyforest_update_imports_cell('import numpy as np'); }\n",
       "    "
      ],
      "text/plain": [
       "<IPython.core.display.Javascript object>"
      ]
     },
     "metadata": {},
     "output_type": "display_data"
    },
    {
     "data": {
      "application/javascript": [
       "\n",
       "        if (window._pyforest_update_imports_cell) { window._pyforest_update_imports_cell('import numpy as np'); }\n",
       "    "
      ],
      "text/plain": [
       "<IPython.core.display.Javascript object>"
      ]
     },
     "metadata": {},
     "output_type": "display_data"
    },
    {
     "data": {
      "application/javascript": [
       "\n",
       "        if (window._pyforest_update_imports_cell) { window._pyforest_update_imports_cell('import numpy as np'); }\n",
       "    "
      ],
      "text/plain": [
       "<IPython.core.display.Javascript object>"
      ]
     },
     "metadata": {},
     "output_type": "display_data"
    },
    {
     "data": {
      "application/javascript": [
       "\n",
       "        if (window._pyforest_update_imports_cell) { window._pyforest_update_imports_cell('import numpy as np'); }\n",
       "    "
      ],
      "text/plain": [
       "<IPython.core.display.Javascript object>"
      ]
     },
     "metadata": {},
     "output_type": "display_data"
    },
    {
     "data": {
      "application/javascript": [
       "\n",
       "        if (window._pyforest_update_imports_cell) { window._pyforest_update_imports_cell('import numpy as np'); }\n",
       "    "
      ],
      "text/plain": [
       "<IPython.core.display.Javascript object>"
      ]
     },
     "metadata": {},
     "output_type": "display_data"
    },
    {
     "data": {
      "application/javascript": [
       "\n",
       "        if (window._pyforest_update_imports_cell) { window._pyforest_update_imports_cell('import numpy as np'); }\n",
       "    "
      ],
      "text/plain": [
       "<IPython.core.display.Javascript object>"
      ]
     },
     "metadata": {},
     "output_type": "display_data"
    },
    {
     "data": {
      "application/javascript": [
       "\n",
       "        if (window._pyforest_update_imports_cell) { window._pyforest_update_imports_cell('import numpy as np'); }\n",
       "    "
      ],
      "text/plain": [
       "<IPython.core.display.Javascript object>"
      ]
     },
     "metadata": {},
     "output_type": "display_data"
    },
    {
     "data": {
      "application/javascript": [
       "\n",
       "        if (window._pyforest_update_imports_cell) { window._pyforest_update_imports_cell('import numpy as np'); }\n",
       "    "
      ],
      "text/plain": [
       "<IPython.core.display.Javascript object>"
      ]
     },
     "metadata": {},
     "output_type": "display_data"
    },
    {
     "data": {
      "application/javascript": [
       "\n",
       "        if (window._pyforest_update_imports_cell) { window._pyforest_update_imports_cell('import numpy as np'); }\n",
       "    "
      ],
      "text/plain": [
       "<IPython.core.display.Javascript object>"
      ]
     },
     "metadata": {},
     "output_type": "display_data"
    },
    {
     "data": {
      "application/javascript": [
       "\n",
       "        if (window._pyforest_update_imports_cell) { window._pyforest_update_imports_cell('import numpy as np'); }\n",
       "    "
      ],
      "text/plain": [
       "<IPython.core.display.Javascript object>"
      ]
     },
     "metadata": {},
     "output_type": "display_data"
    },
    {
     "data": {
      "application/javascript": [
       "\n",
       "        if (window._pyforest_update_imports_cell) { window._pyforest_update_imports_cell('import numpy as np'); }\n",
       "    "
      ],
      "text/plain": [
       "<IPython.core.display.Javascript object>"
      ]
     },
     "metadata": {},
     "output_type": "display_data"
    },
    {
     "data": {
      "application/javascript": [
       "\n",
       "        if (window._pyforest_update_imports_cell) { window._pyforest_update_imports_cell('import numpy as np'); }\n",
       "    "
      ],
      "text/plain": [
       "<IPython.core.display.Javascript object>"
      ]
     },
     "metadata": {},
     "output_type": "display_data"
    },
    {
     "data": {
      "application/javascript": [
       "\n",
       "        if (window._pyforest_update_imports_cell) { window._pyforest_update_imports_cell('import numpy as np'); }\n",
       "    "
      ],
      "text/plain": [
       "<IPython.core.display.Javascript object>"
      ]
     },
     "metadata": {},
     "output_type": "display_data"
    },
    {
     "data": {
      "application/javascript": [
       "\n",
       "        if (window._pyforest_update_imports_cell) { window._pyforest_update_imports_cell('import numpy as np'); }\n",
       "    "
      ],
      "text/plain": [
       "<IPython.core.display.Javascript object>"
      ]
     },
     "metadata": {},
     "output_type": "display_data"
    },
    {
     "data": {
      "application/javascript": [
       "\n",
       "        if (window._pyforest_update_imports_cell) { window._pyforest_update_imports_cell('import numpy as np'); }\n",
       "    "
      ],
      "text/plain": [
       "<IPython.core.display.Javascript object>"
      ]
     },
     "metadata": {},
     "output_type": "display_data"
    },
    {
     "data": {
      "application/javascript": [
       "\n",
       "        if (window._pyforest_update_imports_cell) { window._pyforest_update_imports_cell('import numpy as np'); }\n",
       "    "
      ],
      "text/plain": [
       "<IPython.core.display.Javascript object>"
      ]
     },
     "metadata": {},
     "output_type": "display_data"
    },
    {
     "data": {
      "application/javascript": [
       "\n",
       "        if (window._pyforest_update_imports_cell) { window._pyforest_update_imports_cell('import numpy as np'); }\n",
       "    "
      ],
      "text/plain": [
       "<IPython.core.display.Javascript object>"
      ]
     },
     "metadata": {},
     "output_type": "display_data"
    },
    {
     "data": {
      "application/javascript": [
       "\n",
       "        if (window._pyforest_update_imports_cell) { window._pyforest_update_imports_cell('import numpy as np'); }\n",
       "    "
      ],
      "text/plain": [
       "<IPython.core.display.Javascript object>"
      ]
     },
     "metadata": {},
     "output_type": "display_data"
    },
    {
     "data": {
      "application/javascript": [
       "\n",
       "        if (window._pyforest_update_imports_cell) { window._pyforest_update_imports_cell('import numpy as np'); }\n",
       "    "
      ],
      "text/plain": [
       "<IPython.core.display.Javascript object>"
      ]
     },
     "metadata": {},
     "output_type": "display_data"
    },
    {
     "data": {
      "application/javascript": [
       "\n",
       "        if (window._pyforest_update_imports_cell) { window._pyforest_update_imports_cell('import numpy as np'); }\n",
       "    "
      ],
      "text/plain": [
       "<IPython.core.display.Javascript object>"
      ]
     },
     "metadata": {},
     "output_type": "display_data"
    },
    {
     "data": {
      "application/javascript": [
       "\n",
       "        if (window._pyforest_update_imports_cell) { window._pyforest_update_imports_cell('import numpy as np'); }\n",
       "    "
      ],
      "text/plain": [
       "<IPython.core.display.Javascript object>"
      ]
     },
     "metadata": {},
     "output_type": "display_data"
    },
    {
     "data": {
      "application/javascript": [
       "\n",
       "        if (window._pyforest_update_imports_cell) { window._pyforest_update_imports_cell('import numpy as np'); }\n",
       "    "
      ],
      "text/plain": [
       "<IPython.core.display.Javascript object>"
      ]
     },
     "metadata": {},
     "output_type": "display_data"
    },
    {
     "data": {
      "application/javascript": [
       "\n",
       "        if (window._pyforest_update_imports_cell) { window._pyforest_update_imports_cell('import numpy as np'); }\n",
       "    "
      ],
      "text/plain": [
       "<IPython.core.display.Javascript object>"
      ]
     },
     "metadata": {},
     "output_type": "display_data"
    },
    {
     "data": {
      "application/javascript": [
       "\n",
       "        if (window._pyforest_update_imports_cell) { window._pyforest_update_imports_cell('import numpy as np'); }\n",
       "    "
      ],
      "text/plain": [
       "<IPython.core.display.Javascript object>"
      ]
     },
     "metadata": {},
     "output_type": "display_data"
    },
    {
     "data": {
      "application/javascript": [
       "\n",
       "        if (window._pyforest_update_imports_cell) { window._pyforest_update_imports_cell('import numpy as np'); }\n",
       "    "
      ],
      "text/plain": [
       "<IPython.core.display.Javascript object>"
      ]
     },
     "metadata": {},
     "output_type": "display_data"
    },
    {
     "data": {
      "application/javascript": [
       "\n",
       "        if (window._pyforest_update_imports_cell) { window._pyforest_update_imports_cell('import numpy as np'); }\n",
       "    "
      ],
      "text/plain": [
       "<IPython.core.display.Javascript object>"
      ]
     },
     "metadata": {},
     "output_type": "display_data"
    },
    {
     "data": {
      "application/javascript": [
       "\n",
       "        if (window._pyforest_update_imports_cell) { window._pyforest_update_imports_cell('import numpy as np'); }\n",
       "    "
      ],
      "text/plain": [
       "<IPython.core.display.Javascript object>"
      ]
     },
     "metadata": {},
     "output_type": "display_data"
    },
    {
     "data": {
      "application/javascript": [
       "\n",
       "        if (window._pyforest_update_imports_cell) { window._pyforest_update_imports_cell('import numpy as np'); }\n",
       "    "
      ],
      "text/plain": [
       "<IPython.core.display.Javascript object>"
      ]
     },
     "metadata": {},
     "output_type": "display_data"
    },
    {
     "data": {
      "application/javascript": [
       "\n",
       "        if (window._pyforest_update_imports_cell) { window._pyforest_update_imports_cell('import numpy as np'); }\n",
       "    "
      ],
      "text/plain": [
       "<IPython.core.display.Javascript object>"
      ]
     },
     "metadata": {},
     "output_type": "display_data"
    },
    {
     "data": {
      "application/javascript": [
       "\n",
       "        if (window._pyforest_update_imports_cell) { window._pyforest_update_imports_cell('import numpy as np'); }\n",
       "    "
      ],
      "text/plain": [
       "<IPython.core.display.Javascript object>"
      ]
     },
     "metadata": {},
     "output_type": "display_data"
    },
    {
     "data": {
      "application/javascript": [
       "\n",
       "        if (window._pyforest_update_imports_cell) { window._pyforest_update_imports_cell('import numpy as np'); }\n",
       "    "
      ],
      "text/plain": [
       "<IPython.core.display.Javascript object>"
      ]
     },
     "metadata": {},
     "output_type": "display_data"
    },
    {
     "data": {
      "application/javascript": [
       "\n",
       "        if (window._pyforest_update_imports_cell) { window._pyforest_update_imports_cell('import numpy as np'); }\n",
       "    "
      ],
      "text/plain": [
       "<IPython.core.display.Javascript object>"
      ]
     },
     "metadata": {},
     "output_type": "display_data"
    },
    {
     "data": {
      "application/javascript": [
       "\n",
       "        if (window._pyforest_update_imports_cell) { window._pyforest_update_imports_cell('import numpy as np'); }\n",
       "    "
      ],
      "text/plain": [
       "<IPython.core.display.Javascript object>"
      ]
     },
     "metadata": {},
     "output_type": "display_data"
    },
    {
     "data": {
      "application/javascript": [
       "\n",
       "        if (window._pyforest_update_imports_cell) { window._pyforest_update_imports_cell('import numpy as np'); }\n",
       "    "
      ],
      "text/plain": [
       "<IPython.core.display.Javascript object>"
      ]
     },
     "metadata": {},
     "output_type": "display_data"
    },
    {
     "data": {
      "application/javascript": [
       "\n",
       "        if (window._pyforest_update_imports_cell) { window._pyforest_update_imports_cell('import numpy as np'); }\n",
       "    "
      ],
      "text/plain": [
       "<IPython.core.display.Javascript object>"
      ]
     },
     "metadata": {},
     "output_type": "display_data"
    },
    {
     "data": {
      "application/javascript": [
       "\n",
       "        if (window._pyforest_update_imports_cell) { window._pyforest_update_imports_cell('import numpy as np'); }\n",
       "    "
      ],
      "text/plain": [
       "<IPython.core.display.Javascript object>"
      ]
     },
     "metadata": {},
     "output_type": "display_data"
    },
    {
     "data": {
      "application/javascript": [
       "\n",
       "        if (window._pyforest_update_imports_cell) { window._pyforest_update_imports_cell('import numpy as np'); }\n",
       "    "
      ],
      "text/plain": [
       "<IPython.core.display.Javascript object>"
      ]
     },
     "metadata": {},
     "output_type": "display_data"
    },
    {
     "data": {
      "application/javascript": [
       "\n",
       "        if (window._pyforest_update_imports_cell) { window._pyforest_update_imports_cell('import numpy as np'); }\n",
       "    "
      ],
      "text/plain": [
       "<IPython.core.display.Javascript object>"
      ]
     },
     "metadata": {},
     "output_type": "display_data"
    },
    {
     "data": {
      "application/javascript": [
       "\n",
       "        if (window._pyforest_update_imports_cell) { window._pyforest_update_imports_cell('import numpy as np'); }\n",
       "    "
      ],
      "text/plain": [
       "<IPython.core.display.Javascript object>"
      ]
     },
     "metadata": {},
     "output_type": "display_data"
    },
    {
     "data": {
      "application/javascript": [
       "\n",
       "        if (window._pyforest_update_imports_cell) { window._pyforest_update_imports_cell('import numpy as np'); }\n",
       "    "
      ],
      "text/plain": [
       "<IPython.core.display.Javascript object>"
      ]
     },
     "metadata": {},
     "output_type": "display_data"
    },
    {
     "data": {
      "application/javascript": [
       "\n",
       "        if (window._pyforest_update_imports_cell) { window._pyforest_update_imports_cell('import numpy as np'); }\n",
       "    "
      ],
      "text/plain": [
       "<IPython.core.display.Javascript object>"
      ]
     },
     "metadata": {},
     "output_type": "display_data"
    },
    {
     "data": {
      "application/javascript": [
       "\n",
       "        if (window._pyforest_update_imports_cell) { window._pyforest_update_imports_cell('import numpy as np'); }\n",
       "    "
      ],
      "text/plain": [
       "<IPython.core.display.Javascript object>"
      ]
     },
     "metadata": {},
     "output_type": "display_data"
    },
    {
     "data": {
      "application/javascript": [
       "\n",
       "        if (window._pyforest_update_imports_cell) { window._pyforest_update_imports_cell('import numpy as np'); }\n",
       "    "
      ],
      "text/plain": [
       "<IPython.core.display.Javascript object>"
      ]
     },
     "metadata": {},
     "output_type": "display_data"
    },
    {
     "data": {
      "application/javascript": [
       "\n",
       "        if (window._pyforest_update_imports_cell) { window._pyforest_update_imports_cell('import numpy as np'); }\n",
       "    "
      ],
      "text/plain": [
       "<IPython.core.display.Javascript object>"
      ]
     },
     "metadata": {},
     "output_type": "display_data"
    },
    {
     "data": {
      "application/javascript": [
       "\n",
       "        if (window._pyforest_update_imports_cell) { window._pyforest_update_imports_cell('import numpy as np'); }\n",
       "    "
      ],
      "text/plain": [
       "<IPython.core.display.Javascript object>"
      ]
     },
     "metadata": {},
     "output_type": "display_data"
    },
    {
     "data": {
      "application/javascript": [
       "\n",
       "        if (window._pyforest_update_imports_cell) { window._pyforest_update_imports_cell('import numpy as np'); }\n",
       "    "
      ],
      "text/plain": [
       "<IPython.core.display.Javascript object>"
      ]
     },
     "metadata": {},
     "output_type": "display_data"
    },
    {
     "data": {
      "application/javascript": [
       "\n",
       "        if (window._pyforest_update_imports_cell) { window._pyforest_update_imports_cell('import numpy as np'); }\n",
       "    "
      ],
      "text/plain": [
       "<IPython.core.display.Javascript object>"
      ]
     },
     "metadata": {},
     "output_type": "display_data"
    },
    {
     "data": {
      "application/javascript": [
       "\n",
       "        if (window._pyforest_update_imports_cell) { window._pyforest_update_imports_cell('import numpy as np'); }\n",
       "    "
      ],
      "text/plain": [
       "<IPython.core.display.Javascript object>"
      ]
     },
     "metadata": {},
     "output_type": "display_data"
    },
    {
     "data": {
      "application/javascript": [
       "\n",
       "        if (window._pyforest_update_imports_cell) { window._pyforest_update_imports_cell('import numpy as np'); }\n",
       "    "
      ],
      "text/plain": [
       "<IPython.core.display.Javascript object>"
      ]
     },
     "metadata": {},
     "output_type": "display_data"
    },
    {
     "data": {
      "application/javascript": [
       "\n",
       "        if (window._pyforest_update_imports_cell) { window._pyforest_update_imports_cell('import numpy as np'); }\n",
       "    "
      ],
      "text/plain": [
       "<IPython.core.display.Javascript object>"
      ]
     },
     "metadata": {},
     "output_type": "display_data"
    },
    {
     "data": {
      "application/javascript": [
       "\n",
       "        if (window._pyforest_update_imports_cell) { window._pyforest_update_imports_cell('import numpy as np'); }\n",
       "    "
      ],
      "text/plain": [
       "<IPython.core.display.Javascript object>"
      ]
     },
     "metadata": {},
     "output_type": "display_data"
    },
    {
     "data": {
      "application/javascript": [
       "\n",
       "        if (window._pyforest_update_imports_cell) { window._pyforest_update_imports_cell('import numpy as np'); }\n",
       "    "
      ],
      "text/plain": [
       "<IPython.core.display.Javascript object>"
      ]
     },
     "metadata": {},
     "output_type": "display_data"
    },
    {
     "data": {
      "application/javascript": [
       "\n",
       "        if (window._pyforest_update_imports_cell) { window._pyforest_update_imports_cell('import numpy as np'); }\n",
       "    "
      ],
      "text/plain": [
       "<IPython.core.display.Javascript object>"
      ]
     },
     "metadata": {},
     "output_type": "display_data"
    },
    {
     "data": {
      "application/javascript": [
       "\n",
       "        if (window._pyforest_update_imports_cell) { window._pyforest_update_imports_cell('import numpy as np'); }\n",
       "    "
      ],
      "text/plain": [
       "<IPython.core.display.Javascript object>"
      ]
     },
     "metadata": {},
     "output_type": "display_data"
    },
    {
     "data": {
      "application/javascript": [
       "\n",
       "        if (window._pyforest_update_imports_cell) { window._pyforest_update_imports_cell('import numpy as np'); }\n",
       "    "
      ],
      "text/plain": [
       "<IPython.core.display.Javascript object>"
      ]
     },
     "metadata": {},
     "output_type": "display_data"
    },
    {
     "data": {
      "application/javascript": [
       "\n",
       "        if (window._pyforest_update_imports_cell) { window._pyforest_update_imports_cell('import numpy as np'); }\n",
       "    "
      ],
      "text/plain": [
       "<IPython.core.display.Javascript object>"
      ]
     },
     "metadata": {},
     "output_type": "display_data"
    },
    {
     "data": {
      "application/javascript": [
       "\n",
       "        if (window._pyforest_update_imports_cell) { window._pyforest_update_imports_cell('import numpy as np'); }\n",
       "    "
      ],
      "text/plain": [
       "<IPython.core.display.Javascript object>"
      ]
     },
     "metadata": {},
     "output_type": "display_data"
    },
    {
     "data": {
      "application/javascript": [
       "\n",
       "        if (window._pyforest_update_imports_cell) { window._pyforest_update_imports_cell('import numpy as np'); }\n",
       "    "
      ],
      "text/plain": [
       "<IPython.core.display.Javascript object>"
      ]
     },
     "metadata": {},
     "output_type": "display_data"
    },
    {
     "data": {
      "application/javascript": [
       "\n",
       "        if (window._pyforest_update_imports_cell) { window._pyforest_update_imports_cell('import numpy as np'); }\n",
       "    "
      ],
      "text/plain": [
       "<IPython.core.display.Javascript object>"
      ]
     },
     "metadata": {},
     "output_type": "display_data"
    },
    {
     "data": {
      "application/javascript": [
       "\n",
       "        if (window._pyforest_update_imports_cell) { window._pyforest_update_imports_cell('import numpy as np'); }\n",
       "    "
      ],
      "text/plain": [
       "<IPython.core.display.Javascript object>"
      ]
     },
     "metadata": {},
     "output_type": "display_data"
    },
    {
     "data": {
      "application/javascript": [
       "\n",
       "        if (window._pyforest_update_imports_cell) { window._pyforest_update_imports_cell('import numpy as np'); }\n",
       "    "
      ],
      "text/plain": [
       "<IPython.core.display.Javascript object>"
      ]
     },
     "metadata": {},
     "output_type": "display_data"
    },
    {
     "data": {
      "application/javascript": [
       "\n",
       "        if (window._pyforest_update_imports_cell) { window._pyforest_update_imports_cell('import numpy as np'); }\n",
       "    "
      ],
      "text/plain": [
       "<IPython.core.display.Javascript object>"
      ]
     },
     "metadata": {},
     "output_type": "display_data"
    },
    {
     "data": {
      "application/javascript": [
       "\n",
       "        if (window._pyforest_update_imports_cell) { window._pyforest_update_imports_cell('import numpy as np'); }\n",
       "    "
      ],
      "text/plain": [
       "<IPython.core.display.Javascript object>"
      ]
     },
     "metadata": {},
     "output_type": "display_data"
    },
    {
     "data": {
      "application/javascript": [
       "\n",
       "        if (window._pyforest_update_imports_cell) { window._pyforest_update_imports_cell('import numpy as np'); }\n",
       "    "
      ],
      "text/plain": [
       "<IPython.core.display.Javascript object>"
      ]
     },
     "metadata": {},
     "output_type": "display_data"
    },
    {
     "data": {
      "application/javascript": [
       "\n",
       "        if (window._pyforest_update_imports_cell) { window._pyforest_update_imports_cell('import numpy as np'); }\n",
       "    "
      ],
      "text/plain": [
       "<IPython.core.display.Javascript object>"
      ]
     },
     "metadata": {},
     "output_type": "display_data"
    },
    {
     "data": {
      "application/javascript": [
       "\n",
       "        if (window._pyforest_update_imports_cell) { window._pyforest_update_imports_cell('import numpy as np'); }\n",
       "    "
      ],
      "text/plain": [
       "<IPython.core.display.Javascript object>"
      ]
     },
     "metadata": {},
     "output_type": "display_data"
    },
    {
     "data": {
      "application/javascript": [
       "\n",
       "        if (window._pyforest_update_imports_cell) { window._pyforest_update_imports_cell('import numpy as np'); }\n",
       "    "
      ],
      "text/plain": [
       "<IPython.core.display.Javascript object>"
      ]
     },
     "metadata": {},
     "output_type": "display_data"
    },
    {
     "data": {
      "application/javascript": [
       "\n",
       "        if (window._pyforest_update_imports_cell) { window._pyforest_update_imports_cell('import numpy as np'); }\n",
       "    "
      ],
      "text/plain": [
       "<IPython.core.display.Javascript object>"
      ]
     },
     "metadata": {},
     "output_type": "display_data"
    },
    {
     "data": {
      "application/javascript": [
       "\n",
       "        if (window._pyforest_update_imports_cell) { window._pyforest_update_imports_cell('import numpy as np'); }\n",
       "    "
      ],
      "text/plain": [
       "<IPython.core.display.Javascript object>"
      ]
     },
     "metadata": {},
     "output_type": "display_data"
    },
    {
     "data": {
      "application/javascript": [
       "\n",
       "        if (window._pyforest_update_imports_cell) { window._pyforest_update_imports_cell('import numpy as np'); }\n",
       "    "
      ],
      "text/plain": [
       "<IPython.core.display.Javascript object>"
      ]
     },
     "metadata": {},
     "output_type": "display_data"
    },
    {
     "data": {
      "application/javascript": [
       "\n",
       "        if (window._pyforest_update_imports_cell) { window._pyforest_update_imports_cell('import numpy as np'); }\n",
       "    "
      ],
      "text/plain": [
       "<IPython.core.display.Javascript object>"
      ]
     },
     "metadata": {},
     "output_type": "display_data"
    },
    {
     "data": {
      "application/javascript": [
       "\n",
       "        if (window._pyforest_update_imports_cell) { window._pyforest_update_imports_cell('import numpy as np'); }\n",
       "    "
      ],
      "text/plain": [
       "<IPython.core.display.Javascript object>"
      ]
     },
     "metadata": {},
     "output_type": "display_data"
    },
    {
     "data": {
      "application/javascript": [
       "\n",
       "        if (window._pyforest_update_imports_cell) { window._pyforest_update_imports_cell('import numpy as np'); }\n",
       "    "
      ],
      "text/plain": [
       "<IPython.core.display.Javascript object>"
      ]
     },
     "metadata": {},
     "output_type": "display_data"
    },
    {
     "data": {
      "application/javascript": [
       "\n",
       "        if (window._pyforest_update_imports_cell) { window._pyforest_update_imports_cell('import numpy as np'); }\n",
       "    "
      ],
      "text/plain": [
       "<IPython.core.display.Javascript object>"
      ]
     },
     "metadata": {},
     "output_type": "display_data"
    },
    {
     "data": {
      "application/javascript": [
       "\n",
       "        if (window._pyforest_update_imports_cell) { window._pyforest_update_imports_cell('import numpy as np'); }\n",
       "    "
      ],
      "text/plain": [
       "<IPython.core.display.Javascript object>"
      ]
     },
     "metadata": {},
     "output_type": "display_data"
    },
    {
     "data": {
      "application/javascript": [
       "\n",
       "        if (window._pyforest_update_imports_cell) { window._pyforest_update_imports_cell('import numpy as np'); }\n",
       "    "
      ],
      "text/plain": [
       "<IPython.core.display.Javascript object>"
      ]
     },
     "metadata": {},
     "output_type": "display_data"
    },
    {
     "data": {
      "application/javascript": [
       "\n",
       "        if (window._pyforest_update_imports_cell) { window._pyforest_update_imports_cell('import numpy as np'); }\n",
       "    "
      ],
      "text/plain": [
       "<IPython.core.display.Javascript object>"
      ]
     },
     "metadata": {},
     "output_type": "display_data"
    },
    {
     "data": {
      "application/javascript": [
       "\n",
       "        if (window._pyforest_update_imports_cell) { window._pyforest_update_imports_cell('import numpy as np'); }\n",
       "    "
      ],
      "text/plain": [
       "<IPython.core.display.Javascript object>"
      ]
     },
     "metadata": {},
     "output_type": "display_data"
    },
    {
     "data": {
      "application/javascript": [
       "\n",
       "        if (window._pyforest_update_imports_cell) { window._pyforest_update_imports_cell('import numpy as np'); }\n",
       "    "
      ],
      "text/plain": [
       "<IPython.core.display.Javascript object>"
      ]
     },
     "metadata": {},
     "output_type": "display_data"
    },
    {
     "data": {
      "application/javascript": [
       "\n",
       "        if (window._pyforest_update_imports_cell) { window._pyforest_update_imports_cell('import numpy as np'); }\n",
       "    "
      ],
      "text/plain": [
       "<IPython.core.display.Javascript object>"
      ]
     },
     "metadata": {},
     "output_type": "display_data"
    },
    {
     "data": {
      "application/javascript": [
       "\n",
       "        if (window._pyforest_update_imports_cell) { window._pyforest_update_imports_cell('import numpy as np'); }\n",
       "    "
      ],
      "text/plain": [
       "<IPython.core.display.Javascript object>"
      ]
     },
     "metadata": {},
     "output_type": "display_data"
    }
   ],
   "source": [
    "def change_date_format(a):\n",
    "    if a is not np.nan:\n",
    "        a = a.split(\"/\")\n",
    "        a[-1] = str(int(a[-1])+2000) if int(a[-1]) < 30 else str(int(a[-1]) +1900)\n",
    "        a[-2] = a[-2].zfill(2)\n",
    "        a[-3] = a[-3].zfill(2)\n",
    "        a.reverse()\n",
    "        a = '-'.join(a)\n",
    "    return(a)\n",
    "\n",
    "df_players['birthday'] = df_players['birthday'].apply(change_date_format)\n",
    "\n"
   ]
  },
  {
   "cell_type": "code",
   "execution_count": 12,
   "metadata": {},
   "outputs": [],
   "source": [
    "#df_players['name'].unique()"
   ]
  },
  {
   "cell_type": "code",
   "execution_count": 13,
   "metadata": {},
   "outputs": [
    {
     "data": {
      "text/plain": [
       "624    1992-02-08\n",
       "625    2001-12-20\n",
       "626    1991-09-19\n",
       "627    1996-12-19\n",
       "Name: birthday, dtype: object"
      ]
     },
     "execution_count": 13,
     "metadata": {},
     "output_type": "execute_result"
    }
   ],
   "source": [
    "df_players['birthday'].tail(4)"
   ]
  },
  {
   "cell_type": "code",
   "execution_count": 14,
   "metadata": {},
   "outputs": [
    {
     "data": {
      "text/html": [
       "<div>\n",
       "<style scoped>\n",
       "    .dataframe tbody tr th:only-of-type {\n",
       "        vertical-align: middle;\n",
       "    }\n",
       "\n",
       "    .dataframe tbody tr th {\n",
       "        vertical-align: top;\n",
       "    }\n",
       "\n",
       "    .dataframe thead th {\n",
       "        text-align: right;\n",
       "    }\n",
       "</style>\n",
       "<table border=\"1\" class=\"dataframe\">\n",
       "  <thead>\n",
       "    <tr style=\"text-align: right;\">\n",
       "      <th></th>\n",
       "      <th>city</th>\n",
       "      <th>name</th>\n",
       "      <th>coach_name</th>\n",
       "      <th>president</th>\n",
       "      <th>year_founded</th>\n",
       "      <th>championship</th>\n",
       "    </tr>\n",
       "  </thead>\n",
       "  <tbody>\n",
       "    <tr>\n",
       "      <th>17</th>\n",
       "      <td>Rennes</td>\n",
       "      <td>Stade Rennais Football Club</td>\n",
       "      <td>Bruno GENESIO</td>\n",
       "      <td>Nicolas Holveck</td>\n",
       "      <td>1901</td>\n",
       "      <td>Ligue 1</td>\n",
       "    </tr>\n",
       "    <tr>\n",
       "      <th>18</th>\n",
       "      <td>Saint-Étienne</td>\n",
       "      <td>Association Sportive de St-Etienne</td>\n",
       "      <td>Claude PUEL</td>\n",
       "      <td>B. Caïazzo &amp; R. Romeyer</td>\n",
       "      <td>1919</td>\n",
       "      <td>Ligue 1</td>\n",
       "    </tr>\n",
       "    <tr>\n",
       "      <th>19</th>\n",
       "      <td>Strasbourg</td>\n",
       "      <td>Racing Club de Strasbourg Alsace</td>\n",
       "      <td>Julien STEPHAN</td>\n",
       "      <td>Marc Keller</td>\n",
       "      <td>1906</td>\n",
       "      <td>Ligue 1</td>\n",
       "    </tr>\n",
       "  </tbody>\n",
       "</table>\n",
       "</div>"
      ],
      "text/plain": [
       "             city                                name      coach_name  \\\n",
       "17         Rennes         Stade Rennais Football Club   Bruno GENESIO   \n",
       "18  Saint-Étienne  Association Sportive de St-Etienne     Claude PUEL   \n",
       "19     Strasbourg    Racing Club de Strasbourg Alsace  Julien STEPHAN   \n",
       "\n",
       "                  president year_founded championship  \n",
       "17          Nicolas Holveck         1901      Ligue 1  \n",
       "18  B. Caïazzo & R. Romeyer         1919      Ligue 1  \n",
       "19              Marc Keller         1906      Ligue 1  "
      ]
     },
     "execution_count": 14,
     "metadata": {},
     "output_type": "execute_result"
    }
   ],
   "source": [
    "df_teams.tail(3)"
   ]
  },
  {
   "cell_type": "code",
   "execution_count": 15,
   "metadata": {},
   "outputs": [
    {
     "data": {
      "text/html": [
       "<div>\n",
       "<style scoped>\n",
       "    .dataframe tbody tr th:only-of-type {\n",
       "        vertical-align: middle;\n",
       "    }\n",
       "\n",
       "    .dataframe tbody tr th {\n",
       "        vertical-align: top;\n",
       "    }\n",
       "\n",
       "    .dataframe thead th {\n",
       "        text-align: right;\n",
       "    }\n",
       "</style>\n",
       "<table border=\"1\" class=\"dataframe\">\n",
       "  <thead>\n",
       "    <tr style=\"text-align: right;\">\n",
       "      <th></th>\n",
       "      <th>number</th>\n",
       "      <th>name</th>\n",
       "      <th>country</th>\n",
       "      <th>birthday</th>\n",
       "      <th>position</th>\n",
       "      <th>club</th>\n",
       "    </tr>\n",
       "  </thead>\n",
       "  <tbody>\n",
       "    <tr>\n",
       "      <th>0</th>\n",
       "      <td>1.0</td>\n",
       "      <td>P. Bernardoni</td>\n",
       "      <td>FRA</td>\n",
       "      <td>1997-04-18</td>\n",
       "      <td>Gar.</td>\n",
       "      <td>Angers</td>\n",
       "    </tr>\n",
       "    <tr>\n",
       "      <th>1</th>\n",
       "      <td>16.0</td>\n",
       "      <td>L. Butelle</td>\n",
       "      <td>FRA</td>\n",
       "      <td>1983-04-03</td>\n",
       "      <td>Gar.</td>\n",
       "      <td>Angers</td>\n",
       "    </tr>\n",
       "    <tr>\n",
       "      <th>2</th>\n",
       "      <td>30.0</td>\n",
       "      <td>D. Petkovic</td>\n",
       "      <td>MNE</td>\n",
       "      <td>1993-05-25</td>\n",
       "      <td>Gar.</td>\n",
       "      <td>Angers</td>\n",
       "    </tr>\n",
       "  </tbody>\n",
       "</table>\n",
       "</div>"
      ],
      "text/plain": [
       "   number           name country    birthday position    club\n",
       "0     1.0  P. Bernardoni     FRA  1997-04-18     Gar.  Angers\n",
       "1    16.0     L. Butelle     FRA  1983-04-03     Gar.  Angers\n",
       "2    30.0    D. Petkovic     MNE  1993-05-25     Gar.  Angers"
      ]
     },
     "execution_count": 15,
     "metadata": {},
     "output_type": "execute_result"
    }
   ],
   "source": [
    "df_players.head(3)\n"
   ]
  },
  {
   "cell_type": "markdown",
   "metadata": {},
   "source": [
    "### scrap matches "
   ]
  },
  {
   "cell_type": "code",
   "execution_count": 16,
   "metadata": {},
   "outputs": [
    {
     "name": "stdout",
     "output_type": "stream",
     "text": [
      "https://www.lequipe.fr/Football/archives/championnat-de-france.html\n"
     ]
    }
   ],
   "source": [
    "# scrap archive to get matches information for each championship\n",
    "archives_url = df_championships.loc[2,'archives_link']\n",
    "print(archives_url)"
   ]
  },
  {
   "cell_type": "code",
   "execution_count": 23,
   "metadata": {},
   "outputs": [
    {
     "name": "stdout",
     "output_type": "stream",
     "text": [
      "Ligue 1 2020\n",
      "/Football/ligue-1/saison-2019-2020/page-calendrier-resultats\n",
      "Ligue 1 2019\n",
      "/Football/ligue-1/saison-2018-2019/page-calendrier-resultats\n",
      "Ligue 1 2018\n",
      "/Football/ligue-1/saison-2017-2018/page-calendrier-resultats\n",
      "Ligue 1 2017\n",
      "/Football/ligue-1/saison-2016-2017/page-calendrier-resultats\n",
      "Ligue 1 2016\n",
      "/Football/ligue-1/saison-2015-2016/page-calendrier-resultats\n",
      "Ligue 1 2015\n",
      "/Football/ligue-1/saison-2014-2015/page-calendrier-resultats\n",
      "Ligue 1 2014\n",
      "/Football/ligue-1/saison-2013-2014/page-calendrier-resultats\n",
      "Ligue 1 2013\n",
      "/Football/ligue-1/saison-2012-2013/page-calendrier-resultats\n",
      "Ligue 1 2012\n",
      "/Football/ligue-1/saison-2011-2012/page-calendrier-resultats\n",
      "Ligue 1 2011\n",
      "/Football/ligue-1/saison-2010-2011/page-calendrier-resultats\n",
      "Ligue 1 2010\n",
      "/Football/ligue-1/saison-2009-2010/page-calendrier-resultats\n",
      "Ligue 1 2009\n",
      "/Football/ligue-1/saison-2008-2009/page-calendrier-resultats\n",
      "Ligue 1 2008\n",
      "/Football/ligue-1/saison-2007-2008/page-calendrier-resultats\n",
      "Ligue 1 2007\n",
      "/Football/ligue-1/saison-2006-2007/page-calendrier-resultats\n",
      "Ligue 1 2006\n",
      "/Football/ligue-1/saison-2005-2006/page-calendrier-resultats\n",
      "Ligue 1 2005\n",
      "/Football/ligue-1/saison-2004-2005/page-calendrier-resultats\n",
      "Ligue 1 2004\n",
      "/Football/ligue-1/saison-2003-2004/page-calendrier-resultats\n",
      "Ligue 1 2003\n",
      "/Football/ligue-1/saison-2002-2003/page-calendrier-resultats\n",
      "D1 2002\n",
      "/Football/d1/saison-2001-2002/page-calendrier-resultats\n",
      "D1 2001\n",
      "/Football/d1/saison-2000-2001/page-calendrier-resultats\n",
      "D1 2000\n",
      "/Football/d1/saison-1999-2000/page-calendrier-resultats\n",
      "D1 1999\n",
      "/Football/d1/saison-1998-1999/page-calendrier-resultats\n",
      "D1 1998\n",
      "/Football/d1/saison-1997-1998/page-calendrier-resultats\n",
      "D1 1997\n",
      "/Football/d1/saison-1996-1997/page-calendrier-resultats\n",
      "D1 1996\n",
      "/Football/d1/saison-1995-1996/page-calendrier-resultats\n",
      "D1 1995\n",
      "/Football/d1/saison-1994-1995/page-calendrier-resultats\n",
      "D1 1994\n",
      "/Football/d1/saison-1993-1994/page-calendrier-resultats\n",
      "D1 1992\n",
      "/Football/d1/saison-1991-1992/page-calendrier-resultats\n",
      "D1 1991\n",
      "/Football/d1/saison-1990-1991/page-calendrier-resultats\n",
      "D1 1990\n",
      "/Football/d1/saison-1989-1990/page-calendrier-resultats\n",
      "D1 1989\n",
      "/Football/d1/saison-1988-1989/page-calendrier-resultats\n",
      "D1 1988\n",
      "/Football/d1/saison-1987-1988/page-calendrier-resultats\n",
      "D1 1987\n",
      "/Football/d1/saison-1986-1987/page-calendrier-resultats\n",
      "D1 1986\n",
      "/Football/d1/saison-1985-1986/page-calendrier-resultats\n",
      "D1 1985\n",
      "/Football/d1/saison-1984-1985/page-calendrier-resultats\n",
      "D1 1984\n",
      "/Football/d1/saison-1983-1984/page-calendrier-resultats\n",
      "D1 1983\n",
      "/Football/d1/saison-1982-1983/page-calendrier-resultats\n",
      "D1 1982\n",
      "/Football/d1/saison-1981-1982/page-calendrier-resultats\n",
      "D1 1981\n",
      "/Football/d1/saison-1980-1981/page-calendrier-resultats\n",
      "D1 1980\n",
      "/Football/d1/saison-1979-1980/page-calendrier-resultats\n",
      "D1 1979\n",
      "/Football/d1/saison-1978-1979/page-calendrier-resultats\n",
      "D1 1978\n",
      "/Football/d1/saison-1977-1978/page-calendrier-resultats\n",
      "D1 1977\n",
      "/Football/d1/saison-1976-1977/page-calendrier-resultats\n",
      "D1 1976\n",
      "/Football/d1/saison-1975-1976/page-calendrier-resultats\n",
      "D1 1975\n",
      "/Football/d1/saison-1974-1975/page-calendrier-resultats\n",
      "D1 1974\n",
      "/Football/d1/saison-1973-1974/page-calendrier-resultats\n",
      "D1 1973\n",
      "/Football/d1/saison-1972-1973/page-calendrier-resultats\n",
      "D1 1972\n",
      "/Football/d1/saison-1971-1972/page-calendrier-resultats\n",
      "D1 1971\n",
      "/Football/d1/saison-1970-1971/page-calendrier-resultats\n",
      "D1 1970\n",
      "/Football/d1/saison-1969-1970/page-calendrier-resultats\n",
      "D1 1969\n",
      "/Football/d1/saison-1968-1969/page-calendrier-resultats\n",
      "D1 1968\n",
      "/Football/d1/saison-1967-1968/page-calendrier-resultats\n",
      "D1 1967\n",
      "/Football/d1/saison-1966-1967/page-calendrier-resultats\n",
      "D1 1966\n",
      "/Football/d1/saison-1965-1966/page-calendrier-resultats\n",
      "D1 1965\n",
      "/Football/d1/saison-1964-1965/page-calendrier-resultats\n",
      "D1 1964\n",
      "/Football/d1/saison-1963-1964/page-calendrier-resultats\n",
      "D1 1963\n",
      "/Football/d1/saison-1962-1963/page-calendrier-resultats\n",
      "D1 1962\n",
      "/Football/d1/saison-1961-1962/page-calendrier-resultats\n",
      "D1 1961\n",
      "/Football/d1/saison-1960-1961/page-calendrier-resultats\n",
      "D1 1960\n",
      "/Football/d1/saison-1959-1960/page-calendrier-resultats\n",
      "D1 1959\n",
      "/Football/d1/saison-1958-1959/page-calendrier-resultats\n",
      "D1 1958\n",
      "/Football/d1/saison-1957-1958/page-calendrier-resultats\n",
      "D1 1957\n",
      "/Football/d1/saison-1956-1957/page-calendrier-resultats\n",
      "D1 1956\n",
      "/Football/d1/saison-1955-1956/page-calendrier-resultats\n",
      "D1 1955\n",
      "/Football/d1/saison-1954-1955/page-calendrier-resultats\n",
      "D1 1954\n",
      "/Football/d1/saison-1953-1954/page-calendrier-resultats\n",
      "D1 1953\n",
      "/Football/d1/saison-1952-1953/page-calendrier-resultats\n",
      "D1 1952\n",
      "/Football/d1/saison-1951-1952/page-calendrier-resultats\n",
      "D1 1951\n",
      "/Football/d1/saison-1950-1951/page-calendrier-resultats\n",
      "D1 1950\n",
      "/Football/d1/saison-1949-1950/page-calendrier-resultats\n",
      "D1 1949\n",
      "/Football/d1/saison-1948-1949/page-calendrier-resultats\n",
      "D1 1948\n",
      "/Football/d1/saison-1947-1948/page-calendrier-resultats\n",
      "D1 1947\n",
      "/Football/d1/saison-1946-1947/page-calendrier-resultats\n",
      "D1 1946\n",
      "/Football/d1/saison-1945-1946/page-calendrier-resultats\n",
      "D1 1939\n",
      "/Football/d1/saison-1938-1939/page-calendrier-resultats\n",
      "D1 1938\n",
      "/Football/d1/saison-1937-1938/page-calendrier-resultats\n",
      "D1 1937\n",
      "/Football/d1/saison-1936-1937/page-calendrier-resultats\n",
      "D1 1936\n",
      "/Football/d1/saison-1935-1936/page-calendrier-resultats\n",
      "D1 1935\n",
      "/Football/d1/saison-1934-1935/page-calendrier-resultats\n",
      "D1 1934\n",
      "/Football/d1/saison-1933-1934/page-calendrier-resultats\n",
      "D1 1933\n",
      "/Football/d1/saison-1932-1933/page-calendrier-resultats\n"
     ]
    }
   ],
   "source": [
    "#get links for all archive of each year of this championship\n",
    "archives_page = get_page_soup(archives_url)\n",
    "archives_list = archives_page.findAll(\"td\")\n",
    "for archive in archives_list:\n",
    "    ligue_name = archive.h2.text\n",
    "    print(ligue_name)\n",
    "    link = archive.findAll('div', {\"class\":\"ligneee\"})[1].a['href']\n",
    "    print(link)"
   ]
  },
  {
   "cell_type": "code",
   "execution_count": 24,
   "metadata": {},
   "outputs": [],
   "source": [
    "link_matches = 'https://www.lequipe.fr/Football/ligue-1/saison-2020-2021/page-calendrier-resultats'\n",
    "matches_page = get_page_soup(link_matches)\n",
    "\n",
    "matches_json = []\n",
    "matches = matches_page.find(\"select\",{\"class\":\"SelectNav__select\"}).findAll('option')\n",
    "for match in matches:\n",
    "    matches_json.append(match['value'])"
   ]
  },
  {
   "cell_type": "code",
   "execution_count": 25,
   "metadata": {},
   "outputs": [],
   "source": [
    "#data from one json table\n",
    "dict_matches = {\n",
    "    'date': [],\n",
    "    'place': [],\n",
    "    'team_domicile': [],\n",
    "    'team_exterieur': [],\n",
    "    'score_domicile': [],\n",
    "    'score_exterieur': [],\n",
    "    'vainqueur': []\n",
    "}\n",
    "\n",
    "\n",
    "import json\n",
    "import requests\n",
    "\n",
    "for match_json in matches_json:\n",
    "    response = requests.get(match_json)\n",
    "    data = json.loads(response.text)\n",
    "    for day in data['items'][:-1]:\n",
    "        \n",
    "        for team in day['items']:\n",
    "            dict_matches[\"place\"].append(team['event']['lieu']['ville'])\n",
    "            dict_matches[\"date\"].append(team['date'])\n",
    "            dict_matches[\"team_domicile\"].append(team['event']['specifics']['domicile']['equipe'][\n",
    "                'nom'])\n",
    "            dict_matches[\"team_exterieur\"].append(team['event']['specifics']['exterieur']['equipe'][\n",
    "                'nom'])\n",
    "            dict_matches[\"score_domicile\"].append(team['event']['specifics']['score']['domicile'])\n",
    "            dict_matches[\"score_exterieur\"].append(team['event']['specifics']['score']['exterieur'])\n",
    "            dict_matches[\"vainqueur\"].append(team['event']['specifics']['vainqueur'])\n",
    "\n",
    "            #print(\"Stade:{} Date:{}\".format(lieu, date))\n",
    "            #print(\"{} {}:{} {}\".format(team_domicile, score_domicile, score_exterieur, team_exterieur))\n",
    "            #print(\"\\n\")\n",
    "            \n",
    "            \n",
    "df_matches_score = pd.DataFrame(dict_matches)"
   ]
  },
  {
   "cell_type": "code",
   "execution_count": 26,
   "metadata": {},
   "outputs": [],
   "source": [
    "# from datetime import datetime\n",
    "# df_matches_score['date']= [ datetime.strptime(date, '%Y-%m-%dT%H:%M:%S%z') for date in df_matches_score['date'] ]"
   ]
  },
  {
   "cell_type": "markdown",
   "metadata": {},
   "source": [
    "### add meteo to the df_matches"
   ]
  },
  {
   "cell_type": "markdown",
   "metadata": {},
   "source": [
    "### scrap goals par player/match"
   ]
  },
  {
   "cell_type": "code",
   "execution_count": 31,
   "metadata": {},
   "outputs": [],
   "source": [
    "#import urllib.request\n",
    "#from bs4 import BeautifulSoup\n",
    "import csv\n",
    "import re\n",
    "import json\n",
    "from http.client import IncompleteRead\n",
    "import numpy as np\n",
    "\n",
    "url_match_list = []\n",
    "url = ''\n",
    "for i in np.arange(1, 39):\n",
    "    if i == 1:\n",
    "        url = f'https://www.lequipe.fr/Football/ligue-1/saison-2020-2021/page-calendrier-resultats/{i}re-journee'\n",
    "    else:\n",
    "        url = f'https://www.lequipe.fr/Football/ligue-1/saison-2020-2021/page-calendrier-resultats/{i}e-journee'\n",
    "\n",
    "    page_soup = get_page_soup(url)\n",
    "    matches_json = []\n",
    "    main = page_soup.find('div', attrs={'class': 'container__main'})\n",
    "    teams_html = main.findAll('div', attrs={'class': 'TeamScore__data'})\n",
    "    for l in teams_html:\n",
    "        link_teams = l.find('a', attrs={'class': 'Link'}, href=True)\n",
    "        a = link_teams['href']\n",
    "        url_match_list.append(a)"
   ]
  },
  {
   "cell_type": "code",
   "execution_count": 34,
   "metadata": {},
   "outputs": [],
   "source": [
    "home_team_goals = []\n",
    "exterior_team_goals = []\n",
    "for url in url_match_list:\n",
    "\n",
    "    page_soup = get_page_soup(url, 20)\n",
    "    goal_list = page_soup.findAll(\n",
    "        'div', attrs={'class': 'grid__content Scoreboard__goalList'})\n",
    "\n",
    "    goal_list_right = []\n",
    "    goal_list_left = []\n",
    "\n",
    "    if goal_list == []:\n",
    "        home_team_goals.append([])\n",
    "        exterior_team_goals.append([])\n",
    "    else:\n",
    "\n",
    "        for s in goal_list[0].findAll('span',\n",
    "                                      attrs={'class': 'Scoreboard__scorer'}):\n",
    "\n",
    "            goal_list_left.append(s.text)\n",
    "\n",
    "        for s in goal_list[1].findAll('span',\n",
    "                                      attrs={'class': 'Scoreboard__scorer'}):\n",
    "\n",
    "            goal_list_right.append(s.text)\n",
    "\n",
    "        home_team_goals.append(goal_list_left)\n",
    "        exterior_team_goals.append(goal_list_right)"
   ]
  },
  {
   "cell_type": "code",
   "execution_count": 35,
   "metadata": {},
   "outputs": [
    {
     "data": {
      "text/plain": [
       "[[],\n",
       " ['I. Traoré'],\n",
       " ['D. Da Silva'],\n",
       " ['B. Dia', 'E. Touré'],\n",
       " ['M. Chahiri'],\n",
       " [],\n",
       " ['G. Kakuta'],\n",
       " ['M. Depay'],\n",
       " [],\n",
       " ['R. Hamouma', 'D. Bouanga'],\n",
       " ['A. Scheidler'],\n",
       " ['G. Laborde'],\n",
       " ['K. Dolberg', 'K. Dolberg'],\n",
       " ['J. Bamba'],\n",
       " ['Z. Ferhat'],\n",
       " [],\n",
       " ['J. Maja', 'T. Basic'],\n",
       " ['B. Badiashile'],\n",
       " ['F. Thauvin', 'D. Caleta-Car', 'D. Caleta-Car'],\n",
       " [],\n",
       " [],\n",
       " ['Dante'],\n",
       " [],\n",
       " [],\n",
       " ['S. Guirassy', 'S. Guirassy', 'N. Aguerd', 'B. Bourigeaud'],\n",
       " ['G. Kakuta', 'F. Medina', 'I. Ganago'],\n",
       " [],\n",
       " ['R. Perraud', 'I. Cardona'],\n",
       " ['L. Blas'],\n",
       " ['F. Thauvin'],\n",
       " [],\n",
       " ['S. Kalu'],\n",
       " ['W. Ben Yedder'],\n",
       " ['K. Mbappé', 'A. Di Maria', 'Marquinhos'],\n",
       " ['S. Bahoken'],\n",
       " ['C. Hérelle', 'T. Monconduit'],\n",
       " ['B. Dia'],\n",
       " [],\n",
       " ['A. Aouchiche', 'Y. Maçon'],\n",
       " ['L. Araujo'],\n",
       " [],\n",
       " ['N. Aguerd', 'S. Guirassy', 'A. Hunou'],\n",
       " ['I. Niane'],\n",
       " [],\n",
       " ['A. Delort', 'T. Savanier'],\n",
       " ['I. Ganago'],\n",
       " ['M. Chahiri', 'L. Ajorque'],\n",
       " ['S. Mounié', 'G. Charbonnier'],\n",
       " ['L. Dubois'],\n",
       " ['M. Icardi', 'M. Icardi'],\n",
       " ['I. Traoré'],\n",
       " [],\n",
       " ['I. Louza'],\n",
       " ['R. Ripart'],\n",
       " ['M. Çelik', 'R. Sanches', 'B. Yilmaz'],\n",
       " [],\n",
       " [],\n",
       " ['P. Hamel'],\n",
       " ['Y. Abdelhamid', 'B. Dia'],\n",
       " ['D. Payet'],\n",
       " ['M. Terrier'],\n",
       " ['K. Mbappé', 'A. Florenzi', 'K. Mbappé', 'P. Sarabia'],\n",
       " ['P. Hamel', 'Y. Wissa', 'T. Moffi'],\n",
       " ['J. Maja'],\n",
       " ['T. Kadewere', 'K. Toko Ekambi', 'K. Toko Ekambi'],\n",
       " ['S. Mavididi'],\n",
       " ['R. Faivre'],\n",
       " ['O. Nguette'],\n",
       " ['P. Lees-Melou', 'A. Gouiri', 'M. Maolida'],\n",
       " [],\n",
       " ['S. Boufal', 'A. Fulgini'],\n",
       " ['L. Balerdi'],\n",
       " [],\n",
       " ['B. Dia', 'B. Dia', 'N. Mbuku', 'B. Dia'],\n",
       " [],\n",
       " [],\n",
       " ['H. Diallo', 'K. Lala', 'L. Ajorque'],\n",
       " ['B. Yilmaz'],\n",
       " ['W. Ben Yedder'],\n",
       " ['A. Touré'],\n",
       " ['F. Honorat'],\n",
       " ['A. Herrera', 'K. Mbappé', 'P. Sarabia'],\n",
       " ['S. Mavididi'],\n",
       " ['R. Lopes', 'P. Lees-Melou', 'H. Boudaoui'],\n",
       " ['M. Gueye'],\n",
       " [],\n",
       " ['L. Ajorque'],\n",
       " [],\n",
       " ['M. Çelik'],\n",
       " ['S. Banza'],\n",
       " ['M. Sanson'],\n",
       " ['F. Mollet', 'A. Delort'],\n",
       " [],\n",
       " ['B. Yilmaz', 'B. Yilmaz'],\n",
       " ['M. Cafaro', 'B. Dia', 'F. Medina', 'B. Dia'],\n",
       " ['M. Baldé'],\n",
       " ['M. Pereira Lage', 'S. Bahoken', 'S. Bahoken', 'L. Diony', 'J. Cabot'],\n",
       " ['A. Bamba', 'L. Blas'],\n",
       " ['A. Disasi', 'S. Diop'],\n",
       " ['A. Lopes'],\n",
       " ['H. Ben Arfa'],\n",
       " ['K. Mbappé', 'K. Mbappé'],\n",
       " ['M. Camara'],\n",
       " ['A. Leya Iseka'],\n",
       " ['K. Lala', 'H. Diallo', 'L. Ajorque'],\n",
       " ['A. Kalimuendo'],\n",
       " ['R. Ripart'],\n",
       " ['T. Kadewere'],\n",
       " [],\n",
       " ['A. Gouiri', 'M. Sellouki'],\n",
       " ['A. Hunou'],\n",
       " ['L. Blas'],\n",
       " ['T. Pembélé', 'Y. Adli'],\n",
       " [],\n",
       " ['M. Pereira Lage', 'S. Bahoken', 'P. Capelle'],\n",
       " ['P. Skuletic'],\n",
       " [],\n",
       " ['I. Cardona', 'I. Cardona'],\n",
       " ['M. Baldé', 'G. Ngonda Muzinga', 'M. Baldé'],\n",
       " ['J. Ikoné'],\n",
       " ['D. Benedetto', 'V. Germain'],\n",
       " ['A. Kalimuendo', 'I. Ganago'],\n",
       " ['C. Dagba', 'M. Kean', 'K. Mbappé'],\n",
       " ['P. Pellegri'],\n",
       " [],\n",
       " [],\n",
       " ['D. Liénard', 'H. Diallo', 'L. Ajorque', 'K. Zohi'],\n",
       " [],\n",
       " [],\n",
       " ['M. Depay', 'K. Toko Ekambi', 'K. Toko Ekambi'],\n",
       " [],\n",
       " ['W. Ben Yedder'],\n",
       " ['S. Mavididi', 'P. Mendes', 'G. Laborde'],\n",
       " ['M. Niang'],\n",
       " ['A. Zeneli'],\n",
       " ['D. Bronn', 'O. Nguette'],\n",
       " ['M. Konaté'],\n",
       " [],\n",
       " ['T. Basic'],\n",
       " ['T. Kadewere'],\n",
       " ['Y. Yazici', 'T. Weah'],\n",
       " ['A. Leya Iseka', 'H. Maïga'],\n",
       " ['H. Diallo', 'L. Ajorque'],\n",
       " ['D. Ndoye', 'A. Claude-Maurice'],\n",
       " ['N. Pallois', 'L. Blas'],\n",
       " ['A. Lopes', 'R. Faivre'],\n",
       " [],\n",
       " ['P. Gueye'],\n",
       " ['I. Sylla', 'S. Banza', 'G. Kakuta'],\n",
       " ['A. Nordin', 'Y. Neyou'],\n",
       " [],\n",
       " ['Y. Nagatomo'],\n",
       " ['M. Depay', 'T. Kadewere', 'K. Toko Ekambi', 'H. Aouar'],\n",
       " ['G. Laborde', 'A. Delort'],\n",
       " ['K. Volland'],\n",
       " ['R. Thomas'],\n",
       " ['Pablo', 'Otavio'],\n",
       " ['M. Ahlinvi', 'R. Ripart'],\n",
       " ['D. Da Silva', 'B. Bourigeaud', 'M. Terrier'],\n",
       " [],\n",
       " [],\n",
       " ['G. Charbonnier'],\n",
       " ['Y. Abdelhamid', 'B. Dia', 'M. Munetsi'],\n",
       " ['T. Moffi', 'A. Grbic'],\n",
       " ['M. Konaté', 'M. Baldé', 'M. Konaté'],\n",
       " ['T. Weah', 'J. Ikoné', 'B. Yilmaz'],\n",
       " [],\n",
       " [],\n",
       " ['V. Rongier'],\n",
       " ['M. Debuchy', 'D. Bouanga'],\n",
       " [],\n",
       " ['A. Disasi', 'A. Golovine', 'K. Volland', 'S. Diop', 'G. Maripan'],\n",
       " [],\n",
       " [],\n",
       " [],\n",
       " ['F. Sotoca', 'C. Doucouré'],\n",
       " ['R. Thomas', 'R. Thomas'],\n",
       " ['M. Kean'],\n",
       " ['F. Mollet'],\n",
       " [],\n",
       " ['M. Depay', 'J. Denayer'],\n",
       " [],\n",
       " ['B. Yilmaz'],\n",
       " [],\n",
       " [],\n",
       " ['H. Diallo'],\n",
       " ['I. Louza'],\n",
       " ['A. Gouiri'],\n",
       " ['T. Moffi'],\n",
       " ['C. Abi'],\n",
       " ['K. Volland', 'W. Ben Yedder', 'W. Ben Yedder'],\n",
       " ['N. Eliasson', 'N. Eliasson'],\n",
       " ['L. Kurzawa'],\n",
       " ['B. Bourigeaud', 'C. Grenier'],\n",
       " ['G. Kakuta'],\n",
       " ['U. Hwang', 'P. Baysse', 'T. Basic'],\n",
       " [],\n",
       " ['A. Zeneli'],\n",
       " ['A. Leya Iseka'],\n",
       " ['B. Ecuele Manga', 'M. Baldé'],\n",
       " [],\n",
       " ['Y. Atal'],\n",
       " ['N. Radonjic'],\n",
       " ['A. Fulgini'],\n",
       " [],\n",
       " [],\n",
       " ['L. Ajorque'],\n",
       " ['J. David'],\n",
       " ['T. Kadewere', 'Marcelo', 'Marcelo', 'T. Kadewere', 'D. Bouanga'],\n",
       " [],\n",
       " ['S. Kalu'],\n",
       " ['C. Doucouré', 'G. Kakuta'],\n",
       " ['C. Abi'],\n",
       " ['Neymar', 'Neymar'],\n",
       " ['F. Boulaya', 'P. Sarr', 'P. Yade', 'V. Dias Goncalves'],\n",
       " ['R. Ripart'],\n",
       " ['D. Kutesa'],\n",
       " [],\n",
       " ['G. Maripan', 'K. Volland'],\n",
       " [],\n",
       " ['Y. Yazici', 'T. Weah', 'J. David'],\n",
       " ['Q. Boisgard'],\n",
       " ['G. Laborde'],\n",
       " [],\n",
       " ['G. Charbonnier', 'J. Le Douaron'],\n",
       " ['L. Paqueta'],\n",
       " [],\n",
       " ['P. Lees-Melou'],\n",
       " ['F. Thauvin', 'A. Milik'],\n",
       " ['R. Kolo Muani'],\n",
       " [],\n",
       " [],\n",
       " [],\n",
       " ['U. Hwang'],\n",
       " ['A. Golovine', 'A. Golovine', 'A. Golovine', 'K. Volland'],\n",
       " [],\n",
       " [],\n",
       " ['S. Coulibaly', 'M. Konaté'],\n",
       " ['J. David', 'J. David'],\n",
       " ['K. Mbappé', 'M. Icardi'],\n",
       " ['R. Lopes'],\n",
       " ['F. Sotoca'],\n",
       " ['T. Savanier', 'S. Wahi'],\n",
       " ['T. Moffi', 'T. Moffi'],\n",
       " ['D. Bouanga', 'A. Nordin'],\n",
       " ['A. Thomasson', 'A. Thomasson'],\n",
       " ['M. Simon', 'I. Louza', 'A. Bamba'],\n",
       " ['R. Ripart', 'N. Eliasson'],\n",
       " [],\n",
       " [],\n",
       " ['L. Paqueta', 'H. Aouar', 'M. Depay'],\n",
       " ['E. Touré'],\n",
       " ['D. Payet'],\n",
       " ['S. Guirassy'],\n",
       " ['G. Ngonda Muzinga'],\n",
       " ['B. Kouyaté', 'M. Gueye'],\n",
       " [],\n",
       " [],\n",
       " ['A. Gravillon', 'J. Fonte', 'J. Ikoné', 'D. Bradaric'],\n",
       " ['S. Diop', 'G. Maripan'],\n",
       " ['A. Gouiri', 'F. Daniliuc'],\n",
       " ['T. Delaine', 'V. Dias Goncalves'],\n",
       " ['M. Kean', 'K. Mbappé', 'K. Mbappé', 'D. Pereira'],\n",
       " [],\n",
       " ['J. Clauss', 'A. Kalimuendo'],\n",
       " [],\n",
       " ['H. Moukoudi'],\n",
       " ['L. Blas'],\n",
       " ['L. Ajorque'],\n",
       " ['K. Toko Ekambi'],\n",
       " [],\n",
       " ['A. Fulgini'],\n",
       " ['F. Sotoca', 'A. Kalimuendo', 'D. Pereira Da Costa'],\n",
       " ['L. Landre'],\n",
       " ['R. Assalé'],\n",
       " [],\n",
       " ['P. Sarabia'],\n",
       " [],\n",
       " ['A. Grbic'],\n",
       " ['G. Konan', 'Y. Abdelhamid'],\n",
       " ['T. Kadewere'],\n",
       " ['W. Khazri'],\n",
       " ['L. Brassier'],\n",
       " ['A. Delort'],\n",
       " ['V. Dias Goncalves', 'T. Delaine'],\n",
       " [],\n",
       " ['M. Maolida'],\n",
       " ['U. Hwang', 'U. Hwang', 'N. De Préville'],\n",
       " [],\n",
       " ['R. Kolo Muani', 'M. Simon'],\n",
       " ['S. Jovetic', 'A. Tchouaméni', 'S. Diop', 'K. Diatta'],\n",
       " ['J. Doku', 'M. Terrier', 'S. Guirassy'],\n",
       " [],\n",
       " ['M. Haïdara', 'S. Fofana'],\n",
       " ['U. Hwang'],\n",
       " [],\n",
       " ['B. Dia'],\n",
       " ['A. Laurienté'],\n",
       " ['M. Koné', 'R. Ripart'],\n",
       " ['K. Mbappé', 'D. Pereira', 'A. Di Maria', 'K. Mbappé'],\n",
       " [],\n",
       " ['J. David'],\n",
       " ['L. Paqueta'],\n",
       " ['S. Mavididi'],\n",
       " ['S. Guirassy', 'S. Guirassy'],\n",
       " ['K. Dolberg', 'K. Dolberg'],\n",
       " ['L. Koné', 'H. Diallo', 'L. Ajorque'],\n",
       " [],\n",
       " ['W. Khazri', 'D. Bouanga'],\n",
       " [],\n",
       " ['B. Yilmaz', 'M. Çelik'],\n",
       " ['K. Mbappé', 'P. Sarabia', 'M. Kean', 'L. Paredes'],\n",
       " ['A. Milik', 'P. Gueye', 'L. Perrin'],\n",
       " [],\n",
       " ['T. Moffi'],\n",
       " [],\n",
       " ['U. Hwang'],\n",
       " ['M. Koné'],\n",
       " [],\n",
       " [],\n",
       " ['A. Delort'],\n",
       " ['J. Doku', 'M. Terrier', 'S. Guirassy'],\n",
       " ['T. Moffi', 'T. Moffi'],\n",
       " ['D. Bouanga', 'R. Hamouma'],\n",
       " ['G. Kakuta'],\n",
       " [],\n",
       " [],\n",
       " ['D. Liénard'],\n",
       " ['K. Volland', 'G. Martins', 'S. Jovetic'],\n",
       " ['M. Depay', 'M. Depay'],\n",
       " ['D. Payet', 'A. Milik', 'D. Payet'],\n",
       " ['G. Charbonnier', 'G. Charbonnier'],\n",
       " ['K. Mbappé', 'K. Mbappé', 'M. Icardi'],\n",
       " ['G. Laborde'],\n",
       " ['Z. Ferhat'],\n",
       " ['Y. Benzia'],\n",
       " ['J. Castelletto', 'L. Blas'],\n",
       " ['I. Sissokho'],\n",
       " ['W. Ben Yedder'],\n",
       " ['B. Yilmaz', 'J. David', 'B. Yilmaz'],\n",
       " ['S. Mitrovic'],\n",
       " ['I. Ganago'],\n",
       " [],\n",
       " [],\n",
       " ['M. Gueye', 'P. Sarr', 'F. Chafik', 'V. Dias Goncalves', 'D. Bronn'],\n",
       " ['N. Mbuku', 'A. Flips'],\n",
       " [],\n",
       " ['M. Simon', 'L. Blas', 'I. Louza', 'K. Coulibaly'],\n",
       " ['R. Hamouma', 'M. Debuchy'],\n",
       " ['M. Depay', 'Marcelo', 'R. Cherki'],\n",
       " ['B. Yilmaz', 'B. Yilmaz', 'J. David'],\n",
       " [],\n",
       " ['T. Monconduit'],\n",
       " [],\n",
       " ['G. Laborde', 'A. Delort', 'G. Laborde'],\n",
       " ['L. Fomba', 'R. Ripart', 'Z. Ferhat'],\n",
       " ['S. Mounié', 'S. Mounié'],\n",
       " [],\n",
       " ['E. Matazo'],\n",
       " ['Neymar'],\n",
       " [],\n",
       " [],\n",
       " ['A. Disasi'],\n",
       " ['L. Paqueta', 'M. Depay', 'L. Paqueta', 'H. Aouar', 'I. Slimani'],\n",
       " ['M. Pereira Lage', 'R. Thomas'],\n",
       " [],\n",
       " [],\n",
       " ['L. Ajorque', 'L. Ajorque'],\n",
       " ['B. Traoré'],\n",
       " ['K. Coulibaly', 'R. Kolo Muani', 'L. Blas', 'R. Kolo Muani'],\n",
       " ['J. David', 'B. Yilmaz'],\n",
       " ['R. Faivre', 'K. Mbappé'],\n",
       " [],\n",
       " ['K. Dolberg', 'H. Kamara', 'W. Saliba'],\n",
       " ['A. Milik'],\n",
       " [],\n",
       " ['G. Laborde', 'A. Delort'],\n",
       " ['A. Kamara'],\n",
       " ['Y. Adli', 'E. Kwateng'],\n",
       " ['T. Chalobah']]"
      ]
     },
     "execution_count": 35,
     "metadata": {},
     "output_type": "execute_result"
    }
   ],
   "source": [
    "# create database\n",
    "exterior_team_goals"
   ]
  },
  {
   "cell_type": "code",
   "execution_count": 36,
   "metadata": {},
   "outputs": [],
   "source": [
    "df_matches_score['goals_domicile'] = home_team_goals"
   ]
  },
  {
   "cell_type": "code",
   "execution_count": 37,
   "metadata": {},
   "outputs": [],
   "source": [
    "df_matches_score['goals_exterieur'] = exterior_team_goals"
   ]
  },
  {
   "cell_type": "code",
   "execution_count": 106,
   "metadata": {},
   "outputs": [
    {
     "data": {
      "text/html": [
       "<div>\n",
       "<style scoped>\n",
       "    .dataframe tbody tr th:only-of-type {\n",
       "        vertical-align: middle;\n",
       "    }\n",
       "\n",
       "    .dataframe tbody tr th {\n",
       "        vertical-align: top;\n",
       "    }\n",
       "\n",
       "    .dataframe thead th {\n",
       "        text-align: right;\n",
       "    }\n",
       "</style>\n",
       "<table border=\"1\" class=\"dataframe\">\n",
       "  <thead>\n",
       "    <tr style=\"text-align: right;\">\n",
       "      <th></th>\n",
       "      <th>date</th>\n",
       "      <th>place</th>\n",
       "      <th>team_domicile</th>\n",
       "      <th>team_exterieur</th>\n",
       "      <th>score_domicile</th>\n",
       "      <th>score_exterieur</th>\n",
       "      <th>vainqueur</th>\n",
       "      <th>goals_domicile</th>\n",
       "      <th>goals_exterieur</th>\n",
       "    </tr>\n",
       "  </thead>\n",
       "  <tbody>\n",
       "    <tr>\n",
       "      <th>0</th>\n",
       "      <td>2020-08-21T19:00:00+0200</td>\n",
       "      <td>Bordeaux</td>\n",
       "      <td>Bordeaux</td>\n",
       "      <td>Nantes</td>\n",
       "      <td>0</td>\n",
       "      <td>0</td>\n",
       "      <td>ex-aequo</td>\n",
       "      <td>[]</td>\n",
       "      <td>[]</td>\n",
       "    </tr>\n",
       "    <tr>\n",
       "      <th>1</th>\n",
       "      <td>2020-08-22T17:00:00+0200</td>\n",
       "      <td>Dijon</td>\n",
       "      <td>Dijon</td>\n",
       "      <td>Angers</td>\n",
       "      <td>0</td>\n",
       "      <td>1</td>\n",
       "      <td>exterieur</td>\n",
       "      <td>[]</td>\n",
       "      <td>[I. Traoré]</td>\n",
       "    </tr>\n",
       "    <tr>\n",
       "      <th>2</th>\n",
       "      <td>2020-08-22T21:00:00+0200</td>\n",
       "      <td>Lille</td>\n",
       "      <td>Lille</td>\n",
       "      <td>Rennes</td>\n",
       "      <td>1</td>\n",
       "      <td>1</td>\n",
       "      <td>ex-aequo</td>\n",
       "      <td>[J. Bamba]</td>\n",
       "      <td>[D. Da Silva]</td>\n",
       "    </tr>\n",
       "    <tr>\n",
       "      <th>3</th>\n",
       "      <td>2020-08-23T13:00:00+0200</td>\n",
       "      <td>Monaco</td>\n",
       "      <td>Monaco</td>\n",
       "      <td>Reims</td>\n",
       "      <td>2</td>\n",
       "      <td>2</td>\n",
       "      <td>ex-aequo</td>\n",
       "      <td>[A. Disasi, B. Badiashile]</td>\n",
       "      <td>[B. Dia, E. Touré]</td>\n",
       "    </tr>\n",
       "    <tr>\n",
       "      <th>4</th>\n",
       "      <td>2020-08-23T15:00:00+0200</td>\n",
       "      <td>Lorient</td>\n",
       "      <td>Lorient</td>\n",
       "      <td>Strasbourg</td>\n",
       "      <td>3</td>\n",
       "      <td>1</td>\n",
       "      <td>domicile</td>\n",
       "      <td>[Y. Wissa, A. Grbic, P. Hamel]</td>\n",
       "      <td>[M. Chahiri]</td>\n",
       "    </tr>\n",
       "    <tr>\n",
       "      <th>5</th>\n",
       "      <td>2020-08-23T15:00:00+0200</td>\n",
       "      <td>Nîmes</td>\n",
       "      <td>Nîmes</td>\n",
       "      <td>Brest</td>\n",
       "      <td>4</td>\n",
       "      <td>0</td>\n",
       "      <td>domicile</td>\n",
       "      <td>[K. Denkey, B. Meling, R. Philippoteaux, M. Koné]</td>\n",
       "      <td>[]</td>\n",
       "    </tr>\n",
       "    <tr>\n",
       "      <th>6</th>\n",
       "      <td>2020-08-23T17:00:00+0200</td>\n",
       "      <td>Nice</td>\n",
       "      <td>Nice</td>\n",
       "      <td>Lens</td>\n",
       "      <td>2</td>\n",
       "      <td>1</td>\n",
       "      <td>domicile</td>\n",
       "      <td>[A. Gouiri, A. Gouiri]</td>\n",
       "      <td>[G. Kakuta]</td>\n",
       "    </tr>\n",
       "    <tr>\n",
       "      <th>7</th>\n",
       "      <td>2020-09-15T21:00:00+0200</td>\n",
       "      <td>Montpellier</td>\n",
       "      <td>Montpellier</td>\n",
       "      <td>Lyon</td>\n",
       "      <td>2</td>\n",
       "      <td>1</td>\n",
       "      <td>domicile</td>\n",
       "      <td>[T. Savanier, T. Savanier]</td>\n",
       "      <td>[M. Depay]</td>\n",
       "    </tr>\n",
       "    <tr>\n",
       "      <th>8</th>\n",
       "      <td>2020-09-16T21:00:00+0200</td>\n",
       "      <td>Paris</td>\n",
       "      <td>Paris-SG</td>\n",
       "      <td>Metz</td>\n",
       "      <td>1</td>\n",
       "      <td>0</td>\n",
       "      <td>domicile</td>\n",
       "      <td>[J. Draxler]</td>\n",
       "      <td>[]</td>\n",
       "    </tr>\n",
       "    <tr>\n",
       "      <th>9</th>\n",
       "      <td>2020-09-17T21:00:00+0200</td>\n",
       "      <td>Marseille</td>\n",
       "      <td>Marseille</td>\n",
       "      <td>Saint-Étienne</td>\n",
       "      <td>0</td>\n",
       "      <td>2</td>\n",
       "      <td>exterieur</td>\n",
       "      <td>[]</td>\n",
       "      <td>[R. Hamouma, D. Bouanga]</td>\n",
       "    </tr>\n",
       "    <tr>\n",
       "      <th>10</th>\n",
       "      <td>2020-08-28T21:00:00+0200</td>\n",
       "      <td>Lyon</td>\n",
       "      <td>Lyon</td>\n",
       "      <td>Dijon</td>\n",
       "      <td>4</td>\n",
       "      <td>1</td>\n",
       "      <td>domicile</td>\n",
       "      <td>[M. Depay, W. Lautoa, M. Depay, M. Depay]</td>\n",
       "      <td>[A. Scheidler]</td>\n",
       "    </tr>\n",
       "    <tr>\n",
       "      <th>11</th>\n",
       "      <td>2020-08-29T17:00:00+0200</td>\n",
       "      <td>Rennes</td>\n",
       "      <td>Rennes</td>\n",
       "      <td>Montpellier</td>\n",
       "      <td>2</td>\n",
       "      <td>1</td>\n",
       "      <td>domicile</td>\n",
       "      <td>[D. Le Tallec, E. Camavinga]</td>\n",
       "      <td>[G. Laborde]</td>\n",
       "    </tr>\n",
       "    <tr>\n",
       "      <th>12</th>\n",
       "      <td>2020-08-29T21:00:00+0200</td>\n",
       "      <td>Strasbourg</td>\n",
       "      <td>Strasbourg</td>\n",
       "      <td>Nice</td>\n",
       "      <td>0</td>\n",
       "      <td>2</td>\n",
       "      <td>exterieur</td>\n",
       "      <td>[]</td>\n",
       "      <td>[K. Dolberg, K. Dolberg]</td>\n",
       "    </tr>\n",
       "    <tr>\n",
       "      <th>13</th>\n",
       "      <td>2020-08-30T13:00:00+0200</td>\n",
       "      <td>Reims</td>\n",
       "      <td>Reims</td>\n",
       "      <td>Lille</td>\n",
       "      <td>0</td>\n",
       "      <td>1</td>\n",
       "      <td>exterieur</td>\n",
       "      <td>[]</td>\n",
       "      <td>[J. Bamba]</td>\n",
       "    </tr>\n",
       "    <tr>\n",
       "      <th>14</th>\n",
       "      <td>2020-08-30T15:00:00+0200</td>\n",
       "      <td>Nantes</td>\n",
       "      <td>Nantes</td>\n",
       "      <td>Nîmes</td>\n",
       "      <td>2</td>\n",
       "      <td>1</td>\n",
       "      <td>domicile</td>\n",
       "      <td>[A. Girotto, I. Louza]</td>\n",
       "      <td>[Z. Ferhat]</td>\n",
       "    </tr>\n",
       "    <tr>\n",
       "      <th>15</th>\n",
       "      <td>2020-08-30T15:00:00+0200</td>\n",
       "      <td>Saint-Étienne</td>\n",
       "      <td>Saint-Étienne</td>\n",
       "      <td>Lorient</td>\n",
       "      <td>2</td>\n",
       "      <td>0</td>\n",
       "      <td>domicile</td>\n",
       "      <td>[R. Hamouma, R. Hamouma]</td>\n",
       "      <td>[]</td>\n",
       "    </tr>\n",
       "    <tr>\n",
       "      <th>16</th>\n",
       "      <td>2020-08-30T15:00:00+0200</td>\n",
       "      <td>Angers</td>\n",
       "      <td>Angers</td>\n",
       "      <td>Bordeaux</td>\n",
       "      <td>0</td>\n",
       "      <td>2</td>\n",
       "      <td>exterieur</td>\n",
       "      <td>[]</td>\n",
       "      <td>[J. Maja, T. Basic]</td>\n",
       "    </tr>\n",
       "    <tr>\n",
       "      <th>17</th>\n",
       "      <td>2020-08-30T15:00:00+0200</td>\n",
       "      <td>Metz</td>\n",
       "      <td>Metz</td>\n",
       "      <td>Monaco</td>\n",
       "      <td>0</td>\n",
       "      <td>1</td>\n",
       "      <td>exterieur</td>\n",
       "      <td>[]</td>\n",
       "      <td>[B. Badiashile]</td>\n",
       "    </tr>\n",
       "    <tr>\n",
       "      <th>18</th>\n",
       "      <td>2020-08-30T21:00:00+0200</td>\n",
       "      <td>Brest</td>\n",
       "      <td>Brest</td>\n",
       "      <td>Marseille</td>\n",
       "      <td>2</td>\n",
       "      <td>3</td>\n",
       "      <td>exterieur</td>\n",
       "      <td>[R. Faivre, G. Charbonnier]</td>\n",
       "      <td>[F. Thauvin, D. Caleta-Car, D. Caleta-Car]</td>\n",
       "    </tr>\n",
       "    <tr>\n",
       "      <th>19</th>\n",
       "      <td>2020-09-10T21:00:00+0200</td>\n",
       "      <td>Lens</td>\n",
       "      <td>Lens</td>\n",
       "      <td>Paris-SG</td>\n",
       "      <td>1</td>\n",
       "      <td>0</td>\n",
       "      <td>domicile</td>\n",
       "      <td>[I. Ganago]</td>\n",
       "      <td>[]</td>\n",
       "    </tr>\n",
       "    <tr>\n",
       "      <th>20</th>\n",
       "      <td>2020-09-11T21:00:00+0200</td>\n",
       "      <td>Bordeaux</td>\n",
       "      <td>Bordeaux</td>\n",
       "      <td>Lyon</td>\n",
       "      <td>0</td>\n",
       "      <td>0</td>\n",
       "      <td>ex-aequo</td>\n",
       "      <td>[]</td>\n",
       "      <td>[]</td>\n",
       "    </tr>\n",
       "    <tr>\n",
       "      <th>21</th>\n",
       "      <td>2020-09-12T17:00:00+0200</td>\n",
       "      <td>Montpellier</td>\n",
       "      <td>Montpellier</td>\n",
       "      <td>Nice</td>\n",
       "      <td>3</td>\n",
       "      <td>1</td>\n",
       "      <td>domicile</td>\n",
       "      <td>[G. Laborde, D. Congré, D. Congré]</td>\n",
       "      <td>[Dante]</td>\n",
       "    </tr>\n",
       "    <tr>\n",
       "      <th>22</th>\n",
       "      <td>2020-09-12T21:00:00+0200</td>\n",
       "      <td>Saint-Étienne</td>\n",
       "      <td>Saint-Étienne</td>\n",
       "      <td>Strasbourg</td>\n",
       "      <td>2</td>\n",
       "      <td>0</td>\n",
       "      <td>domicile</td>\n",
       "      <td>[D. Bouanga, M. Camara]</td>\n",
       "      <td>[]</td>\n",
       "    </tr>\n",
       "    <tr>\n",
       "      <th>23</th>\n",
       "      <td>2020-09-13T13:00:00+0200</td>\n",
       "      <td>Lille</td>\n",
       "      <td>Lille</td>\n",
       "      <td>Metz</td>\n",
       "      <td>1</td>\n",
       "      <td>0</td>\n",
       "      <td>domicile</td>\n",
       "      <td>[L. Araujo]</td>\n",
       "      <td>[]</td>\n",
       "    </tr>\n",
       "    <tr>\n",
       "      <th>24</th>\n",
       "      <td>2020-09-13T15:00:00+0200</td>\n",
       "      <td>Nîmes</td>\n",
       "      <td>Nîmes</td>\n",
       "      <td>Rennes</td>\n",
       "      <td>2</td>\n",
       "      <td>4</td>\n",
       "      <td>exterieur</td>\n",
       "      <td>[A. Cubas, Z. Ferhat]</td>\n",
       "      <td>[S. Guirassy, S. Guirassy, N. Aguerd, B. Bouri...</td>\n",
       "    </tr>\n",
       "    <tr>\n",
       "      <th>25</th>\n",
       "      <td>2020-09-13T15:00:00+0200</td>\n",
       "      <td>Lorient</td>\n",
       "      <td>Lorient</td>\n",
       "      <td>Lens</td>\n",
       "      <td>2</td>\n",
       "      <td>3</td>\n",
       "      <td>exterieur</td>\n",
       "      <td>[A. Grbic, Y. Wissa]</td>\n",
       "      <td>[G. Kakuta, F. Medina, I. Ganago]</td>\n",
       "    </tr>\n",
       "    <tr>\n",
       "      <th>26</th>\n",
       "      <td>2020-09-13T15:00:00+0200</td>\n",
       "      <td>Angers</td>\n",
       "      <td>Angers</td>\n",
       "      <td>Reims</td>\n",
       "      <td>1</td>\n",
       "      <td>0</td>\n",
       "      <td>domicile</td>\n",
       "      <td>[S. Bahoken]</td>\n",
       "      <td>[]</td>\n",
       "    </tr>\n",
       "    <tr>\n",
       "      <th>27</th>\n",
       "      <td>2020-09-13T15:00:00+0200</td>\n",
       "      <td>Dijon</td>\n",
       "      <td>Dijon</td>\n",
       "      <td>Brest</td>\n",
       "      <td>0</td>\n",
       "      <td>2</td>\n",
       "      <td>exterieur</td>\n",
       "      <td>[]</td>\n",
       "      <td>[R. Perraud, I. Cardona]</td>\n",
       "    </tr>\n",
       "    <tr>\n",
       "      <th>28</th>\n",
       "      <td>2020-09-13T17:00:00+0200</td>\n",
       "      <td>Monaco</td>\n",
       "      <td>Monaco</td>\n",
       "      <td>Nantes</td>\n",
       "      <td>2</td>\n",
       "      <td>1</td>\n",
       "      <td>domicile</td>\n",
       "      <td>[S. Diop, W. Geubbels]</td>\n",
       "      <td>[L. Blas]</td>\n",
       "    </tr>\n",
       "    <tr>\n",
       "      <th>29</th>\n",
       "      <td>2020-09-13T21:00:00+0200</td>\n",
       "      <td>Paris</td>\n",
       "      <td>Paris-SG</td>\n",
       "      <td>Marseille</td>\n",
       "      <td>0</td>\n",
       "      <td>1</td>\n",
       "      <td>exterieur</td>\n",
       "      <td>[]</td>\n",
       "      <td>[F. Thauvin]</td>\n",
       "    </tr>\n",
       "    <tr>\n",
       "      <th>30</th>\n",
       "      <td>2020-09-18T21:00:00+0200</td>\n",
       "      <td>Lyon</td>\n",
       "      <td>Lyon</td>\n",
       "      <td>Nîmes</td>\n",
       "      <td>0</td>\n",
       "      <td>0</td>\n",
       "      <td>ex-aequo</td>\n",
       "      <td>[]</td>\n",
       "      <td>[]</td>\n",
       "    </tr>\n",
       "    <tr>\n",
       "      <th>31</th>\n",
       "      <td>2020-09-19T17:00:00+0200</td>\n",
       "      <td>Lens</td>\n",
       "      <td>Lens</td>\n",
       "      <td>Bordeaux</td>\n",
       "      <td>2</td>\n",
       "      <td>1</td>\n",
       "      <td>domicile</td>\n",
       "      <td>[I. Ganago, G. Kakuta]</td>\n",
       "      <td>[S. Kalu]</td>\n",
       "    </tr>\n",
       "    <tr>\n",
       "      <th>32</th>\n",
       "      <td>2020-09-19T21:00:00+0200</td>\n",
       "      <td>Rennes</td>\n",
       "      <td>Rennes</td>\n",
       "      <td>Monaco</td>\n",
       "      <td>2</td>\n",
       "      <td>1</td>\n",
       "      <td>domicile</td>\n",
       "      <td>[S. Nzonzi, A. Truffert]</td>\n",
       "      <td>[W. Ben Yedder]</td>\n",
       "    </tr>\n",
       "    <tr>\n",
       "      <th>33</th>\n",
       "      <td>2020-09-20T13:00:00+0200</td>\n",
       "      <td>Nice</td>\n",
       "      <td>Nice</td>\n",
       "      <td>Paris-SG</td>\n",
       "      <td>0</td>\n",
       "      <td>3</td>\n",
       "      <td>exterieur</td>\n",
       "      <td>[]</td>\n",
       "      <td>[K. Mbappé, A. Di Maria, Marquinhos]</td>\n",
       "    </tr>\n",
       "    <tr>\n",
       "      <th>34</th>\n",
       "      <td>2020-09-20T15:00:00+0200</td>\n",
       "      <td>Montpellier</td>\n",
       "      <td>Montpellier</td>\n",
       "      <td>Angers</td>\n",
       "      <td>4</td>\n",
       "      <td>1</td>\n",
       "      <td>domicile</td>\n",
       "      <td>[A. Souquet, A. Delort, A. Delort, F. Mollet]</td>\n",
       "      <td>[S. Bahoken]</td>\n",
       "    </tr>\n",
       "    <tr>\n",
       "      <th>35</th>\n",
       "      <td>2020-09-20T15:00:00+0200</td>\n",
       "      <td>Brest</td>\n",
       "      <td>Brest</td>\n",
       "      <td>Lorient</td>\n",
       "      <td>3</td>\n",
       "      <td>2</td>\n",
       "      <td>domicile</td>\n",
       "      <td>[R. Perraud, S. Mounié, F. Honorat]</td>\n",
       "      <td>[C. Hérelle, T. Monconduit]</td>\n",
       "    </tr>\n",
       "    <tr>\n",
       "      <th>36</th>\n",
       "      <td>2020-09-20T15:00:00+0200</td>\n",
       "      <td>Metz</td>\n",
       "      <td>Metz</td>\n",
       "      <td>Reims</td>\n",
       "      <td>2</td>\n",
       "      <td>1</td>\n",
       "      <td>domicile</td>\n",
       "      <td>[I. Niane, I. Niane]</td>\n",
       "      <td>[B. Dia]</td>\n",
       "    </tr>\n",
       "    <tr>\n",
       "      <th>37</th>\n",
       "      <td>2020-09-20T15:00:00+0200</td>\n",
       "      <td>Strasbourg</td>\n",
       "      <td>Strasbourg</td>\n",
       "      <td>Dijon</td>\n",
       "      <td>1</td>\n",
       "      <td>0</td>\n",
       "      <td>domicile</td>\n",
       "      <td>[S. Mitrovic]</td>\n",
       "      <td>[]</td>\n",
       "    </tr>\n",
       "    <tr>\n",
       "      <th>38</th>\n",
       "      <td>2020-09-20T17:00:00+0200</td>\n",
       "      <td>Nantes</td>\n",
       "      <td>Nantes</td>\n",
       "      <td>Saint-Étienne</td>\n",
       "      <td>2</td>\n",
       "      <td>2</td>\n",
       "      <td>ex-aequo</td>\n",
       "      <td>[M. Simon, R. Emond]</td>\n",
       "      <td>[A. Aouchiche, Y. Maçon]</td>\n",
       "    </tr>\n",
       "    <tr>\n",
       "      <th>39</th>\n",
       "      <td>2020-09-20T21:00:00+0200</td>\n",
       "      <td>Marseille</td>\n",
       "      <td>Marseille</td>\n",
       "      <td>Lille</td>\n",
       "      <td>1</td>\n",
       "      <td>1</td>\n",
       "      <td>ex-aequo</td>\n",
       "      <td>[V. Germain]</td>\n",
       "      <td>[L. Araujo]</td>\n",
       "    </tr>\n",
       "    <tr>\n",
       "      <th>40</th>\n",
       "      <td>2020-09-25T21:00:00+0200</td>\n",
       "      <td>Lille</td>\n",
       "      <td>Lille</td>\n",
       "      <td>Nantes</td>\n",
       "      <td>2</td>\n",
       "      <td>0</td>\n",
       "      <td>domicile</td>\n",
       "      <td>[N. Pallois, B. Yilmaz]</td>\n",
       "      <td>[]</td>\n",
       "    </tr>\n",
       "    <tr>\n",
       "      <th>41</th>\n",
       "      <td>2020-09-26T17:00:00+0200</td>\n",
       "      <td>Saint-Étienne</td>\n",
       "      <td>Saint-Étienne</td>\n",
       "      <td>Rennes</td>\n",
       "      <td>0</td>\n",
       "      <td>3</td>\n",
       "      <td>exterieur</td>\n",
       "      <td>[]</td>\n",
       "      <td>[N. Aguerd, S. Guirassy, A. Hunou]</td>\n",
       "    </tr>\n",
       "    <tr>\n",
       "      <th>42</th>\n",
       "      <td>2020-09-26T21:00:00+0200</td>\n",
       "      <td>Marseille</td>\n",
       "      <td>Marseille</td>\n",
       "      <td>Metz</td>\n",
       "      <td>1</td>\n",
       "      <td>1</td>\n",
       "      <td>ex-aequo</td>\n",
       "      <td>[M. Sanson]</td>\n",
       "      <td>[I. Niane]</td>\n",
       "    </tr>\n",
       "    <tr>\n",
       "      <th>43</th>\n",
       "      <td>2020-09-27T13:00:00+0200</td>\n",
       "      <td>Bordeaux</td>\n",
       "      <td>Bordeaux</td>\n",
       "      <td>Nice</td>\n",
       "      <td>0</td>\n",
       "      <td>0</td>\n",
       "      <td>ex-aequo</td>\n",
       "      <td>[]</td>\n",
       "      <td>[]</td>\n",
       "    </tr>\n",
       "    <tr>\n",
       "      <th>44</th>\n",
       "      <td>2020-09-27T15:00:00+0200</td>\n",
       "      <td>Dijon</td>\n",
       "      <td>Dijon</td>\n",
       "      <td>Montpellier</td>\n",
       "      <td>2</td>\n",
       "      <td>2</td>\n",
       "      <td>ex-aequo</td>\n",
       "      <td>[E. Dina Ebimbe, B. Ecuele Manga]</td>\n",
       "      <td>[A. Delort, T. Savanier]</td>\n",
       "    </tr>\n",
       "    <tr>\n",
       "      <th>45</th>\n",
       "      <td>2020-09-27T15:00:00+0200</td>\n",
       "      <td>Nîmes</td>\n",
       "      <td>Nîmes</td>\n",
       "      <td>Lens</td>\n",
       "      <td>1</td>\n",
       "      <td>1</td>\n",
       "      <td>ex-aequo</td>\n",
       "      <td>[Z. Ferhat]</td>\n",
       "      <td>[I. Ganago]</td>\n",
       "    </tr>\n",
       "    <tr>\n",
       "      <th>46</th>\n",
       "      <td>2020-09-27T15:00:00+0200</td>\n",
       "      <td>Monaco</td>\n",
       "      <td>Monaco</td>\n",
       "      <td>Strasbourg</td>\n",
       "      <td>3</td>\n",
       "      <td>2</td>\n",
       "      <td>domicile</td>\n",
       "      <td>[W. Ben Yedder, R. Aguilar, W. Ben Yedder]</td>\n",
       "      <td>[M. Chahiri, L. Ajorque]</td>\n",
       "    </tr>\n",
       "    <tr>\n",
       "      <th>47</th>\n",
       "      <td>2020-09-27T15:00:00+0200</td>\n",
       "      <td>Angers</td>\n",
       "      <td>Angers</td>\n",
       "      <td>Brest</td>\n",
       "      <td>3</td>\n",
       "      <td>2</td>\n",
       "      <td>domicile</td>\n",
       "      <td>[S. Thioub, I. Traoré, A. Fulgini]</td>\n",
       "      <td>[S. Mounié, G. Charbonnier]</td>\n",
       "    </tr>\n",
       "    <tr>\n",
       "      <th>48</th>\n",
       "      <td>2020-09-27T17:00:00+0200</td>\n",
       "      <td>Lorient</td>\n",
       "      <td>Lorient</td>\n",
       "      <td>Lyon</td>\n",
       "      <td>1</td>\n",
       "      <td>1</td>\n",
       "      <td>ex-aequo</td>\n",
       "      <td>[Y. Wissa]</td>\n",
       "      <td>[L. Dubois]</td>\n",
       "    </tr>\n",
       "    <tr>\n",
       "      <th>49</th>\n",
       "      <td>2020-09-27T21:00:00+0200</td>\n",
       "      <td>Reims</td>\n",
       "      <td>Reims</td>\n",
       "      <td>Paris-SG</td>\n",
       "      <td>0</td>\n",
       "      <td>2</td>\n",
       "      <td>exterieur</td>\n",
       "      <td>[]</td>\n",
       "      <td>[M. Icardi, M. Icardi]</td>\n",
       "    </tr>\n",
       "    <tr>\n",
       "      <th>50</th>\n",
       "      <td>2020-10-02T21:00:00+0200</td>\n",
       "      <td>Paris</td>\n",
       "      <td>Paris-SG</td>\n",
       "      <td>Angers</td>\n",
       "      <td>6</td>\n",
       "      <td>1</td>\n",
       "      <td>domicile</td>\n",
       "      <td>[A. Florenzi, Neymar, Neymar, J. Draxler, I. G...</td>\n",
       "      <td>[I. Traoré]</td>\n",
       "    </tr>\n",
       "    <tr>\n",
       "      <th>51</th>\n",
       "      <td>2020-10-03T17:00:00+0200</td>\n",
       "      <td>Lens</td>\n",
       "      <td>Lens</td>\n",
       "      <td>Saint-Étienne</td>\n",
       "      <td>2</td>\n",
       "      <td>0</td>\n",
       "      <td>domicile</td>\n",
       "      <td>[G. Kakuta, F. Sotoca]</td>\n",
       "      <td>[]</td>\n",
       "    </tr>\n",
       "    <tr>\n",
       "      <th>52</th>\n",
       "      <td>2020-10-03T21:00:00+0200</td>\n",
       "      <td>Nice</td>\n",
       "      <td>Nice</td>\n",
       "      <td>Nantes</td>\n",
       "      <td>2</td>\n",
       "      <td>1</td>\n",
       "      <td>domicile</td>\n",
       "      <td>[Dante, K. Thuram]</td>\n",
       "      <td>[I. Louza]</td>\n",
       "    </tr>\n",
       "    <tr>\n",
       "      <th>53</th>\n",
       "      <td>2020-10-04T13:00:00+0200</td>\n",
       "      <td>Montpellier</td>\n",
       "      <td>Montpellier</td>\n",
       "      <td>Nîmes</td>\n",
       "      <td>0</td>\n",
       "      <td>1</td>\n",
       "      <td>exterieur</td>\n",
       "      <td>[]</td>\n",
       "      <td>[R. Ripart]</td>\n",
       "    </tr>\n",
       "    <tr>\n",
       "      <th>54</th>\n",
       "      <td>2020-10-04T15:00:00+0200</td>\n",
       "      <td>Strasbourg</td>\n",
       "      <td>Strasbourg</td>\n",
       "      <td>Lille</td>\n",
       "      <td>0</td>\n",
       "      <td>3</td>\n",
       "      <td>exterieur</td>\n",
       "      <td>[]</td>\n",
       "      <td>[M. Çelik, R. Sanches, B. Yilmaz]</td>\n",
       "    </tr>\n",
       "    <tr>\n",
       "      <th>55</th>\n",
       "      <td>2020-10-04T15:00:00+0200</td>\n",
       "      <td>Brest</td>\n",
       "      <td>Brest</td>\n",
       "      <td>Monaco</td>\n",
       "      <td>1</td>\n",
       "      <td>0</td>\n",
       "      <td>domicile</td>\n",
       "      <td>[R. Faivre]</td>\n",
       "      <td>[]</td>\n",
       "    </tr>\n",
       "    <tr>\n",
       "      <th>56</th>\n",
       "      <td>2020-10-04T15:00:00+0200</td>\n",
       "      <td>Bordeaux</td>\n",
       "      <td>Bordeaux</td>\n",
       "      <td>Dijon</td>\n",
       "      <td>3</td>\n",
       "      <td>0</td>\n",
       "      <td>domicile</td>\n",
       "      <td>[R. Oudin, S. Kalu, T. Basic]</td>\n",
       "      <td>[]</td>\n",
       "    </tr>\n",
       "    <tr>\n",
       "      <th>57</th>\n",
       "      <td>2020-10-04T15:00:00+0200</td>\n",
       "      <td>Metz</td>\n",
       "      <td>Metz</td>\n",
       "      <td>Lorient</td>\n",
       "      <td>3</td>\n",
       "      <td>1</td>\n",
       "      <td>domicile</td>\n",
       "      <td>[I. Niane, I. Niane, I. Niane]</td>\n",
       "      <td>[P. Hamel]</td>\n",
       "    </tr>\n",
       "    <tr>\n",
       "      <th>58</th>\n",
       "      <td>2020-10-04T17:00:00+0200</td>\n",
       "      <td>Rennes</td>\n",
       "      <td>Rennes</td>\n",
       "      <td>Reims</td>\n",
       "      <td>2</td>\n",
       "      <td>2</td>\n",
       "      <td>ex-aequo</td>\n",
       "      <td>[Raphinha, D. Da Silva]</td>\n",
       "      <td>[Y. Abdelhamid, B. Dia]</td>\n",
       "    </tr>\n",
       "    <tr>\n",
       "      <th>59</th>\n",
       "      <td>2020-10-04T21:00:00+0200</td>\n",
       "      <td>Lyon</td>\n",
       "      <td>Lyon</td>\n",
       "      <td>Marseille</td>\n",
       "      <td>1</td>\n",
       "      <td>1</td>\n",
       "      <td>ex-aequo</td>\n",
       "      <td>[H. Aouar]</td>\n",
       "      <td>[D. Payet]</td>\n",
       "    </tr>\n",
       "    <tr>\n",
       "      <th>60</th>\n",
       "      <td>2020-10-16T19:00:00+0200</td>\n",
       "      <td>Dijon</td>\n",
       "      <td>Dijon</td>\n",
       "      <td>Rennes</td>\n",
       "      <td>1</td>\n",
       "      <td>1</td>\n",
       "      <td>ex-aequo</td>\n",
       "      <td>[M. Baldé]</td>\n",
       "      <td>[M. Terrier]</td>\n",
       "    </tr>\n",
       "    <tr>\n",
       "      <th>61</th>\n",
       "      <td>2020-10-16T21:00:00+0200</td>\n",
       "      <td>Nîmes</td>\n",
       "      <td>Nîmes</td>\n",
       "      <td>Paris-SG</td>\n",
       "      <td>0</td>\n",
       "      <td>4</td>\n",
       "      <td>exterieur</td>\n",
       "      <td>[]</td>\n",
       "      <td>[K. Mbappé, A. Florenzi, K. Mbappé, P. Sarabia]</td>\n",
       "    </tr>\n",
       "    <tr>\n",
       "      <th>62</th>\n",
       "      <td>2020-10-17T17:00:00+0200</td>\n",
       "      <td>Reims</td>\n",
       "      <td>Reims</td>\n",
       "      <td>Lorient</td>\n",
       "      <td>1</td>\n",
       "      <td>3</td>\n",
       "      <td>exterieur</td>\n",
       "      <td>[M. Cassama]</td>\n",
       "      <td>[P. Hamel, Y. Wissa, T. Moffi]</td>\n",
       "    </tr>\n",
       "    <tr>\n",
       "      <th>63</th>\n",
       "      <td>2020-10-17T21:00:00+0200</td>\n",
       "      <td>Marseille</td>\n",
       "      <td>Marseille</td>\n",
       "      <td>Bordeaux</td>\n",
       "      <td>3</td>\n",
       "      <td>1</td>\n",
       "      <td>domicile</td>\n",
       "      <td>[F. Thauvin, J. Amavi, Pablo]</td>\n",
       "      <td>[J. Maja]</td>\n",
       "    </tr>\n",
       "    <tr>\n",
       "      <th>64</th>\n",
       "      <td>2020-10-18T13:00:00+0200</td>\n",
       "      <td>Strasbourg</td>\n",
       "      <td>Strasbourg</td>\n",
       "      <td>Lyon</td>\n",
       "      <td>2</td>\n",
       "      <td>3</td>\n",
       "      <td>exterieur</td>\n",
       "      <td>[H. Diallo, J. Aholou]</td>\n",
       "      <td>[T. Kadewere, K. Toko Ekambi, K. Toko Ekambi]</td>\n",
       "    </tr>\n",
       "    <tr>\n",
       "      <th>65</th>\n",
       "      <td>2020-10-18T15:00:00+0200</td>\n",
       "      <td>Monaco</td>\n",
       "      <td>Monaco</td>\n",
       "      <td>Montpellier</td>\n",
       "      <td>1</td>\n",
       "      <td>1</td>\n",
       "      <td>ex-aequo</td>\n",
       "      <td>[W. Ben Yedder]</td>\n",
       "      <td>[S. Mavididi]</td>\n",
       "    </tr>\n",
       "    <tr>\n",
       "      <th>66</th>\n",
       "      <td>2020-10-18T15:00:00+0200</td>\n",
       "      <td>Nantes</td>\n",
       "      <td>Nantes</td>\n",
       "      <td>Brest</td>\n",
       "      <td>3</td>\n",
       "      <td>1</td>\n",
       "      <td>domicile</td>\n",
       "      <td>[R. Kolo Muani, L. Blas, A. Bamba]</td>\n",
       "      <td>[R. Faivre]</td>\n",
       "    </tr>\n",
       "    <tr>\n",
       "      <th>67</th>\n",
       "      <td>2020-10-18T15:00:00+0200</td>\n",
       "      <td>Angers</td>\n",
       "      <td>Angers</td>\n",
       "      <td>Metz</td>\n",
       "      <td>1</td>\n",
       "      <td>1</td>\n",
       "      <td>ex-aequo</td>\n",
       "      <td>[T. Mangani]</td>\n",
       "      <td>[O. Nguette]</td>\n",
       "    </tr>\n",
       "    <tr>\n",
       "      <th>68</th>\n",
       "      <td>2020-10-18T17:00:00+0200</td>\n",
       "      <td>Saint-Étienne</td>\n",
       "      <td>Saint-Étienne</td>\n",
       "      <td>Nice</td>\n",
       "      <td>1</td>\n",
       "      <td>3</td>\n",
       "      <td>exterieur</td>\n",
       "      <td>[A. Aouchiche]</td>\n",
       "      <td>[P. Lees-Melou, A. Gouiri, M. Maolida]</td>\n",
       "    </tr>\n",
       "    <tr>\n",
       "      <th>69</th>\n",
       "      <td>2020-10-18T21:00:00+0200</td>\n",
       "      <td>Lille</td>\n",
       "      <td>Lille</td>\n",
       "      <td>Lens</td>\n",
       "      <td>4</td>\n",
       "      <td>0</td>\n",
       "      <td>domicile</td>\n",
       "      <td>[B. Yilmaz, J. Bamba, J. Ikoné, Y. Yazici]</td>\n",
       "      <td>[]</td>\n",
       "    </tr>\n",
       "    <tr>\n",
       "      <th>70</th>\n",
       "      <td>2020-10-23T21:00:00+0200</td>\n",
       "      <td>Rennes</td>\n",
       "      <td>Rennes</td>\n",
       "      <td>Angers</td>\n",
       "      <td>1</td>\n",
       "      <td>2</td>\n",
       "      <td>exterieur</td>\n",
       "      <td>[A. Hunou]</td>\n",
       "      <td>[S. Boufal, A. Fulgini]</td>\n",
       "    </tr>\n",
       "    <tr>\n",
       "      <th>71</th>\n",
       "      <td>2020-10-24T17:00:00+0200</td>\n",
       "      <td>Lorient</td>\n",
       "      <td>Lorient</td>\n",
       "      <td>Marseille</td>\n",
       "      <td>0</td>\n",
       "      <td>1</td>\n",
       "      <td>exterieur</td>\n",
       "      <td>[]</td>\n",
       "      <td>[L. Balerdi]</td>\n",
       "    </tr>\n",
       "    <tr>\n",
       "      <th>72</th>\n",
       "      <td>2020-10-24T21:00:00+0200</td>\n",
       "      <td>Paris</td>\n",
       "      <td>Paris-SG</td>\n",
       "      <td>Dijon</td>\n",
       "      <td>4</td>\n",
       "      <td>0</td>\n",
       "      <td>domicile</td>\n",
       "      <td>[M. Kean, M. Kean, K. Mbappé, K. Mbappé]</td>\n",
       "      <td>[]</td>\n",
       "    </tr>\n",
       "    <tr>\n",
       "      <th>73</th>\n",
       "      <td>2020-10-25T15:00:00+0100</td>\n",
       "      <td>Montpellier</td>\n",
       "      <td>Montpellier</td>\n",
       "      <td>Reims</td>\n",
       "      <td>0</td>\n",
       "      <td>4</td>\n",
       "      <td>exterieur</td>\n",
       "      <td>[]</td>\n",
       "      <td>[B. Dia, B. Dia, N. Mbuku, B. Dia]</td>\n",
       "    </tr>\n",
       "    <tr>\n",
       "      <th>74</th>\n",
       "      <td>2020-10-25T15:00:00+0100</td>\n",
       "      <td>Metz</td>\n",
       "      <td>Metz</td>\n",
       "      <td>Saint-Étienne</td>\n",
       "      <td>2</td>\n",
       "      <td>0</td>\n",
       "      <td>domicile</td>\n",
       "      <td>[F. Boulaya, N. Sissoko]</td>\n",
       "      <td>[]</td>\n",
       "    </tr>\n",
       "    <tr>\n",
       "      <th>75</th>\n",
       "      <td>2020-10-25T15:00:00+0100</td>\n",
       "      <td>Bordeaux</td>\n",
       "      <td>Bordeaux</td>\n",
       "      <td>Nîmes</td>\n",
       "      <td>2</td>\n",
       "      <td>0</td>\n",
       "      <td>domicile</td>\n",
       "      <td>[J. Briand, R. Oudin]</td>\n",
       "      <td>[]</td>\n",
       "    </tr>\n",
       "    <tr>\n",
       "      <th>76</th>\n",
       "      <td>2020-10-25T15:00:00+0100</td>\n",
       "      <td>Brest</td>\n",
       "      <td>Brest</td>\n",
       "      <td>Strasbourg</td>\n",
       "      <td>0</td>\n",
       "      <td>3</td>\n",
       "      <td>exterieur</td>\n",
       "      <td>[]</td>\n",
       "      <td>[H. Diallo, K. Lala, L. Ajorque]</td>\n",
       "    </tr>\n",
       "    <tr>\n",
       "      <th>77</th>\n",
       "      <td>2020-10-25T17:00:00+0100</td>\n",
       "      <td>Nice</td>\n",
       "      <td>Nice</td>\n",
       "      <td>Lille</td>\n",
       "      <td>1</td>\n",
       "      <td>1</td>\n",
       "      <td>ex-aequo</td>\n",
       "      <td>[K. Dolberg]</td>\n",
       "      <td>[B. Yilmaz]</td>\n",
       "    </tr>\n",
       "    <tr>\n",
       "      <th>78</th>\n",
       "      <td>2020-10-25T21:00:00+0100</td>\n",
       "      <td>Lyon</td>\n",
       "      <td>Lyon</td>\n",
       "      <td>Monaco</td>\n",
       "      <td>4</td>\n",
       "      <td>1</td>\n",
       "      <td>domicile</td>\n",
       "      <td>[M. Depay, K. Toko Ekambi, H. Aouar, K. Toko E...</td>\n",
       "      <td>[W. Ben Yedder]</td>\n",
       "    </tr>\n",
       "    <tr>\n",
       "      <th>79</th>\n",
       "      <td>2020-11-25T19:00:00+0100</td>\n",
       "      <td>Lens</td>\n",
       "      <td>Lens</td>\n",
       "      <td>Nantes</td>\n",
       "      <td>1</td>\n",
       "      <td>1</td>\n",
       "      <td>ex-aequo</td>\n",
       "      <td>[G. Kakuta]</td>\n",
       "      <td>[A. Touré]</td>\n",
       "    </tr>\n",
       "    <tr>\n",
       "      <th>80</th>\n",
       "      <td>2020-10-31T17:00:00+0100</td>\n",
       "      <td>Rennes</td>\n",
       "      <td>Rennes</td>\n",
       "      <td>Brest</td>\n",
       "      <td>2</td>\n",
       "      <td>1</td>\n",
       "      <td>domicile</td>\n",
       "      <td>[D. Da Silva, N. Aguerd]</td>\n",
       "      <td>[F. Honorat]</td>\n",
       "    </tr>\n",
       "    <tr>\n",
       "      <th>81</th>\n",
       "      <td>2020-10-31T21:00:00+0100</td>\n",
       "      <td>Nantes</td>\n",
       "      <td>Nantes</td>\n",
       "      <td>Paris-SG</td>\n",
       "      <td>0</td>\n",
       "      <td>3</td>\n",
       "      <td>exterieur</td>\n",
       "      <td>[]</td>\n",
       "      <td>[A. Herrera, K. Mbappé, P. Sarabia]</td>\n",
       "    </tr>\n",
       "    <tr>\n",
       "      <th>82</th>\n",
       "      <td>2020-11-01T13:00:00+0100</td>\n",
       "      <td>Saint-Étienne</td>\n",
       "      <td>Saint-Étienne</td>\n",
       "      <td>Montpellier</td>\n",
       "      <td>0</td>\n",
       "      <td>1</td>\n",
       "      <td>exterieur</td>\n",
       "      <td>[]</td>\n",
       "      <td>[S. Mavididi]</td>\n",
       "    </tr>\n",
       "    <tr>\n",
       "      <th>83</th>\n",
       "      <td>2020-11-01T15:00:00+0100</td>\n",
       "      <td>Angers</td>\n",
       "      <td>Angers</td>\n",
       "      <td>Nice</td>\n",
       "      <td>0</td>\n",
       "      <td>3</td>\n",
       "      <td>exterieur</td>\n",
       "      <td>[]</td>\n",
       "      <td>[R. Lopes, P. Lees-Melou, H. Boudaoui]</td>\n",
       "    </tr>\n",
       "    <tr>\n",
       "      <th>84</th>\n",
       "      <td>2020-11-01T15:00:00+0100</td>\n",
       "      <td>Nîmes</td>\n",
       "      <td>Nîmes</td>\n",
       "      <td>Metz</td>\n",
       "      <td>0</td>\n",
       "      <td>1</td>\n",
       "      <td>exterieur</td>\n",
       "      <td>[]</td>\n",
       "      <td>[M. Gueye]</td>\n",
       "    </tr>\n",
       "    <tr>\n",
       "      <th>85</th>\n",
       "      <td>2020-11-01T15:00:00+0100</td>\n",
       "      <td>Dijon</td>\n",
       "      <td>Dijon</td>\n",
       "      <td>Lorient</td>\n",
       "      <td>0</td>\n",
       "      <td>0</td>\n",
       "      <td>ex-aequo</td>\n",
       "      <td>[]</td>\n",
       "      <td>[]</td>\n",
       "    </tr>\n",
       "    <tr>\n",
       "      <th>86</th>\n",
       "      <td>2020-11-01T15:00:00+0100</td>\n",
       "      <td>Reims</td>\n",
       "      <td>Reims</td>\n",
       "      <td>Strasbourg</td>\n",
       "      <td>2</td>\n",
       "      <td>1</td>\n",
       "      <td>domicile</td>\n",
       "      <td>[B. Kamara, W. Faes]</td>\n",
       "      <td>[L. Ajorque]</td>\n",
       "    </tr>\n",
       "    <tr>\n",
       "      <th>87</th>\n",
       "      <td>2020-11-01T17:00:00+0100</td>\n",
       "      <td>Monaco</td>\n",
       "      <td>Monaco</td>\n",
       "      <td>Bordeaux</td>\n",
       "      <td>4</td>\n",
       "      <td>0</td>\n",
       "      <td>domicile</td>\n",
       "      <td>[W. Ben Yedder, G. Martins, K. Volland, K. Vol...</td>\n",
       "      <td>[]</td>\n",
       "    </tr>\n",
       "    <tr>\n",
       "      <th>88</th>\n",
       "      <td>2020-11-01T21:00:00+0100</td>\n",
       "      <td>Lille</td>\n",
       "      <td>Lille</td>\n",
       "      <td>Lyon</td>\n",
       "      <td>1</td>\n",
       "      <td>1</td>\n",
       "      <td>ex-aequo</td>\n",
       "      <td>[J. Bamba]</td>\n",
       "      <td>[M. Çelik]</td>\n",
       "    </tr>\n",
       "    <tr>\n",
       "      <th>89</th>\n",
       "      <td>2021-01-20T21:00:00+0100</td>\n",
       "      <td>Marseille</td>\n",
       "      <td>Marseille</td>\n",
       "      <td>Lens</td>\n",
       "      <td>0</td>\n",
       "      <td>1</td>\n",
       "      <td>exterieur</td>\n",
       "      <td>[]</td>\n",
       "      <td>[S. Banza]</td>\n",
       "    </tr>\n",
       "    <tr>\n",
       "      <th>90</th>\n",
       "      <td>2020-11-06T21:00:00+0100</td>\n",
       "      <td>Strasbourg</td>\n",
       "      <td>Strasbourg</td>\n",
       "      <td>Marseille</td>\n",
       "      <td>0</td>\n",
       "      <td>1</td>\n",
       "      <td>exterieur</td>\n",
       "      <td>[]</td>\n",
       "      <td>[M. Sanson]</td>\n",
       "    </tr>\n",
       "    <tr>\n",
       "      <th>91</th>\n",
       "      <td>2020-11-07T17:00:00+0100</td>\n",
       "      <td>Bordeaux</td>\n",
       "      <td>Bordeaux</td>\n",
       "      <td>Montpellier</td>\n",
       "      <td>0</td>\n",
       "      <td>2</td>\n",
       "      <td>exterieur</td>\n",
       "      <td>[]</td>\n",
       "      <td>[F. Mollet, A. Delort]</td>\n",
       "    </tr>\n",
       "    <tr>\n",
       "      <th>92</th>\n",
       "      <td>2020-11-07T21:00:00+0100</td>\n",
       "      <td>Paris</td>\n",
       "      <td>Paris-SG</td>\n",
       "      <td>Rennes</td>\n",
       "      <td>3</td>\n",
       "      <td>0</td>\n",
       "      <td>domicile</td>\n",
       "      <td>[M. Kean, A. Di Maria, D. Da Silva]</td>\n",
       "      <td>[]</td>\n",
       "    </tr>\n",
       "    <tr>\n",
       "      <th>93</th>\n",
       "      <td>2020-11-08T13:00:00+0100</td>\n",
       "      <td>Brest</td>\n",
       "      <td>Brest</td>\n",
       "      <td>Lille</td>\n",
       "      <td>3</td>\n",
       "      <td>2</td>\n",
       "      <td>domicile</td>\n",
       "      <td>[R. Pierre-Gabriel, R. Perraud, I. Cardona]</td>\n",
       "      <td>[B. Yilmaz, B. Yilmaz]</td>\n",
       "    </tr>\n",
       "    <tr>\n",
       "      <th>94</th>\n",
       "      <td>2020-11-08T15:00:00+0100</td>\n",
       "      <td>Lens</td>\n",
       "      <td>Lens</td>\n",
       "      <td>Reims</td>\n",
       "      <td>4</td>\n",
       "      <td>4</td>\n",
       "      <td>ex-aequo</td>\n",
       "      <td>[S. Banza, T. Foket, F. Sotoca, F. Sotoca]</td>\n",
       "      <td>[M. Cafaro, B. Dia, F. Medina, B. Dia]</td>\n",
       "    </tr>\n",
       "    <tr>\n",
       "      <th>95</th>\n",
       "      <td>2020-11-08T15:00:00+0100</td>\n",
       "      <td>Metz</td>\n",
       "      <td>Metz</td>\n",
       "      <td>Dijon</td>\n",
       "      <td>1</td>\n",
       "      <td>1</td>\n",
       "      <td>ex-aequo</td>\n",
       "      <td>[P. Yade]</td>\n",
       "      <td>[M. Baldé]</td>\n",
       "    </tr>\n",
       "    <tr>\n",
       "      <th>96</th>\n",
       "      <td>2020-11-08T15:00:00+0100</td>\n",
       "      <td>Nîmes</td>\n",
       "      <td>Nîmes</td>\n",
       "      <td>Angers</td>\n",
       "      <td>1</td>\n",
       "      <td>5</td>\n",
       "      <td>exterieur</td>\n",
       "      <td>[M. Koné]</td>\n",
       "      <td>[M. Pereira Lage, S. Bahoken, S. Bahoken, L. D...</td>\n",
       "    </tr>\n",
       "    <tr>\n",
       "      <th>97</th>\n",
       "      <td>2020-11-08T15:00:00+0100</td>\n",
       "      <td>Lorient</td>\n",
       "      <td>Lorient</td>\n",
       "      <td>Nantes</td>\n",
       "      <td>0</td>\n",
       "      <td>2</td>\n",
       "      <td>exterieur</td>\n",
       "      <td>[]</td>\n",
       "      <td>[A. Bamba, L. Blas]</td>\n",
       "    </tr>\n",
       "    <tr>\n",
       "      <th>98</th>\n",
       "      <td>2020-11-08T17:00:00+0100</td>\n",
       "      <td>Nice</td>\n",
       "      <td>Nice</td>\n",
       "      <td>Monaco</td>\n",
       "      <td>1</td>\n",
       "      <td>2</td>\n",
       "      <td>exterieur</td>\n",
       "      <td>[P. Lees-Melou]</td>\n",
       "      <td>[A. Disasi, S. Diop]</td>\n",
       "    </tr>\n",
       "    <tr>\n",
       "      <th>99</th>\n",
       "      <td>2020-11-08T21:00:00+0100</td>\n",
       "      <td>Lyon</td>\n",
       "      <td>Lyon</td>\n",
       "      <td>Saint-Étienne</td>\n",
       "      <td>2</td>\n",
       "      <td>1</td>\n",
       "      <td>domicile</td>\n",
       "      <td>[T. Kadewere, T. Kadewere]</td>\n",
       "      <td>[A. Lopes]</td>\n",
       "    </tr>\n",
       "    <tr>\n",
       "      <th>100</th>\n",
       "      <td>2020-11-20T19:00:00+0100</td>\n",
       "      <td>Rennes</td>\n",
       "      <td>Rennes</td>\n",
       "      <td>Bordeaux</td>\n",
       "      <td>0</td>\n",
       "      <td>1</td>\n",
       "      <td>exterieur</td>\n",
       "      <td>[]</td>\n",
       "      <td>[H. Ben Arfa]</td>\n",
       "    </tr>\n",
       "    <tr>\n",
       "      <th>101</th>\n",
       "      <td>2020-11-20T21:00:00+0100</td>\n",
       "      <td>Monaco</td>\n",
       "      <td>Monaco</td>\n",
       "      <td>Paris-SG</td>\n",
       "      <td>3</td>\n",
       "      <td>2</td>\n",
       "      <td>domicile</td>\n",
       "      <td>[K. Volland, K. Volland, F. Fabregas]</td>\n",
       "      <td>[K. Mbappé, K. Mbappé]</td>\n",
       "    </tr>\n",
       "    <tr>\n",
       "      <th>102</th>\n",
       "      <td>2020-11-21T17:00:00+0100</td>\n",
       "      <td>Brest</td>\n",
       "      <td>Brest</td>\n",
       "      <td>Saint-Étienne</td>\n",
       "      <td>4</td>\n",
       "      <td>1</td>\n",
       "      <td>domicile</td>\n",
       "      <td>[F. Honorat, J. Duverne, I. Cardona, S. Mounié]</td>\n",
       "      <td>[M. Camara]</td>\n",
       "    </tr>\n",
       "    <tr>\n",
       "      <th>103</th>\n",
       "      <td>2020-11-22T13:00:00+0100</td>\n",
       "      <td>Nantes</td>\n",
       "      <td>Nantes</td>\n",
       "      <td>Metz</td>\n",
       "      <td>1</td>\n",
       "      <td>1</td>\n",
       "      <td>ex-aequo</td>\n",
       "      <td>[R. Kolo Muani]</td>\n",
       "      <td>[A. Leya Iseka]</td>\n",
       "    </tr>\n",
       "    <tr>\n",
       "      <th>104</th>\n",
       "      <td>2020-11-22T15:00:00+0100</td>\n",
       "      <td>Montpellier</td>\n",
       "      <td>Montpellier</td>\n",
       "      <td>Strasbourg</td>\n",
       "      <td>4</td>\n",
       "      <td>3</td>\n",
       "      <td>domicile</td>\n",
       "      <td>[P. Mendes, A. Delort, A. Delort, G. Laborde]</td>\n",
       "      <td>[K. Lala, H. Diallo, L. Ajorque]</td>\n",
       "    </tr>\n",
       "    <tr>\n",
       "      <th>105</th>\n",
       "      <td>2020-11-22T15:00:00+0100</td>\n",
       "      <td>Dijon</td>\n",
       "      <td>Dijon</td>\n",
       "      <td>Lens</td>\n",
       "      <td>0</td>\n",
       "      <td>1</td>\n",
       "      <td>exterieur</td>\n",
       "      <td>[]</td>\n",
       "      <td>[A. Kalimuendo]</td>\n",
       "    </tr>\n",
       "    <tr>\n",
       "      <th>106</th>\n",
       "      <td>2020-11-22T15:00:00+0100</td>\n",
       "      <td>Reims</td>\n",
       "      <td>Reims</td>\n",
       "      <td>Nîmes</td>\n",
       "      <td>0</td>\n",
       "      <td>1</td>\n",
       "      <td>exterieur</td>\n",
       "      <td>[]</td>\n",
       "      <td>[R. Ripart]</td>\n",
       "    </tr>\n",
       "    <tr>\n",
       "      <th>107</th>\n",
       "      <td>2020-11-22T17:00:00+0100</td>\n",
       "      <td>Angers</td>\n",
       "      <td>Angers</td>\n",
       "      <td>Lyon</td>\n",
       "      <td>0</td>\n",
       "      <td>1</td>\n",
       "      <td>exterieur</td>\n",
       "      <td>[]</td>\n",
       "      <td>[T. Kadewere]</td>\n",
       "    </tr>\n",
       "    <tr>\n",
       "      <th>108</th>\n",
       "      <td>2020-11-22T21:00:00+0100</td>\n",
       "      <td>Lille</td>\n",
       "      <td>Lille</td>\n",
       "      <td>Lorient</td>\n",
       "      <td>4</td>\n",
       "      <td>0</td>\n",
       "      <td>domicile</td>\n",
       "      <td>[Y. Yazici, Y. Yazici, L. Araujo, J. David]</td>\n",
       "      <td>[]</td>\n",
       "    </tr>\n",
       "    <tr>\n",
       "      <th>109</th>\n",
       "      <td>2021-02-17T21:00:00+0100</td>\n",
       "      <td>Marseille</td>\n",
       "      <td>Marseille</td>\n",
       "      <td>Nice</td>\n",
       "      <td>3</td>\n",
       "      <td>2</td>\n",
       "      <td>domicile</td>\n",
       "      <td>[A. Gonzalez, S. Khaoui, S. Khaoui]</td>\n",
       "      <td>[A. Gouiri, M. Sellouki]</td>\n",
       "    </tr>\n",
       "    <tr>\n",
       "      <th>110</th>\n",
       "      <td>2020-11-27T21:00:00+0100</td>\n",
       "      <td>Strasbourg</td>\n",
       "      <td>Strasbourg</td>\n",
       "      <td>Rennes</td>\n",
       "      <td>1</td>\n",
       "      <td>1</td>\n",
       "      <td>ex-aequo</td>\n",
       "      <td>[A. Thomasson]</td>\n",
       "      <td>[A. Hunou]</td>\n",
       "    </tr>\n",
       "    <tr>\n",
       "      <th>111</th>\n",
       "      <td>2020-11-28T17:00:00+0100</td>\n",
       "      <td>Marseille</td>\n",
       "      <td>Marseille</td>\n",
       "      <td>Nantes</td>\n",
       "      <td>3</td>\n",
       "      <td>1</td>\n",
       "      <td>domicile</td>\n",
       "      <td>[F. Thauvin, D. Payet, D. Benedetto]</td>\n",
       "      <td>[L. Blas]</td>\n",
       "    </tr>\n",
       "    <tr>\n",
       "      <th>112</th>\n",
       "      <td>2020-11-28T21:00:00+0100</td>\n",
       "      <td>Paris</td>\n",
       "      <td>Paris-SG</td>\n",
       "      <td>Bordeaux</td>\n",
       "      <td>2</td>\n",
       "      <td>2</td>\n",
       "      <td>ex-aequo</td>\n",
       "      <td>[Neymar, M. Kean]</td>\n",
       "      <td>[T. Pembélé, Y. Adli]</td>\n",
       "    </tr>\n",
       "    <tr>\n",
       "      <th>113</th>\n",
       "      <td>2020-11-29T13:00:00+0100</td>\n",
       "      <td>Lyon</td>\n",
       "      <td>Lyon</td>\n",
       "      <td>Reims</td>\n",
       "      <td>3</td>\n",
       "      <td>0</td>\n",
       "      <td>domicile</td>\n",
       "      <td>[K. Toko Ekambi, B. Guimaraes, M. Dembélé]</td>\n",
       "      <td>[]</td>\n",
       "    </tr>\n",
       "    <tr>\n",
       "      <th>114</th>\n",
       "      <td>2020-11-29T15:00:00+0100</td>\n",
       "      <td>Lens</td>\n",
       "      <td>Lens</td>\n",
       "      <td>Angers</td>\n",
       "      <td>1</td>\n",
       "      <td>3</td>\n",
       "      <td>exterieur</td>\n",
       "      <td>[A. Kalimuendo]</td>\n",
       "      <td>[M. Pereira Lage, S. Bahoken, P. Capelle]</td>\n",
       "    </tr>\n",
       "    <tr>\n",
       "      <th>115</th>\n",
       "      <td>2020-11-29T15:00:00+0100</td>\n",
       "      <td>Lorient</td>\n",
       "      <td>Lorient</td>\n",
       "      <td>Montpellier</td>\n",
       "      <td>0</td>\n",
       "      <td>1</td>\n",
       "      <td>exterieur</td>\n",
       "      <td>[]</td>\n",
       "      <td>[P. Skuletic]</td>\n",
       "    </tr>\n",
       "    <tr>\n",
       "      <th>116</th>\n",
       "      <td>2020-11-29T15:00:00+0100</td>\n",
       "      <td>Monaco</td>\n",
       "      <td>Monaco</td>\n",
       "      <td>Nîmes</td>\n",
       "      <td>3</td>\n",
       "      <td>0</td>\n",
       "      <td>domicile</td>\n",
       "      <td>[S. Diop, G. Martins, K. Volland]</td>\n",
       "      <td>[]</td>\n",
       "    </tr>\n",
       "    <tr>\n",
       "      <th>117</th>\n",
       "      <td>2020-11-29T15:00:00+0100</td>\n",
       "      <td>Metz</td>\n",
       "      <td>Metz</td>\n",
       "      <td>Brest</td>\n",
       "      <td>0</td>\n",
       "      <td>2</td>\n",
       "      <td>exterieur</td>\n",
       "      <td>[]</td>\n",
       "      <td>[I. Cardona, I. Cardona]</td>\n",
       "    </tr>\n",
       "    <tr>\n",
       "      <th>118</th>\n",
       "      <td>2020-11-29T17:00:00+0100</td>\n",
       "      <td>Nice</td>\n",
       "      <td>Nice</td>\n",
       "      <td>Dijon</td>\n",
       "      <td>1</td>\n",
       "      <td>3</td>\n",
       "      <td>exterieur</td>\n",
       "      <td>[A. Gouiri]</td>\n",
       "      <td>[M. Baldé, G. Ngonda Muzinga, M. Baldé]</td>\n",
       "    </tr>\n",
       "    <tr>\n",
       "      <th>119</th>\n",
       "      <td>2020-11-29T21:00:00+0100</td>\n",
       "      <td>Saint-Étienne</td>\n",
       "      <td>Saint-Étienne</td>\n",
       "      <td>Lille</td>\n",
       "      <td>1</td>\n",
       "      <td>1</td>\n",
       "      <td>ex-aequo</td>\n",
       "      <td>[W. Khazri]</td>\n",
       "      <td>[J. Ikoné]</td>\n",
       "    </tr>\n",
       "    <tr>\n",
       "      <th>120</th>\n",
       "      <td>2020-12-04T21:00:00+0100</td>\n",
       "      <td>Nîmes</td>\n",
       "      <td>Nîmes</td>\n",
       "      <td>Marseille</td>\n",
       "      <td>0</td>\n",
       "      <td>2</td>\n",
       "      <td>exterieur</td>\n",
       "      <td>[]</td>\n",
       "      <td>[D. Benedetto, V. Germain]</td>\n",
       "    </tr>\n",
       "    <tr>\n",
       "      <th>121</th>\n",
       "      <td>2020-12-05T17:00:00+0100</td>\n",
       "      <td>Rennes</td>\n",
       "      <td>Rennes</td>\n",
       "      <td>Lens</td>\n",
       "      <td>0</td>\n",
       "      <td>2</td>\n",
       "      <td>exterieur</td>\n",
       "      <td>[]</td>\n",
       "      <td>[A. Kalimuendo, I. Ganago]</td>\n",
       "    </tr>\n",
       "    <tr>\n",
       "      <th>122</th>\n",
       "      <td>2020-12-05T21:00:00+0100</td>\n",
       "      <td>Montpellier</td>\n",
       "      <td>Montpellier</td>\n",
       "      <td>Paris-SG</td>\n",
       "      <td>1</td>\n",
       "      <td>3</td>\n",
       "      <td>exterieur</td>\n",
       "      <td>[S. Mavididi]</td>\n",
       "      <td>[C. Dagba, M. Kean, K. Mbappé]</td>\n",
       "    </tr>\n",
       "    <tr>\n",
       "      <th>123</th>\n",
       "      <td>2020-12-06T13:00:00+0100</td>\n",
       "      <td>Lille</td>\n",
       "      <td>Lille</td>\n",
       "      <td>Monaco</td>\n",
       "      <td>2</td>\n",
       "      <td>1</td>\n",
       "      <td>domicile</td>\n",
       "      <td>[J. David, Y. Yazici]</td>\n",
       "      <td>[P. Pellegri]</td>\n",
       "    </tr>\n",
       "    <tr>\n",
       "      <th>124</th>\n",
       "      <td>2020-12-06T15:00:00+0100</td>\n",
       "      <td>Angers</td>\n",
       "      <td>Angers</td>\n",
       "      <td>Lorient</td>\n",
       "      <td>2</td>\n",
       "      <td>0</td>\n",
       "      <td>domicile</td>\n",
       "      <td>[A. Fulgini, P. Capelle]</td>\n",
       "      <td>[]</td>\n",
       "    </tr>\n",
       "    <tr>\n",
       "      <th>125</th>\n",
       "      <td>2020-12-06T15:00:00+0100</td>\n",
       "      <td>Bordeaux</td>\n",
       "      <td>Bordeaux</td>\n",
       "      <td>Brest</td>\n",
       "      <td>1</td>\n",
       "      <td>0</td>\n",
       "      <td>domicile</td>\n",
       "      <td>[H. Ben Arfa]</td>\n",
       "      <td>[]</td>\n",
       "    </tr>\n",
       "    <tr>\n",
       "      <th>126</th>\n",
       "      <td>2020-12-06T15:00:00+0100</td>\n",
       "      <td>Nantes</td>\n",
       "      <td>Nantes</td>\n",
       "      <td>Strasbourg</td>\n",
       "      <td>0</td>\n",
       "      <td>4</td>\n",
       "      <td>exterieur</td>\n",
       "      <td>[]</td>\n",
       "      <td>[D. Liénard, H. Diallo, L. Ajorque, K. Zohi]</td>\n",
       "    </tr>\n",
       "    <tr>\n",
       "      <th>127</th>\n",
       "      <td>2020-12-06T15:00:00+0100</td>\n",
       "      <td>Dijon</td>\n",
       "      <td>Dijon</td>\n",
       "      <td>Saint-Étienne</td>\n",
       "      <td>0</td>\n",
       "      <td>0</td>\n",
       "      <td>ex-aequo</td>\n",
       "      <td>[]</td>\n",
       "      <td>[]</td>\n",
       "    </tr>\n",
       "    <tr>\n",
       "      <th>128</th>\n",
       "      <td>2020-12-06T17:00:00+0100</td>\n",
       "      <td>Reims</td>\n",
       "      <td>Reims</td>\n",
       "      <td>Nice</td>\n",
       "      <td>0</td>\n",
       "      <td>0</td>\n",
       "      <td>ex-aequo</td>\n",
       "      <td>[]</td>\n",
       "      <td>[]</td>\n",
       "    </tr>\n",
       "    <tr>\n",
       "      <th>129</th>\n",
       "      <td>2020-12-06T21:00:00+0100</td>\n",
       "      <td>Metz</td>\n",
       "      <td>Metz</td>\n",
       "      <td>Lyon</td>\n",
       "      <td>1</td>\n",
       "      <td>3</td>\n",
       "      <td>exterieur</td>\n",
       "      <td>[F. Boulaya]</td>\n",
       "      <td>[M. Depay, K. Toko Ekambi, K. Toko Ekambi]</td>\n",
       "    </tr>\n",
       "    <tr>\n",
       "      <th>130</th>\n",
       "      <td>2020-12-11T21:00:00+0100</td>\n",
       "      <td>Saint-Étienne</td>\n",
       "      <td>Saint-Étienne</td>\n",
       "      <td>Angers</td>\n",
       "      <td>0</td>\n",
       "      <td>0</td>\n",
       "      <td>ex-aequo</td>\n",
       "      <td>[]</td>\n",
       "      <td>[]</td>\n",
       "    </tr>\n",
       "    <tr>\n",
       "      <th>131</th>\n",
       "      <td>2020-12-12T17:00:00+0100</td>\n",
       "      <td>Marseille</td>\n",
       "      <td>Marseille</td>\n",
       "      <td>Monaco</td>\n",
       "      <td>2</td>\n",
       "      <td>1</td>\n",
       "      <td>domicile</td>\n",
       "      <td>[F. Thauvin, D. Benedetto]</td>\n",
       "      <td>[W. Ben Yedder]</td>\n",
       "    </tr>\n",
       "    <tr>\n",
       "      <th>132</th>\n",
       "      <td>2020-12-12T21:00:00+0100</td>\n",
       "      <td>Lens</td>\n",
       "      <td>Lens</td>\n",
       "      <td>Montpellier</td>\n",
       "      <td>2</td>\n",
       "      <td>3</td>\n",
       "      <td>exterieur</td>\n",
       "      <td>[J. Omlin, G. Kakuta]</td>\n",
       "      <td>[S. Mavididi, P. Mendes, G. Laborde]</td>\n",
       "    </tr>\n",
       "    <tr>\n",
       "      <th>133</th>\n",
       "      <td>2020-12-13T13:00:00+0100</td>\n",
       "      <td>Nice</td>\n",
       "      <td>Nice</td>\n",
       "      <td>Rennes</td>\n",
       "      <td>0</td>\n",
       "      <td>1</td>\n",
       "      <td>exterieur</td>\n",
       "      <td>[]</td>\n",
       "      <td>[M. Niang]</td>\n",
       "    </tr>\n",
       "    <tr>\n",
       "      <th>134</th>\n",
       "      <td>2020-12-13T15:00:00+0100</td>\n",
       "      <td>Brest</td>\n",
       "      <td>Brest</td>\n",
       "      <td>Reims</td>\n",
       "      <td>2</td>\n",
       "      <td>1</td>\n",
       "      <td>domicile</td>\n",
       "      <td>[F. Honorat, S. Mounié]</td>\n",
       "      <td>[A. Zeneli]</td>\n",
       "    </tr>\n",
       "    <tr>\n",
       "      <th>135</th>\n",
       "      <td>2020-12-13T15:00:00+0100</td>\n",
       "      <td>Strasbourg</td>\n",
       "      <td>Strasbourg</td>\n",
       "      <td>Metz</td>\n",
       "      <td>2</td>\n",
       "      <td>2</td>\n",
       "      <td>ex-aequo</td>\n",
       "      <td>[M. Simakan, A. Thomasson]</td>\n",
       "      <td>[D. Bronn, O. Nguette]</td>\n",
       "    </tr>\n",
       "    <tr>\n",
       "      <th>136</th>\n",
       "      <td>2020-12-13T15:00:00+0100</td>\n",
       "      <td>Nantes</td>\n",
       "      <td>Nantes</td>\n",
       "      <td>Dijon</td>\n",
       "      <td>1</td>\n",
       "      <td>1</td>\n",
       "      <td>ex-aequo</td>\n",
       "      <td>[M. Simon]</td>\n",
       "      <td>[M. Konaté]</td>\n",
       "    </tr>\n",
       "    <tr>\n",
       "      <th>137</th>\n",
       "      <td>2020-12-13T15:00:00+0100</td>\n",
       "      <td>Lorient</td>\n",
       "      <td>Lorient</td>\n",
       "      <td>Nîmes</td>\n",
       "      <td>3</td>\n",
       "      <td>0</td>\n",
       "      <td>domicile</td>\n",
       "      <td>[Q. Boisgard, P. Hamel, Y. Wissa]</td>\n",
       "      <td>[]</td>\n",
       "    </tr>\n",
       "    <tr>\n",
       "      <th>138</th>\n",
       "      <td>2020-12-13T17:00:00+0100</td>\n",
       "      <td>Lille</td>\n",
       "      <td>Lille</td>\n",
       "      <td>Bordeaux</td>\n",
       "      <td>2</td>\n",
       "      <td>1</td>\n",
       "      <td>domicile</td>\n",
       "      <td>[J. Bamba, J. Fonte]</td>\n",
       "      <td>[T. Basic]</td>\n",
       "    </tr>\n",
       "    <tr>\n",
       "      <th>139</th>\n",
       "      <td>2020-12-13T21:00:00+0100</td>\n",
       "      <td>Paris</td>\n",
       "      <td>Paris-SG</td>\n",
       "      <td>Lyon</td>\n",
       "      <td>0</td>\n",
       "      <td>1</td>\n",
       "      <td>exterieur</td>\n",
       "      <td>[]</td>\n",
       "      <td>[T. Kadewere]</td>\n",
       "    </tr>\n",
       "    <tr>\n",
       "      <th>140</th>\n",
       "      <td>2020-12-16T19:00:00+0100</td>\n",
       "      <td>Dijon</td>\n",
       "      <td>Dijon</td>\n",
       "      <td>Lille</td>\n",
       "      <td>0</td>\n",
       "      <td>2</td>\n",
       "      <td>exterieur</td>\n",
       "      <td>[]</td>\n",
       "      <td>[Y. Yazici, T. Weah]</td>\n",
       "    </tr>\n",
       "    <tr>\n",
       "      <th>141</th>\n",
       "      <td>2020-12-16T19:00:00+0100</td>\n",
       "      <td>Montpellier</td>\n",
       "      <td>Montpellier</td>\n",
       "      <td>Metz</td>\n",
       "      <td>0</td>\n",
       "      <td>2</td>\n",
       "      <td>exterieur</td>\n",
       "      <td>[]</td>\n",
       "      <td>[A. Leya Iseka, H. Maïga]</td>\n",
       "    </tr>\n",
       "    <tr>\n",
       "      <th>142</th>\n",
       "      <td>2020-12-16T19:00:00+0100</td>\n",
       "      <td>Angers</td>\n",
       "      <td>Angers</td>\n",
       "      <td>Strasbourg</td>\n",
       "      <td>0</td>\n",
       "      <td>2</td>\n",
       "      <td>exterieur</td>\n",
       "      <td>[]</td>\n",
       "      <td>[H. Diallo, L. Ajorque]</td>\n",
       "    </tr>\n",
       "    <tr>\n",
       "      <th>143</th>\n",
       "      <td>2020-12-16T19:00:00+0100</td>\n",
       "      <td>Nîmes</td>\n",
       "      <td>Nîmes</td>\n",
       "      <td>Nice</td>\n",
       "      <td>0</td>\n",
       "      <td>2</td>\n",
       "      <td>exterieur</td>\n",
       "      <td>[]</td>\n",
       "      <td>[D. Ndoye, A. Claude-Maurice]</td>\n",
       "    </tr>\n",
       "    <tr>\n",
       "      <th>144</th>\n",
       "      <td>2020-12-16T19:00:00+0100</td>\n",
       "      <td>Reims</td>\n",
       "      <td>Reims</td>\n",
       "      <td>Nantes</td>\n",
       "      <td>3</td>\n",
       "      <td>2</td>\n",
       "      <td>domicile</td>\n",
       "      <td>[E. Touré, B. Dia, M. Cafaro]</td>\n",
       "      <td>[N. Pallois, L. Blas]</td>\n",
       "    </tr>\n",
       "    <tr>\n",
       "      <th>145</th>\n",
       "      <td>2020-12-16T21:00:00+0100</td>\n",
       "      <td>Lyon</td>\n",
       "      <td>Lyon</td>\n",
       "      <td>Brest</td>\n",
       "      <td>2</td>\n",
       "      <td>2</td>\n",
       "      <td>ex-aequo</td>\n",
       "      <td>[M. Depay, M. Cornet]</td>\n",
       "      <td>[A. Lopes, R. Faivre]</td>\n",
       "    </tr>\n",
       "    <tr>\n",
       "      <th>146</th>\n",
       "      <td>2020-12-16T21:00:00+0100</td>\n",
       "      <td>Paris</td>\n",
       "      <td>Paris-SG</td>\n",
       "      <td>Lorient</td>\n",
       "      <td>2</td>\n",
       "      <td>0</td>\n",
       "      <td>domicile</td>\n",
       "      <td>[K. Mbappé, M. Kean]</td>\n",
       "      <td>[]</td>\n",
       "    </tr>\n",
       "    <tr>\n",
       "      <th>147</th>\n",
       "      <td>2020-12-16T21:00:00+0100</td>\n",
       "      <td>Rennes</td>\n",
       "      <td>Rennes</td>\n",
       "      <td>Marseille</td>\n",
       "      <td>2</td>\n",
       "      <td>1</td>\n",
       "      <td>domicile</td>\n",
       "      <td>[H. Traoré, A. Hunou]</td>\n",
       "      <td>[P. Gueye]</td>\n",
       "    </tr>\n",
       "    <tr>\n",
       "      <th>148</th>\n",
       "      <td>2020-12-16T21:00:00+0100</td>\n",
       "      <td>Monaco</td>\n",
       "      <td>Monaco</td>\n",
       "      <td>Lens</td>\n",
       "      <td>0</td>\n",
       "      <td>3</td>\n",
       "      <td>exterieur</td>\n",
       "      <td>[]</td>\n",
       "      <td>[I. Sylla, S. Banza, G. Kakuta]</td>\n",
       "    </tr>\n",
       "    <tr>\n",
       "      <th>149</th>\n",
       "      <td>2020-12-16T21:00:00+0100</td>\n",
       "      <td>Bordeaux</td>\n",
       "      <td>Bordeaux</td>\n",
       "      <td>Saint-Étienne</td>\n",
       "      <td>1</td>\n",
       "      <td>2</td>\n",
       "      <td>exterieur</td>\n",
       "      <td>[U. Hwang]</td>\n",
       "      <td>[A. Nordin, Y. Neyou]</td>\n",
       "    </tr>\n",
       "    <tr>\n",
       "      <th>150</th>\n",
       "      <td>2020-12-19T17:00:00+0100</td>\n",
       "      <td>Metz</td>\n",
       "      <td>Metz</td>\n",
       "      <td>Lens</td>\n",
       "      <td>2</td>\n",
       "      <td>0</td>\n",
       "      <td>domicile</td>\n",
       "      <td>[O. Nguette, F. Boulaya]</td>\n",
       "      <td>[]</td>\n",
       "    </tr>\n",
       "    <tr>\n",
       "      <th>151</th>\n",
       "      <td>2020-12-19T19:00:00+0100</td>\n",
       "      <td>Marseille</td>\n",
       "      <td>Marseille</td>\n",
       "      <td>Reims</td>\n",
       "      <td>1</td>\n",
       "      <td>1</td>\n",
       "      <td>ex-aequo</td>\n",
       "      <td>[F. Thauvin]</td>\n",
       "      <td>[Y. Nagatomo]</td>\n",
       "    </tr>\n",
       "    <tr>\n",
       "      <th>152</th>\n",
       "      <td>2020-12-19T21:00:00+0100</td>\n",
       "      <td>Nice</td>\n",
       "      <td>Nice</td>\n",
       "      <td>Lyon</td>\n",
       "      <td>1</td>\n",
       "      <td>4</td>\n",
       "      <td>exterieur</td>\n",
       "      <td>[A. Gouiri]</td>\n",
       "      <td>[M. Depay, T. Kadewere, K. Toko Ekambi, H. Aouar]</td>\n",
       "    </tr>\n",
       "    <tr>\n",
       "      <th>153</th>\n",
       "      <td>2020-12-20T13:00:00+0100</td>\n",
       "      <td>Brest</td>\n",
       "      <td>Brest</td>\n",
       "      <td>Montpellier</td>\n",
       "      <td>2</td>\n",
       "      <td>2</td>\n",
       "      <td>ex-aequo</td>\n",
       "      <td>[R. Philippoteaux, B. Chardonnet]</td>\n",
       "      <td>[G. Laborde, A. Delort]</td>\n",
       "    </tr>\n",
       "    <tr>\n",
       "      <th>154</th>\n",
       "      <td>2020-12-20T15:00:00+0100</td>\n",
       "      <td>Dijon</td>\n",
       "      <td>Dijon</td>\n",
       "      <td>Monaco</td>\n",
       "      <td>0</td>\n",
       "      <td>1</td>\n",
       "      <td>exterieur</td>\n",
       "      <td>[]</td>\n",
       "      <td>[K. Volland]</td>\n",
       "    </tr>\n",
       "    <tr>\n",
       "      <th>155</th>\n",
       "      <td>2020-12-20T15:00:00+0100</td>\n",
       "      <td>Nantes</td>\n",
       "      <td>Nantes</td>\n",
       "      <td>Angers</td>\n",
       "      <td>1</td>\n",
       "      <td>1</td>\n",
       "      <td>ex-aequo</td>\n",
       "      <td>[C. Traoré]</td>\n",
       "      <td>[R. Thomas]</td>\n",
       "    </tr>\n",
       "    <tr>\n",
       "      <th>156</th>\n",
       "      <td>2020-12-20T15:00:00+0100</td>\n",
       "      <td>Strasbourg</td>\n",
       "      <td>Strasbourg</td>\n",
       "      <td>Bordeaux</td>\n",
       "      <td>0</td>\n",
       "      <td>2</td>\n",
       "      <td>exterieur</td>\n",
       "      <td>[]</td>\n",
       "      <td>[Pablo, Otavio]</td>\n",
       "    </tr>\n",
       "    <tr>\n",
       "      <th>157</th>\n",
       "      <td>2020-12-20T15:00:00+0100</td>\n",
       "      <td>Saint-Étienne</td>\n",
       "      <td>Saint-Étienne</td>\n",
       "      <td>Nîmes</td>\n",
       "      <td>2</td>\n",
       "      <td>2</td>\n",
       "      <td>ex-aequo</td>\n",
       "      <td>[H. Moukoudi, A. Nordin]</td>\n",
       "      <td>[M. Ahlinvi, R. Ripart]</td>\n",
       "    </tr>\n",
       "    <tr>\n",
       "      <th>158</th>\n",
       "      <td>2020-12-20T17:00:00+0100</td>\n",
       "      <td>Lorient</td>\n",
       "      <td>Lorient</td>\n",
       "      <td>Rennes</td>\n",
       "      <td>0</td>\n",
       "      <td>3</td>\n",
       "      <td>exterieur</td>\n",
       "      <td>[]</td>\n",
       "      <td>[D. Da Silva, B. Bourigeaud, M. Terrier]</td>\n",
       "    </tr>\n",
       "    <tr>\n",
       "      <th>159</th>\n",
       "      <td>2020-12-20T21:00:00+0100</td>\n",
       "      <td>Lille</td>\n",
       "      <td>Lille</td>\n",
       "      <td>Paris-SG</td>\n",
       "      <td>0</td>\n",
       "      <td>0</td>\n",
       "      <td>ex-aequo</td>\n",
       "      <td>[]</td>\n",
       "      <td>[]</td>\n",
       "    </tr>\n",
       "    <tr>\n",
       "      <th>160</th>\n",
       "      <td>2020-12-23T19:00:00+0100</td>\n",
       "      <td>Rennes</td>\n",
       "      <td>Rennes</td>\n",
       "      <td>Metz</td>\n",
       "      <td>1</td>\n",
       "      <td>0</td>\n",
       "      <td>domicile</td>\n",
       "      <td>[C. Grenier]</td>\n",
       "      <td>[]</td>\n",
       "    </tr>\n",
       "    <tr>\n",
       "      <th>161</th>\n",
       "      <td>2020-12-23T19:00:00+0100</td>\n",
       "      <td>Lens</td>\n",
       "      <td>Lens</td>\n",
       "      <td>Brest</td>\n",
       "      <td>2</td>\n",
       "      <td>1</td>\n",
       "      <td>domicile</td>\n",
       "      <td>[A. Kalimuendo, F. Sotoca]</td>\n",
       "      <td>[G. Charbonnier]</td>\n",
       "    </tr>\n",
       "    <tr>\n",
       "      <th>162</th>\n",
       "      <td>2020-12-23T19:00:00+0100</td>\n",
       "      <td>Bordeaux</td>\n",
       "      <td>Bordeaux</td>\n",
       "      <td>Reims</td>\n",
       "      <td>1</td>\n",
       "      <td>3</td>\n",
       "      <td>exterieur</td>\n",
       "      <td>[U. Hwang]</td>\n",
       "      <td>[Y. Abdelhamid, B. Dia, M. Munetsi]</td>\n",
       "    </tr>\n",
       "    <tr>\n",
       "      <th>163</th>\n",
       "      <td>2020-12-23T19:00:00+0100</td>\n",
       "      <td>Nice</td>\n",
       "      <td>Nice</td>\n",
       "      <td>Lorient</td>\n",
       "      <td>2</td>\n",
       "      <td>2</td>\n",
       "      <td>ex-aequo</td>\n",
       "      <td>[J. Lotomba, J. Reine-Adélaïde]</td>\n",
       "      <td>[T. Moffi, A. Grbic]</td>\n",
       "    </tr>\n",
       "    <tr>\n",
       "      <th>164</th>\n",
       "      <td>2020-12-23T19:00:00+0100</td>\n",
       "      <td>Nîmes</td>\n",
       "      <td>Nîmes</td>\n",
       "      <td>Dijon</td>\n",
       "      <td>1</td>\n",
       "      <td>3</td>\n",
       "      <td>exterieur</td>\n",
       "      <td>[M. Ahlinvi]</td>\n",
       "      <td>[M. Konaté, M. Baldé, M. Konaté]</td>\n",
       "    </tr>\n",
       "    <tr>\n",
       "      <th>165</th>\n",
       "      <td>2020-12-23T21:00:00+0100</td>\n",
       "      <td>Montpellier</td>\n",
       "      <td>Montpellier</td>\n",
       "      <td>Lille</td>\n",
       "      <td>2</td>\n",
       "      <td>3</td>\n",
       "      <td>exterieur</td>\n",
       "      <td>[G. Laborde, A. Delort]</td>\n",
       "      <td>[T. Weah, J. Ikoné, B. Yilmaz]</td>\n",
       "    </tr>\n",
       "    <tr>\n",
       "      <th>166</th>\n",
       "      <td>2020-12-23T21:00:00+0100</td>\n",
       "      <td>Lyon</td>\n",
       "      <td>Lyon</td>\n",
       "      <td>Nantes</td>\n",
       "      <td>3</td>\n",
       "      <td>0</td>\n",
       "      <td>domicile</td>\n",
       "      <td>[K. Toko Ekambi, T. Kadewere, L. Paqueta]</td>\n",
       "      <td>[]</td>\n",
       "    </tr>\n",
       "    <tr>\n",
       "      <th>167</th>\n",
       "      <td>2020-12-23T21:00:00+0100</td>\n",
       "      <td>Paris</td>\n",
       "      <td>Paris-SG</td>\n",
       "      <td>Strasbourg</td>\n",
       "      <td>4</td>\n",
       "      <td>0</td>\n",
       "      <td>domicile</td>\n",
       "      <td>[T. Pembélé, K. Mbappé, I. Gueye, M. Kean]</td>\n",
       "      <td>[]</td>\n",
       "    </tr>\n",
       "    <tr>\n",
       "      <th>168</th>\n",
       "      <td>2020-12-23T21:00:00+0100</td>\n",
       "      <td>Angers</td>\n",
       "      <td>Angers</td>\n",
       "      <td>Marseille</td>\n",
       "      <td>2</td>\n",
       "      <td>1</td>\n",
       "      <td>domicile</td>\n",
       "      <td>[M. Pereira Lage, L. Diony]</td>\n",
       "      <td>[V. Rongier]</td>\n",
       "    </tr>\n",
       "    <tr>\n",
       "      <th>169</th>\n",
       "      <td>2020-12-23T21:00:00+0100</td>\n",
       "      <td>Monaco</td>\n",
       "      <td>Monaco</td>\n",
       "      <td>Saint-Étienne</td>\n",
       "      <td>2</td>\n",
       "      <td>2</td>\n",
       "      <td>ex-aequo</td>\n",
       "      <td>[S. Diop, K. Volland]</td>\n",
       "      <td>[M. Debuchy, D. Bouanga]</td>\n",
       "    </tr>\n",
       "    <tr>\n",
       "      <th>170</th>\n",
       "      <td>2021-01-06T19:00:00+0100</td>\n",
       "      <td>Nantes</td>\n",
       "      <td>Nantes</td>\n",
       "      <td>Rennes</td>\n",
       "      <td>0</td>\n",
       "      <td>0</td>\n",
       "      <td>ex-aequo</td>\n",
       "      <td>[]</td>\n",
       "      <td>[]</td>\n",
       "    </tr>\n",
       "    <tr>\n",
       "      <th>171</th>\n",
       "      <td>2021-01-06T19:00:00+0100</td>\n",
       "      <td>Lorient</td>\n",
       "      <td>Lorient</td>\n",
       "      <td>Monaco</td>\n",
       "      <td>2</td>\n",
       "      <td>5</td>\n",
       "      <td>exterieur</td>\n",
       "      <td>[T. Moffi, A. Gravillon]</td>\n",
       "      <td>[A. Disasi, A. Golovine, K. Volland, S. Diop, ...</td>\n",
       "    </tr>\n",
       "    <tr>\n",
       "      <th>172</th>\n",
       "      <td>2021-01-06T19:00:00+0100</td>\n",
       "      <td>Metz</td>\n",
       "      <td>Metz</td>\n",
       "      <td>Bordeaux</td>\n",
       "      <td>0</td>\n",
       "      <td>0</td>\n",
       "      <td>ex-aequo</td>\n",
       "      <td>[]</td>\n",
       "      <td>[]</td>\n",
       "    </tr>\n",
       "    <tr>\n",
       "      <th>173</th>\n",
       "      <td>2021-01-06T19:00:00+0100</td>\n",
       "      <td>Brest</td>\n",
       "      <td>Brest</td>\n",
       "      <td>Nice</td>\n",
       "      <td>2</td>\n",
       "      <td>0</td>\n",
       "      <td>domicile</td>\n",
       "      <td>[S. Mounié, F. Honorat]</td>\n",
       "      <td>[]</td>\n",
       "    </tr>\n",
       "    <tr>\n",
       "      <th>174</th>\n",
       "      <td>2021-01-06T19:00:00+0100</td>\n",
       "      <td>Strasbourg</td>\n",
       "      <td>Strasbourg</td>\n",
       "      <td>Nîmes</td>\n",
       "      <td>5</td>\n",
       "      <td>0</td>\n",
       "      <td>domicile</td>\n",
       "      <td>[L. Ajorque, H. Diallo, K. Lala, L. Ajorque, A...</td>\n",
       "      <td>[]</td>\n",
       "    </tr>\n",
       "    <tr>\n",
       "      <th>175</th>\n",
       "      <td>2021-01-06T21:00:00+0100</td>\n",
       "      <td>Lyon</td>\n",
       "      <td>Lyon</td>\n",
       "      <td>Lens</td>\n",
       "      <td>3</td>\n",
       "      <td>2</td>\n",
       "      <td>domicile</td>\n",
       "      <td>[M. Depay, S. Fortes, M. Depay]</td>\n",
       "      <td>[F. Sotoca, C. Doucouré]</td>\n",
       "    </tr>\n",
       "    <tr>\n",
       "      <th>176</th>\n",
       "      <td>2021-01-06T21:00:00+0100</td>\n",
       "      <td>Lille</td>\n",
       "      <td>Lille</td>\n",
       "      <td>Angers</td>\n",
       "      <td>1</td>\n",
       "      <td>2</td>\n",
       "      <td>exterieur</td>\n",
       "      <td>[B. Yilmaz]</td>\n",
       "      <td>[R. Thomas, R. Thomas]</td>\n",
       "    </tr>\n",
       "    <tr>\n",
       "      <th>177</th>\n",
       "      <td>2021-01-06T21:00:00+0100</td>\n",
       "      <td>Saint-Étienne</td>\n",
       "      <td>Saint-Étienne</td>\n",
       "      <td>Paris-SG</td>\n",
       "      <td>1</td>\n",
       "      <td>1</td>\n",
       "      <td>ex-aequo</td>\n",
       "      <td>[R. Hamouma]</td>\n",
       "      <td>[M. Kean]</td>\n",
       "    </tr>\n",
       "    <tr>\n",
       "      <th>178</th>\n",
       "      <td>2021-01-06T21:00:00+0100</td>\n",
       "      <td>Marseille</td>\n",
       "      <td>Marseille</td>\n",
       "      <td>Montpellier</td>\n",
       "      <td>3</td>\n",
       "      <td>1</td>\n",
       "      <td>domicile</td>\n",
       "      <td>[N. Radonjic, D. Payet, V. Germain]</td>\n",
       "      <td>[F. Mollet]</td>\n",
       "    </tr>\n",
       "    <tr>\n",
       "      <th>179</th>\n",
       "      <td>2021-01-06T21:00:00+0100</td>\n",
       "      <td>Reims</td>\n",
       "      <td>Reims</td>\n",
       "      <td>Dijon</td>\n",
       "      <td>0</td>\n",
       "      <td>0</td>\n",
       "      <td>ex-aequo</td>\n",
       "      <td>[]</td>\n",
       "      <td>[]</td>\n",
       "    </tr>\n",
       "    <tr>\n",
       "      <th>180</th>\n",
       "      <td>2021-01-09T21:00:00+0100</td>\n",
       "      <td>Rennes</td>\n",
       "      <td>Rennes</td>\n",
       "      <td>Lyon</td>\n",
       "      <td>2</td>\n",
       "      <td>2</td>\n",
       "      <td>ex-aequo</td>\n",
       "      <td>[C. Grenier, B. Bourigeaud]</td>\n",
       "      <td>[M. Depay, J. Denayer]</td>\n",
       "    </tr>\n",
       "    <tr>\n",
       "      <th>181</th>\n",
       "      <td>2021-01-09T21:00:00+0100</td>\n",
       "      <td>Paris</td>\n",
       "      <td>Paris-SG</td>\n",
       "      <td>Brest</td>\n",
       "      <td>3</td>\n",
       "      <td>0</td>\n",
       "      <td>domicile</td>\n",
       "      <td>[M. Kean, M. Icardi, P. Sarabia]</td>\n",
       "      <td>[]</td>\n",
       "    </tr>\n",
       "    <tr>\n",
       "      <th>182</th>\n",
       "      <td>2021-01-09T21:00:00+0100</td>\n",
       "      <td>Nîmes</td>\n",
       "      <td>Nîmes</td>\n",
       "      <td>Lille</td>\n",
       "      <td>0</td>\n",
       "      <td>1</td>\n",
       "      <td>exterieur</td>\n",
       "      <td>[]</td>\n",
       "      <td>[B. Yilmaz]</td>\n",
       "    </tr>\n",
       "    <tr>\n",
       "      <th>183</th>\n",
       "      <td>2021-01-09T21:00:00+0100</td>\n",
       "      <td>Dijon</td>\n",
       "      <td>Dijon</td>\n",
       "      <td>Marseille</td>\n",
       "      <td>0</td>\n",
       "      <td>0</td>\n",
       "      <td>ex-aequo</td>\n",
       "      <td>[]</td>\n",
       "      <td>[]</td>\n",
       "    </tr>\n",
       "    <tr>\n",
       "      <th>184</th>\n",
       "      <td>2021-01-09T21:00:00+0100</td>\n",
       "      <td>Monaco</td>\n",
       "      <td>Monaco</td>\n",
       "      <td>Angers</td>\n",
       "      <td>3</td>\n",
       "      <td>0</td>\n",
       "      <td>domicile</td>\n",
       "      <td>[G. Maripan, K. Volland, S. Jovetic]</td>\n",
       "      <td>[]</td>\n",
       "    </tr>\n",
       "    <tr>\n",
       "      <th>185</th>\n",
       "      <td>2021-01-09T21:00:00+0100</td>\n",
       "      <td>Lens</td>\n",
       "      <td>Lens</td>\n",
       "      <td>Strasbourg</td>\n",
       "      <td>0</td>\n",
       "      <td>1</td>\n",
       "      <td>exterieur</td>\n",
       "      <td>[]</td>\n",
       "      <td>[H. Diallo]</td>\n",
       "    </tr>\n",
       "    <tr>\n",
       "      <th>186</th>\n",
       "      <td>2021-01-09T21:00:00+0100</td>\n",
       "      <td>Montpellier</td>\n",
       "      <td>Montpellier</td>\n",
       "      <td>Nantes</td>\n",
       "      <td>1</td>\n",
       "      <td>1</td>\n",
       "      <td>ex-aequo</td>\n",
       "      <td>[A. Oyongo]</td>\n",
       "      <td>[I. Louza]</td>\n",
       "    </tr>\n",
       "    <tr>\n",
       "      <th>187</th>\n",
       "      <td>2021-01-09T21:00:00+0100</td>\n",
       "      <td>Metz</td>\n",
       "      <td>Metz</td>\n",
       "      <td>Nice</td>\n",
       "      <td>1</td>\n",
       "      <td>1</td>\n",
       "      <td>ex-aequo</td>\n",
       "      <td>[J. Boye]</td>\n",
       "      <td>[A. Gouiri]</td>\n",
       "    </tr>\n",
       "    <tr>\n",
       "      <th>188</th>\n",
       "      <td>2021-01-09T21:00:00+0100</td>\n",
       "      <td>Bordeaux</td>\n",
       "      <td>Bordeaux</td>\n",
       "      <td>Lorient</td>\n",
       "      <td>2</td>\n",
       "      <td>1</td>\n",
       "      <td>domicile</td>\n",
       "      <td>[R. Oudin, R. Oudin]</td>\n",
       "      <td>[T. Moffi]</td>\n",
       "    </tr>\n",
       "    <tr>\n",
       "      <th>189</th>\n",
       "      <td>2021-01-09T21:00:00+0100</td>\n",
       "      <td>Reims</td>\n",
       "      <td>Reims</td>\n",
       "      <td>Saint-Étienne</td>\n",
       "      <td>3</td>\n",
       "      <td>1</td>\n",
       "      <td>domicile</td>\n",
       "      <td>[B. Dia, B. Dia, M. Cafaro]</td>\n",
       "      <td>[C. Abi]</td>\n",
       "    </tr>\n",
       "    <tr>\n",
       "      <th>190</th>\n",
       "      <td>2021-01-15T21:00:00+0100</td>\n",
       "      <td>Montpellier</td>\n",
       "      <td>Montpellier</td>\n",
       "      <td>Monaco</td>\n",
       "      <td>2</td>\n",
       "      <td>3</td>\n",
       "      <td>exterieur</td>\n",
       "      <td>[S. Wahi, A. Delort]</td>\n",
       "      <td>[K. Volland, W. Ben Yedder, W. Ben Yedder]</td>\n",
       "    </tr>\n",
       "    <tr>\n",
       "      <th>191</th>\n",
       "      <td>2021-01-16T17:00:00+0100</td>\n",
       "      <td>Marseille</td>\n",
       "      <td>Marseille</td>\n",
       "      <td>Nîmes</td>\n",
       "      <td>1</td>\n",
       "      <td>2</td>\n",
       "      <td>exterieur</td>\n",
       "      <td>[D. Benedetto]</td>\n",
       "      <td>[N. Eliasson, N. Eliasson]</td>\n",
       "    </tr>\n",
       "    <tr>\n",
       "      <th>192</th>\n",
       "      <td>2021-01-16T21:00:00+0100</td>\n",
       "      <td>Angers</td>\n",
       "      <td>Angers</td>\n",
       "      <td>Paris-SG</td>\n",
       "      <td>0</td>\n",
       "      <td>1</td>\n",
       "      <td>exterieur</td>\n",
       "      <td>[]</td>\n",
       "      <td>[L. Kurzawa]</td>\n",
       "    </tr>\n",
       "    <tr>\n",
       "      <th>193</th>\n",
       "      <td>2021-01-17T13:00:00+0100</td>\n",
       "      <td>Brest</td>\n",
       "      <td>Brest</td>\n",
       "      <td>Rennes</td>\n",
       "      <td>1</td>\n",
       "      <td>2</td>\n",
       "      <td>exterieur</td>\n",
       "      <td>[F. Honorat]</td>\n",
       "      <td>[B. Bourigeaud, C. Grenier]</td>\n",
       "    </tr>\n",
       "    <tr>\n",
       "      <th>194</th>\n",
       "      <td>2021-01-17T15:00:00+0100</td>\n",
       "      <td>Nantes</td>\n",
       "      <td>Nantes</td>\n",
       "      <td>Lens</td>\n",
       "      <td>1</td>\n",
       "      <td>1</td>\n",
       "      <td>ex-aequo</td>\n",
       "      <td>[I. Louza]</td>\n",
       "      <td>[G. Kakuta]</td>\n",
       "    </tr>\n",
       "    <tr>\n",
       "      <th>195</th>\n",
       "      <td>2021-01-17T15:00:00+0100</td>\n",
       "      <td>Nice</td>\n",
       "      <td>Nice</td>\n",
       "      <td>Bordeaux</td>\n",
       "      <td>0</td>\n",
       "      <td>3</td>\n",
       "      <td>exterieur</td>\n",
       "      <td>[]</td>\n",
       "      <td>[U. Hwang, P. Baysse, T. Basic]</td>\n",
       "    </tr>\n",
       "    <tr>\n",
       "      <th>196</th>\n",
       "      <td>2021-01-17T15:00:00+0100</td>\n",
       "      <td>Strasbourg</td>\n",
       "      <td>Strasbourg</td>\n",
       "      <td>Saint-Étienne</td>\n",
       "      <td>1</td>\n",
       "      <td>0</td>\n",
       "      <td>domicile</td>\n",
       "      <td>[L. Ajorque]</td>\n",
       "      <td>[]</td>\n",
       "    </tr>\n",
       "    <tr>\n",
       "      <th>197</th>\n",
       "      <td>2021-01-17T17:00:00+0100</td>\n",
       "      <td>Lille</td>\n",
       "      <td>Lille</td>\n",
       "      <td>Reims</td>\n",
       "      <td>2</td>\n",
       "      <td>1</td>\n",
       "      <td>domicile</td>\n",
       "      <td>[J. Bamba, J. David]</td>\n",
       "      <td>[A. Zeneli]</td>\n",
       "    </tr>\n",
       "    <tr>\n",
       "      <th>198</th>\n",
       "      <td>2021-01-17T21:00:00+0100</td>\n",
       "      <td>Lyon</td>\n",
       "      <td>Lyon</td>\n",
       "      <td>Metz</td>\n",
       "      <td>0</td>\n",
       "      <td>1</td>\n",
       "      <td>exterieur</td>\n",
       "      <td>[]</td>\n",
       "      <td>[A. Leya Iseka]</td>\n",
       "    </tr>\n",
       "    <tr>\n",
       "      <th>199</th>\n",
       "      <td>2021-01-27T21:00:00+0100</td>\n",
       "      <td>Lorient</td>\n",
       "      <td>Lorient</td>\n",
       "      <td>Dijon</td>\n",
       "      <td>3</td>\n",
       "      <td>2</td>\n",
       "      <td>domicile</td>\n",
       "      <td>[T. Chalobah, T. Moffi, A. Gravillon]</td>\n",
       "      <td>[B. Ecuele Manga, M. Baldé]</td>\n",
       "    </tr>\n",
       "    <tr>\n",
       "      <th>200</th>\n",
       "      <td>2021-01-22T21:00:00+0100</td>\n",
       "      <td>Paris</td>\n",
       "      <td>Paris-SG</td>\n",
       "      <td>Montpellier</td>\n",
       "      <td>4</td>\n",
       "      <td>0</td>\n",
       "      <td>domicile</td>\n",
       "      <td>[K. Mbappé, Neymar, M. Icardi, K. Mbappé]</td>\n",
       "      <td>[]</td>\n",
       "    </tr>\n",
       "    <tr>\n",
       "      <th>201</th>\n",
       "      <td>2021-01-23T17:00:00+0100</td>\n",
       "      <td>Lens</td>\n",
       "      <td>Lens</td>\n",
       "      <td>Nice</td>\n",
       "      <td>0</td>\n",
       "      <td>1</td>\n",
       "      <td>exterieur</td>\n",
       "      <td>[]</td>\n",
       "      <td>[Y. Atal]</td>\n",
       "    </tr>\n",
       "    <tr>\n",
       "      <th>202</th>\n",
       "      <td>2021-01-23T21:00:00+0100</td>\n",
       "      <td>Monaco</td>\n",
       "      <td>Monaco</td>\n",
       "      <td>Marseille</td>\n",
       "      <td>3</td>\n",
       "      <td>1</td>\n",
       "      <td>domicile</td>\n",
       "      <td>[G. Maripan, A. Tchouaméni, S. Jovetic]</td>\n",
       "      <td>[N. Radonjic]</td>\n",
       "    </tr>\n",
       "    <tr>\n",
       "      <th>203</th>\n",
       "      <td>2021-01-24T13:00:00+0100</td>\n",
       "      <td>Bordeaux</td>\n",
       "      <td>Bordeaux</td>\n",
       "      <td>Angers</td>\n",
       "      <td>2</td>\n",
       "      <td>1</td>\n",
       "      <td>domicile</td>\n",
       "      <td>[U. Hwang, U. Hwang]</td>\n",
       "      <td>[A. Fulgini]</td>\n",
       "    </tr>\n",
       "    <tr>\n",
       "      <th>204</th>\n",
       "      <td>2021-01-24T15:00:00+0100</td>\n",
       "      <td>Metz</td>\n",
       "      <td>Metz</td>\n",
       "      <td>Nantes</td>\n",
       "      <td>2</td>\n",
       "      <td>0</td>\n",
       "      <td>domicile</td>\n",
       "      <td>[A. Leya Iseka, F. Boulaya]</td>\n",
       "      <td>[]</td>\n",
       "    </tr>\n",
       "    <tr>\n",
       "      <th>205</th>\n",
       "      <td>2021-01-24T15:00:00+0100</td>\n",
       "      <td>Reims</td>\n",
       "      <td>Reims</td>\n",
       "      <td>Brest</td>\n",
       "      <td>1</td>\n",
       "      <td>0</td>\n",
       "      <td>domicile</td>\n",
       "      <td>[N. Mbuku]</td>\n",
       "      <td>[]</td>\n",
       "    </tr>\n",
       "    <tr>\n",
       "      <th>206</th>\n",
       "      <td>2021-01-24T15:00:00+0100</td>\n",
       "      <td>Dijon</td>\n",
       "      <td>Dijon</td>\n",
       "      <td>Strasbourg</td>\n",
       "      <td>1</td>\n",
       "      <td>1</td>\n",
       "      <td>ex-aequo</td>\n",
       "      <td>[S. Coulibaly]</td>\n",
       "      <td>[L. Ajorque]</td>\n",
       "    </tr>\n",
       "    <tr>\n",
       "      <th>207</th>\n",
       "      <td>2021-01-24T17:00:00+0100</td>\n",
       "      <td>Rennes</td>\n",
       "      <td>Rennes</td>\n",
       "      <td>Lille</td>\n",
       "      <td>0</td>\n",
       "      <td>1</td>\n",
       "      <td>exterieur</td>\n",
       "      <td>[]</td>\n",
       "      <td>[J. David]</td>\n",
       "    </tr>\n",
       "    <tr>\n",
       "      <th>208</th>\n",
       "      <td>2021-01-24T21:00:00+0100</td>\n",
       "      <td>Saint-Étienne</td>\n",
       "      <td>Saint-Étienne</td>\n",
       "      <td>Lyon</td>\n",
       "      <td>0</td>\n",
       "      <td>5</td>\n",
       "      <td>exterieur</td>\n",
       "      <td>[]</td>\n",
       "      <td>[T. Kadewere, Marcelo, Marcelo, T. Kadewere, D...</td>\n",
       "    </tr>\n",
       "    <tr>\n",
       "      <th>209</th>\n",
       "      <td>2021-02-24T19:00:00+0100</td>\n",
       "      <td>Nîmes</td>\n",
       "      <td>Nîmes</td>\n",
       "      <td>Lorient</td>\n",
       "      <td>1</td>\n",
       "      <td>0</td>\n",
       "      <td>domicile</td>\n",
       "      <td>[R. Ripart]</td>\n",
       "      <td>[]</td>\n",
       "    </tr>\n",
       "    <tr>\n",
       "      <th>210</th>\n",
       "      <td>2021-01-29T21:00:00+0100</td>\n",
       "      <td>Lyon</td>\n",
       "      <td>Lyon</td>\n",
       "      <td>Bordeaux</td>\n",
       "      <td>2</td>\n",
       "      <td>1</td>\n",
       "      <td>domicile</td>\n",
       "      <td>[K. Toko Ekambi, L. Dubois]</td>\n",
       "      <td>[S. Kalu]</td>\n",
       "    </tr>\n",
       "    <tr>\n",
       "      <th>211</th>\n",
       "      <td>2021-01-30T17:00:00+0100</td>\n",
       "      <td>Montpellier</td>\n",
       "      <td>Montpellier</td>\n",
       "      <td>Lens</td>\n",
       "      <td>1</td>\n",
       "      <td>2</td>\n",
       "      <td>exterieur</td>\n",
       "      <td>[S. Wahi]</td>\n",
       "      <td>[C. Doucouré, G. Kakuta]</td>\n",
       "    </tr>\n",
       "    <tr>\n",
       "      <th>212</th>\n",
       "      <td>2021-01-31T13:00:00+0100</td>\n",
       "      <td>Nice</td>\n",
       "      <td>Nice</td>\n",
       "      <td>Saint-Étienne</td>\n",
       "      <td>0</td>\n",
       "      <td>1</td>\n",
       "      <td>exterieur</td>\n",
       "      <td>[]</td>\n",
       "      <td>[C. Abi]</td>\n",
       "    </tr>\n",
       "    <tr>\n",
       "      <th>213</th>\n",
       "      <td>2021-01-31T15:00:00+0100</td>\n",
       "      <td>Lorient</td>\n",
       "      <td>Lorient</td>\n",
       "      <td>Paris-SG</td>\n",
       "      <td>3</td>\n",
       "      <td>2</td>\n",
       "      <td>domicile</td>\n",
       "      <td>[L. Abergel, Y. Wissa, T. Moffi]</td>\n",
       "      <td>[Neymar, Neymar]</td>\n",
       "    </tr>\n",
       "    <tr>\n",
       "      <th>214</th>\n",
       "      <td>2021-01-31T15:00:00+0100</td>\n",
       "      <td>Brest</td>\n",
       "      <td>Brest</td>\n",
       "      <td>Metz</td>\n",
       "      <td>2</td>\n",
       "      <td>4</td>\n",
       "      <td>exterieur</td>\n",
       "      <td>[F. Honorat, I. Cardona]</td>\n",
       "      <td>[F. Boulaya, P. Sarr, P. Yade, V. Dias Goncalves]</td>\n",
       "    </tr>\n",
       "    <tr>\n",
       "      <th>215</th>\n",
       "      <td>2021-01-31T15:00:00+0100</td>\n",
       "      <td>Angers</td>\n",
       "      <td>Angers</td>\n",
       "      <td>Nîmes</td>\n",
       "      <td>3</td>\n",
       "      <td>1</td>\n",
       "      <td>domicile</td>\n",
       "      <td>[P. Capelle, L. Coulibaly, L. Diony]</td>\n",
       "      <td>[R. Ripart]</td>\n",
       "    </tr>\n",
       "    <tr>\n",
       "      <th>216</th>\n",
       "      <td>2021-01-31T15:00:00+0100</td>\n",
       "      <td>Strasbourg</td>\n",
       "      <td>Strasbourg</td>\n",
       "      <td>Reims</td>\n",
       "      <td>0</td>\n",
       "      <td>1</td>\n",
       "      <td>exterieur</td>\n",
       "      <td>[]</td>\n",
       "      <td>[D. Kutesa]</td>\n",
       "    </tr>\n",
       "    <tr>\n",
       "      <th>217</th>\n",
       "      <td>2021-01-31T17:00:00+0100</td>\n",
       "      <td>Lille</td>\n",
       "      <td>Lille</td>\n",
       "      <td>Dijon</td>\n",
       "      <td>1</td>\n",
       "      <td>0</td>\n",
       "      <td>domicile</td>\n",
       "      <td>[Y. Yazici]</td>\n",
       "      <td>[]</td>\n",
       "    </tr>\n",
       "    <tr>\n",
       "      <th>218</th>\n",
       "      <td>2021-01-31T21:00:00+0100</td>\n",
       "      <td>Nantes</td>\n",
       "      <td>Nantes</td>\n",
       "      <td>Monaco</td>\n",
       "      <td>1</td>\n",
       "      <td>2</td>\n",
       "      <td>exterieur</td>\n",
       "      <td>[R. Emond]</td>\n",
       "      <td>[G. Maripan, K. Volland]</td>\n",
       "    </tr>\n",
       "    <tr>\n",
       "      <th>219</th>\n",
       "      <td>2021-03-10T19:00:00+0100</td>\n",
       "      <td>Marseille</td>\n",
       "      <td>Marseille</td>\n",
       "      <td>Rennes</td>\n",
       "      <td>1</td>\n",
       "      <td>0</td>\n",
       "      <td>domicile</td>\n",
       "      <td>[M. Cuisance]</td>\n",
       "      <td>[]</td>\n",
       "    </tr>\n",
       "    <tr>\n",
       "      <th>220</th>\n",
       "      <td>2021-02-03T19:00:00+0100</td>\n",
       "      <td>Bordeaux</td>\n",
       "      <td>Bordeaux</td>\n",
       "      <td>Lille</td>\n",
       "      <td>0</td>\n",
       "      <td>3</td>\n",
       "      <td>exterieur</td>\n",
       "      <td>[]</td>\n",
       "      <td>[Y. Yazici, T. Weah, J. David]</td>\n",
       "    </tr>\n",
       "    <tr>\n",
       "      <th>221</th>\n",
       "      <td>2021-02-03T19:00:00+0100</td>\n",
       "      <td>Rennes</td>\n",
       "      <td>Rennes</td>\n",
       "      <td>Lorient</td>\n",
       "      <td>1</td>\n",
       "      <td>1</td>\n",
       "      <td>ex-aequo</td>\n",
       "      <td>[M. Terrier]</td>\n",
       "      <td>[Q. Boisgard]</td>\n",
       "    </tr>\n",
       "    <tr>\n",
       "      <th>222</th>\n",
       "      <td>2021-02-03T19:00:00+0100</td>\n",
       "      <td>Metz</td>\n",
       "      <td>Metz</td>\n",
       "      <td>Montpellier</td>\n",
       "      <td>1</td>\n",
       "      <td>1</td>\n",
       "      <td>ex-aequo</td>\n",
       "      <td>[P. Sarr]</td>\n",
       "      <td>[G. Laborde]</td>\n",
       "    </tr>\n",
       "    <tr>\n",
       "      <th>223</th>\n",
       "      <td>2021-02-03T19:00:00+0100</td>\n",
       "      <td>Reims</td>\n",
       "      <td>Reims</td>\n",
       "      <td>Angers</td>\n",
       "      <td>0</td>\n",
       "      <td>0</td>\n",
       "      <td>ex-aequo</td>\n",
       "      <td>[]</td>\n",
       "      <td>[]</td>\n",
       "    </tr>\n",
       "    <tr>\n",
       "      <th>224</th>\n",
       "      <td>2021-02-03T19:00:00+0100</td>\n",
       "      <td>Strasbourg</td>\n",
       "      <td>Strasbourg</td>\n",
       "      <td>Brest</td>\n",
       "      <td>2</td>\n",
       "      <td>2</td>\n",
       "      <td>ex-aequo</td>\n",
       "      <td>[A. Thomasson, J. Aholou]</td>\n",
       "      <td>[G. Charbonnier, J. Le Douaron]</td>\n",
       "    </tr>\n",
       "    <tr>\n",
       "      <th>225</th>\n",
       "      <td>2021-02-03T21:00:00+0100</td>\n",
       "      <td>Dijon</td>\n",
       "      <td>Dijon</td>\n",
       "      <td>Lyon</td>\n",
       "      <td>0</td>\n",
       "      <td>1</td>\n",
       "      <td>exterieur</td>\n",
       "      <td>[]</td>\n",
       "      <td>[L. Paqueta]</td>\n",
       "    </tr>\n",
       "    <tr>\n",
       "      <th>226</th>\n",
       "      <td>2021-02-03T21:00:00+0100</td>\n",
       "      <td>Paris</td>\n",
       "      <td>Paris-SG</td>\n",
       "      <td>Nîmes</td>\n",
       "      <td>3</td>\n",
       "      <td>0</td>\n",
       "      <td>domicile</td>\n",
       "      <td>[A. Di Maria, P. Sarabia, K. Mbappé]</td>\n",
       "      <td>[]</td>\n",
       "    </tr>\n",
       "    <tr>\n",
       "      <th>227</th>\n",
       "      <td>2021-02-03T21:00:00+0100</td>\n",
       "      <td>Monaco</td>\n",
       "      <td>Monaco</td>\n",
       "      <td>Nice</td>\n",
       "      <td>2</td>\n",
       "      <td>1</td>\n",
       "      <td>domicile</td>\n",
       "      <td>[W. Ben Yedder, W. Ben Yedder]</td>\n",
       "      <td>[P. Lees-Melou]</td>\n",
       "    </tr>\n",
       "    <tr>\n",
       "      <th>228</th>\n",
       "      <td>2021-02-03T21:00:00+0100</td>\n",
       "      <td>Lens</td>\n",
       "      <td>Lens</td>\n",
       "      <td>Marseille</td>\n",
       "      <td>2</td>\n",
       "      <td>2</td>\n",
       "      <td>ex-aequo</td>\n",
       "      <td>[F. Sotoca, F. Medina]</td>\n",
       "      <td>[F. Thauvin, A. Milik]</td>\n",
       "    </tr>\n",
       "    <tr>\n",
       "      <th>229</th>\n",
       "      <td>2021-02-03T21:00:00+0100</td>\n",
       "      <td>Saint-Étienne</td>\n",
       "      <td>Saint-Étienne</td>\n",
       "      <td>Nantes</td>\n",
       "      <td>1</td>\n",
       "      <td>1</td>\n",
       "      <td>ex-aequo</td>\n",
       "      <td>[M. Camara]</td>\n",
       "      <td>[R. Kolo Muani]</td>\n",
       "    </tr>\n",
       "    <tr>\n",
       "      <th>230</th>\n",
       "      <td>2021-02-06T17:00:00+0100</td>\n",
       "      <td>Lorient</td>\n",
       "      <td>Lorient</td>\n",
       "      <td>Reims</td>\n",
       "      <td>1</td>\n",
       "      <td>0</td>\n",
       "      <td>domicile</td>\n",
       "      <td>[L. Abergel]</td>\n",
       "      <td>[]</td>\n",
       "    </tr>\n",
       "    <tr>\n",
       "      <th>231</th>\n",
       "      <td>2021-02-06T19:00:00+0100</td>\n",
       "      <td>Lyon</td>\n",
       "      <td>Lyon</td>\n",
       "      <td>Strasbourg</td>\n",
       "      <td>3</td>\n",
       "      <td>0</td>\n",
       "      <td>domicile</td>\n",
       "      <td>[M. Depay, K. Toko Ekambi, M. Depay]</td>\n",
       "      <td>[]</td>\n",
       "    </tr>\n",
       "    <tr>\n",
       "      <th>232</th>\n",
       "      <td>2021-02-06T21:00:00+0100</td>\n",
       "      <td>Lens</td>\n",
       "      <td>Lens</td>\n",
       "      <td>Rennes</td>\n",
       "      <td>0</td>\n",
       "      <td>0</td>\n",
       "      <td>ex-aequo</td>\n",
       "      <td>[]</td>\n",
       "      <td>[]</td>\n",
       "    </tr>\n",
       "    <tr>\n",
       "      <th>233</th>\n",
       "      <td>2021-02-07T13:00:00+0100</td>\n",
       "      <td>Brest</td>\n",
       "      <td>Brest</td>\n",
       "      <td>Bordeaux</td>\n",
       "      <td>2</td>\n",
       "      <td>1</td>\n",
       "      <td>domicile</td>\n",
       "      <td>[S. Mounié, R. Faivre]</td>\n",
       "      <td>[U. Hwang]</td>\n",
       "    </tr>\n",
       "    <tr>\n",
       "      <th>234</th>\n",
       "      <td>2021-02-07T15:00:00+0100</td>\n",
       "      <td>Nîmes</td>\n",
       "      <td>Nîmes</td>\n",
       "      <td>Monaco</td>\n",
       "      <td>3</td>\n",
       "      <td>4</td>\n",
       "      <td>exterieur</td>\n",
       "      <td>[L. Deaux, Z. Ferhat, N. Eliasson]</td>\n",
       "      <td>[A. Golovine, A. Golovine, A. Golovine, K. Vol...</td>\n",
       "    </tr>\n",
       "    <tr>\n",
       "      <th>235</th>\n",
       "      <td>2021-02-07T15:00:00+0100</td>\n",
       "      <td>Saint-Étienne</td>\n",
       "      <td>Saint-Étienne</td>\n",
       "      <td>Metz</td>\n",
       "      <td>1</td>\n",
       "      <td>0</td>\n",
       "      <td>domicile</td>\n",
       "      <td>[J. Boye]</td>\n",
       "      <td>[]</td>\n",
       "    </tr>\n",
       "    <tr>\n",
       "      <th>236</th>\n",
       "      <td>2021-02-07T15:00:00+0100</td>\n",
       "      <td>Nice</td>\n",
       "      <td>Nice</td>\n",
       "      <td>Angers</td>\n",
       "      <td>3</td>\n",
       "      <td>0</td>\n",
       "      <td>domicile</td>\n",
       "      <td>[S. Doumbia, M. Maolida, A. Gouiri]</td>\n",
       "      <td>[]</td>\n",
       "    </tr>\n",
       "    <tr>\n",
       "      <th>237</th>\n",
       "      <td>2021-02-07T15:00:00+0100</td>\n",
       "      <td>Montpellier</td>\n",
       "      <td>Montpellier</td>\n",
       "      <td>Dijon</td>\n",
       "      <td>4</td>\n",
       "      <td>2</td>\n",
       "      <td>domicile</td>\n",
       "      <td>[G. Laborde, G. Laborde, T. Savanier, P. Skule...</td>\n",
       "      <td>[S. Coulibaly, M. Konaté]</td>\n",
       "    </tr>\n",
       "    <tr>\n",
       "      <th>238</th>\n",
       "      <td>2021-02-07T17:00:00+0100</td>\n",
       "      <td>Nantes</td>\n",
       "      <td>Nantes</td>\n",
       "      <td>Lille</td>\n",
       "      <td>0</td>\n",
       "      <td>2</td>\n",
       "      <td>exterieur</td>\n",
       "      <td>[]</td>\n",
       "      <td>[J. David, J. David]</td>\n",
       "    </tr>\n",
       "    <tr>\n",
       "      <th>239</th>\n",
       "      <td>2021-02-07T21:00:00+0100</td>\n",
       "      <td>Marseille</td>\n",
       "      <td>Marseille</td>\n",
       "      <td>Paris-SG</td>\n",
       "      <td>0</td>\n",
       "      <td>2</td>\n",
       "      <td>exterieur</td>\n",
       "      <td>[]</td>\n",
       "      <td>[K. Mbappé, M. Icardi]</td>\n",
       "    </tr>\n",
       "    <tr>\n",
       "      <th>240</th>\n",
       "      <td>2021-02-13T17:00:00+0100</td>\n",
       "      <td>Paris</td>\n",
       "      <td>Paris-SG</td>\n",
       "      <td>Nice</td>\n",
       "      <td>2</td>\n",
       "      <td>1</td>\n",
       "      <td>domicile</td>\n",
       "      <td>[J. Draxler, M. Kean]</td>\n",
       "      <td>[R. Lopes]</td>\n",
       "    </tr>\n",
       "    <tr>\n",
       "      <th>241</th>\n",
       "      <td>2021-02-13T19:00:00+0100</td>\n",
       "      <td>Reims</td>\n",
       "      <td>Reims</td>\n",
       "      <td>Lens</td>\n",
       "      <td>1</td>\n",
       "      <td>1</td>\n",
       "      <td>ex-aequo</td>\n",
       "      <td>[A. Zeneli]</td>\n",
       "      <td>[F. Sotoca]</td>\n",
       "    </tr>\n",
       "    <tr>\n",
       "      <th>242</th>\n",
       "      <td>2021-02-13T21:00:00+0100</td>\n",
       "      <td>Lyon</td>\n",
       "      <td>Lyon</td>\n",
       "      <td>Montpellier</td>\n",
       "      <td>1</td>\n",
       "      <td>2</td>\n",
       "      <td>exterieur</td>\n",
       "      <td>[L. Paqueta]</td>\n",
       "      <td>[T. Savanier, S. Wahi]</td>\n",
       "    </tr>\n",
       "    <tr>\n",
       "      <th>243</th>\n",
       "      <td>2021-02-14T13:00:00+0100</td>\n",
       "      <td>Monaco</td>\n",
       "      <td>Monaco</td>\n",
       "      <td>Lorient</td>\n",
       "      <td>2</td>\n",
       "      <td>2</td>\n",
       "      <td>ex-aequo</td>\n",
       "      <td>[W. Ben Yedder, W. Ben Yedder]</td>\n",
       "      <td>[T. Moffi, T. Moffi]</td>\n",
       "    </tr>\n",
       "    <tr>\n",
       "      <th>244</th>\n",
       "      <td>2021-02-14T15:00:00+0100</td>\n",
       "      <td>Rennes</td>\n",
       "      <td>Rennes</td>\n",
       "      <td>Saint-Étienne</td>\n",
       "      <td>0</td>\n",
       "      <td>2</td>\n",
       "      <td>exterieur</td>\n",
       "      <td>[]</td>\n",
       "      <td>[D. Bouanga, A. Nordin]</td>\n",
       "    </tr>\n",
       "    <tr>\n",
       "      <th>245</th>\n",
       "      <td>2021-02-14T15:00:00+0100</td>\n",
       "      <td>Metz</td>\n",
       "      <td>Metz</td>\n",
       "      <td>Strasbourg</td>\n",
       "      <td>1</td>\n",
       "      <td>2</td>\n",
       "      <td>exterieur</td>\n",
       "      <td>[T. Delaine]</td>\n",
       "      <td>[A. Thomasson, A. Thomasson]</td>\n",
       "    </tr>\n",
       "    <tr>\n",
       "      <th>246</th>\n",
       "      <td>2021-02-14T15:00:00+0100</td>\n",
       "      <td>Angers</td>\n",
       "      <td>Angers</td>\n",
       "      <td>Nantes</td>\n",
       "      <td>1</td>\n",
       "      <td>3</td>\n",
       "      <td>exterieur</td>\n",
       "      <td>[T. Mangani]</td>\n",
       "      <td>[M. Simon, I. Louza, A. Bamba]</td>\n",
       "    </tr>\n",
       "    <tr>\n",
       "      <th>247</th>\n",
       "      <td>2021-02-14T15:00:00+0100</td>\n",
       "      <td>Dijon</td>\n",
       "      <td>Dijon</td>\n",
       "      <td>Nîmes</td>\n",
       "      <td>0</td>\n",
       "      <td>2</td>\n",
       "      <td>exterieur</td>\n",
       "      <td>[]</td>\n",
       "      <td>[R. Ripart, N. Eliasson]</td>\n",
       "    </tr>\n",
       "    <tr>\n",
       "      <th>248</th>\n",
       "      <td>2021-02-14T17:05:00+0100</td>\n",
       "      <td>Lille</td>\n",
       "      <td>Lille</td>\n",
       "      <td>Brest</td>\n",
       "      <td>0</td>\n",
       "      <td>0</td>\n",
       "      <td>ex-aequo</td>\n",
       "      <td>[]</td>\n",
       "      <td>[]</td>\n",
       "    </tr>\n",
       "    <tr>\n",
       "      <th>249</th>\n",
       "      <td>2021-02-14T21:00:00+0100</td>\n",
       "      <td>Bordeaux</td>\n",
       "      <td>Bordeaux</td>\n",
       "      <td>Marseille</td>\n",
       "      <td>0</td>\n",
       "      <td>0</td>\n",
       "      <td>ex-aequo</td>\n",
       "      <td>[]</td>\n",
       "      <td>[]</td>\n",
       "    </tr>\n",
       "    <tr>\n",
       "      <th>250</th>\n",
       "      <td>2021-02-19T21:00:00+0100</td>\n",
       "      <td>Brest</td>\n",
       "      <td>Brest</td>\n",
       "      <td>Lyon</td>\n",
       "      <td>2</td>\n",
       "      <td>3</td>\n",
       "      <td>exterieur</td>\n",
       "      <td>[B. Chardonnet, I. Cardona]</td>\n",
       "      <td>[L. Paqueta, H. Aouar, M. Depay]</td>\n",
       "    </tr>\n",
       "    <tr>\n",
       "      <th>251</th>\n",
       "      <td>2021-02-20T13:00:00+0100</td>\n",
       "      <td>Saint-Étienne</td>\n",
       "      <td>Saint-Étienne</td>\n",
       "      <td>Reims</td>\n",
       "      <td>1</td>\n",
       "      <td>1</td>\n",
       "      <td>ex-aequo</td>\n",
       "      <td>[C. Abi]</td>\n",
       "      <td>[E. Touré]</td>\n",
       "    </tr>\n",
       "    <tr>\n",
       "      <th>252</th>\n",
       "      <td>2021-02-20T17:00:00+0100</td>\n",
       "      <td>Nantes</td>\n",
       "      <td>Nantes</td>\n",
       "      <td>Marseille</td>\n",
       "      <td>1</td>\n",
       "      <td>1</td>\n",
       "      <td>ex-aequo</td>\n",
       "      <td>[L. Blas]</td>\n",
       "      <td>[D. Payet]</td>\n",
       "    </tr>\n",
       "    <tr>\n",
       "      <th>253</th>\n",
       "      <td>2021-02-21T13:00:00+0100</td>\n",
       "      <td>Montpellier</td>\n",
       "      <td>Montpellier</td>\n",
       "      <td>Rennes</td>\n",
       "      <td>2</td>\n",
       "      <td>1</td>\n",
       "      <td>domicile</td>\n",
       "      <td>[S. Mavididi, S. Mavididi]</td>\n",
       "      <td>[S. Guirassy]</td>\n",
       "    </tr>\n",
       "    <tr>\n",
       "      <th>254</th>\n",
       "      <td>2021-02-21T15:00:00+0100</td>\n",
       "      <td>Lens</td>\n",
       "      <td>Lens</td>\n",
       "      <td>Dijon</td>\n",
       "      <td>2</td>\n",
       "      <td>1</td>\n",
       "      <td>domicile</td>\n",
       "      <td>[S. Fofana, S. Banza]</td>\n",
       "      <td>[G. Ngonda Muzinga]</td>\n",
       "    </tr>\n",
       "    <tr>\n",
       "      <th>255</th>\n",
       "      <td>2021-02-21T15:00:00+0100</td>\n",
       "      <td>Nice</td>\n",
       "      <td>Nice</td>\n",
       "      <td>Metz</td>\n",
       "      <td>1</td>\n",
       "      <td>2</td>\n",
       "      <td>exterieur</td>\n",
       "      <td>[A. Gouiri]</td>\n",
       "      <td>[B. Kouyaté, M. Gueye]</td>\n",
       "    </tr>\n",
       "    <tr>\n",
       "      <th>256</th>\n",
       "      <td>2021-02-21T15:00:00+0100</td>\n",
       "      <td>Strasbourg</td>\n",
       "      <td>Strasbourg</td>\n",
       "      <td>Angers</td>\n",
       "      <td>0</td>\n",
       "      <td>0</td>\n",
       "      <td>ex-aequo</td>\n",
       "      <td>[]</td>\n",
       "      <td>[]</td>\n",
       "    </tr>\n",
       "    <tr>\n",
       "      <th>257</th>\n",
       "      <td>2021-02-21T15:00:00+0100</td>\n",
       "      <td>Nîmes</td>\n",
       "      <td>Nîmes</td>\n",
       "      <td>Bordeaux</td>\n",
       "      <td>2</td>\n",
       "      <td>0</td>\n",
       "      <td>domicile</td>\n",
       "      <td>[B. Meling, R. Ripart]</td>\n",
       "      <td>[]</td>\n",
       "    </tr>\n",
       "    <tr>\n",
       "      <th>258</th>\n",
       "      <td>2021-02-21T17:05:00+0100</td>\n",
       "      <td>Lorient</td>\n",
       "      <td>Lorient</td>\n",
       "      <td>Lille</td>\n",
       "      <td>1</td>\n",
       "      <td>4</td>\n",
       "      <td>exterieur</td>\n",
       "      <td>[J. Hergault]</td>\n",
       "      <td>[A. Gravillon, J. Fonte, J. Ikoné, D. Bradaric]</td>\n",
       "    </tr>\n",
       "    <tr>\n",
       "      <th>259</th>\n",
       "      <td>2021-02-21T21:00:00+0100</td>\n",
       "      <td>Paris</td>\n",
       "      <td>Paris-SG</td>\n",
       "      <td>Monaco</td>\n",
       "      <td>0</td>\n",
       "      <td>2</td>\n",
       "      <td>exterieur</td>\n",
       "      <td>[]</td>\n",
       "      <td>[S. Diop, G. Maripan]</td>\n",
       "    </tr>\n",
       "    <tr>\n",
       "      <th>260</th>\n",
       "      <td>2021-02-26T21:00:00+0100</td>\n",
       "      <td>Rennes</td>\n",
       "      <td>Rennes</td>\n",
       "      <td>Nice</td>\n",
       "      <td>1</td>\n",
       "      <td>2</td>\n",
       "      <td>exterieur</td>\n",
       "      <td>[M. Terrier]</td>\n",
       "      <td>[A. Gouiri, F. Daniliuc]</td>\n",
       "    </tr>\n",
       "    <tr>\n",
       "      <th>261</th>\n",
       "      <td>2021-02-27T13:00:00+0100</td>\n",
       "      <td>Bordeaux</td>\n",
       "      <td>Bordeaux</td>\n",
       "      <td>Metz</td>\n",
       "      <td>1</td>\n",
       "      <td>2</td>\n",
       "      <td>exterieur</td>\n",
       "      <td>[S. Kalu]</td>\n",
       "      <td>[T. Delaine, V. Dias Goncalves]</td>\n",
       "    </tr>\n",
       "    <tr>\n",
       "      <th>262</th>\n",
       "      <td>2021-02-27T17:00:00+0100</td>\n",
       "      <td>Dijon</td>\n",
       "      <td>Dijon</td>\n",
       "      <td>Paris-SG</td>\n",
       "      <td>0</td>\n",
       "      <td>4</td>\n",
       "      <td>exterieur</td>\n",
       "      <td>[]</td>\n",
       "      <td>[M. Kean, K. Mbappé, K. Mbappé, D. Pereira]</td>\n",
       "    </tr>\n",
       "    <tr>\n",
       "      <th>263</th>\n",
       "      <td>2021-02-28T13:00:00+0100</td>\n",
       "      <td>Monaco</td>\n",
       "      <td>Monaco</td>\n",
       "      <td>Brest</td>\n",
       "      <td>2</td>\n",
       "      <td>0</td>\n",
       "      <td>domicile</td>\n",
       "      <td>[S. Jovetic, K. Volland]</td>\n",
       "      <td>[]</td>\n",
       "    </tr>\n",
       "    <tr>\n",
       "      <th>264</th>\n",
       "      <td>2021-02-28T15:00:00+0100</td>\n",
       "      <td>Angers</td>\n",
       "      <td>Angers</td>\n",
       "      <td>Lens</td>\n",
       "      <td>2</td>\n",
       "      <td>2</td>\n",
       "      <td>ex-aequo</td>\n",
       "      <td>[L. Diony, T. Mangani]</td>\n",
       "      <td>[J. Clauss, A. Kalimuendo]</td>\n",
       "    </tr>\n",
       "    <tr>\n",
       "      <th>265</th>\n",
       "      <td>2021-02-28T15:00:00+0100</td>\n",
       "      <td>Reims</td>\n",
       "      <td>Reims</td>\n",
       "      <td>Montpellier</td>\n",
       "      <td>0</td>\n",
       "      <td>0</td>\n",
       "      <td>ex-aequo</td>\n",
       "      <td>[]</td>\n",
       "      <td>[]</td>\n",
       "    </tr>\n",
       "    <tr>\n",
       "      <th>266</th>\n",
       "      <td>2021-02-28T15:00:00+0100</td>\n",
       "      <td>Lorient</td>\n",
       "      <td>Lorient</td>\n",
       "      <td>Saint-Étienne</td>\n",
       "      <td>2</td>\n",
       "      <td>1</td>\n",
       "      <td>domicile</td>\n",
       "      <td>[A. Laurienté, A. Laurienté]</td>\n",
       "      <td>[H. Moukoudi]</td>\n",
       "    </tr>\n",
       "    <tr>\n",
       "      <th>267</th>\n",
       "      <td>2021-02-28T15:00:00+0100</td>\n",
       "      <td>Nîmes</td>\n",
       "      <td>Nîmes</td>\n",
       "      <td>Nantes</td>\n",
       "      <td>1</td>\n",
       "      <td>1</td>\n",
       "      <td>ex-aequo</td>\n",
       "      <td>[M. Koné]</td>\n",
       "      <td>[L. Blas]</td>\n",
       "    </tr>\n",
       "    <tr>\n",
       "      <th>268</th>\n",
       "      <td>2021-02-28T17:05:00+0100</td>\n",
       "      <td>Lille</td>\n",
       "      <td>Lille</td>\n",
       "      <td>Strasbourg</td>\n",
       "      <td>1</td>\n",
       "      <td>1</td>\n",
       "      <td>ex-aequo</td>\n",
       "      <td>[J. Fonte]</td>\n",
       "      <td>[L. Ajorque]</td>\n",
       "    </tr>\n",
       "    <tr>\n",
       "      <th>269</th>\n",
       "      <td>2021-02-28T21:00:00+0100</td>\n",
       "      <td>Marseille</td>\n",
       "      <td>Marseille</td>\n",
       "      <td>Lyon</td>\n",
       "      <td>1</td>\n",
       "      <td>1</td>\n",
       "      <td>ex-aequo</td>\n",
       "      <td>[A. Milik]</td>\n",
       "      <td>[K. Toko Ekambi]</td>\n",
       "    </tr>\n",
       "    <tr>\n",
       "      <th>270</th>\n",
       "      <td>2021-03-03T19:00:00+0100</td>\n",
       "      <td>Lyon</td>\n",
       "      <td>Lyon</td>\n",
       "      <td>Rennes</td>\n",
       "      <td>1</td>\n",
       "      <td>0</td>\n",
       "      <td>domicile</td>\n",
       "      <td>[H. Aouar]</td>\n",
       "      <td>[]</td>\n",
       "    </tr>\n",
       "    <tr>\n",
       "      <th>271</th>\n",
       "      <td>2021-03-03T19:00:00+0100</td>\n",
       "      <td>Metz</td>\n",
       "      <td>Metz</td>\n",
       "      <td>Angers</td>\n",
       "      <td>0</td>\n",
       "      <td>1</td>\n",
       "      <td>exterieur</td>\n",
       "      <td>[]</td>\n",
       "      <td>[A. Fulgini]</td>\n",
       "    </tr>\n",
       "    <tr>\n",
       "      <th>272</th>\n",
       "      <td>2021-03-03T19:00:00+0100</td>\n",
       "      <td>Saint-Étienne</td>\n",
       "      <td>Saint-Étienne</td>\n",
       "      <td>Lens</td>\n",
       "      <td>2</td>\n",
       "      <td>3</td>\n",
       "      <td>exterieur</td>\n",
       "      <td>[H. Moukoudi, D. Bouanga]</td>\n",
       "      <td>[F. Sotoca, A. Kalimuendo, D. Pereira Da Costa]</td>\n",
       "    </tr>\n",
       "    <tr>\n",
       "      <th>273</th>\n",
       "      <td>2021-03-03T19:00:00+0100</td>\n",
       "      <td>Nice</td>\n",
       "      <td>Nice</td>\n",
       "      <td>Nîmes</td>\n",
       "      <td>2</td>\n",
       "      <td>1</td>\n",
       "      <td>domicile</td>\n",
       "      <td>[A. Gouiri, A. Claude-Maurice]</td>\n",
       "      <td>[L. Landre]</td>\n",
       "    </tr>\n",
       "    <tr>\n",
       "      <th>274</th>\n",
       "      <td>2021-03-03T19:00:00+0100</td>\n",
       "      <td>Brest</td>\n",
       "      <td>Brest</td>\n",
       "      <td>Dijon</td>\n",
       "      <td>3</td>\n",
       "      <td>1</td>\n",
       "      <td>domicile</td>\n",
       "      <td>[F. Honorat, S. Mounié, I. Cardona]</td>\n",
       "      <td>[R. Assalé]</td>\n",
       "    </tr>\n",
       "    <tr>\n",
       "      <th>275</th>\n",
       "      <td>2021-03-03T21:00:00+0100</td>\n",
       "      <td>Lille</td>\n",
       "      <td>Lille</td>\n",
       "      <td>Marseille</td>\n",
       "      <td>2</td>\n",
       "      <td>0</td>\n",
       "      <td>domicile</td>\n",
       "      <td>[J. David, J. David]</td>\n",
       "      <td>[]</td>\n",
       "    </tr>\n",
       "    <tr>\n",
       "      <th>276</th>\n",
       "      <td>2021-03-03T21:00:00+0100</td>\n",
       "      <td>Bordeaux</td>\n",
       "      <td>Bordeaux</td>\n",
       "      <td>Paris-SG</td>\n",
       "      <td>0</td>\n",
       "      <td>1</td>\n",
       "      <td>exterieur</td>\n",
       "      <td>[]</td>\n",
       "      <td>[P. Sarabia]</td>\n",
       "    </tr>\n",
       "    <tr>\n",
       "      <th>277</th>\n",
       "      <td>2021-03-03T21:00:00+0100</td>\n",
       "      <td>Strasbourg</td>\n",
       "      <td>Strasbourg</td>\n",
       "      <td>Monaco</td>\n",
       "      <td>1</td>\n",
       "      <td>0</td>\n",
       "      <td>domicile</td>\n",
       "      <td>[F. Guilbert]</td>\n",
       "      <td>[]</td>\n",
       "    </tr>\n",
       "    <tr>\n",
       "      <th>278</th>\n",
       "      <td>2021-03-03T21:00:00+0100</td>\n",
       "      <td>Montpellier</td>\n",
       "      <td>Montpellier</td>\n",
       "      <td>Lorient</td>\n",
       "      <td>1</td>\n",
       "      <td>1</td>\n",
       "      <td>ex-aequo</td>\n",
       "      <td>[S. Mavididi]</td>\n",
       "      <td>[A. Grbic]</td>\n",
       "    </tr>\n",
       "    <tr>\n",
       "      <th>279</th>\n",
       "      <td>2021-03-03T21:00:00+0100</td>\n",
       "      <td>Nantes</td>\n",
       "      <td>Nantes</td>\n",
       "      <td>Reims</td>\n",
       "      <td>1</td>\n",
       "      <td>2</td>\n",
       "      <td>exterieur</td>\n",
       "      <td>[M. Simon]</td>\n",
       "      <td>[G. Konan, Y. Abdelhamid]</td>\n",
       "    </tr>\n",
       "    <tr>\n",
       "      <th>280</th>\n",
       "      <td>2021-03-12T21:00:00+0100</td>\n",
       "      <td>Reims</td>\n",
       "      <td>Reims</td>\n",
       "      <td>Lyon</td>\n",
       "      <td>1</td>\n",
       "      <td>1</td>\n",
       "      <td>ex-aequo</td>\n",
       "      <td>[M. Cafaro]</td>\n",
       "      <td>[T. Kadewere]</td>\n",
       "    </tr>\n",
       "    <tr>\n",
       "      <th>281</th>\n",
       "      <td>2021-03-13T13:00:00+0100</td>\n",
       "      <td>Angers</td>\n",
       "      <td>Angers</td>\n",
       "      <td>Saint-Étienne</td>\n",
       "      <td>0</td>\n",
       "      <td>1</td>\n",
       "      <td>exterieur</td>\n",
       "      <td>[]</td>\n",
       "      <td>[W. Khazri]</td>\n",
       "    </tr>\n",
       "    <tr>\n",
       "      <th>282</th>\n",
       "      <td>2021-03-13T17:00:00+0100</td>\n",
       "      <td>Marseille</td>\n",
       "      <td>Marseille</td>\n",
       "      <td>Brest</td>\n",
       "      <td>3</td>\n",
       "      <td>1</td>\n",
       "      <td>domicile</td>\n",
       "      <td>[A. Milik, F. Thauvin, M. Cuisance]</td>\n",
       "      <td>[L. Brassier]</td>\n",
       "    </tr>\n",
       "    <tr>\n",
       "      <th>283</th>\n",
       "      <td>2021-03-14T13:00:00+0100</td>\n",
       "      <td>Nîmes</td>\n",
       "      <td>Nîmes</td>\n",
       "      <td>Montpellier</td>\n",
       "      <td>1</td>\n",
       "      <td>1</td>\n",
       "      <td>ex-aequo</td>\n",
       "      <td>[M. Koné]</td>\n",
       "      <td>[A. Delort]</td>\n",
       "    </tr>\n",
       "    <tr>\n",
       "      <th>284</th>\n",
       "      <td>2021-03-14T15:00:00+0100</td>\n",
       "      <td>Lens</td>\n",
       "      <td>Lens</td>\n",
       "      <td>Metz</td>\n",
       "      <td>2</td>\n",
       "      <td>2</td>\n",
       "      <td>ex-aequo</td>\n",
       "      <td>[J. Clauss, Y. Cahuzac]</td>\n",
       "      <td>[V. Dias Goncalves, T. Delaine]</td>\n",
       "    </tr>\n",
       "    <tr>\n",
       "      <th>285</th>\n",
       "      <td>2021-03-14T15:00:00+0100</td>\n",
       "      <td>Rennes</td>\n",
       "      <td>Rennes</td>\n",
       "      <td>Strasbourg</td>\n",
       "      <td>1</td>\n",
       "      <td>0</td>\n",
       "      <td>domicile</td>\n",
       "      <td>[B. Bourigeaud]</td>\n",
       "      <td>[]</td>\n",
       "    </tr>\n",
       "    <tr>\n",
       "      <th>286</th>\n",
       "      <td>2021-03-14T15:00:00+0100</td>\n",
       "      <td>Lorient</td>\n",
       "      <td>Lorient</td>\n",
       "      <td>Nice</td>\n",
       "      <td>1</td>\n",
       "      <td>1</td>\n",
       "      <td>ex-aequo</td>\n",
       "      <td>[Y. Wissa]</td>\n",
       "      <td>[M. Maolida]</td>\n",
       "    </tr>\n",
       "    <tr>\n",
       "      <th>287</th>\n",
       "      <td>2021-03-14T15:00:00+0100</td>\n",
       "      <td>Dijon</td>\n",
       "      <td>Dijon</td>\n",
       "      <td>Bordeaux</td>\n",
       "      <td>1</td>\n",
       "      <td>3</td>\n",
       "      <td>exterieur</td>\n",
       "      <td>[M. Konaté]</td>\n",
       "      <td>[U. Hwang, U. Hwang, N. De Préville]</td>\n",
       "    </tr>\n",
       "    <tr>\n",
       "      <th>288</th>\n",
       "      <td>2021-03-14T17:05:00+0100</td>\n",
       "      <td>Monaco</td>\n",
       "      <td>Monaco</td>\n",
       "      <td>Lille</td>\n",
       "      <td>0</td>\n",
       "      <td>0</td>\n",
       "      <td>ex-aequo</td>\n",
       "      <td>[]</td>\n",
       "      <td>[]</td>\n",
       "    </tr>\n",
       "    <tr>\n",
       "      <th>289</th>\n",
       "      <td>2021-03-14T21:00:00+0100</td>\n",
       "      <td>Paris</td>\n",
       "      <td>Paris-SG</td>\n",
       "      <td>Nantes</td>\n",
       "      <td>1</td>\n",
       "      <td>2</td>\n",
       "      <td>exterieur</td>\n",
       "      <td>[J. Draxler]</td>\n",
       "      <td>[R. Kolo Muani, M. Simon]</td>\n",
       "    </tr>\n",
       "    <tr>\n",
       "      <th>290</th>\n",
       "      <td>2021-03-19T21:00:00+0100</td>\n",
       "      <td>Saint-Étienne</td>\n",
       "      <td>Saint-Étienne</td>\n",
       "      <td>Monaco</td>\n",
       "      <td>0</td>\n",
       "      <td>4</td>\n",
       "      <td>exterieur</td>\n",
       "      <td>[]</td>\n",
       "      <td>[S. Jovetic, A. Tchouaméni, S. Diop, K. Diatta]</td>\n",
       "    </tr>\n",
       "    <tr>\n",
       "      <th>291</th>\n",
       "      <td>2021-03-20T13:00:00+0100</td>\n",
       "      <td>Metz</td>\n",
       "      <td>Metz</td>\n",
       "      <td>Rennes</td>\n",
       "      <td>1</td>\n",
       "      <td>3</td>\n",
       "      <td>exterieur</td>\n",
       "      <td>[P. Yade]</td>\n",
       "      <td>[J. Doku, M. Terrier, S. Guirassy]</td>\n",
       "    </tr>\n",
       "    <tr>\n",
       "      <th>292</th>\n",
       "      <td>2021-03-20T17:00:00+0100</td>\n",
       "      <td>Nice</td>\n",
       "      <td>Nice</td>\n",
       "      <td>Marseille</td>\n",
       "      <td>3</td>\n",
       "      <td>0</td>\n",
       "      <td>domicile</td>\n",
       "      <td>[K. Thuram, A. Gouiri, A. Claude-Maurice]</td>\n",
       "      <td>[]</td>\n",
       "    </tr>\n",
       "    <tr>\n",
       "      <th>293</th>\n",
       "      <td>2021-03-21T13:00:00+0100</td>\n",
       "      <td>Strasbourg</td>\n",
       "      <td>Strasbourg</td>\n",
       "      <td>Lens</td>\n",
       "      <td>1</td>\n",
       "      <td>2</td>\n",
       "      <td>exterieur</td>\n",
       "      <td>[J. Bellegarde]</td>\n",
       "      <td>[M. Haïdara, S. Fofana]</td>\n",
       "    </tr>\n",
       "    <tr>\n",
       "      <th>294</th>\n",
       "      <td>2021-03-21T15:00:00+0100</td>\n",
       "      <td>Montpellier</td>\n",
       "      <td>Montpellier</td>\n",
       "      <td>Bordeaux</td>\n",
       "      <td>3</td>\n",
       "      <td>1</td>\n",
       "      <td>domicile</td>\n",
       "      <td>[J. Sambia, G. Laborde, S. Mavididi]</td>\n",
       "      <td>[U. Hwang]</td>\n",
       "    </tr>\n",
       "    <tr>\n",
       "      <th>295</th>\n",
       "      <td>2021-03-21T15:00:00+0100</td>\n",
       "      <td>Brest</td>\n",
       "      <td>Brest</td>\n",
       "      <td>Angers</td>\n",
       "      <td>0</td>\n",
       "      <td>0</td>\n",
       "      <td>ex-aequo</td>\n",
       "      <td>[]</td>\n",
       "      <td>[]</td>\n",
       "    </tr>\n",
       "    <tr>\n",
       "      <th>296</th>\n",
       "      <td>2021-03-21T15:00:00+0100</td>\n",
       "      <td>Dijon</td>\n",
       "      <td>Dijon</td>\n",
       "      <td>Reims</td>\n",
       "      <td>0</td>\n",
       "      <td>1</td>\n",
       "      <td>exterieur</td>\n",
       "      <td>[]</td>\n",
       "      <td>[B. Dia]</td>\n",
       "    </tr>\n",
       "    <tr>\n",
       "      <th>297</th>\n",
       "      <td>2021-03-21T15:00:00+0100</td>\n",
       "      <td>Nantes</td>\n",
       "      <td>Nantes</td>\n",
       "      <td>Lorient</td>\n",
       "      <td>1</td>\n",
       "      <td>1</td>\n",
       "      <td>ex-aequo</td>\n",
       "      <td>[R. Kolo Muani]</td>\n",
       "      <td>[A. Laurienté]</td>\n",
       "    </tr>\n",
       "    <tr>\n",
       "      <th>298</th>\n",
       "      <td>2021-03-21T17:05:00+0100</td>\n",
       "      <td>Lille</td>\n",
       "      <td>Lille</td>\n",
       "      <td>Nîmes</td>\n",
       "      <td>1</td>\n",
       "      <td>2</td>\n",
       "      <td>exterieur</td>\n",
       "      <td>[Xeka]</td>\n",
       "      <td>[M. Koné, R. Ripart]</td>\n",
       "    </tr>\n",
       "    <tr>\n",
       "      <th>299</th>\n",
       "      <td>2021-03-21T21:00:00+0100</td>\n",
       "      <td>Lyon</td>\n",
       "      <td>Lyon</td>\n",
       "      <td>Paris-SG</td>\n",
       "      <td>2</td>\n",
       "      <td>4</td>\n",
       "      <td>exterieur</td>\n",
       "      <td>[I. Slimani, M. Cornet]</td>\n",
       "      <td>[K. Mbappé, D. Pereira, A. Di Maria, K. Mbappé]</td>\n",
       "    </tr>\n",
       "    <tr>\n",
       "      <th>300</th>\n",
       "      <td>2021-04-03T13:00:00+0200</td>\n",
       "      <td>Monaco</td>\n",
       "      <td>Monaco</td>\n",
       "      <td>Metz</td>\n",
       "      <td>4</td>\n",
       "      <td>0</td>\n",
       "      <td>domicile</td>\n",
       "      <td>[F. Fabregas, K. Volland, W. Ben Yedder, W. Be...</td>\n",
       "      <td>[]</td>\n",
       "    </tr>\n",
       "    <tr>\n",
       "      <th>301</th>\n",
       "      <td>2021-04-03T17:00:00+0200</td>\n",
       "      <td>Paris</td>\n",
       "      <td>Paris-SG</td>\n",
       "      <td>Lille</td>\n",
       "      <td>0</td>\n",
       "      <td>1</td>\n",
       "      <td>exterieur</td>\n",
       "      <td>[]</td>\n",
       "      <td>[J. David]</td>\n",
       "    </tr>\n",
       "    <tr>\n",
       "      <th>302</th>\n",
       "      <td>2021-04-03T21:00:00+0200</td>\n",
       "      <td>Lens</td>\n",
       "      <td>Lens</td>\n",
       "      <td>Lyon</td>\n",
       "      <td>1</td>\n",
       "      <td>1</td>\n",
       "      <td>ex-aequo</td>\n",
       "      <td>[J. Clauss]</td>\n",
       "      <td>[L. Paqueta]</td>\n",
       "    </tr>\n",
       "    <tr>\n",
       "      <th>303</th>\n",
       "      <td>2021-04-04T13:00:00+0200</td>\n",
       "      <td>Angers</td>\n",
       "      <td>Angers</td>\n",
       "      <td>Montpellier</td>\n",
       "      <td>1</td>\n",
       "      <td>1</td>\n",
       "      <td>ex-aequo</td>\n",
       "      <td>[S. Bahoken]</td>\n",
       "      <td>[S. Mavididi]</td>\n",
       "    </tr>\n",
       "    <tr>\n",
       "      <th>304</th>\n",
       "      <td>2021-04-04T15:00:00+0200</td>\n",
       "      <td>Reims</td>\n",
       "      <td>Reims</td>\n",
       "      <td>Rennes</td>\n",
       "      <td>2</td>\n",
       "      <td>2</td>\n",
       "      <td>ex-aequo</td>\n",
       "      <td>[B. Dia, G. Konan]</td>\n",
       "      <td>[S. Guirassy, S. Guirassy]</td>\n",
       "    </tr>\n",
       "    <tr>\n",
       "      <th>305</th>\n",
       "      <td>2021-04-04T15:00:00+0200</td>\n",
       "      <td>Nantes</td>\n",
       "      <td>Nantes</td>\n",
       "      <td>Nice</td>\n",
       "      <td>1</td>\n",
       "      <td>2</td>\n",
       "      <td>exterieur</td>\n",
       "      <td>[A. Touré]</td>\n",
       "      <td>[K. Dolberg, K. Dolberg]</td>\n",
       "    </tr>\n",
       "    <tr>\n",
       "      <th>306</th>\n",
       "      <td>2021-04-04T15:00:00+0200</td>\n",
       "      <td>Bordeaux</td>\n",
       "      <td>Bordeaux</td>\n",
       "      <td>Strasbourg</td>\n",
       "      <td>2</td>\n",
       "      <td>3</td>\n",
       "      <td>exterieur</td>\n",
       "      <td>[P. Baysse, U. Hwang]</td>\n",
       "      <td>[L. Koné, H. Diallo, L. Ajorque]</td>\n",
       "    </tr>\n",
       "    <tr>\n",
       "      <th>307</th>\n",
       "      <td>2021-04-04T15:00:00+0200</td>\n",
       "      <td>Lorient</td>\n",
       "      <td>Lorient</td>\n",
       "      <td>Brest</td>\n",
       "      <td>1</td>\n",
       "      <td>0</td>\n",
       "      <td>domicile</td>\n",
       "      <td>[L. Abergel]</td>\n",
       "      <td>[]</td>\n",
       "    </tr>\n",
       "    <tr>\n",
       "      <th>308</th>\n",
       "      <td>2021-04-04T17:05:00+0200</td>\n",
       "      <td>Nîmes</td>\n",
       "      <td>Nîmes</td>\n",
       "      <td>Saint-Étienne</td>\n",
       "      <td>0</td>\n",
       "      <td>2</td>\n",
       "      <td>exterieur</td>\n",
       "      <td>[]</td>\n",
       "      <td>[W. Khazri, D. Bouanga]</td>\n",
       "    </tr>\n",
       "    <tr>\n",
       "      <th>309</th>\n",
       "      <td>2021-04-04T21:00:00+0200</td>\n",
       "      <td>Marseille</td>\n",
       "      <td>Marseille</td>\n",
       "      <td>Dijon</td>\n",
       "      <td>2</td>\n",
       "      <td>0</td>\n",
       "      <td>domicile</td>\n",
       "      <td>[L. Balerdi, A. Gonzalez]</td>\n",
       "      <td>[]</td>\n",
       "    </tr>\n",
       "    <tr>\n",
       "      <th>310</th>\n",
       "      <td>2021-04-09T21:00:00+0200</td>\n",
       "      <td>Metz</td>\n",
       "      <td>Metz</td>\n",
       "      <td>Lille</td>\n",
       "      <td>0</td>\n",
       "      <td>2</td>\n",
       "      <td>exterieur</td>\n",
       "      <td>[]</td>\n",
       "      <td>[B. Yilmaz, M. Çelik]</td>\n",
       "    </tr>\n",
       "    <tr>\n",
       "      <th>311</th>\n",
       "      <td>2021-04-10T17:00:00+0200</td>\n",
       "      <td>Strasbourg</td>\n",
       "      <td>Strasbourg</td>\n",
       "      <td>Paris-SG</td>\n",
       "      <td>1</td>\n",
       "      <td>4</td>\n",
       "      <td>exterieur</td>\n",
       "      <td>[M. Sahi]</td>\n",
       "      <td>[K. Mbappé, P. Sarabia, M. Kean, L. Paredes]</td>\n",
       "    </tr>\n",
       "    <tr>\n",
       "      <th>312</th>\n",
       "      <td>2021-04-10T21:00:00+0200</td>\n",
       "      <td>Montpellier</td>\n",
       "      <td>Montpellier</td>\n",
       "      <td>Marseille</td>\n",
       "      <td>3</td>\n",
       "      <td>3</td>\n",
       "      <td>ex-aequo</td>\n",
       "      <td>[A. Delort, G. Laborde, G. Laborde]</td>\n",
       "      <td>[A. Milik, P. Gueye, L. Perrin]</td>\n",
       "    </tr>\n",
       "    <tr>\n",
       "      <th>313</th>\n",
       "      <td>2021-04-11T13:00:00+0200</td>\n",
       "      <td>Rennes</td>\n",
       "      <td>Rennes</td>\n",
       "      <td>Nantes</td>\n",
       "      <td>1</td>\n",
       "      <td>0</td>\n",
       "      <td>domicile</td>\n",
       "      <td>[M. Terrier]</td>\n",
       "      <td>[]</td>\n",
       "    </tr>\n",
       "    <tr>\n",
       "      <th>314</th>\n",
       "      <td>2021-04-11T15:00:00+0200</td>\n",
       "      <td>Lens</td>\n",
       "      <td>Lens</td>\n",
       "      <td>Lorient</td>\n",
       "      <td>4</td>\n",
       "      <td>1</td>\n",
       "      <td>domicile</td>\n",
       "      <td>[G. Kakuta, C. Jean, A. Kalimuendo, S. Banza]</td>\n",
       "      <td>[T. Moffi]</td>\n",
       "    </tr>\n",
       "    <tr>\n",
       "      <th>315</th>\n",
       "      <td>2021-04-11T15:00:00+0200</td>\n",
       "      <td>Nice</td>\n",
       "      <td>Nice</td>\n",
       "      <td>Reims</td>\n",
       "      <td>0</td>\n",
       "      <td>0</td>\n",
       "      <td>ex-aequo</td>\n",
       "      <td>[]</td>\n",
       "      <td>[]</td>\n",
       "    </tr>\n",
       "    <tr>\n",
       "      <th>316</th>\n",
       "      <td>2021-04-11T15:00:00+0200</td>\n",
       "      <td>Saint-Étienne</td>\n",
       "      <td>Saint-Étienne</td>\n",
       "      <td>Bordeaux</td>\n",
       "      <td>4</td>\n",
       "      <td>1</td>\n",
       "      <td>domicile</td>\n",
       "      <td>[W. Khazri, W. Khazri, W. Khazri, Z. Youssouf]</td>\n",
       "      <td>[U. Hwang]</td>\n",
       "    </tr>\n",
       "    <tr>\n",
       "      <th>317</th>\n",
       "      <td>2021-04-11T15:00:00+0200</td>\n",
       "      <td>Brest</td>\n",
       "      <td>Brest</td>\n",
       "      <td>Nîmes</td>\n",
       "      <td>1</td>\n",
       "      <td>1</td>\n",
       "      <td>ex-aequo</td>\n",
       "      <td>[B. Chardonnet]</td>\n",
       "      <td>[M. Koné]</td>\n",
       "    </tr>\n",
       "    <tr>\n",
       "      <th>318</th>\n",
       "      <td>2021-04-11T17:05:00+0200</td>\n",
       "      <td>Monaco</td>\n",
       "      <td>Monaco</td>\n",
       "      <td>Dijon</td>\n",
       "      <td>3</td>\n",
       "      <td>0</td>\n",
       "      <td>domicile</td>\n",
       "      <td>[S. Jovetic, W. Ben Yedder, W. Ben Yedder]</td>\n",
       "      <td>[]</td>\n",
       "    </tr>\n",
       "    <tr>\n",
       "      <th>319</th>\n",
       "      <td>2021-04-11T21:00:00+0200</td>\n",
       "      <td>Lyon</td>\n",
       "      <td>Lyon</td>\n",
       "      <td>Angers</td>\n",
       "      <td>3</td>\n",
       "      <td>0</td>\n",
       "      <td>domicile</td>\n",
       "      <td>[M. Depay, L. Paqueta, M. Depay]</td>\n",
       "      <td>[]</td>\n",
       "    </tr>\n",
       "    <tr>\n",
       "      <th>320</th>\n",
       "      <td>2021-04-16T21:00:00+0200</td>\n",
       "      <td>Lille</td>\n",
       "      <td>Lille</td>\n",
       "      <td>Montpellier</td>\n",
       "      <td>1</td>\n",
       "      <td>1</td>\n",
       "      <td>ex-aequo</td>\n",
       "      <td>[L. Araujo]</td>\n",
       "      <td>[A. Delort]</td>\n",
       "    </tr>\n",
       "    <tr>\n",
       "      <th>321</th>\n",
       "      <td>2021-04-17T12:45:00+0200</td>\n",
       "      <td>Angers</td>\n",
       "      <td>Angers</td>\n",
       "      <td>Rennes</td>\n",
       "      <td>0</td>\n",
       "      <td>3</td>\n",
       "      <td>exterieur</td>\n",
       "      <td>[]</td>\n",
       "      <td>[J. Doku, M. Terrier, S. Guirassy]</td>\n",
       "    </tr>\n",
       "    <tr>\n",
       "      <th>322</th>\n",
       "      <td>2021-04-17T17:00:00+0200</td>\n",
       "      <td>Marseille</td>\n",
       "      <td>Marseille</td>\n",
       "      <td>Lorient</td>\n",
       "      <td>3</td>\n",
       "      <td>2</td>\n",
       "      <td>domicile</td>\n",
       "      <td>[D. Payet, P. Lirola, P. Lirola]</td>\n",
       "      <td>[T. Moffi, T. Moffi]</td>\n",
       "    </tr>\n",
       "    <tr>\n",
       "      <th>323</th>\n",
       "      <td>2021-04-18T13:00:00+0200</td>\n",
       "      <td>Paris</td>\n",
       "      <td>Paris-SG</td>\n",
       "      <td>Saint-Étienne</td>\n",
       "      <td>3</td>\n",
       "      <td>2</td>\n",
       "      <td>domicile</td>\n",
       "      <td>[K. Mbappé, K. Mbappé, M. Icardi]</td>\n",
       "      <td>[D. Bouanga, R. Hamouma]</td>\n",
       "    </tr>\n",
       "    <tr>\n",
       "      <th>324</th>\n",
       "      <td>2021-04-18T15:00:00+0200</td>\n",
       "      <td>Brest</td>\n",
       "      <td>Brest</td>\n",
       "      <td>Lens</td>\n",
       "      <td>1</td>\n",
       "      <td>1</td>\n",
       "      <td>ex-aequo</td>\n",
       "      <td>[Y. Cahuzac]</td>\n",
       "      <td>[G. Kakuta]</td>\n",
       "    </tr>\n",
       "    <tr>\n",
       "      <th>325</th>\n",
       "      <td>2021-04-18T15:00:00+0200</td>\n",
       "      <td>Dijon</td>\n",
       "      <td>Dijon</td>\n",
       "      <td>Nice</td>\n",
       "      <td>2</td>\n",
       "      <td>0</td>\n",
       "      <td>domicile</td>\n",
       "      <td>[F. Chafik, Y. Benzia]</td>\n",
       "      <td>[]</td>\n",
       "    </tr>\n",
       "    <tr>\n",
       "      <th>326</th>\n",
       "      <td>2021-04-18T15:00:00+0200</td>\n",
       "      <td>Reims</td>\n",
       "      <td>Reims</td>\n",
       "      <td>Metz</td>\n",
       "      <td>0</td>\n",
       "      <td>0</td>\n",
       "      <td>ex-aequo</td>\n",
       "      <td>[]</td>\n",
       "      <td>[]</td>\n",
       "    </tr>\n",
       "    <tr>\n",
       "      <th>327</th>\n",
       "      <td>2021-04-18T15:00:00+0200</td>\n",
       "      <td>Nîmes</td>\n",
       "      <td>Nîmes</td>\n",
       "      <td>Strasbourg</td>\n",
       "      <td>1</td>\n",
       "      <td>1</td>\n",
       "      <td>ex-aequo</td>\n",
       "      <td>[R. Ripart]</td>\n",
       "      <td>[D. Liénard]</td>\n",
       "    </tr>\n",
       "    <tr>\n",
       "      <th>328</th>\n",
       "      <td>2021-04-18T17:05:00+0200</td>\n",
       "      <td>Bordeaux</td>\n",
       "      <td>Bordeaux</td>\n",
       "      <td>Monaco</td>\n",
       "      <td>0</td>\n",
       "      <td>3</td>\n",
       "      <td>exterieur</td>\n",
       "      <td>[]</td>\n",
       "      <td>[K. Volland, G. Martins, S. Jovetic]</td>\n",
       "    </tr>\n",
       "    <tr>\n",
       "      <th>329</th>\n",
       "      <td>2021-04-18T21:00:00+0200</td>\n",
       "      <td>Nantes</td>\n",
       "      <td>Nantes</td>\n",
       "      <td>Lyon</td>\n",
       "      <td>1</td>\n",
       "      <td>2</td>\n",
       "      <td>exterieur</td>\n",
       "      <td>[N. Pallois]</td>\n",
       "      <td>[M. Depay, M. Depay]</td>\n",
       "    </tr>\n",
       "    <tr>\n",
       "      <th>330</th>\n",
       "      <td>2021-04-23T21:00:00+0200</td>\n",
       "      <td>Reims</td>\n",
       "      <td>Reims</td>\n",
       "      <td>Marseille</td>\n",
       "      <td>1</td>\n",
       "      <td>3</td>\n",
       "      <td>exterieur</td>\n",
       "      <td>[N. Mbuku]</td>\n",
       "      <td>[D. Payet, A. Milik, D. Payet]</td>\n",
       "    </tr>\n",
       "    <tr>\n",
       "      <th>331</th>\n",
       "      <td>2021-04-24T13:00:00+0200</td>\n",
       "      <td>Saint-Étienne</td>\n",
       "      <td>Saint-Étienne</td>\n",
       "      <td>Brest</td>\n",
       "      <td>1</td>\n",
       "      <td>2</td>\n",
       "      <td>exterieur</td>\n",
       "      <td>[W. Khazri]</td>\n",
       "      <td>[G. Charbonnier, G. Charbonnier]</td>\n",
       "    </tr>\n",
       "    <tr>\n",
       "      <th>332</th>\n",
       "      <td>2021-04-24T17:00:00+0200</td>\n",
       "      <td>Metz</td>\n",
       "      <td>Metz</td>\n",
       "      <td>Paris-SG</td>\n",
       "      <td>1</td>\n",
       "      <td>3</td>\n",
       "      <td>exterieur</td>\n",
       "      <td>[F. Centonze]</td>\n",
       "      <td>[K. Mbappé, K. Mbappé, M. Icardi]</td>\n",
       "    </tr>\n",
       "    <tr>\n",
       "      <th>333</th>\n",
       "      <td>2021-04-25T13:00:00+0200</td>\n",
       "      <td>Nice</td>\n",
       "      <td>Nice</td>\n",
       "      <td>Montpellier</td>\n",
       "      <td>3</td>\n",
       "      <td>1</td>\n",
       "      <td>domicile</td>\n",
       "      <td>[H. Boudaoui, J. Todibo, A. Claude-Maurice]</td>\n",
       "      <td>[G. Laborde]</td>\n",
       "    </tr>\n",
       "    <tr>\n",
       "      <th>334</th>\n",
       "      <td>2021-04-25T15:00:00+0200</td>\n",
       "      <td>Lens</td>\n",
       "      <td>Lens</td>\n",
       "      <td>Nîmes</td>\n",
       "      <td>2</td>\n",
       "      <td>1</td>\n",
       "      <td>domicile</td>\n",
       "      <td>[I. Ganago, M. Haïdara]</td>\n",
       "      <td>[Z. Ferhat]</td>\n",
       "    </tr>\n",
       "    <tr>\n",
       "      <th>335</th>\n",
       "      <td>2021-04-25T15:00:00+0200</td>\n",
       "      <td>Rennes</td>\n",
       "      <td>Rennes</td>\n",
       "      <td>Dijon</td>\n",
       "      <td>5</td>\n",
       "      <td>1</td>\n",
       "      <td>domicile</td>\n",
       "      <td>[M. Terrier, M. Terrier, F. Tait, G. Nyamsi, C...</td>\n",
       "      <td>[Y. Benzia]</td>\n",
       "    </tr>\n",
       "    <tr>\n",
       "      <th>336</th>\n",
       "      <td>2021-04-25T15:00:00+0200</td>\n",
       "      <td>Strasbourg</td>\n",
       "      <td>Strasbourg</td>\n",
       "      <td>Nantes</td>\n",
       "      <td>1</td>\n",
       "      <td>2</td>\n",
       "      <td>exterieur</td>\n",
       "      <td>[L. Ajorque]</td>\n",
       "      <td>[J. Castelletto, L. Blas]</td>\n",
       "    </tr>\n",
       "    <tr>\n",
       "      <th>337</th>\n",
       "      <td>2021-04-25T15:00:00+0200</td>\n",
       "      <td>Lorient</td>\n",
       "      <td>Lorient</td>\n",
       "      <td>Bordeaux</td>\n",
       "      <td>4</td>\n",
       "      <td>1</td>\n",
       "      <td>domicile</td>\n",
       "      <td>[Y. Wissa, T. Moffi, T. Moffi, T. Moffi]</td>\n",
       "      <td>[I. Sissokho]</td>\n",
       "    </tr>\n",
       "    <tr>\n",
       "      <th>338</th>\n",
       "      <td>2021-04-25T17:05:00+0200</td>\n",
       "      <td>Angers</td>\n",
       "      <td>Angers</td>\n",
       "      <td>Monaco</td>\n",
       "      <td>0</td>\n",
       "      <td>1</td>\n",
       "      <td>exterieur</td>\n",
       "      <td>[]</td>\n",
       "      <td>[W. Ben Yedder]</td>\n",
       "    </tr>\n",
       "    <tr>\n",
       "      <th>339</th>\n",
       "      <td>2021-04-25T21:00:00+0200</td>\n",
       "      <td>Lyon</td>\n",
       "      <td>Lyon</td>\n",
       "      <td>Lille</td>\n",
       "      <td>2</td>\n",
       "      <td>3</td>\n",
       "      <td>exterieur</td>\n",
       "      <td>[I. Slimani, J. Fonte]</td>\n",
       "      <td>[B. Yilmaz, J. David, B. Yilmaz]</td>\n",
       "    </tr>\n",
       "    <tr>\n",
       "      <th>340</th>\n",
       "      <td>2021-04-30T21:00:00+0200</td>\n",
       "      <td>Marseille</td>\n",
       "      <td>Marseille</td>\n",
       "      <td>Strasbourg</td>\n",
       "      <td>1</td>\n",
       "      <td>1</td>\n",
       "      <td>ex-aequo</td>\n",
       "      <td>[D. Benedetto]</td>\n",
       "      <td>[S. Mitrovic]</td>\n",
       "    </tr>\n",
       "    <tr>\n",
       "      <th>341</th>\n",
       "      <td>2021-05-01T17:00:00+0200</td>\n",
       "      <td>Paris</td>\n",
       "      <td>Paris-SG</td>\n",
       "      <td>Lens</td>\n",
       "      <td>2</td>\n",
       "      <td>1</td>\n",
       "      <td>domicile</td>\n",
       "      <td>[Neymar, Marquinhos]</td>\n",
       "      <td>[I. Ganago]</td>\n",
       "    </tr>\n",
       "    <tr>\n",
       "      <th>342</th>\n",
       "      <td>2021-05-01T21:00:00+0200</td>\n",
       "      <td>Lille</td>\n",
       "      <td>Lille</td>\n",
       "      <td>Nice</td>\n",
       "      <td>2</td>\n",
       "      <td>0</td>\n",
       "      <td>domicile</td>\n",
       "      <td>[B. Yilmaz, M. Çelik]</td>\n",
       "      <td>[]</td>\n",
       "    </tr>\n",
       "    <tr>\n",
       "      <th>343</th>\n",
       "      <td>2021-05-02T13:00:00+0200</td>\n",
       "      <td>Bordeaux</td>\n",
       "      <td>Bordeaux</td>\n",
       "      <td>Rennes</td>\n",
       "      <td>1</td>\n",
       "      <td>0</td>\n",
       "      <td>domicile</td>\n",
       "      <td>[S. Mara]</td>\n",
       "      <td>[]</td>\n",
       "    </tr>\n",
       "    <tr>\n",
       "      <th>344</th>\n",
       "      <td>2021-05-02T15:00:00+0200</td>\n",
       "      <td>Dijon</td>\n",
       "      <td>Dijon</td>\n",
       "      <td>Metz</td>\n",
       "      <td>1</td>\n",
       "      <td>5</td>\n",
       "      <td>exterieur</td>\n",
       "      <td>[M. Baldé]</td>\n",
       "      <td>[M. Gueye, P. Sarr, F. Chafik, V. Dias Goncalv...</td>\n",
       "    </tr>\n",
       "    <tr>\n",
       "      <th>345</th>\n",
       "      <td>2021-05-02T15:00:00+0200</td>\n",
       "      <td>Nîmes</td>\n",
       "      <td>Nîmes</td>\n",
       "      <td>Reims</td>\n",
       "      <td>2</td>\n",
       "      <td>2</td>\n",
       "      <td>ex-aequo</td>\n",
       "      <td>[R. Ripart, M. Koné]</td>\n",
       "      <td>[N. Mbuku, A. Flips]</td>\n",
       "    </tr>\n",
       "    <tr>\n",
       "      <th>346</th>\n",
       "      <td>2021-05-02T15:00:00+0200</td>\n",
       "      <td>Lorient</td>\n",
       "      <td>Lorient</td>\n",
       "      <td>Angers</td>\n",
       "      <td>2</td>\n",
       "      <td>0</td>\n",
       "      <td>domicile</td>\n",
       "      <td>[Y. Wissa, F. Lemoine]</td>\n",
       "      <td>[]</td>\n",
       "    </tr>\n",
       "    <tr>\n",
       "      <th>347</th>\n",
       "      <td>2021-05-02T15:00:00+0200</td>\n",
       "      <td>Brest</td>\n",
       "      <td>Brest</td>\n",
       "      <td>Nantes</td>\n",
       "      <td>1</td>\n",
       "      <td>4</td>\n",
       "      <td>exterieur</td>\n",
       "      <td>[R. Faivre]</td>\n",
       "      <td>[M. Simon, L. Blas, I. Louza, K. Coulibaly]</td>\n",
       "    </tr>\n",
       "    <tr>\n",
       "      <th>348</th>\n",
       "      <td>2021-05-02T17:05:00+0200</td>\n",
       "      <td>Montpellier</td>\n",
       "      <td>Montpellier</td>\n",
       "      <td>Saint-Étienne</td>\n",
       "      <td>1</td>\n",
       "      <td>2</td>\n",
       "      <td>exterieur</td>\n",
       "      <td>[A. Delort]</td>\n",
       "      <td>[R. Hamouma, M. Debuchy]</td>\n",
       "    </tr>\n",
       "    <tr>\n",
       "      <th>349</th>\n",
       "      <td>2021-05-02T21:00:00+0200</td>\n",
       "      <td>Monaco</td>\n",
       "      <td>Monaco</td>\n",
       "      <td>Lyon</td>\n",
       "      <td>2</td>\n",
       "      <td>3</td>\n",
       "      <td>exterieur</td>\n",
       "      <td>[K. Volland, W. Ben Yedder]</td>\n",
       "      <td>[M. Depay, Marcelo, R. Cherki]</td>\n",
       "    </tr>\n",
       "    <tr>\n",
       "      <th>350</th>\n",
       "      <td>2021-05-07T21:00:00+0200</td>\n",
       "      <td>Lens</td>\n",
       "      <td>Lens</td>\n",
       "      <td>Lille</td>\n",
       "      <td>0</td>\n",
       "      <td>3</td>\n",
       "      <td>exterieur</td>\n",
       "      <td>[]</td>\n",
       "      <td>[B. Yilmaz, B. Yilmaz, J. David]</td>\n",
       "    </tr>\n",
       "    <tr>\n",
       "      <th>351</th>\n",
       "      <td>2021-05-08T13:00:00+0200</td>\n",
       "      <td>Nantes</td>\n",
       "      <td>Nantes</td>\n",
       "      <td>Bordeaux</td>\n",
       "      <td>3</td>\n",
       "      <td>0</td>\n",
       "      <td>domicile</td>\n",
       "      <td>[K. Coulibaly, I. Louza, R. Kolo Muani]</td>\n",
       "      <td>[]</td>\n",
       "    </tr>\n",
       "    <tr>\n",
       "      <th>352</th>\n",
       "      <td>2021-05-08T17:00:00+0200</td>\n",
       "      <td>Lyon</td>\n",
       "      <td>Lyon</td>\n",
       "      <td>Lorient</td>\n",
       "      <td>4</td>\n",
       "      <td>1</td>\n",
       "      <td>domicile</td>\n",
       "      <td>[H. Aouar, L. Paqueta, B. Guimaraes, B. Guimar...</td>\n",
       "      <td>[T. Monconduit]</td>\n",
       "    </tr>\n",
       "    <tr>\n",
       "      <th>353</th>\n",
       "      <td>2021-05-09T13:00:00+0200</td>\n",
       "      <td>Saint-Étienne</td>\n",
       "      <td>Saint-Étienne</td>\n",
       "      <td>Marseille</td>\n",
       "      <td>1</td>\n",
       "      <td>0</td>\n",
       "      <td>domicile</td>\n",
       "      <td>[A. Nordin]</td>\n",
       "      <td>[]</td>\n",
       "    </tr>\n",
       "    <tr>\n",
       "      <th>354</th>\n",
       "      <td>2021-05-09T15:00:00+0200</td>\n",
       "      <td>Strasbourg</td>\n",
       "      <td>Strasbourg</td>\n",
       "      <td>Montpellier</td>\n",
       "      <td>2</td>\n",
       "      <td>3</td>\n",
       "      <td>exterieur</td>\n",
       "      <td>[L. Ajorque, K. Zohi]</td>\n",
       "      <td>[G. Laborde, A. Delort, G. Laborde]</td>\n",
       "    </tr>\n",
       "    <tr>\n",
       "      <th>355</th>\n",
       "      <td>2021-05-09T15:00:00+0200</td>\n",
       "      <td>Metz</td>\n",
       "      <td>Metz</td>\n",
       "      <td>Nîmes</td>\n",
       "      <td>0</td>\n",
       "      <td>3</td>\n",
       "      <td>exterieur</td>\n",
       "      <td>[]</td>\n",
       "      <td>[L. Fomba, R. Ripart, Z. Ferhat]</td>\n",
       "    </tr>\n",
       "    <tr>\n",
       "      <th>356</th>\n",
       "      <td>2021-05-09T15:00:00+0200</td>\n",
       "      <td>Nice</td>\n",
       "      <td>Nice</td>\n",
       "      <td>Brest</td>\n",
       "      <td>3</td>\n",
       "      <td>2</td>\n",
       "      <td>domicile</td>\n",
       "      <td>[R. Lopes, H. Boudaoui, H. Kamara]</td>\n",
       "      <td>[S. Mounié, S. Mounié]</td>\n",
       "    </tr>\n",
       "    <tr>\n",
       "      <th>357</th>\n",
       "      <td>2021-05-09T15:00:00+0200</td>\n",
       "      <td>Angers</td>\n",
       "      <td>Angers</td>\n",
       "      <td>Dijon</td>\n",
       "      <td>3</td>\n",
       "      <td>0</td>\n",
       "      <td>domicile</td>\n",
       "      <td>[A. Fulgini, F. El-Melali, L. Diony]</td>\n",
       "      <td>[]</td>\n",
       "    </tr>\n",
       "    <tr>\n",
       "      <th>358</th>\n",
       "      <td>2021-05-09T17:05:00+0200</td>\n",
       "      <td>Reims</td>\n",
       "      <td>Reims</td>\n",
       "      <td>Monaco</td>\n",
       "      <td>0</td>\n",
       "      <td>1</td>\n",
       "      <td>exterieur</td>\n",
       "      <td>[]</td>\n",
       "      <td>[E. Matazo]</td>\n",
       "    </tr>\n",
       "    <tr>\n",
       "      <th>359</th>\n",
       "      <td>2021-05-09T21:00:00+0200</td>\n",
       "      <td>Rennes</td>\n",
       "      <td>Rennes</td>\n",
       "      <td>Paris-SG</td>\n",
       "      <td>1</td>\n",
       "      <td>1</td>\n",
       "      <td>ex-aequo</td>\n",
       "      <td>[S. Guirassy]</td>\n",
       "      <td>[Neymar]</td>\n",
       "    </tr>\n",
       "    <tr>\n",
       "      <th>360</th>\n",
       "      <td>2021-05-16T21:00:00+0200</td>\n",
       "      <td>Lille</td>\n",
       "      <td>Lille</td>\n",
       "      <td>Saint-Étienne</td>\n",
       "      <td>0</td>\n",
       "      <td>0</td>\n",
       "      <td>ex-aequo</td>\n",
       "      <td>[]</td>\n",
       "      <td>[]</td>\n",
       "    </tr>\n",
       "    <tr>\n",
       "      <th>361</th>\n",
       "      <td>2021-05-16T21:00:00+0200</td>\n",
       "      <td>Paris</td>\n",
       "      <td>Paris-SG</td>\n",
       "      <td>Reims</td>\n",
       "      <td>4</td>\n",
       "      <td>0</td>\n",
       "      <td>domicile</td>\n",
       "      <td>[Neymar, K. Mbappé, Marquinhos, M. Kean]</td>\n",
       "      <td>[]</td>\n",
       "    </tr>\n",
       "    <tr>\n",
       "      <th>362</th>\n",
       "      <td>2021-05-16T21:00:00+0200</td>\n",
       "      <td>Monaco</td>\n",
       "      <td>Monaco</td>\n",
       "      <td>Rennes</td>\n",
       "      <td>2</td>\n",
       "      <td>1</td>\n",
       "      <td>domicile</td>\n",
       "      <td>[W. Ben Yedder, A. Golovine]</td>\n",
       "      <td>[A. Disasi]</td>\n",
       "    </tr>\n",
       "    <tr>\n",
       "      <th>363</th>\n",
       "      <td>2021-05-16T21:00:00+0200</td>\n",
       "      <td>Nîmes</td>\n",
       "      <td>Nîmes</td>\n",
       "      <td>Lyon</td>\n",
       "      <td>2</td>\n",
       "      <td>5</td>\n",
       "      <td>exterieur</td>\n",
       "      <td>[M. Koné, M. Koné]</td>\n",
       "      <td>[L. Paqueta, M. Depay, L. Paqueta, H. Aouar, I...</td>\n",
       "    </tr>\n",
       "    <tr>\n",
       "      <th>364</th>\n",
       "      <td>2021-05-16T21:00:00+0200</td>\n",
       "      <td>Marseille</td>\n",
       "      <td>Marseille</td>\n",
       "      <td>Angers</td>\n",
       "      <td>3</td>\n",
       "      <td>2</td>\n",
       "      <td>domicile</td>\n",
       "      <td>[A. Milik, A. Milik, A. Milik]</td>\n",
       "      <td>[M. Pereira Lage, R. Thomas]</td>\n",
       "    </tr>\n",
       "    <tr>\n",
       "      <th>365</th>\n",
       "      <td>2021-05-16T21:00:00+0200</td>\n",
       "      <td>Bordeaux</td>\n",
       "      <td>Bordeaux</td>\n",
       "      <td>Lens</td>\n",
       "      <td>3</td>\n",
       "      <td>0</td>\n",
       "      <td>domicile</td>\n",
       "      <td>[U. Hwang, Y. Sabaly, M. Zerkane]</td>\n",
       "      <td>[]</td>\n",
       "    </tr>\n",
       "    <tr>\n",
       "      <th>366</th>\n",
       "      <td>2021-05-16T21:00:00+0200</td>\n",
       "      <td>Montpellier</td>\n",
       "      <td>Montpellier</td>\n",
       "      <td>Brest</td>\n",
       "      <td>0</td>\n",
       "      <td>0</td>\n",
       "      <td>ex-aequo</td>\n",
       "      <td>[]</td>\n",
       "      <td>[]</td>\n",
       "    </tr>\n",
       "    <tr>\n",
       "      <th>367</th>\n",
       "      <td>2021-05-16T21:00:00+0200</td>\n",
       "      <td>Nice</td>\n",
       "      <td>Nice</td>\n",
       "      <td>Strasbourg</td>\n",
       "      <td>0</td>\n",
       "      <td>2</td>\n",
       "      <td>exterieur</td>\n",
       "      <td>[]</td>\n",
       "      <td>[L. Ajorque, L. Ajorque]</td>\n",
       "    </tr>\n",
       "    <tr>\n",
       "      <th>368</th>\n",
       "      <td>2021-05-16T21:00:00+0200</td>\n",
       "      <td>Lorient</td>\n",
       "      <td>Lorient</td>\n",
       "      <td>Metz</td>\n",
       "      <td>2</td>\n",
       "      <td>1</td>\n",
       "      <td>domicile</td>\n",
       "      <td>[Y. Wissa, J. Hergault]</td>\n",
       "      <td>[B. Traoré]</td>\n",
       "    </tr>\n",
       "    <tr>\n",
       "      <th>369</th>\n",
       "      <td>2021-05-16T21:00:00+0200</td>\n",
       "      <td>Dijon</td>\n",
       "      <td>Dijon</td>\n",
       "      <td>Nantes</td>\n",
       "      <td>0</td>\n",
       "      <td>4</td>\n",
       "      <td>exterieur</td>\n",
       "      <td>[]</td>\n",
       "      <td>[K. Coulibaly, R. Kolo Muani, L. Blas, R. Kolo...</td>\n",
       "    </tr>\n",
       "    <tr>\n",
       "      <th>370</th>\n",
       "      <td>2021-05-23T21:00:00+0200</td>\n",
       "      <td>Angers</td>\n",
       "      <td>Angers</td>\n",
       "      <td>Lille</td>\n",
       "      <td>1</td>\n",
       "      <td>2</td>\n",
       "      <td>exterieur</td>\n",
       "      <td>[A. Fulgini]</td>\n",
       "      <td>[J. David, B. Yilmaz]</td>\n",
       "    </tr>\n",
       "    <tr>\n",
       "      <th>371</th>\n",
       "      <td>2021-05-23T21:00:00+0200</td>\n",
       "      <td>Brest</td>\n",
       "      <td>Brest</td>\n",
       "      <td>Paris-SG</td>\n",
       "      <td>0</td>\n",
       "      <td>2</td>\n",
       "      <td>exterieur</td>\n",
       "      <td>[]</td>\n",
       "      <td>[R. Faivre, K. Mbappé]</td>\n",
       "    </tr>\n",
       "    <tr>\n",
       "      <th>372</th>\n",
       "      <td>2021-05-23T21:00:00+0200</td>\n",
       "      <td>Lens</td>\n",
       "      <td>Lens</td>\n",
       "      <td>Monaco</td>\n",
       "      <td>0</td>\n",
       "      <td>0</td>\n",
       "      <td>ex-aequo</td>\n",
       "      <td>[]</td>\n",
       "      <td>[]</td>\n",
       "    </tr>\n",
       "    <tr>\n",
       "      <th>373</th>\n",
       "      <td>2021-05-23T21:00:00+0200</td>\n",
       "      <td>Lyon</td>\n",
       "      <td>Lyon</td>\n",
       "      <td>Nice</td>\n",
       "      <td>2</td>\n",
       "      <td>3</td>\n",
       "      <td>exterieur</td>\n",
       "      <td>[K. Toko Ekambi, K. Toko Ekambi]</td>\n",
       "      <td>[K. Dolberg, H. Kamara, W. Saliba]</td>\n",
       "    </tr>\n",
       "    <tr>\n",
       "      <th>374</th>\n",
       "      <td>2021-05-23T21:00:00+0200</td>\n",
       "      <td>Metz</td>\n",
       "      <td>Metz</td>\n",
       "      <td>Marseille</td>\n",
       "      <td>1</td>\n",
       "      <td>1</td>\n",
       "      <td>ex-aequo</td>\n",
       "      <td>[F. Boulaya]</td>\n",
       "      <td>[A. Milik]</td>\n",
       "    </tr>\n",
       "    <tr>\n",
       "      <th>375</th>\n",
       "      <td>2021-05-23T21:00:00+0200</td>\n",
       "      <td>Rennes</td>\n",
       "      <td>Rennes</td>\n",
       "      <td>Nîmes</td>\n",
       "      <td>2</td>\n",
       "      <td>0</td>\n",
       "      <td>domicile</td>\n",
       "      <td>[S. Guirassy, B. Bourigeaud]</td>\n",
       "      <td>[]</td>\n",
       "    </tr>\n",
       "    <tr>\n",
       "      <th>376</th>\n",
       "      <td>2021-05-23T21:00:00+0200</td>\n",
       "      <td>Nantes</td>\n",
       "      <td>Nantes</td>\n",
       "      <td>Montpellier</td>\n",
       "      <td>1</td>\n",
       "      <td>2</td>\n",
       "      <td>exterieur</td>\n",
       "      <td>[R. Kolo Muani]</td>\n",
       "      <td>[G. Laborde, A. Delort]</td>\n",
       "    </tr>\n",
       "    <tr>\n",
       "      <th>377</th>\n",
       "      <td>2021-05-23T21:00:00+0200</td>\n",
       "      <td>Saint-Étienne</td>\n",
       "      <td>Saint-Étienne</td>\n",
       "      <td>Dijon</td>\n",
       "      <td>0</td>\n",
       "      <td>1</td>\n",
       "      <td>exterieur</td>\n",
       "      <td>[]</td>\n",
       "      <td>[A. Kamara]</td>\n",
       "    </tr>\n",
       "    <tr>\n",
       "      <th>378</th>\n",
       "      <td>2021-05-23T21:00:00+0200</td>\n",
       "      <td>Reims</td>\n",
       "      <td>Reims</td>\n",
       "      <td>Bordeaux</td>\n",
       "      <td>1</td>\n",
       "      <td>2</td>\n",
       "      <td>exterieur</td>\n",
       "      <td>[E. Touré]</td>\n",
       "      <td>[Y. Adli, E. Kwateng]</td>\n",
       "    </tr>\n",
       "    <tr>\n",
       "      <th>379</th>\n",
       "      <td>2021-05-23T21:00:00+0200</td>\n",
       "      <td>Strasbourg</td>\n",
       "      <td>Strasbourg</td>\n",
       "      <td>Lorient</td>\n",
       "      <td>1</td>\n",
       "      <td>1</td>\n",
       "      <td>ex-aequo</td>\n",
       "      <td>[H. Diallo]</td>\n",
       "      <td>[T. Chalobah]</td>\n",
       "    </tr>\n",
       "  </tbody>\n",
       "</table>\n",
       "</div>"
      ],
      "text/plain": [
       "                         date          place  team_domicile team_exterieur  \\\n",
       "0    2020-08-21T19:00:00+0200       Bordeaux       Bordeaux         Nantes   \n",
       "1    2020-08-22T17:00:00+0200          Dijon          Dijon         Angers   \n",
       "2    2020-08-22T21:00:00+0200          Lille          Lille         Rennes   \n",
       "3    2020-08-23T13:00:00+0200         Monaco         Monaco          Reims   \n",
       "4    2020-08-23T15:00:00+0200        Lorient        Lorient     Strasbourg   \n",
       "5    2020-08-23T15:00:00+0200          Nîmes          Nîmes          Brest   \n",
       "6    2020-08-23T17:00:00+0200           Nice           Nice           Lens   \n",
       "7    2020-09-15T21:00:00+0200    Montpellier    Montpellier           Lyon   \n",
       "8    2020-09-16T21:00:00+0200          Paris       Paris-SG           Metz   \n",
       "9    2020-09-17T21:00:00+0200      Marseille      Marseille  Saint-Étienne   \n",
       "10   2020-08-28T21:00:00+0200           Lyon           Lyon          Dijon   \n",
       "11   2020-08-29T17:00:00+0200         Rennes         Rennes    Montpellier   \n",
       "12   2020-08-29T21:00:00+0200     Strasbourg     Strasbourg           Nice   \n",
       "13   2020-08-30T13:00:00+0200          Reims          Reims          Lille   \n",
       "14   2020-08-30T15:00:00+0200         Nantes         Nantes          Nîmes   \n",
       "15   2020-08-30T15:00:00+0200  Saint-Étienne  Saint-Étienne        Lorient   \n",
       "16   2020-08-30T15:00:00+0200         Angers         Angers       Bordeaux   \n",
       "17   2020-08-30T15:00:00+0200           Metz           Metz         Monaco   \n",
       "18   2020-08-30T21:00:00+0200          Brest          Brest      Marseille   \n",
       "19   2020-09-10T21:00:00+0200           Lens           Lens       Paris-SG   \n",
       "20   2020-09-11T21:00:00+0200       Bordeaux       Bordeaux           Lyon   \n",
       "21   2020-09-12T17:00:00+0200    Montpellier    Montpellier           Nice   \n",
       "22   2020-09-12T21:00:00+0200  Saint-Étienne  Saint-Étienne     Strasbourg   \n",
       "23   2020-09-13T13:00:00+0200          Lille          Lille           Metz   \n",
       "24   2020-09-13T15:00:00+0200          Nîmes          Nîmes         Rennes   \n",
       "25   2020-09-13T15:00:00+0200        Lorient        Lorient           Lens   \n",
       "26   2020-09-13T15:00:00+0200         Angers         Angers          Reims   \n",
       "27   2020-09-13T15:00:00+0200          Dijon          Dijon          Brest   \n",
       "28   2020-09-13T17:00:00+0200         Monaco         Monaco         Nantes   \n",
       "29   2020-09-13T21:00:00+0200          Paris       Paris-SG      Marseille   \n",
       "30   2020-09-18T21:00:00+0200           Lyon           Lyon          Nîmes   \n",
       "31   2020-09-19T17:00:00+0200           Lens           Lens       Bordeaux   \n",
       "32   2020-09-19T21:00:00+0200         Rennes         Rennes         Monaco   \n",
       "33   2020-09-20T13:00:00+0200           Nice           Nice       Paris-SG   \n",
       "34   2020-09-20T15:00:00+0200    Montpellier    Montpellier         Angers   \n",
       "35   2020-09-20T15:00:00+0200          Brest          Brest        Lorient   \n",
       "36   2020-09-20T15:00:00+0200           Metz           Metz          Reims   \n",
       "37   2020-09-20T15:00:00+0200     Strasbourg     Strasbourg          Dijon   \n",
       "38   2020-09-20T17:00:00+0200         Nantes         Nantes  Saint-Étienne   \n",
       "39   2020-09-20T21:00:00+0200      Marseille      Marseille          Lille   \n",
       "40   2020-09-25T21:00:00+0200          Lille          Lille         Nantes   \n",
       "41   2020-09-26T17:00:00+0200  Saint-Étienne  Saint-Étienne         Rennes   \n",
       "42   2020-09-26T21:00:00+0200      Marseille      Marseille           Metz   \n",
       "43   2020-09-27T13:00:00+0200       Bordeaux       Bordeaux           Nice   \n",
       "44   2020-09-27T15:00:00+0200          Dijon          Dijon    Montpellier   \n",
       "45   2020-09-27T15:00:00+0200          Nîmes          Nîmes           Lens   \n",
       "46   2020-09-27T15:00:00+0200         Monaco         Monaco     Strasbourg   \n",
       "47   2020-09-27T15:00:00+0200         Angers         Angers          Brest   \n",
       "48   2020-09-27T17:00:00+0200        Lorient        Lorient           Lyon   \n",
       "49   2020-09-27T21:00:00+0200          Reims          Reims       Paris-SG   \n",
       "50   2020-10-02T21:00:00+0200          Paris       Paris-SG         Angers   \n",
       "51   2020-10-03T17:00:00+0200           Lens           Lens  Saint-Étienne   \n",
       "52   2020-10-03T21:00:00+0200           Nice           Nice         Nantes   \n",
       "53   2020-10-04T13:00:00+0200    Montpellier    Montpellier          Nîmes   \n",
       "54   2020-10-04T15:00:00+0200     Strasbourg     Strasbourg          Lille   \n",
       "55   2020-10-04T15:00:00+0200          Brest          Brest         Monaco   \n",
       "56   2020-10-04T15:00:00+0200       Bordeaux       Bordeaux          Dijon   \n",
       "57   2020-10-04T15:00:00+0200           Metz           Metz        Lorient   \n",
       "58   2020-10-04T17:00:00+0200         Rennes         Rennes          Reims   \n",
       "59   2020-10-04T21:00:00+0200           Lyon           Lyon      Marseille   \n",
       "60   2020-10-16T19:00:00+0200          Dijon          Dijon         Rennes   \n",
       "61   2020-10-16T21:00:00+0200          Nîmes          Nîmes       Paris-SG   \n",
       "62   2020-10-17T17:00:00+0200          Reims          Reims        Lorient   \n",
       "63   2020-10-17T21:00:00+0200      Marseille      Marseille       Bordeaux   \n",
       "64   2020-10-18T13:00:00+0200     Strasbourg     Strasbourg           Lyon   \n",
       "65   2020-10-18T15:00:00+0200         Monaco         Monaco    Montpellier   \n",
       "66   2020-10-18T15:00:00+0200         Nantes         Nantes          Brest   \n",
       "67   2020-10-18T15:00:00+0200         Angers         Angers           Metz   \n",
       "68   2020-10-18T17:00:00+0200  Saint-Étienne  Saint-Étienne           Nice   \n",
       "69   2020-10-18T21:00:00+0200          Lille          Lille           Lens   \n",
       "70   2020-10-23T21:00:00+0200         Rennes         Rennes         Angers   \n",
       "71   2020-10-24T17:00:00+0200        Lorient        Lorient      Marseille   \n",
       "72   2020-10-24T21:00:00+0200          Paris       Paris-SG          Dijon   \n",
       "73   2020-10-25T15:00:00+0100    Montpellier    Montpellier          Reims   \n",
       "74   2020-10-25T15:00:00+0100           Metz           Metz  Saint-Étienne   \n",
       "75   2020-10-25T15:00:00+0100       Bordeaux       Bordeaux          Nîmes   \n",
       "76   2020-10-25T15:00:00+0100          Brest          Brest     Strasbourg   \n",
       "77   2020-10-25T17:00:00+0100           Nice           Nice          Lille   \n",
       "78   2020-10-25T21:00:00+0100           Lyon           Lyon         Monaco   \n",
       "79   2020-11-25T19:00:00+0100           Lens           Lens         Nantes   \n",
       "80   2020-10-31T17:00:00+0100         Rennes         Rennes          Brest   \n",
       "81   2020-10-31T21:00:00+0100         Nantes         Nantes       Paris-SG   \n",
       "82   2020-11-01T13:00:00+0100  Saint-Étienne  Saint-Étienne    Montpellier   \n",
       "83   2020-11-01T15:00:00+0100         Angers         Angers           Nice   \n",
       "84   2020-11-01T15:00:00+0100          Nîmes          Nîmes           Metz   \n",
       "85   2020-11-01T15:00:00+0100          Dijon          Dijon        Lorient   \n",
       "86   2020-11-01T15:00:00+0100          Reims          Reims     Strasbourg   \n",
       "87   2020-11-01T17:00:00+0100         Monaco         Monaco       Bordeaux   \n",
       "88   2020-11-01T21:00:00+0100          Lille          Lille           Lyon   \n",
       "89   2021-01-20T21:00:00+0100      Marseille      Marseille           Lens   \n",
       "90   2020-11-06T21:00:00+0100     Strasbourg     Strasbourg      Marseille   \n",
       "91   2020-11-07T17:00:00+0100       Bordeaux       Bordeaux    Montpellier   \n",
       "92   2020-11-07T21:00:00+0100          Paris       Paris-SG         Rennes   \n",
       "93   2020-11-08T13:00:00+0100          Brest          Brest          Lille   \n",
       "94   2020-11-08T15:00:00+0100           Lens           Lens          Reims   \n",
       "95   2020-11-08T15:00:00+0100           Metz           Metz          Dijon   \n",
       "96   2020-11-08T15:00:00+0100          Nîmes          Nîmes         Angers   \n",
       "97   2020-11-08T15:00:00+0100        Lorient        Lorient         Nantes   \n",
       "98   2020-11-08T17:00:00+0100           Nice           Nice         Monaco   \n",
       "99   2020-11-08T21:00:00+0100           Lyon           Lyon  Saint-Étienne   \n",
       "100  2020-11-20T19:00:00+0100         Rennes         Rennes       Bordeaux   \n",
       "101  2020-11-20T21:00:00+0100         Monaco         Monaco       Paris-SG   \n",
       "102  2020-11-21T17:00:00+0100          Brest          Brest  Saint-Étienne   \n",
       "103  2020-11-22T13:00:00+0100         Nantes         Nantes           Metz   \n",
       "104  2020-11-22T15:00:00+0100    Montpellier    Montpellier     Strasbourg   \n",
       "105  2020-11-22T15:00:00+0100          Dijon          Dijon           Lens   \n",
       "106  2020-11-22T15:00:00+0100          Reims          Reims          Nîmes   \n",
       "107  2020-11-22T17:00:00+0100         Angers         Angers           Lyon   \n",
       "108  2020-11-22T21:00:00+0100          Lille          Lille        Lorient   \n",
       "109  2021-02-17T21:00:00+0100      Marseille      Marseille           Nice   \n",
       "110  2020-11-27T21:00:00+0100     Strasbourg     Strasbourg         Rennes   \n",
       "111  2020-11-28T17:00:00+0100      Marseille      Marseille         Nantes   \n",
       "112  2020-11-28T21:00:00+0100          Paris       Paris-SG       Bordeaux   \n",
       "113  2020-11-29T13:00:00+0100           Lyon           Lyon          Reims   \n",
       "114  2020-11-29T15:00:00+0100           Lens           Lens         Angers   \n",
       "115  2020-11-29T15:00:00+0100        Lorient        Lorient    Montpellier   \n",
       "116  2020-11-29T15:00:00+0100         Monaco         Monaco          Nîmes   \n",
       "117  2020-11-29T15:00:00+0100           Metz           Metz          Brest   \n",
       "118  2020-11-29T17:00:00+0100           Nice           Nice          Dijon   \n",
       "119  2020-11-29T21:00:00+0100  Saint-Étienne  Saint-Étienne          Lille   \n",
       "120  2020-12-04T21:00:00+0100          Nîmes          Nîmes      Marseille   \n",
       "121  2020-12-05T17:00:00+0100         Rennes         Rennes           Lens   \n",
       "122  2020-12-05T21:00:00+0100    Montpellier    Montpellier       Paris-SG   \n",
       "123  2020-12-06T13:00:00+0100          Lille          Lille         Monaco   \n",
       "124  2020-12-06T15:00:00+0100         Angers         Angers        Lorient   \n",
       "125  2020-12-06T15:00:00+0100       Bordeaux       Bordeaux          Brest   \n",
       "126  2020-12-06T15:00:00+0100         Nantes         Nantes     Strasbourg   \n",
       "127  2020-12-06T15:00:00+0100          Dijon          Dijon  Saint-Étienne   \n",
       "128  2020-12-06T17:00:00+0100          Reims          Reims           Nice   \n",
       "129  2020-12-06T21:00:00+0100           Metz           Metz           Lyon   \n",
       "130  2020-12-11T21:00:00+0100  Saint-Étienne  Saint-Étienne         Angers   \n",
       "131  2020-12-12T17:00:00+0100      Marseille      Marseille         Monaco   \n",
       "132  2020-12-12T21:00:00+0100           Lens           Lens    Montpellier   \n",
       "133  2020-12-13T13:00:00+0100           Nice           Nice         Rennes   \n",
       "134  2020-12-13T15:00:00+0100          Brest          Brest          Reims   \n",
       "135  2020-12-13T15:00:00+0100     Strasbourg     Strasbourg           Metz   \n",
       "136  2020-12-13T15:00:00+0100         Nantes         Nantes          Dijon   \n",
       "137  2020-12-13T15:00:00+0100        Lorient        Lorient          Nîmes   \n",
       "138  2020-12-13T17:00:00+0100          Lille          Lille       Bordeaux   \n",
       "139  2020-12-13T21:00:00+0100          Paris       Paris-SG           Lyon   \n",
       "140  2020-12-16T19:00:00+0100          Dijon          Dijon          Lille   \n",
       "141  2020-12-16T19:00:00+0100    Montpellier    Montpellier           Metz   \n",
       "142  2020-12-16T19:00:00+0100         Angers         Angers     Strasbourg   \n",
       "143  2020-12-16T19:00:00+0100          Nîmes          Nîmes           Nice   \n",
       "144  2020-12-16T19:00:00+0100          Reims          Reims         Nantes   \n",
       "145  2020-12-16T21:00:00+0100           Lyon           Lyon          Brest   \n",
       "146  2020-12-16T21:00:00+0100          Paris       Paris-SG        Lorient   \n",
       "147  2020-12-16T21:00:00+0100         Rennes         Rennes      Marseille   \n",
       "148  2020-12-16T21:00:00+0100         Monaco         Monaco           Lens   \n",
       "149  2020-12-16T21:00:00+0100       Bordeaux       Bordeaux  Saint-Étienne   \n",
       "150  2020-12-19T17:00:00+0100           Metz           Metz           Lens   \n",
       "151  2020-12-19T19:00:00+0100      Marseille      Marseille          Reims   \n",
       "152  2020-12-19T21:00:00+0100           Nice           Nice           Lyon   \n",
       "153  2020-12-20T13:00:00+0100          Brest          Brest    Montpellier   \n",
       "154  2020-12-20T15:00:00+0100          Dijon          Dijon         Monaco   \n",
       "155  2020-12-20T15:00:00+0100         Nantes         Nantes         Angers   \n",
       "156  2020-12-20T15:00:00+0100     Strasbourg     Strasbourg       Bordeaux   \n",
       "157  2020-12-20T15:00:00+0100  Saint-Étienne  Saint-Étienne          Nîmes   \n",
       "158  2020-12-20T17:00:00+0100        Lorient        Lorient         Rennes   \n",
       "159  2020-12-20T21:00:00+0100          Lille          Lille       Paris-SG   \n",
       "160  2020-12-23T19:00:00+0100         Rennes         Rennes           Metz   \n",
       "161  2020-12-23T19:00:00+0100           Lens           Lens          Brest   \n",
       "162  2020-12-23T19:00:00+0100       Bordeaux       Bordeaux          Reims   \n",
       "163  2020-12-23T19:00:00+0100           Nice           Nice        Lorient   \n",
       "164  2020-12-23T19:00:00+0100          Nîmes          Nîmes          Dijon   \n",
       "165  2020-12-23T21:00:00+0100    Montpellier    Montpellier          Lille   \n",
       "166  2020-12-23T21:00:00+0100           Lyon           Lyon         Nantes   \n",
       "167  2020-12-23T21:00:00+0100          Paris       Paris-SG     Strasbourg   \n",
       "168  2020-12-23T21:00:00+0100         Angers         Angers      Marseille   \n",
       "169  2020-12-23T21:00:00+0100         Monaco         Monaco  Saint-Étienne   \n",
       "170  2021-01-06T19:00:00+0100         Nantes         Nantes         Rennes   \n",
       "171  2021-01-06T19:00:00+0100        Lorient        Lorient         Monaco   \n",
       "172  2021-01-06T19:00:00+0100           Metz           Metz       Bordeaux   \n",
       "173  2021-01-06T19:00:00+0100          Brest          Brest           Nice   \n",
       "174  2021-01-06T19:00:00+0100     Strasbourg     Strasbourg          Nîmes   \n",
       "175  2021-01-06T21:00:00+0100           Lyon           Lyon           Lens   \n",
       "176  2021-01-06T21:00:00+0100          Lille          Lille         Angers   \n",
       "177  2021-01-06T21:00:00+0100  Saint-Étienne  Saint-Étienne       Paris-SG   \n",
       "178  2021-01-06T21:00:00+0100      Marseille      Marseille    Montpellier   \n",
       "179  2021-01-06T21:00:00+0100          Reims          Reims          Dijon   \n",
       "180  2021-01-09T21:00:00+0100         Rennes         Rennes           Lyon   \n",
       "181  2021-01-09T21:00:00+0100          Paris       Paris-SG          Brest   \n",
       "182  2021-01-09T21:00:00+0100          Nîmes          Nîmes          Lille   \n",
       "183  2021-01-09T21:00:00+0100          Dijon          Dijon      Marseille   \n",
       "184  2021-01-09T21:00:00+0100         Monaco         Monaco         Angers   \n",
       "185  2021-01-09T21:00:00+0100           Lens           Lens     Strasbourg   \n",
       "186  2021-01-09T21:00:00+0100    Montpellier    Montpellier         Nantes   \n",
       "187  2021-01-09T21:00:00+0100           Metz           Metz           Nice   \n",
       "188  2021-01-09T21:00:00+0100       Bordeaux       Bordeaux        Lorient   \n",
       "189  2021-01-09T21:00:00+0100          Reims          Reims  Saint-Étienne   \n",
       "190  2021-01-15T21:00:00+0100    Montpellier    Montpellier         Monaco   \n",
       "191  2021-01-16T17:00:00+0100      Marseille      Marseille          Nîmes   \n",
       "192  2021-01-16T21:00:00+0100         Angers         Angers       Paris-SG   \n",
       "193  2021-01-17T13:00:00+0100          Brest          Brest         Rennes   \n",
       "194  2021-01-17T15:00:00+0100         Nantes         Nantes           Lens   \n",
       "195  2021-01-17T15:00:00+0100           Nice           Nice       Bordeaux   \n",
       "196  2021-01-17T15:00:00+0100     Strasbourg     Strasbourg  Saint-Étienne   \n",
       "197  2021-01-17T17:00:00+0100          Lille          Lille          Reims   \n",
       "198  2021-01-17T21:00:00+0100           Lyon           Lyon           Metz   \n",
       "199  2021-01-27T21:00:00+0100        Lorient        Lorient          Dijon   \n",
       "200  2021-01-22T21:00:00+0100          Paris       Paris-SG    Montpellier   \n",
       "201  2021-01-23T17:00:00+0100           Lens           Lens           Nice   \n",
       "202  2021-01-23T21:00:00+0100         Monaco         Monaco      Marseille   \n",
       "203  2021-01-24T13:00:00+0100       Bordeaux       Bordeaux         Angers   \n",
       "204  2021-01-24T15:00:00+0100           Metz           Metz         Nantes   \n",
       "205  2021-01-24T15:00:00+0100          Reims          Reims          Brest   \n",
       "206  2021-01-24T15:00:00+0100          Dijon          Dijon     Strasbourg   \n",
       "207  2021-01-24T17:00:00+0100         Rennes         Rennes          Lille   \n",
       "208  2021-01-24T21:00:00+0100  Saint-Étienne  Saint-Étienne           Lyon   \n",
       "209  2021-02-24T19:00:00+0100          Nîmes          Nîmes        Lorient   \n",
       "210  2021-01-29T21:00:00+0100           Lyon           Lyon       Bordeaux   \n",
       "211  2021-01-30T17:00:00+0100    Montpellier    Montpellier           Lens   \n",
       "212  2021-01-31T13:00:00+0100           Nice           Nice  Saint-Étienne   \n",
       "213  2021-01-31T15:00:00+0100        Lorient        Lorient       Paris-SG   \n",
       "214  2021-01-31T15:00:00+0100          Brest          Brest           Metz   \n",
       "215  2021-01-31T15:00:00+0100         Angers         Angers          Nîmes   \n",
       "216  2021-01-31T15:00:00+0100     Strasbourg     Strasbourg          Reims   \n",
       "217  2021-01-31T17:00:00+0100          Lille          Lille          Dijon   \n",
       "218  2021-01-31T21:00:00+0100         Nantes         Nantes         Monaco   \n",
       "219  2021-03-10T19:00:00+0100      Marseille      Marseille         Rennes   \n",
       "220  2021-02-03T19:00:00+0100       Bordeaux       Bordeaux          Lille   \n",
       "221  2021-02-03T19:00:00+0100         Rennes         Rennes        Lorient   \n",
       "222  2021-02-03T19:00:00+0100           Metz           Metz    Montpellier   \n",
       "223  2021-02-03T19:00:00+0100          Reims          Reims         Angers   \n",
       "224  2021-02-03T19:00:00+0100     Strasbourg     Strasbourg          Brest   \n",
       "225  2021-02-03T21:00:00+0100          Dijon          Dijon           Lyon   \n",
       "226  2021-02-03T21:00:00+0100          Paris       Paris-SG          Nîmes   \n",
       "227  2021-02-03T21:00:00+0100         Monaco         Monaco           Nice   \n",
       "228  2021-02-03T21:00:00+0100           Lens           Lens      Marseille   \n",
       "229  2021-02-03T21:00:00+0100  Saint-Étienne  Saint-Étienne         Nantes   \n",
       "230  2021-02-06T17:00:00+0100        Lorient        Lorient          Reims   \n",
       "231  2021-02-06T19:00:00+0100           Lyon           Lyon     Strasbourg   \n",
       "232  2021-02-06T21:00:00+0100           Lens           Lens         Rennes   \n",
       "233  2021-02-07T13:00:00+0100          Brest          Brest       Bordeaux   \n",
       "234  2021-02-07T15:00:00+0100          Nîmes          Nîmes         Monaco   \n",
       "235  2021-02-07T15:00:00+0100  Saint-Étienne  Saint-Étienne           Metz   \n",
       "236  2021-02-07T15:00:00+0100           Nice           Nice         Angers   \n",
       "237  2021-02-07T15:00:00+0100    Montpellier    Montpellier          Dijon   \n",
       "238  2021-02-07T17:00:00+0100         Nantes         Nantes          Lille   \n",
       "239  2021-02-07T21:00:00+0100      Marseille      Marseille       Paris-SG   \n",
       "240  2021-02-13T17:00:00+0100          Paris       Paris-SG           Nice   \n",
       "241  2021-02-13T19:00:00+0100          Reims          Reims           Lens   \n",
       "242  2021-02-13T21:00:00+0100           Lyon           Lyon    Montpellier   \n",
       "243  2021-02-14T13:00:00+0100         Monaco         Monaco        Lorient   \n",
       "244  2021-02-14T15:00:00+0100         Rennes         Rennes  Saint-Étienne   \n",
       "245  2021-02-14T15:00:00+0100           Metz           Metz     Strasbourg   \n",
       "246  2021-02-14T15:00:00+0100         Angers         Angers         Nantes   \n",
       "247  2021-02-14T15:00:00+0100          Dijon          Dijon          Nîmes   \n",
       "248  2021-02-14T17:05:00+0100          Lille          Lille          Brest   \n",
       "249  2021-02-14T21:00:00+0100       Bordeaux       Bordeaux      Marseille   \n",
       "250  2021-02-19T21:00:00+0100          Brest          Brest           Lyon   \n",
       "251  2021-02-20T13:00:00+0100  Saint-Étienne  Saint-Étienne          Reims   \n",
       "252  2021-02-20T17:00:00+0100         Nantes         Nantes      Marseille   \n",
       "253  2021-02-21T13:00:00+0100    Montpellier    Montpellier         Rennes   \n",
       "254  2021-02-21T15:00:00+0100           Lens           Lens          Dijon   \n",
       "255  2021-02-21T15:00:00+0100           Nice           Nice           Metz   \n",
       "256  2021-02-21T15:00:00+0100     Strasbourg     Strasbourg         Angers   \n",
       "257  2021-02-21T15:00:00+0100          Nîmes          Nîmes       Bordeaux   \n",
       "258  2021-02-21T17:05:00+0100        Lorient        Lorient          Lille   \n",
       "259  2021-02-21T21:00:00+0100          Paris       Paris-SG         Monaco   \n",
       "260  2021-02-26T21:00:00+0100         Rennes         Rennes           Nice   \n",
       "261  2021-02-27T13:00:00+0100       Bordeaux       Bordeaux           Metz   \n",
       "262  2021-02-27T17:00:00+0100          Dijon          Dijon       Paris-SG   \n",
       "263  2021-02-28T13:00:00+0100         Monaco         Monaco          Brest   \n",
       "264  2021-02-28T15:00:00+0100         Angers         Angers           Lens   \n",
       "265  2021-02-28T15:00:00+0100          Reims          Reims    Montpellier   \n",
       "266  2021-02-28T15:00:00+0100        Lorient        Lorient  Saint-Étienne   \n",
       "267  2021-02-28T15:00:00+0100          Nîmes          Nîmes         Nantes   \n",
       "268  2021-02-28T17:05:00+0100          Lille          Lille     Strasbourg   \n",
       "269  2021-02-28T21:00:00+0100      Marseille      Marseille           Lyon   \n",
       "270  2021-03-03T19:00:00+0100           Lyon           Lyon         Rennes   \n",
       "271  2021-03-03T19:00:00+0100           Metz           Metz         Angers   \n",
       "272  2021-03-03T19:00:00+0100  Saint-Étienne  Saint-Étienne           Lens   \n",
       "273  2021-03-03T19:00:00+0100           Nice           Nice          Nîmes   \n",
       "274  2021-03-03T19:00:00+0100          Brest          Brest          Dijon   \n",
       "275  2021-03-03T21:00:00+0100          Lille          Lille      Marseille   \n",
       "276  2021-03-03T21:00:00+0100       Bordeaux       Bordeaux       Paris-SG   \n",
       "277  2021-03-03T21:00:00+0100     Strasbourg     Strasbourg         Monaco   \n",
       "278  2021-03-03T21:00:00+0100    Montpellier    Montpellier        Lorient   \n",
       "279  2021-03-03T21:00:00+0100         Nantes         Nantes          Reims   \n",
       "280  2021-03-12T21:00:00+0100          Reims          Reims           Lyon   \n",
       "281  2021-03-13T13:00:00+0100         Angers         Angers  Saint-Étienne   \n",
       "282  2021-03-13T17:00:00+0100      Marseille      Marseille          Brest   \n",
       "283  2021-03-14T13:00:00+0100          Nîmes          Nîmes    Montpellier   \n",
       "284  2021-03-14T15:00:00+0100           Lens           Lens           Metz   \n",
       "285  2021-03-14T15:00:00+0100         Rennes         Rennes     Strasbourg   \n",
       "286  2021-03-14T15:00:00+0100        Lorient        Lorient           Nice   \n",
       "287  2021-03-14T15:00:00+0100          Dijon          Dijon       Bordeaux   \n",
       "288  2021-03-14T17:05:00+0100         Monaco         Monaco          Lille   \n",
       "289  2021-03-14T21:00:00+0100          Paris       Paris-SG         Nantes   \n",
       "290  2021-03-19T21:00:00+0100  Saint-Étienne  Saint-Étienne         Monaco   \n",
       "291  2021-03-20T13:00:00+0100           Metz           Metz         Rennes   \n",
       "292  2021-03-20T17:00:00+0100           Nice           Nice      Marseille   \n",
       "293  2021-03-21T13:00:00+0100     Strasbourg     Strasbourg           Lens   \n",
       "294  2021-03-21T15:00:00+0100    Montpellier    Montpellier       Bordeaux   \n",
       "295  2021-03-21T15:00:00+0100          Brest          Brest         Angers   \n",
       "296  2021-03-21T15:00:00+0100          Dijon          Dijon          Reims   \n",
       "297  2021-03-21T15:00:00+0100         Nantes         Nantes        Lorient   \n",
       "298  2021-03-21T17:05:00+0100          Lille          Lille          Nîmes   \n",
       "299  2021-03-21T21:00:00+0100           Lyon           Lyon       Paris-SG   \n",
       "300  2021-04-03T13:00:00+0200         Monaco         Monaco           Metz   \n",
       "301  2021-04-03T17:00:00+0200          Paris       Paris-SG          Lille   \n",
       "302  2021-04-03T21:00:00+0200           Lens           Lens           Lyon   \n",
       "303  2021-04-04T13:00:00+0200         Angers         Angers    Montpellier   \n",
       "304  2021-04-04T15:00:00+0200          Reims          Reims         Rennes   \n",
       "305  2021-04-04T15:00:00+0200         Nantes         Nantes           Nice   \n",
       "306  2021-04-04T15:00:00+0200       Bordeaux       Bordeaux     Strasbourg   \n",
       "307  2021-04-04T15:00:00+0200        Lorient        Lorient          Brest   \n",
       "308  2021-04-04T17:05:00+0200          Nîmes          Nîmes  Saint-Étienne   \n",
       "309  2021-04-04T21:00:00+0200      Marseille      Marseille          Dijon   \n",
       "310  2021-04-09T21:00:00+0200           Metz           Metz          Lille   \n",
       "311  2021-04-10T17:00:00+0200     Strasbourg     Strasbourg       Paris-SG   \n",
       "312  2021-04-10T21:00:00+0200    Montpellier    Montpellier      Marseille   \n",
       "313  2021-04-11T13:00:00+0200         Rennes         Rennes         Nantes   \n",
       "314  2021-04-11T15:00:00+0200           Lens           Lens        Lorient   \n",
       "315  2021-04-11T15:00:00+0200           Nice           Nice          Reims   \n",
       "316  2021-04-11T15:00:00+0200  Saint-Étienne  Saint-Étienne       Bordeaux   \n",
       "317  2021-04-11T15:00:00+0200          Brest          Brest          Nîmes   \n",
       "318  2021-04-11T17:05:00+0200         Monaco         Monaco          Dijon   \n",
       "319  2021-04-11T21:00:00+0200           Lyon           Lyon         Angers   \n",
       "320  2021-04-16T21:00:00+0200          Lille          Lille    Montpellier   \n",
       "321  2021-04-17T12:45:00+0200         Angers         Angers         Rennes   \n",
       "322  2021-04-17T17:00:00+0200      Marseille      Marseille        Lorient   \n",
       "323  2021-04-18T13:00:00+0200          Paris       Paris-SG  Saint-Étienne   \n",
       "324  2021-04-18T15:00:00+0200          Brest          Brest           Lens   \n",
       "325  2021-04-18T15:00:00+0200          Dijon          Dijon           Nice   \n",
       "326  2021-04-18T15:00:00+0200          Reims          Reims           Metz   \n",
       "327  2021-04-18T15:00:00+0200          Nîmes          Nîmes     Strasbourg   \n",
       "328  2021-04-18T17:05:00+0200       Bordeaux       Bordeaux         Monaco   \n",
       "329  2021-04-18T21:00:00+0200         Nantes         Nantes           Lyon   \n",
       "330  2021-04-23T21:00:00+0200          Reims          Reims      Marseille   \n",
       "331  2021-04-24T13:00:00+0200  Saint-Étienne  Saint-Étienne          Brest   \n",
       "332  2021-04-24T17:00:00+0200           Metz           Metz       Paris-SG   \n",
       "333  2021-04-25T13:00:00+0200           Nice           Nice    Montpellier   \n",
       "334  2021-04-25T15:00:00+0200           Lens           Lens          Nîmes   \n",
       "335  2021-04-25T15:00:00+0200         Rennes         Rennes          Dijon   \n",
       "336  2021-04-25T15:00:00+0200     Strasbourg     Strasbourg         Nantes   \n",
       "337  2021-04-25T15:00:00+0200        Lorient        Lorient       Bordeaux   \n",
       "338  2021-04-25T17:05:00+0200         Angers         Angers         Monaco   \n",
       "339  2021-04-25T21:00:00+0200           Lyon           Lyon          Lille   \n",
       "340  2021-04-30T21:00:00+0200      Marseille      Marseille     Strasbourg   \n",
       "341  2021-05-01T17:00:00+0200          Paris       Paris-SG           Lens   \n",
       "342  2021-05-01T21:00:00+0200          Lille          Lille           Nice   \n",
       "343  2021-05-02T13:00:00+0200       Bordeaux       Bordeaux         Rennes   \n",
       "344  2021-05-02T15:00:00+0200          Dijon          Dijon           Metz   \n",
       "345  2021-05-02T15:00:00+0200          Nîmes          Nîmes          Reims   \n",
       "346  2021-05-02T15:00:00+0200        Lorient        Lorient         Angers   \n",
       "347  2021-05-02T15:00:00+0200          Brest          Brest         Nantes   \n",
       "348  2021-05-02T17:05:00+0200    Montpellier    Montpellier  Saint-Étienne   \n",
       "349  2021-05-02T21:00:00+0200         Monaco         Monaco           Lyon   \n",
       "350  2021-05-07T21:00:00+0200           Lens           Lens          Lille   \n",
       "351  2021-05-08T13:00:00+0200         Nantes         Nantes       Bordeaux   \n",
       "352  2021-05-08T17:00:00+0200           Lyon           Lyon        Lorient   \n",
       "353  2021-05-09T13:00:00+0200  Saint-Étienne  Saint-Étienne      Marseille   \n",
       "354  2021-05-09T15:00:00+0200     Strasbourg     Strasbourg    Montpellier   \n",
       "355  2021-05-09T15:00:00+0200           Metz           Metz          Nîmes   \n",
       "356  2021-05-09T15:00:00+0200           Nice           Nice          Brest   \n",
       "357  2021-05-09T15:00:00+0200         Angers         Angers          Dijon   \n",
       "358  2021-05-09T17:05:00+0200          Reims          Reims         Monaco   \n",
       "359  2021-05-09T21:00:00+0200         Rennes         Rennes       Paris-SG   \n",
       "360  2021-05-16T21:00:00+0200          Lille          Lille  Saint-Étienne   \n",
       "361  2021-05-16T21:00:00+0200          Paris       Paris-SG          Reims   \n",
       "362  2021-05-16T21:00:00+0200         Monaco         Monaco         Rennes   \n",
       "363  2021-05-16T21:00:00+0200          Nîmes          Nîmes           Lyon   \n",
       "364  2021-05-16T21:00:00+0200      Marseille      Marseille         Angers   \n",
       "365  2021-05-16T21:00:00+0200       Bordeaux       Bordeaux           Lens   \n",
       "366  2021-05-16T21:00:00+0200    Montpellier    Montpellier          Brest   \n",
       "367  2021-05-16T21:00:00+0200           Nice           Nice     Strasbourg   \n",
       "368  2021-05-16T21:00:00+0200        Lorient        Lorient           Metz   \n",
       "369  2021-05-16T21:00:00+0200          Dijon          Dijon         Nantes   \n",
       "370  2021-05-23T21:00:00+0200         Angers         Angers          Lille   \n",
       "371  2021-05-23T21:00:00+0200          Brest          Brest       Paris-SG   \n",
       "372  2021-05-23T21:00:00+0200           Lens           Lens         Monaco   \n",
       "373  2021-05-23T21:00:00+0200           Lyon           Lyon           Nice   \n",
       "374  2021-05-23T21:00:00+0200           Metz           Metz      Marseille   \n",
       "375  2021-05-23T21:00:00+0200         Rennes         Rennes          Nîmes   \n",
       "376  2021-05-23T21:00:00+0200         Nantes         Nantes    Montpellier   \n",
       "377  2021-05-23T21:00:00+0200  Saint-Étienne  Saint-Étienne          Dijon   \n",
       "378  2021-05-23T21:00:00+0200          Reims          Reims       Bordeaux   \n",
       "379  2021-05-23T21:00:00+0200     Strasbourg     Strasbourg        Lorient   \n",
       "\n",
       "    score_domicile score_exterieur  vainqueur  \\\n",
       "0                0               0   ex-aequo   \n",
       "1                0               1  exterieur   \n",
       "2                1               1   ex-aequo   \n",
       "3                2               2   ex-aequo   \n",
       "4                3               1   domicile   \n",
       "5                4               0   domicile   \n",
       "6                2               1   domicile   \n",
       "7                2               1   domicile   \n",
       "8                1               0   domicile   \n",
       "9                0               2  exterieur   \n",
       "10               4               1   domicile   \n",
       "11               2               1   domicile   \n",
       "12               0               2  exterieur   \n",
       "13               0               1  exterieur   \n",
       "14               2               1   domicile   \n",
       "15               2               0   domicile   \n",
       "16               0               2  exterieur   \n",
       "17               0               1  exterieur   \n",
       "18               2               3  exterieur   \n",
       "19               1               0   domicile   \n",
       "20               0               0   ex-aequo   \n",
       "21               3               1   domicile   \n",
       "22               2               0   domicile   \n",
       "23               1               0   domicile   \n",
       "24               2               4  exterieur   \n",
       "25               2               3  exterieur   \n",
       "26               1               0   domicile   \n",
       "27               0               2  exterieur   \n",
       "28               2               1   domicile   \n",
       "29               0               1  exterieur   \n",
       "30               0               0   ex-aequo   \n",
       "31               2               1   domicile   \n",
       "32               2               1   domicile   \n",
       "33               0               3  exterieur   \n",
       "34               4               1   domicile   \n",
       "35               3               2   domicile   \n",
       "36               2               1   domicile   \n",
       "37               1               0   domicile   \n",
       "38               2               2   ex-aequo   \n",
       "39               1               1   ex-aequo   \n",
       "40               2               0   domicile   \n",
       "41               0               3  exterieur   \n",
       "42               1               1   ex-aequo   \n",
       "43               0               0   ex-aequo   \n",
       "44               2               2   ex-aequo   \n",
       "45               1               1   ex-aequo   \n",
       "46               3               2   domicile   \n",
       "47               3               2   domicile   \n",
       "48               1               1   ex-aequo   \n",
       "49               0               2  exterieur   \n",
       "50               6               1   domicile   \n",
       "51               2               0   domicile   \n",
       "52               2               1   domicile   \n",
       "53               0               1  exterieur   \n",
       "54               0               3  exterieur   \n",
       "55               1               0   domicile   \n",
       "56               3               0   domicile   \n",
       "57               3               1   domicile   \n",
       "58               2               2   ex-aequo   \n",
       "59               1               1   ex-aequo   \n",
       "60               1               1   ex-aequo   \n",
       "61               0               4  exterieur   \n",
       "62               1               3  exterieur   \n",
       "63               3               1   domicile   \n",
       "64               2               3  exterieur   \n",
       "65               1               1   ex-aequo   \n",
       "66               3               1   domicile   \n",
       "67               1               1   ex-aequo   \n",
       "68               1               3  exterieur   \n",
       "69               4               0   domicile   \n",
       "70               1               2  exterieur   \n",
       "71               0               1  exterieur   \n",
       "72               4               0   domicile   \n",
       "73               0               4  exterieur   \n",
       "74               2               0   domicile   \n",
       "75               2               0   domicile   \n",
       "76               0               3  exterieur   \n",
       "77               1               1   ex-aequo   \n",
       "78               4               1   domicile   \n",
       "79               1               1   ex-aequo   \n",
       "80               2               1   domicile   \n",
       "81               0               3  exterieur   \n",
       "82               0               1  exterieur   \n",
       "83               0               3  exterieur   \n",
       "84               0               1  exterieur   \n",
       "85               0               0   ex-aequo   \n",
       "86               2               1   domicile   \n",
       "87               4               0   domicile   \n",
       "88               1               1   ex-aequo   \n",
       "89               0               1  exterieur   \n",
       "90               0               1  exterieur   \n",
       "91               0               2  exterieur   \n",
       "92               3               0   domicile   \n",
       "93               3               2   domicile   \n",
       "94               4               4   ex-aequo   \n",
       "95               1               1   ex-aequo   \n",
       "96               1               5  exterieur   \n",
       "97               0               2  exterieur   \n",
       "98               1               2  exterieur   \n",
       "99               2               1   domicile   \n",
       "100              0               1  exterieur   \n",
       "101              3               2   domicile   \n",
       "102              4               1   domicile   \n",
       "103              1               1   ex-aequo   \n",
       "104              4               3   domicile   \n",
       "105              0               1  exterieur   \n",
       "106              0               1  exterieur   \n",
       "107              0               1  exterieur   \n",
       "108              4               0   domicile   \n",
       "109              3               2   domicile   \n",
       "110              1               1   ex-aequo   \n",
       "111              3               1   domicile   \n",
       "112              2               2   ex-aequo   \n",
       "113              3               0   domicile   \n",
       "114              1               3  exterieur   \n",
       "115              0               1  exterieur   \n",
       "116              3               0   domicile   \n",
       "117              0               2  exterieur   \n",
       "118              1               3  exterieur   \n",
       "119              1               1   ex-aequo   \n",
       "120              0               2  exterieur   \n",
       "121              0               2  exterieur   \n",
       "122              1               3  exterieur   \n",
       "123              2               1   domicile   \n",
       "124              2               0   domicile   \n",
       "125              1               0   domicile   \n",
       "126              0               4  exterieur   \n",
       "127              0               0   ex-aequo   \n",
       "128              0               0   ex-aequo   \n",
       "129              1               3  exterieur   \n",
       "130              0               0   ex-aequo   \n",
       "131              2               1   domicile   \n",
       "132              2               3  exterieur   \n",
       "133              0               1  exterieur   \n",
       "134              2               1   domicile   \n",
       "135              2               2   ex-aequo   \n",
       "136              1               1   ex-aequo   \n",
       "137              3               0   domicile   \n",
       "138              2               1   domicile   \n",
       "139              0               1  exterieur   \n",
       "140              0               2  exterieur   \n",
       "141              0               2  exterieur   \n",
       "142              0               2  exterieur   \n",
       "143              0               2  exterieur   \n",
       "144              3               2   domicile   \n",
       "145              2               2   ex-aequo   \n",
       "146              2               0   domicile   \n",
       "147              2               1   domicile   \n",
       "148              0               3  exterieur   \n",
       "149              1               2  exterieur   \n",
       "150              2               0   domicile   \n",
       "151              1               1   ex-aequo   \n",
       "152              1               4  exterieur   \n",
       "153              2               2   ex-aequo   \n",
       "154              0               1  exterieur   \n",
       "155              1               1   ex-aequo   \n",
       "156              0               2  exterieur   \n",
       "157              2               2   ex-aequo   \n",
       "158              0               3  exterieur   \n",
       "159              0               0   ex-aequo   \n",
       "160              1               0   domicile   \n",
       "161              2               1   domicile   \n",
       "162              1               3  exterieur   \n",
       "163              2               2   ex-aequo   \n",
       "164              1               3  exterieur   \n",
       "165              2               3  exterieur   \n",
       "166              3               0   domicile   \n",
       "167              4               0   domicile   \n",
       "168              2               1   domicile   \n",
       "169              2               2   ex-aequo   \n",
       "170              0               0   ex-aequo   \n",
       "171              2               5  exterieur   \n",
       "172              0               0   ex-aequo   \n",
       "173              2               0   domicile   \n",
       "174              5               0   domicile   \n",
       "175              3               2   domicile   \n",
       "176              1               2  exterieur   \n",
       "177              1               1   ex-aequo   \n",
       "178              3               1   domicile   \n",
       "179              0               0   ex-aequo   \n",
       "180              2               2   ex-aequo   \n",
       "181              3               0   domicile   \n",
       "182              0               1  exterieur   \n",
       "183              0               0   ex-aequo   \n",
       "184              3               0   domicile   \n",
       "185              0               1  exterieur   \n",
       "186              1               1   ex-aequo   \n",
       "187              1               1   ex-aequo   \n",
       "188              2               1   domicile   \n",
       "189              3               1   domicile   \n",
       "190              2               3  exterieur   \n",
       "191              1               2  exterieur   \n",
       "192              0               1  exterieur   \n",
       "193              1               2  exterieur   \n",
       "194              1               1   ex-aequo   \n",
       "195              0               3  exterieur   \n",
       "196              1               0   domicile   \n",
       "197              2               1   domicile   \n",
       "198              0               1  exterieur   \n",
       "199              3               2   domicile   \n",
       "200              4               0   domicile   \n",
       "201              0               1  exterieur   \n",
       "202              3               1   domicile   \n",
       "203              2               1   domicile   \n",
       "204              2               0   domicile   \n",
       "205              1               0   domicile   \n",
       "206              1               1   ex-aequo   \n",
       "207              0               1  exterieur   \n",
       "208              0               5  exterieur   \n",
       "209              1               0   domicile   \n",
       "210              2               1   domicile   \n",
       "211              1               2  exterieur   \n",
       "212              0               1  exterieur   \n",
       "213              3               2   domicile   \n",
       "214              2               4  exterieur   \n",
       "215              3               1   domicile   \n",
       "216              0               1  exterieur   \n",
       "217              1               0   domicile   \n",
       "218              1               2  exterieur   \n",
       "219              1               0   domicile   \n",
       "220              0               3  exterieur   \n",
       "221              1               1   ex-aequo   \n",
       "222              1               1   ex-aequo   \n",
       "223              0               0   ex-aequo   \n",
       "224              2               2   ex-aequo   \n",
       "225              0               1  exterieur   \n",
       "226              3               0   domicile   \n",
       "227              2               1   domicile   \n",
       "228              2               2   ex-aequo   \n",
       "229              1               1   ex-aequo   \n",
       "230              1               0   domicile   \n",
       "231              3               0   domicile   \n",
       "232              0               0   ex-aequo   \n",
       "233              2               1   domicile   \n",
       "234              3               4  exterieur   \n",
       "235              1               0   domicile   \n",
       "236              3               0   domicile   \n",
       "237              4               2   domicile   \n",
       "238              0               2  exterieur   \n",
       "239              0               2  exterieur   \n",
       "240              2               1   domicile   \n",
       "241              1               1   ex-aequo   \n",
       "242              1               2  exterieur   \n",
       "243              2               2   ex-aequo   \n",
       "244              0               2  exterieur   \n",
       "245              1               2  exterieur   \n",
       "246              1               3  exterieur   \n",
       "247              0               2  exterieur   \n",
       "248              0               0   ex-aequo   \n",
       "249              0               0   ex-aequo   \n",
       "250              2               3  exterieur   \n",
       "251              1               1   ex-aequo   \n",
       "252              1               1   ex-aequo   \n",
       "253              2               1   domicile   \n",
       "254              2               1   domicile   \n",
       "255              1               2  exterieur   \n",
       "256              0               0   ex-aequo   \n",
       "257              2               0   domicile   \n",
       "258              1               4  exterieur   \n",
       "259              0               2  exterieur   \n",
       "260              1               2  exterieur   \n",
       "261              1               2  exterieur   \n",
       "262              0               4  exterieur   \n",
       "263              2               0   domicile   \n",
       "264              2               2   ex-aequo   \n",
       "265              0               0   ex-aequo   \n",
       "266              2               1   domicile   \n",
       "267              1               1   ex-aequo   \n",
       "268              1               1   ex-aequo   \n",
       "269              1               1   ex-aequo   \n",
       "270              1               0   domicile   \n",
       "271              0               1  exterieur   \n",
       "272              2               3  exterieur   \n",
       "273              2               1   domicile   \n",
       "274              3               1   domicile   \n",
       "275              2               0   domicile   \n",
       "276              0               1  exterieur   \n",
       "277              1               0   domicile   \n",
       "278              1               1   ex-aequo   \n",
       "279              1               2  exterieur   \n",
       "280              1               1   ex-aequo   \n",
       "281              0               1  exterieur   \n",
       "282              3               1   domicile   \n",
       "283              1               1   ex-aequo   \n",
       "284              2               2   ex-aequo   \n",
       "285              1               0   domicile   \n",
       "286              1               1   ex-aequo   \n",
       "287              1               3  exterieur   \n",
       "288              0               0   ex-aequo   \n",
       "289              1               2  exterieur   \n",
       "290              0               4  exterieur   \n",
       "291              1               3  exterieur   \n",
       "292              3               0   domicile   \n",
       "293              1               2  exterieur   \n",
       "294              3               1   domicile   \n",
       "295              0               0   ex-aequo   \n",
       "296              0               1  exterieur   \n",
       "297              1               1   ex-aequo   \n",
       "298              1               2  exterieur   \n",
       "299              2               4  exterieur   \n",
       "300              4               0   domicile   \n",
       "301              0               1  exterieur   \n",
       "302              1               1   ex-aequo   \n",
       "303              1               1   ex-aequo   \n",
       "304              2               2   ex-aequo   \n",
       "305              1               2  exterieur   \n",
       "306              2               3  exterieur   \n",
       "307              1               0   domicile   \n",
       "308              0               2  exterieur   \n",
       "309              2               0   domicile   \n",
       "310              0               2  exterieur   \n",
       "311              1               4  exterieur   \n",
       "312              3               3   ex-aequo   \n",
       "313              1               0   domicile   \n",
       "314              4               1   domicile   \n",
       "315              0               0   ex-aequo   \n",
       "316              4               1   domicile   \n",
       "317              1               1   ex-aequo   \n",
       "318              3               0   domicile   \n",
       "319              3               0   domicile   \n",
       "320              1               1   ex-aequo   \n",
       "321              0               3  exterieur   \n",
       "322              3               2   domicile   \n",
       "323              3               2   domicile   \n",
       "324              1               1   ex-aequo   \n",
       "325              2               0   domicile   \n",
       "326              0               0   ex-aequo   \n",
       "327              1               1   ex-aequo   \n",
       "328              0               3  exterieur   \n",
       "329              1               2  exterieur   \n",
       "330              1               3  exterieur   \n",
       "331              1               2  exterieur   \n",
       "332              1               3  exterieur   \n",
       "333              3               1   domicile   \n",
       "334              2               1   domicile   \n",
       "335              5               1   domicile   \n",
       "336              1               2  exterieur   \n",
       "337              4               1   domicile   \n",
       "338              0               1  exterieur   \n",
       "339              2               3  exterieur   \n",
       "340              1               1   ex-aequo   \n",
       "341              2               1   domicile   \n",
       "342              2               0   domicile   \n",
       "343              1               0   domicile   \n",
       "344              1               5  exterieur   \n",
       "345              2               2   ex-aequo   \n",
       "346              2               0   domicile   \n",
       "347              1               4  exterieur   \n",
       "348              1               2  exterieur   \n",
       "349              2               3  exterieur   \n",
       "350              0               3  exterieur   \n",
       "351              3               0   domicile   \n",
       "352              4               1   domicile   \n",
       "353              1               0   domicile   \n",
       "354              2               3  exterieur   \n",
       "355              0               3  exterieur   \n",
       "356              3               2   domicile   \n",
       "357              3               0   domicile   \n",
       "358              0               1  exterieur   \n",
       "359              1               1   ex-aequo   \n",
       "360              0               0   ex-aequo   \n",
       "361              4               0   domicile   \n",
       "362              2               1   domicile   \n",
       "363              2               5  exterieur   \n",
       "364              3               2   domicile   \n",
       "365              3               0   domicile   \n",
       "366              0               0   ex-aequo   \n",
       "367              0               2  exterieur   \n",
       "368              2               1   domicile   \n",
       "369              0               4  exterieur   \n",
       "370              1               2  exterieur   \n",
       "371              0               2  exterieur   \n",
       "372              0               0   ex-aequo   \n",
       "373              2               3  exterieur   \n",
       "374              1               1   ex-aequo   \n",
       "375              2               0   domicile   \n",
       "376              1               2  exterieur   \n",
       "377              0               1  exterieur   \n",
       "378              1               2  exterieur   \n",
       "379              1               1   ex-aequo   \n",
       "\n",
       "                                        goals_domicile  \\\n",
       "0                                                   []   \n",
       "1                                                   []   \n",
       "2                                           [J. Bamba]   \n",
       "3                           [A. Disasi, B. Badiashile]   \n",
       "4                       [Y. Wissa, A. Grbic, P. Hamel]   \n",
       "5    [K. Denkey, B. Meling, R. Philippoteaux, M. Koné]   \n",
       "6                               [A. Gouiri, A. Gouiri]   \n",
       "7                           [T. Savanier, T. Savanier]   \n",
       "8                                         [J. Draxler]   \n",
       "9                                                   []   \n",
       "10           [M. Depay, W. Lautoa, M. Depay, M. Depay]   \n",
       "11                        [D. Le Tallec, E. Camavinga]   \n",
       "12                                                  []   \n",
       "13                                                  []   \n",
       "14                              [A. Girotto, I. Louza]   \n",
       "15                            [R. Hamouma, R. Hamouma]   \n",
       "16                                                  []   \n",
       "17                                                  []   \n",
       "18                         [R. Faivre, G. Charbonnier]   \n",
       "19                                         [I. Ganago]   \n",
       "20                                                  []   \n",
       "21                  [G. Laborde, D. Congré, D. Congré]   \n",
       "22                             [D. Bouanga, M. Camara]   \n",
       "23                                         [L. Araujo]   \n",
       "24                               [A. Cubas, Z. Ferhat]   \n",
       "25                                [A. Grbic, Y. Wissa]   \n",
       "26                                        [S. Bahoken]   \n",
       "27                                                  []   \n",
       "28                              [S. Diop, W. Geubbels]   \n",
       "29                                                  []   \n",
       "30                                                  []   \n",
       "31                              [I. Ganago, G. Kakuta]   \n",
       "32                            [S. Nzonzi, A. Truffert]   \n",
       "33                                                  []   \n",
       "34       [A. Souquet, A. Delort, A. Delort, F. Mollet]   \n",
       "35                 [R. Perraud, S. Mounié, F. Honorat]   \n",
       "36                                [I. Niane, I. Niane]   \n",
       "37                                       [S. Mitrovic]   \n",
       "38                                [M. Simon, R. Emond]   \n",
       "39                                        [V. Germain]   \n",
       "40                             [N. Pallois, B. Yilmaz]   \n",
       "41                                                  []   \n",
       "42                                         [M. Sanson]   \n",
       "43                                                  []   \n",
       "44                   [E. Dina Ebimbe, B. Ecuele Manga]   \n",
       "45                                         [Z. Ferhat]   \n",
       "46          [W. Ben Yedder, R. Aguilar, W. Ben Yedder]   \n",
       "47                  [S. Thioub, I. Traoré, A. Fulgini]   \n",
       "48                                          [Y. Wissa]   \n",
       "49                                                  []   \n",
       "50   [A. Florenzi, Neymar, Neymar, J. Draxler, I. G...   \n",
       "51                              [G. Kakuta, F. Sotoca]   \n",
       "52                                  [Dante, K. Thuram]   \n",
       "53                                                  []   \n",
       "54                                                  []   \n",
       "55                                         [R. Faivre]   \n",
       "56                       [R. Oudin, S. Kalu, T. Basic]   \n",
       "57                      [I. Niane, I. Niane, I. Niane]   \n",
       "58                             [Raphinha, D. Da Silva]   \n",
       "59                                          [H. Aouar]   \n",
       "60                                          [M. Baldé]   \n",
       "61                                                  []   \n",
       "62                                        [M. Cassama]   \n",
       "63                       [F. Thauvin, J. Amavi, Pablo]   \n",
       "64                              [H. Diallo, J. Aholou]   \n",
       "65                                     [W. Ben Yedder]   \n",
       "66                  [R. Kolo Muani, L. Blas, A. Bamba]   \n",
       "67                                        [T. Mangani]   \n",
       "68                                      [A. Aouchiche]   \n",
       "69          [B. Yilmaz, J. Bamba, J. Ikoné, Y. Yazici]   \n",
       "70                                          [A. Hunou]   \n",
       "71                                                  []   \n",
       "72            [M. Kean, M. Kean, K. Mbappé, K. Mbappé]   \n",
       "73                                                  []   \n",
       "74                            [F. Boulaya, N. Sissoko]   \n",
       "75                               [J. Briand, R. Oudin]   \n",
       "76                                                  []   \n",
       "77                                        [K. Dolberg]   \n",
       "78   [M. Depay, K. Toko Ekambi, H. Aouar, K. Toko E...   \n",
       "79                                         [G. Kakuta]   \n",
       "80                            [D. Da Silva, N. Aguerd]   \n",
       "81                                                  []   \n",
       "82                                                  []   \n",
       "83                                                  []   \n",
       "84                                                  []   \n",
       "85                                                  []   \n",
       "86                                [B. Kamara, W. Faes]   \n",
       "87   [W. Ben Yedder, G. Martins, K. Volland, K. Vol...   \n",
       "88                                          [J. Bamba]   \n",
       "89                                                  []   \n",
       "90                                                  []   \n",
       "91                                                  []   \n",
       "92                 [M. Kean, A. Di Maria, D. Da Silva]   \n",
       "93         [R. Pierre-Gabriel, R. Perraud, I. Cardona]   \n",
       "94          [S. Banza, T. Foket, F. Sotoca, F. Sotoca]   \n",
       "95                                           [P. Yade]   \n",
       "96                                           [M. Koné]   \n",
       "97                                                  []   \n",
       "98                                     [P. Lees-Melou]   \n",
       "99                          [T. Kadewere, T. Kadewere]   \n",
       "100                                                 []   \n",
       "101              [K. Volland, K. Volland, F. Fabregas]   \n",
       "102    [F. Honorat, J. Duverne, I. Cardona, S. Mounié]   \n",
       "103                                    [R. Kolo Muani]   \n",
       "104      [P. Mendes, A. Delort, A. Delort, G. Laborde]   \n",
       "105                                                 []   \n",
       "106                                                 []   \n",
       "107                                                 []   \n",
       "108        [Y. Yazici, Y. Yazici, L. Araujo, J. David]   \n",
       "109                [A. Gonzalez, S. Khaoui, S. Khaoui]   \n",
       "110                                     [A. Thomasson]   \n",
       "111               [F. Thauvin, D. Payet, D. Benedetto]   \n",
       "112                                  [Neymar, M. Kean]   \n",
       "113         [K. Toko Ekambi, B. Guimaraes, M. Dembélé]   \n",
       "114                                    [A. Kalimuendo]   \n",
       "115                                                 []   \n",
       "116                  [S. Diop, G. Martins, K. Volland]   \n",
       "117                                                 []   \n",
       "118                                        [A. Gouiri]   \n",
       "119                                        [W. Khazri]   \n",
       "120                                                 []   \n",
       "121                                                 []   \n",
       "122                                      [S. Mavididi]   \n",
       "123                              [J. David, Y. Yazici]   \n",
       "124                           [A. Fulgini, P. Capelle]   \n",
       "125                                      [H. Ben Arfa]   \n",
       "126                                                 []   \n",
       "127                                                 []   \n",
       "128                                                 []   \n",
       "129                                       [F. Boulaya]   \n",
       "130                                                 []   \n",
       "131                         [F. Thauvin, D. Benedetto]   \n",
       "132                              [J. Omlin, G. Kakuta]   \n",
       "133                                                 []   \n",
       "134                            [F. Honorat, S. Mounié]   \n",
       "135                         [M. Simakan, A. Thomasson]   \n",
       "136                                         [M. Simon]   \n",
       "137                  [Q. Boisgard, P. Hamel, Y. Wissa]   \n",
       "138                               [J. Bamba, J. Fonte]   \n",
       "139                                                 []   \n",
       "140                                                 []   \n",
       "141                                                 []   \n",
       "142                                                 []   \n",
       "143                                                 []   \n",
       "144                      [E. Touré, B. Dia, M. Cafaro]   \n",
       "145                              [M. Depay, M. Cornet]   \n",
       "146                               [K. Mbappé, M. Kean]   \n",
       "147                              [H. Traoré, A. Hunou]   \n",
       "148                                                 []   \n",
       "149                                         [U. Hwang]   \n",
       "150                           [O. Nguette, F. Boulaya]   \n",
       "151                                       [F. Thauvin]   \n",
       "152                                        [A. Gouiri]   \n",
       "153                  [R. Philippoteaux, B. Chardonnet]   \n",
       "154                                                 []   \n",
       "155                                        [C. Traoré]   \n",
       "156                                                 []   \n",
       "157                           [H. Moukoudi, A. Nordin]   \n",
       "158                                                 []   \n",
       "159                                                 []   \n",
       "160                                       [C. Grenier]   \n",
       "161                         [A. Kalimuendo, F. Sotoca]   \n",
       "162                                         [U. Hwang]   \n",
       "163                    [J. Lotomba, J. Reine-Adélaïde]   \n",
       "164                                       [M. Ahlinvi]   \n",
       "165                            [G. Laborde, A. Delort]   \n",
       "166          [K. Toko Ekambi, T. Kadewere, L. Paqueta]   \n",
       "167         [T. Pembélé, K. Mbappé, I. Gueye, M. Kean]   \n",
       "168                        [M. Pereira Lage, L. Diony]   \n",
       "169                              [S. Diop, K. Volland]   \n",
       "170                                                 []   \n",
       "171                           [T. Moffi, A. Gravillon]   \n",
       "172                                                 []   \n",
       "173                            [S. Mounié, F. Honorat]   \n",
       "174  [L. Ajorque, H. Diallo, K. Lala, L. Ajorque, A...   \n",
       "175                    [M. Depay, S. Fortes, M. Depay]   \n",
       "176                                        [B. Yilmaz]   \n",
       "177                                       [R. Hamouma]   \n",
       "178                [N. Radonjic, D. Payet, V. Germain]   \n",
       "179                                                 []   \n",
       "180                        [C. Grenier, B. Bourigeaud]   \n",
       "181                   [M. Kean, M. Icardi, P. Sarabia]   \n",
       "182                                                 []   \n",
       "183                                                 []   \n",
       "184               [G. Maripan, K. Volland, S. Jovetic]   \n",
       "185                                                 []   \n",
       "186                                        [A. Oyongo]   \n",
       "187                                          [J. Boye]   \n",
       "188                               [R. Oudin, R. Oudin]   \n",
       "189                        [B. Dia, B. Dia, M. Cafaro]   \n",
       "190                               [S. Wahi, A. Delort]   \n",
       "191                                     [D. Benedetto]   \n",
       "192                                                 []   \n",
       "193                                       [F. Honorat]   \n",
       "194                                         [I. Louza]   \n",
       "195                                                 []   \n",
       "196                                       [L. Ajorque]   \n",
       "197                               [J. Bamba, J. David]   \n",
       "198                                                 []   \n",
       "199              [T. Chalobah, T. Moffi, A. Gravillon]   \n",
       "200          [K. Mbappé, Neymar, M. Icardi, K. Mbappé]   \n",
       "201                                                 []   \n",
       "202            [G. Maripan, A. Tchouaméni, S. Jovetic]   \n",
       "203                               [U. Hwang, U. Hwang]   \n",
       "204                        [A. Leya Iseka, F. Boulaya]   \n",
       "205                                         [N. Mbuku]   \n",
       "206                                     [S. Coulibaly]   \n",
       "207                                                 []   \n",
       "208                                                 []   \n",
       "209                                        [R. Ripart]   \n",
       "210                        [K. Toko Ekambi, L. Dubois]   \n",
       "211                                          [S. Wahi]   \n",
       "212                                                 []   \n",
       "213                   [L. Abergel, Y. Wissa, T. Moffi]   \n",
       "214                           [F. Honorat, I. Cardona]   \n",
       "215               [P. Capelle, L. Coulibaly, L. Diony]   \n",
       "216                                                 []   \n",
       "217                                        [Y. Yazici]   \n",
       "218                                         [R. Emond]   \n",
       "219                                      [M. Cuisance]   \n",
       "220                                                 []   \n",
       "221                                       [M. Terrier]   \n",
       "222                                          [P. Sarr]   \n",
       "223                                                 []   \n",
       "224                          [A. Thomasson, J. Aholou]   \n",
       "225                                                 []   \n",
       "226               [A. Di Maria, P. Sarabia, K. Mbappé]   \n",
       "227                     [W. Ben Yedder, W. Ben Yedder]   \n",
       "228                             [F. Sotoca, F. Medina]   \n",
       "229                                        [M. Camara]   \n",
       "230                                       [L. Abergel]   \n",
       "231               [M. Depay, K. Toko Ekambi, M. Depay]   \n",
       "232                                                 []   \n",
       "233                             [S. Mounié, R. Faivre]   \n",
       "234                 [L. Deaux, Z. Ferhat, N. Eliasson]   \n",
       "235                                          [J. Boye]   \n",
       "236                [S. Doumbia, M. Maolida, A. Gouiri]   \n",
       "237  [G. Laborde, G. Laborde, T. Savanier, P. Skule...   \n",
       "238                                                 []   \n",
       "239                                                 []   \n",
       "240                              [J. Draxler, M. Kean]   \n",
       "241                                        [A. Zeneli]   \n",
       "242                                       [L. Paqueta]   \n",
       "243                     [W. Ben Yedder, W. Ben Yedder]   \n",
       "244                                                 []   \n",
       "245                                       [T. Delaine]   \n",
       "246                                       [T. Mangani]   \n",
       "247                                                 []   \n",
       "248                                                 []   \n",
       "249                                                 []   \n",
       "250                        [B. Chardonnet, I. Cardona]   \n",
       "251                                           [C. Abi]   \n",
       "252                                          [L. Blas]   \n",
       "253                         [S. Mavididi, S. Mavididi]   \n",
       "254                              [S. Fofana, S. Banza]   \n",
       "255                                        [A. Gouiri]   \n",
       "256                                                 []   \n",
       "257                             [B. Meling, R. Ripart]   \n",
       "258                                      [J. Hergault]   \n",
       "259                                                 []   \n",
       "260                                       [M. Terrier]   \n",
       "261                                          [S. Kalu]   \n",
       "262                                                 []   \n",
       "263                           [S. Jovetic, K. Volland]   \n",
       "264                             [L. Diony, T. Mangani]   \n",
       "265                                                 []   \n",
       "266                       [A. Laurienté, A. Laurienté]   \n",
       "267                                          [M. Koné]   \n",
       "268                                         [J. Fonte]   \n",
       "269                                         [A. Milik]   \n",
       "270                                         [H. Aouar]   \n",
       "271                                                 []   \n",
       "272                          [H. Moukoudi, D. Bouanga]   \n",
       "273                     [A. Gouiri, A. Claude-Maurice]   \n",
       "274                [F. Honorat, S. Mounié, I. Cardona]   \n",
       "275                               [J. David, J. David]   \n",
       "276                                                 []   \n",
       "277                                      [F. Guilbert]   \n",
       "278                                      [S. Mavididi]   \n",
       "279                                         [M. Simon]   \n",
       "280                                        [M. Cafaro]   \n",
       "281                                                 []   \n",
       "282                [A. Milik, F. Thauvin, M. Cuisance]   \n",
       "283                                          [M. Koné]   \n",
       "284                            [J. Clauss, Y. Cahuzac]   \n",
       "285                                    [B. Bourigeaud]   \n",
       "286                                         [Y. Wissa]   \n",
       "287                                        [M. Konaté]   \n",
       "288                                                 []   \n",
       "289                                       [J. Draxler]   \n",
       "290                                                 []   \n",
       "291                                          [P. Yade]   \n",
       "292          [K. Thuram, A. Gouiri, A. Claude-Maurice]   \n",
       "293                                    [J. Bellegarde]   \n",
       "294               [J. Sambia, G. Laborde, S. Mavididi]   \n",
       "295                                                 []   \n",
       "296                                                 []   \n",
       "297                                    [R. Kolo Muani]   \n",
       "298                                             [Xeka]   \n",
       "299                            [I. Slimani, M. Cornet]   \n",
       "300  [F. Fabregas, K. Volland, W. Ben Yedder, W. Be...   \n",
       "301                                                 []   \n",
       "302                                        [J. Clauss]   \n",
       "303                                       [S. Bahoken]   \n",
       "304                                 [B. Dia, G. Konan]   \n",
       "305                                         [A. Touré]   \n",
       "306                              [P. Baysse, U. Hwang]   \n",
       "307                                       [L. Abergel]   \n",
       "308                                                 []   \n",
       "309                          [L. Balerdi, A. Gonzalez]   \n",
       "310                                                 []   \n",
       "311                                          [M. Sahi]   \n",
       "312                [A. Delort, G. Laborde, G. Laborde]   \n",
       "313                                       [M. Terrier]   \n",
       "314      [G. Kakuta, C. Jean, A. Kalimuendo, S. Banza]   \n",
       "315                                                 []   \n",
       "316     [W. Khazri, W. Khazri, W. Khazri, Z. Youssouf]   \n",
       "317                                    [B. Chardonnet]   \n",
       "318         [S. Jovetic, W. Ben Yedder, W. Ben Yedder]   \n",
       "319                   [M. Depay, L. Paqueta, M. Depay]   \n",
       "320                                        [L. Araujo]   \n",
       "321                                                 []   \n",
       "322                   [D. Payet, P. Lirola, P. Lirola]   \n",
       "323                  [K. Mbappé, K. Mbappé, M. Icardi]   \n",
       "324                                       [Y. Cahuzac]   \n",
       "325                             [F. Chafik, Y. Benzia]   \n",
       "326                                                 []   \n",
       "327                                        [R. Ripart]   \n",
       "328                                                 []   \n",
       "329                                       [N. Pallois]   \n",
       "330                                         [N. Mbuku]   \n",
       "331                                        [W. Khazri]   \n",
       "332                                      [F. Centonze]   \n",
       "333        [H. Boudaoui, J. Todibo, A. Claude-Maurice]   \n",
       "334                            [I. Ganago, M. Haïdara]   \n",
       "335  [M. Terrier, M. Terrier, F. Tait, G. Nyamsi, C...   \n",
       "336                                       [L. Ajorque]   \n",
       "337           [Y. Wissa, T. Moffi, T. Moffi, T. Moffi]   \n",
       "338                                                 []   \n",
       "339                             [I. Slimani, J. Fonte]   \n",
       "340                                     [D. Benedetto]   \n",
       "341                               [Neymar, Marquinhos]   \n",
       "342                              [B. Yilmaz, M. Çelik]   \n",
       "343                                          [S. Mara]   \n",
       "344                                         [M. Baldé]   \n",
       "345                               [R. Ripart, M. Koné]   \n",
       "346                             [Y. Wissa, F. Lemoine]   \n",
       "347                                        [R. Faivre]   \n",
       "348                                        [A. Delort]   \n",
       "349                        [K. Volland, W. Ben Yedder]   \n",
       "350                                                 []   \n",
       "351            [K. Coulibaly, I. Louza, R. Kolo Muani]   \n",
       "352  [H. Aouar, L. Paqueta, B. Guimaraes, B. Guimar...   \n",
       "353                                        [A. Nordin]   \n",
       "354                              [L. Ajorque, K. Zohi]   \n",
       "355                                                 []   \n",
       "356                 [R. Lopes, H. Boudaoui, H. Kamara]   \n",
       "357               [A. Fulgini, F. El-Melali, L. Diony]   \n",
       "358                                                 []   \n",
       "359                                      [S. Guirassy]   \n",
       "360                                                 []   \n",
       "361           [Neymar, K. Mbappé, Marquinhos, M. Kean]   \n",
       "362                       [W. Ben Yedder, A. Golovine]   \n",
       "363                                 [M. Koné, M. Koné]   \n",
       "364                     [A. Milik, A. Milik, A. Milik]   \n",
       "365                  [U. Hwang, Y. Sabaly, M. Zerkane]   \n",
       "366                                                 []   \n",
       "367                                                 []   \n",
       "368                            [Y. Wissa, J. Hergault]   \n",
       "369                                                 []   \n",
       "370                                       [A. Fulgini]   \n",
       "371                                                 []   \n",
       "372                                                 []   \n",
       "373                   [K. Toko Ekambi, K. Toko Ekambi]   \n",
       "374                                       [F. Boulaya]   \n",
       "375                       [S. Guirassy, B. Bourigeaud]   \n",
       "376                                    [R. Kolo Muani]   \n",
       "377                                                 []   \n",
       "378                                         [E. Touré]   \n",
       "379                                        [H. Diallo]   \n",
       "\n",
       "                                       goals_exterieur  \n",
       "0                                                   []  \n",
       "1                                          [I. Traoré]  \n",
       "2                                        [D. Da Silva]  \n",
       "3                                   [B. Dia, E. Touré]  \n",
       "4                                         [M. Chahiri]  \n",
       "5                                                   []  \n",
       "6                                          [G. Kakuta]  \n",
       "7                                           [M. Depay]  \n",
       "8                                                   []  \n",
       "9                             [R. Hamouma, D. Bouanga]  \n",
       "10                                      [A. Scheidler]  \n",
       "11                                        [G. Laborde]  \n",
       "12                            [K. Dolberg, K. Dolberg]  \n",
       "13                                          [J. Bamba]  \n",
       "14                                         [Z. Ferhat]  \n",
       "15                                                  []  \n",
       "16                                 [J. Maja, T. Basic]  \n",
       "17                                     [B. Badiashile]  \n",
       "18          [F. Thauvin, D. Caleta-Car, D. Caleta-Car]  \n",
       "19                                                  []  \n",
       "20                                                  []  \n",
       "21                                             [Dante]  \n",
       "22                                                  []  \n",
       "23                                                  []  \n",
       "24   [S. Guirassy, S. Guirassy, N. Aguerd, B. Bouri...  \n",
       "25                   [G. Kakuta, F. Medina, I. Ganago]  \n",
       "26                                                  []  \n",
       "27                            [R. Perraud, I. Cardona]  \n",
       "28                                           [L. Blas]  \n",
       "29                                        [F. Thauvin]  \n",
       "30                                                  []  \n",
       "31                                           [S. Kalu]  \n",
       "32                                     [W. Ben Yedder]  \n",
       "33                [K. Mbappé, A. Di Maria, Marquinhos]  \n",
       "34                                        [S. Bahoken]  \n",
       "35                         [C. Hérelle, T. Monconduit]  \n",
       "36                                            [B. Dia]  \n",
       "37                                                  []  \n",
       "38                            [A. Aouchiche, Y. Maçon]  \n",
       "39                                         [L. Araujo]  \n",
       "40                                                  []  \n",
       "41                  [N. Aguerd, S. Guirassy, A. Hunou]  \n",
       "42                                          [I. Niane]  \n",
       "43                                                  []  \n",
       "44                            [A. Delort, T. Savanier]  \n",
       "45                                         [I. Ganago]  \n",
       "46                            [M. Chahiri, L. Ajorque]  \n",
       "47                         [S. Mounié, G. Charbonnier]  \n",
       "48                                         [L. Dubois]  \n",
       "49                              [M. Icardi, M. Icardi]  \n",
       "50                                         [I. Traoré]  \n",
       "51                                                  []  \n",
       "52                                          [I. Louza]  \n",
       "53                                         [R. Ripart]  \n",
       "54                   [M. Çelik, R. Sanches, B. Yilmaz]  \n",
       "55                                                  []  \n",
       "56                                                  []  \n",
       "57                                          [P. Hamel]  \n",
       "58                             [Y. Abdelhamid, B. Dia]  \n",
       "59                                          [D. Payet]  \n",
       "60                                        [M. Terrier]  \n",
       "61     [K. Mbappé, A. Florenzi, K. Mbappé, P. Sarabia]  \n",
       "62                      [P. Hamel, Y. Wissa, T. Moffi]  \n",
       "63                                           [J. Maja]  \n",
       "64       [T. Kadewere, K. Toko Ekambi, K. Toko Ekambi]  \n",
       "65                                       [S. Mavididi]  \n",
       "66                                         [R. Faivre]  \n",
       "67                                        [O. Nguette]  \n",
       "68              [P. Lees-Melou, A. Gouiri, M. Maolida]  \n",
       "69                                                  []  \n",
       "70                             [S. Boufal, A. Fulgini]  \n",
       "71                                        [L. Balerdi]  \n",
       "72                                                  []  \n",
       "73                  [B. Dia, B. Dia, N. Mbuku, B. Dia]  \n",
       "74                                                  []  \n",
       "75                                                  []  \n",
       "76                    [H. Diallo, K. Lala, L. Ajorque]  \n",
       "77                                         [B. Yilmaz]  \n",
       "78                                     [W. Ben Yedder]  \n",
       "79                                          [A. Touré]  \n",
       "80                                        [F. Honorat]  \n",
       "81                 [A. Herrera, K. Mbappé, P. Sarabia]  \n",
       "82                                       [S. Mavididi]  \n",
       "83              [R. Lopes, P. Lees-Melou, H. Boudaoui]  \n",
       "84                                          [M. Gueye]  \n",
       "85                                                  []  \n",
       "86                                        [L. Ajorque]  \n",
       "87                                                  []  \n",
       "88                                          [M. Çelik]  \n",
       "89                                          [S. Banza]  \n",
       "90                                         [M. Sanson]  \n",
       "91                              [F. Mollet, A. Delort]  \n",
       "92                                                  []  \n",
       "93                              [B. Yilmaz, B. Yilmaz]  \n",
       "94              [M. Cafaro, B. Dia, F. Medina, B. Dia]  \n",
       "95                                          [M. Baldé]  \n",
       "96   [M. Pereira Lage, S. Bahoken, S. Bahoken, L. D...  \n",
       "97                                 [A. Bamba, L. Blas]  \n",
       "98                                [A. Disasi, S. Diop]  \n",
       "99                                          [A. Lopes]  \n",
       "100                                      [H. Ben Arfa]  \n",
       "101                             [K. Mbappé, K. Mbappé]  \n",
       "102                                        [M. Camara]  \n",
       "103                                    [A. Leya Iseka]  \n",
       "104                   [K. Lala, H. Diallo, L. Ajorque]  \n",
       "105                                    [A. Kalimuendo]  \n",
       "106                                        [R. Ripart]  \n",
       "107                                      [T. Kadewere]  \n",
       "108                                                 []  \n",
       "109                           [A. Gouiri, M. Sellouki]  \n",
       "110                                         [A. Hunou]  \n",
       "111                                          [L. Blas]  \n",
       "112                              [T. Pembélé, Y. Adli]  \n",
       "113                                                 []  \n",
       "114          [M. Pereira Lage, S. Bahoken, P. Capelle]  \n",
       "115                                      [P. Skuletic]  \n",
       "116                                                 []  \n",
       "117                           [I. Cardona, I. Cardona]  \n",
       "118            [M. Baldé, G. Ngonda Muzinga, M. Baldé]  \n",
       "119                                         [J. Ikoné]  \n",
       "120                         [D. Benedetto, V. Germain]  \n",
       "121                         [A. Kalimuendo, I. Ganago]  \n",
       "122                     [C. Dagba, M. Kean, K. Mbappé]  \n",
       "123                                      [P. Pellegri]  \n",
       "124                                                 []  \n",
       "125                                                 []  \n",
       "126       [D. Liénard, H. Diallo, L. Ajorque, K. Zohi]  \n",
       "127                                                 []  \n",
       "128                                                 []  \n",
       "129         [M. Depay, K. Toko Ekambi, K. Toko Ekambi]  \n",
       "130                                                 []  \n",
       "131                                    [W. Ben Yedder]  \n",
       "132               [S. Mavididi, P. Mendes, G. Laborde]  \n",
       "133                                         [M. Niang]  \n",
       "134                                        [A. Zeneli]  \n",
       "135                             [D. Bronn, O. Nguette]  \n",
       "136                                        [M. Konaté]  \n",
       "137                                                 []  \n",
       "138                                         [T. Basic]  \n",
       "139                                      [T. Kadewere]  \n",
       "140                               [Y. Yazici, T. Weah]  \n",
       "141                          [A. Leya Iseka, H. Maïga]  \n",
       "142                            [H. Diallo, L. Ajorque]  \n",
       "143                      [D. Ndoye, A. Claude-Maurice]  \n",
       "144                              [N. Pallois, L. Blas]  \n",
       "145                              [A. Lopes, R. Faivre]  \n",
       "146                                                 []  \n",
       "147                                         [P. Gueye]  \n",
       "148                    [I. Sylla, S. Banza, G. Kakuta]  \n",
       "149                              [A. Nordin, Y. Neyou]  \n",
       "150                                                 []  \n",
       "151                                      [Y. Nagatomo]  \n",
       "152  [M. Depay, T. Kadewere, K. Toko Ekambi, H. Aouar]  \n",
       "153                            [G. Laborde, A. Delort]  \n",
       "154                                       [K. Volland]  \n",
       "155                                        [R. Thomas]  \n",
       "156                                    [Pablo, Otavio]  \n",
       "157                            [M. Ahlinvi, R. Ripart]  \n",
       "158           [D. Da Silva, B. Bourigeaud, M. Terrier]  \n",
       "159                                                 []  \n",
       "160                                                 []  \n",
       "161                                   [G. Charbonnier]  \n",
       "162                [Y. Abdelhamid, B. Dia, M. Munetsi]  \n",
       "163                               [T. Moffi, A. Grbic]  \n",
       "164                   [M. Konaté, M. Baldé, M. Konaté]  \n",
       "165                     [T. Weah, J. Ikoné, B. Yilmaz]  \n",
       "166                                                 []  \n",
       "167                                                 []  \n",
       "168                                       [V. Rongier]  \n",
       "169                           [M. Debuchy, D. Bouanga]  \n",
       "170                                                 []  \n",
       "171  [A. Disasi, A. Golovine, K. Volland, S. Diop, ...  \n",
       "172                                                 []  \n",
       "173                                                 []  \n",
       "174                                                 []  \n",
       "175                           [F. Sotoca, C. Doucouré]  \n",
       "176                             [R. Thomas, R. Thomas]  \n",
       "177                                          [M. Kean]  \n",
       "178                                        [F. Mollet]  \n",
       "179                                                 []  \n",
       "180                             [M. Depay, J. Denayer]  \n",
       "181                                                 []  \n",
       "182                                        [B. Yilmaz]  \n",
       "183                                                 []  \n",
       "184                                                 []  \n",
       "185                                        [H. Diallo]  \n",
       "186                                         [I. Louza]  \n",
       "187                                        [A. Gouiri]  \n",
       "188                                         [T. Moffi]  \n",
       "189                                           [C. Abi]  \n",
       "190         [K. Volland, W. Ben Yedder, W. Ben Yedder]  \n",
       "191                         [N. Eliasson, N. Eliasson]  \n",
       "192                                       [L. Kurzawa]  \n",
       "193                        [B. Bourigeaud, C. Grenier]  \n",
       "194                                        [G. Kakuta]  \n",
       "195                    [U. Hwang, P. Baysse, T. Basic]  \n",
       "196                                                 []  \n",
       "197                                        [A. Zeneli]  \n",
       "198                                    [A. Leya Iseka]  \n",
       "199                        [B. Ecuele Manga, M. Baldé]  \n",
       "200                                                 []  \n",
       "201                                          [Y. Atal]  \n",
       "202                                      [N. Radonjic]  \n",
       "203                                       [A. Fulgini]  \n",
       "204                                                 []  \n",
       "205                                                 []  \n",
       "206                                       [L. Ajorque]  \n",
       "207                                         [J. David]  \n",
       "208  [T. Kadewere, Marcelo, Marcelo, T. Kadewere, D...  \n",
       "209                                                 []  \n",
       "210                                          [S. Kalu]  \n",
       "211                           [C. Doucouré, G. Kakuta]  \n",
       "212                                           [C. Abi]  \n",
       "213                                   [Neymar, Neymar]  \n",
       "214  [F. Boulaya, P. Sarr, P. Yade, V. Dias Goncalves]  \n",
       "215                                        [R. Ripart]  \n",
       "216                                        [D. Kutesa]  \n",
       "217                                                 []  \n",
       "218                           [G. Maripan, K. Volland]  \n",
       "219                                                 []  \n",
       "220                     [Y. Yazici, T. Weah, J. David]  \n",
       "221                                      [Q. Boisgard]  \n",
       "222                                       [G. Laborde]  \n",
       "223                                                 []  \n",
       "224                    [G. Charbonnier, J. Le Douaron]  \n",
       "225                                       [L. Paqueta]  \n",
       "226                                                 []  \n",
       "227                                    [P. Lees-Melou]  \n",
       "228                             [F. Thauvin, A. Milik]  \n",
       "229                                    [R. Kolo Muani]  \n",
       "230                                                 []  \n",
       "231                                                 []  \n",
       "232                                                 []  \n",
       "233                                         [U. Hwang]  \n",
       "234  [A. Golovine, A. Golovine, A. Golovine, K. Vol...  \n",
       "235                                                 []  \n",
       "236                                                 []  \n",
       "237                          [S. Coulibaly, M. Konaté]  \n",
       "238                               [J. David, J. David]  \n",
       "239                             [K. Mbappé, M. Icardi]  \n",
       "240                                         [R. Lopes]  \n",
       "241                                        [F. Sotoca]  \n",
       "242                             [T. Savanier, S. Wahi]  \n",
       "243                               [T. Moffi, T. Moffi]  \n",
       "244                            [D. Bouanga, A. Nordin]  \n",
       "245                       [A. Thomasson, A. Thomasson]  \n",
       "246                     [M. Simon, I. Louza, A. Bamba]  \n",
       "247                           [R. Ripart, N. Eliasson]  \n",
       "248                                                 []  \n",
       "249                                                 []  \n",
       "250                   [L. Paqueta, H. Aouar, M. Depay]  \n",
       "251                                         [E. Touré]  \n",
       "252                                         [D. Payet]  \n",
       "253                                      [S. Guirassy]  \n",
       "254                                [G. Ngonda Muzinga]  \n",
       "255                             [B. Kouyaté, M. Gueye]  \n",
       "256                                                 []  \n",
       "257                                                 []  \n",
       "258    [A. Gravillon, J. Fonte, J. Ikoné, D. Bradaric]  \n",
       "259                              [S. Diop, G. Maripan]  \n",
       "260                           [A. Gouiri, F. Daniliuc]  \n",
       "261                    [T. Delaine, V. Dias Goncalves]  \n",
       "262        [M. Kean, K. Mbappé, K. Mbappé, D. Pereira]  \n",
       "263                                                 []  \n",
       "264                         [J. Clauss, A. Kalimuendo]  \n",
       "265                                                 []  \n",
       "266                                      [H. Moukoudi]  \n",
       "267                                          [L. Blas]  \n",
       "268                                       [L. Ajorque]  \n",
       "269                                   [K. Toko Ekambi]  \n",
       "270                                                 []  \n",
       "271                                       [A. Fulgini]  \n",
       "272    [F. Sotoca, A. Kalimuendo, D. Pereira Da Costa]  \n",
       "273                                        [L. Landre]  \n",
       "274                                        [R. Assalé]  \n",
       "275                                                 []  \n",
       "276                                       [P. Sarabia]  \n",
       "277                                                 []  \n",
       "278                                         [A. Grbic]  \n",
       "279                          [G. Konan, Y. Abdelhamid]  \n",
       "280                                      [T. Kadewere]  \n",
       "281                                        [W. Khazri]  \n",
       "282                                      [L. Brassier]  \n",
       "283                                        [A. Delort]  \n",
       "284                    [V. Dias Goncalves, T. Delaine]  \n",
       "285                                                 []  \n",
       "286                                       [M. Maolida]  \n",
       "287               [U. Hwang, U. Hwang, N. De Préville]  \n",
       "288                                                 []  \n",
       "289                          [R. Kolo Muani, M. Simon]  \n",
       "290    [S. Jovetic, A. Tchouaméni, S. Diop, K. Diatta]  \n",
       "291                 [J. Doku, M. Terrier, S. Guirassy]  \n",
       "292                                                 []  \n",
       "293                            [M. Haïdara, S. Fofana]  \n",
       "294                                         [U. Hwang]  \n",
       "295                                                 []  \n",
       "296                                           [B. Dia]  \n",
       "297                                     [A. Laurienté]  \n",
       "298                               [M. Koné, R. Ripart]  \n",
       "299    [K. Mbappé, D. Pereira, A. Di Maria, K. Mbappé]  \n",
       "300                                                 []  \n",
       "301                                         [J. David]  \n",
       "302                                       [L. Paqueta]  \n",
       "303                                      [S. Mavididi]  \n",
       "304                         [S. Guirassy, S. Guirassy]  \n",
       "305                           [K. Dolberg, K. Dolberg]  \n",
       "306                   [L. Koné, H. Diallo, L. Ajorque]  \n",
       "307                                                 []  \n",
       "308                            [W. Khazri, D. Bouanga]  \n",
       "309                                                 []  \n",
       "310                              [B. Yilmaz, M. Çelik]  \n",
       "311       [K. Mbappé, P. Sarabia, M. Kean, L. Paredes]  \n",
       "312                    [A. Milik, P. Gueye, L. Perrin]  \n",
       "313                                                 []  \n",
       "314                                         [T. Moffi]  \n",
       "315                                                 []  \n",
       "316                                         [U. Hwang]  \n",
       "317                                          [M. Koné]  \n",
       "318                                                 []  \n",
       "319                                                 []  \n",
       "320                                        [A. Delort]  \n",
       "321                 [J. Doku, M. Terrier, S. Guirassy]  \n",
       "322                               [T. Moffi, T. Moffi]  \n",
       "323                           [D. Bouanga, R. Hamouma]  \n",
       "324                                        [G. Kakuta]  \n",
       "325                                                 []  \n",
       "326                                                 []  \n",
       "327                                       [D. Liénard]  \n",
       "328               [K. Volland, G. Martins, S. Jovetic]  \n",
       "329                               [M. Depay, M. Depay]  \n",
       "330                     [D. Payet, A. Milik, D. Payet]  \n",
       "331                   [G. Charbonnier, G. Charbonnier]  \n",
       "332                  [K. Mbappé, K. Mbappé, M. Icardi]  \n",
       "333                                       [G. Laborde]  \n",
       "334                                        [Z. Ferhat]  \n",
       "335                                        [Y. Benzia]  \n",
       "336                          [J. Castelletto, L. Blas]  \n",
       "337                                      [I. Sissokho]  \n",
       "338                                    [W. Ben Yedder]  \n",
       "339                   [B. Yilmaz, J. David, B. Yilmaz]  \n",
       "340                                      [S. Mitrovic]  \n",
       "341                                        [I. Ganago]  \n",
       "342                                                 []  \n",
       "343                                                 []  \n",
       "344  [M. Gueye, P. Sarr, F. Chafik, V. Dias Goncalv...  \n",
       "345                               [N. Mbuku, A. Flips]  \n",
       "346                                                 []  \n",
       "347        [M. Simon, L. Blas, I. Louza, K. Coulibaly]  \n",
       "348                           [R. Hamouma, M. Debuchy]  \n",
       "349                     [M. Depay, Marcelo, R. Cherki]  \n",
       "350                   [B. Yilmaz, B. Yilmaz, J. David]  \n",
       "351                                                 []  \n",
       "352                                    [T. Monconduit]  \n",
       "353                                                 []  \n",
       "354                [G. Laborde, A. Delort, G. Laborde]  \n",
       "355                   [L. Fomba, R. Ripart, Z. Ferhat]  \n",
       "356                             [S. Mounié, S. Mounié]  \n",
       "357                                                 []  \n",
       "358                                        [E. Matazo]  \n",
       "359                                           [Neymar]  \n",
       "360                                                 []  \n",
       "361                                                 []  \n",
       "362                                        [A. Disasi]  \n",
       "363  [L. Paqueta, M. Depay, L. Paqueta, H. Aouar, I...  \n",
       "364                       [M. Pereira Lage, R. Thomas]  \n",
       "365                                                 []  \n",
       "366                                                 []  \n",
       "367                           [L. Ajorque, L. Ajorque]  \n",
       "368                                        [B. Traoré]  \n",
       "369  [K. Coulibaly, R. Kolo Muani, L. Blas, R. Kolo...  \n",
       "370                              [J. David, B. Yilmaz]  \n",
       "371                             [R. Faivre, K. Mbappé]  \n",
       "372                                                 []  \n",
       "373                 [K. Dolberg, H. Kamara, W. Saliba]  \n",
       "374                                         [A. Milik]  \n",
       "375                                                 []  \n",
       "376                            [G. Laborde, A. Delort]  \n",
       "377                                        [A. Kamara]  \n",
       "378                              [Y. Adli, E. Kwateng]  \n",
       "379                                      [T. Chalobah]  "
      ]
     },
     "metadata": {},
     "output_type": "display_data"
    }
   ],
   "source": [
    "pd.set_option('display.max_rows', None)\n",
    "display(df_matches_score)"
   ]
  },
  {
   "cell_type": "code",
   "execution_count": 39,
   "metadata": {},
   "outputs": [
    {
     "data": {
      "text/html": [
       "<div>\n",
       "<style scoped>\n",
       "    .dataframe tbody tr th:only-of-type {\n",
       "        vertical-align: middle;\n",
       "    }\n",
       "\n",
       "    .dataframe tbody tr th {\n",
       "        vertical-align: top;\n",
       "    }\n",
       "\n",
       "    .dataframe thead th {\n",
       "        text-align: right;\n",
       "    }\n",
       "</style>\n",
       "<table border=\"1\" class=\"dataframe\">\n",
       "  <thead>\n",
       "    <tr style=\"text-align: right;\">\n",
       "      <th></th>\n",
       "      <th>date</th>\n",
       "      <th>place</th>\n",
       "      <th>team_domicile</th>\n",
       "      <th>team_exterieur</th>\n",
       "      <th>score_domicile</th>\n",
       "      <th>score_exterieur</th>\n",
       "      <th>vainqueur</th>\n",
       "      <th>goals_domicile</th>\n",
       "      <th>goals_exterieur</th>\n",
       "    </tr>\n",
       "  </thead>\n",
       "  <tbody>\n",
       "    <tr>\n",
       "      <th>0</th>\n",
       "      <td>2020-08-21T19:00:00+0200</td>\n",
       "      <td>Bordeaux</td>\n",
       "      <td>Bordeaux</td>\n",
       "      <td>Nantes</td>\n",
       "      <td>0</td>\n",
       "      <td>0</td>\n",
       "      <td>ex-aequo</td>\n",
       "      <td>[]</td>\n",
       "      <td>[]</td>\n",
       "    </tr>\n",
       "    <tr>\n",
       "      <th>1</th>\n",
       "      <td>2020-08-22T17:00:00+0200</td>\n",
       "      <td>Dijon</td>\n",
       "      <td>Dijon</td>\n",
       "      <td>Angers</td>\n",
       "      <td>0</td>\n",
       "      <td>1</td>\n",
       "      <td>exterieur</td>\n",
       "      <td>[]</td>\n",
       "      <td>[I. Traoré]</td>\n",
       "    </tr>\n",
       "    <tr>\n",
       "      <th>2</th>\n",
       "      <td>2020-08-22T21:00:00+0200</td>\n",
       "      <td>Lille</td>\n",
       "      <td>Lille</td>\n",
       "      <td>Rennes</td>\n",
       "      <td>1</td>\n",
       "      <td>1</td>\n",
       "      <td>ex-aequo</td>\n",
       "      <td>[J. Bamba]</td>\n",
       "      <td>[D. Da Silva]</td>\n",
       "    </tr>\n",
       "    <tr>\n",
       "      <th>3</th>\n",
       "      <td>2020-08-23T13:00:00+0200</td>\n",
       "      <td>Monaco</td>\n",
       "      <td>Monaco</td>\n",
       "      <td>Reims</td>\n",
       "      <td>2</td>\n",
       "      <td>2</td>\n",
       "      <td>ex-aequo</td>\n",
       "      <td>[A. Disasi, B. Badiashile]</td>\n",
       "      <td>[B. Dia, E. Touré]</td>\n",
       "    </tr>\n",
       "    <tr>\n",
       "      <th>4</th>\n",
       "      <td>2020-08-23T15:00:00+0200</td>\n",
       "      <td>Lorient</td>\n",
       "      <td>Lorient</td>\n",
       "      <td>Strasbourg</td>\n",
       "      <td>3</td>\n",
       "      <td>1</td>\n",
       "      <td>domicile</td>\n",
       "      <td>[Y. Wissa, A. Grbic, P. Hamel]</td>\n",
       "      <td>[M. Chahiri]</td>\n",
       "    </tr>\n",
       "  </tbody>\n",
       "</table>\n",
       "</div>"
      ],
      "text/plain": [
       "                       date     place team_domicile team_exterieur  \\\n",
       "0  2020-08-21T19:00:00+0200  Bordeaux      Bordeaux         Nantes   \n",
       "1  2020-08-22T17:00:00+0200     Dijon         Dijon         Angers   \n",
       "2  2020-08-22T21:00:00+0200     Lille         Lille         Rennes   \n",
       "3  2020-08-23T13:00:00+0200    Monaco        Monaco          Reims   \n",
       "4  2020-08-23T15:00:00+0200   Lorient       Lorient     Strasbourg   \n",
       "\n",
       "  score_domicile score_exterieur  vainqueur                  goals_domicile  \\\n",
       "0              0               0   ex-aequo                              []   \n",
       "1              0               1  exterieur                              []   \n",
       "2              1               1   ex-aequo                      [J. Bamba]   \n",
       "3              2               2   ex-aequo      [A. Disasi, B. Badiashile]   \n",
       "4              3               1   domicile  [Y. Wissa, A. Grbic, P. Hamel]   \n",
       "\n",
       "      goals_exterieur  \n",
       "0                  []  \n",
       "1         [I. Traoré]  \n",
       "2       [D. Da Silva]  \n",
       "3  [B. Dia, E. Touré]  \n",
       "4        [M. Chahiri]  "
      ]
     },
     "metadata": {},
     "output_type": "display_data"
    },
    {
     "data": {
      "text/html": [
       "<div>\n",
       "<style scoped>\n",
       "    .dataframe tbody tr th:only-of-type {\n",
       "        vertical-align: middle;\n",
       "    }\n",
       "\n",
       "    .dataframe tbody tr th {\n",
       "        vertical-align: top;\n",
       "    }\n",
       "\n",
       "    .dataframe thead th {\n",
       "        text-align: right;\n",
       "    }\n",
       "</style>\n",
       "<table border=\"1\" class=\"dataframe\">\n",
       "  <thead>\n",
       "    <tr style=\"text-align: right;\">\n",
       "      <th></th>\n",
       "      <th>date</th>\n",
       "      <th>place</th>\n",
       "    </tr>\n",
       "  </thead>\n",
       "  <tbody>\n",
       "    <tr>\n",
       "      <th>0</th>\n",
       "      <td>2020-08-21T19:00:00+0200</td>\n",
       "      <td>Bordeaux</td>\n",
       "    </tr>\n",
       "    <tr>\n",
       "      <th>1</th>\n",
       "      <td>2020-08-22T17:00:00+0200</td>\n",
       "      <td>Dijon</td>\n",
       "    </tr>\n",
       "    <tr>\n",
       "      <th>2</th>\n",
       "      <td>2020-08-22T21:00:00+0200</td>\n",
       "      <td>Lille</td>\n",
       "    </tr>\n",
       "    <tr>\n",
       "      <th>3</th>\n",
       "      <td>2020-08-23T13:00:00+0200</td>\n",
       "      <td>Monaco</td>\n",
       "    </tr>\n",
       "    <tr>\n",
       "      <th>4</th>\n",
       "      <td>2020-08-23T15:00:00+0200</td>\n",
       "      <td>Lorient</td>\n",
       "    </tr>\n",
       "  </tbody>\n",
       "</table>\n",
       "</div>"
      ],
      "text/plain": [
       "                       date     place\n",
       "0  2020-08-21T19:00:00+0200  Bordeaux\n",
       "1  2020-08-22T17:00:00+0200     Dijon\n",
       "2  2020-08-22T21:00:00+0200     Lille\n",
       "3  2020-08-23T13:00:00+0200    Monaco\n",
       "4  2020-08-23T15:00:00+0200   Lorient"
      ]
     },
     "metadata": {},
     "output_type": "display_data"
    },
    {
     "data": {
      "text/html": [
       "<div>\n",
       "<style scoped>\n",
       "    .dataframe tbody tr th:only-of-type {\n",
       "        vertical-align: middle;\n",
       "    }\n",
       "\n",
       "    .dataframe tbody tr th {\n",
       "        vertical-align: top;\n",
       "    }\n",
       "\n",
       "    .dataframe thead th {\n",
       "        text-align: right;\n",
       "    }\n",
       "</style>\n",
       "<table border=\"1\" class=\"dataframe\">\n",
       "  <thead>\n",
       "    <tr style=\"text-align: right;\">\n",
       "      <th></th>\n",
       "      <th>date</th>\n",
       "      <th>place</th>\n",
       "      <th>team</th>\n",
       "      <th>team_goal</th>\n",
       "      <th>players</th>\n",
       "    </tr>\n",
       "  </thead>\n",
       "  <tbody>\n",
       "    <tr>\n",
       "      <th>0</th>\n",
       "      <td>2020-08-21T19:00:00+0200</td>\n",
       "      <td>Bordeaux</td>\n",
       "      <td>Bordeaux</td>\n",
       "      <td>0</td>\n",
       "      <td>[]</td>\n",
       "    </tr>\n",
       "    <tr>\n",
       "      <th>1</th>\n",
       "      <td>2020-08-21T19:00:00+0200</td>\n",
       "      <td>Bordeaux</td>\n",
       "      <td>Nantes</td>\n",
       "      <td>0</td>\n",
       "      <td>[]</td>\n",
       "    </tr>\n",
       "    <tr>\n",
       "      <th>2</th>\n",
       "      <td>2020-08-22T17:00:00+0200</td>\n",
       "      <td>Dijon</td>\n",
       "      <td>Dijon</td>\n",
       "      <td>0</td>\n",
       "      <td>[]</td>\n",
       "    </tr>\n",
       "    <tr>\n",
       "      <th>3</th>\n",
       "      <td>2020-08-22T17:00:00+0200</td>\n",
       "      <td>Dijon</td>\n",
       "      <td>Angers</td>\n",
       "      <td>1</td>\n",
       "      <td>[I. Traoré]</td>\n",
       "    </tr>\n",
       "    <tr>\n",
       "      <th>4</th>\n",
       "      <td>2020-08-22T21:00:00+0200</td>\n",
       "      <td>Lille</td>\n",
       "      <td>Rennes</td>\n",
       "      <td>1</td>\n",
       "      <td>[D. Da Silva]</td>\n",
       "    </tr>\n",
       "    <tr>\n",
       "      <th>5</th>\n",
       "      <td>2020-08-22T21:00:00+0200</td>\n",
       "      <td>Lille</td>\n",
       "      <td>Lille</td>\n",
       "      <td>1</td>\n",
       "      <td>[J. Bamba]</td>\n",
       "    </tr>\n",
       "    <tr>\n",
       "      <th>6</th>\n",
       "      <td>2020-08-23T13:00:00+0200</td>\n",
       "      <td>Monaco</td>\n",
       "      <td>Monaco</td>\n",
       "      <td>2</td>\n",
       "      <td>[A. Disasi, B. Badiashile]</td>\n",
       "    </tr>\n",
       "    <tr>\n",
       "      <th>7</th>\n",
       "      <td>2020-08-23T13:00:00+0200</td>\n",
       "      <td>Monaco</td>\n",
       "      <td>Reims</td>\n",
       "      <td>2</td>\n",
       "      <td>[B. Dia, E. Touré]</td>\n",
       "    </tr>\n",
       "    <tr>\n",
       "      <th>8</th>\n",
       "      <td>2020-08-23T15:00:00+0200</td>\n",
       "      <td>Lorient</td>\n",
       "      <td>Lorient</td>\n",
       "      <td>3</td>\n",
       "      <td>[Y. Wissa, A. Grbic, P. Hamel]</td>\n",
       "    </tr>\n",
       "    <tr>\n",
       "      <th>9</th>\n",
       "      <td>2020-08-23T15:00:00+0200</td>\n",
       "      <td>Nîmes</td>\n",
       "      <td>Brest</td>\n",
       "      <td>0</td>\n",
       "      <td>[]</td>\n",
       "    </tr>\n",
       "  </tbody>\n",
       "</table>\n",
       "</div>"
      ],
      "text/plain": [
       "                       date     place      team team_goal  \\\n",
       "0  2020-08-21T19:00:00+0200  Bordeaux  Bordeaux         0   \n",
       "1  2020-08-21T19:00:00+0200  Bordeaux    Nantes         0   \n",
       "2  2020-08-22T17:00:00+0200     Dijon     Dijon         0   \n",
       "3  2020-08-22T17:00:00+0200     Dijon    Angers         1   \n",
       "4  2020-08-22T21:00:00+0200     Lille    Rennes         1   \n",
       "5  2020-08-22T21:00:00+0200     Lille     Lille         1   \n",
       "6  2020-08-23T13:00:00+0200    Monaco    Monaco         2   \n",
       "7  2020-08-23T13:00:00+0200    Monaco     Reims         2   \n",
       "8  2020-08-23T15:00:00+0200   Lorient   Lorient         3   \n",
       "9  2020-08-23T15:00:00+0200     Nîmes     Brest         0   \n",
       "\n",
       "                          players  \n",
       "0                              []  \n",
       "1                              []  \n",
       "2                              []  \n",
       "3                     [I. Traoré]  \n",
       "4                   [D. Da Silva]  \n",
       "5                      [J. Bamba]  \n",
       "6      [A. Disasi, B. Badiashile]  \n",
       "7              [B. Dia, E. Touré]  \n",
       "8  [Y. Wissa, A. Grbic, P. Hamel]  \n",
       "9                              []  "
      ]
     },
     "metadata": {},
     "output_type": "display_data"
    }
   ],
   "source": [
    "display(df_matches_score.head())\n",
    "# df_matches\n",
    "df_matches = df_matches_score[['date','place']]\n",
    "df_matches.is_copy = None\n",
    "display(df_matches.head())\n",
    "\n",
    "# df_matches_teams\n",
    "df_matches_teams1 = df_matches_score[['date','place','team_domicile','score_domicile', 'goals_domicile']].rename(columns = {'team_domicile': 'team', 'score_domicile': 'team_goal', 'goals_domicile': 'players'})\n",
    "df_matches_teams2 = df_matches_score[['date','place','team_exterieur','score_exterieur', 'goals_exterieur']].rename(columns = {'team_exterieur': 'team', 'score_exterieur': 'team_goal', 'goals_exterieur': 'players'})\n",
    "df_matches_teams = pd.concat([df_matches_teams1, df_matches_teams2], ignore_index=True)\n",
    "df_matches_teams = df_matches_teams.sort_values(by='date').reset_index(drop=True)\n",
    "display(df_matches_teams.head(10))   "
   ]
  },
  {
   "cell_type": "code",
   "execution_count": 40,
   "metadata": {},
   "outputs": [
    {
     "name": "stdout",
     "output_type": "stream",
     "text": [
      "380\n"
     ]
    },
    {
     "name": "stderr",
     "output_type": "stream",
     "text": [
      "<ipython-input-40-8d71e27cafc8>:1: SettingWithCopyWarning: \n",
      "A value is trying to be set on a copy of a slice from a DataFrame.\n",
      "Try using .loc[row_indexer,col_indexer] = value instead\n",
      "\n",
      "See the caveats in the documentation: https://pandas.pydata.org/pandas-docs/stable/user_guide/indexing.html#returning-a-view-versus-a-copy\n",
      "  df_matches['temperature'] = [18]*len(df_matches)\n",
      "<ipython-input-40-8d71e27cafc8>:2: SettingWithCopyWarning: \n",
      "A value is trying to be set on a copy of a slice from a DataFrame.\n",
      "Try using .loc[row_indexer,col_indexer] = value instead\n",
      "\n",
      "See the caveats in the documentation: https://pandas.pydata.org/pandas-docs/stable/user_guide/indexing.html#returning-a-view-versus-a-copy\n",
      "  df_matches['rainfall'] = [0]*len(df_matches)\n"
     ]
    }
   ],
   "source": [
    "df_matches['temperature'] = [18]*len(df_matches)\n",
    "df_matches['rainfall'] = [0]*len(df_matches)\n",
    "df_matches.tail()\n",
    "print(len(df_matches_score))"
   ]
  },
  {
   "cell_type": "markdown",
   "metadata": {},
   "source": [
    "### add df to sql database "
   ]
  },
  {
   "cell_type": "code",
   "execution_count": 8,
   "metadata": {},
   "outputs": [],
   "source": []
  },
  {
   "cell_type": "code",
   "execution_count": 1,
   "metadata": {},
   "outputs": [],
   "source": [
    "import sqlite3\n",
    "class ChampionshipsDataBase:\n",
    "\n",
    "\n",
    "    def __init__(self, name='championships.sqlite'):\n",
    "        self.name_db = name\n",
    "\n",
    "        if os.path.isfile(\n",
    "                self.name_db):  # if sqlite file exist create a connection\n",
    "            self.connection = self.__connect_db()\n",
    "            self.cur = self.connection.cursor()\n",
    "            print(self.connection)\n",
    "\n",
    "        else:  # if file sqlite doesn't exist create file and then create sql\n",
    "\n",
    "            open(self.name_db, 'x')\n",
    "            self.connection = self.__connect_db()\n",
    "            print(self.connection)\n",
    "            self.cur = self.connection.cursor()\n",
    "            self.__create_db()\n",
    "            #self.fill_db()\n",
    "\n",
    "        \n",
    "\n",
    "    def get_tables_names(self):\n",
    "        self.cur.execute(\"SELECT name FROM sqlite_master WHERE type='table';\")\n",
    "\n",
    "        #store all names of the tables/chemas in var tables\n",
    "        tables0 = self.cur.fetchall()\n",
    "\n",
    "        tables = []\n",
    "        for tab in tables0:\n",
    "            tables.append(tab[0])\n",
    "\n",
    "        return tables\n",
    "    \n",
    "\n",
    "    def get_df(self, table_name):\n",
    "        return pd.read_sql_query(f\"SELECT * FROM {table_name}\",\n",
    "                                 self.connection)\n",
    "\n",
    "    def __connect_db(self):\n",
    "        return sqlite3.connect(self.name_db)\n",
    "    \n",
    "    def __create_db(self):\n",
    "        \n",
    "        conn = self.connection\n",
    "        cursor = self.cur\n",
    "\n",
    "        # cursor.execute('DROP TABLE championships;')\n",
    "        # cursor.execute('DROP TABLE matches;')\n",
    "        # cursor.execute('DROP TABLE teams;')\n",
    "        # cursor.execute('DROP TABLE matches_teams;')\n",
    "        # cursor.execute('DROP TABLE players;')\n",
    "        # cursor.execute('DROP TABLE goals;')\n",
    "\n",
    "        #championships\n",
    "        cursor.execute(\"\"\"\n",
    "        CREATE TABLE championships(\n",
    "        id INTEGER PRIMARY KEY AUTOINCREMENT,\n",
    "        name VARCHAR(255),\n",
    "        country VARCHAR(255),\n",
    "        start_year INTEGER,\n",
    "        end_year INTEGER\n",
    "        )\n",
    "        ;\"\"\")\n",
    "\n",
    "        conn.commit()\n",
    "           \n",
    "        #teams\n",
    "        cursor.execute(\"\"\"\n",
    "        CREATE TABLE teams(\n",
    "        id INTEGER PRIMARY KEY AUTOINCREMENT,\n",
    "        name VARCHAR(255),\n",
    "        city VARCHAR(255),\n",
    "        coach_name VARCHAR(255),\n",
    "        year_founded INTEGER\n",
    "        )\n",
    "        ;\"\"\")\n",
    "        conn.commit()\n",
    "               \n",
    "        #participation\n",
    "        cursor.execute(\"\"\"\n",
    "        CREATE TABLE participation(\n",
    "        id INTEGER PRIMARY KEY AUTOINCREMENT,\n",
    "        championship_id INTEGER,\n",
    "        team_id INTEGER,\n",
    "        FOREIGN KEY (championship_id)\n",
    "        REFERENCES championships(id),\n",
    "        FOREIGN KEY (team_id)\n",
    "        REFERENCES teams(id)\n",
    "        )\n",
    "        ;\"\"\")\n",
    "        conn.commit()\n",
    "\n",
    "        \n",
    "        #matches\n",
    "        cursor.execute(\"\"\"\n",
    "        CREATE TABLE matches(\n",
    "        id INTEGER PRIMARY KEY AUTOINCREMENT,\n",
    "        date DATE,\n",
    "        place VARCHAR(255),\n",
    "        rainfall REAL,\n",
    "        temperature REAL\n",
    "        )\n",
    "        ;\"\"\")\n",
    "        conn.commit()\n",
    "\n",
    "\n",
    "        #matches_teams\n",
    "        cursor.execute(\"\"\"\n",
    "        CREATE TABLE matches_teams(\n",
    "        id INTEGER PRIMARY KEY AUTOINCREMENT,\n",
    "        match_id INTEGER,\n",
    "        team_id INTEGER,\n",
    "        home INTEGER,\n",
    "        team_goal INTEGER,\n",
    "        points INTEGER,\n",
    "        FOREIGN KEY (match_id)\n",
    "        REFERENCES matches(id),\n",
    "        FOREIGN KEY (team_id)\n",
    "        REFERENCES teams(id)\n",
    "        )\n",
    "        ;\"\"\")\n",
    "        conn.commit()\n",
    "\n",
    "        #players\n",
    "        cursor.execute(\"\"\"\n",
    "        CREATE TABLE players(\n",
    "        id INTEGER PRIMARY KEY AUTOINCREMENT,\n",
    "        name VARCHAR(255),\n",
    "        team_id INTEGER,\n",
    "        position VARCHAR(255),\n",
    "        birthday DATE,\n",
    "        nationality VARCHAR(255),\n",
    "        FOREIGN KEY (team_id)\n",
    "        REFERENCES teams(id)\n",
    "        )\n",
    "        ;\"\"\")\n",
    "        conn.commit()\n",
    "\n",
    "        #goals\n",
    "        cursor.execute(\"\"\"\n",
    "        CREATE TABLE goals(\n",
    "        id INTEGER PRIMARY KEY AUTOINCREMENT,\n",
    "        player_id INTEGER,\n",
    "        match_id INTEGER,\n",
    "        goal_type VARCHAR(255),\n",
    "        FOREIGN KEY (match_id)\n",
    "        REFERENCES matches(id),\n",
    "        FOREIGN KEY (player_id)\n",
    "        REFERENCES players(id)\n",
    "        )\n",
    "        ;\"\"\")\n",
    "        conn.commit()\n"
   ]
  },
  {
   "cell_type": "code",
   "execution_count": 2,
   "metadata": {},
   "outputs": [
    {
     "data": {
      "application/javascript": [
       "\n",
       "        if (window._pyforest_update_imports_cell) { window._pyforest_update_imports_cell('import os'); }\n",
       "    "
      ],
      "text/plain": [
       "<IPython.core.display.Javascript object>"
      ]
     },
     "metadata": {},
     "output_type": "display_data"
    },
    {
     "name": "stdout",
     "output_type": "stream",
     "text": [
      "<sqlite3.Connection object at 0x7efebbf324e0>\n"
     ]
    }
   ],
   "source": [
    "db = ChampionshipsDataBase()"
   ]
  },
  {
   "cell_type": "code",
   "execution_count": 3,
   "metadata": {},
   "outputs": [
    {
     "data": {
      "text/plain": [
       "['championships',\n",
       " 'sqlite_sequence',\n",
       " 'teams',\n",
       " 'participation',\n",
       " 'matches',\n",
       " 'matches_teams',\n",
       " 'players',\n",
       " 'goals']"
      ]
     },
     "execution_count": 3,
     "metadata": {},
     "output_type": "execute_result"
    }
   ],
   "source": [
    "db.get_tables_names()"
   ]
  },
  {
   "cell_type": "code",
   "execution_count": 4,
   "metadata": {},
   "outputs": [
    {
     "data": {
      "application/javascript": [
       "\n",
       "        if (window._pyforest_update_imports_cell) { window._pyforest_update_imports_cell('import pandas as pd\\nimport os'); }\n",
       "    "
      ],
      "text/plain": [
       "<IPython.core.display.Javascript object>"
      ]
     },
     "metadata": {},
     "output_type": "display_data"
    },
    {
     "data": {
      "text/html": [
       "<div>\n",
       "<style scoped>\n",
       "    .dataframe tbody tr th:only-of-type {\n",
       "        vertical-align: middle;\n",
       "    }\n",
       "\n",
       "    .dataframe tbody tr th {\n",
       "        vertical-align: top;\n",
       "    }\n",
       "\n",
       "    .dataframe thead th {\n",
       "        text-align: right;\n",
       "    }\n",
       "</style>\n",
       "<table border=\"1\" class=\"dataframe\">\n",
       "  <thead>\n",
       "    <tr style=\"text-align: right;\">\n",
       "      <th></th>\n",
       "      <th>name</th>\n",
       "      <th>seq</th>\n",
       "    </tr>\n",
       "  </thead>\n",
       "  <tbody>\n",
       "  </tbody>\n",
       "</table>\n",
       "</div>"
      ],
      "text/plain": [
       "Empty DataFrame\n",
       "Columns: [name, seq]\n",
       "Index: []"
      ]
     },
     "execution_count": 4,
     "metadata": {},
     "output_type": "execute_result"
    }
   ],
   "source": [
    "db.get_df('sqlite_sequence')"
   ]
  },
  {
   "cell_type": "markdown",
   "metadata": {},
   "source": [
    "#### create championship table sql"
   ]
  },
  {
   "cell_type": "code",
   "execution_count": 5,
   "metadata": {},
   "outputs": [
    {
     "data": {
      "application/javascript": [
       "\n",
       "        if (window._pyforest_update_imports_cell) { window._pyforest_update_imports_cell('import pandas as pd\\nimport os'); }\n",
       "    "
      ],
      "text/plain": [
       "<IPython.core.display.Javascript object>"
      ]
     },
     "metadata": {},
     "output_type": "display_data"
    },
    {
     "ename": "OperationalError",
     "evalue": "database is locked",
     "output_type": "error",
     "traceback": [
      "\u001b[0;31m---------------------------------------------------------------------------\u001b[0m",
      "\u001b[0;31mOperationalError\u001b[0m                          Traceback (most recent call last)",
      "\u001b[0;32m<ipython-input-5-cb0f9ef16329>\u001b[0m in \u001b[0;36m<module>\u001b[0;34m\u001b[0m\n\u001b[1;32m      1\u001b[0m \u001b[0;31m#1.championships\u001b[0m\u001b[0;34m\u001b[0m\u001b[0;34m\u001b[0m\u001b[0;34m\u001b[0m\u001b[0m\n\u001b[1;32m      2\u001b[0m \u001b[0mdb\u001b[0m\u001b[0;34m.\u001b[0m\u001b[0mget_df\u001b[0m\u001b[0;34m(\u001b[0m\u001b[0;34m'championships'\u001b[0m\u001b[0;34m)\u001b[0m\u001b[0;34m\u001b[0m\u001b[0;34m\u001b[0m\u001b[0m\n\u001b[0;32m----> 3\u001b[0;31m db.cur.execute(\"\"\"\n\u001b[0m\u001b[1;32m      4\u001b[0m         INSERT INTO championships(\n\u001b[1;32m      5\u001b[0m         \u001b[0mname\u001b[0m\u001b[0;34m,\u001b[0m\u001b[0;34m\u001b[0m\u001b[0;34m\u001b[0m\u001b[0m\n",
      "\u001b[0;31mOperationalError\u001b[0m: database is locked"
     ]
    }
   ],
   "source": [
    "#1.championships\n",
    "db.get_df('championships')\n",
    "db.cur.execute(\"\"\"\n",
    "        INSERT INTO championships(\n",
    "        name,\n",
    "        country,\n",
    "        start_year,\n",
    "        end_year) VALUES ('Ligue 1', 'France', '2020', '2021');\"\"\")\n",
    "\n"
   ]
  },
  {
   "cell_type": "code",
   "execution_count": null,
   "metadata": {},
   "outputs": [],
   "source": [
    "def insert_row(self, table_name, values):\n",
    "    db.get_df(table_name)\n",
    "    "
   ]
  },
  {
   "cell_type": "code",
   "execution_count": 6,
   "metadata": {},
   "outputs": [
    {
     "data": {
      "application/javascript": [
       "\n",
       "        if (window._pyforest_update_imports_cell) { window._pyforest_update_imports_cell('import pandas as pd\\nimport os'); }\n",
       "    "
      ],
      "text/plain": [
       "<IPython.core.display.Javascript object>"
      ]
     },
     "metadata": {},
     "output_type": "display_data"
    },
    {
     "data": {
      "text/html": [
       "<div>\n",
       "<style scoped>\n",
       "    .dataframe tbody tr th:only-of-type {\n",
       "        vertical-align: middle;\n",
       "    }\n",
       "\n",
       "    .dataframe tbody tr th {\n",
       "        vertical-align: top;\n",
       "    }\n",
       "\n",
       "    .dataframe thead th {\n",
       "        text-align: right;\n",
       "    }\n",
       "</style>\n",
       "<table border=\"1\" class=\"dataframe\">\n",
       "  <thead>\n",
       "    <tr style=\"text-align: right;\">\n",
       "      <th></th>\n",
       "      <th>id</th>\n",
       "      <th>name</th>\n",
       "      <th>country</th>\n",
       "      <th>start_year</th>\n",
       "      <th>end_year</th>\n",
       "    </tr>\n",
       "  </thead>\n",
       "  <tbody>\n",
       "  </tbody>\n",
       "</table>\n",
       "</div>"
      ],
      "text/plain": [
       "Empty DataFrame\n",
       "Columns: [id, name, country, start_year, end_year]\n",
       "Index: []"
      ]
     },
     "execution_count": 6,
     "metadata": {},
     "output_type": "execute_result"
    }
   ],
   "source": [
    "db.get_df('championships')"
   ]
  },
  {
   "cell_type": "markdown",
   "metadata": {},
   "source": [
    "#### create teams table in sql"
   ]
  },
  {
   "cell_type": "code",
   "execution_count": 7,
   "metadata": {},
   "outputs": [
    {
     "ename": "NameError",
     "evalue": "name 'df_teams' is not defined",
     "output_type": "error",
     "traceback": [
      "\u001b[0;31m---------------------------------------------------------------------------\u001b[0m",
      "\u001b[0;31mNameError\u001b[0m                                 Traceback (most recent call last)",
      "\u001b[0;32m<ipython-input-7-292b4b294e99>\u001b[0m in \u001b[0;36m<module>\u001b[0;34m\u001b[0m\n\u001b[1;32m      1\u001b[0m \u001b[0;31m#2.teams\u001b[0m\u001b[0;34m\u001b[0m\u001b[0;34m\u001b[0m\u001b[0;34m\u001b[0m\u001b[0m\n\u001b[0;32m----> 2\u001b[0;31m \u001b[0mdf_teams\u001b[0m\u001b[0;34m\u001b[0m\u001b[0;34m\u001b[0m\u001b[0m\n\u001b[0m",
      "\u001b[0;31mNameError\u001b[0m: name 'df_teams' is not defined"
     ]
    }
   ],
   "source": [
    "#2.teams\n",
    "df_teams"
   ]
  },
  {
   "cell_type": "code",
   "execution_count": 132,
   "metadata": {},
   "outputs": [],
   "source": [
    "# insert new row into the table participation preventing dublicates\n",
    "for i in range(len(df_teams)):\n",
    "    name = df_teams.loc[i, 'name']\n",
    "    city = df_teams.loc[i, 'city']\n",
    "    coach_name = df_teams.loc[i, 'coach_name']\n",
    "    year_founded = df_teams.loc[i, 'year_founded']\n",
    "    \n",
    "    db.cur.execute(\"\"\"INSERT INTO teams(name, city, coach_name, year_founded) \n",
    "SELECT \"{}\", \"{}\", \"{}\", \"{}\" \n",
    "WHERE NOT EXISTS(SELECT * FROM teams WHERE name = \"{}\" AND city = \"{}\" AND coach_name = \"{}\" \n",
    "AND year_founded = \"{}\");\"\"\"\n",
    "                   .format(name, city, coach_name, year_founded, name, city, coach_name, year_founded))       "
   ]
  },
  {
   "cell_type": "code",
   "execution_count": 133,
   "metadata": {},
   "outputs": [
    {
     "data": {
      "text/html": [
       "<div>\n",
       "<style scoped>\n",
       "    .dataframe tbody tr th:only-of-type {\n",
       "        vertical-align: middle;\n",
       "    }\n",
       "\n",
       "    .dataframe tbody tr th {\n",
       "        vertical-align: top;\n",
       "    }\n",
       "\n",
       "    .dataframe thead th {\n",
       "        text-align: right;\n",
       "    }\n",
       "</style>\n",
       "<table border=\"1\" class=\"dataframe\">\n",
       "  <thead>\n",
       "    <tr style=\"text-align: right;\">\n",
       "      <th></th>\n",
       "      <th>id</th>\n",
       "      <th>name</th>\n",
       "      <th>city</th>\n",
       "      <th>coach_name</th>\n",
       "      <th>year_founded</th>\n",
       "    </tr>\n",
       "  </thead>\n",
       "  <tbody>\n",
       "    <tr>\n",
       "      <th>17</th>\n",
       "      <td>18</td>\n",
       "      <td>Stade Rennais Football Club</td>\n",
       "      <td>Rennes</td>\n",
       "      <td>Bruno GENESIO</td>\n",
       "      <td>1901</td>\n",
       "    </tr>\n",
       "    <tr>\n",
       "      <th>18</th>\n",
       "      <td>19</td>\n",
       "      <td>Association Sportive de St-Etienne</td>\n",
       "      <td>Saint-Étienne</td>\n",
       "      <td>Claude PUEL</td>\n",
       "      <td>1919</td>\n",
       "    </tr>\n",
       "    <tr>\n",
       "      <th>19</th>\n",
       "      <td>20</td>\n",
       "      <td>Racing Club de Strasbourg Alsace</td>\n",
       "      <td>Strasbourg</td>\n",
       "      <td>Julien STEPHAN</td>\n",
       "      <td>1906</td>\n",
       "    </tr>\n",
       "  </tbody>\n",
       "</table>\n",
       "</div>"
      ],
      "text/plain": [
       "    id                                name           city      coach_name  \\\n",
       "17  18         Stade Rennais Football Club         Rennes   Bruno GENESIO   \n",
       "18  19  Association Sportive de St-Etienne  Saint-Étienne     Claude PUEL   \n",
       "19  20    Racing Club de Strasbourg Alsace     Strasbourg  Julien STEPHAN   \n",
       "\n",
       "    year_founded  \n",
       "17          1901  \n",
       "18          1919  \n",
       "19          1906  "
      ]
     },
     "execution_count": 133,
     "metadata": {},
     "output_type": "execute_result"
    }
   ],
   "source": [
    "db.get_df('teams').tail(3)"
   ]
  },
  {
   "cell_type": "markdown",
   "metadata": {},
   "source": [
    "#### create participation table  "
   ]
  },
  {
   "cell_type": "code",
   "execution_count": 134,
   "metadata": {},
   "outputs": [],
   "source": [
    "# insert new row into the table participation preventing dublicates\n",
    "def update_participation_table(df_teams):\n",
    "    for i in range(len(df_teams)):\n",
    "        championship_id = db.cur.execute(\n",
    "            \"SELECT id FROM championships WHERE name = '{}';\".format(\n",
    "                df_teams.loc[i, 'championship'])).fetchone()[0]\n",
    "        team_id = db.cur.execute(\n",
    "            \"SELECT id FROM teams WHERE city = '{}';\".format(\n",
    "                df_teams.loc[i, 'city'])).fetchone()[0]\n",
    "        db.cur.execute(\"\"\"INSERT INTO participation(championship_id, team_id) \n",
    "    SELECT '{}', '{}' \n",
    "    WHERE NOT EXISTS(SELECT * FROM participation WHERE championship_id = '{}' AND team_id = '{}');\"\"\"\n",
    "                       .format(championship_id, team_id, championship_id,\n",
    "                               team_id))\n",
    "\n",
    "\n",
    "update_participation_table(df_teams)"
   ]
  },
  {
   "cell_type": "code",
   "execution_count": 135,
   "metadata": {},
   "outputs": [
    {
     "data": {
      "text/html": [
       "<div>\n",
       "<style scoped>\n",
       "    .dataframe tbody tr th:only-of-type {\n",
       "        vertical-align: middle;\n",
       "    }\n",
       "\n",
       "    .dataframe tbody tr th {\n",
       "        vertical-align: top;\n",
       "    }\n",
       "\n",
       "    .dataframe thead th {\n",
       "        text-align: right;\n",
       "    }\n",
       "</style>\n",
       "<table border=\"1\" class=\"dataframe\">\n",
       "  <thead>\n",
       "    <tr style=\"text-align: right;\">\n",
       "      <th></th>\n",
       "      <th>id</th>\n",
       "      <th>championship_id</th>\n",
       "      <th>team_id</th>\n",
       "    </tr>\n",
       "  </thead>\n",
       "  <tbody>\n",
       "    <tr>\n",
       "      <th>17</th>\n",
       "      <td>18</td>\n",
       "      <td>1</td>\n",
       "      <td>18</td>\n",
       "    </tr>\n",
       "    <tr>\n",
       "      <th>18</th>\n",
       "      <td>19</td>\n",
       "      <td>1</td>\n",
       "      <td>19</td>\n",
       "    </tr>\n",
       "    <tr>\n",
       "      <th>19</th>\n",
       "      <td>20</td>\n",
       "      <td>1</td>\n",
       "      <td>20</td>\n",
       "    </tr>\n",
       "  </tbody>\n",
       "</table>\n",
       "</div>"
      ],
      "text/plain": [
       "    id  championship_id  team_id\n",
       "17  18                1       18\n",
       "18  19                1       19\n",
       "19  20                1       20"
      ]
     },
     "execution_count": 135,
     "metadata": {},
     "output_type": "execute_result"
    }
   ],
   "source": [
    "db.get_df('participation').tail(3)"
   ]
  },
  {
   "cell_type": "markdown",
   "metadata": {},
   "source": [
    "#### create players table "
   ]
  },
  {
   "cell_type": "code",
   "execution_count": 136,
   "metadata": {},
   "outputs": [
    {
     "data": {
      "text/html": [
       "<div>\n",
       "<style scoped>\n",
       "    .dataframe tbody tr th:only-of-type {\n",
       "        vertical-align: middle;\n",
       "    }\n",
       "\n",
       "    .dataframe tbody tr th {\n",
       "        vertical-align: top;\n",
       "    }\n",
       "\n",
       "    .dataframe thead th {\n",
       "        text-align: right;\n",
       "    }\n",
       "</style>\n",
       "<table border=\"1\" class=\"dataframe\">\n",
       "  <thead>\n",
       "    <tr style=\"text-align: right;\">\n",
       "      <th></th>\n",
       "      <th>number</th>\n",
       "      <th>name</th>\n",
       "      <th>country</th>\n",
       "      <th>birthday</th>\n",
       "      <th>position</th>\n",
       "      <th>club</th>\n",
       "    </tr>\n",
       "  </thead>\n",
       "  <tbody>\n",
       "    <tr>\n",
       "      <th>0</th>\n",
       "      <td>1.0</td>\n",
       "      <td>P. Bernardoni</td>\n",
       "      <td>FRA</td>\n",
       "      <td>1997-04-18</td>\n",
       "      <td>Gar.</td>\n",
       "      <td>Angers</td>\n",
       "    </tr>\n",
       "    <tr>\n",
       "      <th>1</th>\n",
       "      <td>16.0</td>\n",
       "      <td>L. Butelle</td>\n",
       "      <td>FRA</td>\n",
       "      <td>1983-04-03</td>\n",
       "      <td>Gar.</td>\n",
       "      <td>Angers</td>\n",
       "    </tr>\n",
       "    <tr>\n",
       "      <th>2</th>\n",
       "      <td>30.0</td>\n",
       "      <td>D. Petkovic</td>\n",
       "      <td>MNE</td>\n",
       "      <td>1993-05-25</td>\n",
       "      <td>Gar.</td>\n",
       "      <td>Angers</td>\n",
       "    </tr>\n",
       "    <tr>\n",
       "      <th>3</th>\n",
       "      <td>25.0</td>\n",
       "      <td>A. Bamba</td>\n",
       "      <td>CIV</td>\n",
       "      <td>1990-04-25</td>\n",
       "      <td>Déf.</td>\n",
       "      <td>Angers</td>\n",
       "    </tr>\n",
       "    <tr>\n",
       "      <th>4</th>\n",
       "      <td>20.0</td>\n",
       "      <td>K. Boma</td>\n",
       "      <td>FRA</td>\n",
       "      <td>2002-11-20</td>\n",
       "      <td>Déf.</td>\n",
       "      <td>Angers</td>\n",
       "    </tr>\n",
       "  </tbody>\n",
       "</table>\n",
       "</div>"
      ],
      "text/plain": [
       "   number           name country    birthday position    club\n",
       "0     1.0  P. Bernardoni     FRA  1997-04-18     Gar.  Angers\n",
       "1    16.0     L. Butelle     FRA  1983-04-03     Gar.  Angers\n",
       "2    30.0    D. Petkovic     MNE  1993-05-25     Gar.  Angers\n",
       "3    25.0       A. Bamba     CIV  1990-04-25     Déf.  Angers\n",
       "4    20.0        K. Boma     FRA  2002-11-20     Déf.  Angers"
      ]
     },
     "execution_count": 136,
     "metadata": {},
     "output_type": "execute_result"
    }
   ],
   "source": [
    "df_players.head()"
   ]
  },
  {
   "cell_type": "code",
   "execution_count": 137,
   "metadata": {},
   "outputs": [],
   "source": [
    "# insert new row into the table participation preventing dublicates\n",
    "for i in range(len(df_players)):\n",
    "    name = df_players.loc[i, 'name']\n",
    "    team_id = db.cur.execute(\"SELECT id FROM teams WHERE city = '{}';\".format(\n",
    "        df_players.loc[i, 'club'])).fetchone()[0]\n",
    "    position = df_players.loc[i, 'position']\n",
    "    birthday = df_players.loc[i, 'birthday']\n",
    "    nationality = df_players.loc[i, 'country']\n",
    "    #print(name, team_id, position, birthday, nationality)\n",
    "\n",
    "    db.cur.execute(\n",
    "        \"\"\"INSERT INTO players(name, team_id, position, birthday, nationality) \n",
    "            SELECT \"{}\", \"{}\", \"{}\", \"{}\", \"{}\" \n",
    "            WHERE NOT EXISTS(SELECT * FROM players WHERE name = \"{}\" AND team_id = \"{}\" \n",
    "            AND position = \"{}\" AND birthday = \"{}\" AND nationality = \"{}\");\"\"\"\n",
    "        .format(name, team_id, position, birthday, nationality, name, team_id,\n",
    "                position, birthday, nationality))"
   ]
  },
  {
   "cell_type": "code",
   "execution_count": 138,
   "metadata": {},
   "outputs": [
    {
     "data": {
      "text/html": [
       "<div>\n",
       "<style scoped>\n",
       "    .dataframe tbody tr th:only-of-type {\n",
       "        vertical-align: middle;\n",
       "    }\n",
       "\n",
       "    .dataframe tbody tr th {\n",
       "        vertical-align: top;\n",
       "    }\n",
       "\n",
       "    .dataframe thead th {\n",
       "        text-align: right;\n",
       "    }\n",
       "</style>\n",
       "<table border=\"1\" class=\"dataframe\">\n",
       "  <thead>\n",
       "    <tr style=\"text-align: right;\">\n",
       "      <th></th>\n",
       "      <th>id</th>\n",
       "      <th>name</th>\n",
       "      <th>team_id</th>\n",
       "      <th>position</th>\n",
       "      <th>birthday</th>\n",
       "      <th>nationality</th>\n",
       "    </tr>\n",
       "  </thead>\n",
       "  <tbody>\n",
       "    <tr>\n",
       "      <th>0</th>\n",
       "      <td>1</td>\n",
       "      <td>P. Bernardoni</td>\n",
       "      <td>1</td>\n",
       "      <td>Gar.</td>\n",
       "      <td>1997-04-18</td>\n",
       "      <td>FRA</td>\n",
       "    </tr>\n",
       "    <tr>\n",
       "      <th>1</th>\n",
       "      <td>2</td>\n",
       "      <td>L. Butelle</td>\n",
       "      <td>1</td>\n",
       "      <td>Gar.</td>\n",
       "      <td>1983-04-03</td>\n",
       "      <td>FRA</td>\n",
       "    </tr>\n",
       "    <tr>\n",
       "      <th>2</th>\n",
       "      <td>3</td>\n",
       "      <td>D. Petkovic</td>\n",
       "      <td>1</td>\n",
       "      <td>Gar.</td>\n",
       "      <td>1993-05-25</td>\n",
       "      <td>MNE</td>\n",
       "    </tr>\n",
       "    <tr>\n",
       "      <th>3</th>\n",
       "      <td>4</td>\n",
       "      <td>A. Bamba</td>\n",
       "      <td>1</td>\n",
       "      <td>Déf.</td>\n",
       "      <td>1990-04-25</td>\n",
       "      <td>CIV</td>\n",
       "    </tr>\n",
       "    <tr>\n",
       "      <th>4</th>\n",
       "      <td>5</td>\n",
       "      <td>K. Boma</td>\n",
       "      <td>1</td>\n",
       "      <td>Déf.</td>\n",
       "      <td>2002-11-20</td>\n",
       "      <td>FRA</td>\n",
       "    </tr>\n",
       "    <tr>\n",
       "      <th>5</th>\n",
       "      <td>6</td>\n",
       "      <td>E. Diaw</td>\n",
       "      <td>1</td>\n",
       "      <td>Déf.</td>\n",
       "      <td>1994-12-31</td>\n",
       "      <td>SEN</td>\n",
       "    </tr>\n",
       "    <tr>\n",
       "      <th>6</th>\n",
       "      <td>7</td>\n",
       "      <td>S. Doumbia</td>\n",
       "      <td>1</td>\n",
       "      <td>Déf.</td>\n",
       "      <td>1996-09-24</td>\n",
       "      <td>CIV</td>\n",
       "    </tr>\n",
       "    <tr>\n",
       "      <th>7</th>\n",
       "      <td>8</td>\n",
       "      <td>E. Ebosse</td>\n",
       "      <td>1</td>\n",
       "      <td>Déf.</td>\n",
       "      <td>1999-03-11</td>\n",
       "      <td>FRA</td>\n",
       "    </tr>\n",
       "    <tr>\n",
       "      <th>8</th>\n",
       "      <td>9</td>\n",
       "      <td>V. Manceau</td>\n",
       "      <td>1</td>\n",
       "      <td>Déf.</td>\n",
       "      <td>1989-07-10</td>\n",
       "      <td>FRA</td>\n",
       "    </tr>\n",
       "    <tr>\n",
       "      <th>9</th>\n",
       "      <td>10</td>\n",
       "      <td>M. Pavlovic</td>\n",
       "      <td>1</td>\n",
       "      <td>Déf.</td>\n",
       "      <td>1990-06-09</td>\n",
       "      <td>CRO</td>\n",
       "    </tr>\n",
       "    <tr>\n",
       "      <th>10</th>\n",
       "      <td>11</td>\n",
       "      <td>R. Thomas</td>\n",
       "      <td>1</td>\n",
       "      <td>Déf.</td>\n",
       "      <td>1988-06-12</td>\n",
       "      <td>FRA</td>\n",
       "    </tr>\n",
       "    <tr>\n",
       "      <th>11</th>\n",
       "      <td>12</td>\n",
       "      <td>I. Traoré</td>\n",
       "      <td>1</td>\n",
       "      <td>Déf.</td>\n",
       "      <td>1986-08-18</td>\n",
       "      <td>CIV</td>\n",
       "    </tr>\n",
       "    <tr>\n",
       "      <th>12</th>\n",
       "      <td>13</td>\n",
       "      <td>I. Amadou</td>\n",
       "      <td>1</td>\n",
       "      <td>Mil.</td>\n",
       "      <td>1993-04-06</td>\n",
       "      <td>FRA</td>\n",
       "    </tr>\n",
       "    <tr>\n",
       "      <th>13</th>\n",
       "      <td>14</td>\n",
       "      <td>K. Bemanga</td>\n",
       "      <td>1</td>\n",
       "      <td>Mil.</td>\n",
       "      <td>1998-04-20</td>\n",
       "      <td>FRA</td>\n",
       "    </tr>\n",
       "    <tr>\n",
       "      <th>14</th>\n",
       "      <td>15</td>\n",
       "      <td>A. Bobichon</td>\n",
       "      <td>1</td>\n",
       "      <td>Mil.</td>\n",
       "      <td>1995-09-14</td>\n",
       "      <td>FRA</td>\n",
       "    </tr>\n",
       "    <tr>\n",
       "      <th>15</th>\n",
       "      <td>16</td>\n",
       "      <td>S. Boufal</td>\n",
       "      <td>1</td>\n",
       "      <td>Mil.</td>\n",
       "      <td>1993-09-17</td>\n",
       "      <td>MAR</td>\n",
       "    </tr>\n",
       "    <tr>\n",
       "      <th>16</th>\n",
       "      <td>17</td>\n",
       "      <td>J. Cabot</td>\n",
       "      <td>1</td>\n",
       "      <td>Mil.</td>\n",
       "      <td>1994-04-18</td>\n",
       "      <td>FRA</td>\n",
       "    </tr>\n",
       "    <tr>\n",
       "      <th>17</th>\n",
       "      <td>18</td>\n",
       "      <td>P. Capelle</td>\n",
       "      <td>1</td>\n",
       "      <td>Mil.</td>\n",
       "      <td>1987-04-15</td>\n",
       "      <td>FRA</td>\n",
       "    </tr>\n",
       "    <tr>\n",
       "      <th>18</th>\n",
       "      <td>19</td>\n",
       "      <td>M. Cho</td>\n",
       "      <td>1</td>\n",
       "      <td>Mil.</td>\n",
       "      <td>2004-01-19</td>\n",
       "      <td>FRA</td>\n",
       "    </tr>\n",
       "    <tr>\n",
       "      <th>19</th>\n",
       "      <td>20</td>\n",
       "      <td>L. Coulibaly</td>\n",
       "      <td>1</td>\n",
       "      <td>Mil.</td>\n",
       "      <td>1996-04-10</td>\n",
       "      <td>MLI</td>\n",
       "    </tr>\n",
       "    <tr>\n",
       "      <th>20</th>\n",
       "      <td>21</td>\n",
       "      <td>A. Fulgini</td>\n",
       "      <td>1</td>\n",
       "      <td>Mil.</td>\n",
       "      <td>1996-08-20</td>\n",
       "      <td>FRA</td>\n",
       "    </tr>\n",
       "    <tr>\n",
       "      <th>21</th>\n",
       "      <td>22</td>\n",
       "      <td>T. Mangani</td>\n",
       "      <td>1</td>\n",
       "      <td>Mil.</td>\n",
       "      <td>1987-04-29</td>\n",
       "      <td>FRA</td>\n",
       "    </tr>\n",
       "    <tr>\n",
       "      <th>22</th>\n",
       "      <td>23</td>\n",
       "      <td>Z. Ould Khaled</td>\n",
       "      <td>1</td>\n",
       "      <td>Mil.</td>\n",
       "      <td>2000-01-14</td>\n",
       "      <td>FRA</td>\n",
       "    </tr>\n",
       "    <tr>\n",
       "      <th>23</th>\n",
       "      <td>24</td>\n",
       "      <td>M. Pereira Lage</td>\n",
       "      <td>1</td>\n",
       "      <td>Mil.</td>\n",
       "      <td>1996-11-30</td>\n",
       "      <td>POR</td>\n",
       "    </tr>\n",
       "    <tr>\n",
       "      <th>24</th>\n",
       "      <td>25</td>\n",
       "      <td>W. Taïbi</td>\n",
       "      <td>1</td>\n",
       "      <td>Mil.</td>\n",
       "      <td>2002-03-07</td>\n",
       "      <td>FRA</td>\n",
       "    </tr>\n",
       "    <tr>\n",
       "      <th>25</th>\n",
       "      <td>26</td>\n",
       "      <td>R. Alioui</td>\n",
       "      <td>1</td>\n",
       "      <td>Att.</td>\n",
       "      <td>1992-06-18</td>\n",
       "      <td>MAR</td>\n",
       "    </tr>\n",
       "    <tr>\n",
       "      <th>26</th>\n",
       "      <td>27</td>\n",
       "      <td>S. Bahoken</td>\n",
       "      <td>1</td>\n",
       "      <td>Att.</td>\n",
       "      <td>1992-05-28</td>\n",
       "      <td>CAM</td>\n",
       "    </tr>\n",
       "    <tr>\n",
       "      <th>27</th>\n",
       "      <td>28</td>\n",
       "      <td>L. Diony</td>\n",
       "      <td>1</td>\n",
       "      <td>Att.</td>\n",
       "      <td>1992-12-20</td>\n",
       "      <td>FRA</td>\n",
       "    </tr>\n",
       "    <tr>\n",
       "      <th>28</th>\n",
       "      <td>29</td>\n",
       "      <td>F. El-Melali</td>\n",
       "      <td>1</td>\n",
       "      <td>Att.</td>\n",
       "      <td>1997-07-13</td>\n",
       "      <td>ALG</td>\n",
       "    </tr>\n",
       "    <tr>\n",
       "      <th>29</th>\n",
       "      <td>30</td>\n",
       "      <td>N. Fatar</td>\n",
       "      <td>1</td>\n",
       "      <td>Att.</td>\n",
       "      <td>2002-02-15</td>\n",
       "      <td>FRA</td>\n",
       "    </tr>\n",
       "    <tr>\n",
       "      <th>30</th>\n",
       "      <td>31</td>\n",
       "      <td>Y. Fortuné</td>\n",
       "      <td>1</td>\n",
       "      <td>Att.</td>\n",
       "      <td>1999-01-30</td>\n",
       "      <td>FRA</td>\n",
       "    </tr>\n",
       "    <tr>\n",
       "      <th>31</th>\n",
       "      <td>32</td>\n",
       "      <td>S. Thioub</td>\n",
       "      <td>1</td>\n",
       "      <td>Att.</td>\n",
       "      <td>1995-06-01</td>\n",
       "      <td>SEN</td>\n",
       "    </tr>\n",
       "    <tr>\n",
       "      <th>32</th>\n",
       "      <td>33</td>\n",
       "      <td>B. Costil</td>\n",
       "      <td>2</td>\n",
       "      <td>Gar.</td>\n",
       "      <td>1987-07-03</td>\n",
       "      <td>FRA</td>\n",
       "    </tr>\n",
       "    <tr>\n",
       "      <th>33</th>\n",
       "      <td>34</td>\n",
       "      <td>D. Lima Semedo</td>\n",
       "      <td>2</td>\n",
       "      <td>Gar.</td>\n",
       "      <td>2002-04-27</td>\n",
       "      <td>FRA</td>\n",
       "    </tr>\n",
       "    <tr>\n",
       "      <th>34</th>\n",
       "      <td>35</td>\n",
       "      <td>C. Michel</td>\n",
       "      <td>2</td>\n",
       "      <td>Gar.</td>\n",
       "      <td>2000-03-20</td>\n",
       "      <td>BEL</td>\n",
       "    </tr>\n",
       "    <tr>\n",
       "      <th>35</th>\n",
       "      <td>36</td>\n",
       "      <td>G. Poussin</td>\n",
       "      <td>2</td>\n",
       "      <td>Gar.</td>\n",
       "      <td>1999-01-13</td>\n",
       "      <td>FRA</td>\n",
       "    </tr>\n",
       "    <tr>\n",
       "      <th>36</th>\n",
       "      <td>37</td>\n",
       "      <td>D. Rouyard</td>\n",
       "      <td>2</td>\n",
       "      <td>Gar.</td>\n",
       "      <td>1999-08-17</td>\n",
       "      <td>FRA</td>\n",
       "    </tr>\n",
       "    <tr>\n",
       "      <th>37</th>\n",
       "      <td>38</td>\n",
       "      <td>P. Baysse</td>\n",
       "      <td>2</td>\n",
       "      <td>Déf.</td>\n",
       "      <td>1988-05-18</td>\n",
       "      <td>FRA</td>\n",
       "    </tr>\n",
       "    <tr>\n",
       "      <th>38</th>\n",
       "      <td>39</td>\n",
       "      <td>L. Benito</td>\n",
       "      <td>2</td>\n",
       "      <td>Déf.</td>\n",
       "      <td>1992-01-07</td>\n",
       "      <td>SUI</td>\n",
       "    </tr>\n",
       "    <tr>\n",
       "      <th>39</th>\n",
       "      <td>40</td>\n",
       "      <td>L. Bessilé</td>\n",
       "      <td>2</td>\n",
       "      <td>Déf.</td>\n",
       "      <td>1999-02-19</td>\n",
       "      <td>FRA</td>\n",
       "    </tr>\n",
       "    <tr>\n",
       "      <th>40</th>\n",
       "      <td>41</td>\n",
       "      <td>M. Bokélé Mputu</td>\n",
       "      <td>2</td>\n",
       "      <td>Déf.</td>\n",
       "      <td>2000-02-12</td>\n",
       "      <td>FRA</td>\n",
       "    </tr>\n",
       "    <tr>\n",
       "      <th>41</th>\n",
       "      <td>42</td>\n",
       "      <td>D. Cardoso</td>\n",
       "      <td>2</td>\n",
       "      <td>Déf.</td>\n",
       "      <td>1994-12-13</td>\n",
       "      <td>MAO</td>\n",
       "    </tr>\n",
       "    <tr>\n",
       "      <th>42</th>\n",
       "      <td>43</td>\n",
       "      <td>V. Jovanovic</td>\n",
       "      <td>2</td>\n",
       "      <td>Déf.</td>\n",
       "      <td>1996-05-17</td>\n",
       "      <td>SER</td>\n",
       "    </tr>\n",
       "    <tr>\n",
       "      <th>43</th>\n",
       "      <td>44</td>\n",
       "      <td>L. Koscielny</td>\n",
       "      <td>2</td>\n",
       "      <td>Déf.</td>\n",
       "      <td>1985-09-10</td>\n",
       "      <td>FRA</td>\n",
       "    </tr>\n",
       "    <tr>\n",
       "      <th>44</th>\n",
       "      <td>45</td>\n",
       "      <td>E. Kwateng</td>\n",
       "      <td>2</td>\n",
       "      <td>Déf.</td>\n",
       "      <td>1997-04-09</td>\n",
       "      <td>FRA</td>\n",
       "    </tr>\n",
       "    <tr>\n",
       "      <th>45</th>\n",
       "      <td>46</td>\n",
       "      <td>E. Mexer</td>\n",
       "      <td>2</td>\n",
       "      <td>Déf.</td>\n",
       "      <td>1988-09-08</td>\n",
       "      <td>MOZ</td>\n",
       "    </tr>\n",
       "    <tr>\n",
       "      <th>46</th>\n",
       "      <td>47</td>\n",
       "      <td>M. Poundjé</td>\n",
       "      <td>2</td>\n",
       "      <td>Déf.</td>\n",
       "      <td>1992-08-16</td>\n",
       "      <td>FRA</td>\n",
       "    </tr>\n",
       "    <tr>\n",
       "      <th>47</th>\n",
       "      <td>48</td>\n",
       "      <td>I. Sow</td>\n",
       "      <td>2</td>\n",
       "      <td>Déf.</td>\n",
       "      <td>2001-02-19</td>\n",
       "      <td>FRA</td>\n",
       "    </tr>\n",
       "    <tr>\n",
       "      <th>48</th>\n",
       "      <td>49</td>\n",
       "      <td>Y. Adli</td>\n",
       "      <td>2</td>\n",
       "      <td>Mil.</td>\n",
       "      <td>2000-07-29</td>\n",
       "      <td>FRA</td>\n",
       "    </tr>\n",
       "    <tr>\n",
       "      <th>49</th>\n",
       "      <td>50</td>\n",
       "      <td>T. Basic</td>\n",
       "      <td>2</td>\n",
       "      <td>Mil.</td>\n",
       "      <td>1996-11-25</td>\n",
       "      <td>CRO</td>\n",
       "    </tr>\n",
       "    <tr>\n",
       "      <th>50</th>\n",
       "      <td>51</td>\n",
       "      <td>T. Lacoux</td>\n",
       "      <td>2</td>\n",
       "      <td>Mil.</td>\n",
       "      <td>2002-01-25</td>\n",
       "      <td>FRA</td>\n",
       "    </tr>\n",
       "    <tr>\n",
       "      <th>51</th>\n",
       "      <td>52</td>\n",
       "      <td>Otavio</td>\n",
       "      <td>2</td>\n",
       "      <td>Mil.</td>\n",
       "      <td>1994-05-04</td>\n",
       "      <td>BRE</td>\n",
       "    </tr>\n",
       "    <tr>\n",
       "      <th>52</th>\n",
       "      <td>53</td>\n",
       "      <td>J. Seri</td>\n",
       "      <td>2</td>\n",
       "      <td>Mil.</td>\n",
       "      <td>1991-07-19</td>\n",
       "      <td>CIV</td>\n",
       "    </tr>\n",
       "    <tr>\n",
       "      <th>53</th>\n",
       "      <td>54</td>\n",
       "      <td>I. Sissokho</td>\n",
       "      <td>2</td>\n",
       "      <td>Mil.</td>\n",
       "      <td>2002-01-30</td>\n",
       "      <td>MLI</td>\n",
       "    </tr>\n",
       "    <tr>\n",
       "      <th>54</th>\n",
       "      <td>55</td>\n",
       "      <td>M. Zerkane</td>\n",
       "      <td>2</td>\n",
       "      <td>Mil.</td>\n",
       "      <td>1999-07-15</td>\n",
       "      <td>FRA</td>\n",
       "    </tr>\n",
       "    <tr>\n",
       "      <th>55</th>\n",
       "      <td>56</td>\n",
       "      <td>D. Bakwa</td>\n",
       "      <td>2</td>\n",
       "      <td>Att.</td>\n",
       "      <td>2002-08-26</td>\n",
       "      <td>FRA</td>\n",
       "    </tr>\n",
       "    <tr>\n",
       "      <th>56</th>\n",
       "      <td>57</td>\n",
       "      <td>H. Ben Arfa</td>\n",
       "      <td>2</td>\n",
       "      <td>Att.</td>\n",
       "      <td>1987-03-07</td>\n",
       "      <td>FRA</td>\n",
       "    </tr>\n",
       "    <tr>\n",
       "      <th>57</th>\n",
       "      <td>58</td>\n",
       "      <td>J. Briand</td>\n",
       "      <td>2</td>\n",
       "      <td>Att.</td>\n",
       "      <td>1985-08-02</td>\n",
       "      <td>FRA</td>\n",
       "    </tr>\n",
       "    <tr>\n",
       "      <th>58</th>\n",
       "      <td>59</td>\n",
       "      <td>N. De Préville</td>\n",
       "      <td>2</td>\n",
       "      <td>Att.</td>\n",
       "      <td>1991-01-08</td>\n",
       "      <td>FRA</td>\n",
       "    </tr>\n",
       "    <tr>\n",
       "      <th>59</th>\n",
       "      <td>60</td>\n",
       "      <td>L. Delaurier-Ch...</td>\n",
       "      <td>2</td>\n",
       "      <td>Att.</td>\n",
       "      <td>2002-04-22</td>\n",
       "      <td>FRA</td>\n",
       "    </tr>\n",
       "    <tr>\n",
       "      <th>60</th>\n",
       "      <td>61</td>\n",
       "      <td>I. Diarra</td>\n",
       "      <td>2</td>\n",
       "      <td>Att.</td>\n",
       "      <td>1998-05-19</td>\n",
       "      <td>FRA</td>\n",
       "    </tr>\n",
       "    <tr>\n",
       "      <th>61</th>\n",
       "      <td>62</td>\n",
       "      <td>U. Hwang</td>\n",
       "      <td>2</td>\n",
       "      <td>Att.</td>\n",
       "      <td>1992-08-28</td>\n",
       "      <td>CDS</td>\n",
       "    </tr>\n",
       "    <tr>\n",
       "      <th>62</th>\n",
       "      <td>63</td>\n",
       "      <td>S. Kalu</td>\n",
       "      <td>2</td>\n",
       "      <td>Att.</td>\n",
       "      <td>1997-08-26</td>\n",
       "      <td>NGA</td>\n",
       "    </tr>\n",
       "    <tr>\n",
       "      <th>63</th>\n",
       "      <td>64</td>\n",
       "      <td>S. Mara</td>\n",
       "      <td>2</td>\n",
       "      <td>Att.</td>\n",
       "      <td>2002-07-30</td>\n",
       "      <td>FRA</td>\n",
       "    </tr>\n",
       "    <tr>\n",
       "      <th>64</th>\n",
       "      <td>65</td>\n",
       "      <td>R. Oudin</td>\n",
       "      <td>2</td>\n",
       "      <td>Att.</td>\n",
       "      <td>1996-11-18</td>\n",
       "      <td>FRA</td>\n",
       "    </tr>\n",
       "    <tr>\n",
       "      <th>65</th>\n",
       "      <td>66</td>\n",
       "      <td>A. Traoré</td>\n",
       "      <td>2</td>\n",
       "      <td>Att.</td>\n",
       "      <td>2002-03-07</td>\n",
       "      <td>FRA</td>\n",
       "    </tr>\n",
       "    <tr>\n",
       "      <th>66</th>\n",
       "      <td>67</td>\n",
       "      <td>S. Cibois</td>\n",
       "      <td>3</td>\n",
       "      <td>Gar.</td>\n",
       "      <td>1998-03-02</td>\n",
       "      <td>FRA</td>\n",
       "    </tr>\n",
       "    <tr>\n",
       "      <th>67</th>\n",
       "      <td>68</td>\n",
       "      <td>M. Hassen</td>\n",
       "      <td>3</td>\n",
       "      <td>Gar.</td>\n",
       "      <td>1995-03-05</td>\n",
       "      <td>TUN</td>\n",
       "    </tr>\n",
       "    <tr>\n",
       "      <th>68</th>\n",
       "      <td>69</td>\n",
       "      <td>G. Larsonneur</td>\n",
       "      <td>3</td>\n",
       "      <td>Gar.</td>\n",
       "      <td>1997-02-23</td>\n",
       "      <td>FRA</td>\n",
       "    </tr>\n",
       "    <tr>\n",
       "      <th>69</th>\n",
       "      <td>70</td>\n",
       "      <td>L. Baal</td>\n",
       "      <td>3</td>\n",
       "      <td>Déf.</td>\n",
       "      <td>1986-05-24</td>\n",
       "      <td>FRA</td>\n",
       "    </tr>\n",
       "    <tr>\n",
       "      <th>70</th>\n",
       "      <td>71</td>\n",
       "      <td>D. Bain</td>\n",
       "      <td>3</td>\n",
       "      <td>Déf.</td>\n",
       "      <td>1993-07-02</td>\n",
       "      <td>FRA</td>\n",
       "    </tr>\n",
       "    <tr>\n",
       "      <th>71</th>\n",
       "      <td>72</td>\n",
       "      <td>L. Brassier</td>\n",
       "      <td>3</td>\n",
       "      <td>Déf.</td>\n",
       "      <td>1999-11-02</td>\n",
       "      <td>FRA</td>\n",
       "    </tr>\n",
       "    <tr>\n",
       "      <th>72</th>\n",
       "      <td>73</td>\n",
       "      <td>B. Chardonnet</td>\n",
       "      <td>3</td>\n",
       "      <td>Déf.</td>\n",
       "      <td>1994-12-22</td>\n",
       "      <td>FRA</td>\n",
       "    </tr>\n",
       "    <tr>\n",
       "      <th>73</th>\n",
       "      <td>74</td>\n",
       "      <td>J. Duverne</td>\n",
       "      <td>3</td>\n",
       "      <td>Déf.</td>\n",
       "      <td>1997-07-12</td>\n",
       "      <td>FRA</td>\n",
       "    </tr>\n",
       "    <tr>\n",
       "      <th>74</th>\n",
       "      <td>75</td>\n",
       "      <td>J. Faussurier</td>\n",
       "      <td>3</td>\n",
       "      <td>Déf.</td>\n",
       "      <td>1987-01-14</td>\n",
       "      <td>FRA</td>\n",
       "    </tr>\n",
       "    <tr>\n",
       "      <th>75</th>\n",
       "      <td>76</td>\n",
       "      <td>C. Hérelle</td>\n",
       "      <td>3</td>\n",
       "      <td>Déf.</td>\n",
       "      <td>1992-08-22</td>\n",
       "      <td>FRA</td>\n",
       "    </tr>\n",
       "    <tr>\n",
       "      <th>76</th>\n",
       "      <td>77</td>\n",
       "      <td>R. Perraud</td>\n",
       "      <td>3</td>\n",
       "      <td>Déf.</td>\n",
       "      <td>1997-09-22</td>\n",
       "      <td>FRA</td>\n",
       "    </tr>\n",
       "    <tr>\n",
       "      <th>77</th>\n",
       "      <td>78</td>\n",
       "      <td>R. Pierre-Gabriel</td>\n",
       "      <td>3</td>\n",
       "      <td>Déf.</td>\n",
       "      <td>1998-06-13</td>\n",
       "      <td>FRA</td>\n",
       "    </tr>\n",
       "    <tr>\n",
       "      <th>78</th>\n",
       "      <td>79</td>\n",
       "      <td>H. Belkebla</td>\n",
       "      <td>3</td>\n",
       "      <td>Mil.</td>\n",
       "      <td>1994-01-28</td>\n",
       "      <td>ALG</td>\n",
       "    </tr>\n",
       "    <tr>\n",
       "      <th>79</th>\n",
       "      <td>80</td>\n",
       "      <td>K. Benvindo</td>\n",
       "      <td>3</td>\n",
       "      <td>Mil.</td>\n",
       "      <td>nan</td>\n",
       "      <td>FRA</td>\n",
       "    </tr>\n",
       "    <tr>\n",
       "      <th>80</th>\n",
       "      <td>81</td>\n",
       "      <td>I. Dioh</td>\n",
       "      <td>3</td>\n",
       "      <td>Mil.</td>\n",
       "      <td>1999-01-21</td>\n",
       "      <td>FRA</td>\n",
       "    </tr>\n",
       "    <tr>\n",
       "      <th>81</th>\n",
       "      <td>82</td>\n",
       "      <td>B. Fadiga</td>\n",
       "      <td>3</td>\n",
       "      <td>Mil.</td>\n",
       "      <td>2001-01-15</td>\n",
       "      <td>FRA</td>\n",
       "    </tr>\n",
       "    <tr>\n",
       "      <th>82</th>\n",
       "      <td>83</td>\n",
       "      <td>R. Faivre</td>\n",
       "      <td>3</td>\n",
       "      <td>Mil.</td>\n",
       "      <td>1998-07-14</td>\n",
       "      <td>FRA</td>\n",
       "    </tr>\n",
       "    <tr>\n",
       "      <th>83</th>\n",
       "      <td>84</td>\n",
       "      <td>Jean Lucas</td>\n",
       "      <td>3</td>\n",
       "      <td>Mil.</td>\n",
       "      <td>1998-06-22</td>\n",
       "      <td>BRE</td>\n",
       "    </tr>\n",
       "    <tr>\n",
       "      <th>84</th>\n",
       "      <td>85</td>\n",
       "      <td>P. Lasne</td>\n",
       "      <td>3</td>\n",
       "      <td>Mil.</td>\n",
       "      <td>1989-01-16</td>\n",
       "      <td>FRA</td>\n",
       "    </tr>\n",
       "    <tr>\n",
       "      <th>85</th>\n",
       "      <td>86</td>\n",
       "      <td>H. Magnetti</td>\n",
       "      <td>3</td>\n",
       "      <td>Mil.</td>\n",
       "      <td>1998-05-30</td>\n",
       "      <td>FRA</td>\n",
       "    </tr>\n",
       "    <tr>\n",
       "      <th>86</th>\n",
       "      <td>87</td>\n",
       "      <td>H. Mbock</td>\n",
       "      <td>3</td>\n",
       "      <td>Mil.</td>\n",
       "      <td>1999-12-28</td>\n",
       "      <td>FRA</td>\n",
       "    </tr>\n",
       "    <tr>\n",
       "      <th>87</th>\n",
       "      <td>88</td>\n",
       "      <td>F. N'Goma</td>\n",
       "      <td>3</td>\n",
       "      <td>Mil.</td>\n",
       "      <td>1993-06-15</td>\n",
       "      <td>FRA</td>\n",
       "    </tr>\n",
       "    <tr>\n",
       "      <th>88</th>\n",
       "      <td>89</td>\n",
       "      <td>R. Philippoteaux</td>\n",
       "      <td>3</td>\n",
       "      <td>Mil.</td>\n",
       "      <td>1988-03-02</td>\n",
       "      <td>FRA</td>\n",
       "    </tr>\n",
       "    <tr>\n",
       "      <th>89</th>\n",
       "      <td>90</td>\n",
       "      <td>D. Bangoura</td>\n",
       "      <td>3</td>\n",
       "      <td>Att.</td>\n",
       "      <td>2001-12-27</td>\n",
       "      <td>FRA</td>\n",
       "    </tr>\n",
       "    <tr>\n",
       "      <th>90</th>\n",
       "      <td>91</td>\n",
       "      <td>I. Cardona</td>\n",
       "      <td>3</td>\n",
       "      <td>Att.</td>\n",
       "      <td>1997-08-08</td>\n",
       "      <td>FRA</td>\n",
       "    </tr>\n",
       "    <tr>\n",
       "      <th>91</th>\n",
       "      <td>92</td>\n",
       "      <td>G. Charbonnier</td>\n",
       "      <td>3</td>\n",
       "      <td>Att.</td>\n",
       "      <td>1988-12-27</td>\n",
       "      <td>FRA</td>\n",
       "    </tr>\n",
       "    <tr>\n",
       "      <th>92</th>\n",
       "      <td>93</td>\n",
       "      <td>F. Honorat</td>\n",
       "      <td>3</td>\n",
       "      <td>Att.</td>\n",
       "      <td>1996-08-11</td>\n",
       "      <td>FRA</td>\n",
       "    </tr>\n",
       "    <tr>\n",
       "      <th>93</th>\n",
       "      <td>94</td>\n",
       "      <td>J. Le Douaron</td>\n",
       "      <td>3</td>\n",
       "      <td>Att.</td>\n",
       "      <td>1998-04-21</td>\n",
       "      <td>FRA</td>\n",
       "    </tr>\n",
       "    <tr>\n",
       "      <th>94</th>\n",
       "      <td>95</td>\n",
       "      <td>S. Mounié</td>\n",
       "      <td>3</td>\n",
       "      <td>Att.</td>\n",
       "      <td>1994-09-29</td>\n",
       "      <td>BEN</td>\n",
       "    </tr>\n",
       "    <tr>\n",
       "      <th>95</th>\n",
       "      <td>96</td>\n",
       "      <td>S. Allagbé</td>\n",
       "      <td>4</td>\n",
       "      <td>Gar.</td>\n",
       "      <td>1993-11-22</td>\n",
       "      <td>BEN</td>\n",
       "    </tr>\n",
       "    <tr>\n",
       "      <th>96</th>\n",
       "      <td>97</td>\n",
       "      <td>L. Ntumba</td>\n",
       "      <td>4</td>\n",
       "      <td>Gar.</td>\n",
       "      <td>2001-01-12</td>\n",
       "      <td>FRA</td>\n",
       "    </tr>\n",
       "    <tr>\n",
       "      <th>97</th>\n",
       "      <td>98</td>\n",
       "      <td>A. Racioppi</td>\n",
       "      <td>4</td>\n",
       "      <td>Gar.</td>\n",
       "      <td>1998-12-31</td>\n",
       "      <td>SUI</td>\n",
       "    </tr>\n",
       "    <tr>\n",
       "      <th>98</th>\n",
       "      <td>99</td>\n",
       "      <td>S. Boey</td>\n",
       "      <td>4</td>\n",
       "      <td>Déf.</td>\n",
       "      <td>2000-09-13</td>\n",
       "      <td>FRA</td>\n",
       "    </tr>\n",
       "    <tr>\n",
       "      <th>99</th>\n",
       "      <td>100</td>\n",
       "      <td>F. Chafik</td>\n",
       "      <td>4</td>\n",
       "      <td>Déf.</td>\n",
       "      <td>1986-10-16</td>\n",
       "      <td>MAR</td>\n",
       "    </tr>\n",
       "    <tr>\n",
       "      <th>100</th>\n",
       "      <td>101</td>\n",
       "      <td>A. Chala</td>\n",
       "      <td>4</td>\n",
       "      <td>Déf.</td>\n",
       "      <td>1996-05-09</td>\n",
       "      <td>EQU</td>\n",
       "    </tr>\n",
       "    <tr>\n",
       "      <th>101</th>\n",
       "      <td>102</td>\n",
       "      <td>S. Coulibaly</td>\n",
       "      <td>4</td>\n",
       "      <td>Déf.</td>\n",
       "      <td>1994-09-04</td>\n",
       "      <td>FRA</td>\n",
       "    </tr>\n",
       "    <tr>\n",
       "      <th>102</th>\n",
       "      <td>103</td>\n",
       "      <td>B. Ecuele Manga</td>\n",
       "      <td>4</td>\n",
       "      <td>Déf.</td>\n",
       "      <td>1988-07-16</td>\n",
       "      <td>GAB</td>\n",
       "    </tr>\n",
       "    <tr>\n",
       "      <th>103</th>\n",
       "      <td>104</td>\n",
       "      <td>W. Lautoa</td>\n",
       "      <td>4</td>\n",
       "      <td>Déf.</td>\n",
       "      <td>1987-08-25</td>\n",
       "      <td>FRA</td>\n",
       "    </tr>\n",
       "    <tr>\n",
       "      <th>104</th>\n",
       "      <td>105</td>\n",
       "      <td>G. Ngonda Muzinga</td>\n",
       "      <td>4</td>\n",
       "      <td>Déf.</td>\n",
       "      <td>1994-12-31</td>\n",
       "      <td>RDC</td>\n",
       "    </tr>\n",
       "    <tr>\n",
       "      <th>105</th>\n",
       "      <td>106</td>\n",
       "      <td>A. Ngouyamsa</td>\n",
       "      <td>4</td>\n",
       "      <td>Déf.</td>\n",
       "      <td>2000-12-21</td>\n",
       "      <td>CAM</td>\n",
       "    </tr>\n",
       "    <tr>\n",
       "      <th>106</th>\n",
       "      <td>107</td>\n",
       "      <td>J. Panzo</td>\n",
       "      <td>4</td>\n",
       "      <td>Déf.</td>\n",
       "      <td>2000-10-25</td>\n",
       "      <td>ANG</td>\n",
       "    </tr>\n",
       "    <tr>\n",
       "      <th>107</th>\n",
       "      <td>108</td>\n",
       "      <td>A. Arli</td>\n",
       "      <td>4</td>\n",
       "      <td>Mil.</td>\n",
       "      <td>2003-01-05</td>\n",
       "      <td>TUR</td>\n",
       "    </tr>\n",
       "    <tr>\n",
       "      <th>108</th>\n",
       "      <td>109</td>\n",
       "      <td>R. Assalé</td>\n",
       "      <td>4</td>\n",
       "      <td>Mil.</td>\n",
       "      <td>1993-11-13</td>\n",
       "      <td>CIV</td>\n",
       "    </tr>\n",
       "    <tr>\n",
       "      <th>109</th>\n",
       "      <td>110</td>\n",
       "      <td>Y. Benzia</td>\n",
       "      <td>4</td>\n",
       "      <td>Mil.</td>\n",
       "      <td>1994-09-08</td>\n",
       "      <td>ALG</td>\n",
       "    </tr>\n",
       "    <tr>\n",
       "      <th>110</th>\n",
       "      <td>111</td>\n",
       "      <td>B. Celina</td>\n",
       "      <td>4</td>\n",
       "      <td>Mil.</td>\n",
       "      <td>1996-09-09</td>\n",
       "      <td>KOS</td>\n",
       "    </tr>\n",
       "    <tr>\n",
       "      <th>111</th>\n",
       "      <td>112</td>\n",
       "      <td>C. Costes</td>\n",
       "      <td>4</td>\n",
       "      <td>Mil.</td>\n",
       "      <td>2002-09-16</td>\n",
       "      <td>FRA</td>\n",
       "    </tr>\n",
       "    <tr>\n",
       "      <th>112</th>\n",
       "      <td>113</td>\n",
       "      <td>E. Dina Ebimbe</td>\n",
       "      <td>4</td>\n",
       "      <td>Mil.</td>\n",
       "      <td>2000-11-21</td>\n",
       "      <td>FRA</td>\n",
       "    </tr>\n",
       "    <tr>\n",
       "      <th>113</th>\n",
       "      <td>114</td>\n",
       "      <td>P. Diop</td>\n",
       "      <td>4</td>\n",
       "      <td>Mil.</td>\n",
       "      <td>1997-08-08</td>\n",
       "      <td>SEN</td>\n",
       "    </tr>\n",
       "    <tr>\n",
       "      <th>114</th>\n",
       "      <td>115</td>\n",
       "      <td>M. Dobre</td>\n",
       "      <td>4</td>\n",
       "      <td>Mil.</td>\n",
       "      <td>1998-08-30</td>\n",
       "      <td>ROU</td>\n",
       "    </tr>\n",
       "    <tr>\n",
       "      <th>115</th>\n",
       "      <td>116</td>\n",
       "      <td>A. Kamara</td>\n",
       "      <td>4</td>\n",
       "      <td>Mil.</td>\n",
       "      <td>1995-03-07</td>\n",
       "      <td>FRA</td>\n",
       "    </tr>\n",
       "    <tr>\n",
       "      <th>116</th>\n",
       "      <td>117</td>\n",
       "      <td>J. Marié</td>\n",
       "      <td>4</td>\n",
       "      <td>Mil.</td>\n",
       "      <td>1991-09-29</td>\n",
       "      <td>FRA</td>\n",
       "    </tr>\n",
       "    <tr>\n",
       "      <th>117</th>\n",
       "      <td>118</td>\n",
       "      <td>D. Ndong</td>\n",
       "      <td>4</td>\n",
       "      <td>Mil.</td>\n",
       "      <td>1994-06-17</td>\n",
       "      <td>GAB</td>\n",
       "    </tr>\n",
       "    <tr>\n",
       "      <th>118</th>\n",
       "      <td>119</td>\n",
       "      <td>F. Sammaritano</td>\n",
       "      <td>4</td>\n",
       "      <td>Mil.</td>\n",
       "      <td>1986-03-23</td>\n",
       "      <td>FRA</td>\n",
       "    </tr>\n",
       "    <tr>\n",
       "      <th>119</th>\n",
       "      <td>120</td>\n",
       "      <td>W. Younoussa</td>\n",
       "      <td>4</td>\n",
       "      <td>Mil.</td>\n",
       "      <td>2001-09-09</td>\n",
       "      <td>CAM</td>\n",
       "    </tr>\n",
       "    <tr>\n",
       "      <th>120</th>\n",
       "      <td>121</td>\n",
       "      <td>A. Zagré</td>\n",
       "      <td>4</td>\n",
       "      <td>Mil.</td>\n",
       "      <td>2001-10-04</td>\n",
       "      <td>FRA</td>\n",
       "    </tr>\n",
       "    <tr>\n",
       "      <th>121</th>\n",
       "      <td>122</td>\n",
       "      <td>M. Baldé</td>\n",
       "      <td>4</td>\n",
       "      <td>Att.</td>\n",
       "      <td>1995-11-06</td>\n",
       "      <td>GUB</td>\n",
       "    </tr>\n",
       "    <tr>\n",
       "      <th>122</th>\n",
       "      <td>123</td>\n",
       "      <td>E. Belhadji</td>\n",
       "      <td>4</td>\n",
       "      <td>Att.</td>\n",
       "      <td>2001-06-23</td>\n",
       "      <td>FRA</td>\n",
       "    </tr>\n",
       "    <tr>\n",
       "      <th>123</th>\n",
       "      <td>124</td>\n",
       "      <td>M. Chouiar</td>\n",
       "      <td>4</td>\n",
       "      <td>Att.</td>\n",
       "      <td>1999-01-23</td>\n",
       "      <td>FRA</td>\n",
       "    </tr>\n",
       "    <tr>\n",
       "      <th>124</th>\n",
       "      <td>125</td>\n",
       "      <td>M. Konaté</td>\n",
       "      <td>4</td>\n",
       "      <td>Att.</td>\n",
       "      <td>1993-04-03</td>\n",
       "      <td>SEN</td>\n",
       "    </tr>\n",
       "    <tr>\n",
       "      <th>125</th>\n",
       "      <td>126</td>\n",
       "      <td>J. Siwe</td>\n",
       "      <td>4</td>\n",
       "      <td>Att.</td>\n",
       "      <td>2001-07-29</td>\n",
       "      <td>FRA</td>\n",
       "    </tr>\n",
       "    <tr>\n",
       "      <th>126</th>\n",
       "      <td>127</td>\n",
       "      <td>W. Farinez</td>\n",
       "      <td>5</td>\n",
       "      <td>Gar.</td>\n",
       "      <td>1998-02-15</td>\n",
       "      <td>VEN</td>\n",
       "    </tr>\n",
       "    <tr>\n",
       "      <th>127</th>\n",
       "      <td>128</td>\n",
       "      <td>J. Leca</td>\n",
       "      <td>5</td>\n",
       "      <td>Gar.</td>\n",
       "      <td>1985-09-21</td>\n",
       "      <td>FRA</td>\n",
       "    </tr>\n",
       "    <tr>\n",
       "      <th>128</th>\n",
       "      <td>129</td>\n",
       "      <td>Y. Pandor</td>\n",
       "      <td>5</td>\n",
       "      <td>Gar.</td>\n",
       "      <td>2001-05-01</td>\n",
       "      <td>FRA</td>\n",
       "    </tr>\n",
       "    <tr>\n",
       "      <th>129</th>\n",
       "      <td>130</td>\n",
       "      <td>L. Badé</td>\n",
       "      <td>5</td>\n",
       "      <td>Déf.</td>\n",
       "      <td>2000-04-11</td>\n",
       "      <td>FRA</td>\n",
       "    </tr>\n",
       "    <tr>\n",
       "      <th>130</th>\n",
       "      <td>131</td>\n",
       "      <td>I. Boura</td>\n",
       "      <td>5</td>\n",
       "      <td>Déf.</td>\n",
       "      <td>2000-08-14</td>\n",
       "      <td>FRA</td>\n",
       "    </tr>\n",
       "    <tr>\n",
       "      <th>131</th>\n",
       "      <td>132</td>\n",
       "      <td>J. Clauss</td>\n",
       "      <td>5</td>\n",
       "      <td>Déf.</td>\n",
       "      <td>1992-09-25</td>\n",
       "      <td>FRA</td>\n",
       "    </tr>\n",
       "    <tr>\n",
       "      <th>132</th>\n",
       "      <td>133</td>\n",
       "      <td>Z. Diallo</td>\n",
       "      <td>5</td>\n",
       "      <td>Déf.</td>\n",
       "      <td>1986-08-13</td>\n",
       "      <td>FRA</td>\n",
       "    </tr>\n",
       "    <tr>\n",
       "      <th>133</th>\n",
       "      <td>134</td>\n",
       "      <td>S. Fortes</td>\n",
       "      <td>5</td>\n",
       "      <td>Déf.</td>\n",
       "      <td>1992-04-17</td>\n",
       "      <td>CAV</td>\n",
       "    </tr>\n",
       "    <tr>\n",
       "      <th>134</th>\n",
       "      <td>135</td>\n",
       "      <td>J. Gradit</td>\n",
       "      <td>5</td>\n",
       "      <td>Déf.</td>\n",
       "      <td>1992-11-24</td>\n",
       "      <td>FRA</td>\n",
       "    </tr>\n",
       "    <tr>\n",
       "      <th>135</th>\n",
       "      <td>136</td>\n",
       "      <td>M. Haïdara</td>\n",
       "      <td>5</td>\n",
       "      <td>Déf.</td>\n",
       "      <td>1992-12-02</td>\n",
       "      <td>MLI</td>\n",
       "    </tr>\n",
       "    <tr>\n",
       "      <th>136</th>\n",
       "      <td>137</td>\n",
       "      <td>O. Kamara</td>\n",
       "      <td>5</td>\n",
       "      <td>Déf.</td>\n",
       "      <td>2004-12-29</td>\n",
       "      <td>FRA</td>\n",
       "    </tr>\n",
       "    <tr>\n",
       "      <th>137</th>\n",
       "      <td>138</td>\n",
       "      <td>F. Medina</td>\n",
       "      <td>5</td>\n",
       "      <td>Déf.</td>\n",
       "      <td>1999-05-28</td>\n",
       "      <td>ARG</td>\n",
       "    </tr>\n",
       "    <tr>\n",
       "      <th>138</th>\n",
       "      <td>139</td>\n",
       "      <td>C. Michelin</td>\n",
       "      <td>5</td>\n",
       "      <td>Déf.</td>\n",
       "      <td>1997-05-11</td>\n",
       "      <td>FRA</td>\n",
       "    </tr>\n",
       "    <tr>\n",
       "      <th>139</th>\n",
       "      <td>140</td>\n",
       "      <td>I. Sylla</td>\n",
       "      <td>5</td>\n",
       "      <td>Déf.</td>\n",
       "      <td>1993-01-01</td>\n",
       "      <td>GUI</td>\n",
       "    </tr>\n",
       "    <tr>\n",
       "      <th>140</th>\n",
       "      <td>141</td>\n",
       "      <td>C. Traoré</td>\n",
       "      <td>5</td>\n",
       "      <td>Déf.</td>\n",
       "      <td>1995-03-31</td>\n",
       "      <td>MLI</td>\n",
       "    </tr>\n",
       "    <tr>\n",
       "      <th>141</th>\n",
       "      <td>142</td>\n",
       "      <td>Y. Cahuzac</td>\n",
       "      <td>5</td>\n",
       "      <td>Mil.</td>\n",
       "      <td>1985-01-18</td>\n",
       "      <td>FRA</td>\n",
       "    </tr>\n",
       "    <tr>\n",
       "      <th>142</th>\n",
       "      <td>143</td>\n",
       "      <td>B. Camara</td>\n",
       "      <td>5</td>\n",
       "      <td>Mil.</td>\n",
       "      <td>nan</td>\n",
       "      <td>FRA</td>\n",
       "    </tr>\n",
       "    <tr>\n",
       "      <th>143</th>\n",
       "      <td>144</td>\n",
       "      <td>C. Doucouré</td>\n",
       "      <td>5</td>\n",
       "      <td>Mil.</td>\n",
       "      <td>2000-01-08</td>\n",
       "      <td>MLI</td>\n",
       "    </tr>\n",
       "    <tr>\n",
       "      <th>144</th>\n",
       "      <td>145</td>\n",
       "      <td>S. Fofana</td>\n",
       "      <td>5</td>\n",
       "      <td>Mil.</td>\n",
       "      <td>1995-05-07</td>\n",
       "      <td>CIV</td>\n",
       "    </tr>\n",
       "    <tr>\n",
       "      <th>145</th>\n",
       "      <td>146</td>\n",
       "      <td>G. Kakuta</td>\n",
       "      <td>5</td>\n",
       "      <td>Mil.</td>\n",
       "      <td>1991-06-21</td>\n",
       "      <td>RDC</td>\n",
       "    </tr>\n",
       "    <tr>\n",
       "      <th>146</th>\n",
       "      <td>147</td>\n",
       "      <td>A. Louveau</td>\n",
       "      <td>5</td>\n",
       "      <td>Mil.</td>\n",
       "      <td>2000-02-01</td>\n",
       "      <td>FRA</td>\n",
       "    </tr>\n",
       "    <tr>\n",
       "      <th>147</th>\n",
       "      <td>148</td>\n",
       "      <td>T. Mauricio</td>\n",
       "      <td>5</td>\n",
       "      <td>Mil.</td>\n",
       "      <td>1994-03-22</td>\n",
       "      <td>FRA</td>\n",
       "    </tr>\n",
       "    <tr>\n",
       "      <th>148</th>\n",
       "      <td>149</td>\n",
       "      <td>A. Oudjani</td>\n",
       "      <td>5</td>\n",
       "      <td>Mil.</td>\n",
       "      <td>2001-08-29</td>\n",
       "      <td>FRA</td>\n",
       "    </tr>\n",
       "    <tr>\n",
       "      <th>149</th>\n",
       "      <td>150</td>\n",
       "      <td>D. Pereira Da...</td>\n",
       "      <td>5</td>\n",
       "      <td>Mil.</td>\n",
       "      <td>2001-01-05</td>\n",
       "      <td>POR</td>\n",
       "    </tr>\n",
       "    <tr>\n",
       "      <th>150</th>\n",
       "      <td>151</td>\n",
       "      <td>J. Varane</td>\n",
       "      <td>5</td>\n",
       "      <td>Mil.</td>\n",
       "      <td>2001-09-09</td>\n",
       "      <td>FRA</td>\n",
       "    </tr>\n",
       "    <tr>\n",
       "      <th>151</th>\n",
       "      <td>152</td>\n",
       "      <td>S. Banza</td>\n",
       "      <td>5</td>\n",
       "      <td>Att.</td>\n",
       "      <td>1996-08-13</td>\n",
       "      <td>FRA</td>\n",
       "    </tr>\n",
       "    <tr>\n",
       "      <th>152</th>\n",
       "      <td>153</td>\n",
       "      <td>I. Ganago</td>\n",
       "      <td>5</td>\n",
       "      <td>Att.</td>\n",
       "      <td>1999-02-16</td>\n",
       "      <td>CAM</td>\n",
       "    </tr>\n",
       "    <tr>\n",
       "      <th>153</th>\n",
       "      <td>154</td>\n",
       "      <td>C. Jean</td>\n",
       "      <td>5</td>\n",
       "      <td>Att.</td>\n",
       "      <td>1995-07-15</td>\n",
       "      <td>FRA</td>\n",
       "    </tr>\n",
       "    <tr>\n",
       "      <th>154</th>\n",
       "      <td>155</td>\n",
       "      <td>A. Kalimuendo</td>\n",
       "      <td>5</td>\n",
       "      <td>Att.</td>\n",
       "      <td>2002-01-20</td>\n",
       "      <td>FRA</td>\n",
       "    </tr>\n",
       "    <tr>\n",
       "      <th>155</th>\n",
       "      <td>156</td>\n",
       "      <td>F. Sotoca</td>\n",
       "      <td>5</td>\n",
       "      <td>Att.</td>\n",
       "      <td>1990-10-25</td>\n",
       "      <td>FRA</td>\n",
       "    </tr>\n",
       "    <tr>\n",
       "      <th>156</th>\n",
       "      <td>157</td>\n",
       "      <td>A. Sow</td>\n",
       "      <td>5</td>\n",
       "      <td>Att.</td>\n",
       "      <td>2000-05-09</td>\n",
       "      <td>SEN</td>\n",
       "    </tr>\n",
       "    <tr>\n",
       "      <th>157</th>\n",
       "      <td>158</td>\n",
       "      <td>L. Chevalier</td>\n",
       "      <td>6</td>\n",
       "      <td>Gar.</td>\n",
       "      <td>2001-11-06</td>\n",
       "      <td>FRA</td>\n",
       "    </tr>\n",
       "    <tr>\n",
       "      <th>158</th>\n",
       "      <td>159</td>\n",
       "      <td>O. Karnezis</td>\n",
       "      <td>6</td>\n",
       "      <td>Gar.</td>\n",
       "      <td>1985-07-11</td>\n",
       "      <td>GRE</td>\n",
       "    </tr>\n",
       "    <tr>\n",
       "      <th>159</th>\n",
       "      <td>160</td>\n",
       "      <td>M. Maignan</td>\n",
       "      <td>6</td>\n",
       "      <td>Gar.</td>\n",
       "      <td>1995-07-03</td>\n",
       "      <td>FRA</td>\n",
       "    </tr>\n",
       "    <tr>\n",
       "      <th>160</th>\n",
       "      <td>161</td>\n",
       "      <td>S. Botman</td>\n",
       "      <td>6</td>\n",
       "      <td>Déf.</td>\n",
       "      <td>2000-01-12</td>\n",
       "      <td>HOL</td>\n",
       "    </tr>\n",
       "    <tr>\n",
       "      <th>161</th>\n",
       "      <td>162</td>\n",
       "      <td>I. Bouleghcha</td>\n",
       "      <td>6</td>\n",
       "      <td>Déf.</td>\n",
       "      <td>2002-12-09</td>\n",
       "      <td>FRA</td>\n",
       "    </tr>\n",
       "    <tr>\n",
       "      <th>162</th>\n",
       "      <td>163</td>\n",
       "      <td>D. Bradaric</td>\n",
       "      <td>6</td>\n",
       "      <td>Déf.</td>\n",
       "      <td>1999-12-10</td>\n",
       "      <td>CRO</td>\n",
       "    </tr>\n",
       "    <tr>\n",
       "      <th>163</th>\n",
       "      <td>164</td>\n",
       "      <td>T. Djalo</td>\n",
       "      <td>6</td>\n",
       "      <td>Déf.</td>\n",
       "      <td>2000-04-09</td>\n",
       "      <td>POR</td>\n",
       "    </tr>\n",
       "    <tr>\n",
       "      <th>164</th>\n",
       "      <td>165</td>\n",
       "      <td>J. Fonte</td>\n",
       "      <td>6</td>\n",
       "      <td>Déf.</td>\n",
       "      <td>1983-12-22</td>\n",
       "      <td>POR</td>\n",
       "    </tr>\n",
       "    <tr>\n",
       "      <th>165</th>\n",
       "      <td>166</td>\n",
       "      <td>N. Innocenti</td>\n",
       "      <td>6</td>\n",
       "      <td>Déf.</td>\n",
       "      <td>2002-02-19</td>\n",
       "      <td>FRA</td>\n",
       "    </tr>\n",
       "    <tr>\n",
       "      <th>166</th>\n",
       "      <td>167</td>\n",
       "      <td>R. Mandava</td>\n",
       "      <td>6</td>\n",
       "      <td>Déf.</td>\n",
       "      <td>1994-01-21</td>\n",
       "      <td>MOZ</td>\n",
       "    </tr>\n",
       "    <tr>\n",
       "      <th>167</th>\n",
       "      <td>168</td>\n",
       "      <td>J. Pied</td>\n",
       "      <td>6</td>\n",
       "      <td>Déf.</td>\n",
       "      <td>1989-02-23</td>\n",
       "      <td>FRA</td>\n",
       "    </tr>\n",
       "    <tr>\n",
       "      <th>168</th>\n",
       "      <td>169</td>\n",
       "      <td>M. Çelik</td>\n",
       "      <td>6</td>\n",
       "      <td>Déf.</td>\n",
       "      <td>1997-02-17</td>\n",
       "      <td>TUR</td>\n",
       "    </tr>\n",
       "    <tr>\n",
       "      <th>169</th>\n",
       "      <td>170</td>\n",
       "      <td>B. André</td>\n",
       "      <td>6</td>\n",
       "      <td>Mil.</td>\n",
       "      <td>1990-08-03</td>\n",
       "      <td>FRA</td>\n",
       "    </tr>\n",
       "    <tr>\n",
       "      <th>170</th>\n",
       "      <td>171</td>\n",
       "      <td>R. Ascone</td>\n",
       "      <td>6</td>\n",
       "      <td>Mil.</td>\n",
       "      <td>2003-09-12</td>\n",
       "      <td>FRA</td>\n",
       "    </tr>\n",
       "    <tr>\n",
       "      <th>171</th>\n",
       "      <td>172</td>\n",
       "      <td>J. Bamba</td>\n",
       "      <td>6</td>\n",
       "      <td>Mil.</td>\n",
       "      <td>1996-03-26</td>\n",
       "      <td>FRA</td>\n",
       "    </tr>\n",
       "    <tr>\n",
       "      <th>172</th>\n",
       "      <td>173</td>\n",
       "      <td>A. Camara</td>\n",
       "      <td>6</td>\n",
       "      <td>Mil.</td>\n",
       "      <td>2001-05-20</td>\n",
       "      <td>GUI</td>\n",
       "    </tr>\n",
       "    <tr>\n",
       "      <th>173</th>\n",
       "      <td>174</td>\n",
       "      <td>M. Kapi</td>\n",
       "      <td>6</td>\n",
       "      <td>Mil.</td>\n",
       "      <td>2002-08-08</td>\n",
       "      <td>TUR</td>\n",
       "    </tr>\n",
       "    <tr>\n",
       "      <th>174</th>\n",
       "      <td>175</td>\n",
       "      <td>E. Pizzuto</td>\n",
       "      <td>6</td>\n",
       "      <td>Mil.</td>\n",
       "      <td>2002-05-13</td>\n",
       "      <td>MEX</td>\n",
       "    </tr>\n",
       "    <tr>\n",
       "      <th>175</th>\n",
       "      <td>176</td>\n",
       "      <td>R. Sanches</td>\n",
       "      <td>6</td>\n",
       "      <td>Mil.</td>\n",
       "      <td>1997-08-18</td>\n",
       "      <td>POR</td>\n",
       "    </tr>\n",
       "    <tr>\n",
       "      <th>176</th>\n",
       "      <td>177</td>\n",
       "      <td>B. Soumaré</td>\n",
       "      <td>6</td>\n",
       "      <td>Mil.</td>\n",
       "      <td>1999-02-27</td>\n",
       "      <td>FRA</td>\n",
       "    </tr>\n",
       "    <tr>\n",
       "      <th>177</th>\n",
       "      <td>178</td>\n",
       "      <td>Xeka</td>\n",
       "      <td>6</td>\n",
       "      <td>Mil.</td>\n",
       "      <td>1994-11-10</td>\n",
       "      <td>POR</td>\n",
       "    </tr>\n",
       "    <tr>\n",
       "      <th>178</th>\n",
       "      <td>179</td>\n",
       "      <td>Y. Yazici</td>\n",
       "      <td>6</td>\n",
       "      <td>Mil.</td>\n",
       "      <td>1997-01-29</td>\n",
       "      <td>TUR</td>\n",
       "    </tr>\n",
       "    <tr>\n",
       "      <th>179</th>\n",
       "      <td>180</td>\n",
       "      <td>A. Zekaj</td>\n",
       "      <td>6</td>\n",
       "      <td>Mil.</td>\n",
       "      <td>2000-04-16</td>\n",
       "      <td>SER</td>\n",
       "    </tr>\n",
       "    <tr>\n",
       "      <th>180</th>\n",
       "      <td>181</td>\n",
       "      <td>L. Araujo</td>\n",
       "      <td>6</td>\n",
       "      <td>Att.</td>\n",
       "      <td>1996-06-02</td>\n",
       "      <td>BRE</td>\n",
       "    </tr>\n",
       "    <tr>\n",
       "      <th>181</th>\n",
       "      <td>182</td>\n",
       "      <td>J. David</td>\n",
       "      <td>6</td>\n",
       "      <td>Att.</td>\n",
       "      <td>2000-01-14</td>\n",
       "      <td>CAN</td>\n",
       "    </tr>\n",
       "    <tr>\n",
       "      <th>182</th>\n",
       "      <td>183</td>\n",
       "      <td>J. Ikoné</td>\n",
       "      <td>6</td>\n",
       "      <td>Att.</td>\n",
       "      <td>1998-05-02</td>\n",
       "      <td>FRA</td>\n",
       "    </tr>\n",
       "    <tr>\n",
       "      <th>183</th>\n",
       "      <td>184</td>\n",
       "      <td>José Bica</td>\n",
       "      <td>6</td>\n",
       "      <td>Att.</td>\n",
       "      <td>2003-06-16</td>\n",
       "      <td>POR</td>\n",
       "    </tr>\n",
       "    <tr>\n",
       "      <th>184</th>\n",
       "      <td>185</td>\n",
       "      <td>I. Lihadji</td>\n",
       "      <td>6</td>\n",
       "      <td>Att.</td>\n",
       "      <td>2002-04-10</td>\n",
       "      <td>FRA</td>\n",
       "    </tr>\n",
       "    <tr>\n",
       "      <th>185</th>\n",
       "      <td>186</td>\n",
       "      <td>T. Weah</td>\n",
       "      <td>6</td>\n",
       "      <td>Att.</td>\n",
       "      <td>2000-02-22</td>\n",
       "      <td>USA</td>\n",
       "    </tr>\n",
       "    <tr>\n",
       "      <th>186</th>\n",
       "      <td>187</td>\n",
       "      <td>B. Yilmaz</td>\n",
       "      <td>6</td>\n",
       "      <td>Att.</td>\n",
       "      <td>1985-07-15</td>\n",
       "      <td>TUR</td>\n",
       "    </tr>\n",
       "    <tr>\n",
       "      <th>187</th>\n",
       "      <td>188</td>\n",
       "      <td>T. Bartouche</td>\n",
       "      <td>7</td>\n",
       "      <td>Gar.</td>\n",
       "      <td>1997-06-05</td>\n",
       "      <td>FRA</td>\n",
       "    </tr>\n",
       "    <tr>\n",
       "      <th>188</th>\n",
       "      <td>189</td>\n",
       "      <td>T. Callens</td>\n",
       "      <td>7</td>\n",
       "      <td>Gar.</td>\n",
       "      <td>1998-09-06</td>\n",
       "      <td>FRA</td>\n",
       "    </tr>\n",
       "    <tr>\n",
       "      <th>189</th>\n",
       "      <td>190</td>\n",
       "      <td>M. Dreyer</td>\n",
       "      <td>7</td>\n",
       "      <td>Gar.</td>\n",
       "      <td>1989-03-20</td>\n",
       "      <td>FRA</td>\n",
       "    </tr>\n",
       "    <tr>\n",
       "      <th>190</th>\n",
       "      <td>191</td>\n",
       "      <td>P. Nardi</td>\n",
       "      <td>7</td>\n",
       "      <td>Gar.</td>\n",
       "      <td>1994-05-18</td>\n",
       "      <td>FRA</td>\n",
       "    </tr>\n",
       "    <tr>\n",
       "      <th>191</th>\n",
       "      <td>192</td>\n",
       "      <td>Y. Etienne</td>\n",
       "      <td>7</td>\n",
       "      <td>Déf.</td>\n",
       "      <td>1997-05-19</td>\n",
       "      <td>FRA</td>\n",
       "    </tr>\n",
       "    <tr>\n",
       "      <th>192</th>\n",
       "      <td>193</td>\n",
       "      <td>T. Fontaine</td>\n",
       "      <td>7</td>\n",
       "      <td>Déf.</td>\n",
       "      <td>1991-05-08</td>\n",
       "      <td>MAD</td>\n",
       "    </tr>\n",
       "    <tr>\n",
       "      <th>193</th>\n",
       "      <td>194</td>\n",
       "      <td>A. Gravillon</td>\n",
       "      <td>7</td>\n",
       "      <td>Déf.</td>\n",
       "      <td>1998-02-08</td>\n",
       "      <td>FRA</td>\n",
       "    </tr>\n",
       "    <tr>\n",
       "      <th>194</th>\n",
       "      <td>195</td>\n",
       "      <td>J. Hergault</td>\n",
       "      <td>7</td>\n",
       "      <td>Déf.</td>\n",
       "      <td>1986-04-05</td>\n",
       "      <td>FRA</td>\n",
       "    </tr>\n",
       "    <tr>\n",
       "      <th>195</th>\n",
       "      <td>196</td>\n",
       "      <td>J. Homawoo</td>\n",
       "      <td>7</td>\n",
       "      <td>Déf.</td>\n",
       "      <td>1997-11-12</td>\n",
       "      <td>FRA</td>\n",
       "    </tr>\n",
       "    <tr>\n",
       "      <th>196</th>\n",
       "      <td>197</td>\n",
       "      <td>T. Ilori</td>\n",
       "      <td>7</td>\n",
       "      <td>Déf.</td>\n",
       "      <td>1993-02-26</td>\n",
       "      <td>POR</td>\n",
       "    </tr>\n",
       "    <tr>\n",
       "      <th>197</th>\n",
       "      <td>198</td>\n",
       "      <td>J. Laporte</td>\n",
       "      <td>7</td>\n",
       "      <td>Déf.</td>\n",
       "      <td>1993-11-04</td>\n",
       "      <td>FRA</td>\n",
       "    </tr>\n",
       "    <tr>\n",
       "      <th>198</th>\n",
       "      <td>199</td>\n",
       "      <td>V. Le Goff</td>\n",
       "      <td>7</td>\n",
       "      <td>Déf.</td>\n",
       "      <td>1989-10-15</td>\n",
       "      <td>FRA</td>\n",
       "    </tr>\n",
       "    <tr>\n",
       "      <th>199</th>\n",
       "      <td>200</td>\n",
       "      <td>H. Mendes</td>\n",
       "      <td>7</td>\n",
       "      <td>Déf.</td>\n",
       "      <td>1998-05-04</td>\n",
       "      <td>FRA</td>\n",
       "    </tr>\n",
       "    <tr>\n",
       "      <th>200</th>\n",
       "      <td>201</td>\n",
       "      <td>J. Morel</td>\n",
       "      <td>7</td>\n",
       "      <td>Déf.</td>\n",
       "      <td>1984-04-02</td>\n",
       "      <td>MAD</td>\n",
       "    </tr>\n",
       "    <tr>\n",
       "      <th>201</th>\n",
       "      <td>202</td>\n",
       "      <td>L. Mouyokolo</td>\n",
       "      <td>7</td>\n",
       "      <td>Déf.</td>\n",
       "      <td>2001-05-22</td>\n",
       "      <td>FRA</td>\n",
       "    </tr>\n",
       "    <tr>\n",
       "      <th>202</th>\n",
       "      <td>203</td>\n",
       "      <td>M. Saunier</td>\n",
       "      <td>7</td>\n",
       "      <td>Déf.</td>\n",
       "      <td>1990-02-07</td>\n",
       "      <td>FRA</td>\n",
       "    </tr>\n",
       "    <tr>\n",
       "      <th>203</th>\n",
       "      <td>204</td>\n",
       "      <td>L. Abergel</td>\n",
       "      <td>7</td>\n",
       "      <td>Mil.</td>\n",
       "      <td>1993-02-01</td>\n",
       "      <td>FRA</td>\n",
       "    </tr>\n",
       "    <tr>\n",
       "      <th>204</th>\n",
       "      <td>205</td>\n",
       "      <td>Q. Boisgard</td>\n",
       "      <td>7</td>\n",
       "      <td>Mil.</td>\n",
       "      <td>1997-03-17</td>\n",
       "      <td>FRA</td>\n",
       "    </tr>\n",
       "    <tr>\n",
       "      <th>205</th>\n",
       "      <td>206</td>\n",
       "      <td>T. Chalobah</td>\n",
       "      <td>7</td>\n",
       "      <td>Mil.</td>\n",
       "      <td>1999-07-05</td>\n",
       "      <td>ANG</td>\n",
       "    </tr>\n",
       "    <tr>\n",
       "      <th>206</th>\n",
       "      <td>207</td>\n",
       "      <td>J. Delaplace</td>\n",
       "      <td>7</td>\n",
       "      <td>Mil.</td>\n",
       "      <td>1986-03-20</td>\n",
       "      <td>FRA</td>\n",
       "    </tr>\n",
       "    <tr>\n",
       "      <th>207</th>\n",
       "      <td>208</td>\n",
       "      <td>A. Laurienté</td>\n",
       "      <td>7</td>\n",
       "      <td>Mil.</td>\n",
       "      <td>1998-12-04</td>\n",
       "      <td>FRA</td>\n",
       "    </tr>\n",
       "    <tr>\n",
       "      <th>208</th>\n",
       "      <td>209</td>\n",
       "      <td>E. Le Fée</td>\n",
       "      <td>7</td>\n",
       "      <td>Mil.</td>\n",
       "      <td>2000-02-03</td>\n",
       "      <td>FRA</td>\n",
       "    </tr>\n",
       "    <tr>\n",
       "      <th>209</th>\n",
       "      <td>210</td>\n",
       "      <td>F. Lemoine</td>\n",
       "      <td>7</td>\n",
       "      <td>Mil.</td>\n",
       "      <td>1987-03-13</td>\n",
       "      <td>FRA</td>\n",
       "    </tr>\n",
       "    <tr>\n",
       "      <th>210</th>\n",
       "      <td>211</td>\n",
       "      <td>S. Marveaux</td>\n",
       "      <td>7</td>\n",
       "      <td>Mil.</td>\n",
       "      <td>1986-04-15</td>\n",
       "      <td>FRA</td>\n",
       "    </tr>\n",
       "    <tr>\n",
       "      <th>211</th>\n",
       "      <td>212</td>\n",
       "      <td>T. Monconduit</td>\n",
       "      <td>7</td>\n",
       "      <td>Mil.</td>\n",
       "      <td>1991-02-10</td>\n",
       "      <td>FRA</td>\n",
       "    </tr>\n",
       "    <tr>\n",
       "      <th>212</th>\n",
       "      <td>213</td>\n",
       "      <td>F. Wadja</td>\n",
       "      <td>7</td>\n",
       "      <td>Mil.</td>\n",
       "      <td>1994-11-30</td>\n",
       "      <td>CAM</td>\n",
       "    </tr>\n",
       "    <tr>\n",
       "      <th>213</th>\n",
       "      <td>214</td>\n",
       "      <td>S. Diarra</td>\n",
       "      <td>7</td>\n",
       "      <td>Att.</td>\n",
       "      <td>1998-12-09</td>\n",
       "      <td>FRA</td>\n",
       "    </tr>\n",
       "    <tr>\n",
       "      <th>214</th>\n",
       "      <td>215</td>\n",
       "      <td>A. Grbic</td>\n",
       "      <td>7</td>\n",
       "      <td>Att.</td>\n",
       "      <td>1996-08-04</td>\n",
       "      <td>AUT</td>\n",
       "    </tr>\n",
       "    <tr>\n",
       "      <th>215</th>\n",
       "      <td>216</td>\n",
       "      <td>P. Hamel</td>\n",
       "      <td>7</td>\n",
       "      <td>Att.</td>\n",
       "      <td>1994-03-19</td>\n",
       "      <td>FRA</td>\n",
       "    </tr>\n",
       "    <tr>\n",
       "      <th>216</th>\n",
       "      <td>217</td>\n",
       "      <td>T. Moffi</td>\n",
       "      <td>7</td>\n",
       "      <td>Att.</td>\n",
       "      <td>1999-05-25</td>\n",
       "      <td>NGA</td>\n",
       "    </tr>\n",
       "    <tr>\n",
       "      <th>217</th>\n",
       "      <td>218</td>\n",
       "      <td>Y. Wissa</td>\n",
       "      <td>7</td>\n",
       "      <td>Att.</td>\n",
       "      <td>1996-09-03</td>\n",
       "      <td>FRA</td>\n",
       "    </tr>\n",
       "    <tr>\n",
       "      <th>218</th>\n",
       "      <td>219</td>\n",
       "      <td>M. Barcola</td>\n",
       "      <td>8</td>\n",
       "      <td>Gar.</td>\n",
       "      <td>1999-05-14</td>\n",
       "      <td>FRA</td>\n",
       "    </tr>\n",
       "    <tr>\n",
       "      <th>219</th>\n",
       "      <td>220</td>\n",
       "      <td>A. Lopes</td>\n",
       "      <td>8</td>\n",
       "      <td>Gar.</td>\n",
       "      <td>1990-10-01</td>\n",
       "      <td>POR</td>\n",
       "    </tr>\n",
       "    <tr>\n",
       "      <th>220</th>\n",
       "      <td>221</td>\n",
       "      <td>J. Pollersbeck</td>\n",
       "      <td>8</td>\n",
       "      <td>Gar.</td>\n",
       "      <td>1994-08-16</td>\n",
       "      <td>ALL</td>\n",
       "    </tr>\n",
       "    <tr>\n",
       "      <th>221</th>\n",
       "      <td>222</td>\n",
       "      <td>M. Bard</td>\n",
       "      <td>8</td>\n",
       "      <td>Déf.</td>\n",
       "      <td>2000-11-06</td>\n",
       "      <td>FRA</td>\n",
       "    </tr>\n",
       "    <tr>\n",
       "      <th>222</th>\n",
       "      <td>223</td>\n",
       "      <td>D. Benlamri</td>\n",
       "      <td>8</td>\n",
       "      <td>Déf.</td>\n",
       "      <td>1989-12-25</td>\n",
       "      <td>ALG</td>\n",
       "    </tr>\n",
       "    <tr>\n",
       "      <th>223</th>\n",
       "      <td>224</td>\n",
       "      <td>M. De Sciglio</td>\n",
       "      <td>8</td>\n",
       "      <td>Déf.</td>\n",
       "      <td>1992-10-20</td>\n",
       "      <td>ITA</td>\n",
       "    </tr>\n",
       "    <tr>\n",
       "      <th>224</th>\n",
       "      <td>225</td>\n",
       "      <td>J. Denayer</td>\n",
       "      <td>8</td>\n",
       "      <td>Déf.</td>\n",
       "      <td>1995-06-28</td>\n",
       "      <td>BEL</td>\n",
       "    </tr>\n",
       "    <tr>\n",
       "      <th>225</th>\n",
       "      <td>226</td>\n",
       "      <td>S. Diomandé</td>\n",
       "      <td>8</td>\n",
       "      <td>Déf.</td>\n",
       "      <td>2001-04-09</td>\n",
       "      <td>CIV</td>\n",
       "    </tr>\n",
       "    <tr>\n",
       "      <th>226</th>\n",
       "      <td>227</td>\n",
       "      <td>L. Dubois</td>\n",
       "      <td>8</td>\n",
       "      <td>Déf.</td>\n",
       "      <td>1994-09-14</td>\n",
       "      <td>FRA</td>\n",
       "    </tr>\n",
       "    <tr>\n",
       "      <th>227</th>\n",
       "      <td>228</td>\n",
       "      <td>M. Gusto</td>\n",
       "      <td>8</td>\n",
       "      <td>Déf.</td>\n",
       "      <td>2003-05-19</td>\n",
       "      <td>FRA</td>\n",
       "    </tr>\n",
       "    <tr>\n",
       "      <th>228</th>\n",
       "      <td>229</td>\n",
       "      <td>Marcelo</td>\n",
       "      <td>8</td>\n",
       "      <td>Déf.</td>\n",
       "      <td>1987-05-20</td>\n",
       "      <td>BRE</td>\n",
       "    </tr>\n",
       "    <tr>\n",
       "      <th>229</th>\n",
       "      <td>230</td>\n",
       "      <td>C. Özkaçar</td>\n",
       "      <td>8</td>\n",
       "      <td>Déf.</td>\n",
       "      <td>2000-10-06</td>\n",
       "      <td>TUR</td>\n",
       "    </tr>\n",
       "    <tr>\n",
       "      <th>230</th>\n",
       "      <td>231</td>\n",
       "      <td>H. Aouar</td>\n",
       "      <td>8</td>\n",
       "      <td>Mil.</td>\n",
       "      <td>1998-06-30</td>\n",
       "      <td>FRA</td>\n",
       "    </tr>\n",
       "    <tr>\n",
       "      <th>231</th>\n",
       "      <td>232</td>\n",
       "      <td>Camilo</td>\n",
       "      <td>8</td>\n",
       "      <td>Mil.</td>\n",
       "      <td>1999-02-23</td>\n",
       "      <td>BRE</td>\n",
       "    </tr>\n",
       "    <tr>\n",
       "      <th>232</th>\n",
       "      <td>233</td>\n",
       "      <td>M. Caqueret</td>\n",
       "      <td>8</td>\n",
       "      <td>Mil.</td>\n",
       "      <td>2000-02-15</td>\n",
       "      <td>FRA</td>\n",
       "    </tr>\n",
       "    <tr>\n",
       "      <th>233</th>\n",
       "      <td>234</td>\n",
       "      <td>R. Cherki</td>\n",
       "      <td>8</td>\n",
       "      <td>Mil.</td>\n",
       "      <td>2003-08-17</td>\n",
       "      <td>FRA</td>\n",
       "    </tr>\n",
       "    <tr>\n",
       "      <th>234</th>\n",
       "      <td>235</td>\n",
       "      <td>F. Da Silva</td>\n",
       "      <td>8</td>\n",
       "      <td>Mil.</td>\n",
       "      <td>nan</td>\n",
       "      <td>FRA</td>\n",
       "    </tr>\n",
       "    <tr>\n",
       "      <th>235</th>\n",
       "      <td>236</td>\n",
       "      <td>B. Guimaraes</td>\n",
       "      <td>8</td>\n",
       "      <td>Mil.</td>\n",
       "      <td>1997-11-16</td>\n",
       "      <td>BRE</td>\n",
       "    </tr>\n",
       "    <tr>\n",
       "      <th>236</th>\n",
       "      <td>237</td>\n",
       "      <td>T. Mendes</td>\n",
       "      <td>8</td>\n",
       "      <td>Mil.</td>\n",
       "      <td>1992-03-15</td>\n",
       "      <td>BRE</td>\n",
       "    </tr>\n",
       "    <tr>\n",
       "      <th>237</th>\n",
       "      <td>238</td>\n",
       "      <td>L. Paqueta</td>\n",
       "      <td>8</td>\n",
       "      <td>Mil.</td>\n",
       "      <td>1997-08-27</td>\n",
       "      <td>BRE</td>\n",
       "    </tr>\n",
       "    <tr>\n",
       "      <th>238</th>\n",
       "      <td>239</td>\n",
       "      <td>Y. Soumaré</td>\n",
       "      <td>8</td>\n",
       "      <td>Mil.</td>\n",
       "      <td>2000-06-23</td>\n",
       "      <td>FRA</td>\n",
       "    </tr>\n",
       "    <tr>\n",
       "      <th>239</th>\n",
       "      <td>240</td>\n",
       "      <td>M. Cornet</td>\n",
       "      <td>8</td>\n",
       "      <td>Att.</td>\n",
       "      <td>1996-09-27</td>\n",
       "      <td>CIV</td>\n",
       "    </tr>\n",
       "    <tr>\n",
       "      <th>240</th>\n",
       "      <td>241</td>\n",
       "      <td>M. Depay</td>\n",
       "      <td>8</td>\n",
       "      <td>Att.</td>\n",
       "      <td>1994-02-13</td>\n",
       "      <td>HOL</td>\n",
       "    </tr>\n",
       "    <tr>\n",
       "      <th>241</th>\n",
       "      <td>242</td>\n",
       "      <td>T. Kadewere</td>\n",
       "      <td>8</td>\n",
       "      <td>Att.</td>\n",
       "      <td>1996-01-05</td>\n",
       "      <td>ZIM</td>\n",
       "    </tr>\n",
       "    <tr>\n",
       "      <th>242</th>\n",
       "      <td>243</td>\n",
       "      <td>I. Slimani</td>\n",
       "      <td>8</td>\n",
       "      <td>Att.</td>\n",
       "      <td>1988-06-18</td>\n",
       "      <td>ALG</td>\n",
       "    </tr>\n",
       "    <tr>\n",
       "      <th>243</th>\n",
       "      <td>244</td>\n",
       "      <td>K. Toko Ekambi</td>\n",
       "      <td>8</td>\n",
       "      <td>Att.</td>\n",
       "      <td>1992-09-14</td>\n",
       "      <td>CAM</td>\n",
       "    </tr>\n",
       "    <tr>\n",
       "      <th>244</th>\n",
       "      <td>245</td>\n",
       "      <td>S. Mandanda</td>\n",
       "      <td>9</td>\n",
       "      <td>Gar.</td>\n",
       "      <td>1985-03-28</td>\n",
       "      <td>FRA</td>\n",
       "    </tr>\n",
       "    <tr>\n",
       "      <th>245</th>\n",
       "      <td>246</td>\n",
       "      <td>S. Ngapandouetnbu</td>\n",
       "      <td>9</td>\n",
       "      <td>Gar.</td>\n",
       "      <td>2003-04-12</td>\n",
       "      <td>CAM</td>\n",
       "    </tr>\n",
       "    <tr>\n",
       "      <th>246</th>\n",
       "      <td>247</td>\n",
       "      <td>Y. Pelé</td>\n",
       "      <td>9</td>\n",
       "      <td>Gar.</td>\n",
       "      <td>1982-11-04</td>\n",
       "      <td>FRA</td>\n",
       "    </tr>\n",
       "    <tr>\n",
       "      <th>247</th>\n",
       "      <td>248</td>\n",
       "      <td>F. Vanni</td>\n",
       "      <td>9</td>\n",
       "      <td>Gar.</td>\n",
       "      <td>2002-07-20</td>\n",
       "      <td>FRA</td>\n",
       "    </tr>\n",
       "    <tr>\n",
       "      <th>248</th>\n",
       "      <td>249</td>\n",
       "      <td>J. Amavi</td>\n",
       "      <td>9</td>\n",
       "      <td>Déf.</td>\n",
       "      <td>1994-03-09</td>\n",
       "      <td>FRA</td>\n",
       "    </tr>\n",
       "    <tr>\n",
       "      <th>249</th>\n",
       "      <td>250</td>\n",
       "      <td>L. Balerdi</td>\n",
       "      <td>9</td>\n",
       "      <td>Déf.</td>\n",
       "      <td>1999-01-26</td>\n",
       "      <td>ARG</td>\n",
       "    </tr>\n",
       "    <tr>\n",
       "      <th>250</th>\n",
       "      <td>251</td>\n",
       "      <td>D. Caleta-Car</td>\n",
       "      <td>9</td>\n",
       "      <td>Déf.</td>\n",
       "      <td>1996-09-17</td>\n",
       "      <td>CRO</td>\n",
       "    </tr>\n",
       "    <tr>\n",
       "      <th>251</th>\n",
       "      <td>252</td>\n",
       "      <td>A. Gonzalez</td>\n",
       "      <td>9</td>\n",
       "      <td>Déf.</td>\n",
       "      <td>1990-01-08</td>\n",
       "      <td>ESP</td>\n",
       "    </tr>\n",
       "    <tr>\n",
       "      <th>252</th>\n",
       "      <td>253</td>\n",
       "      <td>B. Kamara</td>\n",
       "      <td>9</td>\n",
       "      <td>Déf.</td>\n",
       "      <td>1999-11-23</td>\n",
       "      <td>FRA</td>\n",
       "    </tr>\n",
       "    <tr>\n",
       "      <th>253</th>\n",
       "      <td>254</td>\n",
       "      <td>P. Lirola</td>\n",
       "      <td>9</td>\n",
       "      <td>Déf.</td>\n",
       "      <td>1997-08-13</td>\n",
       "      <td>ESP</td>\n",
       "    </tr>\n",
       "    <tr>\n",
       "      <th>254</th>\n",
       "      <td>255</td>\n",
       "      <td>Y. Nagatomo</td>\n",
       "      <td>9</td>\n",
       "      <td>Déf.</td>\n",
       "      <td>1986-09-12</td>\n",
       "      <td>JAP</td>\n",
       "    </tr>\n",
       "    <tr>\n",
       "      <th>255</th>\n",
       "      <td>256</td>\n",
       "      <td>L. Perrin</td>\n",
       "      <td>9</td>\n",
       "      <td>Déf.</td>\n",
       "      <td>1998-11-19</td>\n",
       "      <td>FRA</td>\n",
       "    </tr>\n",
       "    <tr>\n",
       "      <th>256</th>\n",
       "      <td>257</td>\n",
       "      <td>C. Rocchia</td>\n",
       "      <td>9</td>\n",
       "      <td>Déf.</td>\n",
       "      <td>1998-02-10</td>\n",
       "      <td>FRA</td>\n",
       "    </tr>\n",
       "    <tr>\n",
       "      <th>257</th>\n",
       "      <td>258</td>\n",
       "      <td>H. Sakai</td>\n",
       "      <td>9</td>\n",
       "      <td>Déf.</td>\n",
       "      <td>1990-04-12</td>\n",
       "      <td>JAP</td>\n",
       "    </tr>\n",
       "    <tr>\n",
       "      <th>258</th>\n",
       "      <td>259</td>\n",
       "      <td>U. Bertelli</td>\n",
       "      <td>9</td>\n",
       "      <td>Mil.</td>\n",
       "      <td>2003-07-15</td>\n",
       "      <td>FRA</td>\n",
       "    </tr>\n",
       "    <tr>\n",
       "      <th>259</th>\n",
       "      <td>260</td>\n",
       "      <td>M. Cuisance</td>\n",
       "      <td>9</td>\n",
       "      <td>Mil.</td>\n",
       "      <td>1999-08-16</td>\n",
       "      <td>FRA</td>\n",
       "    </tr>\n",
       "    <tr>\n",
       "      <th>260</th>\n",
       "      <td>261</td>\n",
       "      <td>P. Gueye</td>\n",
       "      <td>9</td>\n",
       "      <td>Mil.</td>\n",
       "      <td>1999-01-24</td>\n",
       "      <td>FRA</td>\n",
       "    </tr>\n",
       "    <tr>\n",
       "      <th>261</th>\n",
       "      <td>262</td>\n",
       "      <td>S. Khaoui</td>\n",
       "      <td>9</td>\n",
       "      <td>Mil.</td>\n",
       "      <td>1995-04-27</td>\n",
       "      <td>TUN</td>\n",
       "    </tr>\n",
       "    <tr>\n",
       "      <th>262</th>\n",
       "      <td>263</td>\n",
       "      <td>O. Ntcham</td>\n",
       "      <td>9</td>\n",
       "      <td>Mil.</td>\n",
       "      <td>1996-02-09</td>\n",
       "      <td>FRA</td>\n",
       "    </tr>\n",
       "    <tr>\n",
       "      <th>263</th>\n",
       "      <td>264</td>\n",
       "      <td>D. Payet</td>\n",
       "      <td>9</td>\n",
       "      <td>Mil.</td>\n",
       "      <td>1987-03-29</td>\n",
       "      <td>FRA</td>\n",
       "    </tr>\n",
       "    <tr>\n",
       "      <th>264</th>\n",
       "      <td>265</td>\n",
       "      <td>V. Rongier</td>\n",
       "      <td>9</td>\n",
       "      <td>Mil.</td>\n",
       "      <td>1994-12-07</td>\n",
       "      <td>FRA</td>\n",
       "    </tr>\n",
       "    <tr>\n",
       "      <th>265</th>\n",
       "      <td>266</td>\n",
       "      <td>C. Souaré</td>\n",
       "      <td>9</td>\n",
       "      <td>Mil.</td>\n",
       "      <td>2002-09-03</td>\n",
       "      <td>FRA</td>\n",
       "    </tr>\n",
       "    <tr>\n",
       "      <th>266</th>\n",
       "      <td>267</td>\n",
       "      <td>O. Targhalline</td>\n",
       "      <td>9</td>\n",
       "      <td>Mil.</td>\n",
       "      <td>2002-05-20</td>\n",
       "      <td>MAR</td>\n",
       "    </tr>\n",
       "    <tr>\n",
       "      <th>267</th>\n",
       "      <td>268</td>\n",
       "      <td>D. Benedetto</td>\n",
       "      <td>9</td>\n",
       "      <td>Att.</td>\n",
       "      <td>1990-05-17</td>\n",
       "      <td>ARG</td>\n",
       "    </tr>\n",
       "    <tr>\n",
       "      <th>268</th>\n",
       "      <td>269</td>\n",
       "      <td>A. Dieng</td>\n",
       "      <td>9</td>\n",
       "      <td>Att.</td>\n",
       "      <td>2000-09-01</td>\n",
       "      <td>SEN</td>\n",
       "    </tr>\n",
       "    <tr>\n",
       "      <th>269</th>\n",
       "      <td>270</td>\n",
       "      <td>V. Germain</td>\n",
       "      <td>9</td>\n",
       "      <td>Att.</td>\n",
       "      <td>1990-04-17</td>\n",
       "      <td>FRA</td>\n",
       "    </tr>\n",
       "    <tr>\n",
       "      <th>270</th>\n",
       "      <td>271</td>\n",
       "      <td>Luis Henrique</td>\n",
       "      <td>9</td>\n",
       "      <td>Att.</td>\n",
       "      <td>2001-12-14</td>\n",
       "      <td>BRE</td>\n",
       "    </tr>\n",
       "    <tr>\n",
       "      <th>271</th>\n",
       "      <td>272</td>\n",
       "      <td>A. Milik</td>\n",
       "      <td>9</td>\n",
       "      <td>Att.</td>\n",
       "      <td>1994-02-28</td>\n",
       "      <td>POL</td>\n",
       "    </tr>\n",
       "    <tr>\n",
       "      <th>272</th>\n",
       "      <td>273</td>\n",
       "      <td>F. Thauvin</td>\n",
       "      <td>9</td>\n",
       "      <td>Att.</td>\n",
       "      <td>1993-01-26</td>\n",
       "      <td>FRA</td>\n",
       "    </tr>\n",
       "    <tr>\n",
       "      <th>273</th>\n",
       "      <td>274</td>\n",
       "      <td>O. Ba</td>\n",
       "      <td>10</td>\n",
       "      <td>Gar.</td>\n",
       "      <td>2002-06-06</td>\n",
       "      <td>SEN</td>\n",
       "    </tr>\n",
       "    <tr>\n",
       "      <th>274</th>\n",
       "      <td>275</td>\n",
       "      <td>M. Caillard</td>\n",
       "      <td>10</td>\n",
       "      <td>Gar.</td>\n",
       "      <td>1994-05-12</td>\n",
       "      <td>FRA</td>\n",
       "    </tr>\n",
       "    <tr>\n",
       "      <th>275</th>\n",
       "      <td>276</td>\n",
       "      <td>A. Oukidja</td>\n",
       "      <td>10</td>\n",
       "      <td>Gar.</td>\n",
       "      <td>1988-07-19</td>\n",
       "      <td>ALG</td>\n",
       "    </tr>\n",
       "    <tr>\n",
       "      <th>276</th>\n",
       "      <td>277</td>\n",
       "      <td>E. Boahene</td>\n",
       "      <td>10</td>\n",
       "      <td>Déf.</td>\n",
       "      <td>2000-03-06</td>\n",
       "      <td>GHA</td>\n",
       "    </tr>\n",
       "    <tr>\n",
       "      <th>277</th>\n",
       "      <td>278</td>\n",
       "      <td>J. Boye</td>\n",
       "      <td>10</td>\n",
       "      <td>Déf.</td>\n",
       "      <td>1987-04-23</td>\n",
       "      <td>GHA</td>\n",
       "    </tr>\n",
       "    <tr>\n",
       "      <th>278</th>\n",
       "      <td>279</td>\n",
       "      <td>D. Bronn</td>\n",
       "      <td>10</td>\n",
       "      <td>Déf.</td>\n",
       "      <td>1995-06-19</td>\n",
       "      <td>TUN</td>\n",
       "    </tr>\n",
       "    <tr>\n",
       "      <th>279</th>\n",
       "      <td>280</td>\n",
       "      <td>M. Cabit</td>\n",
       "      <td>10</td>\n",
       "      <td>Déf.</td>\n",
       "      <td>1993-06-03</td>\n",
       "      <td>FRA</td>\n",
       "    </tr>\n",
       "    <tr>\n",
       "      <th>280</th>\n",
       "      <td>281</td>\n",
       "      <td>F. Centonze</td>\n",
       "      <td>10</td>\n",
       "      <td>Déf.</td>\n",
       "      <td>1996-01-16</td>\n",
       "      <td>FRA</td>\n",
       "    </tr>\n",
       "    <tr>\n",
       "      <th>281</th>\n",
       "      <td>282</td>\n",
       "      <td>T. Delaine</td>\n",
       "      <td>10</td>\n",
       "      <td>Déf.</td>\n",
       "      <td>1992-03-24</td>\n",
       "      <td>FRA</td>\n",
       "    </tr>\n",
       "    <tr>\n",
       "      <th>282</th>\n",
       "      <td>283</td>\n",
       "      <td>M. Fofana</td>\n",
       "      <td>10</td>\n",
       "      <td>Déf.</td>\n",
       "      <td>1998-01-21</td>\n",
       "      <td>MLI</td>\n",
       "    </tr>\n",
       "    <tr>\n",
       "      <th>283</th>\n",
       "      <td>284</td>\n",
       "      <td>B. Kouyaté</td>\n",
       "      <td>10</td>\n",
       "      <td>Déf.</td>\n",
       "      <td>1997-04-15</td>\n",
       "      <td>MLI</td>\n",
       "    </tr>\n",
       "    <tr>\n",
       "      <th>284</th>\n",
       "      <td>285</td>\n",
       "      <td>L. Lacroix</td>\n",
       "      <td>10</td>\n",
       "      <td>Déf.</td>\n",
       "      <td>2003-02-06</td>\n",
       "      <td>FRA</td>\n",
       "    </tr>\n",
       "    <tr>\n",
       "      <th>285</th>\n",
       "      <td>286</td>\n",
       "      <td>M. Udol</td>\n",
       "      <td>10</td>\n",
       "      <td>Déf.</td>\n",
       "      <td>1996-03-20</td>\n",
       "      <td>FRA</td>\n",
       "    </tr>\n",
       "    <tr>\n",
       "      <th>286</th>\n",
       "      <td>287</td>\n",
       "      <td>V. Angban</td>\n",
       "      <td>10</td>\n",
       "      <td>Mil.</td>\n",
       "      <td>1996-09-29</td>\n",
       "      <td>CIV</td>\n",
       "    </tr>\n",
       "    <tr>\n",
       "      <th>287</th>\n",
       "      <td>288</td>\n",
       "      <td>Y. Maziz</td>\n",
       "      <td>10</td>\n",
       "      <td>Mil.</td>\n",
       "      <td>1998-06-24</td>\n",
       "      <td>FRA</td>\n",
       "    </tr>\n",
       "    <tr>\n",
       "      <th>288</th>\n",
       "      <td>289</td>\n",
       "      <td>H. Maïga</td>\n",
       "      <td>10</td>\n",
       "      <td>Mil.</td>\n",
       "      <td>1996-01-01</td>\n",
       "      <td>CIV</td>\n",
       "    </tr>\n",
       "    <tr>\n",
       "      <th>289</th>\n",
       "      <td>290</td>\n",
       "      <td>K. N'Doram</td>\n",
       "      <td>10</td>\n",
       "      <td>Mil.</td>\n",
       "      <td>1996-01-22</td>\n",
       "      <td>FRA</td>\n",
       "    </tr>\n",
       "    <tr>\n",
       "      <th>290</th>\n",
       "      <td>291</td>\n",
       "      <td>V. Pajot</td>\n",
       "      <td>10</td>\n",
       "      <td>Mil.</td>\n",
       "      <td>1990-08-19</td>\n",
       "      <td>FRA</td>\n",
       "    </tr>\n",
       "    <tr>\n",
       "      <th>291</th>\n",
       "      <td>292</td>\n",
       "      <td>P. Sarr</td>\n",
       "      <td>10</td>\n",
       "      <td>Mil.</td>\n",
       "      <td>2002-09-14</td>\n",
       "      <td>SEN</td>\n",
       "    </tr>\n",
       "    <tr>\n",
       "      <th>292</th>\n",
       "      <td>293</td>\n",
       "      <td>W. Tchimbembé</td>\n",
       "      <td>10</td>\n",
       "      <td>Mil.</td>\n",
       "      <td>1998-04-21</td>\n",
       "      <td>FRA</td>\n",
       "    </tr>\n",
       "    <tr>\n",
       "      <th>293</th>\n",
       "      <td>294</td>\n",
       "      <td>B. Traoré</td>\n",
       "      <td>10</td>\n",
       "      <td>Mil.</td>\n",
       "      <td>2001-08-20</td>\n",
       "      <td>MLI</td>\n",
       "    </tr>\n",
       "    <tr>\n",
       "      <th>294</th>\n",
       "      <td>295</td>\n",
       "      <td>T. Ambrose</td>\n",
       "      <td>10</td>\n",
       "      <td>Att.</td>\n",
       "      <td>1997-03-28</td>\n",
       "      <td>FRA</td>\n",
       "    </tr>\n",
       "    <tr>\n",
       "      <th>295</th>\n",
       "      <td>296</td>\n",
       "      <td>F. Boulaya</td>\n",
       "      <td>10</td>\n",
       "      <td>Att.</td>\n",
       "      <td>1993-02-25</td>\n",
       "      <td>FRA</td>\n",
       "    </tr>\n",
       "    <tr>\n",
       "      <th>296</th>\n",
       "      <td>297</td>\n",
       "      <td>V. Dias Goncalves</td>\n",
       "      <td>10</td>\n",
       "      <td>Att.</td>\n",
       "      <td>1996-01-10</td>\n",
       "      <td>CAV</td>\n",
       "    </tr>\n",
       "    <tr>\n",
       "      <th>297</th>\n",
       "      <td>298</td>\n",
       "      <td>M. Gueye</td>\n",
       "      <td>10</td>\n",
       "      <td>Att.</td>\n",
       "      <td>1998-03-13</td>\n",
       "      <td>SEN</td>\n",
       "    </tr>\n",
       "    <tr>\n",
       "      <th>298</th>\n",
       "      <td>299</td>\n",
       "      <td>A. Leya Iseka</td>\n",
       "      <td>10</td>\n",
       "      <td>Att.</td>\n",
       "      <td>1997-11-15</td>\n",
       "      <td>BEL</td>\n",
       "    </tr>\n",
       "    <tr>\n",
       "      <th>299</th>\n",
       "      <td>300</td>\n",
       "      <td>O. Nguette</td>\n",
       "      <td>10</td>\n",
       "      <td>Att.</td>\n",
       "      <td>1994-07-08</td>\n",
       "      <td>SEN</td>\n",
       "    </tr>\n",
       "    <tr>\n",
       "      <th>300</th>\n",
       "      <td>301</td>\n",
       "      <td>I. Niane</td>\n",
       "      <td>10</td>\n",
       "      <td>Att.</td>\n",
       "      <td>1999-03-11</td>\n",
       "      <td>SEN</td>\n",
       "    </tr>\n",
       "    <tr>\n",
       "      <th>301</th>\n",
       "      <td>302</td>\n",
       "      <td>P. Yade</td>\n",
       "      <td>10</td>\n",
       "      <td>Att.</td>\n",
       "      <td>2000-01-05</td>\n",
       "      <td>SEN</td>\n",
       "    </tr>\n",
       "    <tr>\n",
       "      <th>302</th>\n",
       "      <td>303</td>\n",
       "      <td>B. Lecomte</td>\n",
       "      <td>11</td>\n",
       "      <td>Gar.</td>\n",
       "      <td>1991-04-26</td>\n",
       "      <td>FRA</td>\n",
       "    </tr>\n",
       "    <tr>\n",
       "      <th>303</th>\n",
       "      <td>304</td>\n",
       "      <td>Y. Liénard</td>\n",
       "      <td>11</td>\n",
       "      <td>Gar.</td>\n",
       "      <td>nan</td>\n",
       "      <td>FRA</td>\n",
       "    </tr>\n",
       "    <tr>\n",
       "      <th>304</th>\n",
       "      <td>305</td>\n",
       "      <td>R. Majecki</td>\n",
       "      <td>11</td>\n",
       "      <td>Gar.</td>\n",
       "      <td>1999-11-16</td>\n",
       "      <td>POL</td>\n",
       "    </tr>\n",
       "    <tr>\n",
       "      <th>305</th>\n",
       "      <td>306</td>\n",
       "      <td>V. Mannone</td>\n",
       "      <td>11</td>\n",
       "      <td>Gar.</td>\n",
       "      <td>1988-03-02</td>\n",
       "      <td>ITA</td>\n",
       "    </tr>\n",
       "    <tr>\n",
       "      <th>306</th>\n",
       "      <td>307</td>\n",
       "      <td>R. Aguilar</td>\n",
       "      <td>11</td>\n",
       "      <td>Déf.</td>\n",
       "      <td>1993-04-26</td>\n",
       "      <td>FRA</td>\n",
       "    </tr>\n",
       "    <tr>\n",
       "      <th>307</th>\n",
       "      <td>308</td>\n",
       "      <td>B. Badiashile</td>\n",
       "      <td>11</td>\n",
       "      <td>Déf.</td>\n",
       "      <td>2001-03-26</td>\n",
       "      <td>FRA</td>\n",
       "    </tr>\n",
       "    <tr>\n",
       "      <th>308</th>\n",
       "      <td>309</td>\n",
       "      <td>F. Ballo-Touré</td>\n",
       "      <td>11</td>\n",
       "      <td>Déf.</td>\n",
       "      <td>1997-01-03</td>\n",
       "      <td>FRA</td>\n",
       "    </tr>\n",
       "    <tr>\n",
       "      <th>309</th>\n",
       "      <td>310</td>\n",
       "      <td>A. Disasi</td>\n",
       "      <td>11</td>\n",
       "      <td>Déf.</td>\n",
       "      <td>1998-03-11</td>\n",
       "      <td>FRA</td>\n",
       "    </tr>\n",
       "    <tr>\n",
       "      <th>310</th>\n",
       "      <td>311</td>\n",
       "      <td>G. Maripan</td>\n",
       "      <td>11</td>\n",
       "      <td>Déf.</td>\n",
       "      <td>1994-05-06</td>\n",
       "      <td>CHL</td>\n",
       "    </tr>\n",
       "    <tr>\n",
       "      <th>311</th>\n",
       "      <td>312</td>\n",
       "      <td>C. Matsima</td>\n",
       "      <td>11</td>\n",
       "      <td>Déf.</td>\n",
       "      <td>2002-05-15</td>\n",
       "      <td>FRA</td>\n",
       "    </tr>\n",
       "    <tr>\n",
       "      <th>312</th>\n",
       "      <td>313</td>\n",
       "      <td>D. Sidibé</td>\n",
       "      <td>11</td>\n",
       "      <td>Déf.</td>\n",
       "      <td>1992-07-29</td>\n",
       "      <td>FRA</td>\n",
       "    </tr>\n",
       "    <tr>\n",
       "      <th>313</th>\n",
       "      <td>314</td>\n",
       "      <td>Y. Aït-Bennasser</td>\n",
       "      <td>11</td>\n",
       "      <td>Mil.</td>\n",
       "      <td>1996-07-07</td>\n",
       "      <td>MAR</td>\n",
       "    </tr>\n",
       "    <tr>\n",
       "      <th>314</th>\n",
       "      <td>315</td>\n",
       "      <td>Caio Henrique</td>\n",
       "      <td>11</td>\n",
       "      <td>Mil.</td>\n",
       "      <td>1997-07-31</td>\n",
       "      <td>BRE</td>\n",
       "    </tr>\n",
       "    <tr>\n",
       "      <th>315</th>\n",
       "      <td>316</td>\n",
       "      <td>S. Diop</td>\n",
       "      <td>11</td>\n",
       "      <td>Mil.</td>\n",
       "      <td>2000-06-09</td>\n",
       "      <td>FRA</td>\n",
       "    </tr>\n",
       "    <tr>\n",
       "      <th>316</th>\n",
       "      <td>317</td>\n",
       "      <td>F. Fabregas</td>\n",
       "      <td>11</td>\n",
       "      <td>Mil.</td>\n",
       "      <td>1987-05-04</td>\n",
       "      <td>ESP</td>\n",
       "    </tr>\n",
       "    <tr>\n",
       "      <th>317</th>\n",
       "      <td>318</td>\n",
       "      <td>Y. Fofana</td>\n",
       "      <td>11</td>\n",
       "      <td>Mil.</td>\n",
       "      <td>1999-01-10</td>\n",
       "      <td>FRA</td>\n",
       "    </tr>\n",
       "    <tr>\n",
       "      <th>318</th>\n",
       "      <td>319</td>\n",
       "      <td>A. Golovine</td>\n",
       "      <td>11</td>\n",
       "      <td>Mil.</td>\n",
       "      <td>1996-05-30</td>\n",
       "      <td>RUS</td>\n",
       "    </tr>\n",
       "    <tr>\n",
       "      <th>319</th>\n",
       "      <td>320</td>\n",
       "      <td>S. Grandsir</td>\n",
       "      <td>11</td>\n",
       "      <td>Mil.</td>\n",
       "      <td>1996-08-14</td>\n",
       "      <td>FRA</td>\n",
       "    </tr>\n",
       "    <tr>\n",
       "      <th>320</th>\n",
       "      <td>321</td>\n",
       "      <td>F. Luis</td>\n",
       "      <td>11</td>\n",
       "      <td>Mil.</td>\n",
       "      <td>1999-08-19</td>\n",
       "      <td>POR</td>\n",
       "    </tr>\n",
       "    <tr>\n",
       "      <th>321</th>\n",
       "      <td>322</td>\n",
       "      <td>E. Matazo</td>\n",
       "      <td>11</td>\n",
       "      <td>Mil.</td>\n",
       "      <td>2002-02-15</td>\n",
       "      <td>BEL</td>\n",
       "    </tr>\n",
       "    <tr>\n",
       "      <th>322</th>\n",
       "      <td>323</td>\n",
       "      <td>E. Millot</td>\n",
       "      <td>11</td>\n",
       "      <td>Mil.</td>\n",
       "      <td>2002-06-17</td>\n",
       "      <td>FRA</td>\n",
       "    </tr>\n",
       "    <tr>\n",
       "      <th>323</th>\n",
       "      <td>324</td>\n",
       "      <td>A. Tchouaméni</td>\n",
       "      <td>11</td>\n",
       "      <td>Mil.</td>\n",
       "      <td>2000-01-27</td>\n",
       "      <td>FRA</td>\n",
       "    </tr>\n",
       "    <tr>\n",
       "      <th>324</th>\n",
       "      <td>325</td>\n",
       "      <td>W. Ben Yedder</td>\n",
       "      <td>11</td>\n",
       "      <td>Att.</td>\n",
       "      <td>1990-08-12</td>\n",
       "      <td>FRA</td>\n",
       "    </tr>\n",
       "    <tr>\n",
       "      <th>325</th>\n",
       "      <td>326</td>\n",
       "      <td>K. Diatta</td>\n",
       "      <td>11</td>\n",
       "      <td>Att.</td>\n",
       "      <td>1999-02-25</td>\n",
       "      <td>SEN</td>\n",
       "    </tr>\n",
       "    <tr>\n",
       "      <th>326</th>\n",
       "      <td>327</td>\n",
       "      <td>W. Geubbels</td>\n",
       "      <td>11</td>\n",
       "      <td>Att.</td>\n",
       "      <td>2001-08-16</td>\n",
       "      <td>FRA</td>\n",
       "    </tr>\n",
       "    <tr>\n",
       "      <th>327</th>\n",
       "      <td>328</td>\n",
       "      <td>S. Jovetic</td>\n",
       "      <td>11</td>\n",
       "      <td>Att.</td>\n",
       "      <td>1989-11-02</td>\n",
       "      <td>MNE</td>\n",
       "    </tr>\n",
       "    <tr>\n",
       "      <th>328</th>\n",
       "      <td>329</td>\n",
       "      <td>G. Martins</td>\n",
       "      <td>11</td>\n",
       "      <td>Att.</td>\n",
       "      <td>1995-05-11</td>\n",
       "      <td>POR</td>\n",
       "    </tr>\n",
       "    <tr>\n",
       "      <th>329</th>\n",
       "      <td>330</td>\n",
       "      <td>P. Pellegri</td>\n",
       "      <td>11</td>\n",
       "      <td>Att.</td>\n",
       "      <td>2001-03-17</td>\n",
       "      <td>ITA</td>\n",
       "    </tr>\n",
       "    <tr>\n",
       "      <th>330</th>\n",
       "      <td>331</td>\n",
       "      <td>K. Volland</td>\n",
       "      <td>11</td>\n",
       "      <td>Att.</td>\n",
       "      <td>1992-07-30</td>\n",
       "      <td>ALL</td>\n",
       "    </tr>\n",
       "    <tr>\n",
       "      <th>331</th>\n",
       "      <td>332</td>\n",
       "      <td>D. Bertaud</td>\n",
       "      <td>12</td>\n",
       "      <td>Gar.</td>\n",
       "      <td>1998-06-06</td>\n",
       "      <td>FRA</td>\n",
       "    </tr>\n",
       "    <tr>\n",
       "      <th>332</th>\n",
       "      <td>333</td>\n",
       "      <td>M. Carvalho</td>\n",
       "      <td>12</td>\n",
       "      <td>Gar.</td>\n",
       "      <td>1999-04-28</td>\n",
       "      <td>FRA</td>\n",
       "    </tr>\n",
       "    <tr>\n",
       "      <th>333</th>\n",
       "      <td>334</td>\n",
       "      <td>J. Omlin</td>\n",
       "      <td>12</td>\n",
       "      <td>Gar.</td>\n",
       "      <td>1994-01-10</td>\n",
       "      <td>SUI</td>\n",
       "    </tr>\n",
       "    <tr>\n",
       "      <th>334</th>\n",
       "      <td>335</td>\n",
       "      <td>D. Congré</td>\n",
       "      <td>12</td>\n",
       "      <td>Déf.</td>\n",
       "      <td>1985-04-05</td>\n",
       "      <td>FRA</td>\n",
       "    </tr>\n",
       "    <tr>\n",
       "      <th>335</th>\n",
       "      <td>336</td>\n",
       "      <td>N. Cozza</td>\n",
       "      <td>12</td>\n",
       "      <td>Déf.</td>\n",
       "      <td>1999-01-08</td>\n",
       "      <td>FRA</td>\n",
       "    </tr>\n",
       "    <tr>\n",
       "      <th>336</th>\n",
       "      <td>337</td>\n",
       "      <td>M. Estève</td>\n",
       "      <td>12</td>\n",
       "      <td>Déf.</td>\n",
       "      <td>2002-05-26</td>\n",
       "      <td>FRA</td>\n",
       "    </tr>\n",
       "    <tr>\n",
       "      <th>337</th>\n",
       "      <td>338</td>\n",
       "      <td>V. Hilton</td>\n",
       "      <td>12</td>\n",
       "      <td>Déf.</td>\n",
       "      <td>1977-09-13</td>\n",
       "      <td>BRE</td>\n",
       "    </tr>\n",
       "    <tr>\n",
       "      <th>338</th>\n",
       "      <td>339</td>\n",
       "      <td>P. Mendes</td>\n",
       "      <td>12</td>\n",
       "      <td>Déf.</td>\n",
       "      <td>1990-10-01</td>\n",
       "      <td>POR</td>\n",
       "    </tr>\n",
       "    <tr>\n",
       "      <th>339</th>\n",
       "      <td>340</td>\n",
       "      <td>A. Oyongo</td>\n",
       "      <td>12</td>\n",
       "      <td>Déf.</td>\n",
       "      <td>1991-06-22</td>\n",
       "      <td>CAM</td>\n",
       "    </tr>\n",
       "    <tr>\n",
       "      <th>340</th>\n",
       "      <td>341</td>\n",
       "      <td>M. Ristic</td>\n",
       "      <td>12</td>\n",
       "      <td>Déf.</td>\n",
       "      <td>1995-10-31</td>\n",
       "      <td>SER</td>\n",
       "    </tr>\n",
       "    <tr>\n",
       "      <th>341</th>\n",
       "      <td>342</td>\n",
       "      <td>A. Souquet</td>\n",
       "      <td>12</td>\n",
       "      <td>Déf.</td>\n",
       "      <td>1992-02-12</td>\n",
       "      <td>FRA</td>\n",
       "    </tr>\n",
       "    <tr>\n",
       "      <th>342</th>\n",
       "      <td>343</td>\n",
       "      <td>M. Suarez</td>\n",
       "      <td>12</td>\n",
       "      <td>Déf.</td>\n",
       "      <td>1996-06-24</td>\n",
       "      <td>URU</td>\n",
       "    </tr>\n",
       "    <tr>\n",
       "      <th>343</th>\n",
       "      <td>344</td>\n",
       "      <td>T. Tamas</td>\n",
       "      <td>12</td>\n",
       "      <td>Déf.</td>\n",
       "      <td>2001-02-20</td>\n",
       "      <td>FRA</td>\n",
       "    </tr>\n",
       "    <tr>\n",
       "      <th>344</th>\n",
       "      <td>345</td>\n",
       "      <td>Thuler</td>\n",
       "      <td>12</td>\n",
       "      <td>Déf.</td>\n",
       "      <td>1999-03-10</td>\n",
       "      <td>BRE</td>\n",
       "    </tr>\n",
       "    <tr>\n",
       "      <th>345</th>\n",
       "      <td>346</td>\n",
       "      <td>C. Vidal</td>\n",
       "      <td>12</td>\n",
       "      <td>Déf.</td>\n",
       "      <td>2000-06-18</td>\n",
       "      <td>FRA</td>\n",
       "    </tr>\n",
       "    <tr>\n",
       "      <th>346</th>\n",
       "      <td>347</td>\n",
       "      <td>S. Benchamma</td>\n",
       "      <td>12</td>\n",
       "      <td>Mil.</td>\n",
       "      <td>2000-06-25</td>\n",
       "      <td>FRA</td>\n",
       "    </tr>\n",
       "    <tr>\n",
       "      <th>347</th>\n",
       "      <td>348</td>\n",
       "      <td>J. Chotard</td>\n",
       "      <td>12</td>\n",
       "      <td>Mil.</td>\n",
       "      <td>2001-09-24</td>\n",
       "      <td>FRA</td>\n",
       "    </tr>\n",
       "    <tr>\n",
       "      <th>348</th>\n",
       "      <td>349</td>\n",
       "      <td>S. Delaye</td>\n",
       "      <td>12</td>\n",
       "      <td>Mil.</td>\n",
       "      <td>2002-04-23</td>\n",
       "      <td>FRA</td>\n",
       "    </tr>\n",
       "    <tr>\n",
       "      <th>349</th>\n",
       "      <td>350</td>\n",
       "      <td>K. Dolly</td>\n",
       "      <td>12</td>\n",
       "      <td>Mil.</td>\n",
       "      <td>1993-01-22</td>\n",
       "      <td>AFS</td>\n",
       "    </tr>\n",
       "    <tr>\n",
       "      <th>350</th>\n",
       "      <td>351</td>\n",
       "      <td>J. Ferri</td>\n",
       "      <td>12</td>\n",
       "      <td>Mil.</td>\n",
       "      <td>1992-03-12</td>\n",
       "      <td>FRA</td>\n",
       "    </tr>\n",
       "    <tr>\n",
       "      <th>351</th>\n",
       "      <td>352</td>\n",
       "      <td>D. Le Tallec</td>\n",
       "      <td>12</td>\n",
       "      <td>Mil.</td>\n",
       "      <td>1990-04-19</td>\n",
       "      <td>FRA</td>\n",
       "    </tr>\n",
       "    <tr>\n",
       "      <th>352</th>\n",
       "      <td>353</td>\n",
       "      <td>F. Mollet</td>\n",
       "      <td>12</td>\n",
       "      <td>Mil.</td>\n",
       "      <td>1991-11-19</td>\n",
       "      <td>FRA</td>\n",
       "    </tr>\n",
       "    <tr>\n",
       "      <th>353</th>\n",
       "      <td>354</td>\n",
       "      <td>J. Sambia</td>\n",
       "      <td>12</td>\n",
       "      <td>Mil.</td>\n",
       "      <td>1996-09-07</td>\n",
       "      <td>FRA</td>\n",
       "    </tr>\n",
       "    <tr>\n",
       "      <th>354</th>\n",
       "      <td>355</td>\n",
       "      <td>T. Savanier</td>\n",
       "      <td>12</td>\n",
       "      <td>Mil.</td>\n",
       "      <td>1991-12-22</td>\n",
       "      <td>FRA</td>\n",
       "    </tr>\n",
       "    <tr>\n",
       "      <th>355</th>\n",
       "      <td>356</td>\n",
       "      <td>S. Wahi</td>\n",
       "      <td>12</td>\n",
       "      <td>Mil.</td>\n",
       "      <td>2003-01-02</td>\n",
       "      <td>FRA</td>\n",
       "    </tr>\n",
       "    <tr>\n",
       "      <th>356</th>\n",
       "      <td>357</td>\n",
       "      <td>Y. Ammour</td>\n",
       "      <td>12</td>\n",
       "      <td>Att.</td>\n",
       "      <td>1999-05-21</td>\n",
       "      <td>FRA</td>\n",
       "    </tr>\n",
       "    <tr>\n",
       "      <th>357</th>\n",
       "      <td>358</td>\n",
       "      <td>A. Ben Achour</td>\n",
       "      <td>12</td>\n",
       "      <td>Att.</td>\n",
       "      <td>2002-02-01</td>\n",
       "      <td>FRA</td>\n",
       "    </tr>\n",
       "    <tr>\n",
       "      <th>358</th>\n",
       "      <td>359</td>\n",
       "      <td>A. Delort</td>\n",
       "      <td>12</td>\n",
       "      <td>Att.</td>\n",
       "      <td>1991-10-09</td>\n",
       "      <td>ALG</td>\n",
       "    </tr>\n",
       "    <tr>\n",
       "      <th>359</th>\n",
       "      <td>360</td>\n",
       "      <td>G. Laborde</td>\n",
       "      <td>12</td>\n",
       "      <td>Att.</td>\n",
       "      <td>1994-05-03</td>\n",
       "      <td>FRA</td>\n",
       "    </tr>\n",
       "    <tr>\n",
       "      <th>360</th>\n",
       "      <td>361</td>\n",
       "      <td>B. Makouana</td>\n",
       "      <td>12</td>\n",
       "      <td>Att.</td>\n",
       "      <td>2002-09-28</td>\n",
       "      <td>CON</td>\n",
       "    </tr>\n",
       "    <tr>\n",
       "      <th>361</th>\n",
       "      <td>362</td>\n",
       "      <td>S. Mavididi</td>\n",
       "      <td>12</td>\n",
       "      <td>Att.</td>\n",
       "      <td>1998-05-31</td>\n",
       "      <td>ANG</td>\n",
       "    </tr>\n",
       "    <tr>\n",
       "      <th>362</th>\n",
       "      <td>363</td>\n",
       "      <td>P. Skuletic</td>\n",
       "      <td>12</td>\n",
       "      <td>Att.</td>\n",
       "      <td>1990-06-29</td>\n",
       "      <td>SER</td>\n",
       "    </tr>\n",
       "    <tr>\n",
       "      <th>363</th>\n",
       "      <td>364</td>\n",
       "      <td>I. Yun</td>\n",
       "      <td>12</td>\n",
       "      <td>Att.</td>\n",
       "      <td>1992-03-07</td>\n",
       "      <td>CDS</td>\n",
       "    </tr>\n",
       "    <tr>\n",
       "      <th>364</th>\n",
       "      <td>365</td>\n",
       "      <td>A. Lafont</td>\n",
       "      <td>13</td>\n",
       "      <td>Gar.</td>\n",
       "      <td>1999-01-23</td>\n",
       "      <td>FRA</td>\n",
       "    </tr>\n",
       "    <tr>\n",
       "      <th>365</th>\n",
       "      <td>366</td>\n",
       "      <td>D. Petric</td>\n",
       "      <td>13</td>\n",
       "      <td>Gar.</td>\n",
       "      <td>1988-05-24</td>\n",
       "      <td>SLN</td>\n",
       "    </tr>\n",
       "    <tr>\n",
       "      <th>366</th>\n",
       "      <td>367</td>\n",
       "      <td>D. Appiah</td>\n",
       "      <td>13</td>\n",
       "      <td>Déf.</td>\n",
       "      <td>1992-06-09</td>\n",
       "      <td>FRA</td>\n",
       "    </tr>\n",
       "    <tr>\n",
       "      <th>367</th>\n",
       "      <td>368</td>\n",
       "      <td>T. Basila</td>\n",
       "      <td>13</td>\n",
       "      <td>Déf.</td>\n",
       "      <td>1999-04-30</td>\n",
       "      <td>FRA</td>\n",
       "    </tr>\n",
       "    <tr>\n",
       "      <th>368</th>\n",
       "      <td>369</td>\n",
       "      <td>J. Castelletto</td>\n",
       "      <td>13</td>\n",
       "      <td>Déf.</td>\n",
       "      <td>1995-01-26</td>\n",
       "      <td>CAM</td>\n",
       "    </tr>\n",
       "    <tr>\n",
       "      <th>369</th>\n",
       "      <td>370</td>\n",
       "      <td>S. Corchia</td>\n",
       "      <td>13</td>\n",
       "      <td>Déf.</td>\n",
       "      <td>1990-11-01</td>\n",
       "      <td>FRA</td>\n",
       "    </tr>\n",
       "    <tr>\n",
       "      <th>370</th>\n",
       "      <td>371</td>\n",
       "      <td>D. Fabio</td>\n",
       "      <td>13</td>\n",
       "      <td>Déf.</td>\n",
       "      <td>1990-07-09</td>\n",
       "      <td>BRE</td>\n",
       "    </tr>\n",
       "    <tr>\n",
       "      <th>371</th>\n",
       "      <td>372</td>\n",
       "      <td>A. Girotto</td>\n",
       "      <td>13</td>\n",
       "      <td>Déf.</td>\n",
       "      <td>1992-02-17</td>\n",
       "      <td>BRE</td>\n",
       "    </tr>\n",
       "    <tr>\n",
       "      <th>372</th>\n",
       "      <td>373</td>\n",
       "      <td>B. Mendy</td>\n",
       "      <td>13</td>\n",
       "      <td>Déf.</td>\n",
       "      <td>2000-01-12</td>\n",
       "      <td>FRA</td>\n",
       "    </tr>\n",
       "    <tr>\n",
       "      <th>373</th>\n",
       "      <td>374</td>\n",
       "      <td>N. Pallois</td>\n",
       "      <td>13</td>\n",
       "      <td>Déf.</td>\n",
       "      <td>1987-09-19</td>\n",
       "      <td>FRA</td>\n",
       "    </tr>\n",
       "    <tr>\n",
       "      <th>374</th>\n",
       "      <td>375</td>\n",
       "      <td>A. Sylla</td>\n",
       "      <td>13</td>\n",
       "      <td>Déf.</td>\n",
       "      <td>2000-04-10</td>\n",
       "      <td>GUI</td>\n",
       "    </tr>\n",
       "    <tr>\n",
       "      <th>375</th>\n",
       "      <td>376</td>\n",
       "      <td>C. Traoré</td>\n",
       "      <td>13</td>\n",
       "      <td>Déf.</td>\n",
       "      <td>1992-01-01</td>\n",
       "      <td>MLI</td>\n",
       "    </tr>\n",
       "    <tr>\n",
       "      <th>376</th>\n",
       "      <td>377</td>\n",
       "      <td>A. Walongwa</td>\n",
       "      <td>13</td>\n",
       "      <td>Déf.</td>\n",
       "      <td>1993-10-15</td>\n",
       "      <td>RDC</td>\n",
       "    </tr>\n",
       "    <tr>\n",
       "      <th>377</th>\n",
       "      <td>378</td>\n",
       "      <td>L. Blas</td>\n",
       "      <td>13</td>\n",
       "      <td>Mil.</td>\n",
       "      <td>1998-12-31</td>\n",
       "      <td>FRA</td>\n",
       "    </tr>\n",
       "    <tr>\n",
       "      <th>378</th>\n",
       "      <td>379</td>\n",
       "      <td>P. Chirivella</td>\n",
       "      <td>13</td>\n",
       "      <td>Mil.</td>\n",
       "      <td>1997-05-23</td>\n",
       "      <td>ESP</td>\n",
       "    </tr>\n",
       "    <tr>\n",
       "      <th>379</th>\n",
       "      <td>380</td>\n",
       "      <td>M. Coco</td>\n",
       "      <td>13</td>\n",
       "      <td>Mil.</td>\n",
       "      <td>1996-06-24</td>\n",
       "      <td>FRA</td>\n",
       "    </tr>\n",
       "    <tr>\n",
       "      <th>380</th>\n",
       "      <td>381</td>\n",
       "      <td>A. Limbombe</td>\n",
       "      <td>13</td>\n",
       "      <td>Mil.</td>\n",
       "      <td>1994-07-15</td>\n",
       "      <td>BEL</td>\n",
       "    </tr>\n",
       "    <tr>\n",
       "      <th>381</th>\n",
       "      <td>382</td>\n",
       "      <td>I. Louza</td>\n",
       "      <td>13</td>\n",
       "      <td>Mil.</td>\n",
       "      <td>1999-05-01</td>\n",
       "      <td>FRA</td>\n",
       "    </tr>\n",
       "    <tr>\n",
       "      <th>382</th>\n",
       "      <td>383</td>\n",
       "      <td>Q. Merlin</td>\n",
       "      <td>13</td>\n",
       "      <td>Mil.</td>\n",
       "      <td>2002-05-16</td>\n",
       "      <td>FRA</td>\n",
       "    </tr>\n",
       "    <tr>\n",
       "      <th>383</th>\n",
       "      <td>384</td>\n",
       "      <td>R. Pereira de Sa</td>\n",
       "      <td>13</td>\n",
       "      <td>Mil.</td>\n",
       "      <td>1996-12-10</td>\n",
       "      <td>FRA</td>\n",
       "    </tr>\n",
       "    <tr>\n",
       "      <th>384</th>\n",
       "      <td>385</td>\n",
       "      <td>A. Touré</td>\n",
       "      <td>13</td>\n",
       "      <td>Mil.</td>\n",
       "      <td>1994-03-03</td>\n",
       "      <td>FRA</td>\n",
       "    </tr>\n",
       "    <tr>\n",
       "      <th>385</th>\n",
       "      <td>386</td>\n",
       "      <td>J. Augustin</td>\n",
       "      <td>13</td>\n",
       "      <td>Att.</td>\n",
       "      <td>1997-06-16</td>\n",
       "      <td>FRA</td>\n",
       "    </tr>\n",
       "    <tr>\n",
       "      <th>386</th>\n",
       "      <td>387</td>\n",
       "      <td>A. Bamba</td>\n",
       "      <td>13</td>\n",
       "      <td>Att.</td>\n",
       "      <td>1994-05-25</td>\n",
       "      <td>FRA</td>\n",
       "    </tr>\n",
       "    <tr>\n",
       "      <th>387</th>\n",
       "      <td>388</td>\n",
       "      <td>K. Coulibaly</td>\n",
       "      <td>13</td>\n",
       "      <td>Att.</td>\n",
       "      <td>1991-08-21</td>\n",
       "      <td>MLI</td>\n",
       "    </tr>\n",
       "    <tr>\n",
       "      <th>388</th>\n",
       "      <td>389</td>\n",
       "      <td>R. Emond</td>\n",
       "      <td>13</td>\n",
       "      <td>Att.</td>\n",
       "      <td>1991-12-05</td>\n",
       "      <td>BEL</td>\n",
       "    </tr>\n",
       "    <tr>\n",
       "      <th>389</th>\n",
       "      <td>390</td>\n",
       "      <td>R. Kolo Muani</td>\n",
       "      <td>13</td>\n",
       "      <td>Att.</td>\n",
       "      <td>1998-12-05</td>\n",
       "      <td>FRA</td>\n",
       "    </tr>\n",
       "    <tr>\n",
       "      <th>390</th>\n",
       "      <td>391</td>\n",
       "      <td>B. Ndilu</td>\n",
       "      <td>13</td>\n",
       "      <td>Att.</td>\n",
       "      <td>2000-07-21</td>\n",
       "      <td>FRA</td>\n",
       "    </tr>\n",
       "    <tr>\n",
       "      <th>391</th>\n",
       "      <td>392</td>\n",
       "      <td>M. Simon</td>\n",
       "      <td>13</td>\n",
       "      <td>Att.</td>\n",
       "      <td>1995-07-12</td>\n",
       "      <td>NGA</td>\n",
       "    </tr>\n",
       "    <tr>\n",
       "      <th>392</th>\n",
       "      <td>393</td>\n",
       "      <td>W. Benitez</td>\n",
       "      <td>14</td>\n",
       "      <td>Gar.</td>\n",
       "      <td>1993-01-19</td>\n",
       "      <td>ARG</td>\n",
       "    </tr>\n",
       "    <tr>\n",
       "      <th>393</th>\n",
       "      <td>394</td>\n",
       "      <td>T. Boulhendi</td>\n",
       "      <td>14</td>\n",
       "      <td>Gar.</td>\n",
       "      <td>2001-04-09</td>\n",
       "      <td>FRA</td>\n",
       "    </tr>\n",
       "    <tr>\n",
       "      <th>394</th>\n",
       "      <td>395</td>\n",
       "      <td>Y. Cardinale</td>\n",
       "      <td>14</td>\n",
       "      <td>Gar.</td>\n",
       "      <td>1994-03-27</td>\n",
       "      <td>FRA</td>\n",
       "    </tr>\n",
       "    <tr>\n",
       "      <th>395</th>\n",
       "      <td>396</td>\n",
       "      <td>J. Rolland</td>\n",
       "      <td>14</td>\n",
       "      <td>Gar.</td>\n",
       "      <td>2001-03-31</td>\n",
       "      <td>FRA</td>\n",
       "    </tr>\n",
       "    <tr>\n",
       "      <th>396</th>\n",
       "      <td>397</td>\n",
       "      <td>Y. Atal</td>\n",
       "      <td>14</td>\n",
       "      <td>Déf.</td>\n",
       "      <td>1996-05-17</td>\n",
       "      <td>ALG</td>\n",
       "    </tr>\n",
       "    <tr>\n",
       "      <th>397</th>\n",
       "      <td>398</td>\n",
       "      <td>R. Bambu</td>\n",
       "      <td>14</td>\n",
       "      <td>Déf.</td>\n",
       "      <td>1997-11-12</td>\n",
       "      <td>BRE</td>\n",
       "    </tr>\n",
       "    <tr>\n",
       "      <th>398</th>\n",
       "      <td>399</td>\n",
       "      <td>N. Crétier</td>\n",
       "      <td>14</td>\n",
       "      <td>Déf.</td>\n",
       "      <td>2001-11-14</td>\n",
       "      <td>FRA</td>\n",
       "    </tr>\n",
       "    <tr>\n",
       "      <th>399</th>\n",
       "      <td>400</td>\n",
       "      <td>F. Daniliuc</td>\n",
       "      <td>14</td>\n",
       "      <td>Déf.</td>\n",
       "      <td>2001-04-27</td>\n",
       "      <td>AUT</td>\n",
       "    </tr>\n",
       "    <tr>\n",
       "      <th>400</th>\n",
       "      <td>401</td>\n",
       "      <td>Dante</td>\n",
       "      <td>14</td>\n",
       "      <td>Déf.</td>\n",
       "      <td>1983-10-18</td>\n",
       "      <td>BRE</td>\n",
       "    </tr>\n",
       "    <tr>\n",
       "      <th>401</th>\n",
       "      <td>402</td>\n",
       "      <td>H. Kamara</td>\n",
       "      <td>14</td>\n",
       "      <td>Déf.</td>\n",
       "      <td>1994-03-05</td>\n",
       "      <td>FRA</td>\n",
       "    </tr>\n",
       "    <tr>\n",
       "      <th>402</th>\n",
       "      <td>403</td>\n",
       "      <td>J. Lotomba</td>\n",
       "      <td>14</td>\n",
       "      <td>Déf.</td>\n",
       "      <td>1998-09-29</td>\n",
       "      <td>SUI</td>\n",
       "    </tr>\n",
       "    <tr>\n",
       "      <th>403</th>\n",
       "      <td>404</td>\n",
       "      <td>S. Nsoki</td>\n",
       "      <td>14</td>\n",
       "      <td>Déf.</td>\n",
       "      <td>1999-04-09</td>\n",
       "      <td>FRA</td>\n",
       "    </tr>\n",
       "    <tr>\n",
       "      <th>404</th>\n",
       "      <td>405</td>\n",
       "      <td>A. Pelmard</td>\n",
       "      <td>14</td>\n",
       "      <td>Déf.</td>\n",
       "      <td>2000-03-12</td>\n",
       "      <td>FRA</td>\n",
       "    </tr>\n",
       "    <tr>\n",
       "      <th>405</th>\n",
       "      <td>406</td>\n",
       "      <td>T. Pionnier-Ber...</td>\n",
       "      <td>14</td>\n",
       "      <td>Déf.</td>\n",
       "      <td>2002-01-21</td>\n",
       "      <td>FRA</td>\n",
       "    </tr>\n",
       "    <tr>\n",
       "      <th>406</th>\n",
       "      <td>407</td>\n",
       "      <td>L. Prso</td>\n",
       "      <td>14</td>\n",
       "      <td>Déf.</td>\n",
       "      <td>2001-01-18</td>\n",
       "      <td>FRA</td>\n",
       "    </tr>\n",
       "    <tr>\n",
       "      <th>407</th>\n",
       "      <td>408</td>\n",
       "      <td>W. Saliba</td>\n",
       "      <td>14</td>\n",
       "      <td>Déf.</td>\n",
       "      <td>2001-03-24</td>\n",
       "      <td>FRA</td>\n",
       "    </tr>\n",
       "    <tr>\n",
       "      <th>408</th>\n",
       "      <td>409</td>\n",
       "      <td>S. Ben Seghir</td>\n",
       "      <td>14</td>\n",
       "      <td>Mil.</td>\n",
       "      <td>2003-02-24</td>\n",
       "      <td>FRA</td>\n",
       "    </tr>\n",
       "    <tr>\n",
       "      <th>409</th>\n",
       "      <td>410</td>\n",
       "      <td>H. Boudaoui</td>\n",
       "      <td>14</td>\n",
       "      <td>Mil.</td>\n",
       "      <td>1999-09-23</td>\n",
       "      <td>ALG</td>\n",
       "    </tr>\n",
       "    <tr>\n",
       "      <th>410</th>\n",
       "      <td>411</td>\n",
       "      <td>S. Kari</td>\n",
       "      <td>14</td>\n",
       "      <td>Mil.</td>\n",
       "      <td>2002-02-07</td>\n",
       "      <td>FRA</td>\n",
       "    </tr>\n",
       "    <tr>\n",
       "      <th>411</th>\n",
       "      <td>412</td>\n",
       "      <td>P. Lees-Melou</td>\n",
       "      <td>14</td>\n",
       "      <td>Mil.</td>\n",
       "      <td>1993-05-25</td>\n",
       "      <td>FRA</td>\n",
       "    </tr>\n",
       "    <tr>\n",
       "      <th>412</th>\n",
       "      <td>413</td>\n",
       "      <td>J. Reine-Adélaïde</td>\n",
       "      <td>14</td>\n",
       "      <td>Mil.</td>\n",
       "      <td>1998-01-17</td>\n",
       "      <td>FRA</td>\n",
       "    </tr>\n",
       "    <tr>\n",
       "      <th>413</th>\n",
       "      <td>414</td>\n",
       "      <td>M. Schneiderlin</td>\n",
       "      <td>14</td>\n",
       "      <td>Mil.</td>\n",
       "      <td>1989-11-08</td>\n",
       "      <td>FRA</td>\n",
       "    </tr>\n",
       "    <tr>\n",
       "      <th>414</th>\n",
       "      <td>415</td>\n",
       "      <td>M. Sellouki</td>\n",
       "      <td>14</td>\n",
       "      <td>Mil.</td>\n",
       "      <td>nan</td>\n",
       "      <td>FRA</td>\n",
       "    </tr>\n",
       "    <tr>\n",
       "      <th>415</th>\n",
       "      <td>416</td>\n",
       "      <td>K. Thuram</td>\n",
       "      <td>14</td>\n",
       "      <td>Mil.</td>\n",
       "      <td>2001-03-26</td>\n",
       "      <td>FRA</td>\n",
       "    </tr>\n",
       "    <tr>\n",
       "      <th>416</th>\n",
       "      <td>417</td>\n",
       "      <td>J. Todibo</td>\n",
       "      <td>14</td>\n",
       "      <td>Mil.</td>\n",
       "      <td>1999-12-30</td>\n",
       "      <td>FRA</td>\n",
       "    </tr>\n",
       "    <tr>\n",
       "      <th>417</th>\n",
       "      <td>418</td>\n",
       "      <td>A. Trouillet</td>\n",
       "      <td>14</td>\n",
       "      <td>Mil.</td>\n",
       "      <td>2000-12-23</td>\n",
       "      <td>FRA</td>\n",
       "    </tr>\n",
       "    <tr>\n",
       "      <th>418</th>\n",
       "      <td>419</td>\n",
       "      <td>P. Wade</td>\n",
       "      <td>14</td>\n",
       "      <td>Mil.</td>\n",
       "      <td>2000-04-17</td>\n",
       "      <td>FRA</td>\n",
       "    </tr>\n",
       "    <tr>\n",
       "      <th>419</th>\n",
       "      <td>420</td>\n",
       "      <td>A. Claude-Maurice</td>\n",
       "      <td>14</td>\n",
       "      <td>Att.</td>\n",
       "      <td>1998-06-06</td>\n",
       "      <td>FRA</td>\n",
       "    </tr>\n",
       "    <tr>\n",
       "      <th>420</th>\n",
       "      <td>421</td>\n",
       "      <td>K. Dolberg</td>\n",
       "      <td>14</td>\n",
       "      <td>Att.</td>\n",
       "      <td>1997-10-06</td>\n",
       "      <td>DAN</td>\n",
       "    </tr>\n",
       "    <tr>\n",
       "      <th>421</th>\n",
       "      <td>422</td>\n",
       "      <td>A. Gouiri</td>\n",
       "      <td>14</td>\n",
       "      <td>Att.</td>\n",
       "      <td>2000-02-16</td>\n",
       "      <td>FRA</td>\n",
       "    </tr>\n",
       "    <tr>\n",
       "      <th>422</th>\n",
       "      <td>423</td>\n",
       "      <td>R. Lopes</td>\n",
       "      <td>14</td>\n",
       "      <td>Att.</td>\n",
       "      <td>1995-12-28</td>\n",
       "      <td>POR</td>\n",
       "    </tr>\n",
       "    <tr>\n",
       "      <th>423</th>\n",
       "      <td>424</td>\n",
       "      <td>M. Maolida</td>\n",
       "      <td>14</td>\n",
       "      <td>Att.</td>\n",
       "      <td>1999-02-14</td>\n",
       "      <td>FRA</td>\n",
       "    </tr>\n",
       "    <tr>\n",
       "      <th>424</th>\n",
       "      <td>425</td>\n",
       "      <td>D. Ndoye</td>\n",
       "      <td>14</td>\n",
       "      <td>Att.</td>\n",
       "      <td>2000-10-25</td>\n",
       "      <td>SUI</td>\n",
       "    </tr>\n",
       "    <tr>\n",
       "      <th>425</th>\n",
       "      <td>426</td>\n",
       "      <td>A. Parsemain</td>\n",
       "      <td>14</td>\n",
       "      <td>Att.</td>\n",
       "      <td>2002-05-17</td>\n",
       "      <td>FRA</td>\n",
       "    </tr>\n",
       "    <tr>\n",
       "      <th>426</th>\n",
       "      <td>427</td>\n",
       "      <td>A. Sotona</td>\n",
       "      <td>14</td>\n",
       "      <td>Att.</td>\n",
       "      <td>2002-12-07</td>\n",
       "      <td>IRL</td>\n",
       "    </tr>\n",
       "    <tr>\n",
       "      <th>427</th>\n",
       "      <td>428</td>\n",
       "      <td>K. Williams</td>\n",
       "      <td>14</td>\n",
       "      <td>Att.</td>\n",
       "      <td>2003-03-12</td>\n",
       "      <td>ANG</td>\n",
       "    </tr>\n",
       "    <tr>\n",
       "      <th>428</th>\n",
       "      <td>429</td>\n",
       "      <td>L. Dias</td>\n",
       "      <td>15</td>\n",
       "      <td>Gar.</td>\n",
       "      <td>1999-05-22</td>\n",
       "      <td>FRA</td>\n",
       "    </tr>\n",
       "    <tr>\n",
       "      <th>429</th>\n",
       "      <td>430</td>\n",
       "      <td>A. Nazih</td>\n",
       "      <td>15</td>\n",
       "      <td>Gar.</td>\n",
       "      <td>2002-01-18</td>\n",
       "      <td>FRA</td>\n",
       "    </tr>\n",
       "    <tr>\n",
       "      <th>430</th>\n",
       "      <td>431</td>\n",
       "      <td>B. Reynet</td>\n",
       "      <td>15</td>\n",
       "      <td>Gar.</td>\n",
       "      <td>1990-10-28</td>\n",
       "      <td>FRA</td>\n",
       "    </tr>\n",
       "    <tr>\n",
       "      <th>431</th>\n",
       "      <td>432</td>\n",
       "      <td>S. Alakouch</td>\n",
       "      <td>15</td>\n",
       "      <td>Déf.</td>\n",
       "      <td>1998-07-29</td>\n",
       "      <td>FRA</td>\n",
       "    </tr>\n",
       "    <tr>\n",
       "      <th>432</th>\n",
       "      <td>433</td>\n",
       "      <td>A. Briançon</td>\n",
       "      <td>15</td>\n",
       "      <td>Déf.</td>\n",
       "      <td>1994-11-29</td>\n",
       "      <td>FRA</td>\n",
       "    </tr>\n",
       "    <tr>\n",
       "      <th>433</th>\n",
       "      <td>434</td>\n",
       "      <td>P. Burner</td>\n",
       "      <td>15</td>\n",
       "      <td>Déf.</td>\n",
       "      <td>1996-04-11</td>\n",
       "      <td>FRA</td>\n",
       "    </tr>\n",
       "    <tr>\n",
       "      <th>434</th>\n",
       "      <td>435</td>\n",
       "      <td>K. Guessoum</td>\n",
       "      <td>15</td>\n",
       "      <td>Déf.</td>\n",
       "      <td>1999-02-05</td>\n",
       "      <td>FRA</td>\n",
       "    </tr>\n",
       "    <tr>\n",
       "      <th>435</th>\n",
       "      <td>436</td>\n",
       "      <td>L. Landre</td>\n",
       "      <td>15</td>\n",
       "      <td>Déf.</td>\n",
       "      <td>1992-05-05</td>\n",
       "      <td>FRA</td>\n",
       "    </tr>\n",
       "    <tr>\n",
       "      <th>436</th>\n",
       "      <td>437</td>\n",
       "      <td>A. Malanda</td>\n",
       "      <td>15</td>\n",
       "      <td>Déf.</td>\n",
       "      <td>2001-10-29</td>\n",
       "      <td>FRA</td>\n",
       "    </tr>\n",
       "    <tr>\n",
       "      <th>437</th>\n",
       "      <td>438</td>\n",
       "      <td>P. Martinez</td>\n",
       "      <td>15</td>\n",
       "      <td>Déf.</td>\n",
       "      <td>1989-02-21</td>\n",
       "      <td>FRA</td>\n",
       "    </tr>\n",
       "    <tr>\n",
       "      <th>438</th>\n",
       "      <td>439</td>\n",
       "      <td>B. Meling</td>\n",
       "      <td>15</td>\n",
       "      <td>Déf.</td>\n",
       "      <td>1994-12-17</td>\n",
       "      <td>NOR</td>\n",
       "    </tr>\n",
       "    <tr>\n",
       "      <th>439</th>\n",
       "      <td>440</td>\n",
       "      <td>F. Miguel</td>\n",
       "      <td>15</td>\n",
       "      <td>Déf.</td>\n",
       "      <td>1996-09-01</td>\n",
       "      <td>FRA</td>\n",
       "    </tr>\n",
       "    <tr>\n",
       "      <th>440</th>\n",
       "      <td>441</td>\n",
       "      <td>G. Paquiez</td>\n",
       "      <td>15</td>\n",
       "      <td>Déf.</td>\n",
       "      <td>1994-02-15</td>\n",
       "      <td>FRA</td>\n",
       "    </tr>\n",
       "    <tr>\n",
       "      <th>441</th>\n",
       "      <td>442</td>\n",
       "      <td>R. Ripart</td>\n",
       "      <td>15</td>\n",
       "      <td>Déf.</td>\n",
       "      <td>1993-03-14</td>\n",
       "      <td>FRA</td>\n",
       "    </tr>\n",
       "    <tr>\n",
       "      <th>442</th>\n",
       "      <td>443</td>\n",
       "      <td>N. Ueda</td>\n",
       "      <td>15</td>\n",
       "      <td>Déf.</td>\n",
       "      <td>1994-10-24</td>\n",
       "      <td>JAP</td>\n",
       "    </tr>\n",
       "    <tr>\n",
       "      <th>443</th>\n",
       "      <td>444</td>\n",
       "      <td>M. Ahlinvi</td>\n",
       "      <td>15</td>\n",
       "      <td>Mil.</td>\n",
       "      <td>1999-07-02</td>\n",
       "      <td>FRA</td>\n",
       "    </tr>\n",
       "    <tr>\n",
       "      <th>444</th>\n",
       "      <td>445</td>\n",
       "      <td>Y. Benrahou</td>\n",
       "      <td>15</td>\n",
       "      <td>Mil.</td>\n",
       "      <td>1999-01-24</td>\n",
       "      <td>FRA</td>\n",
       "    </tr>\n",
       "    <tr>\n",
       "      <th>445</th>\n",
       "      <td>446</td>\n",
       "      <td>L. Buades</td>\n",
       "      <td>15</td>\n",
       "      <td>Mil.</td>\n",
       "      <td>1997-12-28</td>\n",
       "      <td>FRA</td>\n",
       "    </tr>\n",
       "    <tr>\n",
       "      <th>446</th>\n",
       "      <td>447</td>\n",
       "      <td>A. Cubas</td>\n",
       "      <td>15</td>\n",
       "      <td>Mil.</td>\n",
       "      <td>1996-05-22</td>\n",
       "      <td>PAR</td>\n",
       "    </tr>\n",
       "    <tr>\n",
       "      <th>447</th>\n",
       "      <td>448</td>\n",
       "      <td>L. Deaux</td>\n",
       "      <td>15</td>\n",
       "      <td>Mil.</td>\n",
       "      <td>1988-12-26</td>\n",
       "      <td>FRA</td>\n",
       "    </tr>\n",
       "    <tr>\n",
       "      <th>448</th>\n",
       "      <td>449</td>\n",
       "      <td>H. Duljevic</td>\n",
       "      <td>15</td>\n",
       "      <td>Mil.</td>\n",
       "      <td>1993-11-16</td>\n",
       "      <td>BOS</td>\n",
       "    </tr>\n",
       "    <tr>\n",
       "      <th>449</th>\n",
       "      <td>450</td>\n",
       "      <td>N. Eliasson</td>\n",
       "      <td>15</td>\n",
       "      <td>Mil.</td>\n",
       "      <td>1995-12-07</td>\n",
       "      <td>SUE</td>\n",
       "    </tr>\n",
       "    <tr>\n",
       "      <th>450</th>\n",
       "      <td>451</td>\n",
       "      <td>Z. Ferhat</td>\n",
       "      <td>15</td>\n",
       "      <td>Mil.</td>\n",
       "      <td>1993-03-01</td>\n",
       "      <td>ALG</td>\n",
       "    </tr>\n",
       "    <tr>\n",
       "      <th>451</th>\n",
       "      <td>452</td>\n",
       "      <td>L. Fomba</td>\n",
       "      <td>15</td>\n",
       "      <td>Mil.</td>\n",
       "      <td>1998-01-26</td>\n",
       "      <td>FRA</td>\n",
       "    </tr>\n",
       "    <tr>\n",
       "      <th>452</th>\n",
       "      <td>453</td>\n",
       "      <td>S. Sarr</td>\n",
       "      <td>15</td>\n",
       "      <td>Mil.</td>\n",
       "      <td>1996-06-05</td>\n",
       "      <td>SEN</td>\n",
       "    </tr>\n",
       "    <tr>\n",
       "      <th>453</th>\n",
       "      <td>454</td>\n",
       "      <td>A. Valerio</td>\n",
       "      <td>15</td>\n",
       "      <td>Mil.</td>\n",
       "      <td>1999-12-11</td>\n",
       "      <td>FRA</td>\n",
       "    </tr>\n",
       "    <tr>\n",
       "      <th>454</th>\n",
       "      <td>455</td>\n",
       "      <td>K. Aribi</td>\n",
       "      <td>15</td>\n",
       "      <td>Att.</td>\n",
       "      <td>1994-06-24</td>\n",
       "      <td>ALG</td>\n",
       "    </tr>\n",
       "    <tr>\n",
       "      <th>455</th>\n",
       "      <td>456</td>\n",
       "      <td>S. Ben Amar</td>\n",
       "      <td>15</td>\n",
       "      <td>Att.</td>\n",
       "      <td>1998-03-02</td>\n",
       "      <td>FRA</td>\n",
       "    </tr>\n",
       "    <tr>\n",
       "      <th>456</th>\n",
       "      <td>457</td>\n",
       "      <td>N. Chadli</td>\n",
       "      <td>15</td>\n",
       "      <td>Att.</td>\n",
       "      <td>2001-07-28</td>\n",
       "      <td>FRA</td>\n",
       "    </tr>\n",
       "    <tr>\n",
       "      <th>457</th>\n",
       "      <td>458</td>\n",
       "      <td>C. Depres</td>\n",
       "      <td>15</td>\n",
       "      <td>Att.</td>\n",
       "      <td>1994-11-25</td>\n",
       "      <td>FRA</td>\n",
       "    </tr>\n",
       "    <tr>\n",
       "      <th>458</th>\n",
       "      <td>459</td>\n",
       "      <td>M. Doucouré</td>\n",
       "      <td>15</td>\n",
       "      <td>Att.</td>\n",
       "      <td>2000-05-22</td>\n",
       "      <td>FRA</td>\n",
       "    </tr>\n",
       "    <tr>\n",
       "      <th>459</th>\n",
       "      <td>460</td>\n",
       "      <td>M. Koné</td>\n",
       "      <td>15</td>\n",
       "      <td>Att.</td>\n",
       "      <td>1997-12-30</td>\n",
       "      <td>SEN</td>\n",
       "    </tr>\n",
       "    <tr>\n",
       "      <th>460</th>\n",
       "      <td>461</td>\n",
       "      <td>M. Majouga</td>\n",
       "      <td>15</td>\n",
       "      <td>Att.</td>\n",
       "      <td>2001-05-09</td>\n",
       "      <td>FRA</td>\n",
       "    </tr>\n",
       "    <tr>\n",
       "      <th>461</th>\n",
       "      <td>462</td>\n",
       "      <td>N. Roux</td>\n",
       "      <td>15</td>\n",
       "      <td>Att.</td>\n",
       "      <td>1988-03-01</td>\n",
       "      <td>FRA</td>\n",
       "    </tr>\n",
       "    <tr>\n",
       "      <th>462</th>\n",
       "      <td>463</td>\n",
       "      <td>D. Franchi</td>\n",
       "      <td>16</td>\n",
       "      <td>Gar.</td>\n",
       "      <td>2002-10-22</td>\n",
       "      <td>ITA</td>\n",
       "    </tr>\n",
       "    <tr>\n",
       "      <th>463</th>\n",
       "      <td>464</td>\n",
       "      <td>A. Letellier</td>\n",
       "      <td>16</td>\n",
       "      <td>Gar.</td>\n",
       "      <td>1990-12-11</td>\n",
       "      <td>FRA</td>\n",
       "    </tr>\n",
       "    <tr>\n",
       "      <th>464</th>\n",
       "      <td>465</td>\n",
       "      <td>K. Navas</td>\n",
       "      <td>16</td>\n",
       "      <td>Gar.</td>\n",
       "      <td>1986-12-15</td>\n",
       "      <td>CRI</td>\n",
       "    </tr>\n",
       "    <tr>\n",
       "      <th>465</th>\n",
       "      <td>466</td>\n",
       "      <td>M. Randriamamy</td>\n",
       "      <td>16</td>\n",
       "      <td>Gar.</td>\n",
       "      <td>2003-04-23</td>\n",
       "      <td>MAD</td>\n",
       "    </tr>\n",
       "    <tr>\n",
       "      <th>466</th>\n",
       "      <td>467</td>\n",
       "      <td>S. Rico</td>\n",
       "      <td>16</td>\n",
       "      <td>Gar.</td>\n",
       "      <td>1993-09-01</td>\n",
       "      <td>ESP</td>\n",
       "    </tr>\n",
       "    <tr>\n",
       "      <th>467</th>\n",
       "      <td>468</td>\n",
       "      <td>Y. Saidani</td>\n",
       "      <td>16</td>\n",
       "      <td>Gar.</td>\n",
       "      <td>2001-08-20</td>\n",
       "      <td>FRA</td>\n",
       "    </tr>\n",
       "    <tr>\n",
       "      <th>468</th>\n",
       "      <td>469</td>\n",
       "      <td>M. Bakker</td>\n",
       "      <td>16</td>\n",
       "      <td>Déf.</td>\n",
       "      <td>2000-06-20</td>\n",
       "      <td>HOL</td>\n",
       "    </tr>\n",
       "    <tr>\n",
       "      <th>469</th>\n",
       "      <td>470</td>\n",
       "      <td>J. Bernat</td>\n",
       "      <td>16</td>\n",
       "      <td>Déf.</td>\n",
       "      <td>1993-03-01</td>\n",
       "      <td>ESP</td>\n",
       "    </tr>\n",
       "    <tr>\n",
       "      <th>470</th>\n",
       "      <td>471</td>\n",
       "      <td>C. Dagba</td>\n",
       "      <td>16</td>\n",
       "      <td>Déf.</td>\n",
       "      <td>1998-09-09</td>\n",
       "      <td>FRA</td>\n",
       "    </tr>\n",
       "    <tr>\n",
       "      <th>471</th>\n",
       "      <td>472</td>\n",
       "      <td>A. Diallo</td>\n",
       "      <td>16</td>\n",
       "      <td>Déf.</td>\n",
       "      <td>1996-05-04</td>\n",
       "      <td>SEN</td>\n",
       "    </tr>\n",
       "    <tr>\n",
       "      <th>472</th>\n",
       "      <td>473</td>\n",
       "      <td>A. Florenzi</td>\n",
       "      <td>16</td>\n",
       "      <td>Déf.</td>\n",
       "      <td>1991-03-11</td>\n",
       "      <td>ITA</td>\n",
       "    </tr>\n",
       "    <tr>\n",
       "      <th>473</th>\n",
       "      <td>474</td>\n",
       "      <td>T. Kehrer</td>\n",
       "      <td>16</td>\n",
       "      <td>Déf.</td>\n",
       "      <td>1996-09-21</td>\n",
       "      <td>ALL</td>\n",
       "    </tr>\n",
       "    <tr>\n",
       "      <th>474</th>\n",
       "      <td>475</td>\n",
       "      <td>P. Kimpembe</td>\n",
       "      <td>16</td>\n",
       "      <td>Déf.</td>\n",
       "      <td>1995-08-13</td>\n",
       "      <td>FRA</td>\n",
       "    </tr>\n",
       "    <tr>\n",
       "      <th>475</th>\n",
       "      <td>476</td>\n",
       "      <td>L. Kurzawa</td>\n",
       "      <td>16</td>\n",
       "      <td>Déf.</td>\n",
       "      <td>1992-09-04</td>\n",
       "      <td>FRA</td>\n",
       "    </tr>\n",
       "    <tr>\n",
       "      <th>476</th>\n",
       "      <td>477</td>\n",
       "      <td>Marquinhos</td>\n",
       "      <td>16</td>\n",
       "      <td>Déf.</td>\n",
       "      <td>1994-05-14</td>\n",
       "      <td>BRE</td>\n",
       "    </tr>\n",
       "    <tr>\n",
       "      <th>477</th>\n",
       "      <td>478</td>\n",
       "      <td>T. Pembélé</td>\n",
       "      <td>16</td>\n",
       "      <td>Déf.</td>\n",
       "      <td>2002-09-09</td>\n",
       "      <td>FRA</td>\n",
       "    </tr>\n",
       "    <tr>\n",
       "      <th>478</th>\n",
       "      <td>479</td>\n",
       "      <td>A. Di Maria</td>\n",
       "      <td>16</td>\n",
       "      <td>Mil.</td>\n",
       "      <td>1988-02-14</td>\n",
       "      <td>ARG</td>\n",
       "    </tr>\n",
       "    <tr>\n",
       "      <th>479</th>\n",
       "      <td>480</td>\n",
       "      <td>J. Draxler</td>\n",
       "      <td>16</td>\n",
       "      <td>Mil.</td>\n",
       "      <td>1993-09-20</td>\n",
       "      <td>ALL</td>\n",
       "    </tr>\n",
       "    <tr>\n",
       "      <th>480</th>\n",
       "      <td>481</td>\n",
       "      <td>I. Gharbi</td>\n",
       "      <td>16</td>\n",
       "      <td>Mil.</td>\n",
       "      <td>2004-04-10</td>\n",
       "      <td>FRA</td>\n",
       "    </tr>\n",
       "    <tr>\n",
       "      <th>481</th>\n",
       "      <td>482</td>\n",
       "      <td>I. Gueye</td>\n",
       "      <td>16</td>\n",
       "      <td>Mil.</td>\n",
       "      <td>1989-09-26</td>\n",
       "      <td>SEN</td>\n",
       "    </tr>\n",
       "    <tr>\n",
       "      <th>482</th>\n",
       "      <td>483</td>\n",
       "      <td>A. Herrera</td>\n",
       "      <td>16</td>\n",
       "      <td>Mil.</td>\n",
       "      <td>1989-08-14</td>\n",
       "      <td>ESP</td>\n",
       "    </tr>\n",
       "    <tr>\n",
       "      <th>483</th>\n",
       "      <td>484</td>\n",
       "      <td>A. Kamara</td>\n",
       "      <td>16</td>\n",
       "      <td>Mil.</td>\n",
       "      <td>2004-11-06</td>\n",
       "      <td>GUI</td>\n",
       "    </tr>\n",
       "    <tr>\n",
       "      <th>484</th>\n",
       "      <td>485</td>\n",
       "      <td>M. Kapo</td>\n",
       "      <td>16</td>\n",
       "      <td>Mil.</td>\n",
       "      <td>2001-01-19</td>\n",
       "      <td>FRA</td>\n",
       "    </tr>\n",
       "    <tr>\n",
       "      <th>485</th>\n",
       "      <td>486</td>\n",
       "      <td>E. Michut</td>\n",
       "      <td>16</td>\n",
       "      <td>Mil.</td>\n",
       "      <td>2003-03-04</td>\n",
       "      <td>FRA</td>\n",
       "    </tr>\n",
       "    <tr>\n",
       "      <th>486</th>\n",
       "      <td>487</td>\n",
       "      <td>L. Paredes</td>\n",
       "      <td>16</td>\n",
       "      <td>Mil.</td>\n",
       "      <td>1994-06-29</td>\n",
       "      <td>ARG</td>\n",
       "    </tr>\n",
       "    <tr>\n",
       "      <th>487</th>\n",
       "      <td>488</td>\n",
       "      <td>D. Pereira</td>\n",
       "      <td>16</td>\n",
       "      <td>Mil.</td>\n",
       "      <td>1991-09-09</td>\n",
       "      <td>POR</td>\n",
       "    </tr>\n",
       "    <tr>\n",
       "      <th>488</th>\n",
       "      <td>489</td>\n",
       "      <td>Rafinha</td>\n",
       "      <td>16</td>\n",
       "      <td>Mil.</td>\n",
       "      <td>1993-02-12</td>\n",
       "      <td>BRE</td>\n",
       "    </tr>\n",
       "    <tr>\n",
       "      <th>489</th>\n",
       "      <td>490</td>\n",
       "      <td>K. Ruiz-Atil</td>\n",
       "      <td>16</td>\n",
       "      <td>Mil.</td>\n",
       "      <td>2002-08-26</td>\n",
       "      <td>FRA</td>\n",
       "    </tr>\n",
       "    <tr>\n",
       "      <th>490</th>\n",
       "      <td>491</td>\n",
       "      <td>P. Sarabia</td>\n",
       "      <td>16</td>\n",
       "      <td>Mil.</td>\n",
       "      <td>1992-05-11</td>\n",
       "      <td>ESP</td>\n",
       "    </tr>\n",
       "    <tr>\n",
       "      <th>491</th>\n",
       "      <td>492</td>\n",
       "      <td>X. Simons</td>\n",
       "      <td>16</td>\n",
       "      <td>Mil.</td>\n",
       "      <td>2003-04-21</td>\n",
       "      <td>HOL</td>\n",
       "    </tr>\n",
       "    <tr>\n",
       "      <th>492</th>\n",
       "      <td>493</td>\n",
       "      <td>M. Verratti</td>\n",
       "      <td>16</td>\n",
       "      <td>Mil.</td>\n",
       "      <td>1992-11-05</td>\n",
       "      <td>ITA</td>\n",
       "    </tr>\n",
       "    <tr>\n",
       "      <th>493</th>\n",
       "      <td>494</td>\n",
       "      <td>M. Icardi</td>\n",
       "      <td>16</td>\n",
       "      <td>Att.</td>\n",
       "      <td>1993-02-19</td>\n",
       "      <td>ARG</td>\n",
       "    </tr>\n",
       "    <tr>\n",
       "      <th>494</th>\n",
       "      <td>495</td>\n",
       "      <td>M. Kean</td>\n",
       "      <td>16</td>\n",
       "      <td>Att.</td>\n",
       "      <td>2000-02-28</td>\n",
       "      <td>ITA</td>\n",
       "    </tr>\n",
       "    <tr>\n",
       "      <th>495</th>\n",
       "      <td>496</td>\n",
       "      <td>K. Mbappé</td>\n",
       "      <td>16</td>\n",
       "      <td>Att.</td>\n",
       "      <td>1998-12-20</td>\n",
       "      <td>FRA</td>\n",
       "    </tr>\n",
       "    <tr>\n",
       "      <th>496</th>\n",
       "      <td>497</td>\n",
       "      <td>K. Nagera</td>\n",
       "      <td>16</td>\n",
       "      <td>Att.</td>\n",
       "      <td>2002-02-21</td>\n",
       "      <td>FRA</td>\n",
       "    </tr>\n",
       "    <tr>\n",
       "      <th>497</th>\n",
       "      <td>498</td>\n",
       "      <td>Neymar</td>\n",
       "      <td>16</td>\n",
       "      <td>Att.</td>\n",
       "      <td>1992-02-05</td>\n",
       "      <td>BRE</td>\n",
       "    </tr>\n",
       "    <tr>\n",
       "      <th>498</th>\n",
       "      <td>499</td>\n",
       "      <td>Y. Diouf</td>\n",
       "      <td>17</td>\n",
       "      <td>Gar.</td>\n",
       "      <td>1999-11-16</td>\n",
       "      <td>FRA</td>\n",
       "    </tr>\n",
       "    <tr>\n",
       "      <th>499</th>\n",
       "      <td>500</td>\n",
       "      <td>D. Ndiaye</td>\n",
       "      <td>17</td>\n",
       "      <td>Gar.</td>\n",
       "      <td>1999-04-04</td>\n",
       "      <td>FRA</td>\n",
       "    </tr>\n",
       "    <tr>\n",
       "      <th>500</th>\n",
       "      <td>501</td>\n",
       "      <td>L. Pelletier</td>\n",
       "      <td>17</td>\n",
       "      <td>Gar.</td>\n",
       "      <td>2000-02-03</td>\n",
       "      <td>FRA</td>\n",
       "    </tr>\n",
       "    <tr>\n",
       "      <th>501</th>\n",
       "      <td>502</td>\n",
       "      <td>P. Rajkovic</td>\n",
       "      <td>17</td>\n",
       "      <td>Gar.</td>\n",
       "      <td>1995-10-31</td>\n",
       "      <td>SER</td>\n",
       "    </tr>\n",
       "    <tr>\n",
       "      <th>502</th>\n",
       "      <td>503</td>\n",
       "      <td>Y. Abdelhamid</td>\n",
       "      <td>17</td>\n",
       "      <td>Déf.</td>\n",
       "      <td>1987-09-28</td>\n",
       "      <td>MAR</td>\n",
       "    </tr>\n",
       "    <tr>\n",
       "      <th>503</th>\n",
       "      <td>504</td>\n",
       "      <td>T. De Smet</td>\n",
       "      <td>17</td>\n",
       "      <td>Déf.</td>\n",
       "      <td>1998-06-05</td>\n",
       "      <td>BEL</td>\n",
       "    </tr>\n",
       "    <tr>\n",
       "      <th>504</th>\n",
       "      <td>505</td>\n",
       "      <td>F. Doucouré</td>\n",
       "      <td>17</td>\n",
       "      <td>Déf.</td>\n",
       "      <td>2001-02-03</td>\n",
       "      <td>MLI</td>\n",
       "    </tr>\n",
       "    <tr>\n",
       "      <th>505</th>\n",
       "      <td>506</td>\n",
       "      <td>W. Faes</td>\n",
       "      <td>17</td>\n",
       "      <td>Déf.</td>\n",
       "      <td>1998-04-03</td>\n",
       "      <td>BEL</td>\n",
       "    </tr>\n",
       "    <tr>\n",
       "      <th>506</th>\n",
       "      <td>507</td>\n",
       "      <td>T. Foket</td>\n",
       "      <td>17</td>\n",
       "      <td>Déf.</td>\n",
       "      <td>1994-09-25</td>\n",
       "      <td>BEL</td>\n",
       "    </tr>\n",
       "    <tr>\n",
       "      <th>507</th>\n",
       "      <td>508</td>\n",
       "      <td>G. Konan</td>\n",
       "      <td>17</td>\n",
       "      <td>Déf.</td>\n",
       "      <td>1995-12-27</td>\n",
       "      <td>CIV</td>\n",
       "    </tr>\n",
       "    <tr>\n",
       "      <th>508</th>\n",
       "      <td>509</td>\n",
       "      <td>B. Locko</td>\n",
       "      <td>17</td>\n",
       "      <td>Déf.</td>\n",
       "      <td>2002-05-06</td>\n",
       "      <td>FRA</td>\n",
       "    </tr>\n",
       "    <tr>\n",
       "      <th>509</th>\n",
       "      <td>510</td>\n",
       "      <td>D. Maresic</td>\n",
       "      <td>17</td>\n",
       "      <td>Déf.</td>\n",
       "      <td>1999-09-29</td>\n",
       "      <td>AUT</td>\n",
       "    </tr>\n",
       "    <tr>\n",
       "      <th>510</th>\n",
       "      <td>511</td>\n",
       "      <td>P. Mbow</td>\n",
       "      <td>17</td>\n",
       "      <td>Déf.</td>\n",
       "      <td>1992-02-07</td>\n",
       "      <td>SEN</td>\n",
       "    </tr>\n",
       "    <tr>\n",
       "      <th>511</th>\n",
       "      <td>512</td>\n",
       "      <td>E. Valentim</td>\n",
       "      <td>17</td>\n",
       "      <td>Déf.</td>\n",
       "      <td>2000-09-11</td>\n",
       "      <td>FRA</td>\n",
       "    </tr>\n",
       "    <tr>\n",
       "      <th>512</th>\n",
       "      <td>513</td>\n",
       "      <td>V. Berisha</td>\n",
       "      <td>17</td>\n",
       "      <td>Mil.</td>\n",
       "      <td>1993-02-07</td>\n",
       "      <td>KOS</td>\n",
       "    </tr>\n",
       "    <tr>\n",
       "      <th>513</th>\n",
       "      <td>514</td>\n",
       "      <td>M. Cafaro</td>\n",
       "      <td>17</td>\n",
       "      <td>Mil.</td>\n",
       "      <td>1997-03-25</td>\n",
       "      <td>FRA</td>\n",
       "    </tr>\n",
       "    <tr>\n",
       "      <th>514</th>\n",
       "      <td>515</td>\n",
       "      <td>M. Cassama</td>\n",
       "      <td>17</td>\n",
       "      <td>Mil.</td>\n",
       "      <td>1998-02-16</td>\n",
       "      <td>GUB</td>\n",
       "    </tr>\n",
       "    <tr>\n",
       "      <th>515</th>\n",
       "      <td>516</td>\n",
       "      <td>X. Chavalerin</td>\n",
       "      <td>17</td>\n",
       "      <td>Mil.</td>\n",
       "      <td>1991-03-07</td>\n",
       "      <td>FRA</td>\n",
       "    </tr>\n",
       "    <tr>\n",
       "      <th>516</th>\n",
       "      <td>517</td>\n",
       "      <td>M. Doumbia</td>\n",
       "      <td>17</td>\n",
       "      <td>Mil.</td>\n",
       "      <td>1994-08-15</td>\n",
       "      <td>MLI</td>\n",
       "    </tr>\n",
       "    <tr>\n",
       "      <th>517</th>\n",
       "      <td>518</td>\n",
       "      <td>M. Drammeh</td>\n",
       "      <td>17</td>\n",
       "      <td>Mil.</td>\n",
       "      <td>1999-05-15</td>\n",
       "      <td>FRA</td>\n",
       "    </tr>\n",
       "    <tr>\n",
       "      <th>518</th>\n",
       "      <td>519</td>\n",
       "      <td>D. Kutesa</td>\n",
       "      <td>17</td>\n",
       "      <td>Mil.</td>\n",
       "      <td>1997-12-06</td>\n",
       "      <td>SUI</td>\n",
       "    </tr>\n",
       "    <tr>\n",
       "      <th>519</th>\n",
       "      <td>520</td>\n",
       "      <td>D. Lopy</td>\n",
       "      <td>17</td>\n",
       "      <td>Mil.</td>\n",
       "      <td>2002-02-02</td>\n",
       "      <td>SEN</td>\n",
       "    </tr>\n",
       "    <tr>\n",
       "      <th>520</th>\n",
       "      <td>521</td>\n",
       "      <td>M. Munetsi</td>\n",
       "      <td>17</td>\n",
       "      <td>Mil.</td>\n",
       "      <td>1996-06-22</td>\n",
       "      <td>ZIM</td>\n",
       "    </tr>\n",
       "    <tr>\n",
       "      <th>521</th>\n",
       "      <td>522</td>\n",
       "      <td>M. Sakava</td>\n",
       "      <td>17</td>\n",
       "      <td>Mil.</td>\n",
       "      <td>2000-12-26</td>\n",
       "      <td>CAM</td>\n",
       "    </tr>\n",
       "    <tr>\n",
       "      <th>522</th>\n",
       "      <td>523</td>\n",
       "      <td>A. Zeneli</td>\n",
       "      <td>17</td>\n",
       "      <td>Mil.</td>\n",
       "      <td>1995-02-25</td>\n",
       "      <td>KOS</td>\n",
       "    </tr>\n",
       "    <tr>\n",
       "      <th>523</th>\n",
       "      <td>524</td>\n",
       "      <td>B. Dia</td>\n",
       "      <td>17</td>\n",
       "      <td>Att.</td>\n",
       "      <td>1996-11-16</td>\n",
       "      <td>SEN</td>\n",
       "    </tr>\n",
       "    <tr>\n",
       "      <th>524</th>\n",
       "      <td>525</td>\n",
       "      <td>H. Ekitike</td>\n",
       "      <td>17</td>\n",
       "      <td>Att.</td>\n",
       "      <td>2002-06-20</td>\n",
       "      <td>FRA</td>\n",
       "    </tr>\n",
       "    <tr>\n",
       "      <th>525</th>\n",
       "      <td>526</td>\n",
       "      <td>A. Flips</td>\n",
       "      <td>17</td>\n",
       "      <td>Att.</td>\n",
       "      <td>2000-01-18</td>\n",
       "      <td>FRA</td>\n",
       "    </tr>\n",
       "    <tr>\n",
       "      <th>526</th>\n",
       "      <td>527</td>\n",
       "      <td>N. Mbuku</td>\n",
       "      <td>17</td>\n",
       "      <td>Att.</td>\n",
       "      <td>2002-03-16</td>\n",
       "      <td>FRA</td>\n",
       "    </tr>\n",
       "    <tr>\n",
       "      <th>527</th>\n",
       "      <td>528</td>\n",
       "      <td>K. Sierhuis</td>\n",
       "      <td>17</td>\n",
       "      <td>Att.</td>\n",
       "      <td>1998-04-27</td>\n",
       "      <td>HOL</td>\n",
       "    </tr>\n",
       "    <tr>\n",
       "      <th>528</th>\n",
       "      <td>529</td>\n",
       "      <td>E. Touré</td>\n",
       "      <td>17</td>\n",
       "      <td>Att.</td>\n",
       "      <td>2001-10-03</td>\n",
       "      <td>MLI</td>\n",
       "    </tr>\n",
       "    <tr>\n",
       "      <th>529</th>\n",
       "      <td>530</td>\n",
       "      <td>P. Bonet</td>\n",
       "      <td>18</td>\n",
       "      <td>Gar.</td>\n",
       "      <td>2003-02-13</td>\n",
       "      <td>FRA</td>\n",
       "    </tr>\n",
       "    <tr>\n",
       "      <th>530</th>\n",
       "      <td>531</td>\n",
       "      <td>A. Gomis</td>\n",
       "      <td>18</td>\n",
       "      <td>Gar.</td>\n",
       "      <td>1993-09-05</td>\n",
       "      <td>SEN</td>\n",
       "    </tr>\n",
       "    <tr>\n",
       "      <th>531</th>\n",
       "      <td>532</td>\n",
       "      <td>R. Salin</td>\n",
       "      <td>18</td>\n",
       "      <td>Gar.</td>\n",
       "      <td>1984-07-29</td>\n",
       "      <td>FRA</td>\n",
       "    </tr>\n",
       "    <tr>\n",
       "      <th>532</th>\n",
       "      <td>533</td>\n",
       "      <td>N. Aguerd</td>\n",
       "      <td>18</td>\n",
       "      <td>Déf.</td>\n",
       "      <td>1996-03-30</td>\n",
       "      <td>MAR</td>\n",
       "    </tr>\n",
       "    <tr>\n",
       "      <th>533</th>\n",
       "      <td>534</td>\n",
       "      <td>D. Da Silva</td>\n",
       "      <td>18</td>\n",
       "      <td>Déf.</td>\n",
       "      <td>1988-05-17</td>\n",
       "      <td>FRA</td>\n",
       "    </tr>\n",
       "    <tr>\n",
       "      <th>534</th>\n",
       "      <td>535</td>\n",
       "      <td>H. Dalbert</td>\n",
       "      <td>18</td>\n",
       "      <td>Déf.</td>\n",
       "      <td>1993-09-08</td>\n",
       "      <td>BRE</td>\n",
       "    </tr>\n",
       "    <tr>\n",
       "      <th>535</th>\n",
       "      <td>536</td>\n",
       "      <td>N. Diallo</td>\n",
       "      <td>18</td>\n",
       "      <td>Déf.</td>\n",
       "      <td>1996-03-29</td>\n",
       "      <td>FRA</td>\n",
       "    </tr>\n",
       "    <tr>\n",
       "      <th>536</th>\n",
       "      <td>537</td>\n",
       "      <td>F. Maouassa</td>\n",
       "      <td>18</td>\n",
       "      <td>Déf.</td>\n",
       "      <td>1998-07-06</td>\n",
       "      <td>FRA</td>\n",
       "    </tr>\n",
       "    <tr>\n",
       "      <th>537</th>\n",
       "      <td>538</td>\n",
       "      <td>G. Nyamsi</td>\n",
       "      <td>18</td>\n",
       "      <td>Déf.</td>\n",
       "      <td>1997-01-22</td>\n",
       "      <td>FRA</td>\n",
       "    </tr>\n",
       "    <tr>\n",
       "      <th>538</th>\n",
       "      <td>539</td>\n",
       "      <td>W. Omari</td>\n",
       "      <td>18</td>\n",
       "      <td>Déf.</td>\n",
       "      <td>2000-04-23</td>\n",
       "      <td>FRA</td>\n",
       "    </tr>\n",
       "    <tr>\n",
       "      <th>539</th>\n",
       "      <td>540</td>\n",
       "      <td>B. Soppy</td>\n",
       "      <td>18</td>\n",
       "      <td>Déf.</td>\n",
       "      <td>2002-02-21</td>\n",
       "      <td>FRA</td>\n",
       "    </tr>\n",
       "    <tr>\n",
       "      <th>540</th>\n",
       "      <td>541</td>\n",
       "      <td>H. Traoré</td>\n",
       "      <td>18</td>\n",
       "      <td>Déf.</td>\n",
       "      <td>1992-01-27</td>\n",
       "      <td>MLI</td>\n",
       "    </tr>\n",
       "    <tr>\n",
       "      <th>541</th>\n",
       "      <td>542</td>\n",
       "      <td>A. Truffert</td>\n",
       "      <td>18</td>\n",
       "      <td>Déf.</td>\n",
       "      <td>2001-11-20</td>\n",
       "      <td>FRA</td>\n",
       "    </tr>\n",
       "    <tr>\n",
       "      <th>542</th>\n",
       "      <td>543</td>\n",
       "      <td>B. Bourigeaud</td>\n",
       "      <td>18</td>\n",
       "      <td>Mil.</td>\n",
       "      <td>1994-01-14</td>\n",
       "      <td>FRA</td>\n",
       "    </tr>\n",
       "    <tr>\n",
       "      <th>543</th>\n",
       "      <td>544</td>\n",
       "      <td>E. Camavinga</td>\n",
       "      <td>18</td>\n",
       "      <td>Mil.</td>\n",
       "      <td>2002-11-10</td>\n",
       "      <td>FRA</td>\n",
       "    </tr>\n",
       "    <tr>\n",
       "      <th>544</th>\n",
       "      <td>545</td>\n",
       "      <td>C. Grenier</td>\n",
       "      <td>18</td>\n",
       "      <td>Mil.</td>\n",
       "      <td>1991-01-07</td>\n",
       "      <td>FRA</td>\n",
       "    </tr>\n",
       "    <tr>\n",
       "      <th>545</th>\n",
       "      <td>546</td>\n",
       "      <td>J. Léa-Siliki</td>\n",
       "      <td>18</td>\n",
       "      <td>Mil.</td>\n",
       "      <td>1996-06-12</td>\n",
       "      <td>FRA</td>\n",
       "    </tr>\n",
       "    <tr>\n",
       "      <th>546</th>\n",
       "      <td>547</td>\n",
       "      <td>J. Martin</td>\n",
       "      <td>18</td>\n",
       "      <td>Mil.</td>\n",
       "      <td>1990-04-09</td>\n",
       "      <td>FRA</td>\n",
       "    </tr>\n",
       "    <tr>\n",
       "      <th>547</th>\n",
       "      <td>548</td>\n",
       "      <td>S. Nzonzi</td>\n",
       "      <td>18</td>\n",
       "      <td>Mil.</td>\n",
       "      <td>1988-12-15</td>\n",
       "      <td>FRA</td>\n",
       "    </tr>\n",
       "    <tr>\n",
       "      <th>548</th>\n",
       "      <td>549</td>\n",
       "      <td>F. Tait</td>\n",
       "      <td>18</td>\n",
       "      <td>Mil.</td>\n",
       "      <td>1993-02-02</td>\n",
       "      <td>FRA</td>\n",
       "    </tr>\n",
       "    <tr>\n",
       "      <th>549</th>\n",
       "      <td>550</td>\n",
       "      <td>L. Ugochukwu</td>\n",
       "      <td>18</td>\n",
       "      <td>Mil.</td>\n",
       "      <td>2004-03-26</td>\n",
       "      <td>FRA</td>\n",
       "    </tr>\n",
       "    <tr>\n",
       "      <th>550</th>\n",
       "      <td>551</td>\n",
       "      <td>R. Del Castillo</td>\n",
       "      <td>18</td>\n",
       "      <td>Att.</td>\n",
       "      <td>1996-03-29</td>\n",
       "      <td>FRA</td>\n",
       "    </tr>\n",
       "    <tr>\n",
       "      <th>551</th>\n",
       "      <td>552</td>\n",
       "      <td>J. Doku</td>\n",
       "      <td>18</td>\n",
       "      <td>Att.</td>\n",
       "      <td>2002-05-27</td>\n",
       "      <td>BEL</td>\n",
       "    </tr>\n",
       "    <tr>\n",
       "      <th>552</th>\n",
       "      <td>553</td>\n",
       "      <td>G. Gboho</td>\n",
       "      <td>18</td>\n",
       "      <td>Att.</td>\n",
       "      <td>2001-01-14</td>\n",
       "      <td>FRA</td>\n",
       "    </tr>\n",
       "    <tr>\n",
       "      <th>553</th>\n",
       "      <td>554</td>\n",
       "      <td>S. Guirassy</td>\n",
       "      <td>18</td>\n",
       "      <td>Att.</td>\n",
       "      <td>1996-03-12</td>\n",
       "      <td>FRA</td>\n",
       "    </tr>\n",
       "    <tr>\n",
       "      <th>554</th>\n",
       "      <td>555</td>\n",
       "      <td>A. Hunou</td>\n",
       "      <td>18</td>\n",
       "      <td>Att.</td>\n",
       "      <td>1994-01-19</td>\n",
       "      <td>FRA</td>\n",
       "    </tr>\n",
       "    <tr>\n",
       "      <th>555</th>\n",
       "      <td>556</td>\n",
       "      <td>M. Terrier</td>\n",
       "      <td>18</td>\n",
       "      <td>Att.</td>\n",
       "      <td>1997-03-04</td>\n",
       "      <td>FRA</td>\n",
       "    </tr>\n",
       "    <tr>\n",
       "      <th>556</th>\n",
       "      <td>557</td>\n",
       "      <td>S. Bajic</td>\n",
       "      <td>19</td>\n",
       "      <td>Gar.</td>\n",
       "      <td>2001-12-23</td>\n",
       "      <td>FRA</td>\n",
       "    </tr>\n",
       "    <tr>\n",
       "      <th>557</th>\n",
       "      <td>558</td>\n",
       "      <td>B. Fall</td>\n",
       "      <td>19</td>\n",
       "      <td>Gar.</td>\n",
       "      <td>2001-02-03</td>\n",
       "      <td>SEN</td>\n",
       "    </tr>\n",
       "    <tr>\n",
       "      <th>558</th>\n",
       "      <td>559</td>\n",
       "      <td>E. Green</td>\n",
       "      <td>19</td>\n",
       "      <td>Gar.</td>\n",
       "      <td>2000-07-19</td>\n",
       "      <td>FRA</td>\n",
       "    </tr>\n",
       "    <tr>\n",
       "      <th>559</th>\n",
       "      <td>560</td>\n",
       "      <td>J. Moulin</td>\n",
       "      <td>19</td>\n",
       "      <td>Gar.</td>\n",
       "      <td>1986-01-13</td>\n",
       "      <td>FRA</td>\n",
       "    </tr>\n",
       "    <tr>\n",
       "      <th>560</th>\n",
       "      <td>561</td>\n",
       "      <td>A. Bakayoko</td>\n",
       "      <td>19</td>\n",
       "      <td>Déf.</td>\n",
       "      <td>2002-12-15</td>\n",
       "      <td>CIV</td>\n",
       "    </tr>\n",
       "    <tr>\n",
       "      <th>561</th>\n",
       "      <td>562</td>\n",
       "      <td>P. Cissé</td>\n",
       "      <td>19</td>\n",
       "      <td>Déf.</td>\n",
       "      <td>1995-09-14</td>\n",
       "      <td>SEN</td>\n",
       "    </tr>\n",
       "    <tr>\n",
       "      <th>562</th>\n",
       "      <td>563</td>\n",
       "      <td>M. Debuchy</td>\n",
       "      <td>19</td>\n",
       "      <td>Déf.</td>\n",
       "      <td>1985-07-28</td>\n",
       "      <td>FRA</td>\n",
       "    </tr>\n",
       "    <tr>\n",
       "      <th>563</th>\n",
       "      <td>564</td>\n",
       "      <td>S. Karamoko</td>\n",
       "      <td>19</td>\n",
       "      <td>Déf.</td>\n",
       "      <td>1999-10-10</td>\n",
       "      <td>FRA</td>\n",
       "    </tr>\n",
       "    <tr>\n",
       "      <th>564</th>\n",
       "      <td>565</td>\n",
       "      <td>T. Kolodziejczak</td>\n",
       "      <td>19</td>\n",
       "      <td>Déf.</td>\n",
       "      <td>1991-10-01</td>\n",
       "      <td>FRA</td>\n",
       "    </tr>\n",
       "    <tr>\n",
       "      <th>565</th>\n",
       "      <td>566</td>\n",
       "      <td>Y. Maçon</td>\n",
       "      <td>19</td>\n",
       "      <td>Déf.</td>\n",
       "      <td>1998-10-01</td>\n",
       "      <td>FRA</td>\n",
       "    </tr>\n",
       "    <tr>\n",
       "      <th>566</th>\n",
       "      <td>567</td>\n",
       "      <td>H. Moukoudi</td>\n",
       "      <td>19</td>\n",
       "      <td>Déf.</td>\n",
       "      <td>1997-11-27</td>\n",
       "      <td>FRA</td>\n",
       "    </tr>\n",
       "    <tr>\n",
       "      <th>567</th>\n",
       "      <td>568</td>\n",
       "      <td>P. Retsos</td>\n",
       "      <td>19</td>\n",
       "      <td>Déf.</td>\n",
       "      <td>1998-08-09</td>\n",
       "      <td>GRE</td>\n",
       "    </tr>\n",
       "    <tr>\n",
       "      <th>568</th>\n",
       "      <td>569</td>\n",
       "      <td>G. Silva</td>\n",
       "      <td>19</td>\n",
       "      <td>Déf.</td>\n",
       "      <td>1991-05-13</td>\n",
       "      <td>BRE</td>\n",
       "    </tr>\n",
       "    <tr>\n",
       "      <th>569</th>\n",
       "      <td>570</td>\n",
       "      <td>N. Sissoko</td>\n",
       "      <td>19</td>\n",
       "      <td>Déf.</td>\n",
       "      <td>1997-03-07</td>\n",
       "      <td>FRA</td>\n",
       "    </tr>\n",
       "    <tr>\n",
       "      <th>570</th>\n",
       "      <td>571</td>\n",
       "      <td>R. Souici</td>\n",
       "      <td>19</td>\n",
       "      <td>Déf.</td>\n",
       "      <td>1998-02-28</td>\n",
       "      <td>FRA</td>\n",
       "    </tr>\n",
       "    <tr>\n",
       "      <th>571</th>\n",
       "      <td>572</td>\n",
       "      <td>S. Sow</td>\n",
       "      <td>19</td>\n",
       "      <td>Déf.</td>\n",
       "      <td>2002-07-04</td>\n",
       "      <td>FRA</td>\n",
       "    </tr>\n",
       "    <tr>\n",
       "      <th>572</th>\n",
       "      <td>573</td>\n",
       "      <td>M. Trauco</td>\n",
       "      <td>19</td>\n",
       "      <td>Déf.</td>\n",
       "      <td>1992-08-25</td>\n",
       "      <td>PER</td>\n",
       "    </tr>\n",
       "    <tr>\n",
       "      <th>573</th>\n",
       "      <td>574</td>\n",
       "      <td>M. Tshibuabua</td>\n",
       "      <td>19</td>\n",
       "      <td>Déf.</td>\n",
       "      <td>2002-01-08</td>\n",
       "      <td>FRA</td>\n",
       "    </tr>\n",
       "    <tr>\n",
       "      <th>574</th>\n",
       "      <td>575</td>\n",
       "      <td>A. Aouchiche</td>\n",
       "      <td>19</td>\n",
       "      <td>Mil.</td>\n",
       "      <td>2002-07-15</td>\n",
       "      <td>FRA</td>\n",
       "    </tr>\n",
       "    <tr>\n",
       "      <th>575</th>\n",
       "      <td>576</td>\n",
       "      <td>B. Benkhedim</td>\n",
       "      <td>19</td>\n",
       "      <td>Mil.</td>\n",
       "      <td>2001-04-20</td>\n",
       "      <td>FRA</td>\n",
       "    </tr>\n",
       "    <tr>\n",
       "      <th>576</th>\n",
       "      <td>577</td>\n",
       "      <td>R. Boudebouz</td>\n",
       "      <td>19</td>\n",
       "      <td>Mil.</td>\n",
       "      <td>1990-02-19</td>\n",
       "      <td>ALG</td>\n",
       "    </tr>\n",
       "    <tr>\n",
       "      <th>577</th>\n",
       "      <td>578</td>\n",
       "      <td>M. Camara</td>\n",
       "      <td>19</td>\n",
       "      <td>Mil.</td>\n",
       "      <td>1998-06-30</td>\n",
       "      <td>FRA</td>\n",
       "    </tr>\n",
       "    <tr>\n",
       "      <th>578</th>\n",
       "      <td>579</td>\n",
       "      <td>B. Gabard</td>\n",
       "      <td>19</td>\n",
       "      <td>Mil.</td>\n",
       "      <td>2000-01-28</td>\n",
       "      <td>FRA</td>\n",
       "    </tr>\n",
       "    <tr>\n",
       "      <th>579</th>\n",
       "      <td>580</td>\n",
       "      <td>L. Gourna-Douath</td>\n",
       "      <td>19</td>\n",
       "      <td>Mil.</td>\n",
       "      <td>2003-08-06</td>\n",
       "      <td>FRA</td>\n",
       "    </tr>\n",
       "    <tr>\n",
       "      <th>580</th>\n",
       "      <td>581</td>\n",
       "      <td>R. Hamouma</td>\n",
       "      <td>19</td>\n",
       "      <td>Mil.</td>\n",
       "      <td>1987-03-29</td>\n",
       "      <td>FRA</td>\n",
       "    </tr>\n",
       "    <tr>\n",
       "      <th>581</th>\n",
       "      <td>582</td>\n",
       "      <td>K. Monnet-Paquet</td>\n",
       "      <td>19</td>\n",
       "      <td>Mil.</td>\n",
       "      <td>1988-08-19</td>\n",
       "      <td>FRA</td>\n",
       "    </tr>\n",
       "    <tr>\n",
       "      <th>582</th>\n",
       "      <td>583</td>\n",
       "      <td>A. Moueffek</td>\n",
       "      <td>19</td>\n",
       "      <td>Mil.</td>\n",
       "      <td>2001-04-09</td>\n",
       "      <td>FRA</td>\n",
       "    </tr>\n",
       "    <tr>\n",
       "      <th>583</th>\n",
       "      <td>584</td>\n",
       "      <td>Y. Neyou</td>\n",
       "      <td>19</td>\n",
       "      <td>Mil.</td>\n",
       "      <td>1997-01-03</td>\n",
       "      <td>CAM</td>\n",
       "    </tr>\n",
       "    <tr>\n",
       "      <th>584</th>\n",
       "      <td>585</td>\n",
       "      <td>T. Tormin</td>\n",
       "      <td>19</td>\n",
       "      <td>Mil.</td>\n",
       "      <td>2001-06-29</td>\n",
       "      <td>FRA</td>\n",
       "    </tr>\n",
       "    <tr>\n",
       "      <th>585</th>\n",
       "      <td>586</td>\n",
       "      <td>Z. Youssouf</td>\n",
       "      <td>19</td>\n",
       "      <td>Mil.</td>\n",
       "      <td>1999-07-11</td>\n",
       "      <td>FRA</td>\n",
       "    </tr>\n",
       "    <tr>\n",
       "      <th>586</th>\n",
       "      <td>587</td>\n",
       "      <td>C. Abi</td>\n",
       "      <td>19</td>\n",
       "      <td>Att.</td>\n",
       "      <td>2000-04-12</td>\n",
       "      <td>FRA</td>\n",
       "    </tr>\n",
       "    <tr>\n",
       "      <th>587</th>\n",
       "      <td>588</td>\n",
       "      <td>D. Bouanga</td>\n",
       "      <td>19</td>\n",
       "      <td>Att.</td>\n",
       "      <td>1994-11-11</td>\n",
       "      <td>GAB</td>\n",
       "    </tr>\n",
       "    <tr>\n",
       "      <th>588</th>\n",
       "      <td>589</td>\n",
       "      <td>E. Correia</td>\n",
       "      <td>19</td>\n",
       "      <td>Att.</td>\n",
       "      <td>2000-06-06</td>\n",
       "      <td>GUB</td>\n",
       "    </tr>\n",
       "    <tr>\n",
       "      <th>589</th>\n",
       "      <td>590</td>\n",
       "      <td>W. Khazri</td>\n",
       "      <td>19</td>\n",
       "      <td>Att.</td>\n",
       "      <td>1991-02-08</td>\n",
       "      <td>TUN</td>\n",
       "    </tr>\n",
       "    <tr>\n",
       "      <th>590</th>\n",
       "      <td>591</td>\n",
       "      <td>A. Modeste</td>\n",
       "      <td>19</td>\n",
       "      <td>Att.</td>\n",
       "      <td>1988-04-14</td>\n",
       "      <td>FRA</td>\n",
       "    </tr>\n",
       "    <tr>\n",
       "      <th>591</th>\n",
       "      <td>592</td>\n",
       "      <td>A. Nordin</td>\n",
       "      <td>19</td>\n",
       "      <td>Att.</td>\n",
       "      <td>1998-06-17</td>\n",
       "      <td>FRA</td>\n",
       "    </tr>\n",
       "    <tr>\n",
       "      <th>592</th>\n",
       "      <td>593</td>\n",
       "      <td>M. Rivera</td>\n",
       "      <td>19</td>\n",
       "      <td>Att.</td>\n",
       "      <td>2002-05-30</td>\n",
       "      <td>FRA</td>\n",
       "    </tr>\n",
       "    <tr>\n",
       "      <th>593</th>\n",
       "      <td>594</td>\n",
       "      <td>A. Sidibé</td>\n",
       "      <td>19</td>\n",
       "      <td>Att.</td>\n",
       "      <td>2002-02-09</td>\n",
       "      <td>FRA</td>\n",
       "    </tr>\n",
       "    <tr>\n",
       "      <th>594</th>\n",
       "      <td>595</td>\n",
       "      <td>A. Bellaarouch</td>\n",
       "      <td>20</td>\n",
       "      <td>Gar.</td>\n",
       "      <td>2002-01-01</td>\n",
       "      <td>MAR</td>\n",
       "    </tr>\n",
       "    <tr>\n",
       "      <th>595</th>\n",
       "      <td>596</td>\n",
       "      <td>B. Kamara</td>\n",
       "      <td>20</td>\n",
       "      <td>Gar.</td>\n",
       "      <td>1996-10-21</td>\n",
       "      <td>SEN</td>\n",
       "    </tr>\n",
       "    <tr>\n",
       "      <th>596</th>\n",
       "      <td>597</td>\n",
       "      <td>E. Kawashima</td>\n",
       "      <td>20</td>\n",
       "      <td>Gar.</td>\n",
       "      <td>1983-03-20</td>\n",
       "      <td>JAP</td>\n",
       "    </tr>\n",
       "    <tr>\n",
       "      <th>597</th>\n",
       "      <td>598</td>\n",
       "      <td>A. Pierre</td>\n",
       "      <td>20</td>\n",
       "      <td>Gar.</td>\n",
       "      <td>2001-02-25</td>\n",
       "      <td>FRA</td>\n",
       "    </tr>\n",
       "    <tr>\n",
       "      <th>598</th>\n",
       "      <td>599</td>\n",
       "      <td>M. Sels</td>\n",
       "      <td>20</td>\n",
       "      <td>Gar.</td>\n",
       "      <td>1992-02-26</td>\n",
       "      <td>BEL</td>\n",
       "    </tr>\n",
       "    <tr>\n",
       "      <th>599</th>\n",
       "      <td>600</td>\n",
       "      <td>I. Aaneba</td>\n",
       "      <td>20</td>\n",
       "      <td>Déf.</td>\n",
       "      <td>1999-05-29</td>\n",
       "      <td>FRA</td>\n",
       "    </tr>\n",
       "    <tr>\n",
       "      <th>600</th>\n",
       "      <td>601</td>\n",
       "      <td>A. Caci</td>\n",
       "      <td>20</td>\n",
       "      <td>Déf.</td>\n",
       "      <td>1997-07-01</td>\n",
       "      <td>FRA</td>\n",
       "    </tr>\n",
       "    <tr>\n",
       "      <th>601</th>\n",
       "      <td>602</td>\n",
       "      <td>L. Carole</td>\n",
       "      <td>20</td>\n",
       "      <td>Déf.</td>\n",
       "      <td>1991-04-12</td>\n",
       "      <td>FRA</td>\n",
       "    </tr>\n",
       "    <tr>\n",
       "      <th>602</th>\n",
       "      <td>603</td>\n",
       "      <td>A. Djiku</td>\n",
       "      <td>20</td>\n",
       "      <td>Déf.</td>\n",
       "      <td>1994-08-09</td>\n",
       "      <td>FRA</td>\n",
       "    </tr>\n",
       "    <tr>\n",
       "      <th>603</th>\n",
       "      <td>604</td>\n",
       "      <td>M. Elimbi Gilbert</td>\n",
       "      <td>20</td>\n",
       "      <td>Déf.</td>\n",
       "      <td>2003-02-20</td>\n",
       "      <td>FRA</td>\n",
       "    </tr>\n",
       "    <tr>\n",
       "      <th>604</th>\n",
       "      <td>605</td>\n",
       "      <td>F. Guilbert</td>\n",
       "      <td>20</td>\n",
       "      <td>Déf.</td>\n",
       "      <td>1994-12-24</td>\n",
       "      <td>FRA</td>\n",
       "    </tr>\n",
       "    <tr>\n",
       "      <th>605</th>\n",
       "      <td>606</td>\n",
       "      <td>L. Koné</td>\n",
       "      <td>20</td>\n",
       "      <td>Déf.</td>\n",
       "      <td>1989-02-01</td>\n",
       "      <td>CIV</td>\n",
       "    </tr>\n",
       "    <tr>\n",
       "      <th>606</th>\n",
       "      <td>607</td>\n",
       "      <td>S. Mitrovic</td>\n",
       "      <td>20</td>\n",
       "      <td>Déf.</td>\n",
       "      <td>1990-05-22</td>\n",
       "      <td>SER</td>\n",
       "    </tr>\n",
       "    <tr>\n",
       "      <th>607</th>\n",
       "      <td>608</td>\n",
       "      <td>A. Ousmane</td>\n",
       "      <td>20</td>\n",
       "      <td>Déf.</td>\n",
       "      <td>2000-02-22</td>\n",
       "      <td>FRA</td>\n",
       "    </tr>\n",
       "    <tr>\n",
       "      <th>608</th>\n",
       "      <td>609</td>\n",
       "      <td>M. Senaya</td>\n",
       "      <td>20</td>\n",
       "      <td>Déf.</td>\n",
       "      <td>2001-01-28</td>\n",
       "      <td>FRA</td>\n",
       "    </tr>\n",
       "    <tr>\n",
       "      <th>609</th>\n",
       "      <td>610</td>\n",
       "      <td>M. Simakan</td>\n",
       "      <td>20</td>\n",
       "      <td>Déf.</td>\n",
       "      <td>2000-05-03</td>\n",
       "      <td>FRA</td>\n",
       "    </tr>\n",
       "    <tr>\n",
       "      <th>610</th>\n",
       "      <td>611</td>\n",
       "      <td>J. Aholou</td>\n",
       "      <td>20</td>\n",
       "      <td>Mil.</td>\n",
       "      <td>1994-03-20</td>\n",
       "      <td>CIV</td>\n",
       "    </tr>\n",
       "    <tr>\n",
       "      <th>611</th>\n",
       "      <td>612</td>\n",
       "      <td>J. Bellegarde</td>\n",
       "      <td>20</td>\n",
       "      <td>Mil.</td>\n",
       "      <td>1998-06-27</td>\n",
       "      <td>FRA</td>\n",
       "    </tr>\n",
       "    <tr>\n",
       "      <th>612</th>\n",
       "      <td>613</td>\n",
       "      <td>B. Besic</td>\n",
       "      <td>20</td>\n",
       "      <td>Mil.</td>\n",
       "      <td>2002-06-02</td>\n",
       "      <td>BOS</td>\n",
       "    </tr>\n",
       "    <tr>\n",
       "      <th>613</th>\n",
       "      <td>614</td>\n",
       "      <td>M. Chahiri</td>\n",
       "      <td>20</td>\n",
       "      <td>Mil.</td>\n",
       "      <td>1996-07-25</td>\n",
       "      <td>FRA</td>\n",
       "    </tr>\n",
       "    <tr>\n",
       "      <th>614</th>\n",
       "      <td>615</td>\n",
       "      <td>A. Lebeau</td>\n",
       "      <td>20</td>\n",
       "      <td>Mil.</td>\n",
       "      <td>1998-01-26</td>\n",
       "      <td>FRA</td>\n",
       "    </tr>\n",
       "    <tr>\n",
       "      <th>615</th>\n",
       "      <td>616</td>\n",
       "      <td>D. Liénard</td>\n",
       "      <td>20</td>\n",
       "      <td>Mil.</td>\n",
       "      <td>1988-02-13</td>\n",
       "      <td>FRA</td>\n",
       "    </tr>\n",
       "    <tr>\n",
       "      <th>616</th>\n",
       "      <td>617</td>\n",
       "      <td>S. Prcic</td>\n",
       "      <td>20</td>\n",
       "      <td>Mil.</td>\n",
       "      <td>1993-11-20</td>\n",
       "      <td>BOS</td>\n",
       "    </tr>\n",
       "    <tr>\n",
       "      <th>617</th>\n",
       "      <td>618</td>\n",
       "      <td>M. Siby</td>\n",
       "      <td>20</td>\n",
       "      <td>Mil.</td>\n",
       "      <td>1996-07-07</td>\n",
       "      <td>FRA</td>\n",
       "    </tr>\n",
       "    <tr>\n",
       "      <th>618</th>\n",
       "      <td>619</td>\n",
       "      <td>I. Sissoko</td>\n",
       "      <td>20</td>\n",
       "      <td>Mil.</td>\n",
       "      <td>1997-10-27</td>\n",
       "      <td>FRA</td>\n",
       "    </tr>\n",
       "    <tr>\n",
       "      <th>619</th>\n",
       "      <td>620</td>\n",
       "      <td>N. Sommer</td>\n",
       "      <td>20</td>\n",
       "      <td>Mil.</td>\n",
       "      <td>2001-06-17</td>\n",
       "      <td>FRA</td>\n",
       "    </tr>\n",
       "    <tr>\n",
       "      <th>620</th>\n",
       "      <td>621</td>\n",
       "      <td>A. Thomasson</td>\n",
       "      <td>20</td>\n",
       "      <td>Mil.</td>\n",
       "      <td>1993-12-10</td>\n",
       "      <td>FRA</td>\n",
       "    </tr>\n",
       "    <tr>\n",
       "      <th>621</th>\n",
       "      <td>622</td>\n",
       "      <td>L. Ajorque</td>\n",
       "      <td>20</td>\n",
       "      <td>Att.</td>\n",
       "      <td>1994-02-25</td>\n",
       "      <td>FRA</td>\n",
       "    </tr>\n",
       "    <tr>\n",
       "      <th>622</th>\n",
       "      <td>623</td>\n",
       "      <td>H. Diallo</td>\n",
       "      <td>20</td>\n",
       "      <td>Att.</td>\n",
       "      <td>1995-06-15</td>\n",
       "      <td>SEN</td>\n",
       "    </tr>\n",
       "    <tr>\n",
       "      <th>623</th>\n",
       "      <td>624</td>\n",
       "      <td>L. Mothiba</td>\n",
       "      <td>20</td>\n",
       "      <td>Att.</td>\n",
       "      <td>1996-01-28</td>\n",
       "      <td>AFS</td>\n",
       "    </tr>\n",
       "    <tr>\n",
       "      <th>624</th>\n",
       "      <td>625</td>\n",
       "      <td>I. Saadi</td>\n",
       "      <td>20</td>\n",
       "      <td>Att.</td>\n",
       "      <td>1992-02-08</td>\n",
       "      <td>ALG</td>\n",
       "    </tr>\n",
       "    <tr>\n",
       "      <th>625</th>\n",
       "      <td>626</td>\n",
       "      <td>M. Sahi</td>\n",
       "      <td>20</td>\n",
       "      <td>Att.</td>\n",
       "      <td>2001-12-20</td>\n",
       "      <td>MLI</td>\n",
       "    </tr>\n",
       "    <tr>\n",
       "      <th>626</th>\n",
       "      <td>627</td>\n",
       "      <td>A. Waris</td>\n",
       "      <td>20</td>\n",
       "      <td>Att.</td>\n",
       "      <td>1991-09-19</td>\n",
       "      <td>GHA</td>\n",
       "    </tr>\n",
       "    <tr>\n",
       "      <th>627</th>\n",
       "      <td>628</td>\n",
       "      <td>K. Zohi</td>\n",
       "      <td>20</td>\n",
       "      <td>Att.</td>\n",
       "      <td>1996-12-19</td>\n",
       "      <td>CIV</td>\n",
       "    </tr>\n",
       "  </tbody>\n",
       "</table>\n",
       "</div>"
      ],
      "text/plain": [
       "      id                name  team_id position    birthday nationality\n",
       "0      1       P. Bernardoni        1     Gar.  1997-04-18         FRA\n",
       "1      2          L. Butelle        1     Gar.  1983-04-03         FRA\n",
       "2      3         D. Petkovic        1     Gar.  1993-05-25         MNE\n",
       "3      4            A. Bamba        1     Déf.  1990-04-25         CIV\n",
       "4      5             K. Boma        1     Déf.  2002-11-20         FRA\n",
       "5      6             E. Diaw        1     Déf.  1994-12-31         SEN\n",
       "6      7          S. Doumbia        1     Déf.  1996-09-24         CIV\n",
       "7      8           E. Ebosse        1     Déf.  1999-03-11         FRA\n",
       "8      9          V. Manceau        1     Déf.  1989-07-10         FRA\n",
       "9     10         M. Pavlovic        1     Déf.  1990-06-09         CRO\n",
       "10    11           R. Thomas        1     Déf.  1988-06-12         FRA\n",
       "11    12           I. Traoré        1     Déf.  1986-08-18         CIV\n",
       "12    13           I. Amadou        1     Mil.  1993-04-06         FRA\n",
       "13    14          K. Bemanga        1     Mil.  1998-04-20         FRA\n",
       "14    15         A. Bobichon        1     Mil.  1995-09-14         FRA\n",
       "15    16           S. Boufal        1     Mil.  1993-09-17         MAR\n",
       "16    17            J. Cabot        1     Mil.  1994-04-18         FRA\n",
       "17    18          P. Capelle        1     Mil.  1987-04-15         FRA\n",
       "18    19              M. Cho        1     Mil.  2004-01-19         FRA\n",
       "19    20        L. Coulibaly        1     Mil.  1996-04-10         MLI\n",
       "20    21          A. Fulgini        1     Mil.  1996-08-20         FRA\n",
       "21    22          T. Mangani        1     Mil.  1987-04-29         FRA\n",
       "22    23      Z. Ould Khaled        1     Mil.  2000-01-14         FRA\n",
       "23    24     M. Pereira Lage        1     Mil.  1996-11-30         POR\n",
       "24    25            W. Taïbi        1     Mil.  2002-03-07         FRA\n",
       "25    26           R. Alioui        1     Att.  1992-06-18         MAR\n",
       "26    27          S. Bahoken        1     Att.  1992-05-28         CAM\n",
       "27    28            L. Diony        1     Att.  1992-12-20         FRA\n",
       "28    29        F. El-Melali        1     Att.  1997-07-13         ALG\n",
       "29    30            N. Fatar        1     Att.  2002-02-15         FRA\n",
       "30    31          Y. Fortuné        1     Att.  1999-01-30         FRA\n",
       "31    32           S. Thioub        1     Att.  1995-06-01         SEN\n",
       "32    33           B. Costil        2     Gar.  1987-07-03         FRA\n",
       "33    34      D. Lima Semedo        2     Gar.  2002-04-27         FRA\n",
       "34    35           C. Michel        2     Gar.  2000-03-20         BEL\n",
       "35    36          G. Poussin        2     Gar.  1999-01-13         FRA\n",
       "36    37          D. Rouyard        2     Gar.  1999-08-17         FRA\n",
       "37    38           P. Baysse        2     Déf.  1988-05-18         FRA\n",
       "38    39           L. Benito        2     Déf.  1992-01-07         SUI\n",
       "39    40          L. Bessilé        2     Déf.  1999-02-19         FRA\n",
       "40    41     M. Bokélé Mputu        2     Déf.  2000-02-12         FRA\n",
       "41    42          D. Cardoso        2     Déf.  1994-12-13         MAO\n",
       "42    43        V. Jovanovic        2     Déf.  1996-05-17         SER\n",
       "43    44        L. Koscielny        2     Déf.  1985-09-10         FRA\n",
       "44    45          E. Kwateng        2     Déf.  1997-04-09         FRA\n",
       "45    46            E. Mexer        2     Déf.  1988-09-08         MOZ\n",
       "46    47          M. Poundjé        2     Déf.  1992-08-16         FRA\n",
       "47    48              I. Sow        2     Déf.  2001-02-19         FRA\n",
       "48    49             Y. Adli        2     Mil.  2000-07-29         FRA\n",
       "49    50            T. Basic        2     Mil.  1996-11-25         CRO\n",
       "50    51           T. Lacoux        2     Mil.  2002-01-25         FRA\n",
       "51    52              Otavio        2     Mil.  1994-05-04         BRE\n",
       "52    53             J. Seri        2     Mil.  1991-07-19         CIV\n",
       "53    54         I. Sissokho        2     Mil.  2002-01-30         MLI\n",
       "54    55          M. Zerkane        2     Mil.  1999-07-15         FRA\n",
       "55    56            D. Bakwa        2     Att.  2002-08-26         FRA\n",
       "56    57         H. Ben Arfa        2     Att.  1987-03-07         FRA\n",
       "57    58           J. Briand        2     Att.  1985-08-02         FRA\n",
       "58    59      N. De Préville        2     Att.  1991-01-08         FRA\n",
       "59    60  L. Delaurier-Ch...        2     Att.  2002-04-22         FRA\n",
       "60    61           I. Diarra        2     Att.  1998-05-19         FRA\n",
       "61    62            U. Hwang        2     Att.  1992-08-28         CDS\n",
       "62    63             S. Kalu        2     Att.  1997-08-26         NGA\n",
       "63    64             S. Mara        2     Att.  2002-07-30         FRA\n",
       "64    65            R. Oudin        2     Att.  1996-11-18         FRA\n",
       "65    66           A. Traoré        2     Att.  2002-03-07         FRA\n",
       "66    67           S. Cibois        3     Gar.  1998-03-02         FRA\n",
       "67    68           M. Hassen        3     Gar.  1995-03-05         TUN\n",
       "68    69       G. Larsonneur        3     Gar.  1997-02-23         FRA\n",
       "69    70             L. Baal        3     Déf.  1986-05-24         FRA\n",
       "70    71             D. Bain        3     Déf.  1993-07-02         FRA\n",
       "71    72         L. Brassier        3     Déf.  1999-11-02         FRA\n",
       "72    73       B. Chardonnet        3     Déf.  1994-12-22         FRA\n",
       "73    74          J. Duverne        3     Déf.  1997-07-12         FRA\n",
       "74    75       J. Faussurier        3     Déf.  1987-01-14         FRA\n",
       "75    76          C. Hérelle        3     Déf.  1992-08-22         FRA\n",
       "76    77          R. Perraud        3     Déf.  1997-09-22         FRA\n",
       "77    78   R. Pierre-Gabriel        3     Déf.  1998-06-13         FRA\n",
       "78    79         H. Belkebla        3     Mil.  1994-01-28         ALG\n",
       "79    80         K. Benvindo        3     Mil.         nan         FRA\n",
       "80    81             I. Dioh        3     Mil.  1999-01-21         FRA\n",
       "81    82           B. Fadiga        3     Mil.  2001-01-15         FRA\n",
       "82    83           R. Faivre        3     Mil.  1998-07-14         FRA\n",
       "83    84          Jean Lucas        3     Mil.  1998-06-22         BRE\n",
       "84    85            P. Lasne        3     Mil.  1989-01-16         FRA\n",
       "85    86         H. Magnetti        3     Mil.  1998-05-30         FRA\n",
       "86    87            H. Mbock        3     Mil.  1999-12-28         FRA\n",
       "87    88           F. N'Goma        3     Mil.  1993-06-15         FRA\n",
       "88    89    R. Philippoteaux        3     Mil.  1988-03-02         FRA\n",
       "89    90         D. Bangoura        3     Att.  2001-12-27         FRA\n",
       "90    91          I. Cardona        3     Att.  1997-08-08         FRA\n",
       "91    92      G. Charbonnier        3     Att.  1988-12-27         FRA\n",
       "92    93          F. Honorat        3     Att.  1996-08-11         FRA\n",
       "93    94       J. Le Douaron        3     Att.  1998-04-21         FRA\n",
       "94    95           S. Mounié        3     Att.  1994-09-29         BEN\n",
       "95    96          S. Allagbé        4     Gar.  1993-11-22         BEN\n",
       "96    97           L. Ntumba        4     Gar.  2001-01-12         FRA\n",
       "97    98         A. Racioppi        4     Gar.  1998-12-31         SUI\n",
       "98    99             S. Boey        4     Déf.  2000-09-13         FRA\n",
       "99   100           F. Chafik        4     Déf.  1986-10-16         MAR\n",
       "100  101            A. Chala        4     Déf.  1996-05-09         EQU\n",
       "101  102        S. Coulibaly        4     Déf.  1994-09-04         FRA\n",
       "102  103     B. Ecuele Manga        4     Déf.  1988-07-16         GAB\n",
       "103  104           W. Lautoa        4     Déf.  1987-08-25         FRA\n",
       "104  105   G. Ngonda Muzinga        4     Déf.  1994-12-31         RDC\n",
       "105  106        A. Ngouyamsa        4     Déf.  2000-12-21         CAM\n",
       "106  107            J. Panzo        4     Déf.  2000-10-25         ANG\n",
       "107  108             A. Arli        4     Mil.  2003-01-05         TUR\n",
       "108  109           R. Assalé        4     Mil.  1993-11-13         CIV\n",
       "109  110           Y. Benzia        4     Mil.  1994-09-08         ALG\n",
       "110  111           B. Celina        4     Mil.  1996-09-09         KOS\n",
       "111  112           C. Costes        4     Mil.  2002-09-16         FRA\n",
       "112  113      E. Dina Ebimbe        4     Mil.  2000-11-21         FRA\n",
       "113  114             P. Diop        4     Mil.  1997-08-08         SEN\n",
       "114  115            M. Dobre        4     Mil.  1998-08-30         ROU\n",
       "115  116           A. Kamara        4     Mil.  1995-03-07         FRA\n",
       "116  117            J. Marié        4     Mil.  1991-09-29         FRA\n",
       "117  118            D. Ndong        4     Mil.  1994-06-17         GAB\n",
       "118  119      F. Sammaritano        4     Mil.  1986-03-23         FRA\n",
       "119  120        W. Younoussa        4     Mil.  2001-09-09         CAM\n",
       "120  121            A. Zagré        4     Mil.  2001-10-04         FRA\n",
       "121  122            M. Baldé        4     Att.  1995-11-06         GUB\n",
       "122  123         E. Belhadji        4     Att.  2001-06-23         FRA\n",
       "123  124          M. Chouiar        4     Att.  1999-01-23         FRA\n",
       "124  125           M. Konaté        4     Att.  1993-04-03         SEN\n",
       "125  126             J. Siwe        4     Att.  2001-07-29         FRA\n",
       "126  127          W. Farinez        5     Gar.  1998-02-15         VEN\n",
       "127  128             J. Leca        5     Gar.  1985-09-21         FRA\n",
       "128  129           Y. Pandor        5     Gar.  2001-05-01         FRA\n",
       "129  130             L. Badé        5     Déf.  2000-04-11         FRA\n",
       "130  131            I. Boura        5     Déf.  2000-08-14         FRA\n",
       "131  132           J. Clauss        5     Déf.  1992-09-25         FRA\n",
       "132  133           Z. Diallo        5     Déf.  1986-08-13         FRA\n",
       "133  134           S. Fortes        5     Déf.  1992-04-17         CAV\n",
       "134  135           J. Gradit        5     Déf.  1992-11-24         FRA\n",
       "135  136          M. Haïdara        5     Déf.  1992-12-02         MLI\n",
       "136  137           O. Kamara        5     Déf.  2004-12-29         FRA\n",
       "137  138           F. Medina        5     Déf.  1999-05-28         ARG\n",
       "138  139         C. Michelin        5     Déf.  1997-05-11         FRA\n",
       "139  140            I. Sylla        5     Déf.  1993-01-01         GUI\n",
       "140  141           C. Traoré        5     Déf.  1995-03-31         MLI\n",
       "141  142          Y. Cahuzac        5     Mil.  1985-01-18         FRA\n",
       "142  143           B. Camara        5     Mil.         nan         FRA\n",
       "143  144         C. Doucouré        5     Mil.  2000-01-08         MLI\n",
       "144  145           S. Fofana        5     Mil.  1995-05-07         CIV\n",
       "145  146           G. Kakuta        5     Mil.  1991-06-21         RDC\n",
       "146  147          A. Louveau        5     Mil.  2000-02-01         FRA\n",
       "147  148         T. Mauricio        5     Mil.  1994-03-22         FRA\n",
       "148  149          A. Oudjani        5     Mil.  2001-08-29         FRA\n",
       "149  150    D. Pereira Da...        5     Mil.  2001-01-05         POR\n",
       "150  151           J. Varane        5     Mil.  2001-09-09         FRA\n",
       "151  152            S. Banza        5     Att.  1996-08-13         FRA\n",
       "152  153           I. Ganago        5     Att.  1999-02-16         CAM\n",
       "153  154             C. Jean        5     Att.  1995-07-15         FRA\n",
       "154  155       A. Kalimuendo        5     Att.  2002-01-20         FRA\n",
       "155  156           F. Sotoca        5     Att.  1990-10-25         FRA\n",
       "156  157              A. Sow        5     Att.  2000-05-09         SEN\n",
       "157  158        L. Chevalier        6     Gar.  2001-11-06         FRA\n",
       "158  159         O. Karnezis        6     Gar.  1985-07-11         GRE\n",
       "159  160          M. Maignan        6     Gar.  1995-07-03         FRA\n",
       "160  161           S. Botman        6     Déf.  2000-01-12         HOL\n",
       "161  162       I. Bouleghcha        6     Déf.  2002-12-09         FRA\n",
       "162  163         D. Bradaric        6     Déf.  1999-12-10         CRO\n",
       "163  164            T. Djalo        6     Déf.  2000-04-09         POR\n",
       "164  165            J. Fonte        6     Déf.  1983-12-22         POR\n",
       "165  166        N. Innocenti        6     Déf.  2002-02-19         FRA\n",
       "166  167          R. Mandava        6     Déf.  1994-01-21         MOZ\n",
       "167  168             J. Pied        6     Déf.  1989-02-23         FRA\n",
       "168  169            M. Çelik        6     Déf.  1997-02-17         TUR\n",
       "169  170            B. André        6     Mil.  1990-08-03         FRA\n",
       "170  171           R. Ascone        6     Mil.  2003-09-12         FRA\n",
       "171  172            J. Bamba        6     Mil.  1996-03-26         FRA\n",
       "172  173           A. Camara        6     Mil.  2001-05-20         GUI\n",
       "173  174             M. Kapi        6     Mil.  2002-08-08         TUR\n",
       "174  175          E. Pizzuto        6     Mil.  2002-05-13         MEX\n",
       "175  176          R. Sanches        6     Mil.  1997-08-18         POR\n",
       "176  177          B. Soumaré        6     Mil.  1999-02-27         FRA\n",
       "177  178                Xeka        6     Mil.  1994-11-10         POR\n",
       "178  179           Y. Yazici        6     Mil.  1997-01-29         TUR\n",
       "179  180            A. Zekaj        6     Mil.  2000-04-16         SER\n",
       "180  181           L. Araujo        6     Att.  1996-06-02         BRE\n",
       "181  182            J. David        6     Att.  2000-01-14         CAN\n",
       "182  183            J. Ikoné        6     Att.  1998-05-02         FRA\n",
       "183  184           José Bica        6     Att.  2003-06-16         POR\n",
       "184  185          I. Lihadji        6     Att.  2002-04-10         FRA\n",
       "185  186             T. Weah        6     Att.  2000-02-22         USA\n",
       "186  187           B. Yilmaz        6     Att.  1985-07-15         TUR\n",
       "187  188        T. Bartouche        7     Gar.  1997-06-05         FRA\n",
       "188  189          T. Callens        7     Gar.  1998-09-06         FRA\n",
       "189  190           M. Dreyer        7     Gar.  1989-03-20         FRA\n",
       "190  191            P. Nardi        7     Gar.  1994-05-18         FRA\n",
       "191  192          Y. Etienne        7     Déf.  1997-05-19         FRA\n",
       "192  193         T. Fontaine        7     Déf.  1991-05-08         MAD\n",
       "193  194        A. Gravillon        7     Déf.  1998-02-08         FRA\n",
       "194  195         J. Hergault        7     Déf.  1986-04-05         FRA\n",
       "195  196          J. Homawoo        7     Déf.  1997-11-12         FRA\n",
       "196  197            T. Ilori        7     Déf.  1993-02-26         POR\n",
       "197  198          J. Laporte        7     Déf.  1993-11-04         FRA\n",
       "198  199          V. Le Goff        7     Déf.  1989-10-15         FRA\n",
       "199  200           H. Mendes        7     Déf.  1998-05-04         FRA\n",
       "200  201            J. Morel        7     Déf.  1984-04-02         MAD\n",
       "201  202        L. Mouyokolo        7     Déf.  2001-05-22         FRA\n",
       "202  203          M. Saunier        7     Déf.  1990-02-07         FRA\n",
       "203  204          L. Abergel        7     Mil.  1993-02-01         FRA\n",
       "204  205         Q. Boisgard        7     Mil.  1997-03-17         FRA\n",
       "205  206         T. Chalobah        7     Mil.  1999-07-05         ANG\n",
       "206  207        J. Delaplace        7     Mil.  1986-03-20         FRA\n",
       "207  208        A. Laurienté        7     Mil.  1998-12-04         FRA\n",
       "208  209           E. Le Fée        7     Mil.  2000-02-03         FRA\n",
       "209  210          F. Lemoine        7     Mil.  1987-03-13         FRA\n",
       "210  211         S. Marveaux        7     Mil.  1986-04-15         FRA\n",
       "211  212       T. Monconduit        7     Mil.  1991-02-10         FRA\n",
       "212  213            F. Wadja        7     Mil.  1994-11-30         CAM\n",
       "213  214           S. Diarra        7     Att.  1998-12-09         FRA\n",
       "214  215            A. Grbic        7     Att.  1996-08-04         AUT\n",
       "215  216            P. Hamel        7     Att.  1994-03-19         FRA\n",
       "216  217            T. Moffi        7     Att.  1999-05-25         NGA\n",
       "217  218            Y. Wissa        7     Att.  1996-09-03         FRA\n",
       "218  219          M. Barcola        8     Gar.  1999-05-14         FRA\n",
       "219  220            A. Lopes        8     Gar.  1990-10-01         POR\n",
       "220  221      J. Pollersbeck        8     Gar.  1994-08-16         ALL\n",
       "221  222             M. Bard        8     Déf.  2000-11-06         FRA\n",
       "222  223         D. Benlamri        8     Déf.  1989-12-25         ALG\n",
       "223  224       M. De Sciglio        8     Déf.  1992-10-20         ITA\n",
       "224  225          J. Denayer        8     Déf.  1995-06-28         BEL\n",
       "225  226         S. Diomandé        8     Déf.  2001-04-09         CIV\n",
       "226  227           L. Dubois        8     Déf.  1994-09-14         FRA\n",
       "227  228            M. Gusto        8     Déf.  2003-05-19         FRA\n",
       "228  229             Marcelo        8     Déf.  1987-05-20         BRE\n",
       "229  230          C. Özkaçar        8     Déf.  2000-10-06         TUR\n",
       "230  231            H. Aouar        8     Mil.  1998-06-30         FRA\n",
       "231  232              Camilo        8     Mil.  1999-02-23         BRE\n",
       "232  233         M. Caqueret        8     Mil.  2000-02-15         FRA\n",
       "233  234           R. Cherki        8     Mil.  2003-08-17         FRA\n",
       "234  235         F. Da Silva        8     Mil.         nan         FRA\n",
       "235  236        B. Guimaraes        8     Mil.  1997-11-16         BRE\n",
       "236  237           T. Mendes        8     Mil.  1992-03-15         BRE\n",
       "237  238          L. Paqueta        8     Mil.  1997-08-27         BRE\n",
       "238  239          Y. Soumaré        8     Mil.  2000-06-23         FRA\n",
       "239  240           M. Cornet        8     Att.  1996-09-27         CIV\n",
       "240  241            M. Depay        8     Att.  1994-02-13         HOL\n",
       "241  242         T. Kadewere        8     Att.  1996-01-05         ZIM\n",
       "242  243          I. Slimani        8     Att.  1988-06-18         ALG\n",
       "243  244      K. Toko Ekambi        8     Att.  1992-09-14         CAM\n",
       "244  245         S. Mandanda        9     Gar.  1985-03-28         FRA\n",
       "245  246   S. Ngapandouetnbu        9     Gar.  2003-04-12         CAM\n",
       "246  247             Y. Pelé        9     Gar.  1982-11-04         FRA\n",
       "247  248            F. Vanni        9     Gar.  2002-07-20         FRA\n",
       "248  249            J. Amavi        9     Déf.  1994-03-09         FRA\n",
       "249  250          L. Balerdi        9     Déf.  1999-01-26         ARG\n",
       "250  251       D. Caleta-Car        9     Déf.  1996-09-17         CRO\n",
       "251  252         A. Gonzalez        9     Déf.  1990-01-08         ESP\n",
       "252  253           B. Kamara        9     Déf.  1999-11-23         FRA\n",
       "253  254           P. Lirola        9     Déf.  1997-08-13         ESP\n",
       "254  255         Y. Nagatomo        9     Déf.  1986-09-12         JAP\n",
       "255  256           L. Perrin        9     Déf.  1998-11-19         FRA\n",
       "256  257          C. Rocchia        9     Déf.  1998-02-10         FRA\n",
       "257  258            H. Sakai        9     Déf.  1990-04-12         JAP\n",
       "258  259         U. Bertelli        9     Mil.  2003-07-15         FRA\n",
       "259  260         M. Cuisance        9     Mil.  1999-08-16         FRA\n",
       "260  261            P. Gueye        9     Mil.  1999-01-24         FRA\n",
       "261  262           S. Khaoui        9     Mil.  1995-04-27         TUN\n",
       "262  263           O. Ntcham        9     Mil.  1996-02-09         FRA\n",
       "263  264            D. Payet        9     Mil.  1987-03-29         FRA\n",
       "264  265          V. Rongier        9     Mil.  1994-12-07         FRA\n",
       "265  266           C. Souaré        9     Mil.  2002-09-03         FRA\n",
       "266  267      O. Targhalline        9     Mil.  2002-05-20         MAR\n",
       "267  268        D. Benedetto        9     Att.  1990-05-17         ARG\n",
       "268  269            A. Dieng        9     Att.  2000-09-01         SEN\n",
       "269  270          V. Germain        9     Att.  1990-04-17         FRA\n",
       "270  271       Luis Henrique        9     Att.  2001-12-14         BRE\n",
       "271  272            A. Milik        9     Att.  1994-02-28         POL\n",
       "272  273          F. Thauvin        9     Att.  1993-01-26         FRA\n",
       "273  274               O. Ba       10     Gar.  2002-06-06         SEN\n",
       "274  275         M. Caillard       10     Gar.  1994-05-12         FRA\n",
       "275  276          A. Oukidja       10     Gar.  1988-07-19         ALG\n",
       "276  277          E. Boahene       10     Déf.  2000-03-06         GHA\n",
       "277  278             J. Boye       10     Déf.  1987-04-23         GHA\n",
       "278  279            D. Bronn       10     Déf.  1995-06-19         TUN\n",
       "279  280            M. Cabit       10     Déf.  1993-06-03         FRA\n",
       "280  281         F. Centonze       10     Déf.  1996-01-16         FRA\n",
       "281  282          T. Delaine       10     Déf.  1992-03-24         FRA\n",
       "282  283           M. Fofana       10     Déf.  1998-01-21         MLI\n",
       "283  284          B. Kouyaté       10     Déf.  1997-04-15         MLI\n",
       "284  285          L. Lacroix       10     Déf.  2003-02-06         FRA\n",
       "285  286             M. Udol       10     Déf.  1996-03-20         FRA\n",
       "286  287           V. Angban       10     Mil.  1996-09-29         CIV\n",
       "287  288            Y. Maziz       10     Mil.  1998-06-24         FRA\n",
       "288  289            H. Maïga       10     Mil.  1996-01-01         CIV\n",
       "289  290          K. N'Doram       10     Mil.  1996-01-22         FRA\n",
       "290  291            V. Pajot       10     Mil.  1990-08-19         FRA\n",
       "291  292             P. Sarr       10     Mil.  2002-09-14         SEN\n",
       "292  293       W. Tchimbembé       10     Mil.  1998-04-21         FRA\n",
       "293  294           B. Traoré       10     Mil.  2001-08-20         MLI\n",
       "294  295          T. Ambrose       10     Att.  1997-03-28         FRA\n",
       "295  296          F. Boulaya       10     Att.  1993-02-25         FRA\n",
       "296  297   V. Dias Goncalves       10     Att.  1996-01-10         CAV\n",
       "297  298            M. Gueye       10     Att.  1998-03-13         SEN\n",
       "298  299       A. Leya Iseka       10     Att.  1997-11-15         BEL\n",
       "299  300          O. Nguette       10     Att.  1994-07-08         SEN\n",
       "300  301            I. Niane       10     Att.  1999-03-11         SEN\n",
       "301  302             P. Yade       10     Att.  2000-01-05         SEN\n",
       "302  303          B. Lecomte       11     Gar.  1991-04-26         FRA\n",
       "303  304          Y. Liénard       11     Gar.         nan         FRA\n",
       "304  305          R. Majecki       11     Gar.  1999-11-16         POL\n",
       "305  306          V. Mannone       11     Gar.  1988-03-02         ITA\n",
       "306  307          R. Aguilar       11     Déf.  1993-04-26         FRA\n",
       "307  308       B. Badiashile       11     Déf.  2001-03-26         FRA\n",
       "308  309      F. Ballo-Touré       11     Déf.  1997-01-03         FRA\n",
       "309  310           A. Disasi       11     Déf.  1998-03-11         FRA\n",
       "310  311          G. Maripan       11     Déf.  1994-05-06         CHL\n",
       "311  312          C. Matsima       11     Déf.  2002-05-15         FRA\n",
       "312  313           D. Sidibé       11     Déf.  1992-07-29         FRA\n",
       "313  314    Y. Aït-Bennasser       11     Mil.  1996-07-07         MAR\n",
       "314  315       Caio Henrique       11     Mil.  1997-07-31         BRE\n",
       "315  316             S. Diop       11     Mil.  2000-06-09         FRA\n",
       "316  317         F. Fabregas       11     Mil.  1987-05-04         ESP\n",
       "317  318           Y. Fofana       11     Mil.  1999-01-10         FRA\n",
       "318  319         A. Golovine       11     Mil.  1996-05-30         RUS\n",
       "319  320         S. Grandsir       11     Mil.  1996-08-14         FRA\n",
       "320  321             F. Luis       11     Mil.  1999-08-19         POR\n",
       "321  322           E. Matazo       11     Mil.  2002-02-15         BEL\n",
       "322  323           E. Millot       11     Mil.  2002-06-17         FRA\n",
       "323  324       A. Tchouaméni       11     Mil.  2000-01-27         FRA\n",
       "324  325       W. Ben Yedder       11     Att.  1990-08-12         FRA\n",
       "325  326           K. Diatta       11     Att.  1999-02-25         SEN\n",
       "326  327         W. Geubbels       11     Att.  2001-08-16         FRA\n",
       "327  328          S. Jovetic       11     Att.  1989-11-02         MNE\n",
       "328  329          G. Martins       11     Att.  1995-05-11         POR\n",
       "329  330         P. Pellegri       11     Att.  2001-03-17         ITA\n",
       "330  331          K. Volland       11     Att.  1992-07-30         ALL\n",
       "331  332          D. Bertaud       12     Gar.  1998-06-06         FRA\n",
       "332  333         M. Carvalho       12     Gar.  1999-04-28         FRA\n",
       "333  334            J. Omlin       12     Gar.  1994-01-10         SUI\n",
       "334  335           D. Congré       12     Déf.  1985-04-05         FRA\n",
       "335  336            N. Cozza       12     Déf.  1999-01-08         FRA\n",
       "336  337           M. Estève       12     Déf.  2002-05-26         FRA\n",
       "337  338           V. Hilton       12     Déf.  1977-09-13         BRE\n",
       "338  339           P. Mendes       12     Déf.  1990-10-01         POR\n",
       "339  340           A. Oyongo       12     Déf.  1991-06-22         CAM\n",
       "340  341           M. Ristic       12     Déf.  1995-10-31         SER\n",
       "341  342          A. Souquet       12     Déf.  1992-02-12         FRA\n",
       "342  343           M. Suarez       12     Déf.  1996-06-24         URU\n",
       "343  344            T. Tamas       12     Déf.  2001-02-20         FRA\n",
       "344  345              Thuler       12     Déf.  1999-03-10         BRE\n",
       "345  346            C. Vidal       12     Déf.  2000-06-18         FRA\n",
       "346  347        S. Benchamma       12     Mil.  2000-06-25         FRA\n",
       "347  348          J. Chotard       12     Mil.  2001-09-24         FRA\n",
       "348  349           S. Delaye       12     Mil.  2002-04-23         FRA\n",
       "349  350            K. Dolly       12     Mil.  1993-01-22         AFS\n",
       "350  351            J. Ferri       12     Mil.  1992-03-12         FRA\n",
       "351  352        D. Le Tallec       12     Mil.  1990-04-19         FRA\n",
       "352  353           F. Mollet       12     Mil.  1991-11-19         FRA\n",
       "353  354           J. Sambia       12     Mil.  1996-09-07         FRA\n",
       "354  355         T. Savanier       12     Mil.  1991-12-22         FRA\n",
       "355  356             S. Wahi       12     Mil.  2003-01-02         FRA\n",
       "356  357           Y. Ammour       12     Att.  1999-05-21         FRA\n",
       "357  358       A. Ben Achour       12     Att.  2002-02-01         FRA\n",
       "358  359           A. Delort       12     Att.  1991-10-09         ALG\n",
       "359  360          G. Laborde       12     Att.  1994-05-03         FRA\n",
       "360  361         B. Makouana       12     Att.  2002-09-28         CON\n",
       "361  362         S. Mavididi       12     Att.  1998-05-31         ANG\n",
       "362  363         P. Skuletic       12     Att.  1990-06-29         SER\n",
       "363  364              I. Yun       12     Att.  1992-03-07         CDS\n",
       "364  365           A. Lafont       13     Gar.  1999-01-23         FRA\n",
       "365  366           D. Petric       13     Gar.  1988-05-24         SLN\n",
       "366  367           D. Appiah       13     Déf.  1992-06-09         FRA\n",
       "367  368           T. Basila       13     Déf.  1999-04-30         FRA\n",
       "368  369      J. Castelletto       13     Déf.  1995-01-26         CAM\n",
       "369  370          S. Corchia       13     Déf.  1990-11-01         FRA\n",
       "370  371            D. Fabio       13     Déf.  1990-07-09         BRE\n",
       "371  372          A. Girotto       13     Déf.  1992-02-17         BRE\n",
       "372  373            B. Mendy       13     Déf.  2000-01-12         FRA\n",
       "373  374          N. Pallois       13     Déf.  1987-09-19         FRA\n",
       "374  375            A. Sylla       13     Déf.  2000-04-10         GUI\n",
       "375  376           C. Traoré       13     Déf.  1992-01-01         MLI\n",
       "376  377         A. Walongwa       13     Déf.  1993-10-15         RDC\n",
       "377  378             L. Blas       13     Mil.  1998-12-31         FRA\n",
       "378  379       P. Chirivella       13     Mil.  1997-05-23         ESP\n",
       "379  380             M. Coco       13     Mil.  1996-06-24         FRA\n",
       "380  381         A. Limbombe       13     Mil.  1994-07-15         BEL\n",
       "381  382            I. Louza       13     Mil.  1999-05-01         FRA\n",
       "382  383           Q. Merlin       13     Mil.  2002-05-16         FRA\n",
       "383  384    R. Pereira de Sa       13     Mil.  1996-12-10         FRA\n",
       "384  385            A. Touré       13     Mil.  1994-03-03         FRA\n",
       "385  386         J. Augustin       13     Att.  1997-06-16         FRA\n",
       "386  387            A. Bamba       13     Att.  1994-05-25         FRA\n",
       "387  388        K. Coulibaly       13     Att.  1991-08-21         MLI\n",
       "388  389            R. Emond       13     Att.  1991-12-05         BEL\n",
       "389  390       R. Kolo Muani       13     Att.  1998-12-05         FRA\n",
       "390  391            B. Ndilu       13     Att.  2000-07-21         FRA\n",
       "391  392            M. Simon       13     Att.  1995-07-12         NGA\n",
       "392  393          W. Benitez       14     Gar.  1993-01-19         ARG\n",
       "393  394        T. Boulhendi       14     Gar.  2001-04-09         FRA\n",
       "394  395        Y. Cardinale       14     Gar.  1994-03-27         FRA\n",
       "395  396          J. Rolland       14     Gar.  2001-03-31         FRA\n",
       "396  397             Y. Atal       14     Déf.  1996-05-17         ALG\n",
       "397  398            R. Bambu       14     Déf.  1997-11-12         BRE\n",
       "398  399          N. Crétier       14     Déf.  2001-11-14         FRA\n",
       "399  400         F. Daniliuc       14     Déf.  2001-04-27         AUT\n",
       "400  401               Dante       14     Déf.  1983-10-18         BRE\n",
       "401  402           H. Kamara       14     Déf.  1994-03-05         FRA\n",
       "402  403          J. Lotomba       14     Déf.  1998-09-29         SUI\n",
       "403  404            S. Nsoki       14     Déf.  1999-04-09         FRA\n",
       "404  405          A. Pelmard       14     Déf.  2000-03-12         FRA\n",
       "405  406  T. Pionnier-Ber...       14     Déf.  2002-01-21         FRA\n",
       "406  407             L. Prso       14     Déf.  2001-01-18         FRA\n",
       "407  408           W. Saliba       14     Déf.  2001-03-24         FRA\n",
       "408  409       S. Ben Seghir       14     Mil.  2003-02-24         FRA\n",
       "409  410         H. Boudaoui       14     Mil.  1999-09-23         ALG\n",
       "410  411             S. Kari       14     Mil.  2002-02-07         FRA\n",
       "411  412       P. Lees-Melou       14     Mil.  1993-05-25         FRA\n",
       "412  413   J. Reine-Adélaïde       14     Mil.  1998-01-17         FRA\n",
       "413  414     M. Schneiderlin       14     Mil.  1989-11-08         FRA\n",
       "414  415         M. Sellouki       14     Mil.         nan         FRA\n",
       "415  416           K. Thuram       14     Mil.  2001-03-26         FRA\n",
       "416  417           J. Todibo       14     Mil.  1999-12-30         FRA\n",
       "417  418        A. Trouillet       14     Mil.  2000-12-23         FRA\n",
       "418  419             P. Wade       14     Mil.  2000-04-17         FRA\n",
       "419  420   A. Claude-Maurice       14     Att.  1998-06-06         FRA\n",
       "420  421          K. Dolberg       14     Att.  1997-10-06         DAN\n",
       "421  422           A. Gouiri       14     Att.  2000-02-16         FRA\n",
       "422  423            R. Lopes       14     Att.  1995-12-28         POR\n",
       "423  424          M. Maolida       14     Att.  1999-02-14         FRA\n",
       "424  425            D. Ndoye       14     Att.  2000-10-25         SUI\n",
       "425  426        A. Parsemain       14     Att.  2002-05-17         FRA\n",
       "426  427           A. Sotona       14     Att.  2002-12-07         IRL\n",
       "427  428         K. Williams       14     Att.  2003-03-12         ANG\n",
       "428  429             L. Dias       15     Gar.  1999-05-22         FRA\n",
       "429  430            A. Nazih       15     Gar.  2002-01-18         FRA\n",
       "430  431           B. Reynet       15     Gar.  1990-10-28         FRA\n",
       "431  432         S. Alakouch       15     Déf.  1998-07-29         FRA\n",
       "432  433         A. Briançon       15     Déf.  1994-11-29         FRA\n",
       "433  434           P. Burner       15     Déf.  1996-04-11         FRA\n",
       "434  435         K. Guessoum       15     Déf.  1999-02-05         FRA\n",
       "435  436           L. Landre       15     Déf.  1992-05-05         FRA\n",
       "436  437          A. Malanda       15     Déf.  2001-10-29         FRA\n",
       "437  438         P. Martinez       15     Déf.  1989-02-21         FRA\n",
       "438  439           B. Meling       15     Déf.  1994-12-17         NOR\n",
       "439  440           F. Miguel       15     Déf.  1996-09-01         FRA\n",
       "440  441          G. Paquiez       15     Déf.  1994-02-15         FRA\n",
       "441  442           R. Ripart       15     Déf.  1993-03-14         FRA\n",
       "442  443             N. Ueda       15     Déf.  1994-10-24         JAP\n",
       "443  444          M. Ahlinvi       15     Mil.  1999-07-02         FRA\n",
       "444  445         Y. Benrahou       15     Mil.  1999-01-24         FRA\n",
       "445  446           L. Buades       15     Mil.  1997-12-28         FRA\n",
       "446  447            A. Cubas       15     Mil.  1996-05-22         PAR\n",
       "447  448            L. Deaux       15     Mil.  1988-12-26         FRA\n",
       "448  449         H. Duljevic       15     Mil.  1993-11-16         BOS\n",
       "449  450         N. Eliasson       15     Mil.  1995-12-07         SUE\n",
       "450  451           Z. Ferhat       15     Mil.  1993-03-01         ALG\n",
       "451  452            L. Fomba       15     Mil.  1998-01-26         FRA\n",
       "452  453             S. Sarr       15     Mil.  1996-06-05         SEN\n",
       "453  454          A. Valerio       15     Mil.  1999-12-11         FRA\n",
       "454  455            K. Aribi       15     Att.  1994-06-24         ALG\n",
       "455  456         S. Ben Amar       15     Att.  1998-03-02         FRA\n",
       "456  457           N. Chadli       15     Att.  2001-07-28         FRA\n",
       "457  458           C. Depres       15     Att.  1994-11-25         FRA\n",
       "458  459         M. Doucouré       15     Att.  2000-05-22         FRA\n",
       "459  460             M. Koné       15     Att.  1997-12-30         SEN\n",
       "460  461          M. Majouga       15     Att.  2001-05-09         FRA\n",
       "461  462             N. Roux       15     Att.  1988-03-01         FRA\n",
       "462  463          D. Franchi       16     Gar.  2002-10-22         ITA\n",
       "463  464        A. Letellier       16     Gar.  1990-12-11         FRA\n",
       "464  465            K. Navas       16     Gar.  1986-12-15         CRI\n",
       "465  466      M. Randriamamy       16     Gar.  2003-04-23         MAD\n",
       "466  467             S. Rico       16     Gar.  1993-09-01         ESP\n",
       "467  468          Y. Saidani       16     Gar.  2001-08-20         FRA\n",
       "468  469           M. Bakker       16     Déf.  2000-06-20         HOL\n",
       "469  470           J. Bernat       16     Déf.  1993-03-01         ESP\n",
       "470  471            C. Dagba       16     Déf.  1998-09-09         FRA\n",
       "471  472           A. Diallo       16     Déf.  1996-05-04         SEN\n",
       "472  473         A. Florenzi       16     Déf.  1991-03-11         ITA\n",
       "473  474           T. Kehrer       16     Déf.  1996-09-21         ALL\n",
       "474  475         P. Kimpembe       16     Déf.  1995-08-13         FRA\n",
       "475  476          L. Kurzawa       16     Déf.  1992-09-04         FRA\n",
       "476  477          Marquinhos       16     Déf.  1994-05-14         BRE\n",
       "477  478          T. Pembélé       16     Déf.  2002-09-09         FRA\n",
       "478  479         A. Di Maria       16     Mil.  1988-02-14         ARG\n",
       "479  480          J. Draxler       16     Mil.  1993-09-20         ALL\n",
       "480  481           I. Gharbi       16     Mil.  2004-04-10         FRA\n",
       "481  482            I. Gueye       16     Mil.  1989-09-26         SEN\n",
       "482  483          A. Herrera       16     Mil.  1989-08-14         ESP\n",
       "483  484           A. Kamara       16     Mil.  2004-11-06         GUI\n",
       "484  485             M. Kapo       16     Mil.  2001-01-19         FRA\n",
       "485  486           E. Michut       16     Mil.  2003-03-04         FRA\n",
       "486  487          L. Paredes       16     Mil.  1994-06-29         ARG\n",
       "487  488          D. Pereira       16     Mil.  1991-09-09         POR\n",
       "488  489             Rafinha       16     Mil.  1993-02-12         BRE\n",
       "489  490        K. Ruiz-Atil       16     Mil.  2002-08-26         FRA\n",
       "490  491          P. Sarabia       16     Mil.  1992-05-11         ESP\n",
       "491  492           X. Simons       16     Mil.  2003-04-21         HOL\n",
       "492  493         M. Verratti       16     Mil.  1992-11-05         ITA\n",
       "493  494           M. Icardi       16     Att.  1993-02-19         ARG\n",
       "494  495             M. Kean       16     Att.  2000-02-28         ITA\n",
       "495  496           K. Mbappé       16     Att.  1998-12-20         FRA\n",
       "496  497           K. Nagera       16     Att.  2002-02-21         FRA\n",
       "497  498              Neymar       16     Att.  1992-02-05         BRE\n",
       "498  499            Y. Diouf       17     Gar.  1999-11-16         FRA\n",
       "499  500           D. Ndiaye       17     Gar.  1999-04-04         FRA\n",
       "500  501        L. Pelletier       17     Gar.  2000-02-03         FRA\n",
       "501  502         P. Rajkovic       17     Gar.  1995-10-31         SER\n",
       "502  503       Y. Abdelhamid       17     Déf.  1987-09-28         MAR\n",
       "503  504          T. De Smet       17     Déf.  1998-06-05         BEL\n",
       "504  505         F. Doucouré       17     Déf.  2001-02-03         MLI\n",
       "505  506             W. Faes       17     Déf.  1998-04-03         BEL\n",
       "506  507            T. Foket       17     Déf.  1994-09-25         BEL\n",
       "507  508            G. Konan       17     Déf.  1995-12-27         CIV\n",
       "508  509            B. Locko       17     Déf.  2002-05-06         FRA\n",
       "509  510          D. Maresic       17     Déf.  1999-09-29         AUT\n",
       "510  511             P. Mbow       17     Déf.  1992-02-07         SEN\n",
       "511  512         E. Valentim       17     Déf.  2000-09-11         FRA\n",
       "512  513          V. Berisha       17     Mil.  1993-02-07         KOS\n",
       "513  514           M. Cafaro       17     Mil.  1997-03-25         FRA\n",
       "514  515          M. Cassama       17     Mil.  1998-02-16         GUB\n",
       "515  516       X. Chavalerin       17     Mil.  1991-03-07         FRA\n",
       "516  517          M. Doumbia       17     Mil.  1994-08-15         MLI\n",
       "517  518          M. Drammeh       17     Mil.  1999-05-15         FRA\n",
       "518  519           D. Kutesa       17     Mil.  1997-12-06         SUI\n",
       "519  520             D. Lopy       17     Mil.  2002-02-02         SEN\n",
       "520  521          M. Munetsi       17     Mil.  1996-06-22         ZIM\n",
       "521  522           M. Sakava       17     Mil.  2000-12-26         CAM\n",
       "522  523           A. Zeneli       17     Mil.  1995-02-25         KOS\n",
       "523  524              B. Dia       17     Att.  1996-11-16         SEN\n",
       "524  525          H. Ekitike       17     Att.  2002-06-20         FRA\n",
       "525  526            A. Flips       17     Att.  2000-01-18         FRA\n",
       "526  527            N. Mbuku       17     Att.  2002-03-16         FRA\n",
       "527  528         K. Sierhuis       17     Att.  1998-04-27         HOL\n",
       "528  529            E. Touré       17     Att.  2001-10-03         MLI\n",
       "529  530            P. Bonet       18     Gar.  2003-02-13         FRA\n",
       "530  531            A. Gomis       18     Gar.  1993-09-05         SEN\n",
       "531  532            R. Salin       18     Gar.  1984-07-29         FRA\n",
       "532  533           N. Aguerd       18     Déf.  1996-03-30         MAR\n",
       "533  534         D. Da Silva       18     Déf.  1988-05-17         FRA\n",
       "534  535          H. Dalbert       18     Déf.  1993-09-08         BRE\n",
       "535  536           N. Diallo       18     Déf.  1996-03-29         FRA\n",
       "536  537         F. Maouassa       18     Déf.  1998-07-06         FRA\n",
       "537  538           G. Nyamsi       18     Déf.  1997-01-22         FRA\n",
       "538  539            W. Omari       18     Déf.  2000-04-23         FRA\n",
       "539  540            B. Soppy       18     Déf.  2002-02-21         FRA\n",
       "540  541           H. Traoré       18     Déf.  1992-01-27         MLI\n",
       "541  542         A. Truffert       18     Déf.  2001-11-20         FRA\n",
       "542  543       B. Bourigeaud       18     Mil.  1994-01-14         FRA\n",
       "543  544        E. Camavinga       18     Mil.  2002-11-10         FRA\n",
       "544  545          C. Grenier       18     Mil.  1991-01-07         FRA\n",
       "545  546       J. Léa-Siliki       18     Mil.  1996-06-12         FRA\n",
       "546  547           J. Martin       18     Mil.  1990-04-09         FRA\n",
       "547  548           S. Nzonzi       18     Mil.  1988-12-15         FRA\n",
       "548  549             F. Tait       18     Mil.  1993-02-02         FRA\n",
       "549  550        L. Ugochukwu       18     Mil.  2004-03-26         FRA\n",
       "550  551     R. Del Castillo       18     Att.  1996-03-29         FRA\n",
       "551  552             J. Doku       18     Att.  2002-05-27         BEL\n",
       "552  553            G. Gboho       18     Att.  2001-01-14         FRA\n",
       "553  554         S. Guirassy       18     Att.  1996-03-12         FRA\n",
       "554  555            A. Hunou       18     Att.  1994-01-19         FRA\n",
       "555  556          M. Terrier       18     Att.  1997-03-04         FRA\n",
       "556  557            S. Bajic       19     Gar.  2001-12-23         FRA\n",
       "557  558             B. Fall       19     Gar.  2001-02-03         SEN\n",
       "558  559            E. Green       19     Gar.  2000-07-19         FRA\n",
       "559  560           J. Moulin       19     Gar.  1986-01-13         FRA\n",
       "560  561         A. Bakayoko       19     Déf.  2002-12-15         CIV\n",
       "561  562            P. Cissé       19     Déf.  1995-09-14         SEN\n",
       "562  563          M. Debuchy       19     Déf.  1985-07-28         FRA\n",
       "563  564         S. Karamoko       19     Déf.  1999-10-10         FRA\n",
       "564  565    T. Kolodziejczak       19     Déf.  1991-10-01         FRA\n",
       "565  566            Y. Maçon       19     Déf.  1998-10-01         FRA\n",
       "566  567         H. Moukoudi       19     Déf.  1997-11-27         FRA\n",
       "567  568           P. Retsos       19     Déf.  1998-08-09         GRE\n",
       "568  569            G. Silva       19     Déf.  1991-05-13         BRE\n",
       "569  570          N. Sissoko       19     Déf.  1997-03-07         FRA\n",
       "570  571           R. Souici       19     Déf.  1998-02-28         FRA\n",
       "571  572              S. Sow       19     Déf.  2002-07-04         FRA\n",
       "572  573           M. Trauco       19     Déf.  1992-08-25         PER\n",
       "573  574       M. Tshibuabua       19     Déf.  2002-01-08         FRA\n",
       "574  575        A. Aouchiche       19     Mil.  2002-07-15         FRA\n",
       "575  576        B. Benkhedim       19     Mil.  2001-04-20         FRA\n",
       "576  577        R. Boudebouz       19     Mil.  1990-02-19         ALG\n",
       "577  578           M. Camara       19     Mil.  1998-06-30         FRA\n",
       "578  579           B. Gabard       19     Mil.  2000-01-28         FRA\n",
       "579  580    L. Gourna-Douath       19     Mil.  2003-08-06         FRA\n",
       "580  581          R. Hamouma       19     Mil.  1987-03-29         FRA\n",
       "581  582    K. Monnet-Paquet       19     Mil.  1988-08-19         FRA\n",
       "582  583         A. Moueffek       19     Mil.  2001-04-09         FRA\n",
       "583  584            Y. Neyou       19     Mil.  1997-01-03         CAM\n",
       "584  585           T. Tormin       19     Mil.  2001-06-29         FRA\n",
       "585  586         Z. Youssouf       19     Mil.  1999-07-11         FRA\n",
       "586  587              C. Abi       19     Att.  2000-04-12         FRA\n",
       "587  588          D. Bouanga       19     Att.  1994-11-11         GAB\n",
       "588  589          E. Correia       19     Att.  2000-06-06         GUB\n",
       "589  590           W. Khazri       19     Att.  1991-02-08         TUN\n",
       "590  591          A. Modeste       19     Att.  1988-04-14         FRA\n",
       "591  592           A. Nordin       19     Att.  1998-06-17         FRA\n",
       "592  593           M. Rivera       19     Att.  2002-05-30         FRA\n",
       "593  594           A. Sidibé       19     Att.  2002-02-09         FRA\n",
       "594  595      A. Bellaarouch       20     Gar.  2002-01-01         MAR\n",
       "595  596           B. Kamara       20     Gar.  1996-10-21         SEN\n",
       "596  597        E. Kawashima       20     Gar.  1983-03-20         JAP\n",
       "597  598           A. Pierre       20     Gar.  2001-02-25         FRA\n",
       "598  599             M. Sels       20     Gar.  1992-02-26         BEL\n",
       "599  600           I. Aaneba       20     Déf.  1999-05-29         FRA\n",
       "600  601             A. Caci       20     Déf.  1997-07-01         FRA\n",
       "601  602           L. Carole       20     Déf.  1991-04-12         FRA\n",
       "602  603            A. Djiku       20     Déf.  1994-08-09         FRA\n",
       "603  604   M. Elimbi Gilbert       20     Déf.  2003-02-20         FRA\n",
       "604  605         F. Guilbert       20     Déf.  1994-12-24         FRA\n",
       "605  606             L. Koné       20     Déf.  1989-02-01         CIV\n",
       "606  607         S. Mitrovic       20     Déf.  1990-05-22         SER\n",
       "607  608          A. Ousmane       20     Déf.  2000-02-22         FRA\n",
       "608  609           M. Senaya       20     Déf.  2001-01-28         FRA\n",
       "609  610          M. Simakan       20     Déf.  2000-05-03         FRA\n",
       "610  611           J. Aholou       20     Mil.  1994-03-20         CIV\n",
       "611  612       J. Bellegarde       20     Mil.  1998-06-27         FRA\n",
       "612  613            B. Besic       20     Mil.  2002-06-02         BOS\n",
       "613  614          M. Chahiri       20     Mil.  1996-07-25         FRA\n",
       "614  615           A. Lebeau       20     Mil.  1998-01-26         FRA\n",
       "615  616          D. Liénard       20     Mil.  1988-02-13         FRA\n",
       "616  617            S. Prcic       20     Mil.  1993-11-20         BOS\n",
       "617  618             M. Siby       20     Mil.  1996-07-07         FRA\n",
       "618  619          I. Sissoko       20     Mil.  1997-10-27         FRA\n",
       "619  620           N. Sommer       20     Mil.  2001-06-17         FRA\n",
       "620  621        A. Thomasson       20     Mil.  1993-12-10         FRA\n",
       "621  622          L. Ajorque       20     Att.  1994-02-25         FRA\n",
       "622  623           H. Diallo       20     Att.  1995-06-15         SEN\n",
       "623  624          L. Mothiba       20     Att.  1996-01-28         AFS\n",
       "624  625            I. Saadi       20     Att.  1992-02-08         ALG\n",
       "625  626             M. Sahi       20     Att.  2001-12-20         MLI\n",
       "626  627            A. Waris       20     Att.  1991-09-19         GHA\n",
       "627  628             K. Zohi       20     Att.  1996-12-19         CIV"
      ]
     },
     "execution_count": 138,
     "metadata": {},
     "output_type": "execute_result"
    }
   ],
   "source": [
    "db.get_df('players')"
   ]
  },
  {
   "cell_type": "markdown",
   "metadata": {},
   "source": [
    "#### create matches table "
   ]
  },
  {
   "cell_type": "code",
   "execution_count": 139,
   "metadata": {},
   "outputs": [
    {
     "data": {
      "text/html": [
       "<div>\n",
       "<style scoped>\n",
       "    .dataframe tbody tr th:only-of-type {\n",
       "        vertical-align: middle;\n",
       "    }\n",
       "\n",
       "    .dataframe tbody tr th {\n",
       "        vertical-align: top;\n",
       "    }\n",
       "\n",
       "    .dataframe thead th {\n",
       "        text-align: right;\n",
       "    }\n",
       "</style>\n",
       "<table border=\"1\" class=\"dataframe\">\n",
       "  <thead>\n",
       "    <tr style=\"text-align: right;\">\n",
       "      <th></th>\n",
       "      <th>date</th>\n",
       "      <th>place</th>\n",
       "      <th>temperature</th>\n",
       "      <th>rainfall</th>\n",
       "    </tr>\n",
       "  </thead>\n",
       "  <tbody>\n",
       "    <tr>\n",
       "      <th>375</th>\n",
       "      <td>2021-05-23T21:00:00+0200</td>\n",
       "      <td>Rennes</td>\n",
       "      <td>18</td>\n",
       "      <td>0</td>\n",
       "    </tr>\n",
       "    <tr>\n",
       "      <th>376</th>\n",
       "      <td>2021-05-23T21:00:00+0200</td>\n",
       "      <td>Nantes</td>\n",
       "      <td>18</td>\n",
       "      <td>0</td>\n",
       "    </tr>\n",
       "    <tr>\n",
       "      <th>377</th>\n",
       "      <td>2021-05-23T21:00:00+0200</td>\n",
       "      <td>Saint-Étienne</td>\n",
       "      <td>18</td>\n",
       "      <td>0</td>\n",
       "    </tr>\n",
       "    <tr>\n",
       "      <th>378</th>\n",
       "      <td>2021-05-23T21:00:00+0200</td>\n",
       "      <td>Reims</td>\n",
       "      <td>18</td>\n",
       "      <td>0</td>\n",
       "    </tr>\n",
       "    <tr>\n",
       "      <th>379</th>\n",
       "      <td>2021-05-23T21:00:00+0200</td>\n",
       "      <td>Strasbourg</td>\n",
       "      <td>18</td>\n",
       "      <td>0</td>\n",
       "    </tr>\n",
       "  </tbody>\n",
       "</table>\n",
       "</div>"
      ],
      "text/plain": [
       "                         date          place  temperature  rainfall\n",
       "375  2021-05-23T21:00:00+0200         Rennes           18         0\n",
       "376  2021-05-23T21:00:00+0200         Nantes           18         0\n",
       "377  2021-05-23T21:00:00+0200  Saint-Étienne           18         0\n",
       "378  2021-05-23T21:00:00+0200          Reims           18         0\n",
       "379  2021-05-23T21:00:00+0200     Strasbourg           18         0"
      ]
     },
     "execution_count": 139,
     "metadata": {},
     "output_type": "execute_result"
    }
   ],
   "source": [
    "df_matches.tail()"
   ]
  },
  {
   "cell_type": "code",
   "execution_count": 140,
   "metadata": {},
   "outputs": [],
   "source": [
    "# insert new row into the table participation preventing dublicates\n",
    "for i in range(len(df_matches)):\n",
    "    date = df_matches.loc[i, 'date']\n",
    "    place = df_matches.loc[i, 'place']\n",
    "    temperature = df_matches.loc[i, 'temperature']\n",
    "    rainfall = df_matches.loc[i, 'rainfall']\n",
    "    \n",
    "    db.cur.execute(\"\"\"INSERT INTO matches(date, place, temperature, rainfall) \n",
    "SELECT \"{}\", \"{}\", \"{}\", \"{}\"\n",
    "WHERE NOT EXISTS(SELECT * FROM matches WHERE date = \"{}\" AND place = \"{}\" AND temperature = \"{}\" \n",
    "AND rainfall = \"{}\");\"\"\"\n",
    "                   .format(date, place, temperature, rainfall, date, place, temperature, rainfall))"
   ]
  },
  {
   "cell_type": "code",
   "execution_count": 142,
   "metadata": {},
   "outputs": [
    {
     "data": {
      "text/plain": [
       "(380, 5)"
      ]
     },
     "execution_count": 142,
     "metadata": {},
     "output_type": "execute_result"
    }
   ],
   "source": [
    "db.get_df('matches').shape"
   ]
  },
  {
   "cell_type": "markdown",
   "metadata": {},
   "source": [
    "#### create matches_teams table "
   ]
  },
  {
   "cell_type": "code",
   "execution_count": 143,
   "metadata": {},
   "outputs": [
    {
     "data": {
      "text/html": [
       "<div>\n",
       "<style scoped>\n",
       "    .dataframe tbody tr th:only-of-type {\n",
       "        vertical-align: middle;\n",
       "    }\n",
       "\n",
       "    .dataframe tbody tr th {\n",
       "        vertical-align: top;\n",
       "    }\n",
       "\n",
       "    .dataframe thead th {\n",
       "        text-align: right;\n",
       "    }\n",
       "</style>\n",
       "<table border=\"1\" class=\"dataframe\">\n",
       "  <thead>\n",
       "    <tr style=\"text-align: right;\">\n",
       "      <th></th>\n",
       "      <th>date</th>\n",
       "      <th>place</th>\n",
       "      <th>team</th>\n",
       "      <th>team_goal</th>\n",
       "      <th>players</th>\n",
       "    </tr>\n",
       "  </thead>\n",
       "  <tbody>\n",
       "    <tr>\n",
       "      <th>0</th>\n",
       "      <td>2020-08-21T19:00:00+0200</td>\n",
       "      <td>Bordeaux</td>\n",
       "      <td>Bordeaux</td>\n",
       "      <td>0</td>\n",
       "      <td>[]</td>\n",
       "    </tr>\n",
       "    <tr>\n",
       "      <th>1</th>\n",
       "      <td>2020-08-21T19:00:00+0200</td>\n",
       "      <td>Bordeaux</td>\n",
       "      <td>Nantes</td>\n",
       "      <td>0</td>\n",
       "      <td>[]</td>\n",
       "    </tr>\n",
       "    <tr>\n",
       "      <th>2</th>\n",
       "      <td>2020-08-22T17:00:00+0200</td>\n",
       "      <td>Dijon</td>\n",
       "      <td>Dijon</td>\n",
       "      <td>0</td>\n",
       "      <td>[]</td>\n",
       "    </tr>\n",
       "    <tr>\n",
       "      <th>3</th>\n",
       "      <td>2020-08-22T17:00:00+0200</td>\n",
       "      <td>Dijon</td>\n",
       "      <td>Angers</td>\n",
       "      <td>1</td>\n",
       "      <td>[I. Traoré]</td>\n",
       "    </tr>\n",
       "    <tr>\n",
       "      <th>4</th>\n",
       "      <td>2020-08-22T21:00:00+0200</td>\n",
       "      <td>Lille</td>\n",
       "      <td>Rennes</td>\n",
       "      <td>1</td>\n",
       "      <td>[D. Da Silva]</td>\n",
       "    </tr>\n",
       "  </tbody>\n",
       "</table>\n",
       "</div>"
      ],
      "text/plain": [
       "                       date     place      team team_goal        players\n",
       "0  2020-08-21T19:00:00+0200  Bordeaux  Bordeaux         0             []\n",
       "1  2020-08-21T19:00:00+0200  Bordeaux    Nantes         0             []\n",
       "2  2020-08-22T17:00:00+0200     Dijon     Dijon         0             []\n",
       "3  2020-08-22T17:00:00+0200     Dijon    Angers         1    [I. Traoré]\n",
       "4  2020-08-22T21:00:00+0200     Lille    Rennes         1  [D. Da Silva]"
      ]
     },
     "execution_count": 143,
     "metadata": {},
     "output_type": "execute_result"
    }
   ],
   "source": [
    "df_matches_teams.head()"
   ]
  },
  {
   "cell_type": "code",
   "execution_count": 144,
   "metadata": {},
   "outputs": [],
   "source": [
    "# insert new row into the table participation preventing dublicates\n",
    "for i in range(len(df_matches_teams)):\n",
    "    match_id = db.cur.execute(\"SELECT id FROM matches WHERE date = '{}' AND place = '{}';\".format(\n",
    "        df_matches_teams.loc[i, 'date'], df_matches_teams.loc[i, 'place'])).fetchone()[0]\n",
    "    team_id = db.cur.execute(\"SELECT id FROM teams WHERE city = '{}';\".format(\n",
    "        df_matches_teams.loc[i, 'team'])).fetchone()[0]\n",
    "    home = df_matches_teams.loc[i, 'team'] == df_matches_teams.loc[i, 'place']\n",
    "    team_goal = df_matches_teams.loc[i, 'team_goal']\n",
    "    points = 99\n",
    "    #print(name, team_id, position, birthday, nationality)\n",
    "    \n",
    "    db.cur.execute(\"\"\"INSERT INTO matches_teams(match_id, team_id, home, team_goal, points) \n",
    "SELECT \"{}\", \"{}\", \"{}\", \"{}\", \"{}\" \n",
    "WHERE NOT EXISTS(SELECT * FROM matches_teams WHERE match_id = \"{}\" AND team_id = \"{}\" AND home = \"{}\" \n",
    "AND team_goal = \"{}\" AND points = \"{}\");\"\"\"\n",
    "                   .format(match_id, team_id, home, team_goal, points, match_id, team_id, home, team_goal, points))"
   ]
  },
  {
   "cell_type": "code",
   "execution_count": 145,
   "metadata": {},
   "outputs": [
    {
     "data": {
      "text/html": [
       "<div>\n",
       "<style scoped>\n",
       "    .dataframe tbody tr th:only-of-type {\n",
       "        vertical-align: middle;\n",
       "    }\n",
       "\n",
       "    .dataframe tbody tr th {\n",
       "        vertical-align: top;\n",
       "    }\n",
       "\n",
       "    .dataframe thead th {\n",
       "        text-align: right;\n",
       "    }\n",
       "</style>\n",
       "<table border=\"1\" class=\"dataframe\">\n",
       "  <thead>\n",
       "    <tr style=\"text-align: right;\">\n",
       "      <th></th>\n",
       "      <th>id</th>\n",
       "      <th>match_id</th>\n",
       "      <th>team_id</th>\n",
       "      <th>home</th>\n",
       "      <th>team_goal</th>\n",
       "      <th>points</th>\n",
       "    </tr>\n",
       "  </thead>\n",
       "  <tbody>\n",
       "    <tr>\n",
       "      <th>755</th>\n",
       "      <td>756</td>\n",
       "      <td>373</td>\n",
       "      <td>5</td>\n",
       "      <td>True</td>\n",
       "      <td>0</td>\n",
       "      <td>99</td>\n",
       "    </tr>\n",
       "    <tr>\n",
       "      <th>756</th>\n",
       "      <td>757</td>\n",
       "      <td>372</td>\n",
       "      <td>3</td>\n",
       "      <td>True</td>\n",
       "      <td>0</td>\n",
       "      <td>99</td>\n",
       "    </tr>\n",
       "    <tr>\n",
       "      <th>757</th>\n",
       "      <td>758</td>\n",
       "      <td>371</td>\n",
       "      <td>1</td>\n",
       "      <td>True</td>\n",
       "      <td>1</td>\n",
       "      <td>99</td>\n",
       "    </tr>\n",
       "    <tr>\n",
       "      <th>758</th>\n",
       "      <td>759</td>\n",
       "      <td>379</td>\n",
       "      <td>2</td>\n",
       "      <td>False</td>\n",
       "      <td>2</td>\n",
       "      <td>99</td>\n",
       "    </tr>\n",
       "    <tr>\n",
       "      <th>759</th>\n",
       "      <td>760</td>\n",
       "      <td>380</td>\n",
       "      <td>7</td>\n",
       "      <td>False</td>\n",
       "      <td>1</td>\n",
       "      <td>99</td>\n",
       "    </tr>\n",
       "  </tbody>\n",
       "</table>\n",
       "</div>"
      ],
      "text/plain": [
       "      id  match_id  team_id   home  team_goal  points\n",
       "755  756       373        5   True          0      99\n",
       "756  757       372        3   True          0      99\n",
       "757  758       371        1   True          1      99\n",
       "758  759       379        2  False          2      99\n",
       "759  760       380        7  False          1      99"
      ]
     },
     "execution_count": 145,
     "metadata": {},
     "output_type": "execute_result"
    }
   ],
   "source": [
    "db.get_df('matches_teams').tail()"
   ]
  },
  {
   "cell_type": "markdown",
   "metadata": {},
   "source": [
    "#### create goals table "
   ]
  },
  {
   "cell_type": "code",
   "execution_count": 146,
   "metadata": {},
   "outputs": [
    {
     "name": "stdout",
     "output_type": "stream",
     "text": [
      "Missing players number - 18\n",
      "K. Denkey:Nîmes\n",
      "A. Scheidler:Dijon\n",
      "J. Maja:Bordeaux\n",
      "M. Sanson:Marseille\n",
      "Raphinha:Rennes\n",
      "J. Maja:Bordeaux\n",
      "Pablo:Marseille\n",
      "K. Lala:Strasbourg\n",
      "M. Sanson:Marseille\n",
      "K. Lala:Strasbourg\n",
      "M. Dembélé:Lyon\n",
      "M. Niang:Rennes\n",
      "Pablo:Bordeaux\n",
      "K. Lala:Strasbourg\n",
      "N. Radonjic:Marseille\n",
      "N. Radonjic:Marseille\n",
      "D. Pereira Da Costa:Lens\n",
      "Y. Sabaly:Bordeaux\n"
     ]
    }
   ],
   "source": [
    "# insert new row into the table participation preventing dublicates\n",
    "count = 0\n",
    "players_not_in_list_names = []\n",
    "players_not_in_list_clubs = []\n",
    "for i in range(len(df_matches_teams)):\n",
    "    club = df_matches_teams.loc[i, 'team']\n",
    "    for player_name in df_matches_teams.loc[i, 'players']:\n",
    "        try:\n",
    "            player_id = db.cur.execute(\n",
    "                \"\"\"SELECT id FROM players WHERE name = \"{}\";\"\"\".format(\n",
    "                    player_name)).fetchone()[0]\n",
    "        except:\n",
    "            players_not_in_list_names.append(player_name)\n",
    "            players_not_in_list_clubs.append(club)\n",
    "            count += 1\n",
    "            \n",
    "print(f'Missing players number - {count}')\n",
    "\n",
    "# insert new row into the table participation preventing dublicates\n",
    "for (name, club) in zip(players_not_in_list_names, players_not_in_list_clubs):\n",
    "    print(\"{}:{}\".format(name, club))\n",
    "    team_id = db.cur.execute(\n",
    "        \"SELECT id FROM teams WHERE city = '{}';\".format(club)).fetchone()[0]\n",
    "    position = None\n",
    "    birthday = None\n",
    "    nationality = None\n",
    "\n",
    "    db.cur.execute(\n",
    "        \"\"\"INSERT INTO players(name, team_id, position, birthday, nationality) \n",
    "SELECT \"{}\", \"{}\", \"{}\", \"{}\", \"{}\" \n",
    "WHERE NOT EXISTS(SELECT * FROM players WHERE name = \"{}\" AND team_id = \"{}\" AND position = \"{}\" \n",
    "AND birthday = \"{}\" AND nationality = \"{}\");\"\"\".format(name, team_id, position,\n",
    "                                                       birthday, nationality,\n",
    "                                                       name, team_id, position,\n",
    "                                                       birthday, nationality))"
   ]
  },
  {
   "cell_type": "code",
   "execution_count": 149,
   "metadata": {},
   "outputs": [
    {
     "data": {
      "text/plain": [
       "(641, 6)"
      ]
     },
     "execution_count": 149,
     "metadata": {},
     "output_type": "execute_result"
    }
   ],
   "source": [
    "db.get_df('players').shape"
   ]
  },
  {
   "cell_type": "code",
   "execution_count": 150,
   "metadata": {},
   "outputs": [],
   "source": [
    "for i in range(len(df_matches_teams)):\n",
    "    club = df_matches_teams.loc[i, 'team']\n",
    "    for player_name in df_matches_teams.loc[i, 'players']:\n",
    "        player_id = db.cur.execute(\n",
    "            \"\"\"SELECT id FROM players WHERE name = \"{}\";\"\"\".format(\n",
    "                player_name)).fetchone()[0]\n",
    "        match_id = db.cur.execute(\n",
    "            \"SELECT id FROM matches WHERE date = '{}' AND place = '{}';\".\n",
    "            format(df_matches_teams.loc[i, 'date'],\n",
    "                   df_matches_teams.loc[i, 'place'])).fetchone()[0]\n",
    "        goal_type = 'Normal'\n",
    "        db.cur.execute(\"\"\"INSERT INTO goals(player_id, match_id, goal_type) \n",
    "    VALUES (\"{}\", \"{}\", \"{}\" );\"\"\"\n",
    "                       .format(player_id, match_id, goal_type, player_id,\n",
    "                               match_id, goal_type))"
   ]
  },
  {
   "cell_type": "code",
   "execution_count": 151,
   "metadata": {},
   "outputs": [
    {
     "data": {
      "text/plain": [
       "(1049, 4)"
      ]
     },
     "execution_count": 151,
     "metadata": {},
     "output_type": "execute_result"
    }
   ],
   "source": [
    "db.get_df('goals').shape"
   ]
  },
  {
   "cell_type": "code",
   "execution_count": null,
   "metadata": {},
   "outputs": [],
   "source": []
  }
 ],
 "metadata": {
  "kernelspec": {
   "display_name": "Python 3",
   "language": "python",
   "name": "python3"
  },
  "language_info": {
   "codemirror_mode": {
    "name": "ipython",
    "version": 3
   },
   "file_extension": ".py",
   "mimetype": "text/x-python",
   "name": "python",
   "nbconvert_exporter": "python",
   "pygments_lexer": "ipython3",
   "version": "3.8.5"
  },
  "toc": {
   "base_numbering": 1,
   "nav_menu": {},
   "number_sections": true,
   "sideBar": true,
   "skip_h1_title": true,
   "title_cell": "Table of Contents",
   "title_sidebar": "Contents",
   "toc_cell": true,
   "toc_position": {},
   "toc_section_display": true,
   "toc_window_display": true
  }
 },
 "nbformat": 4,
 "nbformat_minor": 4
}
